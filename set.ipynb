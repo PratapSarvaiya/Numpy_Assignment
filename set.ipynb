{
 "cells": [
  {
   "cell_type": "code",
   "execution_count": null,
   "id": "59069f6a-5f9c-453a-a259-12bd29bae30d",
   "metadata": {},
   "outputs": [],
   "source": [
    "# Set data type :-- 1] no duplicate / all elements are unique\n",
    "                    2] Mutable\n",
    "                    3] Un-orderd\n",
    "                    4] Hetrogeneus"
   ]
  },
  {
   "cell_type": "code",
   "execution_count": 1,
   "id": "231374ef-80f7-4efe-80bb-c95f79f3b404",
   "metadata": {},
   "outputs": [
    {
     "name": "stdout",
     "output_type": "stream",
     "text": [
      "{1, 2, 3, 5}\n",
      "<class 'set'>\n"
     ]
    }
   ],
   "source": [
    "my_set = {1,2,3,5}\n",
    "print(my_set)\n",
    "print(type(my_set))"
   ]
  },
  {
   "cell_type": "code",
   "execution_count": 4,
   "id": "9486116f-7b3c-4099-a68f-4c0320bb0a8c",
   "metadata": {},
   "outputs": [
    {
     "name": "stdout",
     "output_type": "stream",
     "text": [
      "{1, 2, 4, 5, 7, 9}\n",
      "<class 'set'>\n"
     ]
    }
   ],
   "source": [
    "# ensures that there are not duplicate ::-- one value is not repeat ordered set\n",
    "\n",
    "s1 = {1,4,5,2,1,9,7,4,1}\n",
    "print(s1)\n",
    "print(type(s1))"
   ]
  },
  {
   "cell_type": "code",
   "execution_count": 5,
   "id": "b110488d-3a30-4ec3-9245-3e94718ee1db",
   "metadata": {},
   "outputs": [
    {
     "name": "stdout",
     "output_type": "stream",
     "text": [
      "set()\n",
      "<class 'set'>\n"
     ]
    }
   ],
   "source": [
    "# Empty set\n",
    "\n",
    "s2 = set()\n",
    "print(s2)\n",
    "print(type(s2))"
   ]
  },
  {
   "cell_type": "code",
   "execution_count": null,
   "id": "56e4c060-7571-40dd-b752-da37cc916f82",
   "metadata": {},
   "outputs": [],
   "source": [
    "s3 = set({5,6,7})\n",
    "print(s3)"
   ]
  },
  {
   "cell_type": "code",
   "execution_count": 7,
   "id": "ac4ec197-484b-4300-afbe-dfe0a7dcdddc",
   "metadata": {},
   "outputs": [
    {
     "name": "stdout",
     "output_type": "stream",
     "text": [
      "{13, 69, 12, 5}\n"
     ]
    }
   ],
   "source": [
    "# undorderd data set\n",
    "\n",
    "s = set()\n",
    "\n",
    "s.add(5)\n",
    "s.add(12)\n",
    "s.add(13)\n",
    "s.add(5)\n",
    "s.add(69)\n",
    "print(s)"
   ]
  },
  {
   "cell_type": "code",
   "execution_count": 8,
   "id": "a0299f84-b3b4-4a86-aa18-ed5ca2b38dc1",
   "metadata": {},
   "outputs": [
    {
     "name": "stdout",
     "output_type": "stream",
     "text": [
      "None\n",
      "{9, 3, 4}\n"
     ]
    }
   ],
   "source": [
    "# Remove\n",
    "\n",
    "s1 = {3,9,7,4}\n",
    "print(s1.discard(7))\n",
    "print(s1)\n",
    "\n"
   ]
  },
  {
   "cell_type": "code",
   "execution_count": 11,
   "id": "aabe0cc1-d817-4940-8009-197e254deb0e",
   "metadata": {},
   "outputs": [
    {
     "ename": "KeyError",
     "evalue": "12",
     "output_type": "error",
     "traceback": [
      "\u001b[1;31m---------------------------------------------------------------------------\u001b[0m",
      "\u001b[1;31mKeyError\u001b[0m                                  Traceback (most recent call last)",
      "Cell \u001b[1;32mIn[11], line 1\u001b[0m\n\u001b[1;32m----> 1\u001b[0m \u001b[43ms1\u001b[49m\u001b[38;5;241;43m.\u001b[39;49m\u001b[43mremove\u001b[49m\u001b[43m(\u001b[49m\u001b[38;5;241;43m12\u001b[39;49m\u001b[43m)\u001b[49m\n\u001b[0;32m      2\u001b[0m \u001b[38;5;28mprint\u001b[39m(s1)\n",
      "\u001b[1;31mKeyError\u001b[0m: 12"
     ]
    }
   ],
   "source": [
    "# if element is set not then error show but discard is not error\n",
    "s1.remove(12)\n",
    "print(s1)"
   ]
  },
  {
   "cell_type": "code",
   "execution_count": 12,
   "id": "9ac1cba1-6257-44e1-8ad2-f28e9a6ed0d4",
   "metadata": {},
   "outputs": [
    {
     "name": "stdout",
     "output_type": "stream",
     "text": [
      "frozenset({1, 2, 3})\n",
      "<class 'frozenset'>\n"
     ]
    }
   ],
   "source": [
    "# Frozenset :- immutable set\n",
    "\n",
    "fs = frozenset([1,2,3])\n",
    "print(fs)\n",
    "print(type(fs))"
   ]
  },
  {
   "cell_type": "code",
   "execution_count": 13,
   "id": "7db9b3c4-1916-421c-8706-643706da40d9",
   "metadata": {},
   "outputs": [
    {
     "name": "stdout",
     "output_type": "stream",
     "text": [
      "frozenset({1, 2, 3})\n"
     ]
    }
   ],
   "source": [
    "fs2 = frozenset({1,2,3})\n",
    "print(fs2)"
   ]
  },
  {
   "cell_type": "code",
   "execution_count": 14,
   "id": "c0c9795f-9ffb-4ece-9e57-13f23e81f99e",
   "metadata": {},
   "outputs": [
    {
     "name": "stdout",
     "output_type": "stream",
     "text": [
      "{frozenset({1, 2, 3}): 'Pratap'}\n"
     ]
    }
   ],
   "source": [
    "dict1 = {fs2 :\"Pratap\"}\n",
    "print(dict1)"
   ]
  },
  {
   "cell_type": "code",
   "execution_count": 15,
   "id": "3793c0bc-4c32-4dbc-a1d5-afc5a4374cf0",
   "metadata": {},
   "outputs": [
    {
     "name": "stdout",
     "output_type": "stream",
     "text": [
      "11.5\n"
     ]
    }
   ],
   "source": [
    "# Type casting :- Implicit,explicit\n",
    "\n",
    "x = 5\n",
    "y = 6.5\n",
    "result = x+y\n",
    "print(result)"
   ]
  },
  {
   "cell_type": "code",
   "execution_count": 16,
   "id": "b9192ea0-3b81-408d-a72a-673e1a549361",
   "metadata": {},
   "outputs": [
    {
     "name": "stdout",
     "output_type": "stream",
     "text": [
      "<class 'str'>\n",
      "<class 'int'>\n"
     ]
    }
   ],
   "source": [
    "# int type casting\n",
    "\n",
    "y='10'\n",
    "print(type(y))\n",
    "int_y = int(y)\n",
    "print(type(int_y))"
   ]
  },
  {
   "cell_type": "code",
   "execution_count": 17,
   "id": "a46bf612-e269-4684-bbc4-d6224c0733ba",
   "metadata": {},
   "outputs": [
    {
     "data": {
      "text/plain": [
       "0.0"
      ]
     },
     "execution_count": 17,
     "metadata": {},
     "output_type": "execute_result"
    }
   ],
   "source": [
    "str()\n",
    "int()\n",
    "float()"
   ]
  },
  {
   "cell_type": "code",
   "execution_count": 18,
   "id": "62dbb1e8-e154-4afb-b323-af96a4d627d2",
   "metadata": {},
   "outputs": [
    {
     "ename": "ValueError",
     "evalue": "invalid literal for int() with base 10: 'one'",
     "output_type": "error",
     "traceback": [
      "\u001b[1;31m---------------------------------------------------------------------------\u001b[0m",
      "\u001b[1;31mValueError\u001b[0m                                Traceback (most recent call last)",
      "Cell \u001b[1;32mIn[18], line 2\u001b[0m\n\u001b[0;32m      1\u001b[0m data \u001b[38;5;241m=\u001b[39m \u001b[38;5;124m'\u001b[39m\u001b[38;5;124mone\u001b[39m\u001b[38;5;124m'\u001b[39m\n\u001b[1;32m----> 2\u001b[0m \u001b[38;5;28mprint\u001b[39m(\u001b[38;5;28;43mint\u001b[39;49m\u001b[43m(\u001b[49m\u001b[43mdata\u001b[49m\u001b[43m)\u001b[49m)\n",
      "\u001b[1;31mValueError\u001b[0m: invalid literal for int() with base 10: 'one'"
     ]
    }
   ],
   "source": [
    "# Incompitable\n",
    "\n",
    "data = 'one'\n",
    "print(int(data))"
   ]
  },
  {
   "cell_type": "code",
   "execution_count": null,
   "id": "8a7f1031-758f-443b-b4e8-3879edf1aead",
   "metadata": {},
   "outputs": [],
   "source": []
  }
 ],
 "metadata": {
  "kernelspec": {
   "display_name": "Python 3 (ipykernel)",
   "language": "python",
   "name": "python3"
  },
  "language_info": {
   "codemirror_mode": {
    "name": "ipython",
    "version": 3
   },
   "file_extension": ".py",
   "mimetype": "text/x-python",
   "name": "python",
   "nbconvert_exporter": "python",
   "pygments_lexer": "ipython3",
   "version": "3.10.11"
  }
 },
 "nbformat": 4,
 "nbformat_minor": 5
}
