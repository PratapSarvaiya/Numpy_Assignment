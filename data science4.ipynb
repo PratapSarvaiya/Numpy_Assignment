{
 "cells": [
  {
   "cell_type": "code",
   "execution_count": 1,
   "id": "90abd88e-db40-4b12-8e1b-34f18564beb0",
   "metadata": {},
   "outputs": [
    {
     "data": {
      "text/plain": [
       "['aabra ka dabra', 'jeeta tha jiska liye', 'muje pine ka sokh nahi']"
      ]
     },
     "execution_count": 1,
     "metadata": {},
     "output_type": "execute_result"
    }
   ],
   "source": [
    "song = [\"jeeta tha jiska liye\",\"muje pine ka sokh nahi\",\"aabra ka dabra\"]\n",
    "sorted(song)"
   ]
  },
  {
   "cell_type": "code",
   "execution_count": 2,
   "id": "fdb86847-e334-4896-befd-fa767f43a677",
   "metadata": {},
   "outputs": [
    {
     "data": {
      "text/plain": [
       "['muje pine ka sokh nahi', 'jeeta tha jiska liye', 'aabra ka dabra']"
      ]
     },
     "execution_count": 2,
     "metadata": {},
     "output_type": "execute_result"
    }
   ],
   "source": [
    "#extra mile\n",
    "\n",
    "sorted(song,reverse = True,key=len)"
   ]
  },
  {
   "cell_type": "code",
   "execution_count": null,
   "id": "57a078e7-14b4-4527-9a4c-06b63055c70d",
   "metadata": {},
   "outputs": [],
   "source": [
    "# deep copy and shallow copy\n",
    "deep copy: when you change in one variable,the change will not "
   ]
  },
  {
   "cell_type": "code",
   "execution_count": 3,
   "id": "174a798c-5b6e-4bb5-acfa-56c56adecdec",
   "metadata": {},
   "outputs": [],
   "source": [
    "kirti = [\"a\",\"b\",\"a\",\"b\"]\n",
    "ajay=kirti   # shallow copy >>change will reflect in other variable >> cheat streaming"
   ]
  },
  {
   "cell_type": "code",
   "execution_count": 4,
   "id": "3bbf6a7c-ea96-44ac-b530-1f16b4cf021b",
   "metadata": {},
   "outputs": [
    {
     "data": {
      "text/plain": [
       "['a', 'b', 'a', 'b']"
      ]
     },
     "execution_count": 4,
     "metadata": {},
     "output_type": "execute_result"
    }
   ],
   "source": [
    "kirti"
   ]
  },
  {
   "cell_type": "code",
   "execution_count": 5,
   "id": "ba887386-8469-4340-9931-53d191bbab75",
   "metadata": {},
   "outputs": [
    {
     "data": {
      "text/plain": [
       "['a', 'b', 'a', 'b']"
      ]
     },
     "execution_count": 5,
     "metadata": {},
     "output_type": "execute_result"
    }
   ],
   "source": [
    "ajay"
   ]
  },
  {
   "cell_type": "code",
   "execution_count": 6,
   "id": "97705fb7-9b60-4af7-abad-9376b87027d4",
   "metadata": {},
   "outputs": [],
   "source": [
    "kirti[0]=\"d\""
   ]
  },
  {
   "cell_type": "code",
   "execution_count": 7,
   "id": "151c8419-c230-4aaf-a3df-0d361b8fabbc",
   "metadata": {},
   "outputs": [
    {
     "data": {
      "text/plain": [
       "['d', 'b', 'a', 'b']"
      ]
     },
     "execution_count": 7,
     "metadata": {},
     "output_type": "execute_result"
    }
   ],
   "source": [
    "kirti"
   ]
  },
  {
   "cell_type": "code",
   "execution_count": 10,
   "id": "146114b9-f629-4ae4-9572-bf781c74e83c",
   "metadata": {},
   "outputs": [
    {
     "data": {
      "text/plain": [
       "['a', 'b', 'a', 'b']"
      ]
     },
     "execution_count": 10,
     "metadata": {},
     "output_type": "execute_result"
    }
   ],
   "source": [
    "ajay"
   ]
  },
  {
   "cell_type": "code",
   "execution_count": null,
   "id": "06c3510e-ff1b-4ab4-af9d-212e0a3932fd",
   "metadata": {},
   "outputs": [],
   "source": []
  },
  {
   "cell_type": "code",
   "execution_count": null,
   "id": "504b7fb5-da24-43ce-bcc1-8cbe94c41478",
   "metadata": {},
   "outputs": [],
   "source": []
  },
  {
   "cell_type": "code",
   "execution_count": 8,
   "id": "50e83bdc-5905-4c17-b0b1-66b58286cc07",
   "metadata": {},
   "outputs": [],
   "source": [
    "kirti = [\"a\",\"b\",\"a\",\"b\"]\n",
    "ajay=kirti.copy()"
   ]
  },
  {
   "cell_type": "code",
   "execution_count": 9,
   "id": "f9ea3826-08a4-490b-ae62-1b37083a9006",
   "metadata": {},
   "outputs": [
    {
     "data": {
      "text/plain": [
       "['a', 'b', 'a', 'b']"
      ]
     },
     "execution_count": 9,
     "metadata": {},
     "output_type": "execute_result"
    }
   ],
   "source": [
    "ajay"
   ]
  },
  {
   "cell_type": "code",
   "execution_count": 11,
   "id": "2a44cf6f-d564-42bd-9860-0998718691be",
   "metadata": {},
   "outputs": [
    {
     "data": {
      "text/plain": [
       "['a', 'b', 'a', 'b']"
      ]
     },
     "execution_count": 11,
     "metadata": {},
     "output_type": "execute_result"
    }
   ],
   "source": [
    "kirti"
   ]
  },
  {
   "cell_type": "code",
   "execution_count": 12,
   "id": "28bfaebf-8412-44bf-af20-6df9b80d2b3f",
   "metadata": {},
   "outputs": [],
   "source": [
    "kirti[0]=\"d\""
   ]
  },
  {
   "cell_type": "code",
   "execution_count": 13,
   "id": "f6f0190c-4873-4f75-8d1e-be45227574ba",
   "metadata": {},
   "outputs": [
    {
     "data": {
      "text/plain": [
       "['d', 'b', 'a', 'b']"
      ]
     },
     "execution_count": 13,
     "metadata": {},
     "output_type": "execute_result"
    }
   ],
   "source": [
    "kirti"
   ]
  },
  {
   "cell_type": "code",
   "execution_count": 14,
   "id": "1f118e16-875e-48f9-9f83-838516e8b581",
   "metadata": {},
   "outputs": [
    {
     "data": {
      "text/plain": [
       "['a', 'b', 'a', 'b']"
      ]
     },
     "execution_count": 14,
     "metadata": {},
     "output_type": "execute_result"
    }
   ],
   "source": [
    "ajay"
   ]
  },
  {
   "cell_type": "code",
   "execution_count": 15,
   "id": "759ec2a7-3ee4-43c9-9505-2e64076f00ce",
   "metadata": {},
   "outputs": [],
   "source": [
    "prices = [10,20,30,40]\n",
    "double = []\n",
    "for i in prices:\n",
    "    double.append(i*2)"
   ]
  },
  {
   "cell_type": "code",
   "execution_count": 16,
   "id": "7de8653e-9653-42fb-9b59-c7b9c5519881",
   "metadata": {},
   "outputs": [
    {
     "data": {
      "text/plain": [
       "[20, 40, 60, 80]"
      ]
     },
     "execution_count": 16,
     "metadata": {},
     "output_type": "execute_result"
    }
   ],
   "source": [
    "double"
   ]
  },
  {
   "cell_type": "code",
   "execution_count": 17,
   "id": "fbb14c2c-1ff7-4736-90bd-da9ae47ef966",
   "metadata": {},
   "outputs": [
    {
     "data": {
      "text/plain": [
       "[20, 40, 60, 80]"
      ]
     },
     "execution_count": 17,
     "metadata": {},
     "output_type": "execute_result"
    }
   ],
   "source": [
    "[price*2 for price in prices]"
   ]
  },
  {
   "cell_type": "code",
   "execution_count": null,
   "id": "d2c786e5-4554-4dba-8ee9-67d3762bca67",
   "metadata": {},
   "outputs": [],
   "source": [
    "# find all number divisible by 7 between 1,1000 in list"
   ]
  },
  {
   "cell_type": "code",
   "execution_count": 20,
   "id": "955bb45e-d25c-4a2b-b768-72adddd392d9",
   "metadata": {},
   "outputs": [],
   "source": [
    "sol = [n for n in range(1,1000)if n%7==0]"
   ]
  },
  {
   "cell_type": "code",
   "execution_count": 21,
   "id": "db5ed8e6-eee9-445c-98f5-d70fd0c28072",
   "metadata": {},
   "outputs": [
    {
     "data": {
      "text/plain": [
       "[7,\n",
       " 14,\n",
       " 21,\n",
       " 28,\n",
       " 35,\n",
       " 42,\n",
       " 49,\n",
       " 56,\n",
       " 63,\n",
       " 70,\n",
       " 77,\n",
       " 84,\n",
       " 91,\n",
       " 98,\n",
       " 105,\n",
       " 112,\n",
       " 119,\n",
       " 126,\n",
       " 133,\n",
       " 140,\n",
       " 147,\n",
       " 154,\n",
       " 161,\n",
       " 168,\n",
       " 175,\n",
       " 182,\n",
       " 189,\n",
       " 196,\n",
       " 203,\n",
       " 210,\n",
       " 217,\n",
       " 224,\n",
       " 231,\n",
       " 238,\n",
       " 245,\n",
       " 252,\n",
       " 259,\n",
       " 266,\n",
       " 273,\n",
       " 280,\n",
       " 287,\n",
       " 294,\n",
       " 301,\n",
       " 308,\n",
       " 315,\n",
       " 322,\n",
       " 329,\n",
       " 336,\n",
       " 343,\n",
       " 350,\n",
       " 357,\n",
       " 364,\n",
       " 371,\n",
       " 378,\n",
       " 385,\n",
       " 392,\n",
       " 399,\n",
       " 406,\n",
       " 413,\n",
       " 420,\n",
       " 427,\n",
       " 434,\n",
       " 441,\n",
       " 448,\n",
       " 455,\n",
       " 462,\n",
       " 469,\n",
       " 476,\n",
       " 483,\n",
       " 490,\n",
       " 497,\n",
       " 504,\n",
       " 511,\n",
       " 518,\n",
       " 525,\n",
       " 532,\n",
       " 539,\n",
       " 546,\n",
       " 553,\n",
       " 560,\n",
       " 567,\n",
       " 574,\n",
       " 581,\n",
       " 588,\n",
       " 595,\n",
       " 602,\n",
       " 609,\n",
       " 616,\n",
       " 623,\n",
       " 630,\n",
       " 637,\n",
       " 644,\n",
       " 651,\n",
       " 658,\n",
       " 665,\n",
       " 672,\n",
       " 679,\n",
       " 686,\n",
       " 693,\n",
       " 700,\n",
       " 707,\n",
       " 714,\n",
       " 721,\n",
       " 728,\n",
       " 735,\n",
       " 742,\n",
       " 749,\n",
       " 756,\n",
       " 763,\n",
       " 770,\n",
       " 777,\n",
       " 784,\n",
       " 791,\n",
       " 798,\n",
       " 805,\n",
       " 812,\n",
       " 819,\n",
       " 826,\n",
       " 833,\n",
       " 840,\n",
       " 847,\n",
       " 854,\n",
       " 861,\n",
       " 868,\n",
       " 875,\n",
       " 882,\n",
       " 889,\n",
       " 896,\n",
       " 903,\n",
       " 910,\n",
       " 917,\n",
       " 924,\n",
       " 931,\n",
       " 938,\n",
       " 945,\n",
       " 952,\n",
       " 959,\n",
       " 966,\n",
       " 973,\n",
       " 980,\n",
       " 987,\n",
       " 994]"
      ]
     },
     "execution_count": 21,
     "metadata": {},
     "output_type": "execute_result"
    }
   ],
   "source": [
    "sol"
   ]
  },
  {
   "cell_type": "code",
   "execution_count": 24,
   "id": "cb7aedb2-1cfd-41bf-a757-324f6acdd57b",
   "metadata": {},
   "outputs": [
    {
     "name": "stdout",
     "output_type": "stream",
     "text": [
      "12\n"
     ]
    }
   ],
   "source": [
    "# count the number of spaces in a string\n",
    "\n",
    "string= \"monjulika is my love but i hater her because her ex is kakuda\"\n",
    "spaces = [s for s in string if s==\" \"]\n",
    "print(len(spaces))"
   ]
  },
  {
   "cell_type": "code",
   "execution_count": null,
   "id": "f22d32e5-c6ab-4134-9fb4-3681ce02c7d4",
   "metadata": {},
   "outputs": [],
   "source": [
    "# using a list comprehension find all the number from 1 to 1000 that are divisible by any single digit from 2 to 9 "
   ]
  },
  {
   "cell_type": "code",
   "execution_count": 25,
   "id": "14b18dc6-02e3-4b26-b71f-6653b17408a7",
   "metadata": {},
   "outputs": [
    {
     "data": {
      "text/plain": [
       "tuple"
      ]
     },
     "execution_count": 25,
     "metadata": {},
     "output_type": "execute_result"
    }
   ],
   "source": [
    "# tuples are ordered collection of elements>> hetrogeneus\n",
    "# tuples are immutable\n",
    "\n",
    "t= ()\n",
    "type(t)"
   ]
  },
  {
   "cell_type": "code",
   "execution_count": 29,
   "id": "3fd7de4b-0e4c-4623-9bcd-1dd9ea6ba178",
   "metadata": {},
   "outputs": [
    {
     "data": {
      "text/plain": [
       "(1, 2.2, 'Monjo', True, None)"
      ]
     },
     "execution_count": 29,
     "metadata": {},
     "output_type": "execute_result"
    }
   ],
   "source": [
    "t = (1,2.2,\"Monjo\",True,None)\n",
    "t"
   ]
  },
  {
   "cell_type": "code",
   "execution_count": 30,
   "id": "203b195e-ad3d-4061-bd83-8575449501f4",
   "metadata": {},
   "outputs": [],
   "source": [
    "s = \"ram123\""
   ]
  },
  {
   "cell_type": "code",
   "execution_count": 31,
   "id": "c8719b65-6bb2-442d-80bd-ee5552a330ac",
   "metadata": {},
   "outputs": [
    {
     "data": {
      "text/plain": [
       "1"
      ]
     },
     "execution_count": 31,
     "metadata": {},
     "output_type": "execute_result"
    }
   ],
   "source": [
    "t[0]"
   ]
  },
  {
   "cell_type": "code",
   "execution_count": 32,
   "id": "ec2a3ba0-a20d-49a4-9d68-ad8ce11bb865",
   "metadata": {},
   "outputs": [],
   "source": [
    "t[-1]"
   ]
  },
  {
   "cell_type": "code",
   "execution_count": 33,
   "id": "c7a26d8d-48e4-4f65-9def-5077e448bd80",
   "metadata": {},
   "outputs": [
    {
     "ename": "TypeError",
     "evalue": "'tuple' object does not support item assignment",
     "output_type": "error",
     "traceback": [
      "\u001b[1;31m---------------------------------------------------------------------------\u001b[0m",
      "\u001b[1;31mTypeError\u001b[0m                                 Traceback (most recent call last)",
      "Cell \u001b[1;32mIn[33], line 1\u001b[0m\n\u001b[1;32m----> 1\u001b[0m \u001b[43mt\u001b[49m\u001b[43m[\u001b[49m\u001b[38;5;241;43m0\u001b[39;49m\u001b[43m]\u001b[49m\u001b[38;5;241m=\u001b[39m\u001b[38;5;241m5\u001b[39m\n",
      "\u001b[1;31mTypeError\u001b[0m: 'tuple' object does not support item assignment"
     ]
    }
   ],
   "source": [
    "t[0]=5  # tuple is immutable"
   ]
  },
  {
   "cell_type": "code",
   "execution_count": null,
   "id": "504deae1-1e39-463d-89f4-cbbd54a059eb",
   "metadata": {},
   "outputs": [],
   "source": [
    "# use case >> immutable\n",
    "# --Immutable data structured is used to store the data which should not be changed ever\n",
    "# ex >>> account number,aadhar number emp id"
   ]
  },
  {
   "cell_type": "code",
   "execution_count": 38,
   "id": "51fc08e8-fd4e-47dd-987a-9898e36aba31",
   "metadata": {},
   "outputs": [
    {
     "data": {
      "text/plain": [
       "(1, 2, 2, 2, 2, 3, 4)"
      ]
     },
     "execution_count": 38,
     "metadata": {},
     "output_type": "execute_result"
    }
   ],
   "source": [
    "t = (1,2,2,2,2,3,4)\n",
    "t"
   ]
  },
  {
   "cell_type": "code",
   "execution_count": 35,
   "id": "eb2e1c99-5b6d-47e6-8206-3b2b992344a5",
   "metadata": {},
   "outputs": [
    {
     "ename": "ValueError",
     "evalue": "tuple.index(x): x not in tuple",
     "output_type": "error",
     "traceback": [
      "\u001b[1;31m---------------------------------------------------------------------------\u001b[0m",
      "\u001b[1;31mValueError\u001b[0m                                Traceback (most recent call last)",
      "Cell \u001b[1;32mIn[35], line 1\u001b[0m\n\u001b[1;32m----> 1\u001b[0m \u001b[43mt\u001b[49m\u001b[38;5;241;43m.\u001b[39;49m\u001b[43mindex\u001b[49m\u001b[43m(\u001b[49m\u001b[38;5;124;43m\"\u001b[39;49m\u001b[38;5;124;43mpwskills\u001b[39;49m\u001b[38;5;124;43m\"\u001b[39;49m\u001b[43m)\u001b[49m\n",
      "\u001b[1;31mValueError\u001b[0m: tuple.index(x): x not in tuple"
     ]
    }
   ],
   "source": [
    "t.index(\"pwskills\")"
   ]
  },
  {
   "cell_type": "code",
   "execution_count": 39,
   "id": "6806049e-8cb0-4203-9267-39c58beec816",
   "metadata": {},
   "outputs": [
    {
     "data": {
      "text/plain": [
       "4"
      ]
     },
     "execution_count": 39,
     "metadata": {},
     "output_type": "execute_result"
    }
   ],
   "source": [
    "t = (1,2,2,2,2,3,4)\n",
    "max(t)"
   ]
  },
  {
   "cell_type": "code",
   "execution_count": 40,
   "id": "f851fe3e-e717-4793-8d48-d9257c391e0a",
   "metadata": {},
   "outputs": [
    {
     "data": {
      "text/plain": [
       "[1, 2, 3, 4, 5]"
      ]
     },
     "execution_count": 40,
     "metadata": {},
     "output_type": "execute_result"
    }
   ],
   "source": [
    "t = (1,2,3,4,5)\n",
    "sorted(t)"
   ]
  },
  {
   "cell_type": "code",
   "execution_count": 41,
   "id": "031682a3-5639-4a38-a526-398b456c954f",
   "metadata": {},
   "outputs": [
    {
     "data": {
      "text/plain": [
       "True"
      ]
     },
     "execution_count": 41,
     "metadata": {},
     "output_type": "execute_result"
    }
   ],
   "source": [
    "1 in t"
   ]
  },
  {
   "cell_type": "code",
   "execution_count": 42,
   "id": "7c2c5783-2711-4420-8776-b8a3ff5b67f7",
   "metadata": {},
   "outputs": [
    {
     "data": {
      "text/plain": [
       "(1, 2, 3, 4, 5, 6)"
      ]
     },
     "execution_count": 42,
     "metadata": {},
     "output_type": "execute_result"
    }
   ],
   "source": [
    "t = (1,2,3)\n",
    "t1=(4,5,6)\n",
    "t+t1"
   ]
  },
  {
   "cell_type": "code",
   "execution_count": 43,
   "id": "cef8dcfb-7a7b-4e4d-a79c-9c3e0bb1dab3",
   "metadata": {},
   "outputs": [
    {
     "data": {
      "text/plain": [
       "((1, 2, 3), (4, 5, 6))"
      ]
     },
     "execution_count": 43,
     "metadata": {},
     "output_type": "execute_result"
    }
   ],
   "source": [
    "t = ((1,2,3),(4,5,6))\n",
    "t"
   ]
  },
  {
   "cell_type": "code",
   "execution_count": 44,
   "id": "67d7f53c-cc14-49df-b200-313d6e53e6c7",
   "metadata": {},
   "outputs": [
    {
     "data": {
      "text/plain": [
       "2"
      ]
     },
     "execution_count": 44,
     "metadata": {},
     "output_type": "execute_result"
    }
   ],
   "source": [
    "t[0][1]"
   ]
  },
  {
   "cell_type": "code",
   "execution_count": 45,
   "id": "b20a5f12-f0a1-42ec-9e00-7ea7c880a300",
   "metadata": {},
   "outputs": [
    {
     "data": {
      "text/plain": [
       "{}"
      ]
     },
     "execution_count": 45,
     "metadata": {},
     "output_type": "execute_result"
    }
   ],
   "source": [
    "# set >> collection of unorderd and unique element\n",
    "\n",
    "s = {}\n",
    "s"
   ]
  },
  {
   "cell_type": "code",
   "execution_count": 46,
   "id": "deaf2cba-ccf4-4bd6-8d85-a1fb22dc3f0f",
   "metadata": {},
   "outputs": [
    {
     "data": {
      "text/plain": [
       "dict"
      ]
     },
     "execution_count": 46,
     "metadata": {},
     "output_type": "execute_result"
    }
   ],
   "source": [
    "type(s)"
   ]
  },
  {
   "cell_type": "code",
   "execution_count": 49,
   "id": "a41171dc-5300-48dc-be53-f8186dad2b86",
   "metadata": {},
   "outputs": [
    {
     "data": {
      "text/plain": [
       "[4, 2, 3]"
      ]
     },
     "execution_count": 49,
     "metadata": {},
     "output_type": "execute_result"
    }
   ],
   "source": [
    "t = (1,2,3)\n",
    "l = list(t)\n",
    "l[0]=4\n",
    "l"
   ]
  },
  {
   "cell_type": "code",
   "execution_count": 47,
   "id": "2f9e7e2a-9c99-4fc4-8ad5-0024573db678",
   "metadata": {},
   "outputs": [
    {
     "data": {
      "text/plain": [
       "{1, 2, 3}"
      ]
     },
     "execution_count": 47,
     "metadata": {},
     "output_type": "execute_result"
    }
   ],
   "source": [
    "s = {1,1,1,2,3}   # set give you unique value\n",
    "s"
   ]
  },
  {
   "cell_type": "code",
   "execution_count": 50,
   "id": "61bd5d3b-855d-47b0-94c8-8f581a19b0c7",
   "metadata": {},
   "outputs": [
    {
     "ename": "TypeError",
     "evalue": "'set' object is not subscriptable",
     "output_type": "error",
     "traceback": [
      "\u001b[1;31m---------------------------------------------------------------------------\u001b[0m",
      "\u001b[1;31mTypeError\u001b[0m                                 Traceback (most recent call last)",
      "Cell \u001b[1;32mIn[50], line 1\u001b[0m\n\u001b[1;32m----> 1\u001b[0m \u001b[43ms\u001b[49m\u001b[43m[\u001b[49m\u001b[38;5;241;43m0\u001b[39;49m\u001b[43m]\u001b[49m\n",
      "\u001b[1;31mTypeError\u001b[0m: 'set' object is not subscriptable"
     ]
    }
   ],
   "source": [
    "s[0]"
   ]
  },
  {
   "cell_type": "code",
   "execution_count": 51,
   "id": "eefa516d-1a8d-4797-a2be-fe74cc6b450f",
   "metadata": {},
   "outputs": [],
   "source": [
    "s.add(100)"
   ]
  },
  {
   "cell_type": "code",
   "execution_count": 52,
   "id": "9e4c62b9-a437-48de-b65d-60eb874918c3",
   "metadata": {},
   "outputs": [
    {
     "data": {
      "text/plain": [
       "{1, 2, 3, 100}"
      ]
     },
     "execution_count": 52,
     "metadata": {},
     "output_type": "execute_result"
    }
   ],
   "source": [
    "s"
   ]
  },
  {
   "cell_type": "code",
   "execution_count": null,
   "id": "4301636c-e5db-4f2b-a98a-2f62937892cc",
   "metadata": {},
   "outputs": [],
   "source": [
    "s.remove()"
   ]
  },
  {
   "cell_type": "code",
   "execution_count": 53,
   "id": "e7563538-2833-492d-942e-db30d41a714b",
   "metadata": {},
   "outputs": [
    {
     "data": {
      "text/plain": [
       "set()"
      ]
     },
     "execution_count": 53,
     "metadata": {},
     "output_type": "execute_result"
    }
   ],
   "source": [
    "s.clear()\n",
    "s"
   ]
  },
  {
   "cell_type": "code",
   "execution_count": null,
   "id": "120a3d4f-ebd4-4690-801b-3c2c52e1ec02",
   "metadata": {},
   "outputs": [],
   "source": [
    "del"
   ]
  },
  {
   "cell_type": "code",
   "execution_count": null,
   "id": "92da3613-72fa-4500-8e31-44e3ab3315c4",
   "metadata": {},
   "outputs": [],
   "source": [
    "#union >> all the elements\n",
    "#intersection >> common elements\n",
    "# difference >> present in first set and not in second\n"
   ]
  },
  {
   "cell_type": "code",
   "execution_count": 54,
   "id": "e00f8dbe-0126-4674-b5c5-d3e5bfeb4918",
   "metadata": {},
   "outputs": [
    {
     "data": {
      "text/plain": [
       "{1, 2, 3, 4, 5, 6}"
      ]
     },
     "execution_count": 54,
     "metadata": {},
     "output_type": "execute_result"
    }
   ],
   "source": [
    "s1 = {1,2,3}\n",
    "s2 = {4,5,6}\n",
    "s1|s2"
   ]
  },
  {
   "cell_type": "code",
   "execution_count": 55,
   "id": "48f5bf00-2244-45dd-b1f1-57b018a13f97",
   "metadata": {},
   "outputs": [
    {
     "data": {
      "text/plain": [
       "set()"
      ]
     },
     "execution_count": 55,
     "metadata": {},
     "output_type": "execute_result"
    }
   ],
   "source": [
    "s1 & s2"
   ]
  },
  {
   "cell_type": "code",
   "execution_count": 56,
   "id": "d7ec8104-65fa-406c-b042-a645a1ad21e4",
   "metadata": {},
   "outputs": [
    {
     "data": {
      "text/plain": [
       "{1, 2, 3}"
      ]
     },
     "execution_count": 56,
     "metadata": {},
     "output_type": "execute_result"
    }
   ],
   "source": [
    "s1 - s2"
   ]
  },
  {
   "cell_type": "code",
   "execution_count": 57,
   "id": "46cfef00-0035-4a1d-9c4a-3e92c4685da2",
   "metadata": {},
   "outputs": [
    {
     "data": {
      "text/plain": [
       "{1, 2, 3, 4, 5, 6}"
      ]
     },
     "execution_count": 57,
     "metadata": {},
     "output_type": "execute_result"
    }
   ],
   "source": [
    "s1^s2"
   ]
  },
  {
   "cell_type": "code",
   "execution_count": null,
   "id": "dba1ed0f-231f-4130-80c1-56bf2326963f",
   "metadata": {},
   "outputs": [],
   "source": [
    "# frozen set >> immutable version of set, "
   ]
  },
  {
   "cell_type": "code",
   "execution_count": null,
   "id": "3d441752-56ad-4d76-beae-3151f197851e",
   "metadata": {},
   "outputs": [],
   "source": [
    "# dictionary >> data  store in key value pair\n",
    "# key are unique,immutable\n"
   ]
  },
  {
   "cell_type": "code",
   "execution_count": 58,
   "id": "2eae4753-4bc3-4ad7-8b64-533545a289b2",
   "metadata": {},
   "outputs": [
    {
     "data": {
      "text/plain": [
       "dict"
      ]
     },
     "execution_count": 58,
     "metadata": {},
     "output_type": "execute_result"
    }
   ],
   "source": [
    "d ={}\n",
    "type(d)"
   ]
  },
  {
   "cell_type": "code",
   "execution_count": 59,
   "id": "f4472049-639b-4bfb-8774-4645c6818838",
   "metadata": {},
   "outputs": [
    {
     "data": {
      "text/plain": [
       "{'name': 'ajay', 'email': 'ajay@gmail.com'}"
      ]
     },
     "execution_count": 59,
     "metadata": {},
     "output_type": "execute_result"
    }
   ],
   "source": [
    "d = {\"name\":\"ajay\",\"email\":\"ajay@gmail.com\"}\n",
    "d"
   ]
  },
  {
   "cell_type": "code",
   "execution_count": 60,
   "id": "9b8366c2-a642-4c5e-a49e-23dbcb8832ec",
   "metadata": {},
   "outputs": [
    {
     "data": {
      "text/plain": [
       "'ajay'"
      ]
     },
     "execution_count": 60,
     "metadata": {},
     "output_type": "execute_result"
    }
   ],
   "source": [
    "d['name']"
   ]
  },
  {
   "cell_type": "code",
   "execution_count": 62,
   "id": "0fb0fd6c-0358-40a1-b2c5-ea5694416367",
   "metadata": {},
   "outputs": [
    {
     "data": {
      "text/plain": [
       "{1: 'xyz', 1.2: 'sdhdg'}"
      ]
     },
     "execution_count": 62,
     "metadata": {},
     "output_type": "execute_result"
    }
   ],
   "source": [
    "d = {1:\"abc\",True:\"xyz\",1.2:\"sdhdg\"}\n",
    "d"
   ]
  },
  {
   "cell_type": "code",
   "execution_count": null,
   "id": "defd37df-ff65-42e4-a6c4-60bb4e104df7",
   "metadata": {},
   "outputs": [],
   "source": [
    "key can be : int,str,float,bool,tuples"
   ]
  },
  {
   "cell_type": "code",
   "execution_count": null,
   "id": "2381db09-c79d-4409-b3ca-ae0550cd361e",
   "metadata": {},
   "outputs": [],
   "source": [
    "s = [\"Aj\",\"Ram\"]\n",
    "m = [100,200]\n",
    "a = {}\n",
    "for s"
   ]
  },
  {
   "cell_type": "code",
   "execution_count": null,
   "id": "8546592e-304a-403a-83ab-201c5aaaf81b",
   "metadata": {},
   "outputs": [],
   "source": []
  },
  {
   "cell_type": "code",
   "execution_count": null,
   "id": "aedf4c01-7216-47f1-894c-0a51cdb9ea8b",
   "metadata": {},
   "outputs": [],
   "source": []
  },
  {
   "cell_type": "code",
   "execution_count": null,
   "id": "9bb988f1-4cc8-4132-ac05-d601c7e9a9fa",
   "metadata": {},
   "outputs": [],
   "source": []
  },
  {
   "cell_type": "code",
   "execution_count": null,
   "id": "c1c3b665-1d50-40b5-a8be-424966f2e543",
   "metadata": {},
   "outputs": [],
   "source": []
  },
  {
   "cell_type": "code",
   "execution_count": null,
   "id": "971b0d1a-6b10-4de6-aee2-09025c191b93",
   "metadata": {},
   "outputs": [],
   "source": []
  },
  {
   "cell_type": "code",
   "execution_count": null,
   "id": "dc1c83e2-773f-4936-8e13-6366a3b9314b",
   "metadata": {},
   "outputs": [],
   "source": []
  },
  {
   "cell_type": "code",
   "execution_count": null,
   "id": "23320381-734a-48fd-ac96-e3d2829c27d3",
   "metadata": {},
   "outputs": [],
   "source": []
  },
  {
   "cell_type": "code",
   "execution_count": null,
   "id": "b7529133-2eb0-448f-abd6-3dcffd293fb4",
   "metadata": {},
   "outputs": [],
   "source": []
  },
  {
   "cell_type": "code",
   "execution_count": null,
   "id": "97dcc6e3-cce3-46a5-bfef-0cb15e51b18d",
   "metadata": {},
   "outputs": [],
   "source": []
  },
  {
   "cell_type": "code",
   "execution_count": null,
   "id": "c59cc3a2-da4b-4082-882c-7d0acd89d524",
   "metadata": {},
   "outputs": [],
   "source": []
  },
  {
   "cell_type": "code",
   "execution_count": null,
   "id": "b4843fec-cfbd-48c1-81d1-bd6da2712e96",
   "metadata": {},
   "outputs": [],
   "source": []
  },
  {
   "cell_type": "code",
   "execution_count": null,
   "id": "4133b4e8-fc9f-4ec5-a6a2-e18dae553759",
   "metadata": {},
   "outputs": [],
   "source": []
  },
  {
   "cell_type": "code",
   "execution_count": null,
   "id": "6d3455d7-ff7b-4427-9d01-a25c6c8433c7",
   "metadata": {},
   "outputs": [],
   "source": []
  },
  {
   "cell_type": "code",
   "execution_count": null,
   "id": "2deb31ef-4359-495a-93b7-f81cee66f67a",
   "metadata": {},
   "outputs": [],
   "source": []
  },
  {
   "cell_type": "code",
   "execution_count": null,
   "id": "c8074750-8c40-4d4f-81ce-843851b87be3",
   "metadata": {},
   "outputs": [],
   "source": []
  },
  {
   "cell_type": "code",
   "execution_count": null,
   "id": "87be620f-583e-4d40-95ee-983454873f17",
   "metadata": {},
   "outputs": [],
   "source": []
  },
  {
   "cell_type": "code",
   "execution_count": null,
   "id": "d1a3e84c-ac5e-45fa-b030-9ca3bec6429e",
   "metadata": {},
   "outputs": [],
   "source": []
  },
  {
   "cell_type": "code",
   "execution_count": null,
   "id": "c32e1969-4dd5-47ba-8cc6-5728d0b9b8b8",
   "metadata": {},
   "outputs": [],
   "source": []
  },
  {
   "cell_type": "code",
   "execution_count": null,
   "id": "bee1652f-48e1-4d77-a62b-aa7300b11db1",
   "metadata": {},
   "outputs": [],
   "source": []
  },
  {
   "cell_type": "code",
   "execution_count": null,
   "id": "2ac02512-cc85-494c-89a4-ef9674b19abf",
   "metadata": {},
   "outputs": [],
   "source": []
  },
  {
   "cell_type": "code",
   "execution_count": null,
   "id": "819980d9-ec3e-42be-b950-31f812ee8199",
   "metadata": {},
   "outputs": [],
   "source": []
  },
  {
   "cell_type": "code",
   "execution_count": null,
   "id": "356c8c6f-d17f-4e77-8ca3-d5223d98bf11",
   "metadata": {},
   "outputs": [],
   "source": []
  },
  {
   "cell_type": "code",
   "execution_count": null,
   "id": "03a77221-2352-4a78-b6b5-db6c64fad5aa",
   "metadata": {},
   "outputs": [],
   "source": []
  },
  {
   "cell_type": "code",
   "execution_count": null,
   "id": "97d9cd88-ff23-4904-8b15-6244f50ebe69",
   "metadata": {},
   "outputs": [],
   "source": []
  },
  {
   "cell_type": "code",
   "execution_count": null,
   "id": "262bb9d2-180c-4711-9fab-dd5ead72a780",
   "metadata": {},
   "outputs": [],
   "source": []
  },
  {
   "cell_type": "code",
   "execution_count": null,
   "id": "41f02e8b-a0b9-43b4-957b-91f91ce8c1dd",
   "metadata": {},
   "outputs": [],
   "source": []
  },
  {
   "cell_type": "code",
   "execution_count": null,
   "id": "8817b57a-7df8-4a72-a26d-d9f9549874a1",
   "metadata": {},
   "outputs": [],
   "source": []
  },
  {
   "cell_type": "code",
   "execution_count": null,
   "id": "ff0f980b-e942-4030-9036-6899ffc4c38e",
   "metadata": {},
   "outputs": [],
   "source": []
  },
  {
   "cell_type": "code",
   "execution_count": null,
   "id": "788a3a0c-ed96-4624-a0ae-5873b6d92e96",
   "metadata": {},
   "outputs": [],
   "source": []
  }
 ],
 "metadata": {
  "kernelspec": {
   "display_name": "Python 3 (ipykernel)",
   "language": "python",
   "name": "python3"
  },
  "language_info": {
   "codemirror_mode": {
    "name": "ipython",
    "version": 3
   },
   "file_extension": ".py",
   "mimetype": "text/x-python",
   "name": "python",
   "nbconvert_exporter": "python",
   "pygments_lexer": "ipython3",
   "version": "3.11.9"
  }
 },
 "nbformat": 4,
 "nbformat_minor": 5
}
