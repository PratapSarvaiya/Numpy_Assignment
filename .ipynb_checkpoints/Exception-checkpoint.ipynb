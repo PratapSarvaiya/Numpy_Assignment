{
 "cells": [
  {
   "cell_type": "code",
   "execution_count": 6,
   "id": "016e0b21-09e0-4f50-8225-44c64084fe08",
   "metadata": {},
   "outputs": [
    {
     "ename": "SyntaxError",
     "evalue": "invalid syntax (1494433079.py, line 4)",
     "output_type": "error",
     "traceback": [
      "\u001b[1;36m  Cell \u001b[1;32mIn[6], line 4\u001b[1;36m\u001b[0m\n\u001b[1;33m    if (s ! = o:\u001b[0m\n\u001b[1;37m          ^\u001b[0m\n\u001b[1;31mSyntaxError\u001b[0m\u001b[1;31m:\u001b[0m invalid syntax\n"
     ]
    }
   ],
   "source": [
    "str = \"Vishwa Mohan\"\n",
    "\n",
    "for s in str :\n",
    "    if (s ! = o:\n",
    "        print(s)\n",
    "\n",
    "print(\"Hello World, I will never get executed, true?\")\n",
    "    "
   ]
  },
  {
   "cell_type": "code",
   "execution_count": 11,
   "id": "58f560c6-e633-48c7-a438-19748d459f11",
   "metadata": {},
   "outputs": [
    {
     "ename": "SyntaxError",
     "evalue": "invalid syntax (1867390215.py, line 4)",
     "output_type": "error",
     "traceback": [
      "\u001b[1;36m  Cell \u001b[1;32mIn[11], line 4\u001b[1;36m\u001b[0m\n\u001b[1;33m    if s ! = o:\u001b[0m\n\u001b[1;37m         ^\u001b[0m\n\u001b[1;31mSyntaxError\u001b[0m\u001b[1;31m:\u001b[0m invalid syntax\n"
     ]
    }
   ],
   "source": [
    "str = \"Vishwa Mohan\"\n",
    "\n",
    "for s in str :\n",
    "    if s ! = o:\n",
    "        print(s)\n",
    "       "
   ]
  },
  {
   "cell_type": "code",
   "execution_count": 15,
   "id": "c1947592-3f08-4fe1-bea2-26e8a9f87191",
   "metadata": {},
   "outputs": [
    {
     "name": "stdout",
     "output_type": "stream",
     "text": [
      "Mango\n",
      "Apple\n",
      "Orange\n",
      "Exception handled\n",
      "This line has to be mandatorily executed\n"
     ]
    }
   ],
   "source": [
    "arr = [\"Mango\",\"Apple\",\"Orange\"]\n",
    "try :\n",
    "    for i in range(4):\n",
    "        print(arr[i])\n",
    "except :\n",
    "    print(\"Exception handled\")\n",
    "print(\"This line has to be mandatorily executed\")"
   ]
  },
  {
   "cell_type": "code",
   "execution_count": 16,
   "id": "ca7f0958-e826-4ad0-ad89-b117d62fd414",
   "metadata": {},
   "outputs": [
    {
     "ename": "Exception",
     "evalue": "Length of the given list is 3 which is <4",
     "output_type": "error",
     "traceback": [
      "\u001b[1;31m---------------------------------------------------------------------------\u001b[0m",
      "\u001b[1;31mException\u001b[0m                                 Traceback (most recent call last)",
      "Cell \u001b[1;32mIn[16], line 4\u001b[0m\n\u001b[0;32m      1\u001b[0m arr \u001b[38;5;241m=\u001b[39m [\u001b[38;5;241m1\u001b[39m,\u001b[38;5;241m2\u001b[39m,\u001b[38;5;241m3\u001b[39m]\n\u001b[0;32m      3\u001b[0m \u001b[38;5;28;01mif\u001b[39;00m \u001b[38;5;28mlen\u001b[39m(arr)\u001b[38;5;241m<\u001b[39m\u001b[38;5;241m4\u001b[39m:\n\u001b[1;32m----> 4\u001b[0m     \u001b[38;5;28;01mraise\u001b[39;00m \u001b[38;5;167;01mException\u001b[39;00m(\u001b[38;5;124mf\u001b[39m\u001b[38;5;124m'\u001b[39m\u001b[38;5;124mLength of the given list is \u001b[39m\u001b[38;5;132;01m{\u001b[39;00m\u001b[38;5;28mlen\u001b[39m(arr)\u001b[38;5;132;01m}\u001b[39;00m\u001b[38;5;124m which is <4\u001b[39m\u001b[38;5;124m'\u001b[39m)\n",
      "\u001b[1;31mException\u001b[0m: Length of the given list is 3 which is <4"
     ]
    }
   ],
   "source": [
    "arr = [1,2,3]\n",
    "\n",
    "if len(arr)<4:\n",
    "    raise Exception(f'Length of the given list is {len(arr)} which is <4')"
   ]
  },
  {
   "cell_type": "code",
   "execution_count": 17,
   "id": "57c3ed77-8e98-4834-a739-a52e7c88961e",
   "metadata": {},
   "outputs": [],
   "source": [
    "def cube_root(num):\n",
    "    # Check if the number is positive and if not, I would raise an exception\n",
    "    if(num<0):\n",
    "        raise Exception(\"Number is Negative\")\n",
    "    return num**(1/3)"
   ]
  },
  {
   "cell_type": "code",
   "execution_count": 19,
   "id": "78889cc5-9ad5-4455-9c07-360c863a36e1",
   "metadata": {},
   "outputs": [
    {
     "name": "stdout",
     "output_type": "stream",
     "text": [
      "2.0\n"
     ]
    },
    {
     "ename": "AssertionError",
     "evalue": "Pass a possitive number",
     "output_type": "error",
     "traceback": [
      "\u001b[1;31m---------------------------------------------------------------------------\u001b[0m",
      "\u001b[1;31mAssertionError\u001b[0m                            Traceback (most recent call last)",
      "Cell \u001b[1;32mIn[19], line 7\u001b[0m\n\u001b[0;32m      4\u001b[0m     \u001b[38;5;28;01mreturn\u001b[39;00m num\u001b[38;5;241m*\u001b[39m\u001b[38;5;241m*\u001b[39m(\u001b[38;5;241m1\u001b[39m\u001b[38;5;241m/\u001b[39m\u001b[38;5;241m3\u001b[39m)\n\u001b[0;32m      6\u001b[0m \u001b[38;5;28mprint\u001b[39m(cube_root(\u001b[38;5;241m8\u001b[39m))\n\u001b[1;32m----> 7\u001b[0m \u001b[38;5;28mprint\u001b[39m(\u001b[43mcube_root\u001b[49m\u001b[43m(\u001b[49m\u001b[38;5;241;43m-\u001b[39;49m\u001b[38;5;241;43m8\u001b[39;49m\u001b[43m)\u001b[49m)\n\u001b[0;32m      8\u001b[0m \u001b[38;5;28mprint\u001b[39m(\u001b[38;5;124m\"\u001b[39m\u001b[38;5;124mlast line\u001b[39m\u001b[38;5;124m\"\u001b[39m)\n",
      "Cell \u001b[1;32mIn[19], line 3\u001b[0m, in \u001b[0;36mcube_root\u001b[1;34m(num)\u001b[0m\n\u001b[0;32m      1\u001b[0m \u001b[38;5;28;01mdef\u001b[39;00m \u001b[38;5;21mcube_root\u001b[39m(num):\n\u001b[0;32m      2\u001b[0m     \u001b[38;5;66;03m# Check if the number is positive and if not, I would raise an exception\u001b[39;00m\n\u001b[1;32m----> 3\u001b[0m     \u001b[38;5;28;01massert\u001b[39;00m (num \u001b[38;5;241m>\u001b[39m\u001b[38;5;241m=\u001b[39m\u001b[38;5;241m0\u001b[39m), \u001b[38;5;124m\"\u001b[39m\u001b[38;5;124mPass a possitive number\u001b[39m\u001b[38;5;124m\"\u001b[39m\n\u001b[0;32m      4\u001b[0m     \u001b[38;5;28;01mreturn\u001b[39;00m num\u001b[38;5;241m*\u001b[39m\u001b[38;5;241m*\u001b[39m(\u001b[38;5;241m1\u001b[39m\u001b[38;5;241m/\u001b[39m\u001b[38;5;241m3\u001b[39m)\n",
      "\u001b[1;31mAssertionError\u001b[0m: Pass a possitive number"
     ]
    }
   ],
   "source": [
    "def cube_root(num):\n",
    "    # Check if the number is positive and if not, I would raise an exception\n",
    "    assert (num >=0), \"Pass a possitive number\"\n",
    "    return num**(1/3)\n",
    "\n",
    "print(cube_root(8))\n",
    "print(cube_root(-8))\n",
    "print(\"last line\")"
   ]
  },
  {
   "cell_type": "code",
   "execution_count": 21,
   "id": "6edead29-582d-45f0-8108-ae137bad1876",
   "metadata": {},
   "outputs": [
    {
     "name": "stdout",
     "output_type": "stream",
     "text": [
      "2.0\n",
      "Please provide valid possitive integer for the cube root\n",
      "last line\n"
     ]
    }
   ],
   "source": [
    "def cube_root(num):\n",
    "    # Check if the number is positive and if not, I would raise an exception\n",
    "    assert (num >=0), \"Pass a possitive number\"\n",
    "    return num**(1/3)\n",
    "\n",
    "print(cube_root(8))\n",
    "\n",
    "try:\n",
    "    val = cube_root(-8)\n",
    "    print(val)\n",
    "except:\n",
    "    print(\"Please provide valid possitive integer for the cube root\")\n",
    "\n",
    "print(\"last line\")"
   ]
  },
  {
   "cell_type": "code",
   "execution_count": 4,
   "id": "a933df2d-7761-45c8-9c45-f96a84a16d2b",
   "metadata": {},
   "outputs": [
    {
     "name": "stdout",
     "output_type": "stream",
     "text": [
      "can't divided a number by 0\n"
     ]
    }
   ],
   "source": [
    "def operate(num):\n",
    "    try:\n",
    "        result = 5/num\n",
    "    except ZeroDivisionError:\n",
    "        print(\"can't divided a number by 0\")\n",
    "    else:\n",
    "        print(result)\n",
    "operate(0)         "
   ]
  },
  {
   "cell_type": "code",
   "execution_count": 8,
   "id": "f9969ae1-eb3c-4d07-be2e-fc1f800d7662",
   "metadata": {},
   "outputs": [
    {
     "name": "stdout",
     "output_type": "stream",
     "text": [
      "2.5\n"
     ]
    }
   ],
   "source": [
    "def operate(num):\n",
    "    try:\n",
    "        result = 5/num\n",
    "    except ZeroDivisionError:\n",
    "        print(\"can't divided a number by 0\")\n",
    "    else:\n",
    "        print(result)\n",
    "operate(2)    "
   ]
  },
  {
   "cell_type": "code",
   "execution_count": 7,
   "id": "ab9acac3-c9e1-4ff4-a2ae-cd5b58b2f4f6",
   "metadata": {},
   "outputs": [
    {
     "name": "stdout",
     "output_type": "stream",
     "text": [
      "can't divided a number by 0\n",
      "This portion of the code will always be executed\n"
     ]
    }
   ],
   "source": [
    "def operate(num):\n",
    "    try:\n",
    "        result = 5/num\n",
    "    except ZeroDivisionError:\n",
    "        print(\"can't divided a number by 0\")\n",
    "    finally:\n",
    "        print(\"This portion of the code will always be executed\")\n",
    "operate(0)    "
   ]
  },
  {
   "cell_type": "code",
   "execution_count": 9,
   "id": "37464bb6-8e1d-4108-8b43-40a5ec187c9f",
   "metadata": {},
   "outputs": [
    {
     "name": "stdout",
     "output_type": "stream",
     "text": [
      "This variable is an empty string\n"
     ]
    }
   ],
   "source": [
    "from ast import arguments\n",
    "class EmptyException(RuntimeError):\n",
    "    def __init__(self,arguments):\n",
    "        self.arguments = arguments\n",
    "\n",
    "var = \"\"\n",
    "\n",
    "try :\n",
    "    raise EmptyException(\"This variable is an empty string\")\n",
    "except EmptyException as e:\n",
    "    print(e.arguments)"
   ]
  },
  {
   "cell_type": "code",
   "execution_count": null,
   "id": "f9c62e78-9e1b-4a07-9084-f0278fb7781c",
   "metadata": {},
   "outputs": [],
   "source": []
  }
 ],
 "metadata": {
  "kernelspec": {
   "display_name": "Python 3 (ipykernel)",
   "language": "python",
   "name": "python3"
  },
  "language_info": {
   "codemirror_mode": {
    "name": "ipython",
    "version": 3
   },
   "file_extension": ".py",
   "mimetype": "text/x-python",
   "name": "python",
   "nbconvert_exporter": "python",
   "pygments_lexer": "ipython3",
   "version": "3.10.11"
  }
 },
 "nbformat": 4,
 "nbformat_minor": 5
}
