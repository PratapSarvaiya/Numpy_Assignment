{
 "cells": [
  {
   "cell_type": "code",
   "execution_count": null,
   "id": "da87058f-7b7f-4840-ab1a-a5a1da7ba99c",
   "metadata": {},
   "outputs": [],
   "source": [
    "1] where list/tuples/dictionary/set are used ?\n",
    "\n",
    "In Python, lists, tuples, dictionaries, and sets are all types of collections used to \n",
    "store and manage groups of data. Each of these data structures has its own use cases \n",
    "depending on the requirements of the program:\n",
    "\n",
    "1. List:\n",
    "Ordered Collection: Lists are ordered, meaning they maintain the order of elements as they are inserted.\n",
    "Mutable: You can change, add, or remove items after the list has been created.\n",
    "    \n",
    "Use Cases:\n",
    "Storing a collection of items that may change over time.\n",
    "Iterating over elements in a specific order.\n",
    "Implementing stacks, queues, or dynamic arrays.\n",
    "\n",
    "\n",
    "    2. Tuple:\n",
    "Ordered Collection: Like lists, tuples are also ordered.\n",
    "Immutable: Once a tuple is created, its elements cannot be modified.\n",
    "\n",
    "Use Cases:\n",
    "Storing a fixed collection of items.\n",
    "Returning multiple values from a function.\n",
    "Using as dictionary keys if the collection needs to be hashed.\n",
    "\n",
    "\n",
    "3. Dictionary:\n",
    "Key-Value Pairs: Stores data in pairs, where each key is unique and maps to a specific \n",
    "value.\n",
    "\n",
    "Mutable: You can change, add, or remove items.\n",
    "    \n",
    "Use Cases:\n",
    "Associating a unique key with a value, like a phone book or a database record.\n",
    "Fast lookups, insertions, and deletions by key.\n",
    "Storing configurations, settings, or any data that requires quick retrieval by key.\n",
    "\n",
    "\n",
    "    \n",
    "In Python, lists, tuples, dictionaries, and sets are all types of collections used to \n",
    "store and manage groups of data. Each of these data structures has its own use cases\n",
    "depending on the requirements of the program:\n",
    "\n",
    "1. List:\n",
    "Ordered Collection: Lists are ordered, meaning they maintain the order of elements as they are inserted.\n",
    "\n",
    "Mutable: You can change, add, or remove items after the list has been created.\n",
    "    \n",
    "Use Cases:\n",
    "Storing a collection of items that may change over time.\n",
    "Iterating over elements in a specific order.\n",
    "Implementing stacks, queues, or dynamic arrays.\n",
    "\n",
    "2. Tuple:\n",
    "Ordered Collection: Like lists, tuples are also ordered.\n",
    "    \n",
    "Immutable: Once a tuple is created, its elements cannot be modified.\n",
    "\n",
    "Use Cases:\n",
    "Storing a fixed collection of items.\n",
    "Returning multiple values from a function.\n",
    "Using as dictionary keys if the collection needs to be hashed.\n",
    "\n",
    "3. Dictionary:\n",
    "Key-Value Pairs: Stores data in pairs, where each key is unique and maps to a specific value.\n",
    "\n",
    "Mutable: You can change, add, or remove items.\n",
    "    \n",
    "Use Cases:\n",
    "Associating a unique key with a value, like a phone book or a database record.\n",
    "Fast lookups, insertions, and deletions by key.\n",
    "Storing configurations, settings, or any data that requires quick retrieval by key.\n",
    "\n",
    "4. Set:\n",
    "Unordered Collection: Sets are unordered, meaning they do not record element position or order.\n",
    "Unique Elements: Each element in a set must be unique.\n",
    "\n",
    "Mutable: You can add or remove items.\n",
    "\n",
    "Use Cases:\n",
    "Removing duplicates from a list.\n",
    "Performing mathematical set operations like union, intersection, difference.\n",
    "Checking for membership without concern for order."
   ]
  },
  {
   "cell_type": "code",
   "execution_count": null,
   "id": "ae174bee-d4cf-4a17-8096-e595cf300c19",
   "metadata": {},
   "outputs": [],
   "source": [
    "2 what is functions and its significance?\n",
    "\n",
    "A function in Python is a block of reusable code that performs a specific task. It allows \n",
    "you to encapsulate a set of instructions into a single, callable unit, which can then be \n",
    "executed when needed. Functions are fundamental to organizing and structuring code, making\n",
    "t more readable, maintainable, and reusable.\n",
    "\n",
    "Key Aspects of Functions:\n",
    "1] Definition:\n",
    "\n",
    "Functions are defined using the def keyword, followed by a name, a set of parentheses \n",
    "(which may include parameters), and a colon. The function body is indented, and it \n",
    "contains the code that will run when the function is called.\n",
    "\n",
    "2] Calling a Function:\n",
    "\n",
    "To execute a function, you simply call it by its name, followed by parentheses. If the \n",
    "function requires parameters, you provide them inside the parentheses.\n",
    "\n",
    "3] Parameters and Arguments:\n",
    "\n",
    "Parameters are the variables listed inside the parentheses in the function definition.\n",
    "Arguments are the actual values passed to the function when it is called.\n",
    "Functions can have any number of parameters, including none.\n",
    "\n",
    "4] Return Statement:\n",
    "\n",
    "Functions can return a value using the return statement. This allows the function to \n",
    "produce a result that can be stored in a variable or used in further operations.\n",
    "\n",
    "5] Docstrings:\n",
    "\n",
    "Functions can include a documentation string (docstring) that describes what the function \n",
    "does. This is typically the first statement in the function and is enclosed in triple\n",
    "quotes.\n",
    "\n",
    "\n",
    "Significance of Functions:\n",
    "1] Code Reusability:\n",
    "\n",
    "Functions allow you to write a piece of code once and reuse it whenever needed, avoiding \n",
    "duplication.\n",
    "\n",
    "2] Modularity:\n",
    "\n",
    "Functions enable you to break down complex problems into smaller, manageable pieces. This \n",
    "makes the code easier to understand and maintain.\n",
    "\n",
    "3] Improved Readability:\n",
    "\n",
    "By giving functions descriptive names and clear docstrings, you make your code more \n",
    "readable and self-explanatory.\n",
    "\n",
    "4] Encapsulation:\n",
    "\n",
    "Functions help in encapsulating logic, so changes in one part of the code do not affect \n",
    "other parts unnecessarily. This leads to better code organization.\n",
    "\n",
    "5] Ease of Testing:\n",
    "\n",
    "Functions can be tested individually, making it easier to identify and fix bugs.\n",
    "\n",
    "6] Abstraction:\n",
    "\n",
    "Functions allow you to abstract away details. You can use a function without needing to\n",
    "know how it works internally, focusing only on its input and output.\n",
    "\n",
    "In summary, functions are a crucial part of programming in Python (or any language)\n",
    "because they promote code reuse, improve readability, and help structure programs in a \n",
    "logical and efficient way."
   ]
  },
  {
   "cell_type": "code",
   "execution_count": null,
   "id": "6c88b60a-54c9-4b5b-9ce2-e8f7c776d31c",
   "metadata": {},
   "outputs": [],
   "source": []
  },
  {
   "cell_type": "code",
   "execution_count": null,
   "id": "31182c1e-9224-4fab-a254-34820905fbbb",
   "metadata": {},
   "outputs": [],
   "source": [
    "oops >>> object oriented programing system"
   ]
  },
  {
   "cell_type": "code",
   "execution_count": 1,
   "id": "eb15dbf7-e4a2-4a90-9fa7-63ca270d85cd",
   "metadata": {},
   "outputs": [
    {
     "name": "stdout",
     "output_type": "stream",
     "text": [
      "<class 'int'>\n"
     ]
    }
   ],
   "source": [
    "a = 3\n",
    "print(type(a))"
   ]
  },
  {
   "cell_type": "code",
   "execution_count": null,
   "id": "1cff5a67-1d27-42a0-ba20-04f866a0bb18",
   "metadata": {},
   "outputs": [],
   "source": [
    "class Car:  # class is a keyword\n",
    "    pass"
   ]
  },
  {
   "cell_type": "code",
   "execution_count": 9,
   "id": "85102ead-a746-41ed-9290-067c1fe6835d",
   "metadata": {},
   "outputs": [],
   "source": [
    "class Car:    # functio/method\n",
    "    def accelerate(self):  # self means reference to current object/instance\n",
    "        print(\"car is accelarating because binod in sitting in the car\")\n"
   ]
  },
  {
   "cell_type": "code",
   "execution_count": 11,
   "id": "1c8adc2d-067e-4db6-b27d-d1457f70c5e5",
   "metadata": {},
   "outputs": [],
   "source": [
    "c1 = Car()"
   ]
  },
  {
   "cell_type": "code",
   "execution_count": 14,
   "id": "72937ae3-83aa-4465-adb9-64e593d4fd52",
   "metadata": {},
   "outputs": [
    {
     "name": "stdout",
     "output_type": "stream",
     "text": [
      "car is accelarating because binod in sitting in the car\n"
     ]
    }
   ],
   "source": [
    "c1.accelerate()"
   ]
  },
  {
   "cell_type": "code",
   "execution_count": 15,
   "id": "d2580104-e65a-4bbd-9fa4-0564d3177f1c",
   "metadata": {},
   "outputs": [
    {
     "name": "stdout",
     "output_type": "stream",
     "text": [
      "car is accelarating because binod in sitting in the car\n"
     ]
    }
   ],
   "source": [
    "ramu = Car()\n",
    "ramu.accelerate()"
   ]
  },
  {
   "cell_type": "code",
   "execution_count": 18,
   "id": "fff2d2a8-47e8-4f86-ac62-45610ca85f17",
   "metadata": {},
   "outputs": [],
   "source": [
    "# write a class which separates even and odd number in a given list\n",
    "\n",
    "class Operations:\n",
    "    def __init__(self,l): # constructor\n",
    "        self.l = l\n",
    "    def extract_even(self):\n",
    "        l = self.l\n",
    "        l1 = []\n",
    "        for i in l:\n",
    "            if i%2 == 0:\n",
    "                l1.append(i)\n",
    "        return l1\n",
    "    def extract_odd(self):\n",
    "        l = self.l\n",
    "        l1 = []\n",
    "        for i in l:\n",
    "            if i%2 != 0:\n",
    "                l1.append(i)\n",
    "        return l1"
   ]
  },
  {
   "cell_type": "code",
   "execution_count": 19,
   "id": "4fb7f31b-48a4-4eaf-962f-ab1546b7dd50",
   "metadata": {},
   "outputs": [],
   "source": [
    "ops1 = Operations([1,2,3,45,6])"
   ]
  },
  {
   "cell_type": "code",
   "execution_count": 20,
   "id": "44f2e1e2-c7bc-4e84-875a-a6b31c42518e",
   "metadata": {},
   "outputs": [
    {
     "data": {
      "text/plain": [
       "[2, 6]"
      ]
     },
     "execution_count": 20,
     "metadata": {},
     "output_type": "execute_result"
    }
   ],
   "source": [
    "ops1.extract_even()"
   ]
  },
  {
   "cell_type": "code",
   "execution_count": 21,
   "id": "46a01d09-1a04-4068-a7ee-7c5ff58b12bb",
   "metadata": {},
   "outputs": [
    {
     "data": {
      "text/plain": [
       "[1, 3, 45]"
      ]
     },
     "execution_count": 21,
     "metadata": {},
     "output_type": "execute_result"
    }
   ],
   "source": [
    "ops1.extract_odd()"
   ]
  },
  {
   "cell_type": "code",
   "execution_count": null,
   "id": "b1821529-67cd-4f93-bdd4-bc3575e3bbab",
   "metadata": {},
   "outputs": [],
   "source": [
    "# write a python program to create a person class ,include attributes like name, country and dob,\n",
    "implement a method to determine the person's ages"
   ]
  },
  {
   "cell_type": "code",
   "execution_count": 25,
   "id": "12afd064-eb5b-4b04-879b-ff946d5db360",
   "metadata": {},
   "outputs": [],
   "source": [
    "from datetime import date\n",
    "class Person:\n",
    "    def __init__(self,name,country,dob): # take a data\n",
    "        self.name = name\n",
    "        self.country = country\n",
    "        self.dob = dob\n",
    "    def age_calculation(self):\n",
    "        today = date.today()\n",
    "        age = today.year - self.dob.year\n",
    "        return age"
   ]
  },
  {
   "cell_type": "code",
   "execution_count": 31,
   "id": "ab6b1724-cf6d-4b1d-a95d-adb4f6c85033",
   "metadata": {},
   "outputs": [],
   "source": [
    "s = Person(\"sakshi\",\"India\",date(2000,10,25))"
   ]
  },
  {
   "cell_type": "code",
   "execution_count": 32,
   "id": "2a738854-619f-4795-9014-2573ecf2d98f",
   "metadata": {},
   "outputs": [
    {
     "data": {
      "text/plain": [
       "24"
      ]
     },
     "execution_count": 32,
     "metadata": {},
     "output_type": "execute_result"
    }
   ],
   "source": [
    "s.age_calculation()"
   ]
  },
  {
   "cell_type": "code",
   "execution_count": 28,
   "id": "66f92902-26f8-4a7d-a926-7673e1e15da7",
   "metadata": {},
   "outputs": [
    {
     "data": {
      "text/plain": [
       "datetime.date(2024, 8, 24)"
      ]
     },
     "execution_count": 28,
     "metadata": {},
     "output_type": "execute_result"
    }
   ],
   "source": [
    "date.today()"
   ]
  },
  {
   "cell_type": "code",
   "execution_count": 40,
   "id": "8bd43a1c-e229-48a3-a948-9f1224e3845a",
   "metadata": {},
   "outputs": [],
   "source": [
    "class Person:\n",
    "    def __init__(self,name,country,dob): # take a data\n",
    "        self.name = name\n",
    "        self.country = country\n",
    "        self.dob = dob\n",
    "    def age_calculation(self):\n",
    "        today = 2024\n",
    "        age = today.year - self.dob\n",
    "        return age\n",
    "s = Person(\"sakshi\",\"India\",2000)"
   ]
  },
  {
   "cell_type": "code",
   "execution_count": 41,
   "id": "255de533-2cb8-4869-b210-7c297d47034e",
   "metadata": {},
   "outputs": [
    {
     "ename": "AttributeError",
     "evalue": "'int' object has no attribute 'year'",
     "output_type": "error",
     "traceback": [
      "\u001b[1;31m---------------------------------------------------------------------------\u001b[0m",
      "\u001b[1;31mAttributeError\u001b[0m                            Traceback (most recent call last)",
      "Cell \u001b[1;32mIn[41], line 1\u001b[0m\n\u001b[1;32m----> 1\u001b[0m \u001b[43ms\u001b[49m\u001b[38;5;241;43m.\u001b[39;49m\u001b[43mage_calculation\u001b[49m\u001b[43m(\u001b[49m\u001b[43m)\u001b[49m\n",
      "Cell \u001b[1;32mIn[40], line 8\u001b[0m, in \u001b[0;36mPerson.age_calculation\u001b[1;34m(self)\u001b[0m\n\u001b[0;32m      6\u001b[0m \u001b[38;5;28;01mdef\u001b[39;00m \u001b[38;5;21mage_calculation\u001b[39m(\u001b[38;5;28mself\u001b[39m):\n\u001b[0;32m      7\u001b[0m     today \u001b[38;5;241m=\u001b[39m \u001b[38;5;241m2024\u001b[39m\n\u001b[1;32m----> 8\u001b[0m     age \u001b[38;5;241m=\u001b[39m \u001b[43mtoday\u001b[49m\u001b[38;5;241;43m.\u001b[39;49m\u001b[43myear\u001b[49m \u001b[38;5;241m-\u001b[39m \u001b[38;5;28mself\u001b[39m\u001b[38;5;241m.\u001b[39mdob\n\u001b[0;32m      9\u001b[0m     \u001b[38;5;28;01mreturn\u001b[39;00m age\n",
      "\u001b[1;31mAttributeError\u001b[0m: 'int' object has no attribute 'year'"
     ]
    }
   ],
   "source": [
    "s.age_calculation()"
   ]
  },
  {
   "cell_type": "code",
   "execution_count": null,
   "id": "192f7dcc-f201-4011-9d99-c83506271ae0",
   "metadata": {},
   "outputs": [],
   "source": [
    "# design a calculator\n",
    "# design a banking system"
   ]
  },
  {
   "cell_type": "code",
   "execution_count": null,
   "id": "c567dfac-fbcf-4bc9-9971-2a92778b7e2b",
   "metadata": {},
   "outputs": [],
   "source": [
    "# make a class sports car, make a class sport bike, try to inherit common properties of \n",
    "#sports car\n",
    "\n",
    "class Sportscar:\n",
    "    def __init__(self,brand,model,top_speed):\n",
    "        self.brand = brand\n",
    "        self.model = model\n",
    "        self.top_speed = top_speed\n",
    "    def start_engine(self):\n",
    "        return f\"The engine of the {self.brand}{self.model} is starting\""
   ]
  },
  {
   "cell_type": "code",
   "execution_count": null,
   "id": "c47bc34f-c186-4e07-a1a4-9bc30e69ffed",
   "metadata": {},
   "outputs": [],
   "source": [
    "data structure\n",
    "coding "
   ]
  },
  {
   "cell_type": "code",
   "execution_count": null,
   "id": "8e6db8b6-fdc8-4af7-b9b4-9994b4d9ac28",
   "metadata": {},
   "outputs": [],
   "source": [
    "# multi level inheritance"
   ]
  },
  {
   "cell_type": "code",
   "execution_count": 44,
   "id": "cb7644fd-e833-4c61-a74f-9d5191c17dde",
   "metadata": {},
   "outputs": [],
   "source": [
    "# multiple inheritance >> two parent class\n",
    "\n",
    "class p1:\n",
    "    def property(self):\n",
    "        print(\"p1 PROPERTY\")\n",
    "class p2:\n",
    "    def property(self):\n",
    "        print(\"p2 PROPERTY\")\n",
    "class bigdabeta(p1,p2):\n",
    "    def child_method(self):\n",
    "        print(\"bigda beta\")\n",
    "        "
   ]
  },
  {
   "cell_type": "code",
   "execution_count": 45,
   "id": "6a3e091f-bf96-41e7-b0c5-7146e50406f0",
   "metadata": {},
   "outputs": [
    {
     "name": "stdout",
     "output_type": "stream",
     "text": [
      "p1 PROPERTY\n"
     ]
    }
   ],
   "source": [
    "b1 = bigdabeta()\n",
    "b1.property()"
   ]
  },
  {
   "cell_type": "code",
   "execution_count": 47,
   "id": "07711166-3654-4069-833c-b32b068e0f9f",
   "metadata": {},
   "outputs": [],
   "source": [
    "# abstraction >> concept of hiding the complex implementation\n",
    "\n",
    "import abc"
   ]
  },
  {
   "cell_type": "code",
   "execution_count": 48,
   "id": "89a6ebaf-9539-463e-8474-42a297d2cdeb",
   "metadata": {},
   "outputs": [],
   "source": [
    "class Pwskills:\n",
    "    @abc.abstractmethod\n",
    "    def student(self):\n",
    "        pass\n",
    "    @abc.abstractmethod\n",
    "    def teacher(self):\n",
    "        pass\n",
    "    @abc.abstractmethod\n",
    "    def student_marks(self):\n",
    "        pass"
   ]
  },
  {
   "cell_type": "code",
   "execution_count": null,
   "id": "92f1dd07-c9d7-46c6-a364-7414efe96dcb",
   "metadata": {},
   "outputs": [],
   "source": [
    "class Data"
   ]
  }
 ],
 "metadata": {
  "kernelspec": {
   "display_name": "Python 3 (ipykernel)",
   "language": "python",
   "name": "python3"
  },
  "language_info": {
   "codemirror_mode": {
    "name": "ipython",
    "version": 3
   },
   "file_extension": ".py",
   "mimetype": "text/x-python",
   "name": "python",
   "nbconvert_exporter": "python",
   "pygments_lexer": "ipython3",
   "version": "3.11.9"
  }
 },
 "nbformat": 4,
 "nbformat_minor": 5
}
