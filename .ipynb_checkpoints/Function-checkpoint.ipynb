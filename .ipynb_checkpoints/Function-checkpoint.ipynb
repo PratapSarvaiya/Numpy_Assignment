{
 "cells": [
  {
   "cell_type": "code",
   "execution_count": 1,
   "id": "ee136191-b484-412b-9bf6-39fdb9a9af04",
   "metadata": {},
   "outputs": [],
   "source": [
    "# Function :- [block of code] reaused/recalled\n",
    "\n",
    "def firstFunction():\n",
    "    print(\"Hello Students\")"
   ]
  },
  {
   "cell_type": "code",
   "execution_count": 2,
   "id": "8a49c545-ee64-4317-926d-6468a1f64abb",
   "metadata": {},
   "outputs": [
    {
     "name": "stdout",
     "output_type": "stream",
     "text": [
      "Hello Students\n"
     ]
    }
   ],
   "source": [
    "firstFunction()"
   ]
  },
  {
   "cell_type": "code",
   "execution_count": 5,
   "id": "9acad1d8-2b48-40ae-ae12-cf13edb3788c",
   "metadata": {},
   "outputs": [],
   "source": [
    "def add(a,b):  # <---  parameter (a,b)\n",
    "    sum=a+b\n",
    "    return sum"
   ]
  },
  {
   "cell_type": "code",
   "execution_count": 6,
   "id": "23305fd9-352c-4b02-96c6-71ef6e86a6f8",
   "metadata": {},
   "outputs": [
    {
     "name": "stdout",
     "output_type": "stream",
     "text": [
      "30\n"
     ]
    }
   ],
   "source": [
    "print(add(10,20))   # <---  arguments (10,20)"
   ]
  },
  {
   "cell_type": "code",
   "execution_count": 9,
   "id": "1ca23109-8de8-4a98-ba1c-ff94ebbd9b99",
   "metadata": {},
   "outputs": [
    {
     "name": "stdout",
     "output_type": "stream",
     "text": [
      "109\n",
      "102\n"
     ]
    }
   ],
   "source": [
    "x = 102 # Global variable/scope\n",
    "\n",
    "def func():\n",
    "    x = 109   # local variable/scope\n",
    "    print(x)\n",
    "\n",
    "func()\n",
    "print(x)"
   ]
  },
  {
   "cell_type": "code",
   "execution_count": 10,
   "id": "e6236fe6-d779-4f82-8e64-fb1c42c66897",
   "metadata": {},
   "outputs": [
    {
     "name": "stdout",
     "output_type": "stream",
     "text": [
      "Vishwa Hello\n"
     ]
    }
   ],
   "source": [
    "# Default Argument\n",
    "\n",
    "def greet(name,message):  # simple argument\n",
    "    print(name,message)\n",
    "\n",
    "greet(\"Vishwa\",\"Hello\")"
   ]
  },
  {
   "cell_type": "code",
   "execution_count": 12,
   "id": "6f0e66cb-725b-4f16-a5bd-99316938a7f5",
   "metadata": {},
   "outputs": [
    {
     "name": "stdout",
     "output_type": "stream",
     "text": [
      "Vishwa Good Morning\n"
     ]
    }
   ],
   "source": [
    "def greet(name,message=\"Good Morning\"):  # default argument\n",
    "    print(name,message)\n",
    "\n",
    "greet(\"Vishwa\")"
   ]
  },
  {
   "cell_type": "code",
   "execution_count": null,
   "id": "69072116-94cb-4862-8fa5-ed9b38272fbf",
   "metadata": {},
   "outputs": [],
   "source": []
  }
 ],
 "metadata": {
  "kernelspec": {
   "display_name": "Python 3 (ipykernel)",
   "language": "python",
   "name": "python3"
  },
  "language_info": {
   "codemirror_mode": {
    "name": "ipython",
    "version": 3
   },
   "file_extension": ".py",
   "mimetype": "text/x-python",
   "name": "python",
   "nbconvert_exporter": "python",
   "pygments_lexer": "ipython3",
   "version": "3.10.11"
  }
 },
 "nbformat": 4,
 "nbformat_minor": 5
}
