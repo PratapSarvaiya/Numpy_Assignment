{
 "cells": [
  {
   "cell_type": "code",
   "execution_count": 1,
   "id": "120a237c-ef3b-4701-bfed-8b95ed5a5541",
   "metadata": {},
   "outputs": [
    {
     "name": "stdin",
     "output_type": "stream",
     "text": [
      " pratap\n"
     ]
    },
    {
     "data": {
      "text/plain": [
       "'pratap'"
      ]
     },
     "execution_count": 1,
     "metadata": {},
     "output_type": "execute_result"
    }
   ],
   "source": [
    "# input data read is called as string\n",
    "\n",
    "input()"
   ]
  },
  {
   "cell_type": "code",
   "execution_count": 2,
   "id": "b9f0b343-9690-4c18-885b-454a33262f7f",
   "metadata": {},
   "outputs": [
    {
     "name": "stdin",
     "output_type": "stream",
     "text": [
      " 85\n"
     ]
    },
    {
     "data": {
      "text/plain": [
       "'85'"
      ]
     },
     "execution_count": 2,
     "metadata": {},
     "output_type": "execute_result"
    }
   ],
   "source": [
    "input()"
   ]
  },
  {
   "cell_type": "code",
   "execution_count": 5,
   "id": "931bc364-d4aa-46a5-966f-efc0d9150137",
   "metadata": {},
   "outputs": [
    {
     "name": "stdin",
     "output_type": "stream",
     "text": [
      " pratap sarvaiya\n"
     ]
    },
    {
     "name": "stdout",
     "output_type": "stream",
     "text": [
      "pratap sarvaiya\n"
     ]
    }
   ],
   "source": [
    "name = input()\n",
    "print(name)"
   ]
  },
  {
   "cell_type": "code",
   "execution_count": 7,
   "id": "b6d4c6b1-0cb9-4ec4-8199-80ac31ae3604",
   "metadata": {},
   "outputs": [
    {
     "name": "stdin",
     "output_type": "stream",
     "text": [
      "please sir, enter your age in years 566\n"
     ]
    },
    {
     "name": "stdout",
     "output_type": "stream",
     "text": [
      "566\n"
     ]
    }
   ],
   "source": [
    "age = input(\"please sir, enter your age in years\")\n",
    "print(age)"
   ]
  },
  {
   "cell_type": "code",
   "execution_count": 9,
   "id": "a1d6b7a8-9b1e-4ae8-b82a-5ea2dc14521c",
   "metadata": {},
   "outputs": [
    {
     "name": "stdout",
     "output_type": "stream",
     "text": [
      "I am pratap\n"
     ]
    }
   ],
   "source": [
    "# output in the world of python\n",
    "print(\"I am pratap\")"
   ]
  },
  {
   "cell_type": "code",
   "execution_count": 10,
   "id": "f3e0e044-825b-421c-acfe-cb766a3cce2d",
   "metadata": {},
   "outputs": [
    {
     "name": "stdout",
     "output_type": "stream",
     "text": [
      "Hello, my name is  pratap and my age is  99\n"
     ]
    }
   ],
   "source": [
    "# multiple argument seprated by commma\n",
    "\n",
    "name = \"pratap\"\n",
    "age = 99\n",
    "print(\"Hello, my name is \",name,\"and my age is \",age)"
   ]
  },
  {
   "cell_type": "code",
   "execution_count": 11,
   "id": "6d987ff0-3e1e-4026-a733-c01cefb7bd59",
   "metadata": {},
   "outputs": [
    {
     "name": "stdout",
     "output_type": "stream",
     "text": [
      "My name is pratap and age is 99\n"
     ]
    }
   ],
   "source": [
    "# Support for the formatted string\n",
    "print(f\"My name is {name} and age is {age}\")"
   ]
  },
  {
   "cell_type": "code",
   "execution_count": 13,
   "id": "c1d867da-0a72-422f-a386-1d2e3b9ee7bc",
   "metadata": {},
   "outputs": [
    {
     "name": "stdout",
     "output_type": "stream",
     "text": [
      "2$3$4\n"
     ]
    }
   ],
   "source": [
    "x=2\n",
    "y=3\n",
    "z=4\n",
    "print(x,y,z,sep=\"$\")"
   ]
  },
  {
   "cell_type": "code",
   "execution_count": 15,
   "id": "22dea401-243c-4ed9-87f2-5c3f273ac249",
   "metadata": {},
   "outputs": [
    {
     "name": "stdout",
     "output_type": "stream",
     "text": [
      "Hello\n",
      "World\n",
      "!\n"
     ]
    }
   ],
   "source": [
    "# this code is run on one line\n",
    "print(\"Hello\")\n",
    "print(\"World\")\n",
    "print(\"!\")"
   ]
  },
  {
   "cell_type": "code",
   "execution_count": 17,
   "id": "92bc980d-98ec-43d0-80db-b5864863909a",
   "metadata": {},
   "outputs": [
    {
     "name": "stdout",
     "output_type": "stream",
     "text": [
      "Hello World!\n"
     ]
    }
   ],
   "source": [
    "print(\"Hello\",end=\" \")\n",
    "print(\"World\",end=\"\")\n",
    "print(\"!\")"
   ]
  },
  {
   "cell_type": "code",
   "execution_count": null,
   "id": "e4559ec7-1c3c-4b59-af75-54bdaa4df001",
   "metadata": {},
   "outputs": [],
   "source": []
  }
 ],
 "metadata": {
  "kernelspec": {
   "display_name": "Python 3 (ipykernel)",
   "language": "python",
   "name": "python3"
  },
  "language_info": {
   "codemirror_mode": {
    "name": "ipython",
    "version": 3
   },
   "file_extension": ".py",
   "mimetype": "text/x-python",
   "name": "python",
   "nbconvert_exporter": "python",
   "pygments_lexer": "ipython3",
   "version": "3.10.11"
  }
 },
 "nbformat": 4,
 "nbformat_minor": 5
}
