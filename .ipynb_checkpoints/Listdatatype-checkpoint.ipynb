{
 "cells": [
  {
   "cell_type": "code",
   "execution_count": null,
   "id": "fcfaa33b-2618-4d02-ba3b-e4f262f52ea7",
   "metadata": {},
   "outputs": [],
   "source": [
    "# List  : list constructer in string tuple and number you will use it\n",
    "\n",
    "# i am create list use to square bracket and constructer"
   ]
  },
  {
   "cell_type": "code",
   "execution_count": 1,
   "id": "9d1c2dd9-09e3-466a-aab8-1539e0f98e6e",
   "metadata": {},
   "outputs": [
    {
     "name": "stdout",
     "output_type": "stream",
     "text": [
      "['Mohan', 'Vishwa', 'Shivani', 'shakshi']\n",
      "<class 'list'>\n"
     ]
    }
   ],
   "source": [
    "students = [\"Mohan\",\"Vishwa\",\"Shivani\",\"shakshi\"]\n",
    "\n",
    "print(students)\n",
    "print(type(students))"
   ]
  },
  {
   "cell_type": "code",
   "execution_count": 2,
   "id": "59637335-f7f5-4d7a-8be5-d0764390eb26",
   "metadata": {},
   "outputs": [
    {
     "name": "stdout",
     "output_type": "stream",
     "text": [
      "['Mohan', 'Vishwa', 'Shivani', 'shakshi']\n"
     ]
    }
   ],
   "source": [
    "list2 = list(students)  # constructer\n",
    "print(list2)"
   ]
  },
  {
   "cell_type": "code",
   "execution_count": 3,
   "id": "c9973a3e-7c49-4579-83f1-bc852d067752",
   "metadata": {},
   "outputs": [
    {
     "name": "stdout",
     "output_type": "stream",
     "text": [
      "['V', 'i', 's', 'h', 'w', 'a']\n"
     ]
    }
   ],
   "source": [
    "list3 = list(\"Vishwa\")\n",
    "print(list3)"
   ]
  },
  {
   "cell_type": "code",
   "execution_count": 4,
   "id": "0e8e36e1-fcd4-4c94-a991-99ab3c373df8",
   "metadata": {},
   "outputs": [
    {
     "name": "stdout",
     "output_type": "stream",
     "text": [
      "[3, 4, 'Vishwa']\n"
     ]
    }
   ],
   "source": [
    "list4 = list((3,4,\"Vishwa\"))\n",
    "print(list4)"
   ]
  },
  {
   "cell_type": "code",
   "execution_count": 7,
   "id": "decde6cd-0abc-4b59-8ade-14bddd6ab47c",
   "metadata": {},
   "outputs": [
    {
     "name": "stdout",
     "output_type": "stream",
     "text": [
      "2\n",
      "3\n"
     ]
    }
   ],
   "source": [
    "# Accessing the elements of the list \n",
    "\n",
    "l1 = [1,3,9,2,5,6,7]\n",
    "print(l1[3])\n",
    "print(l1[-6])"
   ]
  },
  {
   "cell_type": "code",
   "execution_count": 9,
   "id": "cfd67f15-9050-48fe-8aa5-ad1806608cc2",
   "metadata": {},
   "outputs": [
    {
     "name": "stdout",
     "output_type": "stream",
     "text": [
      "[3, 4, 6, 5, 7, 11]\n"
     ]
    }
   ],
   "source": [
    "# append in list\n",
    "# The append() method appends an element to the end of the list.\n",
    "\n",
    "\n",
    "arr = [3,4,6,5,7]\n",
    "arr.append(11)\n",
    "print(arr)"
   ]
  },
  {
   "cell_type": "code",
   "execution_count": 10,
   "id": "1c122817-e4ba-4a10-8f99-bc61ba7fd08d",
   "metadata": {},
   "outputs": [
    {
     "name": "stdout",
     "output_type": "stream",
     "text": [
      "[3, 4, 6, 45, 5, 7, 11]\n"
     ]
    }
   ],
   "source": [
    "# The insert() method inserts the specified value at the specified position.\n",
    "\n",
    "arr.insert(3,45)\n",
    "print(arr)"
   ]
  },
  {
   "cell_type": "code",
   "execution_count": 11,
   "id": "8c2442b7-137f-466e-9712-3cde680be05a",
   "metadata": {},
   "outputs": [
    {
     "name": "stdout",
     "output_type": "stream",
     "text": [
      "[1, 2, 'pratap', 'Mohan']\n"
     ]
    }
   ],
   "source": [
    "# The extend() method adds the specified list elements (or any iterable) to the end of the current list.\n",
    "\n",
    "l1 = [1,2]\n",
    "l2 = [\"pratap\",\"Mohan\"]\n",
    "l1.extend(l2)\n",
    "print(l1)"
   ]
  },
  {
   "cell_type": "code",
   "execution_count": 12,
   "id": "30cfd2e9-4967-4491-a28b-9fedd2b1af9a",
   "metadata": {},
   "outputs": [
    {
     "name": "stdout",
     "output_type": "stream",
     "text": [
      "[3, 5, 2, 9]\n"
     ]
    }
   ],
   "source": [
    "# Remove : The remove() method removes the specified item.\n",
    "\n",
    "arr = [3,5,2,1,9]\n",
    "arr.remove(1)\n",
    "print(arr)"
   ]
  },
  {
   "cell_type": "code",
   "execution_count": 13,
   "id": "fb6e5ad1-3d2d-4175-a3fb-9f6bad95a7c2",
   "metadata": {},
   "outputs": [
    {
     "name": "stdout",
     "output_type": "stream",
     "text": [
      "[3, 5, 2, 9, 1, 8, 1]\n"
     ]
    }
   ],
   "source": [
    "# multiple element is same then first element is remove\n",
    "\n",
    "arr = [3,5,2,1,9,1,8,1]\n",
    "arr.remove(1)\n",
    "print(arr)"
   ]
  },
  {
   "cell_type": "code",
   "execution_count": 17,
   "id": "5d815d77-3abb-4c30-acc9-22e44866f526",
   "metadata": {},
   "outputs": [
    {
     "name": "stdout",
     "output_type": "stream",
     "text": [
      "45\n",
      "[3, 1, 7, 9, 11, 23]\n"
     ]
    }
   ],
   "source": [
    "# pop :- If you do not specify the index, the pop() method removes the last item.\n",
    "\n",
    "arr = [3,1,7,9,11,23,45]\n",
    "print(arr.pop())\n",
    "print(arr)"
   ]
  },
  {
   "cell_type": "code",
   "execution_count": 18,
   "id": "c46bd205-706f-4edf-98a9-5924f16274f9",
   "metadata": {},
   "outputs": [
    {
     "name": "stdout",
     "output_type": "stream",
     "text": [
      "11\n",
      "[3, 1, 7, 9, 23, 45]\n"
     ]
    }
   ],
   "source": [
    "arr = [3,1,7,9,11,23,45]\n",
    "print(arr.pop(4))\n",
    "print(arr)"
   ]
  },
  {
   "cell_type": "code",
   "execution_count": 19,
   "id": "9a66ed60-5abe-4ec9-8029-7abb6886a1cd",
   "metadata": {},
   "outputs": [
    {
     "name": "stdout",
     "output_type": "stream",
     "text": [
      "['a', 'b', 'c', 'f', 'e']\n"
     ]
    }
   ],
   "source": [
    "student = ['a', 'b', 'c', 'd', 'e']\n",
    "\n",
    "student[3]='f'\n",
    "print(student)"
   ]
  },
  {
   "cell_type": "code",
   "execution_count": 21,
   "id": "4b806794-94ba-4198-9964-7019d5368374",
   "metadata": {},
   "outputs": [
    {
     "name": "stdout",
     "output_type": "stream",
     "text": [
      "['a', 'm', 'n', 'o', 'e']\n"
     ]
    }
   ],
   "source": [
    "student[1:4] = 'm','n','o'\n",
    "print(student)"
   ]
  },
  {
   "cell_type": "code",
   "execution_count": 22,
   "id": "2582f3e8-e4fa-478b-80c0-b92bb979f79e",
   "metadata": {},
   "outputs": [
    {
     "name": "stdout",
     "output_type": "stream",
     "text": [
      "['a', 'm', 'n', 'e']\n"
     ]
    }
   ],
   "source": [
    "student[1:4] = 'm','n'\n",
    "print(student)"
   ]
  },
  {
   "cell_type": "code",
   "execution_count": 23,
   "id": "513ba26d-a67f-40b3-b6a0-f5a6019aa8e5",
   "metadata": {},
   "outputs": [
    {
     "name": "stdout",
     "output_type": "stream",
     "text": [
      "[5, 4, 3, 2, 1]\n"
     ]
    }
   ],
   "source": [
    "l1 = [1,2,3,4,5]\n",
    "l1.reverse()\n",
    "print(l1)"
   ]
  },
  {
   "cell_type": "code",
   "execution_count": 24,
   "id": "cbb4768c-209a-4b8c-bfeb-4d7ed3921f7d",
   "metadata": {},
   "outputs": [
    {
     "name": "stdout",
     "output_type": "stream",
     "text": [
      "[5, 4, 3, 2, 1]\n",
      "2832626988288 2832605393472\n"
     ]
    }
   ],
   "source": [
    "# Create new list which is a copy but a different object\n",
    "\n",
    "l1_copy = l1.copy()\n",
    "print(l1_copy)\n",
    "print(id(l1_copy),id(l1))"
   ]
  },
  {
   "cell_type": "code",
   "execution_count": 25,
   "id": "9bbd1dcf-4cff-457f-af46-8ac0e11906e8",
   "metadata": {},
   "outputs": [
    {
     "name": "stdout",
     "output_type": "stream",
     "text": [
      "[1, 2, 3, 4, 5]\n"
     ]
    }
   ],
   "source": [
    "l1.sort()\n",
    "print(l1)"
   ]
  },
  {
   "cell_type": "code",
   "execution_count": null,
   "id": "d693f38e-3a96-4ba0-afb6-c0bd4be20a17",
   "metadata": {},
   "outputs": [],
   "source": []
  }
 ],
 "metadata": {
  "kernelspec": {
   "display_name": "Python 3 (ipykernel)",
   "language": "python",
   "name": "python3"
  },
  "language_info": {
   "codemirror_mode": {
    "name": "ipython",
    "version": 3
   },
   "file_extension": ".py",
   "mimetype": "text/x-python",
   "name": "python",
   "nbconvert_exporter": "python",
   "pygments_lexer": "ipython3",
   "version": "3.10.11"
  }
 },
 "nbformat": 4,
 "nbformat_minor": 5
}
