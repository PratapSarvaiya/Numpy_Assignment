{
 "cells": [
  {
   "cell_type": "code",
   "execution_count": 3,
   "id": "79fef273-d914-41c5-8dd2-6c86bd940a5f",
   "metadata": {},
   "outputs": [
    {
     "name": "stdin",
     "output_type": "stream",
     "text": [
      "Enter the value:  69\n"
     ]
    },
    {
     "name": "stdout",
     "output_type": "stream",
     "text": [
      "70\n",
      "Original num 69\n"
     ]
    }
   ],
   "source": [
    "# Pass by value :- Active in Arguments immutable data type\n",
    "\n",
    "num = int(input(\"Enter the value: \"))\n",
    "\n",
    "def modify_num(num):\n",
    "    num +=1\n",
    "    print(num)\n",
    "\n",
    "modify_num(num)  # copy and clone\n",
    "\n",
    "print(\"Original num\",num)"
   ]
  },
  {
   "cell_type": "code",
   "execution_count": null,
   "id": "87e39ed9-85ef-4a8e-9e6e-db09a410a032",
   "metadata": {},
   "outputs": [],
   "source": [
    "# Immutable datatypes : String,Numbers,tuple--- passed by value"
   ]
  },
  {
   "cell_type": "code",
   "execution_count": null,
   "id": "8623e88f-b70b-458f-93ef-aefa2674e3bf",
   "metadata": {},
   "outputs": [],
   "source": [
    "# pass by reference :  Mutable data types :- List, Dictionary\n",
    "\n",
    "change will impact the original data"
   ]
  },
  {
   "cell_type": "code",
   "execution_count": 6,
   "id": "ee41346f-fa56-4bae-aaa4-a5dce2428b16",
   "metadata": {},
   "outputs": [
    {
     "name": "stdout",
     "output_type": "stream",
     "text": [
      "Before calling fun [1, 2, 3]\n",
      "[1, 2, 3, 5]\n",
      "After calling fun [1, 2, 3, 5]\n"
     ]
    }
   ],
   "source": [
    "my_list = [1,2,3]\n",
    "\n",
    "def modify_list(li):\n",
    "    li.append(5)\n",
    "    print(li)\n",
    "    \n",
    "print(\"Before calling fun\",my_list)\n",
    "\n",
    "modify_list(my_list)\n",
    "\n",
    "print(\"After calling fun\",my_list)"
   ]
  },
  {
   "cell_type": "code",
   "execution_count": null,
   "id": "00584702-7996-4435-9298-05a8915aedf7",
   "metadata": {},
   "outputs": [],
   "source": [
    "# Lambda function /Anonimous function 1] can take any number of argument\n",
    "                                      2] body/expression is single line\n",
    "                                      3] lambda keyword"
   ]
  },
  {
   "cell_type": "code",
   "execution_count": 9,
   "id": "d7856c4f-3593-4064-af5e-340a0d8cef70",
   "metadata": {},
   "outputs": [
    {
     "name": "stdout",
     "output_type": "stream",
     "text": [
      "15\n"
     ]
    }
   ],
   "source": [
    "# lambda function\n",
    "\n",
    "func = lambda x : x+10\n",
    "\n",
    "print(func(5))"
   ]
  },
  {
   "cell_type": "code",
   "execution_count": 11,
   "id": "74e01d14-b749-43c1-9b87-9f492d5510ee",
   "metadata": {},
   "outputs": [
    {
     "name": "stdout",
     "output_type": "stream",
     "text": [
      "11\n"
     ]
    }
   ],
   "source": [
    "add = lambda a, b: a+b\n",
    "\n",
    "print(add(5,6))"
   ]
  },
  {
   "cell_type": "code",
   "execution_count": 12,
   "id": "826d533d-b6a5-4fdb-b2a5-ac768cc22354",
   "metadata": {},
   "outputs": [
    {
     "name": "stdout",
     "output_type": "stream",
     "text": [
      "Hello world!\n"
     ]
    }
   ],
   "source": [
    "def myFunc():\n",
    "    # return a new function\n",
    "    return lambda msg : print(msg)\n",
    "\n",
    "myFunc()(\"Hello world!\")\n",
    "    "
   ]
  },
  {
   "cell_type": "code",
   "execution_count": null,
   "id": "d74cbae5-db61-4e01-a10b-8079331b14f1",
   "metadata": {},
   "outputs": [],
   "source": []
  }
 ],
 "metadata": {
  "kernelspec": {
   "display_name": "Python 3 (ipykernel)",
   "language": "python",
   "name": "python3"
  },
  "language_info": {
   "codemirror_mode": {
    "name": "ipython",
    "version": 3
   },
   "file_extension": ".py",
   "mimetype": "text/x-python",
   "name": "python",
   "nbconvert_exporter": "python",
   "pygments_lexer": "ipython3",
   "version": "3.10.11"
  }
 },
 "nbformat": 4,
 "nbformat_minor": 5
}
