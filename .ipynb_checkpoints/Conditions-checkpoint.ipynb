{
 "cells": [
  {
   "cell_type": "code",
   "execution_count": 11,
   "id": "7159ffee-d127-48c3-b74b-2afaad01db8b",
   "metadata": {},
   "outputs": [
    {
     "name": "stdin",
     "output_type": "stream",
     "text": [
      "Enter the number 12\n"
     ]
    },
    {
     "name": "stdout",
     "output_type": "stream",
     "text": [
      "Number is less than 15\n"
     ]
    }
   ],
   "source": [
    "x = int(input(\"Enter the number\"))\n",
    "\n",
    "if x>15:\n",
    "    print(\"Number is greater than 15\")\n",
    "else:\n",
    "    print(\"Number is less than 15\")\n"
   ]
  },
  {
   "cell_type": "code",
   "execution_count": 12,
   "id": "7d83a1e3-941d-408e-abdf-4581543dbba7",
   "metadata": {},
   "outputs": [
    {
     "name": "stdin",
     "output_type": "stream",
     "text": [
      "Enter the number 15\n"
     ]
    },
    {
     "name": "stdout",
     "output_type": "stream",
     "text": [
      "Number is equal to 15\n"
     ]
    }
   ],
   "source": [
    "x = int(input(\"Enter the number\"))\n",
    "\n",
    "if x>15:\n",
    "    print(\"Number is greater than 15\")\n",
    "elif x ==15:\n",
    "    print(\"Number is equal to 15\")\n",
    "else:\n",
    "    print(\"Number is less than 15\")\n"
   ]
  },
  {
   "cell_type": "code",
   "execution_count": 14,
   "id": "3998af85-2f7d-45bd-88f1-8f54331de035",
   "metadata": {},
   "outputs": [
    {
     "name": "stdin",
     "output_type": "stream",
     "text": [
      "Please Enter the your marks!! 59\n"
     ]
    },
    {
     "name": "stdout",
     "output_type": "stream",
     "text": [
      "Study more\n"
     ]
    }
   ],
   "source": [
    "marks = int(input(\"Please Enter the your marks!!\"))\n",
    "\n",
    "if marks >= 90:\n",
    "    print(\"A\")\n",
    "elif marks >=80:\n",
    "    print(\"B\")\n",
    "elif marks >=70:\n",
    "    print(\"C\")\n",
    "elif marks >=60:\n",
    "    print(\"D\")\n",
    "else:\n",
    "    print(\"Study more\")\n",
    "    "
   ]
  },
  {
   "cell_type": "code",
   "execution_count": 15,
   "id": "706725f4-8cf9-4cea-9763-dc50a7851068",
   "metadata": {},
   "outputs": [
    {
     "name": "stdout",
     "output_type": "stream",
     "text": [
      "Inside if\n"
     ]
    }
   ],
   "source": [
    "if 5:\n",
    "    print(\"Inside if\")"
   ]
  },
  {
   "cell_type": "code",
   "execution_count": 16,
   "id": "1803d150-74a6-4bf2-984a-23cb97670a36",
   "metadata": {},
   "outputs": [
    {
     "name": "stdout",
     "output_type": "stream",
     "text": [
      "Inside if\n"
     ]
    }
   ],
   "source": [
    "if [5]:\n",
    "    print(\"Inside if\")"
   ]
  },
  {
   "cell_type": "code",
   "execution_count": 17,
   "id": "e290afc2-ef1e-405b-b058-d98151e7b8f5",
   "metadata": {},
   "outputs": [
    {
     "name": "stdout",
     "output_type": "stream",
     "text": [
      "Inside else\n"
     ]
    }
   ],
   "source": [
    "if 0:\n",
    "    print(\"Inside if\")\n",
    "else:\n",
    "    print(\"Inside else\")"
   ]
  },
  {
   "cell_type": "code",
   "execution_count": 18,
   "id": "ef1efaaf-9cf6-4153-9f0c-0678fdc5dc7f",
   "metadata": {},
   "outputs": [
    {
     "name": "stdout",
     "output_type": "stream",
     "text": [
      "Inside else\n"
     ]
    }
   ],
   "source": [
    "if \"\":\n",
    "    print(\"Inside if\")\n",
    "else:\n",
    "    print(\"Inside else\")"
   ]
  },
  {
   "cell_type": "code",
   "execution_count": null,
   "id": "12400bea-3dae-45ec-9407-0e841eaf1190",
   "metadata": {},
   "outputs": [],
   "source": [
    "🔸 Falsy Values\n",
    "\n",
    "# Sequences and Collections:\n",
    "\n",
    "Empty lists []\n",
    "Empty tuples ()\n",
    "Empty dictionaries {}\n",
    "Empty sets set()\n",
    "Empty strings \"\"\n",
    "Empty ranges range(0)\n",
    "\n",
    "\n",
    "# Numbers\n",
    "\n",
    "Zero of any numeric type.\n",
    "Integer: 0\n",
    "Float: 0.0\n",
    "Complex: 0j\n",
    "\n",
    "\n",
    "# Constants\n",
    "\n",
    "None\n",
    "False"
   ]
  }
 ],
 "metadata": {
  "kernelspec": {
   "display_name": "Python 3 (ipykernel)",
   "language": "python",
   "name": "python3"
  },
  "language_info": {
   "codemirror_mode": {
    "name": "ipython",
    "version": 3
   },
   "file_extension": ".py",
   "mimetype": "text/x-python",
   "name": "python",
   "nbconvert_exporter": "python",
   "pygments_lexer": "ipython3",
   "version": "3.10.11"
  }
 },
 "nbformat": 4,
 "nbformat_minor": 5
}
