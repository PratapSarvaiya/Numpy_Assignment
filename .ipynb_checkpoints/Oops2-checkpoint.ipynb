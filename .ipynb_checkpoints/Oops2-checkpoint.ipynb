{
 "cells": [
  {
   "cell_type": "code",
   "execution_count": null,
   "id": "c918d18a-873c-4ceb-b224-f2d9d6ce2f0f",
   "metadata": {},
   "outputs": [],
   "source": [
    "# Abstraction :- Providing only the important details\n",
    "              1] Hide unnecessary details\n",
    "\n",
    "# Advantages:- 1] Easy for the customers\n",
    "               2] protect/avoid internal information to be linked >> Additional security\n",
    "\n",
    "# Abstract class:- 1] can't initialized and can't object create\n",
    "                   2] Atleast 1 abstract method\n",
    "                   "
   ]
  },
  {
   "cell_type": "code",
   "execution_count": 1,
   "id": "a5486e4e-a58f-4e84-9ee2-17a9f7407878",
   "metadata": {},
   "outputs": [],
   "source": [
    "# Abstract class\n",
    "\n",
    "class Animal :\n",
    "    def eat(self):  # Concrete implementation\n",
    "        pass\n",
    "\n",
    "animal = Animal()\n",
    "animal.eat()"
   ]
  },
  {
   "cell_type": "code",
   "execution_count": 11,
   "id": "be8588fe-20c5-4ba9-9c83-ab7bffd0d3b3",
   "metadata": {},
   "outputs": [
    {
     "ename": "TypeError",
     "evalue": "Can't instantiate abstract class Animal with abstract method eat",
     "output_type": "error",
     "traceback": [
      "\u001b[1;31m---------------------------------------------------------------------------\u001b[0m",
      "\u001b[1;31mTypeError\u001b[0m                                 Traceback (most recent call last)",
      "Cell \u001b[1;32mIn[11], line 8\u001b[0m\n\u001b[0;32m      4\u001b[0m     \u001b[38;5;129m@abstractmethod\u001b[39m\n\u001b[0;32m      5\u001b[0m     \u001b[38;5;28;01mdef\u001b[39;00m \u001b[38;5;21meat\u001b[39m(\u001b[38;5;28mself\u001b[39m):  \n\u001b[0;32m      6\u001b[0m         \u001b[38;5;28;01mpass\u001b[39;00m\n\u001b[1;32m----> 8\u001b[0m a \u001b[38;5;241m=\u001b[39m \u001b[43mAnimal\u001b[49m\u001b[43m(\u001b[49m\u001b[43m)\u001b[49m\n",
      "\u001b[1;31mTypeError\u001b[0m: Can't instantiate abstract class Animal with abstract method eat"
     ]
    }
   ],
   "source": [
    "from abc import ABC, abstractmethod\n",
    "\n",
    "class Animal(ABC) :\n",
    "    @abstractmethod\n",
    "    def eat(self):  \n",
    "        pass\n",
    "\n",
    "a = Animal()\n"
   ]
  },
  {
   "cell_type": "code",
   "execution_count": 15,
   "id": "87a33632-0fb1-44c9-896d-3adc6af1bfb7",
   "metadata": {},
   "outputs": [],
   "source": [
    "# Method overriding :->> both parent and the child have the same method\n",
    "\n",
    "class Dog(Animal):\n",
    "\n",
    "    def sleep(self):\n",
    "      print(\"Dog is sleeping\")  \n",
    "        \n",
    "    def eat(self):\n",
    "      print(\"Dog is eating\")\n",
    "\n",
    "d = Dog()\n",
    "        "
   ]
  },
  {
   "cell_type": "code",
   "execution_count": 16,
   "id": "d15e00f1-c0b9-4b70-80ce-5c3a1bd4685c",
   "metadata": {},
   "outputs": [
    {
     "name": "stdout",
     "output_type": "stream",
     "text": [
      "Cat is eating\n",
      "Dog is eating\n",
      "Animal is eating\n"
     ]
    }
   ],
   "source": [
    "# Polymorphism interview Question\n",
    "# Polymorphism :- many form :- Same method is call but output is different\n",
    "\n",
    "# polymorphis using inheritance\n",
    "\n",
    "class Animal:\n",
    "    def eat(self):\n",
    "        print(\"Animal is eating\")\n",
    "\n",
    "class Dog(Animal) :\n",
    "    def eat(self): # method overriding\n",
    "        print(\"Dog is eating\")\n",
    "\n",
    "class Cat(Animal):\n",
    "    def eat(self):  # method overriding  \n",
    "        print(\"Cat is eating\")\n",
    "\n",
    "c = Cat()\n",
    "d = Dog()\n",
    "a = Animal()\n",
    "\n",
    "c.eat()\n",
    "d.eat()\n",
    "a.eat()"
   ]
  },
  {
   "cell_type": "code",
   "execution_count": 20,
   "id": "50ec44bf-1e24-4fa7-8185-89d3fce23a92",
   "metadata": {},
   "outputs": [
    {
     "name": "stdout",
     "output_type": "stream",
     "text": [
      "Parrot is flying\n",
      "Crow is flying\n"
     ]
    }
   ],
   "source": [
    "# Def typing concept : Polymorphism example for interview IMP\n",
    "\n",
    "class BirdFly:\n",
    "    def flyBird(self,bird):\n",
    "        bird.fly()\n",
    "\n",
    "class Parrot:\n",
    "    def fly(self):\n",
    "        print(\"Parrot is flying\")\n",
    "\n",
    "class Crow:\n",
    "    def fly(self):\n",
    "        print(\"Crow is flying\")\n",
    "\n",
    "p = Parrot()\n",
    "c = Crow()\n",
    "\n",
    "bf = BirdFly()  # Object\n",
    "\n",
    "bf.flyBird(p) # p is a parrot object\n",
    "bf.flyBird(c) # c is a parrot object"
   ]
  },
  {
   "cell_type": "code",
   "execution_count": null,
   "id": "e0d5ba27-81aa-4b0d-bbdf-f312138daa6b",
   "metadata": {},
   "outputs": [],
   "source": [
    "# Relationship of Association\n",
    "Aggregation = loose coupling\n",
    "Composition = tight coupling"
   ]
  },
  {
   "cell_type": "code",
   "execution_count": 23,
   "id": "633c653b-ab2d-40a7-b79c-b499caaa47bd",
   "metadata": {},
   "outputs": [],
   "source": [
    "# Has A - Aggregation\n",
    "\n",
    "class Car:\n",
    "    def __init__(self,brand,color):\n",
    "        self.brand = brand\n",
    "        self.color = color\n",
    "\n",
    "class Person:\n",
    "    def __init__(self,name,car):\n",
    "        self.name = name\n",
    "        self.car = car\n",
    "\n",
    "car = Car(\"BMW\",\"Black\")\n",
    "person = Person(\"pratap\",car)"
   ]
  },
  {
   "cell_type": "code",
   "execution_count": 32,
   "id": "6bc3d81e-faad-40e1-bac3-4ed2a870fa20",
   "metadata": {},
   "outputs": [
    {
     "name": "stdout",
     "output_type": "stream",
     "text": [
      "Car engine is model E1213\n",
      "Car tyre is apollo\n",
      "Doors of the car is automatic\n"
     ]
    }
   ],
   "source": [
    "# Composition\n",
    "\n",
    "class Engine :\n",
    "    def engineDetails(self):\n",
    "        print(\"Car engine is model E1213\")\n",
    "\n",
    "class Tyres :\n",
    "    def tyreDetails(self):\n",
    "        print(\"Car tyre is apollo\")\n",
    "\n",
    "class Doors :\n",
    "    def doorDetails(self):\n",
    "        print(\"Doors of the car is automatic\")\n",
    "\n",
    "class Car :\n",
    "    def __init__(self) :     # create the objects of engine/tyres/doors\n",
    "      self.engine = Engine()\n",
    "      self.tyres = Tyres()    # Objects are created\n",
    "      self.doors = Doors()\n",
    "\n",
    "    def printDetails(self):\n",
    "        self.engine.engineDetails()\n",
    "        self.tyres.tyreDetails()\n",
    "        self.doors.doorDetails()\n",
    "\n",
    "c = Car()\n",
    "c.printDetails()"
   ]
  },
  {
   "cell_type": "code",
   "execution_count": null,
   "id": "0ca3afff-65e1-420f-b71f-ccfeb9171e28",
   "metadata": {},
   "outputs": [],
   "source": []
  }
 ],
 "metadata": {
  "kernelspec": {
   "display_name": "Python 3 (ipykernel)",
   "language": "python",
   "name": "python3"
  },
  "language_info": {
   "codemirror_mode": {
    "name": "ipython",
    "version": 3
   },
   "file_extension": ".py",
   "mimetype": "text/x-python",
   "name": "python",
   "nbconvert_exporter": "python",
   "pygments_lexer": "ipython3",
   "version": "3.10.11"
  }
 },
 "nbformat": 4,
 "nbformat_minor": 5
}
