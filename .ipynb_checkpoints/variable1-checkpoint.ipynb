{
 "cells": [
  {
   "cell_type": "code",
   "execution_count": 3,
   "id": "b75401cb-2d5f-45ce-9079-fc86a18e9102",
   "metadata": {},
   "outputs": [
    {
     "name": "stdout",
     "output_type": "stream",
     "text": [
      "pratap\n",
      "<class 'str'>\n",
      "2024934070832\n"
     ]
    }
   ],
   "source": [
    "# id is pointing to address\n",
    "\n",
    "name = \"pratap\"\n",
    "print(name)\n",
    "print(type(name))\n",
    "print(id(name))"
   ]
  },
  {
   "cell_type": "code",
   "execution_count": 5,
   "id": "41821b81-b75f-44ad-ba7b-a30cc42491dc",
   "metadata": {},
   "outputs": [
    {
     "name": "stdout",
     "output_type": "stream",
     "text": [
      "99\n",
      "<class 'int'>\n",
      "2024853802288\n"
     ]
    }
   ],
   "source": [
    "age = 99\n",
    "print(age)\n",
    "print(type(age))\n",
    "print(id(age))"
   ]
  },
  {
   "cell_type": "code",
   "execution_count": 6,
   "id": "bfade780-c423-410c-a0d4-43156ac4dc7e",
   "metadata": {},
   "outputs": [
    {
     "name": "stdout",
     "output_type": "stream",
     "text": [
      "99\n",
      "<class 'int'>\n",
      "2024853802288\n"
     ]
    }
   ],
   "source": [
    "x = 99\n",
    "print(x)\n",
    "print(type(x))\n",
    "print(id(x))"
   ]
  },
  {
   "cell_type": "code",
   "execution_count": 9,
   "id": "d826ace0-5295-4320-a7c9-87a5c878d654",
   "metadata": {},
   "outputs": [
    {
     "ename": "SyntaxError",
     "evalue": "cannot assign to expression here. Maybe you meant '==' instead of '='? (296794986.py, line 5)",
     "output_type": "error",
     "traceback": [
      "\u001b[1;36m  Cell \u001b[1;32mIn[9], line 5\u001b[1;36m\u001b[0m\n\u001b[1;33m    nam%e = \"pratap\"\u001b[0m\n\u001b[1;37m    ^\u001b[0m\n\u001b[1;31mSyntaxError\u001b[0m\u001b[1;31m:\u001b[0m cannot assign to expression here. Maybe you meant '==' instead of '='?\n"
     ]
    }
   ],
   "source": [
    "''' variable name is declare a to z and A to Z 0 to 9 and underscore is allowed\n",
    "variable name declare is start from alphabet small and capital and underscore but \n",
    "you can not use number'''\n",
    "\n",
    "# variable name is case cencitive\n",
    "# avoid using keyword\n",
    "\n",
    "nam%e = \"pratap\"\n",
    "print(nam%e)"
   ]
  },
  {
   "cell_type": "code",
   "execution_count": 10,
   "id": "27ae0367-e29a-43db-b1a5-efb90ef0e716",
   "metadata": {},
   "outputs": [
    {
     "ename": "SyntaxError",
     "evalue": "invalid decimal literal (3394429532.py, line 1)",
     "output_type": "error",
     "traceback": [
      "\u001b[1;36m  Cell \u001b[1;32mIn[10], line 1\u001b[1;36m\u001b[0m\n\u001b[1;33m    1age = \"pratap\"\u001b[0m\n\u001b[1;37m    ^\u001b[0m\n\u001b[1;31mSyntaxError\u001b[0m\u001b[1;31m:\u001b[0m invalid decimal literal\n"
     ]
    }
   ],
   "source": [
    "1age = \"pratap\"\n",
    "print(1age)"
   ]
  },
  {
   "cell_type": "code",
   "execution_count": 11,
   "id": "95012ab2-c86b-4757-b7f3-69077039a46d",
   "metadata": {},
   "outputs": [
    {
     "name": "stdout",
     "output_type": "stream",
     "text": [
      "pratap\n"
     ]
    }
   ],
   "source": [
    "na1me = \"pratap\"\n",
    "print(na1me)"
   ]
  },
  {
   "cell_type": "code",
   "execution_count": 12,
   "id": "a43bbe4e-71b6-45be-a7d6-f16975dc6523",
   "metadata": {},
   "outputs": [
    {
     "name": "stdout",
     "output_type": "stream",
     "text": [
      "pratap\n"
     ]
    }
   ],
   "source": [
    "na_me = \"pratap\"\n",
    "print(na_me)"
   ]
  },
  {
   "cell_type": "code",
   "execution_count": 13,
   "id": "fcf28e4a-5b4c-40c5-8221-c4c39036022f",
   "metadata": {},
   "outputs": [
    {
     "name": "stdout",
     "output_type": "stream",
     "text": [
      "pratap\n"
     ]
    }
   ],
   "source": [
    "_name = \"pratap\"\n",
    "print(_name)"
   ]
  },
  {
   "cell_type": "code",
   "execution_count": 14,
   "id": "76c5428d-c387-49a8-8c75-692ae1d4888d",
   "metadata": {},
   "outputs": [
    {
     "name": "stdout",
     "output_type": "stream",
     "text": [
      "pratap\n"
     ]
    }
   ],
   "source": [
    "Name = \"pratap\"\n",
    "print(Name)"
   ]
  },
  {
   "cell_type": "code",
   "execution_count": 15,
   "id": "dcf78b96-2547-427c-964d-e0eedf5701be",
   "metadata": {},
   "outputs": [
    {
     "name": "stdout",
     "output_type": "stream",
     "text": [
      "21\n",
      "22\n"
     ]
    }
   ],
   "source": [
    "a = 21\n",
    "A = 22\n",
    "print(a)\n",
    "print(A)"
   ]
  },
  {
   "cell_type": "code",
   "execution_count": null,
   "id": "3fc19cf2-c630-4c45-ad85-cdde408e4cf1",
   "metadata": {},
   "outputs": [],
   "source": [
    "def1 = 999\n",
    "print(def1)"
   ]
  },
  {
   "cell_type": "code",
   "execution_count": null,
   "id": "f14f20c4-f2b0-4cb0-9b87-7d8c26524855",
   "metadata": {},
   "outputs": [],
   "source": []
  }
 ],
 "metadata": {
  "kernelspec": {
   "display_name": "Python 3 (ipykernel)",
   "language": "python",
   "name": "python3"
  },
  "language_info": {
   "codemirror_mode": {
    "name": "ipython",
    "version": 3
   },
   "file_extension": ".py",
   "mimetype": "text/x-python",
   "name": "python",
   "nbconvert_exporter": "python",
   "pygments_lexer": "ipython3",
   "version": "3.10.11"
  }
 },
 "nbformat": 4,
 "nbformat_minor": 5
}
