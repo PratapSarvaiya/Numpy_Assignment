{
 "cells": [
  {
   "cell_type": "code",
   "execution_count": 1,
   "id": "35e18223-e15c-4771-82c7-ecc7a5b1186f",
   "metadata": {},
   "outputs": [
    {
     "name": "stdout",
     "output_type": "stream",
     "text": [
      "(3, 6, 1, 9, 10)\n",
      "<class 'tuple'>\n"
     ]
    }
   ],
   "source": [
    "# Tuple : tuple is immutable\n",
    "\n",
    "tup1 = (3,6,1,9,10)\n",
    "print(tup1)\n",
    "print(type(tup1))"
   ]
  },
  {
   "cell_type": "code",
   "execution_count": 3,
   "id": "783769c1-0041-4ca5-980b-4ec87073302a",
   "metadata": {},
   "outputs": [
    {
     "name": "stdout",
     "output_type": "stream",
     "text": [
      "(1, 2, 4)\n",
      "<class 'tuple'>\n"
     ]
    }
   ],
   "source": [
    "t1 = tuple([1,2,4])\n",
    "print(t1)\n",
    "print(type(t1))"
   ]
  },
  {
   "cell_type": "code",
   "execution_count": 5,
   "id": "b3b6457f-43a1-430b-bd44-d91cbb51150e",
   "metadata": {},
   "outputs": [
    {
     "name": "stdout",
     "output_type": "stream",
     "text": [
      "('p', 'r', 'a', 't', 'a', 'p') (3, 6, 1, 9, 10)\n"
     ]
    }
   ],
   "source": [
    "t2 = tuple(\"pratap\")\n",
    "t3 = tuple(tup1)\n",
    "print(t2,t3)"
   ]
  },
  {
   "cell_type": "code",
   "execution_count": 6,
   "id": "1bbad0de-328f-4eeb-bea3-cb0ff96542cf",
   "metadata": {},
   "outputs": [
    {
     "name": "stdout",
     "output_type": "stream",
     "text": [
      "<class 'int'>\n"
     ]
    }
   ],
   "source": [
    "t = (35)\n",
    "print(type(t))"
   ]
  },
  {
   "cell_type": "code",
   "execution_count": null,
   "id": "16dd0576-1274-4962-a09d-c31d907a8f5c",
   "metadata": {},
   "outputs": [],
   "source": [
    "# \" , \"   comma is indicate to collection of item\n",
    "\n",
    "t = (35,)\n",
    "print(type(t))"
   ]
  }
 ],
 "metadata": {
  "kernelspec": {
   "display_name": "Python 3 (ipykernel)",
   "language": "python",
   "name": "python3"
  },
  "language_info": {
   "codemirror_mode": {
    "name": "ipython",
    "version": 3
   },
   "file_extension": ".py",
   "mimetype": "text/x-python",
   "name": "python",
   "nbconvert_exporter": "python",
   "pygments_lexer": "ipython3",
   "version": "3.10.11"
  }
 },
 "nbformat": 4,
 "nbformat_minor": 5
}
