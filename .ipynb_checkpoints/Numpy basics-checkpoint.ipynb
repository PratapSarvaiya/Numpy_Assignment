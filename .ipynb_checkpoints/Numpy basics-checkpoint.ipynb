{
 "cells": [
  {
   "cell_type": "code",
   "execution_count": null,
   "id": "ed5f5033-3db2-42e9-9961-9c4f9179d66b",
   "metadata": {},
   "outputs": [],
   "source": [
    "# Numpy>> Numerical python\n",
    "# 2005 by Travis oliphant\n",
    "# before 2005 there wew special mathematical tools (similar to Tora, Linga)"
   ]
  },
  {
   "cell_type": "code",
   "execution_count": 5,
   "id": "10ff402e-022a-43d4-933d-1b794b71eaf3",
   "metadata": {},
   "outputs": [],
   "source": [
    "import numpy as np # as is alias"
   ]
  },
  {
   "cell_type": "code",
   "execution_count": 6,
   "id": "f0ec9607-fd12-4fe0-8d36-a021d8749c2a",
   "metadata": {},
   "outputs": [
    {
     "data": {
      "text/plain": [
       "'1.26.1'"
      ]
     },
     "execution_count": 6,
     "metadata": {},
     "output_type": "execute_result"
    }
   ],
   "source": [
    "np.__version__"
   ]
  },
  {
   "cell_type": "code",
   "execution_count": 7,
   "id": "41696d4c-3b73-492c-9dd6-caa4a43d68c2",
   "metadata": {},
   "outputs": [
    {
     "name": "stdout",
     "output_type": "stream",
     "text": [
      "\n",
      "NumPy\n",
      "=====\n",
      "\n",
      "Provides\n",
      "  1. An array object of arbitrary homogeneous items\n",
      "  2. Fast mathematical operations over arrays\n",
      "  3. Linear Algebra, Fourier Transforms, Random Number Generation\n",
      "\n",
      "How to use the documentation\n",
      "----------------------------\n",
      "Documentation is available in two forms: docstrings provided\n",
      "with the code, and a loose standing reference guide, available from\n",
      "`the NumPy homepage <https://numpy.org>`_.\n",
      "\n",
      "We recommend exploring the docstrings using\n",
      "`IPython <https://ipython.org>`_, an advanced Python shell with\n",
      "TAB-completion and introspection capabilities.  See below for further\n",
      "instructions.\n",
      "\n",
      "The docstring examples assume that `numpy` has been imported as ``np``::\n",
      "\n",
      "  >>> import numpy as np\n",
      "\n",
      "Code snippets are indicated by three greater-than signs::\n",
      "\n",
      "  >>> x = 42\n",
      "  >>> x = x + 1\n",
      "\n",
      "Use the built-in ``help`` function to view a function's docstring::\n",
      "\n",
      "  >>> help(np.sort)\n",
      "  ... # doctest: +SKIP\n",
      "\n",
      "For some objects, ``np.info(obj)`` may provide additional help.  This is\n",
      "particularly true if you see the line \"Help on ufunc object:\" at the top\n",
      "of the help() page.  Ufuncs are implemented in C, not Python, for speed.\n",
      "The native Python help() does not know how to view their help, but our\n",
      "np.info() function does.\n",
      "\n",
      "To search for documents containing a keyword, do::\n",
      "\n",
      "  >>> np.lookfor('keyword')\n",
      "  ... # doctest: +SKIP\n",
      "\n",
      "General-purpose documents like a glossary and help on the basic concepts\n",
      "of numpy are available under the ``doc`` sub-module::\n",
      "\n",
      "  >>> from numpy import doc\n",
      "  >>> help(doc)\n",
      "  ... # doctest: +SKIP\n",
      "\n",
      "Available subpackages\n",
      "---------------------\n",
      "lib\n",
      "    Basic functions used by several sub-packages.\n",
      "random\n",
      "    Core Random Tools\n",
      "linalg\n",
      "    Core Linear Algebra Tools\n",
      "fft\n",
      "    Core FFT routines\n",
      "polynomial\n",
      "    Polynomial tools\n",
      "testing\n",
      "    NumPy testing tools\n",
      "distutils\n",
      "    Enhancements to distutils with support for\n",
      "    Fortran compilers support and more  (for Python <= 3.11).\n",
      "\n",
      "Utilities\n",
      "---------\n",
      "test\n",
      "    Run numpy unittests\n",
      "show_config\n",
      "    Show numpy build configuration\n",
      "matlib\n",
      "    Make everything matrices.\n",
      "__version__\n",
      "    NumPy version string\n",
      "\n",
      "Viewing documentation using IPython\n",
      "-----------------------------------\n",
      "\n",
      "Start IPython and import `numpy` usually under the alias ``np``: `import\n",
      "numpy as np`.  Then, directly past or use the ``%cpaste`` magic to paste\n",
      "examples into the shell.  To see which functions are available in `numpy`,\n",
      "type ``np.<TAB>`` (where ``<TAB>`` refers to the TAB key), or use\n",
      "``np.*cos*?<ENTER>`` (where ``<ENTER>`` refers to the ENTER key) to narrow\n",
      "down the list.  To view the docstring for a function, use\n",
      "``np.cos?<ENTER>`` (to view the docstring) and ``np.cos??<ENTER>`` (to view\n",
      "the source code).\n",
      "\n",
      "Copies vs. in-place operation\n",
      "-----------------------------\n",
      "Most of the functions in `numpy` return a copy of the array argument\n",
      "(e.g., `np.sort`).  In-place versions of these functions are often\n",
      "available as array methods, i.e. ``x = np.array([1,2,3]); x.sort()``.\n",
      "Exceptions to this rule are documented.\n",
      "\n",
      "\n"
     ]
    }
   ],
   "source": [
    "print(np.__doc__)  # documentation numpy"
   ]
  },
  {
   "cell_type": "code",
   "execution_count": 8,
   "id": "4f8cbb90-c8ae-422f-97fb-d9d893733e80",
   "metadata": {},
   "outputs": [
    {
     "data": {
      "text/plain": [
       "list"
      ]
     },
     "execution_count": 8,
     "metadata": {},
     "output_type": "execute_result"
    }
   ],
   "source": [
    "list = [1,2,3,\"pwskills\",3+5j,True,1.3] #list stored hetrogenius data\n",
    "type(list)"
   ]
  },
  {
   "cell_type": "code",
   "execution_count": null,
   "id": "dd4eb8f6-5b6f-4227-b9f1-655def03be69",
   "metadata": {},
   "outputs": [],
   "source": [
    "# Numpy stored the data in a numpy array\n",
    "# an array is a container/data structure used to store data of same data type >>homogeius data\n"
   ]
  },
  {
   "cell_type": "code",
   "execution_count": null,
   "id": "4e3f126b-cdc0-4d93-acd9-d6ed4bd5e8bd",
   "metadata": {},
   "outputs": [],
   "source": [
    "# why numpy? already we have list, c is the fastest programing language after c++\n",
    "# numpy is built using c >> Numpy computation is fast\n",
    "# due to array>>since it stores homogenuos data, numpy array is faster\n",
    "#since it stores homogenous data >> contiguous/continuous memory loaction\n",
    "#Mathematical computation is fast"
   ]
  },
  {
   "cell_type": "code",
   "execution_count": 9,
   "id": "9471627f-ffc9-47c7-9b7a-edb4a261fa7d",
   "metadata": {},
   "outputs": [],
   "source": [
    "l = [1,2,3,4,5] # numpy array is homogenous >> all elements can be integer,float,string"
   ]
  },
  {
   "cell_type": "code",
   "execution_count": 11,
   "id": "0f41f1aa-187b-4e19-9cd5-7c1fc479d8fa",
   "metadata": {},
   "outputs": [
    {
     "data": {
      "text/plain": [
       "array([1, 2, 3, 4, 5])"
      ]
     },
     "execution_count": 11,
     "metadata": {},
     "output_type": "execute_result"
    }
   ],
   "source": [
    "np.array(l)"
   ]
  },
  {
   "cell_type": "code",
   "execution_count": 12,
   "id": "6098f2a6-6458-4162-9699-14c21eae592e",
   "metadata": {},
   "outputs": [
    {
     "data": {
      "text/plain": [
       "list"
      ]
     },
     "execution_count": 12,
     "metadata": {},
     "output_type": "execute_result"
    }
   ],
   "source": [
    "type(l)"
   ]
  },
  {
   "cell_type": "code",
   "execution_count": 13,
   "id": "29487aea-e88d-4852-b657-17ed7c909f4c",
   "metadata": {},
   "outputs": [],
   "source": [
    "arr = np.array(l)"
   ]
  },
  {
   "cell_type": "code",
   "execution_count": 14,
   "id": "c5fe8fcf-2e29-471e-879e-663ca13bbaea",
   "metadata": {},
   "outputs": [
    {
     "data": {
      "text/plain": [
       "numpy.ndarray"
      ]
     },
     "execution_count": 14,
     "metadata": {},
     "output_type": "execute_result"
    }
   ],
   "source": [
    "type(arr)   # nd means n dimensional array"
   ]
  },
  {
   "cell_type": "code",
   "execution_count": 15,
   "id": "8251c803-99b0-48d2-9cf3-d0be02934987",
   "metadata": {},
   "outputs": [
    {
     "data": {
      "text/plain": [
       "array(['1', '2', '3', '4', '5', 'Ajay'], dtype='<U11')"
      ]
     },
     "execution_count": 15,
     "metadata": {},
     "output_type": "execute_result"
    }
   ],
   "source": [
    "l = [1,2,3,4,5,\"Ajay\"] # ajay is string so all the data is convet in string\n",
    "np.array(l)\n",
    "\n"
   ]
  },
  {
   "cell_type": "code",
   "execution_count": null,
   "id": "de12952e-8567-41d4-a250-2d4c4d403191",
   "metadata": {},
   "outputs": [],
   "source": [
    "# array stores homogenous data"
   ]
  },
  {
   "cell_type": "code",
   "execution_count": 16,
   "id": "90727bd7-dfb1-49c6-958b-58f7244a6b87",
   "metadata": {},
   "outputs": [
    {
     "data": {
      "text/plain": [
       "array([1. , 2. , 3. , 4. , 5. , 2.4])"
      ]
     },
     "execution_count": 16,
     "metadata": {},
     "output_type": "execute_result"
    }
   ],
   "source": [
    "l = [1,2,3,4,5,2.4]\n",
    "np.array(l)"
   ]
  },
  {
   "cell_type": "code",
   "execution_count": 17,
   "id": "c141822b-81cb-4a3c-9a7a-d8189ff2c8aa",
   "metadata": {},
   "outputs": [
    {
     "data": {
      "text/plain": [
       "array(['1', '2', '3', '4', '5', '2.5', 'pwskills'], dtype='<U32')"
      ]
     },
     "execution_count": 17,
     "metadata": {},
     "output_type": "execute_result"
    }
   ],
   "source": [
    "l = [1,2,3,4,5,2.5,\"pwskills\"]\n",
    "np.array(l)"
   ]
  },
  {
   "cell_type": "code",
   "execution_count": 18,
   "id": "467c60f3-1bd1-4359-a0c8-73f60f6c4c83",
   "metadata": {},
   "outputs": [
    {
     "data": {
      "text/plain": [
       "numpy.ndarray"
      ]
     },
     "execution_count": 18,
     "metadata": {},
     "output_type": "execute_result"
    }
   ],
   "source": [
    "type(arr)"
   ]
  },
  {
   "cell_type": "code",
   "execution_count": 19,
   "id": "3b75021f-bd87-4fad-9f30-60bb988b6d80",
   "metadata": {},
   "outputs": [
    {
     "data": {
      "text/plain": [
       "array([1, 2, 3, 4, 5])"
      ]
     },
     "execution_count": 19,
     "metadata": {},
     "output_type": "execute_result"
    }
   ],
   "source": [
    "arr"
   ]
  },
  {
   "cell_type": "code",
   "execution_count": 20,
   "id": "e18a2194-5a33-4cf8-b4e2-eafc1fe807f4",
   "metadata": {},
   "outputs": [
    {
     "data": {
      "text/plain": [
       "1"
      ]
     },
     "execution_count": 20,
     "metadata": {},
     "output_type": "execute_result"
    }
   ],
   "source": [
    "arr.ndim # ndim is check to dimenson and arr has only row"
   ]
  },
  {
   "cell_type": "code",
   "execution_count": 23,
   "id": "a965a10e-805e-41ad-839d-1bbb7da641ff",
   "metadata": {},
   "outputs": [],
   "source": [
    "arr1 = np.array([[1,2,3],[4,5,6]])"
   ]
  },
  {
   "cell_type": "code",
   "execution_count": 24,
   "id": "cb1f8d3c-b4b7-4076-aea5-1c012ee4cba4",
   "metadata": {},
   "outputs": [
    {
     "data": {
      "text/plain": [
       "array([[1, 2, 3],\n",
       "       [4, 5, 6]])"
      ]
     },
     "execution_count": 24,
     "metadata": {},
     "output_type": "execute_result"
    }
   ],
   "source": [
    "arr1    # one opening and  one closing square bracket  called 1 dimnson as well as 2 and so on"
   ]
  },
  {
   "cell_type": "code",
   "execution_count": 25,
   "id": "f9958461-6fad-4a36-b4a2-80761550a477",
   "metadata": {},
   "outputs": [
    {
     "data": {
      "text/plain": [
       "2"
      ]
     },
     "execution_count": 25,
     "metadata": {},
     "output_type": "execute_result"
    }
   ],
   "source": [
    "arr1.ndim"
   ]
  },
  {
   "cell_type": "code",
   "execution_count": 26,
   "id": "bd2a1b9c-dea0-4975-ae76-28ea145f98f8",
   "metadata": {},
   "outputs": [],
   "source": [
    "mat = np.matrix([1,2,3,4]) # matrix is specialised array of 2 dimenson"
   ]
  },
  {
   "cell_type": "code",
   "execution_count": 27,
   "id": "4c5c563b-3e2c-4f8f-9ca0-e1e4b44fb8fe",
   "metadata": {},
   "outputs": [
    {
     "data": {
      "text/plain": [
       "matrix([[1, 2, 3, 4]])"
      ]
     },
     "execution_count": 27,
     "metadata": {},
     "output_type": "execute_result"
    }
   ],
   "source": [
    "mat"
   ]
  },
  {
   "cell_type": "code",
   "execution_count": 28,
   "id": "185797bf-62a0-474c-ad7b-3e38c0cdc719",
   "metadata": {},
   "outputs": [
    {
     "data": {
      "text/plain": [
       "numpy.matrix"
      ]
     },
     "execution_count": 28,
     "metadata": {},
     "output_type": "execute_result"
    }
   ],
   "source": [
    "type(mat)"
   ]
  },
  {
   "cell_type": "code",
   "execution_count": 29,
   "id": "643994e6-3607-4697-b445-9c90dd8f4a16",
   "metadata": {},
   "outputs": [
    {
     "data": {
      "text/plain": [
       "2"
      ]
     },
     "execution_count": 29,
     "metadata": {},
     "output_type": "execute_result"
    }
   ],
   "source": [
    "mat.ndim"
   ]
  },
  {
   "cell_type": "code",
   "execution_count": null,
   "id": "8cd17f6d-8b71-47bd-b04a-d98149198d06",
   "metadata": {},
   "outputs": [],
   "source": [
    "# To understand the dimension, see the no of opening/closing square bracket"
   ]
  },
  {
   "cell_type": "code",
   "execution_count": 30,
   "id": "6b2a44ba-df08-4285-a67f-36f4513b2779",
   "metadata": {},
   "outputs": [
    {
     "ename": "ValueError",
     "evalue": "matrix must be 2-dimensional",
     "output_type": "error",
     "traceback": [
      "\u001b[1;31m---------------------------------------------------------------------------\u001b[0m",
      "\u001b[1;31mValueError\u001b[0m                                Traceback (most recent call last)",
      "Cell \u001b[1;32mIn[30], line 1\u001b[0m\n\u001b[1;32m----> 1\u001b[0m \u001b[43mnp\u001b[49m\u001b[38;5;241;43m.\u001b[39;49m\u001b[43mmatrix\u001b[49m\u001b[43m(\u001b[49m\u001b[43m[\u001b[49m\u001b[43m[\u001b[49m\u001b[43m[\u001b[49m\u001b[38;5;241;43m1\u001b[39;49m\u001b[43m,\u001b[49m\u001b[38;5;241;43m2\u001b[39;49m\u001b[43m]\u001b[49m\u001b[43m,\u001b[49m\u001b[43m[\u001b[49m\u001b[38;5;241;43m1\u001b[39;49m\u001b[43m,\u001b[49m\u001b[38;5;241;43m5\u001b[39;49m\u001b[43m]\u001b[49m\u001b[43m,\u001b[49m\u001b[43m[\u001b[49m\u001b[38;5;241;43m1\u001b[39;49m\u001b[43m,\u001b[49m\u001b[38;5;241;43m6\u001b[39;49m\u001b[43m]\u001b[49m\u001b[43m]\u001b[49m\u001b[43m]\u001b[49m\u001b[43m)\u001b[49m\n",
      "File \u001b[1;32m~\\AppData\\Local\\Programs\\Python\\Python310\\lib\\site-packages\\numpy\\matrixlib\\defmatrix.py:150\u001b[0m, in \u001b[0;36mmatrix.__new__\u001b[1;34m(subtype, data, dtype, copy)\u001b[0m\n\u001b[0;32m    148\u001b[0m shape \u001b[38;5;241m=\u001b[39m arr\u001b[38;5;241m.\u001b[39mshape\n\u001b[0;32m    149\u001b[0m \u001b[38;5;28;01mif\u001b[39;00m (ndim \u001b[38;5;241m>\u001b[39m \u001b[38;5;241m2\u001b[39m):\n\u001b[1;32m--> 150\u001b[0m     \u001b[38;5;28;01mraise\u001b[39;00m \u001b[38;5;167;01mValueError\u001b[39;00m(\u001b[38;5;124m\"\u001b[39m\u001b[38;5;124mmatrix must be 2-dimensional\u001b[39m\u001b[38;5;124m\"\u001b[39m)\n\u001b[0;32m    151\u001b[0m \u001b[38;5;28;01melif\u001b[39;00m ndim \u001b[38;5;241m==\u001b[39m \u001b[38;5;241m0\u001b[39m:\n\u001b[0;32m    152\u001b[0m     shape \u001b[38;5;241m=\u001b[39m (\u001b[38;5;241m1\u001b[39m, \u001b[38;5;241m1\u001b[39m)\n",
      "\u001b[1;31mValueError\u001b[0m: matrix must be 2-dimensional"
     ]
    }
   ],
   "source": [
    "np.matrix([[[1,2],[1,5],[1,6]]]) # will throw error-matrix must be 2-dimensional"
   ]
  },
  {
   "cell_type": "code",
   "execution_count": 34,
   "id": "0759dc23-0c4b-46ea-a173-986a637eb3d9",
   "metadata": {},
   "outputs": [],
   "source": [
    "arr3 = np.array([[[1,2],[1,5],[1,6]]])"
   ]
  },
  {
   "cell_type": "code",
   "execution_count": 35,
   "id": "eb8becae-fce9-4a9c-af43-b7824b6dfdf3",
   "metadata": {},
   "outputs": [
    {
     "data": {
      "text/plain": [
       "array([[[1, 2],\n",
       "        [1, 5],\n",
       "        [1, 6]]])"
      ]
     },
     "execution_count": 35,
     "metadata": {},
     "output_type": "execute_result"
    }
   ],
   "source": [
    "arr3"
   ]
  },
  {
   "cell_type": "code",
   "execution_count": 36,
   "id": "c38a994e-07a9-4458-a6da-0fd6b9e207a5",
   "metadata": {},
   "outputs": [
    {
     "data": {
      "text/plain": [
       "3"
      ]
     },
     "execution_count": 36,
     "metadata": {},
     "output_type": "execute_result"
    }
   ],
   "source": [
    "arr3.ndim"
   ]
  },
  {
   "cell_type": "code",
   "execution_count": 37,
   "id": "5a77a723-3571-45e6-ac02-eb3ab1cc32ec",
   "metadata": {},
   "outputs": [
    {
     "data": {
      "text/plain": [
       "array([1, 2, 3])"
      ]
     },
     "execution_count": 37,
     "metadata": {},
     "output_type": "execute_result"
    }
   ],
   "source": [
    "#more ways to array\n",
    "\n",
    "l = [1,2,3]\n",
    "np.asarray(l) # initial function asarray to convert to an array, np.array came after this "
   ]
  },
  {
   "cell_type": "code",
   "execution_count": 38,
   "id": "20a88fd1-0fb9-4fab-9ccd-b7d1c74a6530",
   "metadata": {},
   "outputs": [
    {
     "data": {
      "text/plain": [
       "array([1, 2, 3])"
      ]
     },
     "execution_count": 38,
     "metadata": {},
     "output_type": "execute_result"
    }
   ],
   "source": [
    "np.asanyarray([1,2,3])"
   ]
  },
  {
   "cell_type": "code",
   "execution_count": null,
   "id": "0d5e7d19-78a8-4e96-9c1b-b5b473872519",
   "metadata": {},
   "outputs": [],
   "source": [
    "# asanyarray will convert the input to an ndarray, but pass ndarray subclass through\n",
    "# if something is already an array or part of array, it will simply allow to pass throgh it"
   ]
  },
  {
   "cell_type": "code",
   "execution_count": 39,
   "id": "d661eca7-1429-4566-9cd1-9610aa106f43",
   "metadata": {},
   "outputs": [
    {
     "data": {
      "text/plain": [
       "array([1, 2, 3])"
      ]
     },
     "execution_count": 39,
     "metadata": {},
     "output_type": "execute_result"
    }
   ],
   "source": [
    "np.asanyarray([1,2,3])"
   ]
  },
  {
   "cell_type": "code",
   "execution_count": 40,
   "id": "f938c3e2-6d69-46c4-86d1-9e69dbf5be39",
   "metadata": {},
   "outputs": [
    {
     "data": {
      "text/plain": [
       "matrix([[1, 2, 3, 4]])"
      ]
     },
     "execution_count": 40,
     "metadata": {},
     "output_type": "execute_result"
    }
   ],
   "source": [
    "mat\n"
   ]
  },
  {
   "cell_type": "code",
   "execution_count": 41,
   "id": "4d7d8a7b-0155-4271-a56a-3b75beee4260",
   "metadata": {},
   "outputs": [
    {
     "data": {
      "text/plain": [
       "matrix([[1, 2, 3, 4]])"
      ]
     },
     "execution_count": 41,
     "metadata": {},
     "output_type": "execute_result"
    }
   ],
   "source": [
    "np.asanyarray(mat)"
   ]
  },
  {
   "cell_type": "code",
   "execution_count": 43,
   "id": "bf626ef9-ae77-4619-a066-17803e7ba56a",
   "metadata": {},
   "outputs": [
    {
     "data": {
      "text/plain": [
       "tuple"
      ]
     },
     "execution_count": 43,
     "metadata": {},
     "output_type": "execute_result"
    }
   ],
   "source": [
    "tuple = ([1,2,3],[4,5,6])\n",
    "type(tuple)"
   ]
  },
  {
   "cell_type": "code",
   "execution_count": 45,
   "id": "d9abae3b-81b1-4f8e-9b0d-c1caf9394c16",
   "metadata": {},
   "outputs": [
    {
     "data": {
      "text/plain": [
       "array([[1, 2, 3],\n",
       "       [4, 5, 6]])"
      ]
     },
     "execution_count": 45,
     "metadata": {},
     "output_type": "execute_result"
    }
   ],
   "source": [
    "np.array(tuple)"
   ]
  },
  {
   "cell_type": "code",
   "execution_count": 46,
   "id": "cb49254f-533d-4ad2-8b3c-fdd304965d70",
   "metadata": {},
   "outputs": [
    {
     "data": {
      "text/plain": [
       "array([1, 2, 3, 4, 5])"
      ]
     },
     "execution_count": 46,
     "metadata": {},
     "output_type": "execute_result"
    }
   ],
   "source": [
    "arr\n"
   ]
  },
  {
   "cell_type": "code",
   "execution_count": 47,
   "id": "e22a9ce8-ddcf-41d9-b014-3175fcadd949",
   "metadata": {},
   "outputs": [
    {
     "data": {
      "text/plain": [
       "1"
      ]
     },
     "execution_count": 47,
     "metadata": {},
     "output_type": "execute_result"
    }
   ],
   "source": [
    "# accessing the element of the array\n",
    "arr[0]"
   ]
  },
  {
   "cell_type": "code",
   "execution_count": 48,
   "id": "15b743dc-41e1-4e28-9924-be76758b7e1c",
   "metadata": {},
   "outputs": [],
   "source": [
    "# array is mutable\n",
    "arr[0]=1000"
   ]
  },
  {
   "cell_type": "code",
   "execution_count": 49,
   "id": "f696381a-7119-41db-9eaf-fa8b22d084f5",
   "metadata": {},
   "outputs": [
    {
     "data": {
      "text/plain": [
       "array([1000,    2,    3,    4,    5])"
      ]
     },
     "execution_count": 49,
     "metadata": {},
     "output_type": "execute_result"
    }
   ],
   "source": [
    "arr"
   ]
  },
  {
   "cell_type": "code",
   "execution_count": 50,
   "id": "c0236f9b-aac1-48e6-b29d-fb3b2d6095cb",
   "metadata": {},
   "outputs": [
    {
     "data": {
      "text/plain": [
       "array([1000,    2,    3,    4,    5])"
      ]
     },
     "execution_count": 50,
     "metadata": {},
     "output_type": "execute_result"
    }
   ],
   "source": [
    "arr"
   ]
  },
  {
   "cell_type": "code",
   "execution_count": 54,
   "id": "78832596-7bee-4196-940f-3d09a768dd7f",
   "metadata": {},
   "outputs": [],
   "source": [
    " a = arr\n",
    "\n"
   ]
  },
  {
   "cell_type": "code",
   "execution_count": 53,
   "id": "54d238e2-e96e-4e90-b11e-7a002acd48b1",
   "metadata": {},
   "outputs": [],
   "source": [
    "# a and array will point to same memory location, so if there is change is a or arr\n",
    "# it will reflect on both"
   ]
  },
  {
   "cell_type": "code",
   "execution_count": 55,
   "id": "fd713aa3-0c17-4065-af5d-4a04a31bd681",
   "metadata": {},
   "outputs": [
    {
     "data": {
      "text/plain": [
       "array([1000,    2,    3,    4,    5])"
      ]
     },
     "execution_count": 55,
     "metadata": {},
     "output_type": "execute_result"
    }
   ],
   "source": [
    "a"
   ]
  },
  {
   "cell_type": "code",
   "execution_count": 56,
   "id": "292f4b19-84a5-47e4-82ac-bec49d5e764a",
   "metadata": {},
   "outputs": [
    {
     "data": {
      "text/plain": [
       "array([1000,    2,    3,    4,    5])"
      ]
     },
     "execution_count": 56,
     "metadata": {},
     "output_type": "execute_result"
    }
   ],
   "source": [
    "arr"
   ]
  },
  {
   "cell_type": "code",
   "execution_count": null,
   "id": "d8d95f9a-b9c6-478b-96d9-d4d75c6ab2f5",
   "metadata": {},
   "outputs": [],
   "source": [
    "# shallow copy>> change in one array will lead to change in another"
   ]
  },
  {
   "cell_type": "code",
   "execution_count": 60,
   "id": "bda8d91b-6652-4949-87e3-b9ca8e6a48a6",
   "metadata": {},
   "outputs": [],
   "source": [
    "a[0] = 5000"
   ]
  },
  {
   "cell_type": "code",
   "execution_count": 61,
   "id": "f07ca834-76e2-4849-b7c4-63844856690b",
   "metadata": {},
   "outputs": [
    {
     "data": {
      "text/plain": [
       "array([5000,    2,    3,    4,    5])"
      ]
     },
     "execution_count": 61,
     "metadata": {},
     "output_type": "execute_result"
    }
   ],
   "source": [
    "a"
   ]
  },
  {
   "cell_type": "code",
   "execution_count": 62,
   "id": "2a6ad7ba-7419-442f-bfa2-d58e49884462",
   "metadata": {},
   "outputs": [
    {
     "data": {
      "text/plain": [
       "array([5000,    2,    3,    4,    5])"
      ]
     },
     "execution_count": 62,
     "metadata": {},
     "output_type": "execute_result"
    }
   ],
   "source": [
    "arr"
   ]
  },
  {
   "cell_type": "code",
   "execution_count": 63,
   "id": "c8db918f-8cd4-4d72-b824-6858405496ff",
   "metadata": {},
   "outputs": [
    {
     "data": {
      "text/plain": [
       "array([5000,    2,    3,    4,    5])"
      ]
     },
     "execution_count": 63,
     "metadata": {},
     "output_type": "execute_result"
    }
   ],
   "source": [
    "arr"
   ]
  },
  {
   "cell_type": "code",
   "execution_count": 64,
   "id": "e8d2f397-313b-42d5-b84f-687e660a8ac6",
   "metadata": {},
   "outputs": [],
   "source": [
    "b = arr.copy() # deep copy >> change in one array will not eflect in another"
   ]
  },
  {
   "cell_type": "code",
   "execution_count": 65,
   "id": "2e6cbceb-eb73-4b66-9fa3-8c07292c6ddb",
   "metadata": {},
   "outputs": [
    {
     "data": {
      "text/plain": [
       "array([5000,    2,    3,    4,    5])"
      ]
     },
     "execution_count": 65,
     "metadata": {},
     "output_type": "execute_result"
    }
   ],
   "source": [
    "b"
   ]
  },
  {
   "cell_type": "code",
   "execution_count": 67,
   "id": "77da29e7-f9a9-403d-8ab5-7353ea271bae",
   "metadata": {},
   "outputs": [],
   "source": [
    "b[0]=11000"
   ]
  },
  {
   "cell_type": "code",
   "execution_count": 68,
   "id": "c2977c12-1041-46dc-9f71-c0fd3a251428",
   "metadata": {},
   "outputs": [
    {
     "data": {
      "text/plain": [
       "array([11000,     2,     3,     4,     5])"
      ]
     },
     "execution_count": 68,
     "metadata": {},
     "output_type": "execute_result"
    }
   ],
   "source": [
    "b"
   ]
  },
  {
   "cell_type": "code",
   "execution_count": 69,
   "id": "b9687b93-e33d-4bbb-9d8e-447b8614ce2d",
   "metadata": {},
   "outputs": [
    {
     "data": {
      "text/plain": [
       "array([5000,    2,    3,    4,    5])"
      ]
     },
     "execution_count": 69,
     "metadata": {},
     "output_type": "execute_result"
    }
   ],
   "source": [
    "arr"
   ]
  },
  {
   "cell_type": "code",
   "execution_count": null,
   "id": "a1cb86c4-623b-41d9-b950-39d0d881ed2c",
   "metadata": {},
   "outputs": [],
   "source": [
    "# To create an array>> np.array,np.asarray,np.asanyarray"
   ]
  },
  {
   "cell_type": "code",
   "execution_count": null,
   "id": "1c38daa4-07eb-4036-8428-d0f3b6dcfb7f",
   "metadata": {},
   "outputs": [],
   "source": [
    "# multiple approaches to generate any array"
   ]
  },
  {
   "cell_type": "code",
   "execution_count": 70,
   "id": "cc238408-8e2e-4b46-92bd-e6222045ca4c",
   "metadata": {},
   "outputs": [
    {
     "data": {
      "text/plain": [
       "array([[ True, False, False],\n",
       "       [False,  True, False],\n",
       "       [False, False,  True]])"
      ]
     },
     "execution_count": 70,
     "metadata": {},
     "output_type": "execute_result"
    }
   ],
   "source": [
    "np.fromfunction(lambda i,j:i==j, (3,3)) #Construct an array by executing a function over each coordinate."
   ]
  },
  {
   "cell_type": "code",
   "execution_count": 72,
   "id": "f351b98f-ad02-41b2-a403-c14e7e962a37",
   "metadata": {},
   "outputs": [],
   "source": [
    "arr1 = np.fromfunction(lambda i,j:i==j, (3,3))  # condition is true i==j then true else false"
   ]
  },
  {
   "cell_type": "code",
   "execution_count": 73,
   "id": "5f247556-65c5-4136-8552-623e6fe076dc",
   "metadata": {},
   "outputs": [
    {
     "data": {
      "text/plain": [
       "array([[ True, False, False],\n",
       "       [False,  True, False],\n",
       "       [False, False,  True]])"
      ]
     },
     "execution_count": 73,
     "metadata": {},
     "output_type": "execute_result"
    }
   ],
   "source": [
    "arr1"
   ]
  },
  {
   "cell_type": "code",
   "execution_count": 74,
   "id": "abf75be1-5e22-41ea-aac0-9392fcca3c52",
   "metadata": {},
   "outputs": [
    {
     "data": {
      "text/plain": [
       "2"
      ]
     },
     "execution_count": 74,
     "metadata": {},
     "output_type": "execute_result"
    }
   ],
   "source": [
    "arr1.ndim"
   ]
  },
  {
   "cell_type": "code",
   "execution_count": 75,
   "id": "05b9c50c-975e-4769-a371-53c895acf72c",
   "metadata": {},
   "outputs": [
    {
     "data": {
      "text/plain": [
       "(3, 3)"
      ]
     },
     "execution_count": 75,
     "metadata": {},
     "output_type": "execute_result"
    }
   ],
   "source": [
    "arr1.shape  # shape of array"
   ]
  },
  {
   "cell_type": "code",
   "execution_count": 76,
   "id": "13826319-d8a1-4014-ac0c-3ae4c3793c71",
   "metadata": {},
   "outputs": [
    {
     "data": {
      "text/plain": [
       "5"
      ]
     },
     "execution_count": 76,
     "metadata": {},
     "output_type": "execute_result"
    }
   ],
   "source": [
    "arr.size  # number of element in array"
   ]
  },
  {
   "cell_type": "code",
   "execution_count": 77,
   "id": "c6595301-d8d7-4cbe-bdf6-131120a35d7d",
   "metadata": {},
   "outputs": [
    {
     "data": {
      "text/plain": [
       "1"
      ]
     },
     "execution_count": 77,
     "metadata": {},
     "output_type": "execute_result"
    }
   ],
   "source": [
    "# True is stored as 1 and False 0 in python\n",
    "True - False"
   ]
  },
  {
   "cell_type": "code",
   "execution_count": 79,
   "id": "ccb23646-c274-498d-9651-329de2c374fc",
   "metadata": {},
   "outputs": [],
   "source": [
    "arr2 = np.fromfunction(lambda i,j:i*j,(3,3))"
   ]
  },
  {
   "cell_type": "code",
   "execution_count": 80,
   "id": "7795c025-9c9a-481d-89c8-d50c6fb717bd",
   "metadata": {},
   "outputs": [
    {
     "data": {
      "text/plain": [
       "array([[0., 0., 0.],\n",
       "       [0., 1., 2.],\n",
       "       [0., 2., 4.]])"
      ]
     },
     "execution_count": 80,
     "metadata": {},
     "output_type": "execute_result"
    }
   ],
   "source": [
    "arr2"
   ]
  },
  {
   "cell_type": "code",
   "execution_count": 81,
   "id": "ff18da7c-fe92-47fe-ba69-8bd490f907fc",
   "metadata": {},
   "outputs": [
    {
     "data": {
      "text/plain": [
       "2"
      ]
     },
     "execution_count": 81,
     "metadata": {},
     "output_type": "execute_result"
    }
   ],
   "source": [
    "arr2.ndim"
   ]
  },
  {
   "cell_type": "code",
   "execution_count": 82,
   "id": "55b73e49-b42e-4b67-b26e-bbea4a8aef90",
   "metadata": {},
   "outputs": [
    {
     "data": {
      "text/plain": [
       "(3, 3)"
      ]
     },
     "execution_count": 82,
     "metadata": {},
     "output_type": "execute_result"
    }
   ],
   "source": [
    "arr2.shape"
   ]
  },
  {
   "cell_type": "code",
   "execution_count": 83,
   "id": "cacb07ed-0a42-47e4-974d-aa83d5785ddf",
   "metadata": {},
   "outputs": [
    {
     "data": {
      "text/plain": [
       "9"
      ]
     },
     "execution_count": 83,
     "metadata": {},
     "output_type": "execute_result"
    }
   ],
   "source": [
    "arr2.size"
   ]
  },
  {
   "cell_type": "code",
   "execution_count": 84,
   "id": "c1d31a70-9a90-44c9-990c-7ed5ed0f17fd",
   "metadata": {},
   "outputs": [
    {
     "name": "stdout",
     "output_type": "stream",
     "text": [
      "0\n",
      "1\n",
      "2\n",
      "3\n",
      "4\n"
     ]
    }
   ],
   "source": [
    "for i in range(5):\n",
    "    print(i)\n",
    "    \n"
   ]
  },
  {
   "cell_type": "code",
   "execution_count": 85,
   "id": "4bf9ae7c-21af-488e-8b8f-0651d280cf2e",
   "metadata": {},
   "outputs": [
    {
     "data": {
      "text/plain": [
       "[0, 1, 2, 3, 4]"
      ]
     },
     "execution_count": 85,
     "metadata": {},
     "output_type": "execute_result"
    }
   ],
   "source": [
    "[i for i in range(5)]"
   ]
  },
  {
   "cell_type": "code",
   "execution_count": 92,
   "id": "c9364294-f1ef-466b-b7c1-e81631656384",
   "metadata": {},
   "outputs": [
    {
     "data": {
      "text/plain": [
       "<generator object <genexpr> at 0x000001D19F565230>"
      ]
     },
     "execution_count": 92,
     "metadata": {},
     "output_type": "execute_result"
    }
   ],
   "source": [
    "(i for i in range(5))"
   ]
  },
  {
   "cell_type": "code",
   "execution_count": 93,
   "id": "8da6cdd7-0c5f-442a-aab5-afd23d5582c1",
   "metadata": {},
   "outputs": [
    {
     "ename": "TypeError",
     "evalue": "'list' object is not callable",
     "output_type": "error",
     "traceback": [
      "\u001b[1;31m---------------------------------------------------------------------------\u001b[0m",
      "\u001b[1;31mTypeError\u001b[0m                                 Traceback (most recent call last)",
      "Cell \u001b[1;32mIn[93], line 1\u001b[0m\n\u001b[1;32m----> 1\u001b[0m \u001b[38;5;28;43mlist\u001b[39;49m\u001b[43m(\u001b[49m\u001b[43m(\u001b[49m\u001b[43mi\u001b[49m\u001b[43m \u001b[49m\u001b[38;5;28;43;01mfor\u001b[39;49;00m\u001b[43m \u001b[49m\u001b[43mi\u001b[49m\u001b[43m \u001b[49m\u001b[38;5;129;43;01min\u001b[39;49;00m\u001b[43m \u001b[49m\u001b[38;5;28;43mrange\u001b[39;49m\u001b[43m(\u001b[49m\u001b[38;5;241;43m5\u001b[39;49m\u001b[43m)\u001b[49m\u001b[43m)\u001b[49m\u001b[43m)\u001b[49m\n",
      "\u001b[1;31mTypeError\u001b[0m: 'list' object is not callable"
     ]
    }
   ],
   "source": [
    "list((i for i in range(5)))  # erro why "
   ]
  },
  {
   "cell_type": "code",
   "execution_count": 94,
   "id": "14b7d503-30c9-4777-83a8-d52e9f5e109f",
   "metadata": {},
   "outputs": [],
   "source": [
    "iterator = (i for i in range(5))"
   ]
  },
  {
   "cell_type": "code",
   "execution_count": 95,
   "id": "f36d90c7-b181-4959-b2c6-2916f432cd36",
   "metadata": {},
   "outputs": [
    {
     "data": {
      "text/plain": [
       "<generator object <genexpr> at 0x000001D19F565150>"
      ]
     },
     "execution_count": 95,
     "metadata": {},
     "output_type": "execute_result"
    }
   ],
   "source": [
    "iterator"
   ]
  },
  {
   "cell_type": "code",
   "execution_count": 97,
   "id": "117dcbd4-8333-4382-a294-2b4fca358f89",
   "metadata": {},
   "outputs": [
    {
     "data": {
      "text/plain": [
       "array([0, 1, 2, 3, 4])"
      ]
     },
     "execution_count": 97,
     "metadata": {},
     "output_type": "execute_result"
    }
   ],
   "source": [
    "np.fromiter(iterator,int) #Create a new 1-dimensional array from an iterable object.\n"
   ]
  },
  {
   "cell_type": "code",
   "execution_count": 98,
   "id": "fb5bc563-4547-4d73-a9aa-abae16133157",
   "metadata": {},
   "outputs": [
    {
     "data": {
      "text/plain": [
       "array([22., 23., 24.])"
      ]
     },
     "execution_count": 98,
     "metadata": {},
     "output_type": "execute_result"
    }
   ],
   "source": [
    "np.fromstring('22 23 24',sep = \" \") # by default is float,values inside string should benumerical"
   ]
  },
  {
   "cell_type": "code",
   "execution_count": 99,
   "id": "6bbd78c0-d193-44b4-a08c-f68721987775",
   "metadata": {},
   "outputs": [
    {
     "data": {
      "text/plain": [
       "array([22, 23, 24])"
      ]
     },
     "execution_count": 99,
     "metadata": {},
     "output_type": "execute_result"
    }
   ],
   "source": [
    "np.fromstring('22 23 24',sep = \" \",dtype = int)"
   ]
  },
  {
   "cell_type": "code",
   "execution_count": 100,
   "id": "972aa43f-c68c-475e-8d4a-9354db8a4c1d",
   "metadata": {},
   "outputs": [
    {
     "data": {
      "text/plain": [
       "['Ajay', 'Bjay', 'Sanjay']"
      ]
     },
     "execution_count": 100,
     "metadata": {},
     "output_type": "execute_result"
    }
   ],
   "source": [
    "# for string chracter you have to use split\n",
    "\n",
    "string = \"Ajay,Bjay,Sanjay\"\n",
    "string.split(\",\")"
   ]
  },
  {
   "cell_type": "code",
   "execution_count": 101,
   "id": "6563eafa-c107-4460-a01c-35fd905054ef",
   "metadata": {},
   "outputs": [
    {
     "data": {
      "text/plain": [
       "array(['Ajay', 'Bjay', 'Sanjay'], dtype='<U6')"
      ]
     },
     "execution_count": 101,
     "metadata": {},
     "output_type": "execute_result"
    }
   ],
   "source": [
    "np.array(string.split(\",\"))"
   ]
  },
  {
   "cell_type": "code",
   "execution_count": 104,
   "id": "27f0877c-f35a-467d-9c09-cc95425d5b91",
   "metadata": {},
   "outputs": [
    {
     "ename": "TypeError",
     "evalue": "'list' object is not callable",
     "output_type": "error",
     "traceback": [
      "\u001b[1;31m---------------------------------------------------------------------------\u001b[0m",
      "\u001b[1;31mTypeError\u001b[0m                                 Traceback (most recent call last)",
      "Cell \u001b[1;32mIn[104], line 1\u001b[0m\n\u001b[1;32m----> 1\u001b[0m \u001b[38;5;28;43mlist\u001b[39;49m\u001b[43m(\u001b[49m\u001b[38;5;28;43mrange\u001b[39;49m\u001b[43m(\u001b[49m\u001b[38;5;241;43m10\u001b[39;49m\u001b[43m)\u001b[49m\u001b[43m)\u001b[49m\n",
      "\u001b[1;31mTypeError\u001b[0m: 'list' object is not callable"
     ]
    }
   ],
   "source": [
    "list(range(10))  # why this is error"
   ]
  },
  {
   "cell_type": "code",
   "execution_count": 105,
   "id": "4cb779ee-619c-4a8b-a1fd-104e0b324a9a",
   "metadata": {},
   "outputs": [
    {
     "ename": "TypeError",
     "evalue": "'list' object is not callable",
     "output_type": "error",
     "traceback": [
      "\u001b[1;31m---------------------------------------------------------------------------\u001b[0m",
      "\u001b[1;31mTypeError\u001b[0m                                 Traceback (most recent call last)",
      "Cell \u001b[1;32mIn[105], line 1\u001b[0m\n\u001b[1;32m----> 1\u001b[0m \u001b[38;5;28;43mlist\u001b[39;49m\u001b[43m(\u001b[49m\u001b[38;5;28;43mrange\u001b[39;49m\u001b[43m(\u001b[49m\u001b[38;5;241;43m10\u001b[39;49m\u001b[43m)\u001b[49m\u001b[43m)\u001b[49m\n",
      "\u001b[1;31mTypeError\u001b[0m: 'list' object is not callable"
     ]
    }
   ],
   "source": [
    "list(range(10))"
   ]
  },
  {
   "cell_type": "code",
   "execution_count": 106,
   "id": "2811aee3-20b1-4a32-bd34-724f44bb70e6",
   "metadata": {},
   "outputs": [
    {
     "data": {
      "text/plain": [
       "array([1, 2, 3, 4, 5, 6, 7, 8, 9])"
      ]
     },
     "execution_count": 106,
     "metadata": {},
     "output_type": "execute_result"
    }
   ],
   "source": [
    "# other method of numpy>> To generate a sequence of number\n",
    "\n",
    "np.arange(1,10) # arange returns evenly spacified values within a given interval, by default step is one"
   ]
  },
  {
   "cell_type": "code",
   "execution_count": 107,
   "id": "47444a82-7f9e-4af4-888a-5ff3e56de9e2",
   "metadata": {},
   "outputs": [
    {
     "data": {
      "text/plain": [
       "array([1. , 1.1, 1.2, 1.3, 1.4, 1.5, 1.6, 1.7, 1.8, 1.9, 2. , 2.1, 2.2,\n",
       "       2.3, 2.4, 2.5, 2.6, 2.7, 2.8, 2.9, 3. , 3.1, 3.2, 3.3, 3.4, 3.5,\n",
       "       3.6, 3.7, 3.8, 3.9, 4. , 4.1, 4.2, 4.3, 4.4, 4.5, 4.6, 4.7, 4.8,\n",
       "       4.9, 5. , 5.1, 5.2, 5.3, 5.4, 5.5, 5.6, 5.7, 5.8, 5.9, 6. , 6.1,\n",
       "       6.2, 6.3, 6.4, 6.5, 6.6, 6.7, 6.8, 6.9, 7. , 7.1, 7.2, 7.3, 7.4,\n",
       "       7.5, 7.6, 7.7, 7.8, 7.9, 8. , 8.1, 8.2, 8.3, 8.4, 8.5, 8.6, 8.7,\n",
       "       8.8, 8.9, 9. , 9.1, 9.2, 9.3, 9.4, 9.5, 9.6, 9.7, 9.8, 9.9])"
      ]
     },
     "execution_count": 107,
     "metadata": {},
     "output_type": "execute_result"
    }
   ],
   "source": [
    "np.arange(1,10,0.1)"
   ]
  },
  {
   "cell_type": "code",
   "execution_count": 108,
   "id": "f09929a8-bd05-49a8-9cde-e950826a35f1",
   "metadata": {},
   "outputs": [
    {
     "data": {
      "text/plain": [
       "array([1.        , 1.44444444, 1.88888889, 2.33333333, 2.77777778,\n",
       "       3.22222222, 3.66666667, 4.11111111, 4.55555556, 5.        ])"
      ]
     },
     "execution_count": 108,
     "metadata": {},
     "output_type": "execute_result"
    }
   ],
   "source": [
    "np.linspace(1,5,10) # give me ten number between 1 to 5"
   ]
  },
  {
   "cell_type": "code",
   "execution_count": null,
   "id": "86414782-645d-4bed-bb54-8c1c3ea2a2e4",
   "metadata": {},
   "outputs": [],
   "source": []
  }
 ],
 "metadata": {
  "kernelspec": {
   "display_name": "Python 3 (ipykernel)",
   "language": "python",
   "name": "python3"
  },
  "language_info": {
   "codemirror_mode": {
    "name": "ipython",
    "version": 3
   },
   "file_extension": ".py",
   "mimetype": "text/x-python",
   "name": "python",
   "nbconvert_exporter": "python",
   "pygments_lexer": "ipython3",
   "version": "3.10.11"
  }
 },
 "nbformat": 4,
 "nbformat_minor": 5
}
