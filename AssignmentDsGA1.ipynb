{
 "cells": [
  {
   "cell_type": "code",
   "execution_count": 1,
   "id": "86269ff3-49e8-4bd3-aa89-425e24f67aa7",
   "metadata": {},
   "outputs": [
    {
     "name": "stdout",
     "output_type": "stream",
     "text": [
      "0\n",
      "1\n",
      "2\n",
      "3\n",
      "4\n"
     ]
    }
   ],
   "source": [
    "for i in range(5):\n",
    "    print(i)"
   ]
  },
  {
   "cell_type": "code",
   "execution_count": 2,
   "id": "821c0da5-fbf8-4a67-ab1a-5f1caaf43dae",
   "metadata": {},
   "outputs": [
    {
     "name": "stdout",
     "output_type": "stream",
     "text": [
      "0\n",
      "1\n",
      "2\n",
      "3\n",
      "4\n"
     ]
    }
   ],
   "source": [
    "count = 0\n",
    "while count < 5:\n",
    "    print(count)\n",
    "    count += 1"
   ]
  },
  {
   "cell_type": "code",
   "execution_count": 3,
   "id": "8911af6f-bf7c-4ba7-80d0-c30fce8ca173",
   "metadata": {},
   "outputs": [
    {
     "name": "stdout",
     "output_type": "stream",
     "text": [
      "0\n",
      "1\n",
      "2\n",
      "3\n",
      "4\n"
     ]
    }
   ],
   "source": [
    "for i in range(10):\n",
    "    if i == 5:\n",
    "        break  # Exit the loop\n",
    "    print(i)\n",
    "\n"
   ]
  },
  {
   "cell_type": "code",
   "execution_count": 4,
   "id": "5d5e1890-38e0-4d5e-9dc8-6b0031f773a0",
   "metadata": {},
   "outputs": [
    {
     "name": "stdout",
     "output_type": "stream",
     "text": [
      "1\n",
      "3\n",
      "5\n",
      "7\n",
      "9\n"
     ]
    }
   ],
   "source": [
    "for i in range(10):\n",
    "    if i % 2 == 0:\n",
    "        continue  # Skip the rest of the loop for even numbers\n",
    "    print(i)"
   ]
  },
  {
   "cell_type": "code",
   "execution_count": 5,
   "id": "5214a692-9fae-4015-8246-83e2f14b0c15",
   "metadata": {},
   "outputs": [
    {
     "name": "stdout",
     "output_type": "stream",
     "text": [
      "Alice\n"
     ]
    }
   ],
   "source": [
    "def greet(name):\n",
    "    return name\n",
    "\n",
    "message = greet(\"Alice\")\n",
    "print(message)"
   ]
  },
  {
   "cell_type": "code",
   "execution_count": 6,
   "id": "9d89f345-7240-40c7-be55-3393c52d03cb",
   "metadata": {},
   "outputs": [
    {
     "name": "stdout",
     "output_type": "stream",
     "text": [
      "Cannot divide by zero\n",
      "This will always execute\n"
     ]
    }
   ],
   "source": [
    "try:\n",
    "    result = 10 / 0\n",
    "except ZeroDivisionError:\n",
    "    print(\"Cannot divide by zero\")\n",
    "finally:\n",
    "    print(\"This will always execute\")"
   ]
  },
  {
   "cell_type": "code",
   "execution_count": null,
   "id": "4cbbd880-b43f-4330-b711-685d6372d2d9",
   "metadata": {},
   "outputs": [],
   "source": [
    "# Mutable"
   ]
  },
  {
   "cell_type": "code",
   "execution_count": 7,
   "id": "e9750208-dfc6-4d6d-9960-bca2eba8530b",
   "metadata": {},
   "outputs": [
    {
     "name": "stdout",
     "output_type": "stream",
     "text": [
      "['Vikram', 'Anshul', 'Amit', 'Suresh', 'Kamal']\n"
     ]
    }
   ],
   "source": [
    "# List\n",
    "\n",
    "name = ['Vikram', 'Anshul', 'Amit', 'Suresh']\n",
    "\n",
    "name.append('Kamal')\n",
    "\n",
    "print(name)"
   ]
  },
  {
   "cell_type": "code",
   "execution_count": 8,
   "id": "e789ac9f-f728-4e68-9984-511a9a1070f7",
   "metadata": {},
   "outputs": [
    {
     "name": "stdout",
     "output_type": "stream",
     "text": [
      "{'name': 'Vikram', 'age': 30, 'department': 'Editorial'}\n"
     ]
    }
   ],
   "source": [
    "# Dictionary\n",
    "\n",
    "employee = {'name' : 'Vikram', 'age' : 30, 'department' : 'Content Management'}\n",
    "\n",
    "employee['department'] = 'Editorial'\n",
    "\n",
    "print(employee)"
   ]
  },
  {
   "cell_type": "code",
   "execution_count": 9,
   "id": "df5b0981-8ee9-463b-86fa-a126e5e5d864",
   "metadata": {},
   "outputs": [
    {
     "name": "stdout",
     "output_type": "stream",
     "text": [
      "Original set: {'Suresh', 'Vikram', 'Amit', 'Anshul'}\n",
      "After adding 'Kunal': {'Vikram', 'Amit', 'Kunal', 'Anshul', 'Suresh'}\n",
      "After removing 'Amit': {'Vikram', 'Kunal', 'Anshul', 'Suresh'}\n",
      "After adding 'Ankit' and 'Harsh': {'Harsh', 'Vikram', 'Kunal', 'Ankit', 'Anshul', 'Suresh'}\n"
     ]
    }
   ],
   "source": [
    "# Set\n",
    "\n",
    "name = {'Vikram', 'Anshul', 'Amit', 'Suresh'}\n",
    "\n",
    "print(\"Original set:\", name)\n",
    "\n",
    "name.add(\"Kunal\")\n",
    "print(\"After adding 'Kunal':\", name)\n",
    "\n",
    "name.remove(\"Amit\")\n",
    "print(\"After removing 'Amit':\", name)\n",
    "\n",
    "# Adding multiple elements using the update method\n",
    "name.update([\"Ankit\", \"Harsh\"])\n",
    "print(\"After adding 'Ankit' and 'Harsh':\", name)"
   ]
  },
  {
   "cell_type": "code",
   "execution_count": null,
   "id": "029b7aa5-88ae-4df4-8f37-813edd300f7d",
   "metadata": {},
   "outputs": [],
   "source": [
    "# Immutable"
   ]
  },
  {
   "cell_type": "code",
   "execution_count": 10,
   "id": "33994e25-3b3e-45da-ab61-74797ccd8902",
   "metadata": {},
   "outputs": [
    {
     "name": "stdout",
     "output_type": "stream",
     "text": [
      "15\n"
     ]
    }
   ],
   "source": [
    "# Int \n",
    "\n",
    "x = 10\n",
    "x = x + 5  # This creates a new integer object and assigns it to x\n",
    "print(x)  "
   ]
  },
  {
   "cell_type": "code",
   "execution_count": 11,
   "id": "3a2aa004-614a-4b1e-a4a6-347327bb0d19",
   "metadata": {},
   "outputs": [
    {
     "name": "stdout",
     "output_type": "stream",
     "text": [
      "6.28\n"
     ]
    }
   ],
   "source": [
    "# Float\n",
    "\n",
    "y = 3.14\n",
    "y = y * 2  # This creates a new float object and assigns it to y\n",
    "print(y) "
   ]
  },
  {
   "cell_type": "code",
   "execution_count": 12,
   "id": "eb90569c-0f24-4ca9-b0a2-3e84f891cfcf",
   "metadata": {},
   "outputs": [
    {
     "name": "stdout",
     "output_type": "stream",
     "text": [
      "False\n"
     ]
    }
   ],
   "source": [
    "# boolean\n",
    "\n",
    "is_active = True\n",
    "is_active = not is_active  # This creates a new boolean object and assigns it to is_active\n",
    "print(is_active)  \n"
   ]
  },
  {
   "cell_type": "code",
   "execution_count": 16,
   "id": "8bfd369e-288a-4b4e-b8e9-5e3e0c55f143",
   "metadata": {},
   "outputs": [
    {
     "name": "stdout",
     "output_type": "stream",
     "text": [
      "Hello World\n"
     ]
    }
   ],
   "source": [
    "# String\n",
    "\n",
    "text = \"Hello\"\n",
    "text = text + \" World\"  # This creates a new string object and assigns it to text\n",
    "print(text)  \n"
   ]
  },
  {
   "cell_type": "code",
   "execution_count": 13,
   "id": "9bb146a4-a057-4cda-9dc7-610de78743b5",
   "metadata": {},
   "outputs": [
    {
     "name": "stdout",
     "output_type": "stream",
     "text": [
      "(10, 20, 30, 40)\n"
     ]
    }
   ],
   "source": [
    "# Tuple\n",
    "\n",
    "tuple = (10, 20)\n",
    "new_tuple = tuple + (30, 40)  # This creates a new tuple object\n",
    "print(new_tuple)  \n"
   ]
  },
  {
   "cell_type": "code",
   "execution_count": 14,
   "id": "5f9b1dad-cdab-448e-bcd3-64d1d9e7523f",
   "metadata": {},
   "outputs": [
    {
     "name": "stdout",
     "output_type": "stream",
     "text": [
      "frozenset({1, 2, 3, 4, 5})\n"
     ]
    }
   ],
   "source": [
    "# Frozenset\n",
    "\n",
    "fs = frozenset([1, 2, 3])\n",
    "new_fs = fs.union([4, 5])  # This creates a new frozenset object\n",
    "print(new_fs)  \n"
   ]
  },
  {
   "cell_type": "code",
   "execution_count": 15,
   "id": "23357c41-25fb-4315-8d50-3d3426a5744d",
   "metadata": {},
   "outputs": [
    {
     "ename": "TypeError",
     "evalue": "'tuple' object does not support item assignment",
     "output_type": "error",
     "traceback": [
      "\u001b[1;31m---------------------------------------------------------------------------\u001b[0m",
      "\u001b[1;31mTypeError\u001b[0m                                 Traceback (most recent call last)",
      "Cell \u001b[1;32mIn[15], line 2\u001b[0m\n\u001b[0;32m      1\u001b[0m my_tuple \u001b[38;5;241m=\u001b[39m (\u001b[38;5;241m1\u001b[39m, \u001b[38;5;241m2\u001b[39m, \u001b[38;5;241m3\u001b[39m)\n\u001b[1;32m----> 2\u001b[0m \u001b[43mmy_tuple\u001b[49m\u001b[43m[\u001b[49m\u001b[38;5;241;43m0\u001b[39;49m\u001b[43m]\u001b[49m \u001b[38;5;241m=\u001b[39m \u001b[38;5;241m10\u001b[39m  \n",
      "\u001b[1;31mTypeError\u001b[0m: 'tuple' object does not support item assignment"
     ]
    }
   ],
   "source": [
    "my_tuple = (1, 2, 3)\n",
    "my_tuple[0] = 10  "
   ]
  },
  {
   "cell_type": "code",
   "execution_count": 17,
   "id": "e66b1f51-70af-4191-a71c-346ad7873666",
   "metadata": {},
   "outputs": [
    {
     "name": "stdout",
     "output_type": "stream",
     "text": [
      "8\n"
     ]
    }
   ],
   "source": [
    "print(2**3)"
   ]
  },
  {
   "cell_type": "code",
   "execution_count": 18,
   "id": "fd4dd46a-dd2c-447c-ab98-23f03cfc5542",
   "metadata": {},
   "outputs": [
    {
     "name": "stdout",
     "output_type": "stream",
     "text": [
      "36\n"
     ]
    }
   ],
   "source": [
    "x = 6\n",
    "x**=2\n",
    "print(x)"
   ]
  },
  {
   "cell_type": "code",
   "execution_count": 19,
   "id": "05508530-4851-4141-aa30-e185fe41168a",
   "metadata": {},
   "outputs": [
    {
     "name": "stdout",
     "output_type": "stream",
     "text": [
      "3\n"
     ]
    }
   ],
   "source": [
    "x = 6\n",
    "x//=2\n",
    "print(x)"
   ]
  },
  {
   "cell_type": "code",
   "execution_count": 20,
   "id": "1da21803-2470-426b-9b74-af19d3dbcb68",
   "metadata": {},
   "outputs": [
    {
     "name": "stdout",
     "output_type": "stream",
     "text": [
      "0\n"
     ]
    }
   ],
   "source": [
    "x = 6\n",
    "x%=2\n",
    "print(x)"
   ]
  },
  {
   "cell_type": "code",
   "execution_count": null,
   "id": "7db06c65-e202-40f4-a89e-a7de778f83df",
   "metadata": {},
   "outputs": [],
   "source": [
    "# explain the concept of type casting in python with examples"
   ]
  },
  {
   "cell_type": "code",
   "execution_count": 4,
   "id": "01beeeb9-6a79-458f-bb41-3520c98e6c32",
   "metadata": {},
   "outputs": [
    {
     "name": "stdout",
     "output_type": "stream",
     "text": [
      "a = 1.5 and Data type = <class 'float'>\n",
      "b = 4 and Data type = <class 'int'>\n",
      "c = 4 and Data type = <class 'int'>\n",
      "d = 5.0 and Data type = <class 'float'>\n",
      "The product of a and b is 6.0, Data type = <class 'float'>\n",
      "The addition of c and d is 9.0, Data type = <class 'float'>\n"
     ]
    }
   ],
   "source": [
    "# implicit type conversion\n",
    "\n",
    "a = 1.5\n",
    "print(f\"a = {a} and Data type = {type(a)}\")  \n",
    "  \n",
    "# Initializing the value of b  \n",
    "b = 4\n",
    "print(f\"b = {b} and Data type = {type(b)}\")  \n",
    "  \n",
    "# Initializing the value of c  \n",
    "c = 4  \n",
    "print(f\"c = {c} and Data type = {type(c)}\")  \n",
    "  \n",
    "# Initializing the value of d  \n",
    "d = 5.0  \n",
    "print(f\"d = {d} and Data type = {type(d)}\")  \n",
    "  \n",
    "# Performing arithmetic operations between integers and float  \n",
    "res = a * b  \n",
    "print(f\"The product of a and b is {res}, Data type = {type(res)}\")  \n",
    "  \n",
    "add = c + d  \n",
    "print(f\"The addition of c and d is {add}, Data type = {type(add)}\")  "
   ]
  },
  {
   "cell_type": "code",
   "execution_count": 5,
   "id": "caee24fd-ea02-4e50-ae5a-4b127e30e143",
   "metadata": {},
   "outputs": [
    {
     "name": "stdout",
     "output_type": "stream",
     "text": [
      "a = 10.6, Data Type = <class 'float'>\n",
      "a = 10, Data Type = <class 'int'>\n",
      "b = 12, Data Type = <class 'str'>\n",
      "b = 12, Data Type = <class 'int'>\n"
     ]
    }
   ],
   "source": [
    "# explicit type conversion\n",
    "\n",
    "a = 10.6  \n",
    "print(f\"a = {a}, Data Type = {type(a)}\")  \n",
    "a = int(a)  \n",
    "print(f\"a = {a}, Data Type = {type(a)}\")  \n",
    "  \n",
    "# Typecasting a string value into an integer value explicitly  \n",
    "b = \"12\"  \n",
    "print(f\"b = {b}, Data Type = {type(b)}\")  \n",
    "b = int(b)  \n",
    "print(f\"b = {b}, Data Type = {type(b)}\")  "
   ]
  },
  {
   "cell_type": "code",
   "execution_count": null,
   "id": "6cdd4e73-af19-4e71-a7d0-15f93761d4b1",
   "metadata": {},
   "outputs": [],
   "source": []
  }
 ],
 "metadata": {
  "kernelspec": {
   "display_name": "Python 3 (ipykernel)",
   "language": "python",
   "name": "python3"
  },
  "language_info": {
   "codemirror_mode": {
    "name": "ipython",
    "version": 3
   },
   "file_extension": ".py",
   "mimetype": "text/x-python",
   "name": "python",
   "nbconvert_exporter": "python",
   "pygments_lexer": "ipython3",
   "version": "3.11.9"
  }
 },
 "nbformat": 4,
 "nbformat_minor": 5
}
