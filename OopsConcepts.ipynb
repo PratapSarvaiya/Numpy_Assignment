{
 "cells": [
  {
   "cell_type": "code",
   "execution_count": null,
   "id": "464711ad-aeed-4a1c-8743-9cf3c591f482",
   "metadata": {},
   "outputs": [],
   "source": [
    "Class :- class is a blueprint ---> class keyword is used to create class"
   ]
  },
  {
   "cell_type": "code",
   "execution_count": 3,
   "id": "ec906f45-ae97-4faa-b356-1356585611b8",
   "metadata": {},
   "outputs": [
    {
     "name": "stdout",
     "output_type": "stream",
     "text": [
      "<__main__.Person object at 0x0000027D011E0400>\n"
     ]
    },
    {
     "data": {
      "text/plain": [
       "__main__.Person"
      ]
     },
     "execution_count": 3,
     "metadata": {},
     "output_type": "execute_result"
    }
   ],
   "source": [
    "class Person:\n",
    "    pass\n",
    "\n",
    "obj = Person()  # creating object\n",
    "\n",
    "print(obj)\n",
    "type(obj)"
   ]
  },
  {
   "cell_type": "code",
   "execution_count": 6,
   "id": "3772d866-d0b2-4ee2-940c-d5bfe39da4bd",
   "metadata": {
    "scrolled": true
   },
   "outputs": [
    {
     "name": "stdout",
     "output_type": "stream",
     "text": [
      "Vishwa\n",
      "23\n"
     ]
    }
   ],
   "source": [
    "class Person:\n",
    "    name=\"Vishwa\"  # class variable\n",
    "    age=23\n",
    "\n",
    "per = Person()  # we should be able to more state/attributes\n",
    "\n",
    "print(per.name)\n",
    "print(per.age)"
   ]
  },
  {
   "cell_type": "code",
   "execution_count": 9,
   "id": "359afce4-0e04-43bb-9fe0-1c43f95e8f35",
   "metadata": {},
   "outputs": [
    {
     "name": "stdout",
     "output_type": "stream",
     "text": [
      "Babu\n"
     ]
    },
    {
     "ename": "AttributeError",
     "evalue": "'Person' object has no attribute 'lovename'",
     "output_type": "error",
     "traceback": [
      "\u001b[1;31m---------------------------------------------------------------------------\u001b[0m",
      "\u001b[1;31mAttributeError\u001b[0m                            Traceback (most recent call last)",
      "Cell \u001b[1;32mIn[9], line 7\u001b[0m\n\u001b[0;32m      4\u001b[0m \u001b[38;5;28mprint\u001b[39m(per\u001b[38;5;241m.\u001b[39mlovename)\n\u001b[0;32m      6\u001b[0m obj \u001b[38;5;241m=\u001b[39m Person()\n\u001b[1;32m----> 7\u001b[0m \u001b[38;5;28mprint\u001b[39m(\u001b[43mobj\u001b[49m\u001b[38;5;241;43m.\u001b[39;49m\u001b[43mlovename\u001b[49m)\n",
      "\u001b[1;31mAttributeError\u001b[0m: 'Person' object has no attribute 'lovename'"
     ]
    }
   ],
   "source": [
    "per.hobby = \"Cricket\"\n",
    "per.lovename = \"Babu\"\n",
    "\n",
    "print(per.lovename)\n",
    "\n",
    "obj = Person()\n",
    "print(obj.lovename)\n",
    "\n"
   ]
  },
  {
   "cell_type": "code",
   "execution_count": 10,
   "id": "b4ec0e59-9aad-4e85-879b-a61df2782251",
   "metadata": {},
   "outputs": [
    {
     "name": "stdout",
     "output_type": "stream",
     "text": [
      "Vishwa\n",
      "Vishwa\n",
      "Vishwa\n"
     ]
    }
   ],
   "source": [
    "class Person:\n",
    "    name=\"Vishwa\"  # class level is defined\n",
    "    age=23\n",
    "\n",
    "per1 = Person()\n",
    "per2 = Person()\n",
    "per3 = Person()\n",
    "\n",
    "print(per1.name)\n",
    "print(per2.name)\n",
    "print(per3.name)"
   ]
  },
  {
   "cell_type": "code",
   "execution_count": 20,
   "id": "c22943cd-6a61-4602-ae14-7c97bf338f80",
   "metadata": {},
   "outputs": [
    {
     "name": "stdout",
     "output_type": "stream",
     "text": [
      "Pratap\n",
      "Neha\n"
     ]
    }
   ],
   "source": [
    "# constructor\n",
    "\n",
    "# initializer/constructer for objects\n",
    "    \n",
    "    # in self is represent object to be create \n",
    "    \n",
    "    # initializing the state of the object \n",
    "\n",
    "    # Note: Always \"def\" keyword and \"underscore\" between to be space\n",
    "\n",
    "class Person:\n",
    "    def __init__(self,name,age): \n",
    "        self.name=name\n",
    "        self.age=age\n",
    "\n",
    "per1 = Person(\"Pratap\",23)\n",
    "\n",
    "per2 = Person(\"Neha\",23)\n",
    "\n",
    "print(per1.name)\n",
    "print(per2.name)\n",
    "    "
   ]
  },
  {
   "cell_type": "code",
   "execution_count": 19,
   "id": "8accfc21-c1b1-48aa-8b6f-e4f66b50fa07",
   "metadata": {},
   "outputs": [
    {
     "name": "stdout",
     "output_type": "stream",
     "text": [
      "Pratap\n",
      "Neha\n"
     ]
    }
   ],
   "source": [
    "class Person:\n",
    "    \n",
    "    def __init__(self,name,age): \n",
    "        self.name=name\n",
    "        self.age=age\n",
    "\n",
    "per1 = Person(\"Pratap\",23)\n",
    "\n",
    "per2 = Person(\"Neha\",23)\n",
    "\n",
    "print(per1.name)\n",
    "print(per2.name)\n",
    "    "
   ]
  },
  {
   "cell_type": "code",
   "execution_count": 24,
   "id": "7e743c40-9e7f-4ef6-bc5d-f5100e405f53",
   "metadata": {},
   "outputs": [
    {
     "name": "stdout",
     "output_type": "stream",
     "text": [
      "Pratap Sarvaiya\n"
     ]
    }
   ],
   "source": [
    "class Person :\n",
    "    def __init__(self,name,age):\n",
    "        self.name = name\n",
    "        self.age = age\n",
    "\n",
    "    def __init__(self,name):  # This method is ignore\n",
    "        self.name = name\n",
    "\n",
    "per = Person(\"Pratap Sarvaiya\")\n",
    "print(per.name)"
   ]
  },
  {
   "cell_type": "code",
   "execution_count": 25,
   "id": "490ad9a0-0da5-47f0-8ba5-e789e7fac800",
   "metadata": {},
   "outputs": [
    {
     "name": "stdout",
     "output_type": "stream",
     "text": [
      "Cricket\n",
      "Football\n"
     ]
    }
   ],
   "source": [
    "# Default Constructer\n",
    "class Person :\n",
    "    def __init__(self,name,age=99,hobby=\"Cricket\"):\n",
    "        self.name = name\n",
    "        self.age = age\n",
    "        self.hobby = hobby\n",
    "\n",
    "per1 = Person(\"pratap\")\n",
    "per2 = Person(\"pratap\",34)\n",
    "per3 = Person(\"pratap\",23,\"Football\")\n",
    "\n",
    "print(per1.hobby)\n",
    "print(per3.hobby)"
   ]
  },
  {
   "cell_type": "code",
   "execution_count": 28,
   "id": "779bce66-4285-4d72-b8e4-0a035a3ba0a9",
   "metadata": {},
   "outputs": [
    {
     "name": "stdout",
     "output_type": "stream",
     "text": [
      "Pratap India\n",
      "Vanshita India\n",
      "India\n"
     ]
    }
   ],
   "source": [
    "class Person:\n",
    "    country = \"India\"   # initialized\n",
    "    \n",
    "    def __init__(self,name,age):\n",
    "        self.name = name   # instance attribute\n",
    "        self.age = age\n",
    "\n",
    "per1 = Person(\"Pratap\",23)\n",
    "per2 = Person(\"Vanshita\",23)\n",
    "\n",
    "print(per1.name,per1.country)\n",
    "print(per2.name,per2.country)\n",
    "\n",
    "print(Person.country)  # it can be directly called\n"
   ]
  },
  {
   "cell_type": "code",
   "execution_count": 6,
   "id": "240135cf-222d-4a8d-9ebb-73b95595a03e",
   "metadata": {},
   "outputs": [
    {
     "name": "stdout",
     "output_type": "stream",
     "text": [
      "99\n"
     ]
    }
   ],
   "source": [
    "# instance/object method\n",
    "class Person:\n",
    "\n",
    "        def __init__(self,name,age):\n",
    "         self.name = name  \n",
    "         self.age = age\n",
    "    \n",
    "        def findage(self):\n",
    "           return self.age\n",
    "\n",
    "per = Person(\"Vishwa\",99)\n",
    "print(per.findage())"
   ]
  },
  {
   "cell_type": "code",
   "execution_count": 11,
   "id": "3e836e53-670a-4149-9a2e-d2c843909cc9",
   "metadata": {},
   "outputs": [
    {
     "name": "stdout",
     "output_type": "stream",
     "text": [
      "99\n",
      "Hello from the class India\n",
      "Hello from the class India\n"
     ]
    }
   ],
   "source": [
    "# class method :>> class and object both and access to the class property but no access to the object property\n",
    "\n",
    "class Person:\n",
    "\n",
    "        country = \"India\"\n",
    "    \n",
    "        @classmethod\n",
    "        def greet(cls):  # Access to the class properties\n",
    "            print(\"Hello from the class\",cls.country)  # Access to the class fields but no access to the object property\n",
    "            \n",
    "        def __init__(self,name,age):\n",
    "         self.name = name  \n",
    "         self.age = age\n",
    "    \n",
    "        def findage(self):\n",
    "           return self.age\n",
    "\n",
    "per = Person(\"Vishwa\",99)\n",
    "print(per.findage())\n",
    "Person.greet()\n",
    "per.greet()"
   ]
  },
  {
   "cell_type": "code",
   "execution_count": 13,
   "id": "1aa84a41-ad1e-4f30-853e-0f644b269dcf",
   "metadata": {},
   "outputs": [
    {
     "name": "stdout",
     "output_type": "stream",
     "text": [
      "99\n",
      "Hello from the class India\n",
      "Hello from the class India\n",
      "Hello\n"
     ]
    }
   ],
   "source": [
    "# static method\n",
    "\n",
    "class Person:\n",
    "\n",
    "        country = \"India\"\n",
    "    \n",
    "        @classmethod\n",
    "        def greet(cls):  # Access to the class properties\n",
    "            print(\"Hello from the class\",cls.country)  # Access to the class fields but no access to the object property\n",
    "\n",
    "        @staticmethod\n",
    "        def hello():\n",
    "            print(\"Hello\")\n",
    "            \n",
    "        def __init__(self,name,age):\n",
    "         self.name = name  \n",
    "         self.age = age\n",
    "    \n",
    "        def findage(self):\n",
    "           return self.age\n",
    "\n",
    "per = Person(\"Vishwa\",99)\n",
    "print(per.findage())\n",
    "Person.greet()\n",
    "per.greet()\n",
    "per.hello()"
   ]
  },
  {
   "cell_type": "code",
   "execution_count": null,
   "id": "c20bb373-8647-429f-a241-9ac3b404b066",
   "metadata": {},
   "outputs": [],
   "source": [
    "# Method Overloading : >> Multiple methods with same name is called method overloading\n",
    "\n",
    "1] explicit method overloading is can't support in python\n"
   ]
  },
  {
   "cell_type": "code",
   "execution_count": 20,
   "id": "2063b0f5-9f2e-4ce0-9b44-4782e7ee2a7d",
   "metadata": {},
   "outputs": [
    {
     "ename": "TypeError",
     "evalue": "Calculator.add() missing 1 required positional argument: 'c'",
     "output_type": "error",
     "traceback": [
      "\u001b[1;31m---------------------------------------------------------------------------\u001b[0m",
      "\u001b[1;31mTypeError\u001b[0m                                 Traceback (most recent call last)",
      "Cell \u001b[1;32mIn[20], line 9\u001b[0m\n\u001b[0;32m      5\u001b[0m         \u001b[38;5;28;01mreturn\u001b[39;00m a\u001b[38;5;241m+\u001b[39mb\u001b[38;5;241m+\u001b[39mc\n\u001b[0;32m      7\u001b[0m cal \u001b[38;5;241m=\u001b[39m Calculator()\n\u001b[1;32m----> 9\u001b[0m \u001b[38;5;28mprint\u001b[39m(\u001b[43mcal\u001b[49m\u001b[38;5;241;43m.\u001b[39;49m\u001b[43madd\u001b[49m\u001b[43m(\u001b[49m\u001b[38;5;241;43m5\u001b[39;49m\u001b[43m,\u001b[49m\u001b[38;5;241;43m6\u001b[39;49m\u001b[43m)\u001b[49m)\n\u001b[0;32m     10\u001b[0m \u001b[38;5;28mprint\u001b[39m(cal\u001b[38;5;241m.\u001b[39madd(\u001b[38;5;241m5\u001b[39m,\u001b[38;5;241m6\u001b[39m,\u001b[38;5;241m7\u001b[39m))\n",
      "\u001b[1;31mTypeError\u001b[0m: Calculator.add() missing 1 required positional argument: 'c'"
     ]
    }
   ],
   "source": [
    "class Calculator :\n",
    "    def add(self,a,b):\n",
    "     return a+b\n",
    "    def add(self,a,b,c):\n",
    "        return a+b+c\n",
    "\n",
    "cal = Calculator()\n",
    "\n",
    "print(cal.add(5,6))\n",
    "print(cal.add(5,6,7))\n",
    "\n"
   ]
  },
  {
   "cell_type": "code",
   "execution_count": 21,
   "id": "2320bdc9-6f17-42f3-a0f5-90eb395ea87d",
   "metadata": {},
   "outputs": [
    {
     "name": "stdout",
     "output_type": "stream",
     "text": [
      "11\n",
      "18\n"
     ]
    }
   ],
   "source": [
    "#  Implicit method Overloading\n",
    "\n",
    "class Calculator :\n",
    "    \n",
    "    def add(self,a,b,c=0):\n",
    "     return a+b+c\n",
    "\n",
    "cal = Calculator()\n",
    "\n",
    "print(cal.add(5,6))\n",
    "print(cal.add(5,6,7))"
   ]
  },
  {
   "cell_type": "code",
   "execution_count": 25,
   "id": "20c9e197-efc2-4b3c-a804-6a05dc6c1d25",
   "metadata": {},
   "outputs": [
    {
     "name": "stdout",
     "output_type": "stream",
     "text": [
      "pratap\n"
     ]
    }
   ],
   "source": [
    "'''\n",
    "   public and private\n",
    "'''\n",
    "# public\n",
    "class Person :\n",
    "    def __init__(self,name,age):\n",
    "     self.name = name\n",
    "     self.age = age\n",
    "    def findAge(self):\n",
    "        return self.age\n",
    "\n",
    "per = Person(\"pratap\",18)\n",
    "print(per.name)\n",
    "    \n",
    "    \n",
    "    \n",
    "    \n",
    "\n"
   ]
  },
  {
   "cell_type": "code",
   "execution_count": 30,
   "id": "f1d01f60-5ddf-4ae5-b870-d55d7461fa46",
   "metadata": {},
   "outputs": [
    {
     "name": "stdout",
     "output_type": "stream",
     "text": [
      "pratap\n",
      "5000\n",
      "calculating tax\n"
     ]
    },
    {
     "ename": "AttributeError",
     "evalue": "'Person' object has no attribute '__calculateSalary'",
     "output_type": "error",
     "traceback": [
      "\u001b[1;31m---------------------------------------------------------------------------\u001b[0m",
      "\u001b[1;31mAttributeError\u001b[0m                            Traceback (most recent call last)",
      "Cell \u001b[1;32mIn[30], line 23\u001b[0m\n\u001b[0;32m     21\u001b[0m \u001b[38;5;28mprint\u001b[39m(per\u001b[38;5;241m.\u001b[39mname)\n\u001b[0;32m     22\u001b[0m per\u001b[38;5;241m.\u001b[39mgetSalary()\n\u001b[1;32m---> 23\u001b[0m \u001b[43mper\u001b[49m\u001b[38;5;241;43m.\u001b[39;49m\u001b[43m__calculateSalary\u001b[49m()\n",
      "\u001b[1;31mAttributeError\u001b[0m: 'Person' object has no attribute '__calculateSalary'"
     ]
    }
   ],
   "source": [
    "# private :>> private is underscore = salary to create and called inside the class but cant outside the class\n",
    "\n",
    "class Person :\n",
    "    def __init__(self,name,age,salary):\n",
    "     self.name = name\n",
    "     self.age = age\n",
    "     self.__salary = salary  # Accsess only inside the class but can't outside the class\n",
    "    def findAge(self):\n",
    "        return self.age\n",
    "        \n",
    "    def getSalary(self):\n",
    "        print(self.__salary)\n",
    "        self.__calculateTax()\n",
    "        \n",
    "    def __calculateTax(self):\n",
    "        print(\"calculating tax\")\n",
    "\n",
    "\n",
    "\n",
    "per = Person(\"pratap\",18,5000)\n",
    "print(per.name)\n",
    "per.getSalary()\n",
    "per.__calculateSalary()\n",
    "    "
   ]
  },
  {
   "cell_type": "code",
   "execution_count": 31,
   "id": "0454f5fb-20d8-44b7-a5d5-dd9d9b2bd1fa",
   "metadata": {},
   "outputs": [
    {
     "name": "stdout",
     "output_type": "stream",
     "text": [
      "5000\n"
     ]
    }
   ],
   "source": [
    "print(per._Person__salary)"
   ]
  },
  {
   "cell_type": "code",
   "execution_count": 33,
   "id": "bc433b74-36fe-41ee-99be-1c7998cbddae",
   "metadata": {},
   "outputs": [
    {
     "name": "stdout",
     "output_type": "stream",
     "text": [
      "calculating tax\n",
      "None\n"
     ]
    }
   ],
   "source": [
    "print(per._Person__calculateTax())"
   ]
  },
  {
   "cell_type": "code",
   "execution_count": null,
   "id": "76dccc45-3ff7-404d-9c19-e1654d7f5155",
   "metadata": {},
   "outputs": [],
   "source": [
    "# Encapsulation :>>  biend the data/state of the system object with methods\n",
    "                  1] hide or make the state or data private\n",
    "                  2] all the fields/properties they should be private"
   ]
  },
  {
   "cell_type": "code",
   "execution_count": 35,
   "id": "8468f512-441d-4934-ae89-f0d0b8602081",
   "metadata": {},
   "outputs": [],
   "source": [
    "# some ways to access these private fields called as \"Getter\" and \"Setter\" method\n",
    " \n",
    "class Person :\n",
    "    def __init__(self,name,car): # These fields are not accessible outside class\n",
    "        self.__name = name\n",
    "        self.__car = car   # private\n",
    "\n",
    "# Getters and Setters :- public method to allow the controlled interaction\n",
    "\n",
    "    def getName(self):\n",
    "        return self.__name\n",
    "    def setName(self, name):\n",
    "        self.__name = name   # public : get the access to the private\n",
    "    def getCar(self):\n",
    "        return self.__car\n",
    "    def setCar(self, name):\n",
    "        self.__car = car\n",
    "        \n",
    "                \n",
    "                "
   ]
  },
  {
   "cell_type": "code",
   "execution_count": 36,
   "id": "d8b6bcaa-4af0-4a2d-aae9-6f5ba6bc2cef",
   "metadata": {},
   "outputs": [
    {
     "name": "stdout",
     "output_type": "stream",
     "text": [
      "pratap\n",
      "Pratap sarvaiya\n"
     ]
    }
   ],
   "source": [
    "per = Person(\"pratap\",99)\n",
    "\n",
    "print(per.getName())\n",
    "per.setName(\"Pratap sarvaiya\")\n",
    "print(per.getName())"
   ]
  },
  {
   "cell_type": "code",
   "execution_count": 39,
   "id": "6b561b39-cbee-4edb-a45b-c70f397d3c55",
   "metadata": {},
   "outputs": [
    {
     "name": "stdout",
     "output_type": "stream",
     "text": [
      "Moti animal is eating\n",
      "Moti\n"
     ]
    }
   ],
   "source": [
    "# Inheritance\n",
    "\n",
    "class Animal :\n",
    "    def __init__(self,name):\n",
    "        self.name = name\n",
    "        \n",
    "    def eat(self):\n",
    "        print(self.name+\" \" + \"animal is eating\")\n",
    "\n",
    "class Dog(Animal):\n",
    "    def __init__(self,name,type):\n",
    "        # call the constructor/initializer of animal class\n",
    "        Animal.__init__(self,name)\n",
    "        self.type = type\n",
    "        \n",
    "    def getNameofDog(self):\n",
    "        print(self.name)\n",
    "            \n",
    "dog = Dog(\"Moti\",\"Dobberman\")\n",
    "dog.eat()\n",
    "dog.getNameofDog()"
   ]
  },
  {
   "cell_type": "code",
   "execution_count": null,
   "id": "a29123ed-5454-4d83-80e1-8d6601671248",
   "metadata": {},
   "outputs": [],
   "source": [
    "# Advantages Inheritance :- \n",
    "   1] Reause the code\n",
    "   2] represent the parent child relationship "
   ]
  },
  {
   "cell_type": "code",
   "execution_count": 42,
   "id": "1ff400a8-cff5-4ca3-b7f5-8a16c4ad0452",
   "metadata": {},
   "outputs": [
    {
     "name": "stdout",
     "output_type": "stream",
     "text": [
      "Child property 99\n",
      "Parent property 90\n",
      "Child eating\n",
      "Parent eating\n"
     ]
    }
   ],
   "source": [
    "# super keyword :- Access the parent class properties\n",
    "\n",
    "class Parent :\n",
    "    property = 90\n",
    "    def eat(self):\n",
    "        print(\"Parent eating\")\n",
    "\n",
    "class Child(Parent):\n",
    "    property = 99\n",
    "\n",
    "    def display(self):\n",
    "        print(\"Child property\",self.property)\n",
    "        print(\"Parent property\",super().property) # super keyword is used the access the parent class\n",
    "    def eat(self):\n",
    "        print(\"Child eating\")  # parent and child method are same this called method overloading\n",
    "    def callEat(self):\n",
    "        self.eat()      # represent child\n",
    "        super().eat()   # represent parent\n",
    "obj = Child()\n",
    "obj.display()\n",
    "\n",
    "obj.callEat()"
   ]
  },
  {
   "cell_type": "code",
   "execution_count": 43,
   "id": "35a3de2b-2ba2-4050-be80-1541f370e278",
   "metadata": {},
   "outputs": [
    {
     "name": "stdout",
     "output_type": "stream",
     "text": [
      "Moti animal is eating\n",
      "Moti\n"
     ]
    }
   ],
   "source": [
    "# using super for calling the parent initializer\n",
    "\n",
    "class Animal :\n",
    "    def __init__(self,name):\n",
    "        self.name = name\n",
    "        \n",
    "    def eat(self):\n",
    "        print(self.name+\" \" + \"animal is eating\")\n",
    "\n",
    "class Dog(Animal):\n",
    "    def __init__(self,name,type):\n",
    "        # call the constructor/initializer of animal class\n",
    "        #Animal.__init__(self,name)\n",
    "        super().__init__(name)  # call the parent constructor or initializer\n",
    "        self.type = type\n",
    "        \n",
    "    def getNameofDog(self):\n",
    "        print(self.name)\n",
    "            \n",
    "dog = Dog(\"Moti\",\"Dobberman\")\n",
    "dog.eat()\n",
    "dog.getNameofDog()"
   ]
  },
  {
   "cell_type": "code",
   "execution_count": null,
   "id": "f89a4115-26d2-4ab8-b310-641bf2c22c5e",
   "metadata": {},
   "outputs": [],
   "source": [
    "# Types of inheritance support in python:-\n",
    "\n",
    "   1] single level inheritance\n",
    "\n",
    "   2] Multilevel inheritance\n",
    "\n",
    "   3] Hierarchical inheritance\n",
    "\n",
    "   4] Multiple inheritance\n",
    "\n",
    "   5] Hybrid inheritance\n"
   ]
  },
  {
   "cell_type": "code",
   "execution_count": 44,
   "id": "a2dcd991-d768-41e7-99d9-4417d3f83fd1",
   "metadata": {},
   "outputs": [],
   "source": [
    "# single inheritance\n",
    "\n",
    "class Animal:\n",
    "    def __init__(self,name):\n",
    "        self.name=name\n",
    "    def eat(self):\n",
    "        print(\"Animal is eating\")\n",
    "\n",
    "class Dog(Animal):\n",
    "    def __init(self,name,type):\n",
    "        super().__init__(name)\n",
    "        self.type = type"
   ]
  },
  {
   "cell_type": "code",
   "execution_count": null,
   "id": "0fb3e930-baef-4183-99d0-f3a35bf4b92a",
   "metadata": {},
   "outputs": [],
   "source": [
    "# Multi level Inheritance\n",
    "\n",
    "class Animal:\n",
    "    def __init__(self,name):\n",
    "        self.name=name\n",
    "    def eat(self):\n",
    "        print(\"Animal is eating\")\n",
    "\n",
    "class Dog(Animal):\n",
    "    def __init(self,name,type):\n",
    "        super().__init__(name)\n",
    "        self.type = type\n",
    "\n",
    "class Pet(Dog):\n",
    "    def __init__(self,name,type,houseName):\n",
    "        super().__init__(name,type)\n",
    "        self.houseName = houseName"
   ]
  },
  {
   "cell_type": "code",
   "execution_count": null,
   "id": "9cf353c3-c769-492e-91a0-e26facae963d",
   "metadata": {},
   "outputs": [],
   "source": [
    "# Hierarchical inheritance\n",
    "\n",
    "\n",
    "class Animal:\n",
    "    def __init__(self,name):\n",
    "        self.name=name\n",
    "    def eat(self):\n",
    "        print(\"Animal is eating\")\n",
    "\n",
    "class Dog(Animal):\n",
    "    def __init(self,name,type):\n",
    "        super().__init__(name)\n",
    "        self.type = type\n",
    "\n",
    "class Cat(Animal):\n",
    "    def __init__(self,name,type):\n",
    "        super().__init__(name)\n",
    "        self.type = type\n",
    "\n",
    "cat = Cat() "
   ]
  },
  {
   "cell_type": "code",
   "execution_count": 45,
   "id": "1a1e6abf-cdb2-4e41-8123-f06f66e1d1a1",
   "metadata": {},
   "outputs": [
    {
     "name": "stdout",
     "output_type": "stream",
     "text": [
      "Hello from A\n",
      "Hello from B\n"
     ]
    }
   ],
   "source": [
    "# Multiple  inheritance\n",
    "\n",
    "class A:\n",
    "    def meth1(self):\n",
    "        print(\"Hello from A\")\n",
    "\n",
    "class B:\n",
    "    def meth2(self):\n",
    "        print(\"Hello from B\")\n",
    "\n",
    "class C(A,B):\n",
    "    def meth(self):\n",
    "        print(\"Hello from the child\")\n",
    "\n",
    "c = C()\n",
    "\n",
    "c.meth1()\n",
    "c.meth2()\n"
   ]
  },
  {
   "cell_type": "code",
   "execution_count": 47,
   "id": "1a50b8b5-80b5-49ed-9083-35adf33ec688",
   "metadata": {},
   "outputs": [
    {
     "name": "stdout",
     "output_type": "stream",
     "text": [
      "Hello from A\n"
     ]
    }
   ],
   "source": [
    "# MRO = method resolution order is solve from left to right\n",
    "\n",
    "class A:\n",
    "    def meth(self):\n",
    "        print(\"Hello from A\")\n",
    "\n",
    "class B:\n",
    "    def meth(self):\n",
    "        print(\"Hello from B\")\n",
    "\n",
    "class C(A,B):\n",
    "    def meth1(self):\n",
    "        print(\"Hello from the child\")\n",
    "\n",
    "c = C()\n",
    "c.meth()"
   ]
  },
  {
   "cell_type": "code",
   "execution_count": 48,
   "id": "67137fe8-fdb1-458d-9144-0e4c883c2b38",
   "metadata": {},
   "outputs": [
    {
     "name": "stdout",
     "output_type": "stream",
     "text": [
      "Hello from B\n"
     ]
    }
   ],
   "source": [
    "class A:\n",
    "    def meth(self):\n",
    "        print(\"Hello from A\")\n",
    "\n",
    "class B:\n",
    "    def meth(self):\n",
    "        print(\"Hello from B\")\n",
    "\n",
    "class C(B,A):\n",
    "    def meth1(self):\n",
    "        print(\"Hello from the child\")\n",
    "\n",
    "c = C()\n",
    "c.meth()"
   ]
  },
  {
   "cell_type": "code",
   "execution_count": 53,
   "id": "cfb8f991-3214-4fc7-a580-2296d8eb49bb",
   "metadata": {},
   "outputs": [
    {
     "name": "stdout",
     "output_type": "stream",
     "text": [
      "Hello from B\n",
      "(<class '__main__.C'>, <class '__main__.A'>, <class '__main__.B'>, <class 'object'>)\n"
     ]
    }
   ],
   "source": [
    "class A:\n",
    "    def meth2(self):\n",
    "        print(\"Hello from A\")\n",
    "\n",
    "class B:\n",
    "    def meth(self):\n",
    "        print(\"Hello from B\")\n",
    "\n",
    "class C(A,B):\n",
    "    def meth1(self):\n",
    "        print(\"Hello from the child\")\n",
    "\n",
    "c = C()\n",
    "c.meth()\n",
    "\n",
    "print(C.__mro__)  # Check the order"
   ]
  },
  {
   "cell_type": "code",
   "execution_count": null,
   "id": "ace511ed-fda2-46e6-af25-1541b1244d4d",
   "metadata": {},
   "outputs": [],
   "source": [
    "# hybrid inheritance\n",
    "\n",
    "class Pet(Dog,Cat):\n",
    "    pass"
   ]
  }
 ],
 "metadata": {
  "kernelspec": {
   "display_name": "Python 3 (ipykernel)",
   "language": "python",
   "name": "python3"
  },
  "language_info": {
   "codemirror_mode": {
    "name": "ipython",
    "version": 3
   },
   "file_extension": ".py",
   "mimetype": "text/x-python",
   "name": "python",
   "nbconvert_exporter": "python",
   "pygments_lexer": "ipython3",
   "version": "3.10.11"
  }
 },
 "nbformat": 4,
 "nbformat_minor": 5
}
