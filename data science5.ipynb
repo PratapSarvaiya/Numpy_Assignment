{
 "cells": [
  {
   "cell_type": "code",
   "execution_count": null,
   "id": "c2696341-2e3f-46c9-b218-ea13beeb919f",
   "metadata": {},
   "outputs": [],
   "source": [
    "# what is data structure?\n",
    "\n",
    "A data structure is a way of organizing data in computer memory, implemented in a programming\n",
    "language. This organization is required for efficient storage, retrieval, and modification of\n",
    "data. It is a fundamental concept as data structures are one of the main building blocks of \n",
    "any modern software. Learning what data structures exist and how to use them efficiently in \n",
    "different situations is one of the first steps toward learning any programming language."
   ]
  },
  {
   "cell_type": "code",
   "execution_count": null,
   "id": "a2247673-601d-4029-b571-16efa7544059",
   "metadata": {},
   "outputs": [],
   "source": [
    "# What is a list?\n",
    "\n",
    " the sequence of various data types is stored in a list. A list is a collection of different\n",
    "kinds of values or items. Since Python lists are mutable, we can change their elements after \n",
    "forming. The comma (,) and the square brackets [enclose the List's items] serve as separators\n",
    "\n",
    "The lists are in order.\n",
    "The list element can be accessed via the index.\n",
    "The mutable type of List is\n",
    "The rundowns are changeable sorts.\n",
    "The number of various elements can be stored in a list."
   ]
  },
  {
   "cell_type": "code",
   "execution_count": null,
   "id": "d54fb3bb-9aae-4cfb-8a9f-cd25af34a305",
   "metadata": {},
   "outputs": [],
   "source": [
    "# 3 mutability  and immutability?\n",
    "\n",
    "1 ] Mutable\n",
    "   Mutable is when something is changeable or has the ability to change. In Python, \n",
    "‘mutable’ is the ability of objects to change their values. These are often the objects \n",
    "that store a collection of data.\n",
    ">> Lists\n",
    "  Sets\n",
    "  Dictionaries\n",
    "\n",
    "2] Immutable\n",
    "    Immutable is the when no change is possible over time. In Python, if the value of an \n",
    "object cannot be changed over time, then it is known as immutable. Once created, the value\n",
    "of these objects is permanent.\n",
    "\n",
    ">>  Strings\n",
    "  Tuples\n",
    "  Frozen Sets"
   ]
  },
  {
   "cell_type": "code",
   "execution_count": 4,
   "id": "d1602517-00e0-4262-809e-1ad903b2e66c",
   "metadata": {},
   "outputs": [
    {
     "ename": "SyntaxError",
     "evalue": "invalid syntax (3465391839.py, line 2)",
     "output_type": "error",
     "traceback": [
      "\u001b[1;36m  Cell \u001b[1;32mIn[4], line 2\u001b[1;36m\u001b[0m\n\u001b[1;33m    the string data types are immutable. Which means a string value cannot be updated. We can\u001b[0m\n\u001b[1;37m        ^\u001b[0m\n\u001b[1;31mSyntaxError\u001b[0m\u001b[1;31m:\u001b[0m invalid syntax\n"
     ]
    }
   ],
   "source": [
    "# 4] Why string is immutable?\n",
    "the string data types are immutable. Which means a string value cannot be updated. We can \n",
    "verify this by trying to update a part of the string which will led us to an error.\n"
   ]
  },
  {
   "cell_type": "code",
   "execution_count": 6,
   "id": "a1e24985-f3fc-4ff7-b4ea-baf2c30521c5",
   "metadata": {},
   "outputs": [
    {
     "ename": "TypeError",
     "evalue": "'str' object does not support item assignment",
     "output_type": "error",
     "traceback": [
      "\u001b[1;31m---------------------------------------------------------------------------\u001b[0m",
      "\u001b[1;31mTypeError\u001b[0m                                 Traceback (most recent call last)",
      "Cell \u001b[1;32mIn[6], line 2\u001b[0m\n\u001b[0;32m      1\u001b[0m s\u001b[38;5;241m=\u001b[39m\u001b[38;5;124m\"\u001b[39m\u001b[38;5;124mpwskills\u001b[39m\u001b[38;5;124m\"\u001b[39m\n\u001b[1;32m----> 2\u001b[0m \u001b[43ms\u001b[49m\u001b[43m[\u001b[49m\u001b[38;5;241;43m0\u001b[39;49m\u001b[43m]\u001b[49m\u001b[38;5;241m=\u001b[39m\u001b[38;5;124m\"\u001b[39m\u001b[38;5;124mq\u001b[39m\u001b[38;5;124m\"\u001b[39m\n\u001b[0;32m      3\u001b[0m s\n",
      "\u001b[1;31mTypeError\u001b[0m: 'str' object does not support item assignment"
     ]
    }
   ],
   "source": [
    "s=\"pwskills\"\n",
    "s[0]=\"q\"\n",
    "s"
   ]
  },
  {
   "cell_type": "code",
   "execution_count": null,
   "id": "8c619d09-c3a4-4936-9adb-8e71740251c6",
   "metadata": {},
   "outputs": [],
   "source": [
    "# What is function and its significance?\n",
    "# a reausable block of code\n",
    "# reausable\n",
    "# organized way\n",
    "#simplified\n",
    "#recall\n",
    "# collaboration\n",
    "# save time and memory"
   ]
  },
  {
   "cell_type": "code",
   "execution_count": 9,
   "id": "cf1503aa-cc2f-492a-8be7-633a881e65e7",
   "metadata": {},
   "outputs": [
    {
     "name": "stdout",
     "output_type": "stream",
     "text": [
      "This is my first function\n"
     ]
    }
   ],
   "source": [
    "def func():\n",
    "    print(\"This is my first function\")\n",
    "\n",
    "func()"
   ]
  },
  {
   "cell_type": "code",
   "execution_count": 11,
   "id": "ac0fc8cd-aad6-468e-ac6a-d01b9deb5624",
   "metadata": {},
   "outputs": [
    {
     "data": {
      "text/plain": [
       "('This is my first function', 'a', 2, (3+7j), True)"
      ]
     },
     "execution_count": 11,
     "metadata": {},
     "output_type": "execute_result"
    }
   ],
   "source": [
    "def func():\n",
    "    return\"This is my first function\",\"a\",2,3+7j,True\n",
    "\n",
    "func()"
   ]
  },
  {
   "cell_type": "code",
   "execution_count": 12,
   "id": "5bf0c029-29f2-43da-a14f-310ac19c603c",
   "metadata": {},
   "outputs": [],
   "source": [
    "a,b,c,d,e = func()"
   ]
  },
  {
   "cell_type": "code",
   "execution_count": 13,
   "id": "ea144e6b-83e2-440d-b3cf-ca878a5eb675",
   "metadata": {},
   "outputs": [
    {
     "data": {
      "text/plain": [
       "'This is my first function'"
      ]
     },
     "execution_count": 13,
     "metadata": {},
     "output_type": "execute_result"
    }
   ],
   "source": [
    "a"
   ]
  },
  {
   "cell_type": "code",
   "execution_count": 14,
   "id": "f4713ed4-00f6-4f0e-ab25-55cc5f17c0e4",
   "metadata": {},
   "outputs": [
    {
     "data": {
      "text/plain": [
       "'a'"
      ]
     },
     "execution_count": 14,
     "metadata": {},
     "output_type": "execute_result"
    }
   ],
   "source": [
    "b"
   ]
  },
  {
   "cell_type": "code",
   "execution_count": 15,
   "id": "ff624817-e7fd-4a62-a192-aa6052901aa7",
   "metadata": {},
   "outputs": [
    {
     "data": {
      "text/plain": [
       "2"
      ]
     },
     "execution_count": 15,
     "metadata": {},
     "output_type": "execute_result"
    }
   ],
   "source": [
    "c"
   ]
  },
  {
   "cell_type": "code",
   "execution_count": 16,
   "id": "2d3cc1ea-8bd5-481e-ae72-fd9b0fefb781",
   "metadata": {},
   "outputs": [
    {
     "data": {
      "text/plain": [
       "(3+7j)"
      ]
     },
     "execution_count": 16,
     "metadata": {},
     "output_type": "execute_result"
    }
   ],
   "source": [
    "d"
   ]
  },
  {
   "cell_type": "code",
   "execution_count": 17,
   "id": "8d842200-fa9e-4dda-90a7-fde540d383ce",
   "metadata": {},
   "outputs": [
    {
     "data": {
      "text/plain": [
       "True"
      ]
     },
     "execution_count": 17,
     "metadata": {},
     "output_type": "execute_result"
    }
   ],
   "source": [
    "e"
   ]
  },
  {
   "cell_type": "code",
   "execution_count": null,
   "id": "61033454-4840-4b87-b217-741c8f2ab56f",
   "metadata": {},
   "outputs": [],
   "source": [
    "# write a program to create a recursive function to calculate sum of numbers from 0 to 10\n",
    "Recursive function :- A function that calls itself untill a certain criteria is met."
   ]
  },
  {
   "cell_type": "code",
   "execution_count": 32,
   "id": "53142a37-876d-4627-acc6-21cd97639576",
   "metadata": {},
   "outputs": [],
   "source": [
    "def addition(n):\n",
    "           \n",
    "    if n:\n",
    "        \n",
    "      return n + addition(n-1)\n",
    "    else:\n",
    "      return 0\n"
   ]
  },
  {
   "cell_type": "code",
   "execution_count": 33,
   "id": "95d4a33d-fe25-4962-a01b-cb1437bb6828",
   "metadata": {},
   "outputs": [
    {
     "data": {
      "text/plain": [
       "55"
      ]
     },
     "execution_count": 33,
     "metadata": {},
     "output_type": "execute_result"
    }
   ],
   "source": [
    "addition(10)"
   ]
  },
  {
   "cell_type": "code",
   "execution_count": null,
   "id": "fa26c70e-4877-40ce-9744-d2752ed68ff9",
   "metadata": {},
   "outputs": [],
   "source": [
    "# write a python program to check if a given string is pangram"
   ]
  },
  {
   "cell_type": "raw",
   "id": "d53e934c-dd6e-44ec-b153-c0cd4d0557b7",
   "metadata": {},
   "source": [
    "import string\n",
    "def ispangram(str):\n",
    "   alphabet = \"abcdefghijklmnopqrstuvwxyz\"\n",
    "   for char in alphabet:\n",
    "      if char not in str.lower():\n",
    "         return False\n",
    "   return True\n",
    "# main\n",
    "string = input(\"Enter a string: \")\n",
    "if(ispangram(string) == True):\n",
    "   print(\"Yes\")\n",
    "else:\n",
    "   print(\"No\")"
   ]
  },
  {
   "cell_type": "code",
   "execution_count": 34,
   "id": "a3fb5f30-0803-41f9-a2f8-98ee63f261b5",
   "metadata": {},
   "outputs": [
    {
     "data": {
      "text/plain": [
       "False"
      ]
     },
     "execution_count": 34,
     "metadata": {},
     "output_type": "execute_result"
    }
   ],
   "source": [
    "def pangram(name):\n",
    "    alpha = set(name)\n",
    "    if len(alpha)==26:\n",
    "        return True\n",
    "    else:\n",
    "        return False\n",
    "pangram(\"Ajay\")\n",
    "\n",
    "# space is also counted in len\n",
    "#duplicate character can also be there\n",
    "# all the special character"
   ]
  },
  {
   "cell_type": "code",
   "execution_count": null,
   "id": "4a81df60-e2eb-4af6-bdfe-c46426ce1292",
   "metadata": {},
   "outputs": [],
   "source": [
    "# a list is given,  seprate string, integer,float in three separate list\n",
    "\n",
    "# [1,1,2,2,2.2,3.4,\"monjo\",\"kakuda\",True,False]"
   ]
  },
  {
   "cell_type": "code",
   "execution_count": null,
   "id": "47879856-2cf1-475c-b4e7-4a0477778cc4",
   "metadata": {},
   "outputs": [],
   "source": [
    "def separate_types(elements):\n",
    "    "
   ]
  },
  {
   "cell_type": "code",
   "execution_count": null,
   "id": "dc206075-aa5e-4c12-b61f-b44d99329af1",
   "metadata": {},
   "outputs": [],
   "source": [
    "# same bave question,input list is nested"
   ]
  },
  {
   "cell_type": "code",
   "execution_count": 1,
   "id": "644afdd6-a786-44ae-a192-e3e014a27512",
   "metadata": {},
   "outputs": [
    {
     "data": {
      "text/plain": [
       "5"
      ]
     },
     "execution_count": 1,
     "metadata": {},
     "output_type": "execute_result"
    }
   ],
   "source": [
    "def add(a,b):\n",
    "    return a+b\n",
    "add(2,3)"
   ]
  },
  {
   "cell_type": "code",
   "execution_count": 2,
   "id": "91ee6ea4-0734-437f-9b6c-4bda09f83e85",
   "metadata": {},
   "outputs": [],
   "source": [
    "# variable length argument\n",
    "\n",
    "def add(*args):\n",
    "    add = 0\n",
    "    for i in args:\n",
    "          add = add+i\n",
    "    return add"
   ]
  },
  {
   "cell_type": "code",
   "execution_count": 3,
   "id": "007b806e-4211-4b85-b28b-82676c620e3d",
   "metadata": {},
   "outputs": [
    {
     "data": {
      "text/plain": [
       "36"
      ]
     },
     "execution_count": 3,
     "metadata": {},
     "output_type": "execute_result"
    }
   ],
   "source": [
    "add(1,2,3,4,5,6,7,8,)"
   ]
  },
  {
   "cell_type": "code",
   "execution_count": 4,
   "id": "87877d78-ba83-4157-a5bb-59508c3cb471",
   "metadata": {},
   "outputs": [],
   "source": [
    "# keyword argument\n",
    "def kwarg_func(**kwargs):\n",
    "    return kwargs"
   ]
  },
  {
   "cell_type": "code",
   "execution_count": 5,
   "id": "3ae3c1fd-25d8-4642-b7e2-9b8ac220416b",
   "metadata": {},
   "outputs": [
    {
     "data": {
      "text/plain": [
       "{'a': 2, 'b': 'pratap'}"
      ]
     },
     "execution_count": 5,
     "metadata": {},
     "output_type": "execute_result"
    }
   ],
   "source": [
    "kwarg_func(a=2,b=\"pratap\")"
   ]
  },
  {
   "cell_type": "code",
   "execution_count": null,
   "id": "ba2f7d5a-2105-49b5-80e1-89ab6c28f376",
   "metadata": {},
   "outputs": [],
   "source": [
    "# write a function which takes **kwargs and *args. and return whichever value is a list or tuple"
   ]
  },
  {
   "cell_type": "code",
   "execution_count": null,
   "id": "9756a6ff-47a6-4e20-9c28-8d3d7be57bee",
   "metadata": {},
   "outputs": [],
   "source": [
    "def kwarg_func(**kwargs):\n",
    "    return kwargs"
   ]
  },
  {
   "cell_type": "code",
   "execution_count": 6,
   "id": "762a352c-70a1-4963-9f6c-a4029496c817",
   "metadata": {},
   "outputs": [
    {
     "data": {
      "text/plain": [
       "('a', 'c')"
      ]
     },
     "execution_count": 6,
     "metadata": {},
     "output_type": "execute_result"
    }
   ],
   "source": [
    "tuple(kwarg_func(a=3,c=\"sweta\"))"
   ]
  },
  {
   "cell_type": "code",
   "execution_count": 8,
   "id": "c974f2ce-aa66-4adf-9a4d-bb5719f6c6d4",
   "metadata": {},
   "outputs": [],
   "source": [
    "def add(*args):\n",
    "    return add"
   ]
  },
  {
   "cell_type": "code",
   "execution_count": 10,
   "id": "01d93e98-56e1-42c6-9879-0974548db8e4",
   "metadata": {},
   "outputs": [
    {
     "ename": "TypeError",
     "evalue": "'function' object is not iterable",
     "output_type": "error",
     "traceback": [
      "\u001b[1;31m---------------------------------------------------------------------------\u001b[0m",
      "\u001b[1;31mTypeError\u001b[0m                                 Traceback (most recent call last)",
      "Cell \u001b[1;32mIn[10], line 1\u001b[0m\n\u001b[1;32m----> 1\u001b[0m \u001b[38;5;28;43mtuple\u001b[39;49m\u001b[43m(\u001b[49m\u001b[43madd\u001b[49m\u001b[43m(\u001b[49m\u001b[38;5;241;43m2\u001b[39;49m\u001b[43m,\u001b[49m\u001b[38;5;241;43m3\u001b[39;49m\u001b[43m)\u001b[49m\u001b[43m)\u001b[49m\n",
      "\u001b[1;31mTypeError\u001b[0m: 'function' object is not iterable"
     ]
    }
   ],
   "source": [
    "tuple(add(2,3))"
   ]
  },
  {
   "cell_type": "code",
   "execution_count": null,
   "id": "7e932b98-444d-4cb5-bda3-196f412f0207",
   "metadata": {},
   "outputs": [],
   "source": [
    "def filter_collections(*args,**kwargs):\n",
    "    collections=[]\n",
    "\n",
    "    for arg in args:\n",
    "        if type"
   ]
  },
  {
   "cell_type": "code",
   "execution_count": 13,
   "id": "a271e3ad-0918-4a02-9d14-b2a2578a8330",
   "metadata": {},
   "outputs": [
    {
     "data": {
      "text/plain": [
       "3"
      ]
     },
     "execution_count": 13,
     "metadata": {},
     "output_type": "execute_result"
    }
   ],
   "source": [
    "# a variable inside a function will be accessed inside a function only >> local variable\n",
    "# everywhere a global variable\n",
    "\n",
    "a=10\n",
    "def func(a,b):\n",
    "    c=a+b\n",
    "    return c\n"
   ]
  },
  {
   "cell_type": "code",
   "execution_count": 15,
   "id": "1b1c7420-6aca-489b-9d48-ce068a7fa5c1",
   "metadata": {},
   "outputs": [
    {
     "data": {
      "text/plain": [
       "3"
      ]
     },
     "execution_count": 15,
     "metadata": {},
     "output_type": "execute_result"
    }
   ],
   "source": [
    "func(1,2)"
   ]
  },
  {
   "cell_type": "code",
   "execution_count": 16,
   "id": "dd06cb76-5f03-45d4-bf18-7c08fb473c19",
   "metadata": {},
   "outputs": [
    {
     "data": {
      "text/plain": [
       "10"
      ]
     },
     "execution_count": 16,
     "metadata": {},
     "output_type": "execute_result"
    }
   ],
   "source": [
    "a"
   ]
  },
  {
   "cell_type": "code",
   "execution_count": null,
   "id": "981a151f-9b1e-4c23-89cc-460d7f8e4b1c",
   "metadata": {},
   "outputs": [],
   "source": [
    "subpart = \"pwskills\"\n",
    "def greet():\n",
    "    message = \"wel to\"+"
   ]
  },
  {
   "cell_type": "code",
   "execution_count": null,
   "id": "24843041-338a-4d77-a559-965501868ccf",
   "metadata": {},
   "outputs": [],
   "source": [
    "# best practice >> always write a docstring while defining a function\n",
    "\n",
    "def find_power(num,power):\n",
    "    \"\"\"\n",
    "        This function intent is to find power of a given number\n",
    "        Args:\n",
    "            num(int):insert any integer value\n",
    "            power(int):insert any integer value\n",
    "        "
   ]
  },
  {
   "cell_type": "code",
   "execution_count": 17,
   "id": "a8268b4b-bf13-40b8-892a-7cc3bfd02071",
   "metadata": {},
   "outputs": [],
   "source": [
    "# lambda\n",
    "sq_lambda = lambda x: x**2"
   ]
  },
  {
   "cell_type": "code",
   "execution_count": 18,
   "id": "6093f321-af48-4955-b960-5e0fef888cf6",
   "metadata": {},
   "outputs": [
    {
     "data": {
      "text/plain": [
       "36"
      ]
     },
     "execution_count": 18,
     "metadata": {},
     "output_type": "execute_result"
    }
   ],
   "source": [
    "sq_lambda(6)"
   ]
  },
  {
   "cell_type": "code",
   "execution_count": null,
   "id": "57b0461b-047f-4797-abf1-bdde8fe851f0",
   "metadata": {},
   "outputs": [],
   "source": [
    "# write a lambda function to generate fibonacci series"
   ]
  },
  {
   "cell_type": "code",
   "execution_count": 22,
   "id": "d1ca0de3-e5f0-44dc-97c0-bf3f9d75a634",
   "metadata": {},
   "outputs": [
    {
     "data": {
      "text/plain": [
       "[0, 1, 1, 2, 3, 5, 8, 13, 21, 34]"
      ]
     },
     "execution_count": 22,
     "metadata": {},
     "output_type": "execute_result"
    }
   ],
   "source": [
    "# 0,1,1,2,3,5,...\n",
    "\n",
    "fib = lambda n: n if n <= 1 else fib(n-1)+fib(n-2)\n",
    "[fib(i) for i in range(10)]"
   ]
  },
  {
   "cell_type": "code",
   "execution_count": null,
   "id": "9ef04e5c-d070-4b54-a3d8-e79fceada247",
   "metadata": {},
   "outputs": [],
   "source": [
    "# Map >> executes a function with iterable\n",
    "\n",
    "# map(func,*iterable)"
   ]
  },
  {
   "cell_type": "code",
   "execution_count": 23,
   "id": "40b6ae24-8c7d-4ce1-b79a-c9072708d6f8",
   "metadata": {},
   "outputs": [
    {
     "name": "stdout",
     "output_type": "stream",
     "text": [
      "Help on class map in module builtins:\n",
      "\n",
      "class map(object)\n",
      " |  map(func, *iterables) --> map object\n",
      " |  \n",
      " |  Make an iterator that computes the function using arguments from\n",
      " |  each of the iterables.  Stops when the shortest iterable is exhausted.\n",
      " |  \n",
      " |  Methods defined here:\n",
      " |  \n",
      " |  __getattribute__(self, name, /)\n",
      " |      Return getattr(self, name).\n",
      " |  \n",
      " |  __iter__(self, /)\n",
      " |      Implement iter(self).\n",
      " |  \n",
      " |  __next__(self, /)\n",
      " |      Implement next(self).\n",
      " |  \n",
      " |  __reduce__(...)\n",
      " |      Return state information for pickling.\n",
      " |  \n",
      " |  ----------------------------------------------------------------------\n",
      " |  Static methods defined here:\n",
      " |  \n",
      " |  __new__(*args, **kwargs)\n",
      " |      Create and return a new object.  See help(type) for accurate signature.\n",
      "\n"
     ]
    }
   ],
   "source": [
    "help(map)"
   ]
  },
  {
   "cell_type": "code",
   "execution_count": 26,
   "id": "53609cd9-cab3-44e6-ba80-b1fdc021b7a5",
   "metadata": {},
   "outputs": [],
   "source": [
    "def sq(l):\n",
    "    return l**2"
   ]
  },
  {
   "cell_type": "code",
   "execution_count": 28,
   "id": "b7f6bd60-bb24-4297-a60d-856b4cbd834c",
   "metadata": {},
   "outputs": [
    {
     "data": {
      "text/plain": [
       "[1, 4, 9, 16, 25]"
      ]
     },
     "execution_count": 28,
     "metadata": {},
     "output_type": "execute_result"
    }
   ],
   "source": [
    "l=[1,2,3,4,5]\n",
    "list(map(sq,l))"
   ]
  },
  {
   "cell_type": "code",
   "execution_count": 29,
   "id": "022a4265-724b-4bde-8c83-b3e898782f53",
   "metadata": {},
   "outputs": [
    {
     "data": {
      "text/plain": [
       "[2, 3, 4]"
      ]
     },
     "execution_count": 29,
     "metadata": {},
     "output_type": "execute_result"
    }
   ],
   "source": [
    "l = [\"2\",\"3\",\"4\"]\n",
    "list(map(int,l))"
   ]
  },
  {
   "cell_type": "code",
   "execution_count": 30,
   "id": "ea1693ec-0d7e-4071-b471-14db950e9c8f",
   "metadata": {},
   "outputs": [],
   "source": [
    "# reduce >> fodling/reduction\n",
    "\n",
    "from functools import reduce"
   ]
  },
  {
   "cell_type": "code",
   "execution_count": 32,
   "id": "038391f3-c2fa-48ab-bb45-11a527d3fc46",
   "metadata": {},
   "outputs": [
    {
     "data": {
      "text/plain": [
       "28"
      ]
     },
     "execution_count": 32,
     "metadata": {},
     "output_type": "execute_result"
    }
   ],
   "source": [
    "l = [2,1,3,4,5,6,7]\n",
    "reduce(lambda x,y:x+y,l)"
   ]
  },
  {
   "cell_type": "code",
   "execution_count": 34,
   "id": "b4fd0961-494c-4c0a-b077-f19bc6b06cf4",
   "metadata": {},
   "outputs": [
    {
     "data": {
      "text/plain": [
       "[2, 4, 6]"
      ]
     },
     "execution_count": 34,
     "metadata": {},
     "output_type": "execute_result"
    }
   ],
   "source": [
    "# l = [1,2,3,4,5]\n",
    "#filter\n",
    "\n",
    "list(filter(lambda x: x%2 ==0,l))"
   ]
  },
  {
   "cell_type": "code",
   "execution_count": null,
   "id": "2853d6cf-9e7e-42a8-a152-c7cf2644944c",
   "metadata": {},
   "outputs": [],
   "source": [
    "first_name = [\"Ajay\",\"Ramu\",\"mohan\",\"pratap\"]\n",
    "last_name = [\"Gupta\",\"sinha\",\"srivastava\",\"sarvaiya\"]\n",
    "\n",
    "# combine respective first name and last name\n",
    "# make the first name all character being small\n",
    "# return a list. if last name is gupta ranking is 1 other 0>>[1,0]\n",
    "#using reduce function, find out maximum number of a list"
   ]
  },
  {
   "cell_type": "code",
   "execution_count": null,
   "id": "96d0412e-f769-4817-9e80-6b04e79c19c2",
   "metadata": {},
   "outputs": [],
   "source": [
    "# iterators and generators"
   ]
  },
  {
   "cell_type": "code",
   "execution_count": 35,
   "id": "51a96672-1998-47b2-a675-aacac55ee7a7",
   "metadata": {},
   "outputs": [
    {
     "ename": "TypeError",
     "evalue": "'int' object is not iterable",
     "output_type": "error",
     "traceback": [
      "\u001b[1;31m---------------------------------------------------------------------------\u001b[0m",
      "\u001b[1;31mTypeError\u001b[0m                                 Traceback (most recent call last)",
      "Cell \u001b[1;32mIn[35], line 1\u001b[0m\n\u001b[1;32m----> 1\u001b[0m \u001b[38;5;28;43;01mfor\u001b[39;49;00m\u001b[43m \u001b[49m\u001b[43mi\u001b[49m\u001b[43m \u001b[49m\u001b[38;5;129;43;01min\u001b[39;49;00m\u001b[43m \u001b[49m\u001b[38;5;241;43m3\u001b[39;49m\u001b[43m:\u001b[49m\n\u001b[0;32m      2\u001b[0m \u001b[43m    \u001b[49m\u001b[38;5;28;43mprint\u001b[39;49m\u001b[43m(\u001b[49m\u001b[43mi\u001b[49m\u001b[43m)\u001b[49m\n",
      "\u001b[1;31mTypeError\u001b[0m: 'int' object is not iterable"
     ]
    }
   ],
   "source": [
    "for i in 3:\n",
    "    print(i)"
   ]
  },
  {
   "cell_type": "code",
   "execution_count": 40,
   "id": "8cdfbf34-1990-4727-8b36-9893b6f8bf50",
   "metadata": {},
   "outputs": [
    {
     "name": "stdout",
     "output_type": "stream",
     "text": [
      "p\n",
      "w\n",
      "s\n",
      "k\n",
      "i\n",
      "l\n",
      "l\n",
      "s\n"
     ]
    }
   ],
   "source": [
    "s = \"pwskills\"\n",
    "for i in s:\n",
    "    print(i)"
   ]
  },
  {
   "cell_type": "code",
   "execution_count": 42,
   "id": "0dbb9e70-0d15-4cef-b41d-45844723f106",
   "metadata": {},
   "outputs": [],
   "source": [
    "s=iter(s)"
   ]
  },
  {
   "cell_type": "code",
   "execution_count": 43,
   "id": "cd4c1cba-02dc-488f-9929-4d7ff708eb2a",
   "metadata": {},
   "outputs": [
    {
     "data": {
      "text/plain": [
       "'p'"
      ]
     },
     "execution_count": 43,
     "metadata": {},
     "output_type": "execute_result"
    }
   ],
   "source": [
    "next(s)"
   ]
  },
  {
   "cell_type": "code",
   "execution_count": 44,
   "id": "e004b626-7fc9-47f1-b653-c004902e8d8b",
   "metadata": {},
   "outputs": [
    {
     "data": {
      "text/plain": [
       "'w'"
      ]
     },
     "execution_count": 44,
     "metadata": {},
     "output_type": "execute_result"
    }
   ],
   "source": [
    "next(s)"
   ]
  },
  {
   "cell_type": "code",
   "execution_count": 45,
   "id": "3a095bd1-0ac9-4126-9a2f-30436d45caec",
   "metadata": {},
   "outputs": [
    {
     "data": {
      "text/plain": [
       "'s'"
      ]
     },
     "execution_count": 45,
     "metadata": {},
     "output_type": "execute_result"
    }
   ],
   "source": [
    "next(s)"
   ]
  },
  {
   "cell_type": "code",
   "execution_count": 46,
   "id": "44daeb48-db99-4168-96a3-eb78ecdc7e18",
   "metadata": {},
   "outputs": [
    {
     "data": {
      "text/plain": [
       "'k'"
      ]
     },
     "execution_count": 46,
     "metadata": {},
     "output_type": "execute_result"
    }
   ],
   "source": [
    "next(s)"
   ]
  },
  {
   "cell_type": "code",
   "execution_count": 47,
   "id": "d3ce1ec0-d273-4056-aa12-9e5ca7c16971",
   "metadata": {},
   "outputs": [
    {
     "data": {
      "text/plain": [
       "'i'"
      ]
     },
     "execution_count": 47,
     "metadata": {},
     "output_type": "execute_result"
    }
   ],
   "source": [
    "next(s)"
   ]
  },
  {
   "cell_type": "code",
   "execution_count": 48,
   "id": "94ff8408-bc0d-4593-95e5-5f82a8d1a06b",
   "metadata": {},
   "outputs": [
    {
     "data": {
      "text/plain": [
       "'l'"
      ]
     },
     "execution_count": 48,
     "metadata": {},
     "output_type": "execute_result"
    }
   ],
   "source": [
    "next(s)"
   ]
  },
  {
   "cell_type": "code",
   "execution_count": 49,
   "id": "9f9e4ed0-dc00-4af0-9cf3-395ea2c0ac9b",
   "metadata": {},
   "outputs": [
    {
     "data": {
      "text/plain": [
       "'l'"
      ]
     },
     "execution_count": 49,
     "metadata": {},
     "output_type": "execute_result"
    }
   ],
   "source": [
    "next(s)"
   ]
  },
  {
   "cell_type": "code",
   "execution_count": 50,
   "id": "3ddce09e-9543-4fbe-8ebd-50e66c143748",
   "metadata": {},
   "outputs": [
    {
     "data": {
      "text/plain": [
       "'s'"
      ]
     },
     "execution_count": 50,
     "metadata": {},
     "output_type": "execute_result"
    }
   ],
   "source": [
    "next(s)"
   ]
  },
  {
   "cell_type": "code",
   "execution_count": 51,
   "id": "a32d52f9-4940-4ab6-97e8-faf4e9747ed7",
   "metadata": {},
   "outputs": [
    {
     "ename": "StopIteration",
     "evalue": "",
     "output_type": "error",
     "traceback": [
      "\u001b[1;31m---------------------------------------------------------------------------\u001b[0m",
      "\u001b[1;31mStopIteration\u001b[0m                             Traceback (most recent call last)",
      "Cell \u001b[1;32mIn[51], line 1\u001b[0m\n\u001b[1;32m----> 1\u001b[0m \u001b[38;5;28;43mnext\u001b[39;49m\u001b[43m(\u001b[49m\u001b[43ms\u001b[49m\u001b[43m)\u001b[49m\n",
      "\u001b[1;31mStopIteration\u001b[0m: "
     ]
    }
   ],
   "source": [
    "next(s)"
   ]
  },
  {
   "cell_type": "code",
   "execution_count": 52,
   "id": "a2d7d77b-daf6-4a51-b8cd-6ea636f9df22",
   "metadata": {},
   "outputs": [
    {
     "ename": "TypeError",
     "evalue": "'int' object is not iterable",
     "output_type": "error",
     "traceback": [
      "\u001b[1;31m---------------------------------------------------------------------------\u001b[0m",
      "\u001b[1;31mTypeError\u001b[0m                                 Traceback (most recent call last)",
      "Cell \u001b[1;32mIn[52], line 2\u001b[0m\n\u001b[0;32m      1\u001b[0m a\u001b[38;5;241m=\u001b[39m\u001b[38;5;241m3\u001b[39m\n\u001b[1;32m----> 2\u001b[0m \u001b[38;5;28;43miter\u001b[39;49m\u001b[43m(\u001b[49m\u001b[43ma\u001b[49m\u001b[43m)\u001b[49m\n",
      "\u001b[1;31mTypeError\u001b[0m: 'int' object is not iterable"
     ]
    }
   ],
   "source": [
    "a=3\n",
    "iter(a)"
   ]
  },
  {
   "cell_type": "code",
   "execution_count": null,
   "id": "174761a1-f211-47bb-80f2-59eddcaa216c",
   "metadata": {},
   "outputs": [],
   "source": [
    "# generator function"
   ]
  },
  {
   "cell_type": "code",
   "execution_count": 53,
   "id": "9685b94b-3233-4b36-89b7-2b266881fd47",
   "metadata": {},
   "outputs": [
    {
     "data": {
      "text/plain": [
       "[0, 1, 4, 9, 16, 25, 36, 49, 64, 81, 100, 121]"
      ]
     },
     "execution_count": 53,
     "metadata": {},
     "output_type": "execute_result"
    }
   ],
   "source": [
    "def square_num(n):\n",
    "    result = []\n",
    "    for i in range(n):\n",
    "        result.append(i**2)\n",
    "    return result\n",
    "square_num(12)"
   ]
  },
  {
   "cell_type": "code",
   "execution_count": 57,
   "id": "96be9491-12ae-41cf-bf9b-c04e7687dd53",
   "metadata": {},
   "outputs": [],
   "source": [
    "def square_num(n):\n",
    "   \n",
    "    for i in range(n):\n",
    "        yield i**2\n",
    "gen = square_num(1000000)"
   ]
  },
  {
   "cell_type": "code",
   "execution_count": 58,
   "id": "079d1811-3e9c-4b33-9c5d-45135c8190a4",
   "metadata": {},
   "outputs": [
    {
     "data": {
      "text/plain": [
       "<generator object square_num at 0x000001D48FF68FB0>"
      ]
     },
     "execution_count": 58,
     "metadata": {},
     "output_type": "execute_result"
    }
   ],
   "source": [
    "gen"
   ]
  },
  {
   "cell_type": "code",
   "execution_count": 59,
   "id": "54a15958-f496-4fb8-92f9-4fb946ed5e03",
   "metadata": {},
   "outputs": [
    {
     "data": {
      "text/plain": [
       "0"
      ]
     },
     "execution_count": 59,
     "metadata": {},
     "output_type": "execute_result"
    }
   ],
   "source": [
    "next(gen)"
   ]
  },
  {
   "cell_type": "code",
   "execution_count": null,
   "id": "ae7e1adf-7767-4fcd-9902-306b328cb334",
   "metadata": {},
   "outputs": [],
   "source": []
  },
  {
   "cell_type": "code",
   "execution_count": null,
   "id": "0dc2ae87-461f-4100-97c0-fa85bf50ccd5",
   "metadata": {},
   "outputs": [],
   "source": []
  },
  {
   "cell_type": "code",
   "execution_count": null,
   "id": "638ac842-4ba9-4ecc-834a-ed0b2c26f0cb",
   "metadata": {},
   "outputs": [],
   "source": []
  },
  {
   "cell_type": "code",
   "execution_count": null,
   "id": "e23bc5ab-e45f-4cb9-a342-f23c6446defc",
   "metadata": {},
   "outputs": [],
   "source": []
  },
  {
   "cell_type": "code",
   "execution_count": null,
   "id": "83dd7f32-44f4-4eb0-bea6-643bca4ce20c",
   "metadata": {},
   "outputs": [],
   "source": []
  },
  {
   "cell_type": "code",
   "execution_count": null,
   "id": "c3873459-d079-4dca-a5c9-b8817ce94d09",
   "metadata": {},
   "outputs": [],
   "source": []
  },
  {
   "cell_type": "code",
   "execution_count": null,
   "id": "95737bdc-9e56-49cc-88dd-56569cc31e66",
   "metadata": {},
   "outputs": [],
   "source": []
  },
  {
   "cell_type": "code",
   "execution_count": null,
   "id": "0ec193e5-58f5-49d2-9733-e79aee6fe501",
   "metadata": {},
   "outputs": [],
   "source": []
  },
  {
   "cell_type": "code",
   "execution_count": null,
   "id": "0cd2195e-dc81-4b7a-823f-56916c6b89e0",
   "metadata": {},
   "outputs": [],
   "source": []
  },
  {
   "cell_type": "code",
   "execution_count": null,
   "id": "6a6809a3-4ac8-4b62-89f6-d53ff9ef7cca",
   "metadata": {},
   "outputs": [],
   "source": []
  },
  {
   "cell_type": "code",
   "execution_count": null,
   "id": "0e4265a6-0e4c-4073-ae11-58b923c5a1c8",
   "metadata": {},
   "outputs": [],
   "source": []
  },
  {
   "cell_type": "code",
   "execution_count": null,
   "id": "981e9d71-ccaf-4685-9229-d49af5f67285",
   "metadata": {},
   "outputs": [],
   "source": []
  },
  {
   "cell_type": "code",
   "execution_count": null,
   "id": "ee8d9c26-0952-42f9-8be5-847fabb4d40d",
   "metadata": {},
   "outputs": [],
   "source": []
  },
  {
   "cell_type": "code",
   "execution_count": null,
   "id": "e6f024fb-b6dd-4695-a0a5-80c09dfd2c76",
   "metadata": {},
   "outputs": [],
   "source": []
  },
  {
   "cell_type": "code",
   "execution_count": null,
   "id": "0aa5ebba-9fd8-49d5-a589-f1d62eeffe58",
   "metadata": {},
   "outputs": [],
   "source": []
  },
  {
   "cell_type": "code",
   "execution_count": null,
   "id": "cce0da96-29c4-4b46-9884-1cf0e7185cd8",
   "metadata": {},
   "outputs": [],
   "source": []
  },
  {
   "cell_type": "code",
   "execution_count": null,
   "id": "da853344-6053-4b24-a356-6cae65bc408a",
   "metadata": {},
   "outputs": [],
   "source": []
  },
  {
   "cell_type": "code",
   "execution_count": null,
   "id": "6d193a86-0068-4746-95bf-5a78aa6efbe9",
   "metadata": {},
   "outputs": [],
   "source": []
  },
  {
   "cell_type": "code",
   "execution_count": null,
   "id": "72bfa7f1-e3e9-47ce-9282-41489424edfe",
   "metadata": {},
   "outputs": [],
   "source": []
  },
  {
   "cell_type": "code",
   "execution_count": null,
   "id": "f36d456e-bcc5-4554-a0c5-94a3fe881953",
   "metadata": {},
   "outputs": [],
   "source": []
  },
  {
   "cell_type": "code",
   "execution_count": null,
   "id": "5be9a6d4-aa05-44a8-8df4-1518dfa7965b",
   "metadata": {},
   "outputs": [],
   "source": []
  },
  {
   "cell_type": "code",
   "execution_count": null,
   "id": "14d8e1d2-73d0-4ba5-b2a3-a141e167a596",
   "metadata": {},
   "outputs": [],
   "source": []
  },
  {
   "cell_type": "code",
   "execution_count": null,
   "id": "110714f2-1b43-49db-88bb-aef97d0b85c9",
   "metadata": {},
   "outputs": [],
   "source": []
  },
  {
   "cell_type": "code",
   "execution_count": null,
   "id": "132e1d0a-6b38-4d82-942c-76b10bfad73c",
   "metadata": {},
   "outputs": [],
   "source": []
  },
  {
   "cell_type": "code",
   "execution_count": null,
   "id": "d7070664-34cc-4ade-b412-81776469155a",
   "metadata": {},
   "outputs": [],
   "source": []
  },
  {
   "cell_type": "code",
   "execution_count": null,
   "id": "ff28c81b-c949-4e39-a4c3-feb4390ec4ca",
   "metadata": {},
   "outputs": [],
   "source": []
  },
  {
   "cell_type": "code",
   "execution_count": null,
   "id": "d36a4540-b954-40ae-9e63-3542cff27b20",
   "metadata": {},
   "outputs": [],
   "source": []
  },
  {
   "cell_type": "code",
   "execution_count": null,
   "id": "2f51dc86-fe45-4ff2-b652-000db376e2e9",
   "metadata": {},
   "outputs": [],
   "source": []
  },
  {
   "cell_type": "code",
   "execution_count": null,
   "id": "6af664f5-56da-42d7-9268-820767b30db7",
   "metadata": {},
   "outputs": [],
   "source": []
  },
  {
   "cell_type": "code",
   "execution_count": null,
   "id": "c8fc7501-cb88-4368-9c3d-ee4787d67a3b",
   "metadata": {},
   "outputs": [],
   "source": []
  },
  {
   "cell_type": "code",
   "execution_count": null,
   "id": "d7e47840-e4ed-42db-bdd9-b4e75ff039f6",
   "metadata": {},
   "outputs": [],
   "source": []
  },
  {
   "cell_type": "code",
   "execution_count": null,
   "id": "4625cab7-ac71-46db-b115-a349497d5e72",
   "metadata": {},
   "outputs": [],
   "source": []
  },
  {
   "cell_type": "code",
   "execution_count": null,
   "id": "ca683320-f71b-4ea7-9a8a-60260cf6a0b1",
   "metadata": {},
   "outputs": [],
   "source": []
  },
  {
   "cell_type": "code",
   "execution_count": null,
   "id": "a96aa9e2-2fd6-451f-b0a4-016b6b777846",
   "metadata": {},
   "outputs": [],
   "source": []
  },
  {
   "cell_type": "code",
   "execution_count": null,
   "id": "122906de-b7a3-4ea3-8a66-63140caae19c",
   "metadata": {},
   "outputs": [],
   "source": []
  },
  {
   "cell_type": "code",
   "execution_count": null,
   "id": "d3400149-d63e-41a1-8af3-f8fc222a20ae",
   "metadata": {},
   "outputs": [],
   "source": []
  },
  {
   "cell_type": "code",
   "execution_count": null,
   "id": "c47d832c-a071-4fed-a538-1ca4cffb27b2",
   "metadata": {},
   "outputs": [],
   "source": []
  },
  {
   "cell_type": "code",
   "execution_count": null,
   "id": "2aa5be94-853c-46f9-8e83-2b74dc63fed8",
   "metadata": {},
   "outputs": [],
   "source": []
  },
  {
   "cell_type": "code",
   "execution_count": null,
   "id": "b9a14594-cc0f-40d9-bf59-978a2b500bfb",
   "metadata": {},
   "outputs": [],
   "source": []
  },
  {
   "cell_type": "code",
   "execution_count": null,
   "id": "81c65dce-f5da-425e-8a06-b5a08011fa4a",
   "metadata": {},
   "outputs": [],
   "source": []
  },
  {
   "cell_type": "code",
   "execution_count": null,
   "id": "db99ead4-fd6c-4cb1-8ff0-5769c6ca4902",
   "metadata": {},
   "outputs": [],
   "source": []
  },
  {
   "cell_type": "code",
   "execution_count": null,
   "id": "1f480261-d789-47c0-921f-746b8acfa75a",
   "metadata": {},
   "outputs": [],
   "source": []
  },
  {
   "cell_type": "code",
   "execution_count": null,
   "id": "d6913bdc-45db-480c-9543-7cf6929d435f",
   "metadata": {},
   "outputs": [],
   "source": []
  },
  {
   "cell_type": "code",
   "execution_count": null,
   "id": "22f8469f-c9b8-4448-abf9-f0f0b35ee7b8",
   "metadata": {},
   "outputs": [],
   "source": []
  },
  {
   "cell_type": "code",
   "execution_count": null,
   "id": "ffa8393a-d4d2-4919-a314-53667b92b519",
   "metadata": {},
   "outputs": [],
   "source": []
  },
  {
   "cell_type": "code",
   "execution_count": null,
   "id": "1cb5a316-3071-4ffc-aa49-20bb6a5ce018",
   "metadata": {},
   "outputs": [],
   "source": []
  },
  {
   "cell_type": "code",
   "execution_count": null,
   "id": "3ec3519c-bab1-46cc-9f13-21a326959394",
   "metadata": {},
   "outputs": [],
   "source": []
  },
  {
   "cell_type": "code",
   "execution_count": null,
   "id": "715425c9-eb64-4104-9095-e50730e00f99",
   "metadata": {},
   "outputs": [],
   "source": []
  },
  {
   "cell_type": "code",
   "execution_count": null,
   "id": "ba0c46b8-e2af-4bc5-9bcd-a63e8987f205",
   "metadata": {},
   "outputs": [],
   "source": []
  },
  {
   "cell_type": "code",
   "execution_count": null,
   "id": "dd6581b9-508a-42f0-a65a-d1a1ba326198",
   "metadata": {},
   "outputs": [],
   "source": []
  },
  {
   "cell_type": "code",
   "execution_count": null,
   "id": "8b741db2-fcc4-453d-b7cc-a7ac01770ec2",
   "metadata": {},
   "outputs": [],
   "source": []
  },
  {
   "cell_type": "code",
   "execution_count": null,
   "id": "04a958be-07b3-4bdf-9c39-40953e7ae38f",
   "metadata": {},
   "outputs": [],
   "source": []
  },
  {
   "cell_type": "code",
   "execution_count": null,
   "id": "4000de05-0008-4513-9cde-43b868c3e070",
   "metadata": {},
   "outputs": [],
   "source": []
  },
  {
   "cell_type": "code",
   "execution_count": null,
   "id": "6e5b1231-373c-46e5-850b-d3d91beb28d4",
   "metadata": {},
   "outputs": [],
   "source": []
  },
  {
   "cell_type": "code",
   "execution_count": null,
   "id": "baa5670c-a18d-4b45-81cf-4554130cd123",
   "metadata": {},
   "outputs": [],
   "source": []
  },
  {
   "cell_type": "code",
   "execution_count": null,
   "id": "48a453c7-2f0e-4f9f-806c-b31ca7494107",
   "metadata": {},
   "outputs": [],
   "source": []
  },
  {
   "cell_type": "code",
   "execution_count": null,
   "id": "d1388447-a6bd-4894-afc3-e7a0ace6d673",
   "metadata": {},
   "outputs": [],
   "source": []
  },
  {
   "cell_type": "code",
   "execution_count": null,
   "id": "275671d7-6793-4549-aba8-2e20303772a7",
   "metadata": {},
   "outputs": [],
   "source": []
  },
  {
   "cell_type": "code",
   "execution_count": null,
   "id": "186664bd-2e66-47a7-b476-4a119df1871d",
   "metadata": {},
   "outputs": [],
   "source": []
  },
  {
   "cell_type": "code",
   "execution_count": null,
   "id": "7e415e3b-54f7-4ee8-ad91-ca3c715b4b28",
   "metadata": {},
   "outputs": [],
   "source": []
  },
  {
   "cell_type": "code",
   "execution_count": null,
   "id": "6aa425d0-5676-4892-b502-e130ff70ced2",
   "metadata": {},
   "outputs": [],
   "source": []
  },
  {
   "cell_type": "code",
   "execution_count": null,
   "id": "1468228b-a5fc-49d2-8c15-4649e03e798a",
   "metadata": {},
   "outputs": [],
   "source": []
  },
  {
   "cell_type": "code",
   "execution_count": null,
   "id": "6b7c50d8-cfe7-45ad-8afd-19c5b000a794",
   "metadata": {},
   "outputs": [],
   "source": []
  },
  {
   "cell_type": "code",
   "execution_count": null,
   "id": "6d1a0a6e-8225-4cbb-ac24-46f9840e9849",
   "metadata": {},
   "outputs": [],
   "source": []
  },
  {
   "cell_type": "code",
   "execution_count": null,
   "id": "105d8236-2737-47a5-980d-9aa5d96f706e",
   "metadata": {},
   "outputs": [],
   "source": []
  },
  {
   "cell_type": "code",
   "execution_count": null,
   "id": "208c4dc7-ac2e-4094-b942-858240afa56e",
   "metadata": {},
   "outputs": [],
   "source": []
  },
  {
   "cell_type": "code",
   "execution_count": null,
   "id": "8f102a8d-3a65-4e00-b9c9-95a7e8d41b86",
   "metadata": {},
   "outputs": [],
   "source": []
  },
  {
   "cell_type": "code",
   "execution_count": null,
   "id": "d73e5848-5276-44de-a622-417235e2a26f",
   "metadata": {},
   "outputs": [],
   "source": []
  },
  {
   "cell_type": "code",
   "execution_count": null,
   "id": "a031cb9b-63a7-4ebb-9c08-e3ddf0c2a834",
   "metadata": {},
   "outputs": [],
   "source": []
  },
  {
   "cell_type": "code",
   "execution_count": null,
   "id": "fed2439f-29f2-415b-8359-bcc52e92df15",
   "metadata": {},
   "outputs": [],
   "source": []
  },
  {
   "cell_type": "code",
   "execution_count": null,
   "id": "0fb898f3-3ea5-411d-b6cf-c111e3ae51a1",
   "metadata": {},
   "outputs": [],
   "source": []
  },
  {
   "cell_type": "code",
   "execution_count": null,
   "id": "e248c89b-a24e-407f-9571-623c0fbc13f6",
   "metadata": {},
   "outputs": [],
   "source": []
  },
  {
   "cell_type": "code",
   "execution_count": null,
   "id": "9dc74f99-45f0-4d13-8405-9e59985895e7",
   "metadata": {},
   "outputs": [],
   "source": []
  },
  {
   "cell_type": "code",
   "execution_count": null,
   "id": "ea389d0f-811b-459b-bd01-08d25e2c1f70",
   "metadata": {},
   "outputs": [],
   "source": []
  },
  {
   "cell_type": "code",
   "execution_count": null,
   "id": "78fc976a-63fe-4e1a-9e01-7bebf571e059",
   "metadata": {},
   "outputs": [],
   "source": []
  },
  {
   "cell_type": "code",
   "execution_count": null,
   "id": "4201a98c-1a7d-44ef-8570-fcb99904bd1d",
   "metadata": {},
   "outputs": [],
   "source": []
  },
  {
   "cell_type": "code",
   "execution_count": null,
   "id": "2be41a44-2ec3-4f87-bb07-a1a27f8ab2ab",
   "metadata": {},
   "outputs": [],
   "source": []
  },
  {
   "cell_type": "code",
   "execution_count": null,
   "id": "b2f3f3cd-f045-45b8-925f-62d0ca87b18d",
   "metadata": {},
   "outputs": [],
   "source": []
  },
  {
   "cell_type": "code",
   "execution_count": null,
   "id": "aa832729-ef1d-4319-acd6-611ac878abaa",
   "metadata": {},
   "outputs": [],
   "source": []
  },
  {
   "cell_type": "code",
   "execution_count": null,
   "id": "aff9d3ce-3435-46ae-9a36-29ac2df95c96",
   "metadata": {},
   "outputs": [],
   "source": []
  },
  {
   "cell_type": "code",
   "execution_count": null,
   "id": "b5fc65b7-78d6-41f6-afb0-77e311050a5e",
   "metadata": {},
   "outputs": [],
   "source": []
  },
  {
   "cell_type": "code",
   "execution_count": null,
   "id": "7a6a087d-b174-4b1a-b3f3-5a7436125083",
   "metadata": {},
   "outputs": [],
   "source": []
  },
  {
   "cell_type": "code",
   "execution_count": null,
   "id": "bad14d40-29ae-4480-8a7c-d0e8aa46ee89",
   "metadata": {},
   "outputs": [],
   "source": []
  },
  {
   "cell_type": "code",
   "execution_count": null,
   "id": "f58e0baa-d26e-4d9e-a6d4-94c6a02e0375",
   "metadata": {},
   "outputs": [],
   "source": []
  },
  {
   "cell_type": "code",
   "execution_count": null,
   "id": "ed16e238-0916-41e8-8cb5-e0832df73c07",
   "metadata": {},
   "outputs": [],
   "source": []
  },
  {
   "cell_type": "code",
   "execution_count": null,
   "id": "1d501ae2-e187-4245-9e18-aec7d1bde322",
   "metadata": {},
   "outputs": [],
   "source": []
  },
  {
   "cell_type": "code",
   "execution_count": null,
   "id": "5b4f942a-32b3-4b39-965a-9f0489746eb8",
   "metadata": {},
   "outputs": [],
   "source": []
  },
  {
   "cell_type": "code",
   "execution_count": null,
   "id": "cd04a835-9606-4283-a587-bacb76f6fe9e",
   "metadata": {},
   "outputs": [],
   "source": []
  },
  {
   "cell_type": "code",
   "execution_count": null,
   "id": "2870f1d0-d7c5-49fc-90fb-5ade3e09a06d",
   "metadata": {},
   "outputs": [],
   "source": []
  },
  {
   "cell_type": "code",
   "execution_count": null,
   "id": "907735bc-528e-4f8e-9ad6-5ab6396623ef",
   "metadata": {},
   "outputs": [],
   "source": []
  },
  {
   "cell_type": "code",
   "execution_count": null,
   "id": "52a21882-f9a5-4d4d-be3a-9babbb995a51",
   "metadata": {},
   "outputs": [],
   "source": []
  },
  {
   "cell_type": "code",
   "execution_count": null,
   "id": "1485bae3-3a4c-44f2-a4af-5a6ed2476cc1",
   "metadata": {},
   "outputs": [],
   "source": []
  },
  {
   "cell_type": "code",
   "execution_count": null,
   "id": "4e5527d9-90ca-421e-87e3-6c33e6236adb",
   "metadata": {},
   "outputs": [],
   "source": []
  },
  {
   "cell_type": "code",
   "execution_count": null,
   "id": "549bec3f-0fe1-4083-bde7-92562fa2de2d",
   "metadata": {},
   "outputs": [],
   "source": []
  },
  {
   "cell_type": "code",
   "execution_count": null,
   "id": "a8d50f4f-f605-41ea-b3c2-14a3f99358f5",
   "metadata": {},
   "outputs": [],
   "source": []
  },
  {
   "cell_type": "code",
   "execution_count": null,
   "id": "02d44595-2faa-4eaf-861c-0808d857ba2b",
   "metadata": {},
   "outputs": [],
   "source": []
  },
  {
   "cell_type": "code",
   "execution_count": null,
   "id": "7104da6b-6cdc-40a5-92ba-d26f1d26afd7",
   "metadata": {},
   "outputs": [],
   "source": []
  },
  {
   "cell_type": "code",
   "execution_count": null,
   "id": "09eb5c69-ebec-4267-b475-523c34ece246",
   "metadata": {},
   "outputs": [],
   "source": []
  },
  {
   "cell_type": "code",
   "execution_count": null,
   "id": "2a0bf4d5-5fc3-4f18-9ef6-3db1ec493a72",
   "metadata": {},
   "outputs": [],
   "source": []
  },
  {
   "cell_type": "code",
   "execution_count": null,
   "id": "ebda5d69-f93c-433c-ad40-50f73ebf2d47",
   "metadata": {},
   "outputs": [],
   "source": []
  },
  {
   "cell_type": "code",
   "execution_count": null,
   "id": "f7279506-ce92-4d4e-b395-c121825ab258",
   "metadata": {},
   "outputs": [],
   "source": []
  },
  {
   "cell_type": "code",
   "execution_count": null,
   "id": "7bf1958b-69b6-4054-ad5a-3bb354f26c2f",
   "metadata": {},
   "outputs": [],
   "source": []
  },
  {
   "cell_type": "code",
   "execution_count": null,
   "id": "1f627581-304b-4dfe-a954-5160eade64ad",
   "metadata": {},
   "outputs": [],
   "source": []
  },
  {
   "cell_type": "code",
   "execution_count": null,
   "id": "6b87b3d6-727a-4dc1-9c73-3652164437b2",
   "metadata": {},
   "outputs": [],
   "source": []
  },
  {
   "cell_type": "code",
   "execution_count": null,
   "id": "a3a28961-8868-4765-8097-1f05a22fc8f5",
   "metadata": {},
   "outputs": [],
   "source": []
  },
  {
   "cell_type": "code",
   "execution_count": null,
   "id": "032a6251-d085-4b53-9ccb-e53b19fc2ed2",
   "metadata": {},
   "outputs": [],
   "source": []
  },
  {
   "cell_type": "code",
   "execution_count": null,
   "id": "4593e695-a998-44c1-ba9a-fc5ef9ca13c3",
   "metadata": {},
   "outputs": [],
   "source": []
  },
  {
   "cell_type": "code",
   "execution_count": null,
   "id": "0654e1df-d646-4d25-a5a9-f31d99dd49c1",
   "metadata": {},
   "outputs": [],
   "source": []
  },
  {
   "cell_type": "code",
   "execution_count": null,
   "id": "0c8192b9-6157-4294-b5f8-feb041a1abf5",
   "metadata": {},
   "outputs": [],
   "source": []
  },
  {
   "cell_type": "code",
   "execution_count": null,
   "id": "59f9873e-9ef8-48a3-aed2-28a5c82aa985",
   "metadata": {},
   "outputs": [],
   "source": []
  },
  {
   "cell_type": "code",
   "execution_count": null,
   "id": "a344f3bf-2e84-45de-bbb8-be4dc26e1deb",
   "metadata": {},
   "outputs": [],
   "source": []
  },
  {
   "cell_type": "code",
   "execution_count": null,
   "id": "476c74c2-4bec-4a27-8ec8-cd1a57a3b139",
   "metadata": {},
   "outputs": [],
   "source": []
  },
  {
   "cell_type": "code",
   "execution_count": null,
   "id": "af936e05-3bbe-4a80-8ae2-24d6405424f7",
   "metadata": {},
   "outputs": [],
   "source": []
  },
  {
   "cell_type": "code",
   "execution_count": null,
   "id": "dc822b69-a7e4-4da6-a999-7a865cc1909a",
   "metadata": {},
   "outputs": [],
   "source": []
  },
  {
   "cell_type": "code",
   "execution_count": null,
   "id": "acb235e8-5562-4318-aba0-1d0f00ad87cc",
   "metadata": {},
   "outputs": [],
   "source": []
  },
  {
   "cell_type": "code",
   "execution_count": null,
   "id": "ca606af0-eebb-4fa1-a18a-fe463aab0de7",
   "metadata": {},
   "outputs": [],
   "source": []
  },
  {
   "cell_type": "code",
   "execution_count": null,
   "id": "3d1547d0-722c-4df1-8083-ee782bd0fae6",
   "metadata": {},
   "outputs": [],
   "source": []
  },
  {
   "cell_type": "code",
   "execution_count": null,
   "id": "c1f06279-49d6-4716-bed1-5c0a90630b65",
   "metadata": {},
   "outputs": [],
   "source": []
  },
  {
   "cell_type": "code",
   "execution_count": null,
   "id": "8bca4cd8-55f0-4054-ab71-dd819d1952aa",
   "metadata": {},
   "outputs": [],
   "source": []
  },
  {
   "cell_type": "code",
   "execution_count": null,
   "id": "c1e50f2d-c4d3-43e0-b189-c79c41e719c3",
   "metadata": {},
   "outputs": [],
   "source": []
  },
  {
   "cell_type": "code",
   "execution_count": null,
   "id": "1cdf4c02-a904-4482-a9f3-7f065bf79df7",
   "metadata": {},
   "outputs": [],
   "source": []
  },
  {
   "cell_type": "code",
   "execution_count": null,
   "id": "9d09c859-dfea-42b8-9943-e198fae13a3e",
   "metadata": {},
   "outputs": [],
   "source": []
  },
  {
   "cell_type": "code",
   "execution_count": null,
   "id": "d2bea48f-a92d-404a-8aa4-3b26852a88a6",
   "metadata": {},
   "outputs": [],
   "source": []
  },
  {
   "cell_type": "code",
   "execution_count": null,
   "id": "269ad11f-4119-4544-972d-2a896e40fe9e",
   "metadata": {},
   "outputs": [],
   "source": []
  },
  {
   "cell_type": "code",
   "execution_count": null,
   "id": "cc588054-1c7d-43b6-8303-ec281f43ed9e",
   "metadata": {},
   "outputs": [],
   "source": []
  },
  {
   "cell_type": "code",
   "execution_count": null,
   "id": "5c819e6f-a23f-49b2-89e4-74d95ef1abc7",
   "metadata": {},
   "outputs": [],
   "source": []
  },
  {
   "cell_type": "code",
   "execution_count": null,
   "id": "58c059f5-b992-4293-90c3-4c1569b676f8",
   "metadata": {},
   "outputs": [],
   "source": []
  },
  {
   "cell_type": "code",
   "execution_count": null,
   "id": "de97fcc4-46dc-4c63-95d5-fe4a0ed0bbb0",
   "metadata": {},
   "outputs": [],
   "source": []
  },
  {
   "cell_type": "code",
   "execution_count": null,
   "id": "53e7c8ad-d434-44ae-8796-8c98c884982f",
   "metadata": {},
   "outputs": [],
   "source": []
  },
  {
   "cell_type": "code",
   "execution_count": null,
   "id": "7509bf77-9d85-4b53-96e5-01b56b0fc555",
   "metadata": {},
   "outputs": [],
   "source": []
  },
  {
   "cell_type": "code",
   "execution_count": null,
   "id": "77f691f8-d65d-4620-81c1-9aeb8e7c2c28",
   "metadata": {},
   "outputs": [],
   "source": []
  },
  {
   "cell_type": "code",
   "execution_count": null,
   "id": "6974c07f-1159-456e-857e-b4ee9b76bdac",
   "metadata": {},
   "outputs": [],
   "source": []
  },
  {
   "cell_type": "code",
   "execution_count": null,
   "id": "4018584a-c80f-4eca-9a5a-1c1ce4aa031a",
   "metadata": {},
   "outputs": [],
   "source": []
  },
  {
   "cell_type": "code",
   "execution_count": null,
   "id": "a4a34509-9048-4ecb-a60b-70c5e116de47",
   "metadata": {},
   "outputs": [],
   "source": []
  },
  {
   "cell_type": "code",
   "execution_count": null,
   "id": "c2f9d22e-cf27-4043-b61c-5493b9cf054d",
   "metadata": {},
   "outputs": [],
   "source": []
  },
  {
   "cell_type": "code",
   "execution_count": null,
   "id": "b54c979e-bfbc-4470-9869-0a77bd79b96b",
   "metadata": {},
   "outputs": [],
   "source": []
  },
  {
   "cell_type": "code",
   "execution_count": null,
   "id": "b8899eb3-88ee-4b06-982e-8ca3b7545f05",
   "metadata": {},
   "outputs": [],
   "source": []
  },
  {
   "cell_type": "code",
   "execution_count": null,
   "id": "3fea2b1e-987e-4848-a5f7-ccb2e44de535",
   "metadata": {},
   "outputs": [],
   "source": []
  },
  {
   "cell_type": "code",
   "execution_count": null,
   "id": "e5c9ab22-72e1-41ab-bdd1-2065890311ab",
   "metadata": {},
   "outputs": [],
   "source": []
  },
  {
   "cell_type": "code",
   "execution_count": null,
   "id": "7abb283f-43c9-4c56-a884-1c48998bf99c",
   "metadata": {},
   "outputs": [],
   "source": []
  },
  {
   "cell_type": "code",
   "execution_count": null,
   "id": "edb21a5c-8223-44d1-8a2f-ae5788716b8f",
   "metadata": {},
   "outputs": [],
   "source": []
  },
  {
   "cell_type": "code",
   "execution_count": null,
   "id": "5febc3b4-f40a-49a5-b5ce-de77b47fd4eb",
   "metadata": {},
   "outputs": [],
   "source": []
  },
  {
   "cell_type": "code",
   "execution_count": null,
   "id": "9a159e22-7212-481a-bbde-eef8ef551dbb",
   "metadata": {},
   "outputs": [],
   "source": []
  },
  {
   "cell_type": "code",
   "execution_count": null,
   "id": "5c909802-e950-4334-a5ee-1eb1cf856740",
   "metadata": {},
   "outputs": [],
   "source": []
  },
  {
   "cell_type": "code",
   "execution_count": null,
   "id": "46a02ce6-bd6d-4fd3-b5ba-117ee779f495",
   "metadata": {},
   "outputs": [],
   "source": []
  },
  {
   "cell_type": "code",
   "execution_count": null,
   "id": "62e82657-a37f-4889-894f-10a708eab8f2",
   "metadata": {},
   "outputs": [],
   "source": []
  },
  {
   "cell_type": "code",
   "execution_count": null,
   "id": "8bd023d9-aa9d-49c8-9f75-4bb5d264d53a",
   "metadata": {},
   "outputs": [],
   "source": []
  },
  {
   "cell_type": "code",
   "execution_count": null,
   "id": "994cdbaa-bf60-4054-8591-be2274ca53fd",
   "metadata": {},
   "outputs": [],
   "source": []
  },
  {
   "cell_type": "code",
   "execution_count": null,
   "id": "313ba915-7a36-427d-a144-55e3c07a6a50",
   "metadata": {},
   "outputs": [],
   "source": []
  },
  {
   "cell_type": "code",
   "execution_count": null,
   "id": "50077f09-7959-4436-9a7f-11590985ff4d",
   "metadata": {},
   "outputs": [],
   "source": []
  },
  {
   "cell_type": "code",
   "execution_count": null,
   "id": "457f83a3-8780-4516-a1bd-2f3ded5f04f6",
   "metadata": {},
   "outputs": [],
   "source": []
  },
  {
   "cell_type": "code",
   "execution_count": null,
   "id": "462688ba-7dc2-4ff5-80f7-28bf329b28fe",
   "metadata": {},
   "outputs": [],
   "source": []
  },
  {
   "cell_type": "code",
   "execution_count": null,
   "id": "a1353423-45a9-4c7e-9bfc-4697f08e77b4",
   "metadata": {},
   "outputs": [],
   "source": []
  },
  {
   "cell_type": "code",
   "execution_count": null,
   "id": "692226f2-8b92-47ff-a311-249a7e081a2e",
   "metadata": {},
   "outputs": [],
   "source": []
  },
  {
   "cell_type": "code",
   "execution_count": null,
   "id": "f795c4c9-3c32-4aad-adbd-1dbf3b53945b",
   "metadata": {},
   "outputs": [],
   "source": []
  },
  {
   "cell_type": "code",
   "execution_count": null,
   "id": "b82f986d-0d7d-47b8-858b-69c130ef4ec4",
   "metadata": {},
   "outputs": [],
   "source": []
  },
  {
   "cell_type": "code",
   "execution_count": null,
   "id": "dc71e844-da70-44bb-8a80-4e1dea8bd52e",
   "metadata": {},
   "outputs": [],
   "source": []
  },
  {
   "cell_type": "code",
   "execution_count": null,
   "id": "021ea70f-0fb1-453d-9060-e3ecd8582e85",
   "metadata": {},
   "outputs": [],
   "source": []
  },
  {
   "cell_type": "code",
   "execution_count": null,
   "id": "7cb94427-b906-4a62-bc8f-223317a649d6",
   "metadata": {},
   "outputs": [],
   "source": []
  },
  {
   "cell_type": "code",
   "execution_count": null,
   "id": "ddcfe7aa-6ac5-4f31-8814-8c496049b7ad",
   "metadata": {},
   "outputs": [],
   "source": []
  },
  {
   "cell_type": "code",
   "execution_count": null,
   "id": "9123d459-ff29-43e7-b8bc-9d1a07dfe062",
   "metadata": {},
   "outputs": [],
   "source": []
  },
  {
   "cell_type": "code",
   "execution_count": null,
   "id": "6f3a94c3-d757-46ff-bcc8-0eb166a9dad3",
   "metadata": {},
   "outputs": [],
   "source": []
  },
  {
   "cell_type": "code",
   "execution_count": null,
   "id": "e1903331-03ef-4124-a84d-967070a08c16",
   "metadata": {},
   "outputs": [],
   "source": []
  },
  {
   "cell_type": "code",
   "execution_count": null,
   "id": "9828e25b-7866-49c2-888e-37439fc1ec08",
   "metadata": {},
   "outputs": [],
   "source": []
  },
  {
   "cell_type": "code",
   "execution_count": null,
   "id": "b8df916d-4670-4200-9c6b-f693f53e3d95",
   "metadata": {},
   "outputs": [],
   "source": []
  },
  {
   "cell_type": "code",
   "execution_count": null,
   "id": "7a552b96-7c40-4c4b-9808-0bb7667f590d",
   "metadata": {},
   "outputs": [],
   "source": []
  },
  {
   "cell_type": "code",
   "execution_count": null,
   "id": "9b0df76b-f04b-4242-838b-b8cb24c03d3b",
   "metadata": {},
   "outputs": [],
   "source": []
  },
  {
   "cell_type": "code",
   "execution_count": null,
   "id": "4e4ff5fc-8371-49d2-b9c2-6fad0548f9d4",
   "metadata": {},
   "outputs": [],
   "source": []
  },
  {
   "cell_type": "code",
   "execution_count": null,
   "id": "a3f68a27-8383-4d62-8b69-c05a80e57bda",
   "metadata": {},
   "outputs": [],
   "source": []
  },
  {
   "cell_type": "code",
   "execution_count": null,
   "id": "82990895-7da1-4caa-b21e-e13d722b917b",
   "metadata": {},
   "outputs": [],
   "source": []
  },
  {
   "cell_type": "code",
   "execution_count": null,
   "id": "70d96e5f-0f10-4f4a-bdc9-e9ccd005f9f2",
   "metadata": {},
   "outputs": [],
   "source": []
  },
  {
   "cell_type": "code",
   "execution_count": null,
   "id": "239d7bc2-24b7-4fac-9b59-83b1642b0836",
   "metadata": {},
   "outputs": [],
   "source": []
  },
  {
   "cell_type": "code",
   "execution_count": null,
   "id": "675bfe4f-5dc3-4199-8f5c-22cd2c3068f2",
   "metadata": {},
   "outputs": [],
   "source": []
  },
  {
   "cell_type": "code",
   "execution_count": null,
   "id": "2a4db9d2-2723-4e51-8e25-9d68175a6498",
   "metadata": {},
   "outputs": [],
   "source": []
  },
  {
   "cell_type": "code",
   "execution_count": null,
   "id": "1930447b-d68f-4ce2-a75e-f0d6d64c7742",
   "metadata": {},
   "outputs": [],
   "source": []
  },
  {
   "cell_type": "code",
   "execution_count": null,
   "id": "e33cae96-a0d7-4396-be96-097b31fa0568",
   "metadata": {},
   "outputs": [],
   "source": []
  },
  {
   "cell_type": "code",
   "execution_count": null,
   "id": "2df36401-a433-42ee-8a92-abac129dcccb",
   "metadata": {},
   "outputs": [],
   "source": []
  },
  {
   "cell_type": "code",
   "execution_count": null,
   "id": "960cda43-93ac-4fcb-9c50-0c99b1bb5896",
   "metadata": {},
   "outputs": [],
   "source": []
  },
  {
   "cell_type": "code",
   "execution_count": null,
   "id": "8dcc58d1-cf62-4495-b7d3-46ea3f75aea6",
   "metadata": {},
   "outputs": [],
   "source": []
  },
  {
   "cell_type": "code",
   "execution_count": null,
   "id": "6be3f8e6-2399-4d27-b444-d0adce9d891d",
   "metadata": {},
   "outputs": [],
   "source": []
  },
  {
   "cell_type": "code",
   "execution_count": null,
   "id": "04a9a979-50b5-4f5d-9455-7ac52d45f363",
   "metadata": {},
   "outputs": [],
   "source": []
  },
  {
   "cell_type": "code",
   "execution_count": null,
   "id": "69143e45-230b-4bfa-a844-fa03fc050e1a",
   "metadata": {},
   "outputs": [],
   "source": []
  },
  {
   "cell_type": "code",
   "execution_count": null,
   "id": "018420a2-b3b8-4f20-9987-a0495e28ee7a",
   "metadata": {},
   "outputs": [],
   "source": []
  },
  {
   "cell_type": "code",
   "execution_count": null,
   "id": "552bf16a-88d8-420b-ac46-bc81e97eb4fc",
   "metadata": {},
   "outputs": [],
   "source": []
  },
  {
   "cell_type": "code",
   "execution_count": null,
   "id": "68ed60b1-b07c-4718-b4d0-50db37af3f87",
   "metadata": {},
   "outputs": [],
   "source": []
  },
  {
   "cell_type": "code",
   "execution_count": null,
   "id": "37481979-a9fe-4617-a2a1-1e873414d1e5",
   "metadata": {},
   "outputs": [],
   "source": []
  },
  {
   "cell_type": "code",
   "execution_count": null,
   "id": "10dcf783-8198-4aa9-b356-f3b5b2f2c68a",
   "metadata": {},
   "outputs": [],
   "source": []
  },
  {
   "cell_type": "code",
   "execution_count": null,
   "id": "ec5c1804-af0e-4fc7-8097-47449490a8ed",
   "metadata": {},
   "outputs": [],
   "source": []
  },
  {
   "cell_type": "code",
   "execution_count": null,
   "id": "821459fc-b9cd-40a1-bcfb-acf15f49e6cd",
   "metadata": {},
   "outputs": [],
   "source": []
  },
  {
   "cell_type": "code",
   "execution_count": null,
   "id": "1c197b23-5e4b-49f0-b4ec-21ae0ad259ce",
   "metadata": {},
   "outputs": [],
   "source": []
  },
  {
   "cell_type": "code",
   "execution_count": null,
   "id": "a43c7d62-b18a-4c5d-92bd-f8e21526943b",
   "metadata": {},
   "outputs": [],
   "source": []
  },
  {
   "cell_type": "code",
   "execution_count": null,
   "id": "2da1f3e8-461f-4bb3-875c-211b5441c03f",
   "metadata": {},
   "outputs": [],
   "source": []
  },
  {
   "cell_type": "code",
   "execution_count": null,
   "id": "cba2ba97-1b7a-4658-aa3f-fdabb32cc5f1",
   "metadata": {},
   "outputs": [],
   "source": []
  },
  {
   "cell_type": "code",
   "execution_count": null,
   "id": "629a98a2-1037-40c6-884c-02bc38de624d",
   "metadata": {},
   "outputs": [],
   "source": []
  },
  {
   "cell_type": "code",
   "execution_count": null,
   "id": "c524f7cb-1ec2-4051-be75-54f1faa5a703",
   "metadata": {},
   "outputs": [],
   "source": []
  },
  {
   "cell_type": "code",
   "execution_count": null,
   "id": "2a79e3f3-f51a-4eb9-869e-53c389b6541e",
   "metadata": {},
   "outputs": [],
   "source": []
  },
  {
   "cell_type": "code",
   "execution_count": null,
   "id": "1c4053b0-fd2c-4233-bb02-fc6d6a3b3a86",
   "metadata": {},
   "outputs": [],
   "source": []
  },
  {
   "cell_type": "code",
   "execution_count": null,
   "id": "9e6d1ca1-83ee-4cd4-bc9c-ea67946c7bb9",
   "metadata": {},
   "outputs": [],
   "source": []
  },
  {
   "cell_type": "code",
   "execution_count": null,
   "id": "45e6bea1-f17c-456d-bdd9-737731b97d68",
   "metadata": {},
   "outputs": [],
   "source": []
  },
  {
   "cell_type": "code",
   "execution_count": null,
   "id": "f9fc4eed-8ef0-421f-95cc-887c2cbe9167",
   "metadata": {},
   "outputs": [],
   "source": []
  },
  {
   "cell_type": "code",
   "execution_count": null,
   "id": "34d300e8-2930-4b19-9471-2804da9a1cad",
   "metadata": {},
   "outputs": [],
   "source": []
  },
  {
   "cell_type": "code",
   "execution_count": null,
   "id": "01dc5c56-4506-4adf-aae6-c36c77aedb37",
   "metadata": {},
   "outputs": [],
   "source": []
  },
  {
   "cell_type": "code",
   "execution_count": null,
   "id": "fb897340-028a-4f56-a7d3-8ac6dcd56e2f",
   "metadata": {},
   "outputs": [],
   "source": []
  },
  {
   "cell_type": "code",
   "execution_count": null,
   "id": "3ffcfa37-ee63-4934-9dc1-267e48aa72df",
   "metadata": {},
   "outputs": [],
   "source": []
  },
  {
   "cell_type": "code",
   "execution_count": null,
   "id": "5bec360c-0077-4bcd-9679-fc442d0820e7",
   "metadata": {},
   "outputs": [],
   "source": []
  },
  {
   "cell_type": "code",
   "execution_count": null,
   "id": "aaac59d8-33da-49f7-8dcc-34177b5dedbe",
   "metadata": {},
   "outputs": [],
   "source": []
  },
  {
   "cell_type": "code",
   "execution_count": null,
   "id": "f1416ddd-71c7-4b20-b4fd-4f5a0fb60989",
   "metadata": {},
   "outputs": [],
   "source": []
  },
  {
   "cell_type": "code",
   "execution_count": null,
   "id": "c84af2fe-61be-4749-abd8-155dbc054990",
   "metadata": {},
   "outputs": [],
   "source": []
  },
  {
   "cell_type": "code",
   "execution_count": null,
   "id": "c0e26385-b6be-430f-bc2c-46c10eb21bc1",
   "metadata": {},
   "outputs": [],
   "source": []
  },
  {
   "cell_type": "code",
   "execution_count": null,
   "id": "339c29d7-bc1d-46e1-9bc9-6948aa8c3b35",
   "metadata": {},
   "outputs": [],
   "source": []
  },
  {
   "cell_type": "code",
   "execution_count": null,
   "id": "eed93854-a617-4d2d-b680-dd087fc28b2d",
   "metadata": {},
   "outputs": [],
   "source": []
  },
  {
   "cell_type": "code",
   "execution_count": null,
   "id": "8f49400f-3829-4bde-9748-ad9da9dad2e3",
   "metadata": {},
   "outputs": [],
   "source": []
  },
  {
   "cell_type": "code",
   "execution_count": null,
   "id": "179a5d36-af81-499a-89cc-4273ea967c3b",
   "metadata": {},
   "outputs": [],
   "source": []
  },
  {
   "cell_type": "code",
   "execution_count": null,
   "id": "f7dceece-74d1-4186-837e-fd625365d295",
   "metadata": {},
   "outputs": [],
   "source": []
  },
  {
   "cell_type": "code",
   "execution_count": null,
   "id": "98cb6fa1-f521-4b83-81f9-74ae2ae08877",
   "metadata": {},
   "outputs": [],
   "source": []
  },
  {
   "cell_type": "code",
   "execution_count": null,
   "id": "ff13b747-2764-436a-aff4-aca0cea62172",
   "metadata": {},
   "outputs": [],
   "source": []
  },
  {
   "cell_type": "code",
   "execution_count": null,
   "id": "8c310974-0870-40a3-b323-bf503bedfdde",
   "metadata": {},
   "outputs": [],
   "source": []
  },
  {
   "cell_type": "code",
   "execution_count": null,
   "id": "0fe0e386-b2da-4ca3-9352-5bc0eea7d5a2",
   "metadata": {},
   "outputs": [],
   "source": []
  },
  {
   "cell_type": "code",
   "execution_count": null,
   "id": "4d74ce89-2ebe-4f5b-8be0-c381ab6c1899",
   "metadata": {},
   "outputs": [],
   "source": []
  },
  {
   "cell_type": "code",
   "execution_count": null,
   "id": "e06282b0-f5a0-4a0a-86d5-98ab87be9c51",
   "metadata": {},
   "outputs": [],
   "source": []
  },
  {
   "cell_type": "code",
   "execution_count": null,
   "id": "ea6b1e99-296b-4751-948c-b1b00a103f3d",
   "metadata": {},
   "outputs": [],
   "source": []
  },
  {
   "cell_type": "code",
   "execution_count": null,
   "id": "6d452f09-1865-4131-829d-b77e22174646",
   "metadata": {},
   "outputs": [],
   "source": []
  },
  {
   "cell_type": "code",
   "execution_count": null,
   "id": "9bb9f85f-4ef9-4278-9830-13cd30493cf3",
   "metadata": {},
   "outputs": [],
   "source": []
  },
  {
   "cell_type": "code",
   "execution_count": null,
   "id": "a20d735f-3e55-4c6b-8e48-227285c8cb20",
   "metadata": {},
   "outputs": [],
   "source": []
  },
  {
   "cell_type": "code",
   "execution_count": null,
   "id": "f02f2070-05cf-4a2e-8c43-cc120d2c858d",
   "metadata": {},
   "outputs": [],
   "source": []
  },
  {
   "cell_type": "code",
   "execution_count": null,
   "id": "3313068f-10d8-4d69-a95a-5f0eecab5acd",
   "metadata": {},
   "outputs": [],
   "source": []
  },
  {
   "cell_type": "code",
   "execution_count": null,
   "id": "7eb5e79b-4df8-4284-937a-df9c838031b6",
   "metadata": {},
   "outputs": [],
   "source": []
  },
  {
   "cell_type": "code",
   "execution_count": null,
   "id": "2121a893-380e-404c-b073-76fea8dea421",
   "metadata": {},
   "outputs": [],
   "source": []
  },
  {
   "cell_type": "code",
   "execution_count": null,
   "id": "bfcbeb15-5e6b-4323-b312-ed3da222dd3a",
   "metadata": {},
   "outputs": [],
   "source": []
  },
  {
   "cell_type": "code",
   "execution_count": null,
   "id": "cbdf4d53-5474-4937-8121-b42b72b2af8a",
   "metadata": {},
   "outputs": [],
   "source": []
  },
  {
   "cell_type": "code",
   "execution_count": null,
   "id": "3cd11478-75cd-4953-b239-6a0d2b5ea9c5",
   "metadata": {},
   "outputs": [],
   "source": []
  },
  {
   "cell_type": "code",
   "execution_count": null,
   "id": "9f7bdf06-152a-417b-8ad2-f596f770b742",
   "metadata": {},
   "outputs": [],
   "source": []
  },
  {
   "cell_type": "code",
   "execution_count": null,
   "id": "1818ff7a-0e26-479c-8813-0e74e5528fcc",
   "metadata": {},
   "outputs": [],
   "source": []
  },
  {
   "cell_type": "code",
   "execution_count": null,
   "id": "010dc180-d45b-4e3c-8227-b311377e1d77",
   "metadata": {},
   "outputs": [],
   "source": []
  },
  {
   "cell_type": "code",
   "execution_count": null,
   "id": "301a8ce8-67b6-4d73-a5ff-2f12615238d3",
   "metadata": {},
   "outputs": [],
   "source": []
  },
  {
   "cell_type": "code",
   "execution_count": null,
   "id": "7b5a0972-9488-4d1a-9e00-3ce76b4f21a5",
   "metadata": {},
   "outputs": [],
   "source": []
  },
  {
   "cell_type": "code",
   "execution_count": null,
   "id": "b9c7c8b8-ea92-49b4-84b5-3e5d2e5abbae",
   "metadata": {},
   "outputs": [],
   "source": []
  },
  {
   "cell_type": "code",
   "execution_count": null,
   "id": "73cc917e-cd13-428b-845c-d282782a55e9",
   "metadata": {},
   "outputs": [],
   "source": []
  },
  {
   "cell_type": "code",
   "execution_count": null,
   "id": "dca52108-b02a-4121-a6ad-70dacc3b6d23",
   "metadata": {},
   "outputs": [],
   "source": []
  },
  {
   "cell_type": "code",
   "execution_count": null,
   "id": "41d2dc18-3c8f-4081-883c-7cb6152a2112",
   "metadata": {},
   "outputs": [],
   "source": []
  },
  {
   "cell_type": "code",
   "execution_count": null,
   "id": "b8fdd1df-9b56-47f0-a6a5-35ca8e36e90a",
   "metadata": {},
   "outputs": [],
   "source": []
  },
  {
   "cell_type": "code",
   "execution_count": null,
   "id": "b450cce1-2025-45e5-b6c7-d7e4d008b58e",
   "metadata": {},
   "outputs": [],
   "source": []
  },
  {
   "cell_type": "code",
   "execution_count": null,
   "id": "92b62110-c4b1-4f8d-b12b-0002859b2c56",
   "metadata": {},
   "outputs": [],
   "source": []
  },
  {
   "cell_type": "code",
   "execution_count": null,
   "id": "77c50606-578a-4ff5-8431-856c9d2f1a1d",
   "metadata": {},
   "outputs": [],
   "source": []
  },
  {
   "cell_type": "code",
   "execution_count": null,
   "id": "288829d3-b0c0-4a84-9702-9f2e503207d2",
   "metadata": {},
   "outputs": [],
   "source": []
  },
  {
   "cell_type": "code",
   "execution_count": null,
   "id": "c81e0dd9-d36d-4ae1-9241-e6bb5e4772d4",
   "metadata": {},
   "outputs": [],
   "source": []
  },
  {
   "cell_type": "code",
   "execution_count": null,
   "id": "b5ae7fbf-0f26-42c9-9dfe-f015e9781293",
   "metadata": {},
   "outputs": [],
   "source": []
  },
  {
   "cell_type": "code",
   "execution_count": null,
   "id": "e0369eed-3681-433f-b213-c131644699f2",
   "metadata": {},
   "outputs": [],
   "source": []
  },
  {
   "cell_type": "code",
   "execution_count": null,
   "id": "c340064e-1e8d-4015-ae59-92e0d9294051",
   "metadata": {},
   "outputs": [],
   "source": []
  },
  {
   "cell_type": "code",
   "execution_count": null,
   "id": "a76c6b1a-5c9e-498c-bd0f-c0781941deb8",
   "metadata": {},
   "outputs": [],
   "source": []
  },
  {
   "cell_type": "code",
   "execution_count": null,
   "id": "d26919b7-252a-40cb-9d4b-8aa319c5a05e",
   "metadata": {},
   "outputs": [],
   "source": []
  },
  {
   "cell_type": "code",
   "execution_count": null,
   "id": "bc51b278-6bf6-48d6-80bb-e8445c066dc2",
   "metadata": {},
   "outputs": [],
   "source": []
  },
  {
   "cell_type": "code",
   "execution_count": null,
   "id": "e73e57da-552b-432e-b046-fdb710fdaee9",
   "metadata": {},
   "outputs": [],
   "source": []
  },
  {
   "cell_type": "code",
   "execution_count": null,
   "id": "a1f2c8a6-3fda-4a50-9f1d-b64aaca31b22",
   "metadata": {},
   "outputs": [],
   "source": []
  },
  {
   "cell_type": "code",
   "execution_count": null,
   "id": "94fc6545-f98e-4495-8adc-4735fd96c89f",
   "metadata": {},
   "outputs": [],
   "source": []
  },
  {
   "cell_type": "code",
   "execution_count": null,
   "id": "f1d7bfb7-1eec-490d-9f3b-277885d8e738",
   "metadata": {},
   "outputs": [],
   "source": []
  },
  {
   "cell_type": "code",
   "execution_count": null,
   "id": "3ede3fa7-bee6-40d4-87ef-a8cb03c463bb",
   "metadata": {},
   "outputs": [],
   "source": []
  },
  {
   "cell_type": "code",
   "execution_count": null,
   "id": "b782cc07-28c2-4938-858d-664215031dd0",
   "metadata": {},
   "outputs": [],
   "source": []
  },
  {
   "cell_type": "code",
   "execution_count": null,
   "id": "fb73037b-3f2b-4abf-92fe-ecff6afad3a0",
   "metadata": {},
   "outputs": [],
   "source": []
  },
  {
   "cell_type": "code",
   "execution_count": null,
   "id": "87333551-2d0f-4847-b317-b74937c88da0",
   "metadata": {},
   "outputs": [],
   "source": []
  },
  {
   "cell_type": "code",
   "execution_count": null,
   "id": "92297e9a-27f8-4ba5-9c4e-9114263576bd",
   "metadata": {},
   "outputs": [],
   "source": []
  },
  {
   "cell_type": "code",
   "execution_count": null,
   "id": "30529216-0a97-424f-b257-739ef9592f35",
   "metadata": {},
   "outputs": [],
   "source": []
  },
  {
   "cell_type": "code",
   "execution_count": null,
   "id": "f470b37b-c293-46cd-aa6d-8908660286f1",
   "metadata": {},
   "outputs": [],
   "source": []
  },
  {
   "cell_type": "code",
   "execution_count": null,
   "id": "121759d1-ef7d-4ae3-88b7-76b9a2eb0e74",
   "metadata": {},
   "outputs": [],
   "source": []
  },
  {
   "cell_type": "code",
   "execution_count": null,
   "id": "525f601c-274c-4fde-8df1-b87ec32980bd",
   "metadata": {},
   "outputs": [],
   "source": []
  },
  {
   "cell_type": "code",
   "execution_count": null,
   "id": "a5c2e54f-198b-4580-b7d9-dff3a5769267",
   "metadata": {},
   "outputs": [],
   "source": []
  },
  {
   "cell_type": "code",
   "execution_count": null,
   "id": "f8bd2108-db01-4ff3-a9de-41ef2408e284",
   "metadata": {},
   "outputs": [],
   "source": []
  },
  {
   "cell_type": "code",
   "execution_count": null,
   "id": "fc8322d3-5bbf-404c-940f-7453d9dd4bf5",
   "metadata": {},
   "outputs": [],
   "source": []
  },
  {
   "cell_type": "code",
   "execution_count": null,
   "id": "730b140f-5f4f-47fc-9e5c-9487a1819ced",
   "metadata": {},
   "outputs": [],
   "source": []
  },
  {
   "cell_type": "code",
   "execution_count": null,
   "id": "f8cb12bf-f15f-48cb-a8ae-732e32e6ab6b",
   "metadata": {},
   "outputs": [],
   "source": []
  },
  {
   "cell_type": "code",
   "execution_count": null,
   "id": "4efeeb1f-5e52-46cb-a37a-8ad134ac5df6",
   "metadata": {},
   "outputs": [],
   "source": []
  },
  {
   "cell_type": "code",
   "execution_count": null,
   "id": "dbef377a-1c1d-4207-94a0-f0268900a855",
   "metadata": {},
   "outputs": [],
   "source": []
  },
  {
   "cell_type": "code",
   "execution_count": null,
   "id": "50ec2f78-d1e6-4383-8faf-caf0162e8b35",
   "metadata": {},
   "outputs": [],
   "source": []
  },
  {
   "cell_type": "code",
   "execution_count": null,
   "id": "b826a3db-6ba7-4392-91b6-f4bd77085fd7",
   "metadata": {},
   "outputs": [],
   "source": []
  },
  {
   "cell_type": "code",
   "execution_count": null,
   "id": "0db1b89a-5637-4989-af9a-9db3760d980b",
   "metadata": {},
   "outputs": [],
   "source": []
  },
  {
   "cell_type": "code",
   "execution_count": null,
   "id": "388b28a2-1dc4-4517-9b0f-91e2cc9ee1c5",
   "metadata": {},
   "outputs": [],
   "source": []
  },
  {
   "cell_type": "code",
   "execution_count": null,
   "id": "fd7f03c7-cad3-4922-8eb4-a78dcf2cbae0",
   "metadata": {},
   "outputs": [],
   "source": []
  },
  {
   "cell_type": "code",
   "execution_count": null,
   "id": "52997080-a384-471e-b2e0-9d55756f7eec",
   "metadata": {},
   "outputs": [],
   "source": []
  },
  {
   "cell_type": "code",
   "execution_count": null,
   "id": "ee8a4096-735d-4c60-b16d-bafb980077d3",
   "metadata": {},
   "outputs": [],
   "source": []
  },
  {
   "cell_type": "code",
   "execution_count": null,
   "id": "d88c4e2d-e56e-4e3e-9747-01a0bdbc288e",
   "metadata": {},
   "outputs": [],
   "source": []
  },
  {
   "cell_type": "code",
   "execution_count": null,
   "id": "2fda06b8-1ed5-44cf-9d27-4b1973d0d418",
   "metadata": {},
   "outputs": [],
   "source": []
  },
  {
   "cell_type": "code",
   "execution_count": null,
   "id": "22c2a7fc-b2e4-4418-b6c0-ceb63f834e5a",
   "metadata": {},
   "outputs": [],
   "source": []
  },
  {
   "cell_type": "code",
   "execution_count": null,
   "id": "145374ec-9c4a-42f5-be53-e1dae884e31d",
   "metadata": {},
   "outputs": [],
   "source": []
  },
  {
   "cell_type": "code",
   "execution_count": null,
   "id": "565ae893-03ef-4692-89fe-118dad345370",
   "metadata": {},
   "outputs": [],
   "source": []
  },
  {
   "cell_type": "code",
   "execution_count": null,
   "id": "173c66f9-9a50-44b8-a553-1b2e3267b095",
   "metadata": {},
   "outputs": [],
   "source": []
  },
  {
   "cell_type": "code",
   "execution_count": null,
   "id": "14059ce4-ccbf-4305-85e1-5892711934b2",
   "metadata": {},
   "outputs": [],
   "source": []
  },
  {
   "cell_type": "code",
   "execution_count": null,
   "id": "e9ab3b35-41bd-43c8-84f8-9e4f922187a2",
   "metadata": {},
   "outputs": [],
   "source": []
  },
  {
   "cell_type": "code",
   "execution_count": null,
   "id": "616f58e9-33d7-4e91-9dc6-63d1bef9267c",
   "metadata": {},
   "outputs": [],
   "source": []
  },
  {
   "cell_type": "code",
   "execution_count": null,
   "id": "a5b966e5-e3b6-45cd-acc5-bcc0d740344f",
   "metadata": {},
   "outputs": [],
   "source": []
  },
  {
   "cell_type": "code",
   "execution_count": null,
   "id": "e2b567e6-0432-4d3a-a2b9-36c6448f353d",
   "metadata": {},
   "outputs": [],
   "source": []
  },
  {
   "cell_type": "code",
   "execution_count": null,
   "id": "34c536d4-a38b-4222-bc87-0a6cb56416ef",
   "metadata": {},
   "outputs": [],
   "source": []
  },
  {
   "cell_type": "code",
   "execution_count": null,
   "id": "61dfb830-0e3c-48e8-8ebb-e25ae695866a",
   "metadata": {},
   "outputs": [],
   "source": []
  },
  {
   "cell_type": "code",
   "execution_count": null,
   "id": "91e24832-a4e4-48ab-84af-7c52ae1bb669",
   "metadata": {},
   "outputs": [],
   "source": []
  },
  {
   "cell_type": "code",
   "execution_count": null,
   "id": "bee6fcab-2504-43cf-b800-c62df632eaa4",
   "metadata": {},
   "outputs": [],
   "source": []
  },
  {
   "cell_type": "code",
   "execution_count": null,
   "id": "8513a899-8b86-478c-9215-5a1870eebba6",
   "metadata": {},
   "outputs": [],
   "source": []
  },
  {
   "cell_type": "code",
   "execution_count": null,
   "id": "82e57277-bbb8-4ee9-95e6-b8ac1463b8e3",
   "metadata": {},
   "outputs": [],
   "source": []
  },
  {
   "cell_type": "code",
   "execution_count": null,
   "id": "13ff500a-c190-47f6-9d05-a36e5ae6533d",
   "metadata": {},
   "outputs": [],
   "source": []
  },
  {
   "cell_type": "code",
   "execution_count": null,
   "id": "082e33a9-5d1a-4809-8a16-0075b2ff1a2a",
   "metadata": {},
   "outputs": [],
   "source": []
  },
  {
   "cell_type": "code",
   "execution_count": null,
   "id": "4dcc9853-230a-40fe-af5f-d9bfdb3524b5",
   "metadata": {},
   "outputs": [],
   "source": []
  },
  {
   "cell_type": "code",
   "execution_count": null,
   "id": "63e72c6b-0a35-4c41-b5a2-944738205923",
   "metadata": {},
   "outputs": [],
   "source": []
  },
  {
   "cell_type": "code",
   "execution_count": null,
   "id": "6641d44b-4307-4c74-b182-3d0d0796224c",
   "metadata": {},
   "outputs": [],
   "source": []
  },
  {
   "cell_type": "code",
   "execution_count": null,
   "id": "3143da1d-3262-4a0f-85cf-3ce8b6f6f607",
   "metadata": {},
   "outputs": [],
   "source": []
  },
  {
   "cell_type": "code",
   "execution_count": null,
   "id": "c10e15fd-0ea2-4ade-8281-e9701c3a5dce",
   "metadata": {},
   "outputs": [],
   "source": []
  },
  {
   "cell_type": "code",
   "execution_count": null,
   "id": "66b564f1-1bb7-48c0-acc0-6f442623395c",
   "metadata": {},
   "outputs": [],
   "source": []
  },
  {
   "cell_type": "code",
   "execution_count": null,
   "id": "5453159f-cd7f-49f9-bb25-92d0ab1b7cec",
   "metadata": {},
   "outputs": [],
   "source": []
  },
  {
   "cell_type": "code",
   "execution_count": null,
   "id": "7caee73d-e060-465c-aa22-a28448a1ef3f",
   "metadata": {},
   "outputs": [],
   "source": []
  },
  {
   "cell_type": "code",
   "execution_count": null,
   "id": "a4793d16-3eb4-4d9d-b490-59fe62ed2c26",
   "metadata": {},
   "outputs": [],
   "source": []
  },
  {
   "cell_type": "code",
   "execution_count": null,
   "id": "550eaf50-1d1b-4ba8-bcaf-f7529123cdc2",
   "metadata": {},
   "outputs": [],
   "source": []
  },
  {
   "cell_type": "code",
   "execution_count": null,
   "id": "e09d7537-6ef4-45ed-937f-aa260125dc65",
   "metadata": {},
   "outputs": [],
   "source": []
  },
  {
   "cell_type": "code",
   "execution_count": null,
   "id": "02c11191-9337-4002-aca0-4644d4298d9e",
   "metadata": {},
   "outputs": [],
   "source": []
  },
  {
   "cell_type": "code",
   "execution_count": null,
   "id": "73071021-6e7f-40ff-bc9b-9e717c6f2189",
   "metadata": {},
   "outputs": [],
   "source": []
  },
  {
   "cell_type": "code",
   "execution_count": null,
   "id": "77291892-bdc0-4b0e-92e3-f46b1717df08",
   "metadata": {},
   "outputs": [],
   "source": []
  },
  {
   "cell_type": "code",
   "execution_count": null,
   "id": "d9e97f76-8815-43f8-a786-f9ced33ec8ff",
   "metadata": {},
   "outputs": [],
   "source": []
  },
  {
   "cell_type": "code",
   "execution_count": null,
   "id": "bb810f43-92ad-470c-bf63-22ff020a0c3d",
   "metadata": {},
   "outputs": [],
   "source": []
  },
  {
   "cell_type": "code",
   "execution_count": null,
   "id": "46349371-13e1-47df-af88-44f7cecbeda4",
   "metadata": {},
   "outputs": [],
   "source": []
  },
  {
   "cell_type": "code",
   "execution_count": null,
   "id": "2efb92f2-78ee-4488-a11a-1c3cb20ae1f5",
   "metadata": {},
   "outputs": [],
   "source": []
  },
  {
   "cell_type": "code",
   "execution_count": null,
   "id": "a853228d-ba07-4188-a5c3-5d5692ed3909",
   "metadata": {},
   "outputs": [],
   "source": []
  },
  {
   "cell_type": "code",
   "execution_count": null,
   "id": "9dbb03a8-a27e-4114-88b5-6bc36b11196b",
   "metadata": {},
   "outputs": [],
   "source": []
  },
  {
   "cell_type": "code",
   "execution_count": null,
   "id": "f42a17cc-b342-4e55-bfd6-54009abf313d",
   "metadata": {},
   "outputs": [],
   "source": []
  },
  {
   "cell_type": "code",
   "execution_count": null,
   "id": "f539f8dc-73d6-43df-aa89-c0f20c789254",
   "metadata": {},
   "outputs": [],
   "source": []
  },
  {
   "cell_type": "code",
   "execution_count": null,
   "id": "65b1acf0-da86-485e-8a89-6711644fb503",
   "metadata": {},
   "outputs": [],
   "source": []
  },
  {
   "cell_type": "code",
   "execution_count": null,
   "id": "26a51ef1-1a18-4454-bb8e-ab996e8c3898",
   "metadata": {},
   "outputs": [],
   "source": []
  },
  {
   "cell_type": "code",
   "execution_count": null,
   "id": "04e42b82-0409-4623-8900-81c755787aa9",
   "metadata": {},
   "outputs": [],
   "source": []
  },
  {
   "cell_type": "code",
   "execution_count": null,
   "id": "7310aa89-6eaa-4423-bde7-74fd822440d0",
   "metadata": {},
   "outputs": [],
   "source": []
  },
  {
   "cell_type": "code",
   "execution_count": null,
   "id": "54de6157-c696-4f30-872d-a3968342079b",
   "metadata": {},
   "outputs": [],
   "source": []
  },
  {
   "cell_type": "code",
   "execution_count": null,
   "id": "c8322962-466b-4957-abbf-d7f685b27cff",
   "metadata": {},
   "outputs": [],
   "source": []
  },
  {
   "cell_type": "code",
   "execution_count": null,
   "id": "15aff5af-87b1-4a75-bf8d-d8848da49d14",
   "metadata": {},
   "outputs": [],
   "source": []
  },
  {
   "cell_type": "code",
   "execution_count": null,
   "id": "d03d5723-a74e-4713-a285-329c1072b165",
   "metadata": {},
   "outputs": [],
   "source": []
  },
  {
   "cell_type": "code",
   "execution_count": null,
   "id": "97978cd3-b0ce-468f-85f1-1018085d5df3",
   "metadata": {},
   "outputs": [],
   "source": []
  },
  {
   "cell_type": "code",
   "execution_count": null,
   "id": "d6891ec6-6295-459d-988a-1e6bcdfc7629",
   "metadata": {},
   "outputs": [],
   "source": []
  },
  {
   "cell_type": "code",
   "execution_count": null,
   "id": "4884489b-f118-48b4-9461-661d35fffce5",
   "metadata": {},
   "outputs": [],
   "source": []
  },
  {
   "cell_type": "code",
   "execution_count": null,
   "id": "5d777a0c-b689-4dd0-982b-68e2f8871ee6",
   "metadata": {},
   "outputs": [],
   "source": []
  },
  {
   "cell_type": "code",
   "execution_count": null,
   "id": "09f2c89b-af6b-4541-9c5a-41ebca0aa217",
   "metadata": {},
   "outputs": [],
   "source": []
  },
  {
   "cell_type": "code",
   "execution_count": null,
   "id": "c6c35636-3d40-4e12-88e8-ec9e30a97b61",
   "metadata": {},
   "outputs": [],
   "source": []
  },
  {
   "cell_type": "code",
   "execution_count": null,
   "id": "394b06df-2895-4d2e-bd51-eab958857b9b",
   "metadata": {},
   "outputs": [],
   "source": []
  },
  {
   "cell_type": "code",
   "execution_count": null,
   "id": "99fb3ec5-692a-4ad0-9bf6-86335321e559",
   "metadata": {},
   "outputs": [],
   "source": []
  },
  {
   "cell_type": "code",
   "execution_count": null,
   "id": "b637edea-c093-44b4-8621-59f13c466547",
   "metadata": {},
   "outputs": [],
   "source": []
  },
  {
   "cell_type": "code",
   "execution_count": null,
   "id": "a5cd19df-ec7f-44be-872b-b4b4d6ab7dcc",
   "metadata": {},
   "outputs": [],
   "source": []
  },
  {
   "cell_type": "code",
   "execution_count": null,
   "id": "2495ee31-c1b2-493a-b292-db19073b3f79",
   "metadata": {},
   "outputs": [],
   "source": []
  },
  {
   "cell_type": "code",
   "execution_count": null,
   "id": "3d31f323-544e-48ee-a3a0-3b44ab07d6c3",
   "metadata": {},
   "outputs": [],
   "source": []
  }
 ],
 "metadata": {
  "kernelspec": {
   "display_name": "Python 3 (ipykernel)",
   "language": "python",
   "name": "python3"
  },
  "language_info": {
   "codemirror_mode": {
    "name": "ipython",
    "version": 3
   },
   "file_extension": ".py",
   "mimetype": "text/x-python",
   "name": "python",
   "nbconvert_exporter": "python",
   "pygments_lexer": "ipython3",
   "version": "3.11.9"
  }
 },
 "nbformat": 4,
 "nbformat_minor": 5
}
