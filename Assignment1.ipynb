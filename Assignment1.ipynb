{
 "cells": [
  {
   "cell_type": "code",
   "execution_count": 13,
   "id": "9c98ce8f-2a71-4d04-9a15-c5fc42d05d22",
   "metadata": {},
   "outputs": [
    {
     "name": "stdin",
     "output_type": "stream",
     "text": [
      "Enter the Number of a:  23\n",
      "Enter the Number of b:  231\n",
      "Enter the Number of c:  0\n"
     ]
    },
    {
     "name": "stdout",
     "output_type": "stream",
     "text": [
      "b is largest the number!\n"
     ]
    }
   ],
   "source": [
    "# Question 1:\n",
    "# Write a Python program to determine the largest among three numbers entered by the user.\n",
    "\n",
    "a = int(input(\"Enter the Number of a: \"))\n",
    "b = int(input(\"Enter the Number of b: \"))\n",
    "c = int(input(\"Enter the Number of c: \"))\n",
    "\n",
    "if a > b and a > c:\n",
    "    print(\"a is largest the number!\")\n",
    "    \n",
    "elif b > a and b > c:\n",
    "    print(\"b is largest the number!\")\n",
    "    \n",
    "else:\n",
    "    print(\"c is largest the number!\")\n"
   ]
  },
  {
   "cell_type": "code",
   "execution_count": 27,
   "id": "b3287c7e-e544-428f-9034-8e8fae2c7a66",
   "metadata": {},
   "outputs": [
    {
     "name": "stdin",
     "output_type": "stream",
     "text": [
      "Enter the year:  2000\n"
     ]
    },
    {
     "name": "stdout",
     "output_type": "stream",
     "text": [
      "Year is the leap year: \n"
     ]
    }
   ],
   "source": [
    "# Question 2:\n",
    "''' Write a Python program to check if a given year is a leap year.\n",
    "\n",
    "Hints \n",
    "1]  Check if the year is divisible by 4.\n",
    "2]  Check if the year is divisible by 100, but not divisible by 400.\n",
    "3]  If the year satisfies either of the above conditions, it's a leap year. '''\n",
    "\n",
    "\n",
    "year = int(input(\"Enter the year: \"))\n",
    "\n",
    "if (year%100 == 0 and year%400 == 0):\n",
    "    print(\"Year is the leap year: \")\n",
    "\n",
    "elif (year%4 == 0 and year%400 != 0):\n",
    "     print(\"Year is the leap year: \")\n",
    "\n",
    "else:\n",
    "    print(\"Year is not the leap year: \")"
   ]
  },
  {
   "cell_type": "code",
   "execution_count": 2,
   "id": "8c69adf9-62b1-4337-9b89-63a08c8f3967",
   "metadata": {},
   "outputs": [
    {
     "name": "stdin",
     "output_type": "stream",
     "text": [
      "Enter your number:  5\n"
     ]
    },
    {
     "name": "stdout",
     "output_type": "stream",
     "text": [
      "1 \n",
      "2 2 \n",
      "3 3 3 \n",
      "4 4 4 4 \n",
      "5 5 5 5 5 \n"
     ]
    }
   ],
   "source": [
    "# Question 3:\n",
    "# Write a Python program to print the following pattern:\n",
    "n = int(input(\"Enter your number: \"))\n",
    "\n",
    "for i in range(n):\n",
    "    for j in range(i+1):\n",
    "        print(i+1,end=\" \")\n",
    "    print()"
   ]
  },
  {
   "cell_type": "code",
   "execution_count": 53,
   "id": "d3740460-d291-427c-9270-2a70c550f3fb",
   "metadata": {},
   "outputs": [
    {
     "name": "stdout",
     "output_type": "stream",
     "text": [
      "* \n",
      "\n",
      "* * \n",
      "\n",
      "* * * \n",
      "\n",
      "* * * * \n",
      "\n",
      "* * * * * \n",
      "\n"
     ]
    }
   ],
   "source": [
    "# Question 4:\n",
    "# Write a Python program to print the following pattern:\n",
    "\n",
    "for i in range(1,6):\n",
    "    for j in range(1,i+1):\n",
    "        print(\"*\",end=\" \")\n",
    "    print(\"\\n\")"
   ]
  },
  {
   "cell_type": "code",
   "execution_count": 60,
   "id": "95b857b3-28be-415b-a243-901c29920a1d",
   "metadata": {},
   "outputs": [
    {
     "name": "stdout",
     "output_type": "stream",
     "text": [
      "    *\n",
      "\n",
      "   **\n",
      "\n",
      "  ***\n",
      "\n",
      " ****\n",
      "\n",
      "*****\n",
      "\n"
     ]
    }
   ],
   "source": [
    "# Question 5:\n",
    "# Write a Python program to print the following pattern:\n",
    "for i in range(1,6):\n",
    "    for k in range(1,6-i):\n",
    "        print(\" \",end=\"\")\n",
    "    for j in range(1,i+1):\n",
    "        print(\"*\",end=\"\")\n",
    "    print(\"\\n\")"
   ]
  },
  {
   "cell_type": "code",
   "execution_count": 1,
   "id": "c8262444-42a7-4c02-a756-7b1ac006520c",
   "metadata": {},
   "outputs": [
    {
     "name": "stdout",
     "output_type": "stream",
     "text": [
      "1\n",
      "2\n",
      "Fizz\n",
      "4\n",
      "Buzz\n",
      "Fizz\n",
      "7\n",
      "8\n",
      "Fizz\n",
      "Buzz\n",
      "11\n",
      "Fizz\n",
      "13\n",
      "14\n",
      "FizzBuzz\n",
      "16\n",
      "17\n",
      "Fizz\n",
      "19\n",
      "Buzz\n",
      "Fizz\n",
      "22\n",
      "23\n",
      "Fizz\n",
      "Buzz\n",
      "26\n",
      "Fizz\n",
      "28\n",
      "29\n",
      "FizzBuzz\n",
      "31\n",
      "32\n",
      "Fizz\n",
      "34\n",
      "Buzz\n",
      "Fizz\n",
      "37\n",
      "38\n",
      "Fizz\n",
      "Buzz\n",
      "41\n",
      "Fizz\n",
      "43\n",
      "44\n",
      "FizzBuzz\n",
      "46\n",
      "47\n",
      "Fizz\n",
      "49\n",
      "Buzz\n",
      "Fizz\n",
      "52\n",
      "53\n",
      "Fizz\n",
      "Buzz\n",
      "56\n",
      "Fizz\n",
      "58\n",
      "59\n",
      "FizzBuzz\n",
      "61\n",
      "62\n",
      "Fizz\n",
      "64\n",
      "Buzz\n",
      "Fizz\n",
      "67\n",
      "68\n",
      "Fizz\n",
      "Buzz\n",
      "71\n",
      "Fizz\n",
      "73\n",
      "74\n",
      "FizzBuzz\n",
      "76\n",
      "77\n",
      "Fizz\n",
      "79\n",
      "Buzz\n",
      "Fizz\n",
      "82\n",
      "83\n",
      "Fizz\n",
      "Buzz\n",
      "86\n",
      "Fizz\n",
      "88\n",
      "89\n",
      "FizzBuzz\n",
      "91\n",
      "92\n",
      "Fizz\n",
      "94\n",
      "Buzz\n",
      "Fizz\n",
      "97\n",
      "98\n",
      "Fizz\n",
      "Buzz\n"
     ]
    }
   ],
   "source": [
    "# Question 6:\n",
    "''' Write a program that prints the numbers 1 to 100. However, for multiples of 3, print \"Fizz\" instead of the\n",
    "number. For multiples of 5, print \"Buzz\". For numbers that are multiples of both 3 and 5, print \"FizzBuzz\".   '''\n",
    "\n",
    "for i in range(1,101): \n",
    "    \n",
    "    if i%15 ==0:\n",
    "        print(\"FizzBuzz\")\n",
    "        \n",
    "    elif i%3 == 0:\n",
    "        print(\"Fizz\")\n",
    "        \n",
    "    elif i%5 == 0:\n",
    "        print(\"Buzz\")\n",
    "\n",
    "    else:\n",
    "         print(i)"
   ]
  },
  {
   "cell_type": "code",
   "execution_count": 2,
   "id": "a4ab5307-22cd-45cc-9628-c5c27b175489",
   "metadata": {},
   "outputs": [
    {
     "name": "stdin",
     "output_type": "stream",
     "text": [
      "Please enter the number:  10\n"
     ]
    },
    {
     "name": "stdout",
     "output_type": "stream",
     "text": [
      "2\n",
      "3\n",
      "5\n",
      "7\n",
      "17\n"
     ]
    }
   ],
   "source": [
    "# Question 7: \n",
    "# Write a Python program to find the sum of all prime numbers up to n.\n",
    "\n",
    "num = int(input(\"Please enter the number: \"))\n",
    "\n",
    "def sum_prime(num):\n",
    "    sum = 0\n",
    "    for i in range(2,num+1):\n",
    "        for j in range(2,i):\n",
    "            if i%j == 0:\n",
    "                break\n",
    "        else:\n",
    "         print(i)\n",
    "         sum = sum + i\n",
    "    return sum\n",
    "\n",
    "#sum_prime(num)\n",
    "print(sum_prime(num))"
   ]
  },
  {
   "cell_type": "code",
   "execution_count": 3,
   "id": "bead2ff5-807e-4fc0-a29b-cff73f7e7883",
   "metadata": {},
   "outputs": [
    {
     "name": "stdin",
     "output_type": "stream",
     "text": [
      "Enter the length of fibonacci:  10\n"
     ]
    },
    {
     "name": "stdout",
     "output_type": "stream",
     "text": [
      "0\n",
      "1\n",
      "1\n",
      "2\n",
      "3\n",
      "5\n",
      "8\n",
      "13\n",
      "21\n",
      "34\n"
     ]
    }
   ],
   "source": [
    "# Question 8:\n",
    "\n",
    "''' Write a Python program to print the Fibonacci sequence up to n terms. The Fibonacci series is a sequence of\n",
    "numbers where each number is the sum of the two preceding ones, usually starting with 0 and 1. '''\n",
    "\n",
    "n = int(input(\"Enter the length of fibonacci: \"))\n",
    "\n",
    "n1 = 0\n",
    "n2 = 1\n",
    "count=2\n",
    "\n",
    "if n<0:\n",
    "    print(\"Enter only +ve values\")\n",
    "elif n==1:\n",
    "    print(n1)\n",
    "else:\n",
    "    print(n1)\n",
    "    print(n2)\n",
    "    while count<n:\n",
    "        n3=n1+n2\n",
    "        print(n3)\n",
    "        count+=1\n",
    "        n1=n2\n",
    "        n2=n3\n",
    "\n"
   ]
  },
  {
   "cell_type": "code",
   "execution_count": 61,
   "id": "3e7e61fa-2554-4c00-8681-caa430fb7edc",
   "metadata": {},
   "outputs": [
    {
     "name": "stdout",
     "output_type": "stream",
     "text": [
      "    *\n",
      "\n",
      "   ***\n",
      "\n",
      "  *****\n",
      "\n",
      " *******\n",
      "\n",
      "*********\n",
      "\n"
     ]
    }
   ],
   "source": [
    "# Question 9:\n",
    "# Write a Python program to print the following pattern:\n",
    "\n",
    "for i in range(1,6):\n",
    "    for k in range(1,6-i):\n",
    "        print(\" \",end=\"\")\n",
    "    for j in range(1,(2*i-1)+1):\n",
    "        print(\"*\",end=\"\")\n",
    "    print(\"\\n\")"
   ]
  },
  {
   "cell_type": "code",
   "execution_count": 35,
   "id": "7f89184e-e01b-47b3-a97d-9fafa6fdbc83",
   "metadata": {},
   "outputs": [
    {
     "name": "stdout",
     "output_type": "stream",
     "text": [
      "    A\n",
      "   BBB\n",
      "  CCCCC\n",
      " DDDDDDD\n",
      "EEEEEEEEE\n"
     ]
    }
   ],
   "source": [
    "# Question 10:\n",
    "# Write a Python program to print the following pattern:\n",
    "\n",
    "def print_pattern():\n",
    "    n = 5\n",
    "    for i in range(n):\n",
    "        # Print leading spaces\n",
    "        for j in range(n - i - 1):\n",
    "            print(\" \", end=\"\")\n",
    "        \n",
    "        # Print the character pattern\n",
    "        char = chr(65+i)  # ASCII value of 'A' is 65\n",
    "        for k in range(2 * i + 1):\n",
    "            print(char, end=\"\")\n",
    "        \n",
    "        # Move to the next line\n",
    "        print()\n",
    "\n",
    "print_pattern()\n"
   ]
  },
  {
   "cell_type": "code",
   "execution_count": null,
   "id": "e3a8e2ca-96f9-464c-adc5-07d1b0fbd14a",
   "metadata": {},
   "outputs": [],
   "source": []
  }
 ],
 "metadata": {
  "kernelspec": {
   "display_name": "Python 3 (ipykernel)",
   "language": "python",
   "name": "python3"
  },
  "language_info": {
   "codemirror_mode": {
    "name": "ipython",
    "version": 3
   },
   "file_extension": ".py",
   "mimetype": "text/x-python",
   "name": "python",
   "nbconvert_exporter": "python",
   "pygments_lexer": "ipython3",
   "version": "3.11.9"
  }
 },
 "nbformat": 4,
 "nbformat_minor": 5
}
