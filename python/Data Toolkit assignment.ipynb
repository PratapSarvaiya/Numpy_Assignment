{
 "cells": [
  {
   "cell_type": "code",
   "execution_count": null,
   "id": "fce072ff-a6a6-4159-a08b-8c043f04c8f3",
   "metadata": {},
   "outputs": [],
   "source": [
    "People Dataset h-\n",
    "\n",
    "httpsh//drivegooglecom/file/d/wx_f_HNKieNRAzx9IzAojaYp_Up_cef\\/view?uspbsharing\n",
    "\n",
    "\n",
    "\n",
    "1] Demonstrate three different methods for creating identical 2D arrays in NumPy Provide the code for each\n",
    "method and the final output after each method.\n",
    "\n",
    "2]  Using the Numpy function, generate an array of wRR evenly spaced numPers Petween w and wR and\n",
    "Reshape that wD array into a 2D array.\n",
    "\n",
    "3]  Explain the following terms:\n",
    "M The difference in npYarray, npYasarray and npYasanyarrayX\n",
    "M The difference between Deep copy and shallow copyX\n",
    "O Generate a x array with random floating-point numPers Petween . and 2R 9hen, round each numPer in\n",
    "the array to 2 decimal places8\n",
    "- Create a NumPy array with random integers Petween w and wR of shape (., )) After creating the array\n",
    "perform the following operations:\n",
    "\n",
    " a)Extract all even integers from array.\n",
    "\n",
    " b)Extract all odd integers from arrayX"
   ]
  }
 ],
 "metadata": {
  "kernelspec": {
   "display_name": "Python 3 (ipykernel)",
   "language": "python",
   "name": "python3"
  },
  "language_info": {
   "codemirror_mode": {
    "name": "ipython",
    "version": 3
   },
   "file_extension": ".py",
   "mimetype": "text/x-python",
   "name": "python",
   "nbconvert_exporter": "python",
   "pygments_lexer": "ipython3",
   "version": "3.11.9"
  }
 },
 "nbformat": 4,
 "nbformat_minor": 5
}
