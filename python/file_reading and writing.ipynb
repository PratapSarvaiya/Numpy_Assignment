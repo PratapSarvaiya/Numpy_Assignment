{
 "cells": [
  {
   "cell_type": "code",
   "execution_count": 1,
   "id": "7c07e10b-7ccf-496b-a230-31be01ee333c",
   "metadata": {},
   "outputs": [],
   "source": [
    "text_content = \"\"\"\n",
    "example1\n",
    "example2\n",
    "example3\n",
    "\"\"\""
   ]
  },
  {
   "cell_type": "code",
   "execution_count": 4,
   "id": "9794c643-ac03-4dae-bdfc-b8e13b9d16c0",
   "metadata": {},
   "outputs": [],
   "source": [
    "with open(\"example.txt\",\"w\") as file:\n",
    "    file.write(text_content)"
   ]
  },
  {
   "cell_type": "code",
   "execution_count": 5,
   "id": "fb3fc244-86b9-488c-a288-94867d77e41e",
   "metadata": {},
   "outputs": [
    {
     "name": "stdout",
     "output_type": "stream",
     "text": [
      "\n",
      "example1\n",
      "example2\n",
      "example3\n",
      "\n"
     ]
    }
   ],
   "source": [
    "with open(\"example.txt\",\"r\") as file:\n",
    "    data = file.read()\n",
    "print(data)"
   ]
  },
  {
   "cell_type": "code",
   "execution_count": 6,
   "id": "dbaaf4cc-5f9b-43e6-bca5-0edf0ede47f0",
   "metadata": {},
   "outputs": [],
   "source": [
    "# csv >> comma separated values file\n",
    "data = [[\"Name\",\"Course\",\"Fee\"],\n",
    "       [\"Ajay\",\"Ds\",\"20000\"],\n",
    "       [\"Rahul\",\"DA\",\"30000\"]]"
   ]
  },
  {
   "cell_type": "code",
   "execution_count": 7,
   "id": "e5d3eed4-c9e0-48ff-8056-124b82778b20",
   "metadata": {},
   "outputs": [
    {
     "name": "stdout",
     "output_type": "stream",
     "text": [
      "['Name', 'Course', 'Fee']\n",
      "['Ajay', 'Ds', '20000']\n",
      "['Rahul', 'DA', '30000']\n"
     ]
    }
   ],
   "source": [
    "for i in data:\n",
    "    print(i)"
   ]
  },
  {
   "cell_type": "code",
   "execution_count": 8,
   "id": "2a942b8a-ff07-45ca-8324-83982fb98ff6",
   "metadata": {},
   "outputs": [],
   "source": [
    "import csv\n",
    "with open(\"example_csv.csv\",\"w\") as f:\n",
    "    w = csv.writer(f)\n",
    "    for i in data:\n",
    "        w.writerow(i)"
   ]
  },
  {
   "cell_type": "code",
   "execution_count": 9,
   "id": "c26bd9f7-d962-4c6f-9e05-6a63cf79551c",
   "metadata": {},
   "outputs": [
    {
     "name": "stdout",
     "output_type": "stream",
     "text": [
      "['Name', 'Course', 'Fee']\n",
      "[]\n",
      "['Ajay', 'Ds', '20000']\n",
      "[]\n",
      "['Rahul', 'DA', '30000']\n",
      "[]\n"
     ]
    }
   ],
   "source": [
    "with open(\"example_csv.csv\",\"r\") as f:\n",
    "    r = csv.reader(f)\n",
    "    for i in r:\n",
    "        print(i)"
   ]
  },
  {
   "cell_type": "code",
   "execution_count": 11,
   "id": "6916c2f8-4258-4902-a522-1f3456339a6c",
   "metadata": {},
   "outputs": [
    {
     "data": {
      "text/plain": [
       "{'name': 'Ajay', 'course': 'DS', 'fee': 2000}"
      ]
     },
     "execution_count": 11,
     "metadata": {},
     "output_type": "execute_result"
    }
   ],
   "source": [
    "# JSON >> javascript object notation\n",
    "data = {\"name\":\"Ajay\",\n",
    "       \"course\":\"DS\",\n",
    "       \"fee\":2000}\n",
    "data"
   ]
  },
  {
   "cell_type": "code",
   "execution_count": 12,
   "id": "460deb0d-526c-4d79-bac7-839f39d6b388",
   "metadata": {},
   "outputs": [
    {
     "data": {
      "text/plain": [
       "dict"
      ]
     },
     "execution_count": 12,
     "metadata": {},
     "output_type": "execute_result"
    }
   ],
   "source": [
    "type(data)"
   ]
  },
  {
   "cell_type": "code",
   "execution_count": 13,
   "id": "e2a76ea5-8f8f-4a9a-8eef-e0de33c4b8a4",
   "metadata": {},
   "outputs": [],
   "source": [
    "import json\n",
    "with open(\"file_json.json\",\"w\") as f:\n",
    "    json.dump(data,f)"
   ]
  },
  {
   "cell_type": "code",
   "execution_count": 17,
   "id": "d3c2bebf-9aad-4ded-99ec-62bfb3170933",
   "metadata": {},
   "outputs": [
    {
     "name": "stdout",
     "output_type": "stream",
     "text": [
      "{'name': 'Ajay', 'course': 'DS', 'fee': 2000}\n"
     ]
    }
   ],
   "source": [
    "with open(\"file_json.json\",\"r\") as f: # API\n",
    "    data = json.load(f)\n",
    "print(data)"
   ]
  },
  {
   "cell_type": "code",
   "execution_count": 21,
   "id": "8a25432c-94bf-4083-97b3-c806f626daa3",
   "metadata": {},
   "outputs": [],
   "source": [
    "# write a binary data in a file\n",
    "# wb means write byte mode\n",
    "with open(\"test_bin.bin\",\"wb\") as f:\n",
    "    f.write(b\"\\x48\\x65\\x6c\\x6c\\x6f\\x2c\\x20\\x57\\x6f\\x72\\x6c\\x64\\x21\")"
   ]
  },
  {
   "cell_type": "code",
   "execution_count": 22,
   "id": "87319280-2060-4403-b093-07837e203f21",
   "metadata": {},
   "outputs": [
    {
     "name": "stdout",
     "output_type": "stream",
     "text": [
      "b'Hello, World!'\n"
     ]
    }
   ],
   "source": [
    "with open(\"test_bin.bin\",\"rb\") as f:\n",
    "    print(f.read())"
   ]
  },
  {
   "cell_type": "code",
   "execution_count": null,
   "id": "0e3c27cf-fd57-4afd-8fa6-38508c4f1f5b",
   "metadata": {},
   "outputs": [],
   "source": [
    "# Buffered reading and writing \n",
    "# it allows the program to read and write data in chunks"
   ]
  },
  {
   "cell_type": "code",
   "execution_count": 31,
   "id": "3fd2ec96-2924-4f92-a80e-11d688a0813f",
   "metadata": {},
   "outputs": [],
   "source": [
    "import io\n",
    "with open(\"test_buf.txt\",\"wb\") as f:\n",
    "    file = io.BufferedWriter(f)\n",
    "    file.write(b\"A computer is a machine that can be programmed to automatically carry out sequences of arithmetic or logical operations (computation). Modern digital electronic computers can perform generic sets of operations known as programs. These programs enable computers to perform a wide range of tasks. The term computer system may refer to a nominally complete computer that includes the hardware, operating system, software, and peripheral equipment needed and used for full operation; or to a group of computers that are linked and function together, such as a computer network or computer cluster.\")\n",
    "    file.write(b\"Hello world,how are you?\")\n",
    "    file.write(b\"I am studying ds\")\n",
    "    file.flush()"
   ]
  },
  {
   "cell_type": "code",
   "execution_count": 34,
   "id": "cf0dcfb2-fe4f-4600-bfa8-d9185f273ccd",
   "metadata": {},
   "outputs": [
    {
     "name": "stdout",
     "output_type": "stream",
     "text": [
      "b'A computer is a machine that can be programmed to automatically carry out sequences of arithmetic or logical operations '\n"
     ]
    }
   ],
   "source": [
    "with open(\"test_buf.txt\",\"rb\") as f:\n",
    "    file = io.BufferedReader(f)\n",
    "    data = file.read(120) # read the first chunk of 100 bytes\n",
    "    print(data)"
   ]
  },
  {
   "cell_type": "code",
   "execution_count": null,
   "id": "b9c1882f-edc2-43a6-9df8-0a70a4844202",
   "metadata": {},
   "outputs": [],
   "source": []
  }
 ],
 "metadata": {
  "kernelspec": {
   "display_name": "Python 3 (ipykernel)",
   "language": "python",
   "name": "python3"
  },
  "language_info": {
   "codemirror_mode": {
    "name": "ipython",
    "version": 3
   },
   "file_extension": ".py",
   "mimetype": "text/x-python",
   "name": "python",
   "nbconvert_exporter": "python",
   "pygments_lexer": "ipython3",
   "version": "3.11.9"
  }
 },
 "nbformat": 4,
 "nbformat_minor": 5
}
