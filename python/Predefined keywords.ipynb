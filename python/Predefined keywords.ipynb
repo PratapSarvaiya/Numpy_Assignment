{
 "cells": [
  {
   "cell_type": "code",
   "execution_count": 1,
   "id": "fd540b35-c521-4e0b-8ace-15dbbe0a11da",
   "metadata": {},
   "outputs": [
    {
     "name": "stdout",
     "output_type": "stream",
     "text": [
      "Helllo world\n"
     ]
    }
   ],
   "source": [
    "print(\"Helllo world\")"
   ]
  },
  {
   "cell_type": "code",
   "execution_count": 2,
   "id": "500c0e33-d357-4e4a-9bea-1a853b9cde40",
   "metadata": {},
   "outputs": [
    {
     "data": {
      "text/plain": [
       "3"
      ]
     },
     "execution_count": 2,
     "metadata": {},
     "output_type": "execute_result"
    }
   ],
   "source": [
    "a=3\n",
    "a"
   ]
  },
  {
   "cell_type": "markdown",
   "id": "1dd89dbe-4df5-467b-a48f-bff823970eb8",
   "metadata": {},
   "source": [
    "# variable/identifiers >> placeholders where we keep variety of data which we can use to write to logic"
   ]
  },
  {
   "cell_type": "code",
   "execution_count": 3,
   "id": "370be5f8-d36a-4969-af37-daaf1fda0084",
   "metadata": {},
   "outputs": [],
   "source": [
    "#Numbers >> integers/float\n",
    "#characters >>> string in python\n",
    "#True/False >> boolean\n",
    "#None\n",
    "#complex"
   ]
  },
  {
   "cell_type": "code",
   "execution_count": 4,
   "id": "c9746acd-09b3-4bd8-bb1f-b2dde69dab64",
   "metadata": {},
   "outputs": [
    {
     "data": {
      "text/plain": [
       "3"
      ]
     },
     "execution_count": 4,
     "metadata": {},
     "output_type": "execute_result"
    }
   ],
   "source": [
    "b=3  # b is the address\n",
    "b"
   ]
  },
  {
   "cell_type": "code",
   "execution_count": 5,
   "id": "4c53b6da-ab49-41b4-855a-a9b85fce8a7a",
   "metadata": {},
   "outputs": [
    {
     "ename": "SyntaxError",
     "evalue": "invalid syntax (2770770486.py, line 1)",
     "output_type": "error",
     "traceback": [
      "\u001b[1;36m  Cell \u001b[1;32mIn[5], line 1\u001b[1;36m\u001b[0m\n\u001b[1;33m    Variable is a reserved memory space for storing value\u001b[0m\n\u001b[1;37m                  ^\u001b[0m\n\u001b[1;31mSyntaxError\u001b[0m\u001b[1;31m:\u001b[0m invalid syntax\n"
     ]
    }
   ],
   "source": [
    "Variable is a reserved memory space for storing value"
   ]
  },
  {
   "cell_type": "code",
   "execution_count": null,
   "id": "449d6b54-8243-4923-9e41-a45ea7ac58f1",
   "metadata": {},
   "outputs": [],
   "source": [
    "b=4.5\n",
    "b"
   ]
  },
  {
   "cell_type": "code",
   "execution_count": null,
   "id": "8fc64b2d-6a5f-489d-8a4a-f88aedc9df99",
   "metadata": {},
   "outputs": [],
   "source": [
    "c = \"pratap\"\n",
    "c"
   ]
  },
  {
   "cell_type": "code",
   "execution_count": null,
   "id": "f33b6508-9ceb-445b-84ae-87b43f92b1fa",
   "metadata": {},
   "outputs": [],
   "source": [
    "type(c)  # print is keyword"
   ]
  },
  {
   "cell_type": "code",
   "execution_count": null,
   "id": "168ef6be-d40e-4250-9f33-234bc6599758",
   "metadata": {},
   "outputs": [],
   "source": [
    "c =True\n",
    "type(c)"
   ]
  },
  {
   "cell_type": "code",
   "execution_count": null,
   "id": "a129f289-3c40-412e-b3e1-1f4b26aea7a3",
   "metadata": {},
   "outputs": [],
   "source": [
    "d = False\n",
    "type(d)"
   ]
  },
  {
   "cell_type": "code",
   "execution_count": null,
   "id": "de874092-2a16-4539-b5c2-83c1b7799840",
   "metadata": {},
   "outputs": [],
   "source": [
    "True-False"
   ]
  },
  {
   "cell_type": "code",
   "execution_count": null,
   "id": "f5de6df9-eb20-4a72-a828-50f6d16768e1",
   "metadata": {},
   "outputs": [],
   "source": [
    "True*True"
   ]
  },
  {
   "cell_type": "code",
   "execution_count": null,
   "id": "e9990ee8-885e-4b04-9533-4ac3666bc654",
   "metadata": {},
   "outputs": [],
   "source": [
    "True*False"
   ]
  },
  {
   "cell_type": "raw",
   "id": "72bc7b43-ef59-4e04-9d39-7cfd64dac801",
   "metadata": {},
   "source": [
    "True/False  >> it will throw an error"
   ]
  },
  {
   "cell_type": "code",
   "execution_count": null,
   "id": "e67aad66-ac18-4e69-9c9c-66da0c2ccb52",
   "metadata": {},
   "outputs": [],
   "source": [
    "f = None\n",
    "f"
   ]
  },
  {
   "cell_type": "code",
   "execution_count": null,
   "id": "919567ba-76d2-4d3d-80b9-7ac2c95133c3",
   "metadata": {},
   "outputs": [],
   "source": [
    "type(f)"
   ]
  },
  {
   "cell_type": "markdown",
   "id": "293ce76e-378d-4666-85c0-0d2a11545911",
   "metadata": {},
   "source": [
    "x+iy >> complex number"
   ]
  },
  {
   "cell_type": "code",
   "execution_count": null,
   "id": "f646909b-c6c3-4bd9-8835-ead41847283b",
   "metadata": {},
   "outputs": [],
   "source": [
    "c = 5+6j\n",
    "c"
   ]
  },
  {
   "cell_type": "code",
   "execution_count": null,
   "id": "f62766a6-814b-4dcc-a721-d2bbb93e665b",
   "metadata": {},
   "outputs": [],
   "source": [
    "type(c)"
   ]
  },
  {
   "cell_type": "code",
   "execution_count": null,
   "id": "dced7a65-713f-40db-bed9-24a7b42da7ec",
   "metadata": {},
   "outputs": [],
   "source": [
    "c.real"
   ]
  },
  {
   "cell_type": "code",
   "execution_count": null,
   "id": "cce4c04d-3a92-4e57-a4d8-9bbc660ca36c",
   "metadata": {},
   "outputs": [],
   "source": [
    "c.imag"
   ]
  },
  {
   "cell_type": "code",
   "execution_count": null,
   "id": "54a32744-3860-41f8-bc2d-4bfc5d938b66",
   "metadata": {},
   "outputs": [],
   "source": [
    "# Rules of define variable  >> A variable start with a letter(alphabet) or underscore character,it should not be keyword"
   ]
  },
  {
   "cell_type": "code",
   "execution_count": null,
   "id": "06f4ce83-1104-4bef-938b-77564212e5cf",
   "metadata": {},
   "outputs": [],
   "source": [
    "# invalid ways"
   ]
  },
  {
   "cell_type": "code",
   "execution_count": null,
   "id": "2a41e6b1-0b1d-4177-a3bb-194ff5a78e83",
   "metadata": {},
   "outputs": [],
   "source": []
  },
  {
   "cell_type": "code",
   "execution_count": null,
   "id": "dcbfba29-9340-4040-beb2-ca05534fbf0a",
   "metadata": {},
   "outputs": [],
   "source": [
    "5 = a"
   ]
  },
  {
   "cell_type": "code",
   "execution_count": null,
   "id": "402ec7a7-b007-44cb-bf96-280ca2c4ec77",
   "metadata": {},
   "outputs": [],
   "source": [
    "2.3 = b"
   ]
  },
  {
   "cell_type": "code",
   "execution_count": null,
   "id": "50ae5a49-dbdb-4e13-a2fa-4098178ce72f",
   "metadata": {},
   "outputs": [],
   "source": [
    "1name = \"cdhbdv\""
   ]
  },
  {
   "cell_type": "code",
   "execution_count": null,
   "id": "8c4f52a8-f08f-466c-9571-bbb5b0573e54",
   "metadata": {},
   "outputs": [],
   "source": [
    "1 = kfvnfv"
   ]
  },
  {
   "cell_type": "code",
   "execution_count": null,
   "id": "927fe045-a1a9-4d8e-af7d-67a28f0448db",
   "metadata": {},
   "outputs": [],
   "source": [
    "# difine valid rule"
   ]
  },
  {
   "cell_type": "code",
   "execution_count": null,
   "id": "1e68b31a-8982-4305-915d-7a236db42296",
   "metadata": {},
   "outputs": [],
   "source": [
    "name = \"pratap\"\n",
    "name"
   ]
  },
  {
   "cell_type": "code",
   "execution_count": null,
   "id": "f71c3465-df68-488d-bccd-5c827d67a752",
   "metadata": {},
   "outputs": [],
   "source": [
    "abc = \"pratap\"\n",
    "abc"
   ]
  },
  {
   "cell_type": "code",
   "execution_count": null,
   "id": "aa8322d3-7d99-4cbe-a54e-43952ba725d9",
   "metadata": {},
   "outputs": [],
   "source": [
    "location = \"suarta\"\n",
    "location"
   ]
  },
  {
   "cell_type": "code",
   "execution_count": null,
   "id": "30babfd6-8763-4b36-a827-e0d69d43a9e3",
   "metadata": {},
   "outputs": [],
   "source": [
    "_name = \"pratap\"\n",
    "_name"
   ]
  },
  {
   "cell_type": "code",
   "execution_count": null,
   "id": "58cfa152-8070-411d-b00a-cd8e19850bb2",
   "metadata": {},
   "outputs": [],
   "source": [
    "data_analytics_course = \"pwskills\"\n",
    "data_analytics_course"
   ]
  },
  {
   "cell_type": "code",
   "execution_count": null,
   "id": "975dfce1-40ca-4552-af8c-c3332f6f36ec",
   "metadata": {},
   "outputs": [],
   "source": [
    "# invalid ways"
   ]
  },
  {
   "cell_type": "code",
   "execution_count": null,
   "id": "1ab9ca2f-42b1-47e0-8997-2b09ef7be69f",
   "metadata": {},
   "outputs": [],
   "source": [
    "a-bc = \"ram\""
   ]
  },
  {
   "cell_type": "code",
   "execution_count": null,
   "id": "66244bc8-2865-40ff-a8fd-3ea9998367ca",
   "metadata": {},
   "outputs": [],
   "source": [
    "data-science = \"pwskills\""
   ]
  },
  {
   "cell_type": "code",
   "execution_count": null,
   "id": "4e912b92-5c0e-4eee-96ac-9cfd9681f03b",
   "metadata": {},
   "outputs": [],
   "source": [
    "data analytics course = \"pwskills\""
   ]
  },
  {
   "cell_type": "code",
   "execution_count": null,
   "id": "aa93707e-0c2b-4e8f-be15-0ff6905b0209",
   "metadata": {},
   "outputs": [],
   "source": [
    "@sbsd = \"ram\""
   ]
  },
  {
   "cell_type": "code",
   "execution_count": null,
   "id": "753c3f26-798a-4e06-87f5-8ce428020217",
   "metadata": {},
   "outputs": [],
   "source": [
    "# comments :- it is not executed code"
   ]
  },
  {
   "cell_type": "code",
   "execution_count": null,
   "id": "f5bd571d-04f0-4410-88e3-e4aa3e4989d1",
   "metadata": {},
   "outputs": [],
   "source": [
    "# This is a way to define comments\n",
    "a=3\n",
    "b=4\n",
    "c=a+b\n",
    "#c"
   ]
  },
  {
   "cell_type": "code",
   "execution_count": null,
   "id": "e920bb76-9566-48df-848f-e2429d5dd21a",
   "metadata": {},
   "outputs": [],
   "source": [
    "a=3\n",
    "b=4\n",
    "c=a+b\n",
    "c"
   ]
  },
  {
   "cell_type": "code",
   "execution_count": null,
   "id": "b7a7f70b-9a05-4a85-989d-783dbfcf49a2",
   "metadata": {},
   "outputs": [],
   "source": [
    "# multiline comments\n",
    "'''\n",
    "this is a first line comments\n",
    "this is a second line comments\n",
    "this is a third line comments\n",
    "this is a fourth line comments   '''"
   ]
  },
  {
   "cell_type": "code",
   "execution_count": null,
   "id": "307b9cc9-17a8-4352-9f08-9db7683dac78",
   "metadata": {},
   "outputs": [],
   "source": [
    "# multiline comments\n",
    "\"\"\"\n",
    "this is a first line comments\n",
    "this is a second line comments\n",
    "this is a third line comments\n",
    "this is a fourth line comments   \"\"\""
   ]
  },
  {
   "cell_type": "code",
   "execution_count": null,
   "id": "387135b4-dc32-4bbc-a9df-58b844f77d09",
   "metadata": {},
   "outputs": [],
   "source": [
    "'''a=3\n",
    "b=4\n",
    "c=a+b\n",
    "c'''"
   ]
  },
  {
   "cell_type": "code",
   "execution_count": null,
   "id": "3e4addaf-c01e-4eac-94d9-4226ccb1c8cb",
   "metadata": {},
   "outputs": [],
   "source": [
    "a=3\n",
    "b=4\n",
    "c=a+b\n",
    "c"
   ]
  },
  {
   "cell_type": "code",
   "execution_count": null,
   "id": "3dc69c77-59ba-40ce-b071-9bd8219a54ee",
   "metadata": {},
   "outputs": [],
   "source": [
    "\"\"\"a=3\n",
    "b=4\n",
    "c=a+b\n",
    "c\"\"\""
   ]
  },
  {
   "cell_type": "code",
   "execution_count": null,
   "id": "86986d96-3ffe-4098-8b25-f0adabb9d5dd",
   "metadata": {},
   "outputs": [],
   "source": [
    "print(\"hello world\")\n",
    "type(a)"
   ]
  },
  {
   "cell_type": "code",
   "execution_count": null,
   "id": "2cfec0d7-1db7-4e52-b22d-dab84837861e",
   "metadata": {},
   "outputs": [],
   "source": [
    "# keywords >> are predefined words that hold a special meaning and have specific purpose in python"
   ]
  },
  {
   "cell_type": "code",
   "execution_count": null,
   "id": "8a5b1138-46be-47dc-809b-8ae2aceb7992",
   "metadata": {},
   "outputs": [],
   "source": [
    "help('keywords')"
   ]
  },
  {
   "cell_type": "code",
   "execution_count": null,
   "id": "53c92032-3d13-467a-9d31-e6573511c9b2",
   "metadata": {},
   "outputs": [],
   "source": [
    "#indentation  >> more readable\n",
    "if 3 > 2:\n",
    "    print(\"Greater\")"
   ]
  },
  {
   "cell_type": "code",
   "execution_count": null,
   "id": "45f5f8bc-f5fc-4ebe-8ec1-1bd0ab51b925",
   "metadata": {},
   "outputs": [],
   "source": [
    "a = 3   # statement >> fundamental block of code\n",
    "name = \"Ajay\"\n",
    "\n",
    "# statement can be of many types >> expression,assignment,condition,loop"
   ]
  },
  {
   "cell_type": "code",
   "execution_count": null,
   "id": "0b0f54e4-1e78-47cc-9870-abcff9648f36",
   "metadata": {},
   "outputs": [],
   "source": [
    "#assignment statement\n",
    "a=5"
   ]
  },
  {
   "cell_type": "code",
   "execution_count": null,
   "id": "77530700-d019-4880-b347-f7da2aca8c20",
   "metadata": {},
   "outputs": [],
   "source": [
    "a=5   #assignment\n",
    "b=3   #assignment\n",
    "a+b #expression statement"
   ]
  },
  {
   "cell_type": "code",
   "execution_count": null,
   "id": "eaeada39-a86b-47c3-9eeb-e871b18a2c86",
   "metadata": {},
   "outputs": [],
   "source": [
    "a=2\n",
    "a"
   ]
  },
  {
   "cell_type": "code",
   "execution_count": null,
   "id": "0f793928-de5e-42d5-abb7-1f5bbc94502c",
   "metadata": {},
   "outputs": [],
   "source": [
    "#input output  >> if you want some user to give value of variable"
   ]
  },
  {
   "cell_type": "raw",
   "id": "0e798568-1359-4ecd-a3c8-5aedb9976b83",
   "metadata": {},
   "source": [
    "name = input(\"Please enter your name: \")\n"
   ]
  },
  {
   "cell_type": "code",
   "execution_count": null,
   "id": "9240811a-bf93-40b7-8202-3a7a9ba55dc4",
   "metadata": {},
   "outputs": [],
   "source": [
    "name\n"
   ]
  },
  {
   "cell_type": "code",
   "execution_count": 1,
   "id": "96e8d320-8048-456f-9b1e-cfb210dec1a4",
   "metadata": {},
   "outputs": [
    {
     "name": "stdout",
     "output_type": "stream",
     "text": [
      "3\n"
     ]
    }
   ],
   "source": [
    "a =3\n",
    "print(a)"
   ]
  },
  {
   "cell_type": "code",
   "execution_count": 2,
   "id": "a824793c-9aaa-4461-9d89-9aa7051cf69d",
   "metadata": {},
   "outputs": [],
   "source": [
    "a=2\n",
    "b=3\n",
    "c=a+b\n"
   ]
  },
  {
   "cell_type": "code",
   "execution_count": 3,
   "id": "1f2f7b59-07d5-481d-8702-5d2644270fcb",
   "metadata": {},
   "outputs": [
    {
     "data": {
      "text/plain": [
       "5"
      ]
     },
     "execution_count": 3,
     "metadata": {},
     "output_type": "execute_result"
    }
   ],
   "source": [
    "c"
   ]
  },
  {
   "cell_type": "raw",
   "id": "cb738045-f1b4-4571-bc8d-f50dab180323",
   "metadata": {},
   "source": [
    "number = int(input(\"Enter your number: \"))"
   ]
  },
  {
   "cell_type": "code",
   "execution_count": null,
   "id": "86f42e8b-47b7-432a-bd8f-4af90894b75b",
   "metadata": {},
   "outputs": [],
   "source": [
    "# input actually take every value as a string\n",
    "#we can convert '2' as int"
   ]
  },
  {
   "cell_type": "code",
   "execution_count": null,
   "id": "4c0c1dcd-a4c8-4f9d-a12d-134895df26aa",
   "metadata": {},
   "outputs": [],
   "source": [
    "#Type casting >> cast means to change the format\n",
    "name = int(name)"
   ]
  },
  {
   "cell_type": "code",
   "execution_count": null,
   "id": "9999d148-f2fb-4e22-90a2-4cba5874d765",
   "metadata": {},
   "outputs": [],
   "source": [
    "# python is a case sensitive language"
   ]
  },
  {
   "cell_type": "code",
   "execution_count": null,
   "id": "036f8a62-be25-4123-ba4d-f250c41a8073",
   "metadata": {},
   "outputs": [],
   "source": []
  },
  {
   "cell_type": "code",
   "execution_count": null,
   "id": "7ac9a0ee-1e38-4f95-b7a6-6e31e8cd552e",
   "metadata": {},
   "outputs": [],
   "source": []
  },
  {
   "cell_type": "code",
   "execution_count": null,
   "id": "228ed3fa-d50a-4fe0-ae42-d3a5f325989b",
   "metadata": {},
   "outputs": [],
   "source": []
  },
  {
   "cell_type": "code",
   "execution_count": null,
   "id": "1655d79b-c15d-44dd-b774-700b4a5f4d4a",
   "metadata": {},
   "outputs": [],
   "source": []
  },
  {
   "cell_type": "code",
   "execution_count": null,
   "id": "fc5b1cc8-f085-4202-b675-026947662ed3",
   "metadata": {},
   "outputs": [],
   "source": []
  },
  {
   "cell_type": "code",
   "execution_count": null,
   "id": "9be60b69-02bf-4cd7-bd0a-ef15246df5bb",
   "metadata": {},
   "outputs": [],
   "source": []
  },
  {
   "cell_type": "code",
   "execution_count": null,
   "id": "61469e2d-4e0d-4560-bd9a-3cc43f454d36",
   "metadata": {},
   "outputs": [],
   "source": []
  },
  {
   "cell_type": "code",
   "execution_count": null,
   "id": "578a9357-f816-4c48-92a6-acd2276a8005",
   "metadata": {},
   "outputs": [],
   "source": []
  },
  {
   "cell_type": "code",
   "execution_count": null,
   "id": "92afa31c-0b19-435c-b949-53e8cd39f18b",
   "metadata": {},
   "outputs": [],
   "source": []
  },
  {
   "cell_type": "code",
   "execution_count": null,
   "id": "352c6a97-4955-4d31-9e3f-0d92a73dd260",
   "metadata": {},
   "outputs": [],
   "source": []
  },
  {
   "cell_type": "code",
   "execution_count": null,
   "id": "e2b06a9d-74d7-4ba9-bfc1-d11372f5f596",
   "metadata": {},
   "outputs": [],
   "source": []
  },
  {
   "cell_type": "code",
   "execution_count": null,
   "id": "fba9365e-1f66-433a-92f6-01a2790c7eb1",
   "metadata": {},
   "outputs": [],
   "source": []
  },
  {
   "cell_type": "code",
   "execution_count": null,
   "id": "f3c57849-00d7-40cf-a123-7f1a5e4adefb",
   "metadata": {},
   "outputs": [],
   "source": []
  },
  {
   "cell_type": "code",
   "execution_count": null,
   "id": "4b6ec9d6-fc71-4b5f-810e-0a2c0aac6b4a",
   "metadata": {},
   "outputs": [],
   "source": []
  },
  {
   "cell_type": "code",
   "execution_count": null,
   "id": "72f47c6b-c0df-446e-b532-594fd4242ed0",
   "metadata": {},
   "outputs": [],
   "source": []
  }
 ],
 "metadata": {
  "kernelspec": {
   "display_name": "Python 3 (ipykernel)",
   "language": "python",
   "name": "python3"
  },
  "language_info": {
   "codemirror_mode": {
    "name": "ipython",
    "version": 3
   },
   "file_extension": ".py",
   "mimetype": "text/x-python",
   "name": "python",
   "nbconvert_exporter": "python",
   "pygments_lexer": "ipython3",
   "version": "3.11.9"
  }
 },
 "nbformat": 4,
 "nbformat_minor": 5
}
