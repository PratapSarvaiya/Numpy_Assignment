{
 "cells": [
  {
   "cell_type": "code",
   "execution_count": 3,
   "id": "a7ef281f-09c7-44b6-a706-3cbe34ec2f79",
   "metadata": {},
   "outputs": [
    {
     "data": {
      "text/plain": [
       "'patarp'"
      ]
     },
     "execution_count": 3,
     "metadata": {},
     "output_type": "execute_result"
    }
   ],
   "source": [
    "# 1. write a code to reverse a string.\n",
    "\n",
    "str = \"pratap\"\n",
    "str[::-1]"
   ]
  },
  {
   "cell_type": "code",
   "execution_count": 5,
   "id": "45553bd4-3e07-4aef-9c27-1b229250519f",
   "metadata": {},
   "outputs": [
    {
     "name": "stdin",
     "output_type": "stream",
     "text": [
      "Text:  Welcome Output\n"
     ]
    },
    {
     "name": "stdout",
     "output_type": "stream",
     "text": [
      "Count: 6\n"
     ]
    }
   ],
   "source": [
    "# 2. write a code to count the number of vowels in a string.\n",
    "\n",
    "str = input(\"Text: \")\n",
    "\n",
    "count = 0\n",
    "for character in str:\n",
    "    if (character in \"aAeEiIoOuU\"):\n",
    "        count += 1\n",
    "print(\"Count:\",count)"
   ]
  },
  {
   "cell_type": "code",
   "execution_count": 8,
   "id": "2651a53a-e292-42ae-9957-236c73dcb638",
   "metadata": {},
   "outputs": [
    {
     "name": "stdin",
     "output_type": "stream",
     "text": [
      "please enter the string:  madam\n"
     ]
    },
    {
     "name": "stdout",
     "output_type": "stream",
     "text": [
      "The string is palindrome.\n"
     ]
    }
   ],
   "source": [
    "# 3. write a code to check if a given string is a palindrome or not.\n",
    "\n",
    "string = input(\"please enter the string: \")\n",
    "def palindrome(string):\n",
    "    if(string == string[::-1]):\n",
    "        print(\"The string is palindrome.\")\n",
    "    else:\n",
    "         print(\"The string is not a palindrome.\")\n",
    "palindrome(string)"
   ]
  },
  {
   "cell_type": "code",
   "execution_count": 5,
   "id": "e6c97702-844f-4f46-b2ff-804b3140c217",
   "metadata": {},
   "outputs": [
    {
     "name": "stdin",
     "output_type": "stream",
     "text": [
      "please enter string1:  listen\n",
      "please enter string2:  prata\n"
     ]
    },
    {
     "name": "stdout",
     "output_type": "stream",
     "text": [
      "Not Anagrams\n"
     ]
    }
   ],
   "source": [
    "# 4. write a code to check if two given strings are anagrams of each other.\n",
    "\n",
    "s1 = input(\"please enter string1: \")\n",
    "s2 = input(\"please enter string2: \")\n",
    "\n",
    "if len(s1)!=len(s2):\n",
    "    print(\"Not Anagrams\")\n",
    "else:\n",
    "    if sorted(s1)==sorted(s2):\n",
    "        print(\"Strings are Anagrams\")\n",
    "    else:\n",
    "        print(\"Not anagrams\")"
   ]
  },
  {
   "cell_type": "code",
   "execution_count": 7,
   "id": "d757ba5f-adb9-43f5-a70a-afaef5805301",
   "metadata": {},
   "outputs": [
    {
     "name": "stdin",
     "output_type": "stream",
     "text": [
      "Please enter your string:  pratap\n"
     ]
    },
    {
     "name": "stdout",
     "output_type": "stream",
     "text": [
      "['p', 'pr', 'pra', 'prat', 'prata', 'pratap', 'r', 'ra', 'rat', 'rata', 'ratap', 'a', 'at', 'ata', 'atap', 't', 'ta', 'tap', 'a', 'ap', 'p']\n"
     ]
    }
   ],
   "source": [
    "# 5. Write a code to find all occurences of a given substring within another string.\n",
    "\n",
    "str = input(\"Please enter your string: \")\n",
    "subs = []\n",
    "for i in range(0,len(str)):\n",
    "    for j in range(i+1,len(str)+1):\n",
    "        subs.append(str[i:j])\n",
    "print(subs)"
   ]
  },
  {
   "cell_type": "code",
   "execution_count": 24,
   "id": "51c647a3-cbe7-4d4f-b212-bbb0b847fd71",
   "metadata": {},
   "outputs": [
    {
     "name": "stdin",
     "output_type": "stream",
     "text": [
      "Please enter string value:  aaaassshhhjjjjkklloiieeiii\n"
     ]
    },
    {
     "name": "stdout",
     "output_type": "stream",
     "text": [
      "a   4 times\n",
      "s   3 times\n",
      "h   3 times\n",
      "j   4 times\n",
      "k   2 times\n",
      "l   2 times\n",
      "o   1 times\n",
      "i   5 times\n",
      "e   2 times\n"
     ]
    }
   ],
   "source": [
    "# 6. Write a code to perform basic string compression using the counts of repeated characters.\n",
    "\n",
    "string = input(\"Please enter string value: \")\n",
    "lst = []\n",
    "\n",
    "for data in string:\n",
    "    if data not in lst:\n",
    "        lst.append(data)\n",
    "for char in lst:\n",
    "    print(char, \" \",string.count(char),\"times\")"
   ]
  },
  {
   "cell_type": "code",
   "execution_count": 29,
   "id": "bf0436d9-4468-4133-a0d3-a248842924b3",
   "metadata": {},
   "outputs": [
    {
     "name": "stdin",
     "output_type": "stream",
     "text": [
      " aaabbbcc\n"
     ]
    },
    {
     "name": "stdout",
     "output_type": "stream",
     "text": [
      "The string pratap contains all unique elements\n"
     ]
    }
   ],
   "source": [
    "# 7. Write a code to determine if a string has all unique characters.\n",
    "\n",
    "def unique_char(s):\n",
    "    sorted(s)\n",
    "    for i in range(len(s)-1):\n",
    "        if s[i]==s[i+1]:\n",
    "            return False\n",
    "        return True\n",
    "s = input().lower()\n",
    "if unique_char(s):\n",
    "    print(\"The string\",s,\"contains all unique elements\")\n",
    "else:\n",
    "    print(\"The string\",s,\"contains all duplicate elements\")"
   ]
  },
  {
   "cell_type": "code",
   "execution_count": null,
   "id": "dd2e7805-e5d9-45ce-8094-53cb6e2fb26d",
   "metadata": {},
   "outputs": [],
   "source": []
  },
  {
   "cell_type": "code",
   "execution_count": null,
   "id": "e0038764-7233-4fdd-8a3a-85fd22697ee6",
   "metadata": {},
   "outputs": [],
   "source": []
  },
  {
   "cell_type": "code",
   "execution_count": null,
   "id": "1ed1d1a6-6444-4b68-a5ec-29940c80ac9c",
   "metadata": {},
   "outputs": [],
   "source": []
  },
  {
   "cell_type": "code",
   "execution_count": null,
   "id": "a7c1f7aa-2f12-4811-90f8-0578a5ddb7e2",
   "metadata": {},
   "outputs": [],
   "source": []
  },
  {
   "cell_type": "code",
   "execution_count": null,
   "id": "b132e6b4-beef-4874-86c0-3d7e9a5622f1",
   "metadata": {},
   "outputs": [],
   "source": []
  },
  {
   "cell_type": "code",
   "execution_count": null,
   "id": "39ed8aca-9ceb-4584-83ad-717b0a3c3fa5",
   "metadata": {},
   "outputs": [],
   "source": []
  },
  {
   "cell_type": "code",
   "execution_count": null,
   "id": "34f5bc12-eb50-4ef8-a47f-ccce2d6ced98",
   "metadata": {},
   "outputs": [],
   "source": []
  },
  {
   "cell_type": "code",
   "execution_count": null,
   "id": "010a550c-986d-4f1d-8eaf-bce0d967f572",
   "metadata": {},
   "outputs": [],
   "source": []
  },
  {
   "cell_type": "code",
   "execution_count": null,
   "id": "b7712489-6182-4fcb-ad16-544177ee5476",
   "metadata": {},
   "outputs": [],
   "source": []
  },
  {
   "cell_type": "code",
   "execution_count": null,
   "id": "1dcf4651-c539-4477-9f31-7e9c4c2fc833",
   "metadata": {},
   "outputs": [],
   "source": []
  },
  {
   "cell_type": "code",
   "execution_count": null,
   "id": "f25b7168-4727-4889-91ca-66cbd880fa3d",
   "metadata": {},
   "outputs": [],
   "source": []
  }
 ],
 "metadata": {
  "kernelspec": {
   "display_name": "Python 3 (ipykernel)",
   "language": "python",
   "name": "python3"
  },
  "language_info": {
   "codemirror_mode": {
    "name": "ipython",
    "version": 3
   },
   "file_extension": ".py",
   "mimetype": "text/x-python",
   "name": "python",
   "nbconvert_exporter": "python",
   "pygments_lexer": "ipython3",
   "version": "3.11.9"
  }
 },
 "nbformat": 4,
 "nbformat_minor": 5
}
