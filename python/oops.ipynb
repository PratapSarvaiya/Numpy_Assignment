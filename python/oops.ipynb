{
 "cells": [
  {
   "cell_type": "code",
   "execution_count": 1,
   "id": "e1a1f867-df11-46e8-9443-a31740b4c40b",
   "metadata": {},
   "outputs": [
    {
     "data": {
      "text/plain": [
       "5"
      ]
     },
     "execution_count": 1,
     "metadata": {},
     "output_type": "execute_result"
    }
   ],
   "source": [
    "# oops >> object oriented programing system\n",
    "a=5\n",
    "a"
   ]
  },
  {
   "cell_type": "code",
   "execution_count": 2,
   "id": "cf8715ee-3bf0-49f8-860d-19ed8081be33",
   "metadata": {},
   "outputs": [
    {
     "name": "stdout",
     "output_type": "stream",
     "text": [
      "<class 'int'>\n"
     ]
    }
   ],
   "source": [
    "print(type(a))"
   ]
  },
  {
   "cell_type": "code",
   "execution_count": 3,
   "id": "d77e299d-fb58-47e9-9068-b42f55798e54",
   "metadata": {},
   "outputs": [
    {
     "name": "stdout",
     "output_type": "stream",
     "text": [
      "<class 'str'>\n"
     ]
    }
   ],
   "source": [
    "s=\"pwskills\"\n",
    "print(type(s))"
   ]
  },
  {
   "cell_type": "code",
   "execution_count": null,
   "id": "06e94212-e6f9-41cc-9eb8-390a7e0e84be",
   "metadata": {},
   "outputs": [],
   "source": [
    "# classes are blueprint/template for creating an object"
   ]
  },
  {
   "cell_type": "code",
   "execution_count": 4,
   "id": "5bf677cd-41b0-429f-9392-38d265c3e511",
   "metadata": {},
   "outputs": [
    {
     "name": "stdout",
     "output_type": "stream",
     "text": [
      "<class 'str'>\n"
     ]
    }
   ],
   "source": [
    "a = \"ajay\"\n",
    "print(type(a))"
   ]
  },
  {
   "cell_type": "code",
   "execution_count": null,
   "id": "386b8c57-1cff-4a69-9194-077528828efa",
   "metadata": {},
   "outputs": [],
   "source": [
    "# iit form(template) example, cars example,human being example\n",
    "# classes are blueprint/template for creating an object\n",
    "# we are different objects of class human being\n",
    "# gujiya maker, thekwa maker"
   ]
  },
  {
   "cell_type": "code",
   "execution_count": 6,
   "id": "3a9132c1-2bbe-4cc7-bf9a-557f3aeae449",
   "metadata": {},
   "outputs": [],
   "source": [
    "# class car is nothing but a template\n",
    "class Car: # naming convention >> uppercamel case\n",
    "    pass"
   ]
  },
  {
   "cell_type": "code",
   "execution_count": 7,
   "id": "3425d44a-79bb-4c61-a9e1-149526a3f91c",
   "metadata": {},
   "outputs": [],
   "source": [
    "c1 = Car()  # instance/object"
   ]
  },
  {
   "cell_type": "code",
   "execution_count": 8,
   "id": "e854fe3a-40a8-4350-ace1-5464d1f1f671",
   "metadata": {},
   "outputs": [
    {
     "name": "stdout",
     "output_type": "stream",
     "text": [
      "<class '__main__.Car'>\n"
     ]
    }
   ],
   "source": [
    "print(type(c1))"
   ]
  },
  {
   "cell_type": "code",
   "execution_count": null,
   "id": "fd708e13-32e5-4b79-82e4-ef1dea7313a6",
   "metadata": {},
   "outputs": [],
   "source": [
    "# why oops ? we already had function\n",
    "# a project can have many components, say backend(f1,f2), frontend (f3,f4), data pipeline(f5,f6)\n",
    "\n",
    "def f1():\n",
    "    pass\n",
    "def f6():\n",
    "    pass\n",
    "def f4():\n",
    "    pass\n",
    "def f2():\n",
    "    pass\n",
    "def f5():\n",
    "    pass\n",
    "def f3():\n",
    "    pass\n",
    "# if a backend developer wants to work/change some backend function  >>> all the functions are at one place\n",
    "# oops helps you to arrange the required functions in respective classes"
   ]
  },
  {
   "cell_type": "code",
   "execution_count": 9,
   "id": "6c018c86-a4b0-4a3b-ac17-8dd80052ebaf",
   "metadata": {},
   "outputs": [],
   "source": [
    "class Car:\n",
    "    pass"
   ]
  },
  {
   "cell_type": "code",
   "execution_count": 10,
   "id": "c3f66f07-ddfb-450e-85d0-a551c9dc6dd3",
   "metadata": {},
   "outputs": [
    {
     "name": "stdout",
     "output_type": "stream",
     "text": [
      "<class '__main__.Car'>\n"
     ]
    }
   ],
   "source": [
    "c1=Car()\n",
    "print(type(c1))"
   ]
  },
  {
   "cell_type": "code",
   "execution_count": 11,
   "id": "0820ccd7-3d74-4415-b9c2-02b163429d90",
   "metadata": {},
   "outputs": [],
   "source": [
    "class Car:  # function/method of a car\n",
    "    def accelerate():\n",
    "        print(\"Car is accelerating\")\n"
   ]
  },
  {
   "cell_type": "code",
   "execution_count": 12,
   "id": "5b83387f-6934-472a-adb8-c5054d2dfdc2",
   "metadata": {},
   "outputs": [],
   "source": [
    "c1 = Car()"
   ]
  },
  {
   "cell_type": "code",
   "execution_count": 14,
   "id": "a9f688e1-3e03-40e7-8448-5205dd878ed7",
   "metadata": {},
   "outputs": [
    {
     "ename": "TypeError",
     "evalue": "Car.accelerate() takes 0 positional arguments but 1 was given",
     "output_type": "error",
     "traceback": [
      "\u001b[1;31m---------------------------------------------------------------------------\u001b[0m",
      "\u001b[1;31mTypeError\u001b[0m                                 Traceback (most recent call last)",
      "Cell \u001b[1;32mIn[14], line 1\u001b[0m\n\u001b[1;32m----> 1\u001b[0m \u001b[43mc1\u001b[49m\u001b[38;5;241;43m.\u001b[39;49m\u001b[43maccelerate\u001b[49m\u001b[43m(\u001b[49m\u001b[43m)\u001b[49m  \u001b[38;5;66;03m# it will throw an error\u001b[39;00m\n",
      "\u001b[1;31mTypeError\u001b[0m: Car.accelerate() takes 0 positional arguments but 1 was given"
     ]
    }
   ],
   "source": [
    "c1.accelerate  # it will throw an error"
   ]
  },
  {
   "cell_type": "code",
   "execution_count": 15,
   "id": "90c0a3ee-b2ec-411c-8b7c-292c25bc3d5d",
   "metadata": {},
   "outputs": [],
   "source": [
    "class Car:  # function/method of a car\n",
    "    def accelerate(self):\n",
    "        print(\"Car is accelerating\")\n",
    "  # self >> a variable that represent instance of the class using which you can access method/function of the class,also attribute/property/data of the class\n",
    "  # self makes sure that each object knows that the method is associated with it\n",
    "  # in other words the method is referenced to that particular object"
   ]
  },
  {
   "cell_type": "code",
   "execution_count": 17,
   "id": "37d862eb-defd-4041-beb3-35c2f9b7a2c7",
   "metadata": {},
   "outputs": [
    {
     "name": "stdout",
     "output_type": "stream",
     "text": [
      "Car is accelerating\n"
     ]
    }
   ],
   "source": [
    "a1 = Car()\n",
    "a1.accelerate()"
   ]
  },
  {
   "cell_type": "code",
   "execution_count": 18,
   "id": "00487597-3507-4991-8f57-c60ce1074746",
   "metadata": {},
   "outputs": [
    {
     "name": "stdout",
     "output_type": "stream",
     "text": [
      "Car is accelerating\n"
     ]
    }
   ],
   "source": [
    "a2 = Car()\n",
    "a2.accelerate()"
   ]
  },
  {
   "cell_type": "code",
   "execution_count": 19,
   "id": "999e6f70-1ec4-4651-83d0-39cf5f95f575",
   "metadata": {},
   "outputs": [],
   "source": [
    "class Car:  \n",
    "    def accelerate(self):\n",
    "        print(\"Car is accelerating\")\n",
    "    def brake(self):\n",
    "        print(\"Car is stopping\")"
   ]
  },
  {
   "cell_type": "code",
   "execution_count": 20,
   "id": "67120678-5138-45cb-8e5b-df90efe3a2c0",
   "metadata": {},
   "outputs": [
    {
     "name": "stdout",
     "output_type": "stream",
     "text": [
      "Car is stopping\n"
     ]
    }
   ],
   "source": [
    "a1 = Car()\n",
    "a1.brake()"
   ]
  },
  {
   "cell_type": "code",
   "execution_count": 21,
   "id": "a71c0fe1-2b82-485b-b21c-a1c5b62c2231",
   "metadata": {},
   "outputs": [
    {
     "name": "stdout",
     "output_type": "stream",
     "text": [
      "Car is accelerating\n"
     ]
    }
   ],
   "source": [
    "a1.accelerate()"
   ]
  },
  {
   "cell_type": "code",
   "execution_count": 42,
   "id": "5393936a-14ad-4e9f-aff5-24488dea4dbf",
   "metadata": {},
   "outputs": [],
   "source": [
    "class Bank:\n",
    "    def deposit(self):\n",
    "        print(\"I am depositing money\")\n",
    "    def withdraw(self):\n",
    "        print(\"I am trying to withdraw money\")\n",
    "# self is not a python keyword, you can pass any variable name  \n",
    "# best practice is to pass self"
   ]
  },
  {
   "cell_type": "code",
   "execution_count": 43,
   "id": "3320a18c-4d2c-4163-800c-6baab28982f5",
   "metadata": {},
   "outputs": [
    {
     "name": "stdout",
     "output_type": "stream",
     "text": [
      "I am depositing money\n"
     ]
    }
   ],
   "source": [
    "a1 = Bank()\n",
    "a1.deposit()"
   ]
  },
  {
   "cell_type": "code",
   "execution_count": 44,
   "id": "6ab01044-0c9e-4af0-b375-b05161b86dd3",
   "metadata": {},
   "outputs": [
    {
     "name": "stdout",
     "output_type": "stream",
     "text": [
      "I am trying to withdraw money\n"
     ]
    }
   ],
   "source": [
    "a1 = Bank()\n",
    "a1.withdraw()"
   ]
  },
  {
   "cell_type": "code",
   "execution_count": 30,
   "id": "c0f9d868-e20d-4061-909c-b08d17c4d834",
   "metadata": {},
   "outputs": [
    {
     "name": "stdout",
     "output_type": "stream",
     "text": [
      "I am depositing money\n"
     ]
    }
   ],
   "source": [
    "a2 = Bank()\n",
    "a2.deposit()"
   ]
  },
  {
   "cell_type": "code",
   "execution_count": 39,
   "id": "e025a912-7980-45c2-9577-c847980e702e",
   "metadata": {},
   "outputs": [],
   "source": [
    "# passing data in the class >> can also be called as property/attribute\n",
    "class Bank:\n",
    "    def deposit(self,amount):\n",
    "        print(\"I am depositing money\")\n",
    "    def withdraw(self,amount_withdraw):\n",
    "        print(\"I am trying to withdraw money\")"
   ]
  },
  {
   "cell_type": "code",
   "execution_count": 40,
   "id": "478dea29-e9f4-4b0a-9e77-8184c65e40cb",
   "metadata": {},
   "outputs": [
    {
     "name": "stdout",
     "output_type": "stream",
     "text": [
      "I am depositing money\n"
     ]
    }
   ],
   "source": [
    "pratap = Bank()\n",
    "pratap.deposit(1000)"
   ]
  },
  {
   "cell_type": "code",
   "execution_count": 41,
   "id": "90c9c81f-3e35-457d-b2a1-bb960f231f2b",
   "metadata": {},
   "outputs": [
    {
     "name": "stdout",
     "output_type": "stream",
     "text": [
      "I am trying to withdraw money\n"
     ]
    }
   ],
   "source": [
    "pratap.withdraw(300)"
   ]
  },
  {
   "cell_type": "code",
   "execution_count": 45,
   "id": "f6a76298-87e9-4450-bc6d-a893bd495b9b",
   "metadata": {},
   "outputs": [],
   "source": [
    "# bank will ask for a default amount, amount is attribute/property/data of class bank\n",
    "class Bank:\n",
    "    amount = 1000\n",
    "    def deposit(self,amount):\n",
    "        print(\"I am depositing money\")\n",
    "    def withdraw(self,amount_withdraw):\n",
    "        print(\"I am trying to withdraw money\")"
   ]
  },
  {
   "cell_type": "code",
   "execution_count": 46,
   "id": "10ff121f-3935-4451-a21d-69c745f4cd55",
   "metadata": {},
   "outputs": [
    {
     "name": "stdout",
     "output_type": "stream",
     "text": [
      "I am depositing money\n"
     ]
    }
   ],
   "source": [
    "pratap = Bank()\n",
    "pratap.deposit(1000)"
   ]
  },
  {
   "cell_type": "code",
   "execution_count": 47,
   "id": "0eff9f99-f056-4244-9061-130878c93fa9",
   "metadata": {},
   "outputs": [
    {
     "data": {
      "text/plain": [
       "1000"
      ]
     },
     "execution_count": 47,
     "metadata": {},
     "output_type": "execute_result"
    }
   ],
   "source": [
    "# attribute/property can be also accessed the same way as method/functions are accessed\n",
    "pratap.amount"
   ]
  },
  {
   "cell_type": "code",
   "execution_count": 50,
   "id": "d6253381-32d5-44fc-a7c4-0563c84451e3",
   "metadata": {},
   "outputs": [],
   "source": [
    "# extract odd and even numbers from a list\n",
    "\n",
    "class listops:\n",
    "    l = [1,2,3,4,5]\n",
    "    def extract_even(self,l):\n",
    "        l1 = []\n",
    "        for i in l:\n",
    "            if i%2 == 0:\n",
    "                l1.append(i)\n",
    "        return l1\n",
    "    def extract_odd(self,l):\n",
    "        l1 = []\n",
    "        for i in l:\n",
    "            if i%2 != 0:\n",
    "                l1.append(i)\n",
    "        return l1"
   ]
  },
  {
   "cell_type": "code",
   "execution_count": 51,
   "id": "c7a01273-f0fc-4fc0-97cf-95e6c9dd7baa",
   "metadata": {},
   "outputs": [],
   "source": [
    "ops1 = listops()"
   ]
  },
  {
   "cell_type": "code",
   "execution_count": 52,
   "id": "2f29de94-ed97-481f-b2c2-284ca2d646a6",
   "metadata": {},
   "outputs": [
    {
     "data": {
      "text/plain": [
       "[1, 2, 3, 4, 5]"
      ]
     },
     "execution_count": 52,
     "metadata": {},
     "output_type": "execute_result"
    }
   ],
   "source": [
    "ops1.l"
   ]
  },
  {
   "cell_type": "code",
   "execution_count": 54,
   "id": "ef272aef-0893-44f4-baaa-ae89010df2c1",
   "metadata": {},
   "outputs": [
    {
     "data": {
      "text/plain": [
       "[2, 4]"
      ]
     },
     "execution_count": 54,
     "metadata": {},
     "output_type": "execute_result"
    }
   ],
   "source": [
    "ops1.extract_even(ops1.l)"
   ]
  },
  {
   "cell_type": "code",
   "execution_count": 55,
   "id": "6abeef4f-fea0-42d0-9e9e-708d56d8b4cf",
   "metadata": {},
   "outputs": [
    {
     "data": {
      "text/plain": [
       "[1, 3, 5]"
      ]
     },
     "execution_count": 55,
     "metadata": {},
     "output_type": "execute_result"
    }
   ],
   "source": [
    "ops1.extract_odd(ops1.l)"
   ]
  },
  {
   "cell_type": "code",
   "execution_count": 57,
   "id": "afd762b5-2bbb-477f-88a0-f77eca5574e2",
   "metadata": {},
   "outputs": [
    {
     "data": {
      "text/plain": [
       "[11]"
      ]
     },
     "execution_count": 57,
     "metadata": {},
     "output_type": "execute_result"
    }
   ],
   "source": [
    "ops1.extract_odd([8,11,12,14])"
   ]
  },
  {
   "cell_type": "code",
   "execution_count": 58,
   "id": "7bdf57a0-1157-4c5a-a077-8312dcfd66f8",
   "metadata": {},
   "outputs": [
    {
     "data": {
      "text/plain": [
       "[1, 2, 3, 4, 5]"
      ]
     },
     "execution_count": 58,
     "metadata": {},
     "output_type": "execute_result"
    }
   ],
   "source": [
    "# if you make any object the attribute l is fixed \n",
    "# inspite of passing a different list above you are still getting the fixed l([1,2,3,4,5])\n",
    "ops1.l"
   ]
  },
  {
   "cell_type": "code",
   "execution_count": null,
   "id": "649c9926-94cb-40a1-93de-569458b1cfd9",
   "metadata": {},
   "outputs": [],
   "source": [
    "# you want to take the attribute value of the class for each object defferently"
   ]
  },
  {
   "cell_type": "code",
   "execution_count": 60,
   "id": "1a41022c-6467-4392-af90-ec0a1c94c769",
   "metadata": {},
   "outputs": [],
   "source": [
    "class listops:\n",
    "    def __init__(self, l):\n",
    "        self.l = l\n",
    "        \n",
    "    def extract_even(self,l): # magic method/dunder method. init means of initialisation>> of variable \n",
    "        l1 = []\n",
    "        for i in l:\n",
    "            if i%2 == 0:\n",
    "                l1.append(i)\n",
    "        return l1\n",
    "        \n",
    "    def extract_odd(self,l):\n",
    "        l1 = []\n",
    "        for i in l:\n",
    "            if i%2 != 0:\n",
    "                l1.append(i)\n",
    "        return l1"
   ]
  },
  {
   "cell_type": "code",
   "execution_count": 61,
   "id": "80a39930-98be-4375-8949-eb21e5588d9e",
   "metadata": {},
   "outputs": [
    {
     "ename": "TypeError",
     "evalue": "listops.__init__() missing 1 required positional argument: 'l'",
     "output_type": "error",
     "traceback": [
      "\u001b[1;31m---------------------------------------------------------------------------\u001b[0m",
      "\u001b[1;31mTypeError\u001b[0m                                 Traceback (most recent call last)",
      "Cell \u001b[1;32mIn[61], line 1\u001b[0m\n\u001b[1;32m----> 1\u001b[0m ops1 \u001b[38;5;241m=\u001b[39m \u001b[43mlistops\u001b[49m\u001b[43m(\u001b[49m\u001b[43m)\u001b[49m\n",
      "\u001b[1;31mTypeError\u001b[0m: listops.__init__() missing 1 required positional argument: 'l'"
     ]
    }
   ],
   "source": [
    "ops1 = listops() # thriw an error,while making object/instance of the class, the first method is executed is __init__\n",
    "#  and init needs an argument"
   ]
  },
  {
   "cell_type": "code",
   "execution_count": null,
   "id": "88fb961c-6ee2-4e0c-bdb5-1ac9b5b48b54",
   "metadata": {},
   "outputs": [],
   "source": [
    "ops1 = listops([1,2,3,4,5])"
   ]
  },
  {
   "cell_type": "code",
   "execution_count": 62,
   "id": "a40f80e2-c19e-4f5f-89d1-22d67870f842",
   "metadata": {},
   "outputs": [
    {
     "data": {
      "text/plain": [
       "[1, 2, 3, 4, 5]"
      ]
     },
     "execution_count": 62,
     "metadata": {},
     "output_type": "execute_result"
    }
   ],
   "source": [
    "ops1.l"
   ]
  },
  {
   "cell_type": "code",
   "execution_count": 63,
   "id": "ab7629c9-66f5-4947-840a-1bcbdfd2e3af",
   "metadata": {},
   "outputs": [
    {
     "data": {
      "text/plain": [
       "[1, 1, 1, 30, 31, 4, 5]"
      ]
     },
     "execution_count": 63,
     "metadata": {},
     "output_type": "execute_result"
    }
   ],
   "source": [
    "ops2 = listops([1,1,1,30,31,4,5])\n",
    "ops2.l"
   ]
  },
  {
   "cell_type": "code",
   "execution_count": 64,
   "id": "67205c03-5103-4ba5-9655-5958e32df4ab",
   "metadata": {},
   "outputs": [
    {
     "ename": "TypeError",
     "evalue": "listops.extract_even() missing 1 required positional argument: 'l'",
     "output_type": "error",
     "traceback": [
      "\u001b[1;31m---------------------------------------------------------------------------\u001b[0m",
      "\u001b[1;31mTypeError\u001b[0m                                 Traceback (most recent call last)",
      "Cell \u001b[1;32mIn[64], line 1\u001b[0m\n\u001b[1;32m----> 1\u001b[0m \u001b[43mops1\u001b[49m\u001b[38;5;241;43m.\u001b[39;49m\u001b[43mextract_even\u001b[49m\u001b[43m(\u001b[49m\u001b[43m)\u001b[49m \u001b[38;5;66;03m#throw an error, see the explanation below\u001b[39;00m\n",
      "\u001b[1;31mTypeError\u001b[0m: listops.extract_even() missing 1 required positional argument: 'l'"
     ]
    }
   ],
   "source": [
    "ops1.extract_even() #throw an error, see the explanation below"
   ]
  },
  {
   "cell_type": "code",
   "execution_count": 65,
   "id": "fd3febe6-5529-4cc2-953f-ecbca4a44199",
   "metadata": {},
   "outputs": [],
   "source": [
    "class listops:\n",
    "    def __init__(self, l):  # magic method/dunder method. init means of initialisation>> of variable \n",
    "        self.l = l\n",
    "        \n",
    "    def extract_even(self): # be careful as init has been used only pass self in the method and not the variable again\n",
    "        l = self.l\n",
    "        l1 = []\n",
    "        for i in l:\n",
    "            if i%2 == 0:\n",
    "                l1.append(i)\n",
    "        return l1\n",
    "        \n",
    "    def extract_odd(self):\n",
    "        l = self.l\n",
    "        l1 = []\n",
    "        for i in l:\n",
    "            if i%2 != 0:\n",
    "                l1.append(i)\n",
    "        return l1"
   ]
  },
  {
   "cell_type": "code",
   "execution_count": 66,
   "id": "c95056fe-f040-4a51-a71f-231e4a29d713",
   "metadata": {},
   "outputs": [
    {
     "data": {
      "text/plain": [
       "[1, 9, 11]"
      ]
     },
     "execution_count": 66,
     "metadata": {},
     "output_type": "execute_result"
    }
   ],
   "source": [
    "ops1 = listops([1,8,9,11,12])\n",
    "ops1.extract_odd()"
   ]
  },
  {
   "cell_type": "code",
   "execution_count": 67,
   "id": "e968d1d0-d1bc-47c7-9753-4e8e58611731",
   "metadata": {},
   "outputs": [
    {
     "data": {
      "text/plain": [
       "[8, 12]"
      ]
     },
     "execution_count": 67,
     "metadata": {},
     "output_type": "execute_result"
    }
   ],
   "source": [
    "ops1.extract_even()"
   ]
  },
  {
   "cell_type": "code",
   "execution_count": 70,
   "id": "bd265373-d2f0-4e0f-a505-9f374ae203e4",
   "metadata": {},
   "outputs": [],
   "source": [
    "class listops:\n",
    "    def __init__(self, l):  # magic method/dunder method. init means of initialisation>> of variable \n",
    "        self.l2 = l  # everywhere you will be able to access l using self.l2\n",
    "        \n",
    "    def extract_even(self): # be careful as init has been used only pass self in the method and not the variable again\n",
    "        l = self.l2\n",
    "        l1 = []\n",
    "        for i in l:\n",
    "            if i%2 == 0:\n",
    "                l1.append(i)\n",
    "        return l1\n",
    "        \n",
    "    def extract_odd(self):\n",
    "        l = self.l2\n",
    "        l1 = []\n",
    "        for i in l:\n",
    "            if i%2 != 0:\n",
    "                l1.append(i)\n",
    "        return l1"
   ]
  },
  {
   "cell_type": "code",
   "execution_count": 71,
   "id": "4379921b-fa32-458d-aa7c-cbba01517c14",
   "metadata": {},
   "outputs": [
    {
     "data": {
      "text/plain": [
       "[1, 9, 11]"
      ]
     },
     "execution_count": 71,
     "metadata": {},
     "output_type": "execute_result"
    }
   ],
   "source": [
    "ops1 = listops([1,8,9,11,12])\n",
    "ops1.extract_odd()"
   ]
  },
  {
   "cell_type": "code",
   "execution_count": 74,
   "id": "004884d2-fc93-490d-b795-73d7b4aea3d7",
   "metadata": {},
   "outputs": [],
   "source": [
    "# multiple attributes\n",
    "# in a library a book is associated with author, title, name\n",
    "class Book:\n",
    "    def __init__(self,name,author,title):\n",
    "        self.name_of_book = name\n",
    "        self.book_author = author\n",
    "        self.title_name = title\n",
    "        \n",
    "    def extract_details_name_title(self):\n",
    "        print(self.name_of_book,self.title_name)\n",
    "\n",
    "    def extract_details_name_author(self):\n",
    "        print(self.name_of_book,self.book_author)"
   ]
  },
  {
   "cell_type": "code",
   "execution_count": 75,
   "id": "9a1ad982-30e1-49a1-9580-ae4fb2f7d8ac",
   "metadata": {},
   "outputs": [],
   "source": [
    "student1 = Book(\"Ml\",\"Murphy\",\"Linear regressions\")"
   ]
  },
  {
   "cell_type": "code",
   "execution_count": 76,
   "id": "483e6fa8-a5d2-47d9-a844-e401c54abee3",
   "metadata": {},
   "outputs": [
    {
     "name": "stdout",
     "output_type": "stream",
     "text": [
      "Ml Murphy\n"
     ]
    }
   ],
   "source": [
    "student1.extract_details_name_author()"
   ]
  },
  {
   "cell_type": "code",
   "execution_count": 77,
   "id": "e449deba-44cc-42df-a9ff-973077a844f8",
   "metadata": {},
   "outputs": [
    {
     "name": "stdout",
     "output_type": "stream",
     "text": [
      "Ml Linear regressions\n"
     ]
    }
   ],
   "source": [
    "student1.extract_details_name_title()"
   ]
  },
  {
   "cell_type": "code",
   "execution_count": 78,
   "id": "a053355d-5dc3-4d9e-b7d1-df6e707b4918",
   "metadata": {},
   "outputs": [
    {
     "name": "stdout",
     "output_type": "stream",
     "text": [
      "stats joss\n"
     ]
    }
   ],
   "source": [
    "student2 = Book(\"stats\",\"joss\",\"descriptive statistics\")\n",
    "student2.extract_details_name_author()"
   ]
  },
  {
   "cell_type": "code",
   "execution_count": 83,
   "id": "2fbef354-0a5b-4930-9787-cdaac73fe721",
   "metadata": {},
   "outputs": [],
   "source": [
    "# every variable is fixed\n",
    "class Book:\n",
    "    def __init__(self):\n",
    "        self.name_of_book = \"DSA\"\n",
    "        self.book_author = \"Coremen\"\n",
    "        self.title_name = \"stacks\"\n",
    "        \n",
    "    def extract_details_name_title(self):\n",
    "        print(self.name_of_book,self.title_name)\n",
    "\n",
    "    def extract_details_name_author(self):\n",
    "        print(self.name_of_book,self.book_author)"
   ]
  },
  {
   "cell_type": "code",
   "execution_count": 84,
   "id": "963e43bb-4604-4ff9-8e43-2c5561a24988",
   "metadata": {},
   "outputs": [
    {
     "name": "stdout",
     "output_type": "stream",
     "text": [
      "DSA Coremen\n"
     ]
    }
   ],
   "source": [
    "student1 = Book()\n",
    "student1.extract_details_name_author()"
   ]
  },
  {
   "cell_type": "code",
   "execution_count": 85,
   "id": "6a1e8c8d-3c6c-4919-b68f-cc55b1aab092",
   "metadata": {},
   "outputs": [
    {
     "name": "stdout",
     "output_type": "stream",
     "text": [
      "DSA Coremen\n"
     ]
    }
   ],
   "source": [
    "student2 = Book()\n",
    "student1.extract_details_name_author()"
   ]
  },
  {
   "cell_type": "code",
   "execution_count": null,
   "id": "620e607a-727b-4360-a5e5-89d1b3199ffd",
   "metadata": {},
   "outputs": [],
   "source": [
    "# to pass dynamic variable/data"
   ]
  },
  {
   "cell_type": "code",
   "execution_count": null,
   "id": "8cb135fa-0eb2-4d59-87ad-17263df60e67",
   "metadata": {},
   "outputs": [],
   "source": []
  },
  {
   "cell_type": "code",
   "execution_count": null,
   "id": "5e6756d6-c46d-47de-a2a4-a800b77822fa",
   "metadata": {},
   "outputs": [],
   "source": []
  },
  {
   "cell_type": "code",
   "execution_count": null,
   "id": "5d6a716f-d7e9-4389-8cf3-60efd9652210",
   "metadata": {},
   "outputs": [],
   "source": []
  },
  {
   "cell_type": "code",
   "execution_count": null,
   "id": "d0cfa351-adc2-4e9e-8148-bbfdb1bf435d",
   "metadata": {},
   "outputs": [],
   "source": []
  },
  {
   "cell_type": "code",
   "execution_count": null,
   "id": "97370204-4cd6-4cd4-94b2-b15b6757b7d1",
   "metadata": {},
   "outputs": [],
   "source": []
  },
  {
   "cell_type": "code",
   "execution_count": null,
   "id": "6271a174-e00e-4c33-be14-f28640cfd1f2",
   "metadata": {},
   "outputs": [],
   "source": []
  },
  {
   "cell_type": "code",
   "execution_count": null,
   "id": "c0584dec-f005-44e1-9aaa-308e93d76bed",
   "metadata": {},
   "outputs": [],
   "source": []
  },
  {
   "cell_type": "code",
   "execution_count": null,
   "id": "af80d0eb-2214-466e-b7c2-370a299f22cb",
   "metadata": {},
   "outputs": [],
   "source": []
  },
  {
   "cell_type": "code",
   "execution_count": null,
   "id": "7e5b937b-036a-4fd4-b1d0-23ebf331bc5e",
   "metadata": {},
   "outputs": [],
   "source": []
  },
  {
   "cell_type": "code",
   "execution_count": null,
   "id": "b9197d59-d692-4ccd-8896-71824f5dabb2",
   "metadata": {},
   "outputs": [],
   "source": []
  },
  {
   "cell_type": "code",
   "execution_count": null,
   "id": "d5554486-691b-41d9-b6d7-2edce9ce72ae",
   "metadata": {},
   "outputs": [],
   "source": []
  },
  {
   "cell_type": "code",
   "execution_count": null,
   "id": "383b8385-839a-4730-bbaf-592a0fa7027f",
   "metadata": {},
   "outputs": [],
   "source": []
  },
  {
   "cell_type": "code",
   "execution_count": null,
   "id": "94581760-3b2b-4910-bc2a-268854af4879",
   "metadata": {},
   "outputs": [],
   "source": []
  },
  {
   "cell_type": "code",
   "execution_count": null,
   "id": "0e3a2488-0999-4723-8eb3-41a8fe10a3e1",
   "metadata": {},
   "outputs": [],
   "source": []
  },
  {
   "cell_type": "code",
   "execution_count": null,
   "id": "96bf6c0d-0557-429b-8297-73dd2317195e",
   "metadata": {},
   "outputs": [],
   "source": []
  },
  {
   "cell_type": "code",
   "execution_count": null,
   "id": "d4fb68c0-4d91-4c4c-8337-cb695d65de90",
   "metadata": {},
   "outputs": [],
   "source": []
  },
  {
   "cell_type": "code",
   "execution_count": null,
   "id": "1b25c5be-c4ec-4a34-8d01-80511c24c972",
   "metadata": {},
   "outputs": [],
   "source": []
  },
  {
   "cell_type": "code",
   "execution_count": null,
   "id": "4d3dd770-13aa-4b1d-b8d3-5229625b2571",
   "metadata": {},
   "outputs": [],
   "source": []
  },
  {
   "cell_type": "code",
   "execution_count": null,
   "id": "80450488-d7d8-4a74-b55e-5249bd2f3fda",
   "metadata": {},
   "outputs": [],
   "source": []
  },
  {
   "cell_type": "code",
   "execution_count": null,
   "id": "5719d3ed-e643-4186-93ef-d1d73e50223c",
   "metadata": {},
   "outputs": [],
   "source": []
  },
  {
   "cell_type": "code",
   "execution_count": null,
   "id": "b180acf1-cbe7-4a67-95b8-69fe8d0f03e6",
   "metadata": {},
   "outputs": [],
   "source": []
  },
  {
   "cell_type": "code",
   "execution_count": null,
   "id": "adc144c6-75eb-4e24-aed0-4718df769592",
   "metadata": {},
   "outputs": [],
   "source": []
  },
  {
   "cell_type": "code",
   "execution_count": null,
   "id": "f8fe1e26-085f-40d5-90d7-1601c982bf24",
   "metadata": {},
   "outputs": [],
   "source": []
  },
  {
   "cell_type": "code",
   "execution_count": null,
   "id": "28a29d5c-38e9-4f4c-8f59-34d43dcd01ee",
   "metadata": {},
   "outputs": [],
   "source": []
  },
  {
   "cell_type": "code",
   "execution_count": null,
   "id": "c2c40cd7-01c5-4238-8317-a02cab0484f1",
   "metadata": {},
   "outputs": [],
   "source": []
  },
  {
   "cell_type": "code",
   "execution_count": null,
   "id": "cef9f300-6b83-4fdf-b5b7-e0cccf90890f",
   "metadata": {},
   "outputs": [],
   "source": []
  },
  {
   "cell_type": "code",
   "execution_count": null,
   "id": "e7fb822d-6122-4df4-8227-e8a29493314b",
   "metadata": {},
   "outputs": [],
   "source": []
  },
  {
   "cell_type": "code",
   "execution_count": null,
   "id": "cb9a22a1-5e4e-4cf5-b7cd-22644222b665",
   "metadata": {},
   "outputs": [],
   "source": []
  },
  {
   "cell_type": "code",
   "execution_count": null,
   "id": "832cf0b5-9824-477f-92b9-8d70012077f2",
   "metadata": {},
   "outputs": [],
   "source": []
  },
  {
   "cell_type": "code",
   "execution_count": null,
   "id": "a65bdd50-ff13-4b32-919f-a24ab2d27990",
   "metadata": {},
   "outputs": [],
   "source": []
  },
  {
   "cell_type": "code",
   "execution_count": null,
   "id": "59cb40df-37d2-4a95-86ee-2dc3b1d4ce77",
   "metadata": {},
   "outputs": [],
   "source": []
  },
  {
   "cell_type": "code",
   "execution_count": null,
   "id": "ded0569f-2627-4036-8a19-32ea9eaa87bd",
   "metadata": {},
   "outputs": [],
   "source": []
  },
  {
   "cell_type": "code",
   "execution_count": null,
   "id": "fc30dd47-d4c9-48fe-899f-91bba2347e14",
   "metadata": {},
   "outputs": [],
   "source": []
  },
  {
   "cell_type": "code",
   "execution_count": null,
   "id": "a8ba8044-ba23-474e-bb7c-93cdc35e0d8a",
   "metadata": {},
   "outputs": [],
   "source": []
  },
  {
   "cell_type": "code",
   "execution_count": null,
   "id": "457d2263-d0b9-4a83-bd51-4a58414983be",
   "metadata": {},
   "outputs": [],
   "source": []
  },
  {
   "cell_type": "code",
   "execution_count": null,
   "id": "9ed223f7-2f8e-445b-8844-60fbd86e2ad4",
   "metadata": {},
   "outputs": [],
   "source": []
  },
  {
   "cell_type": "code",
   "execution_count": null,
   "id": "52448847-02a4-45c1-a8dd-5015be237184",
   "metadata": {},
   "outputs": [],
   "source": []
  },
  {
   "cell_type": "code",
   "execution_count": null,
   "id": "d1e7e4a1-f7e5-45c9-a68e-6314218ef7e6",
   "metadata": {},
   "outputs": [],
   "source": []
  },
  {
   "cell_type": "code",
   "execution_count": null,
   "id": "e7915138-635d-4d99-89cd-e275f7f9a48c",
   "metadata": {},
   "outputs": [],
   "source": []
  },
  {
   "cell_type": "code",
   "execution_count": null,
   "id": "8c283e38-8a6d-4cf7-a07e-7e4146335f8a",
   "metadata": {},
   "outputs": [],
   "source": []
  },
  {
   "cell_type": "code",
   "execution_count": null,
   "id": "f6f85a28-87ae-4578-af15-307322e0f025",
   "metadata": {},
   "outputs": [],
   "source": []
  },
  {
   "cell_type": "code",
   "execution_count": null,
   "id": "17866ae3-2d15-4b48-930a-688006eff6a7",
   "metadata": {},
   "outputs": [],
   "source": []
  },
  {
   "cell_type": "code",
   "execution_count": null,
   "id": "52033d53-0336-4501-81e4-24173613f342",
   "metadata": {},
   "outputs": [],
   "source": []
  },
  {
   "cell_type": "code",
   "execution_count": null,
   "id": "9a672cdf-5965-4df3-a4ec-8445e21e6dee",
   "metadata": {},
   "outputs": [],
   "source": []
  },
  {
   "cell_type": "code",
   "execution_count": null,
   "id": "bbb633a0-f496-4646-b46a-56340cecc769",
   "metadata": {},
   "outputs": [],
   "source": []
  },
  {
   "cell_type": "code",
   "execution_count": null,
   "id": "fc4ce7ad-6511-4a95-b599-50574988770d",
   "metadata": {},
   "outputs": [],
   "source": []
  },
  {
   "cell_type": "code",
   "execution_count": null,
   "id": "79f42a28-0e76-4e7e-be9b-612a590cd924",
   "metadata": {},
   "outputs": [],
   "source": []
  },
  {
   "cell_type": "code",
   "execution_count": null,
   "id": "893833d8-b778-421e-b3d9-38c7b4a9a1ae",
   "metadata": {},
   "outputs": [],
   "source": []
  },
  {
   "cell_type": "code",
   "execution_count": null,
   "id": "697c77bf-e434-4594-9252-f172fe0566a8",
   "metadata": {},
   "outputs": [],
   "source": []
  },
  {
   "cell_type": "code",
   "execution_count": null,
   "id": "f620be3a-7673-46da-84b9-6995d4e5c9b2",
   "metadata": {},
   "outputs": [],
   "source": []
  },
  {
   "cell_type": "code",
   "execution_count": null,
   "id": "8eee2064-bf14-4379-a14e-d188ffc06d2f",
   "metadata": {},
   "outputs": [],
   "source": []
  },
  {
   "cell_type": "code",
   "execution_count": null,
   "id": "c4887718-9515-48ac-87b3-e1fdade2f74f",
   "metadata": {},
   "outputs": [],
   "source": []
  },
  {
   "cell_type": "code",
   "execution_count": null,
   "id": "bc617f12-2987-4773-bc1e-5eadaa03ea81",
   "metadata": {},
   "outputs": [],
   "source": []
  },
  {
   "cell_type": "code",
   "execution_count": null,
   "id": "888692a5-f23b-4644-8964-778b05a68830",
   "metadata": {},
   "outputs": [],
   "source": []
  },
  {
   "cell_type": "code",
   "execution_count": null,
   "id": "961a6830-f39c-4a94-9d52-7a9483b4213c",
   "metadata": {},
   "outputs": [],
   "source": []
  },
  {
   "cell_type": "code",
   "execution_count": null,
   "id": "3dfbdf35-2f56-4394-9b8c-5b3ca56fe0f7",
   "metadata": {},
   "outputs": [],
   "source": []
  },
  {
   "cell_type": "code",
   "execution_count": null,
   "id": "fd462ab9-4584-4a19-84ce-03fb1fd12439",
   "metadata": {},
   "outputs": [],
   "source": []
  },
  {
   "cell_type": "code",
   "execution_count": null,
   "id": "911d7b9d-1d40-4486-8e21-8080ca2a2e45",
   "metadata": {},
   "outputs": [],
   "source": []
  },
  {
   "cell_type": "code",
   "execution_count": null,
   "id": "498f5674-5cd3-4b78-855b-2ad405c1e02f",
   "metadata": {},
   "outputs": [],
   "source": []
  },
  {
   "cell_type": "code",
   "execution_count": null,
   "id": "a522ccd3-d31d-4e26-872c-84cb40c4d424",
   "metadata": {},
   "outputs": [],
   "source": []
  },
  {
   "cell_type": "code",
   "execution_count": null,
   "id": "0ec23657-7a4b-466f-b359-eaa54073f062",
   "metadata": {},
   "outputs": [],
   "source": []
  },
  {
   "cell_type": "code",
   "execution_count": null,
   "id": "89b69cbf-c22a-4124-a110-72b03ce0ec63",
   "metadata": {},
   "outputs": [],
   "source": []
  },
  {
   "cell_type": "code",
   "execution_count": null,
   "id": "9f3ef51f-a203-4ffc-b62b-a09751d7fd06",
   "metadata": {},
   "outputs": [],
   "source": []
  },
  {
   "cell_type": "code",
   "execution_count": null,
   "id": "db0107c6-7455-404a-9c8a-4bd193d80066",
   "metadata": {},
   "outputs": [],
   "source": []
  },
  {
   "cell_type": "code",
   "execution_count": null,
   "id": "4a8c4fa5-3ae9-4ef1-aba9-32a81a4b59f6",
   "metadata": {},
   "outputs": [],
   "source": []
  },
  {
   "cell_type": "code",
   "execution_count": null,
   "id": "3e71b679-598a-476d-905a-418a0d0ba20b",
   "metadata": {},
   "outputs": [],
   "source": []
  },
  {
   "cell_type": "code",
   "execution_count": null,
   "id": "a9293894-36ee-4f81-acc0-143895bb9a8d",
   "metadata": {},
   "outputs": [],
   "source": []
  },
  {
   "cell_type": "code",
   "execution_count": null,
   "id": "0767af9b-ee95-4a73-a281-b156f3c8c8fa",
   "metadata": {},
   "outputs": [],
   "source": []
  },
  {
   "cell_type": "code",
   "execution_count": null,
   "id": "a71735de-e388-48e6-9df2-4f3767b41f2a",
   "metadata": {},
   "outputs": [],
   "source": []
  },
  {
   "cell_type": "code",
   "execution_count": null,
   "id": "b993c00d-f2f4-459c-8267-1298249896a3",
   "metadata": {},
   "outputs": [],
   "source": []
  },
  {
   "cell_type": "code",
   "execution_count": null,
   "id": "dab587ca-bbe6-4cfe-a5b9-256010e1501a",
   "metadata": {},
   "outputs": [],
   "source": []
  },
  {
   "cell_type": "code",
   "execution_count": null,
   "id": "fea2b6cd-368e-4c5d-95fe-e9731ab95915",
   "metadata": {},
   "outputs": [],
   "source": []
  },
  {
   "cell_type": "code",
   "execution_count": null,
   "id": "defd158c-eb14-42c1-9b03-1913b9a452ea",
   "metadata": {},
   "outputs": [],
   "source": []
  },
  {
   "cell_type": "code",
   "execution_count": null,
   "id": "eb3cdd0b-86d6-4082-add4-88429c3d46fd",
   "metadata": {},
   "outputs": [],
   "source": []
  },
  {
   "cell_type": "code",
   "execution_count": null,
   "id": "9d951c61-bc04-4a43-9a3c-4ca547d5247a",
   "metadata": {},
   "outputs": [],
   "source": []
  },
  {
   "cell_type": "code",
   "execution_count": null,
   "id": "3c29db9b-5d83-4485-90e8-9badd4f02f94",
   "metadata": {},
   "outputs": [],
   "source": []
  },
  {
   "cell_type": "code",
   "execution_count": null,
   "id": "dd3747bb-08d9-4eec-b667-5cd545187a72",
   "metadata": {},
   "outputs": [],
   "source": []
  },
  {
   "cell_type": "code",
   "execution_count": null,
   "id": "f12fb895-d0d2-46b4-b1d1-05121e73d48a",
   "metadata": {},
   "outputs": [],
   "source": []
  },
  {
   "cell_type": "code",
   "execution_count": null,
   "id": "104e2593-fdef-43f6-bb62-518ff2ccb92f",
   "metadata": {},
   "outputs": [],
   "source": []
  },
  {
   "cell_type": "code",
   "execution_count": null,
   "id": "ad32c2e0-fefe-4e8a-a27c-18e889449e41",
   "metadata": {},
   "outputs": [],
   "source": []
  },
  {
   "cell_type": "code",
   "execution_count": null,
   "id": "8992447f-4620-48c2-bafd-e3bd579fa395",
   "metadata": {},
   "outputs": [],
   "source": []
  },
  {
   "cell_type": "code",
   "execution_count": null,
   "id": "205433ac-4495-4f3f-b829-177c3f8d5787",
   "metadata": {},
   "outputs": [],
   "source": []
  },
  {
   "cell_type": "code",
   "execution_count": null,
   "id": "6fbb5e8e-9602-4251-8888-e623c99eda74",
   "metadata": {},
   "outputs": [],
   "source": []
  },
  {
   "cell_type": "code",
   "execution_count": null,
   "id": "c8c35ac9-46fe-4fc5-8638-92a6b060e344",
   "metadata": {},
   "outputs": [],
   "source": []
  },
  {
   "cell_type": "code",
   "execution_count": null,
   "id": "9976b179-6125-4470-bb85-907929c774b3",
   "metadata": {},
   "outputs": [],
   "source": []
  },
  {
   "cell_type": "code",
   "execution_count": null,
   "id": "327f9968-7299-48f8-83c1-2e02b8d266ce",
   "metadata": {},
   "outputs": [],
   "source": []
  },
  {
   "cell_type": "code",
   "execution_count": null,
   "id": "8fb9393d-9564-4540-a1b8-34a567f5507c",
   "metadata": {},
   "outputs": [],
   "source": []
  },
  {
   "cell_type": "code",
   "execution_count": null,
   "id": "136dc9b8-8397-4b09-aee3-1e6b4740a808",
   "metadata": {},
   "outputs": [],
   "source": []
  },
  {
   "cell_type": "code",
   "execution_count": null,
   "id": "d20475c8-ce27-490a-9373-25f2dc01a5e9",
   "metadata": {},
   "outputs": [],
   "source": []
  },
  {
   "cell_type": "code",
   "execution_count": null,
   "id": "0a79b011-8d87-4f3e-bd91-6c4638d92adc",
   "metadata": {},
   "outputs": [],
   "source": []
  },
  {
   "cell_type": "code",
   "execution_count": null,
   "id": "ff4b9d14-b201-4e15-afd9-d187a5720947",
   "metadata": {},
   "outputs": [],
   "source": []
  },
  {
   "cell_type": "code",
   "execution_count": null,
   "id": "4af3a7df-b4ef-4e06-ba6a-bf43067371c3",
   "metadata": {},
   "outputs": [],
   "source": []
  },
  {
   "cell_type": "code",
   "execution_count": null,
   "id": "99a0d7f6-f9ef-4cf7-8cb7-ea2d58a49291",
   "metadata": {},
   "outputs": [],
   "source": []
  },
  {
   "cell_type": "code",
   "execution_count": null,
   "id": "2c7d82a7-4d6c-4529-9a72-dfe6b6769afb",
   "metadata": {},
   "outputs": [],
   "source": []
  },
  {
   "cell_type": "code",
   "execution_count": null,
   "id": "275182e8-71f8-452c-8432-23d27746c26f",
   "metadata": {},
   "outputs": [],
   "source": []
  },
  {
   "cell_type": "code",
   "execution_count": null,
   "id": "3f7fa230-fea5-4b55-8217-e491a6390f4e",
   "metadata": {},
   "outputs": [],
   "source": []
  },
  {
   "cell_type": "code",
   "execution_count": null,
   "id": "30a1f5c5-8e4d-48d2-8fdc-e4c96537de95",
   "metadata": {},
   "outputs": [],
   "source": []
  },
  {
   "cell_type": "code",
   "execution_count": null,
   "id": "6057b189-ccf7-4509-846b-09412cfafb44",
   "metadata": {},
   "outputs": [],
   "source": []
  },
  {
   "cell_type": "code",
   "execution_count": null,
   "id": "20944e73-f255-462a-9fa6-f4a77485d3b5",
   "metadata": {},
   "outputs": [],
   "source": []
  },
  {
   "cell_type": "code",
   "execution_count": null,
   "id": "07b00bbf-9eb8-4a23-a68c-3987b4a3ed93",
   "metadata": {},
   "outputs": [],
   "source": []
  },
  {
   "cell_type": "code",
   "execution_count": null,
   "id": "bdcc2f4c-f8f6-40c9-83a1-a732146ea6e0",
   "metadata": {},
   "outputs": [],
   "source": []
  },
  {
   "cell_type": "code",
   "execution_count": null,
   "id": "c5827382-8f73-4e21-86f6-516343b55aa7",
   "metadata": {},
   "outputs": [],
   "source": []
  },
  {
   "cell_type": "code",
   "execution_count": null,
   "id": "35be7e16-6ca6-4c5a-874f-bfeff1f07085",
   "metadata": {},
   "outputs": [],
   "source": []
  },
  {
   "cell_type": "code",
   "execution_count": null,
   "id": "5ae25584-7b12-4f1c-8801-57d09c9ec690",
   "metadata": {},
   "outputs": [],
   "source": []
  },
  {
   "cell_type": "code",
   "execution_count": null,
   "id": "5882170e-65da-4a70-b115-bf9679ed1030",
   "metadata": {},
   "outputs": [],
   "source": []
  },
  {
   "cell_type": "code",
   "execution_count": null,
   "id": "446ac263-1c19-4469-9ac4-8cbe2cb50965",
   "metadata": {},
   "outputs": [],
   "source": []
  },
  {
   "cell_type": "code",
   "execution_count": null,
   "id": "90cf0d67-9969-4d3d-b172-4820a16bff4e",
   "metadata": {},
   "outputs": [],
   "source": []
  },
  {
   "cell_type": "code",
   "execution_count": null,
   "id": "394b742f-963a-4fe0-929c-7ba6806b4e61",
   "metadata": {},
   "outputs": [],
   "source": []
  },
  {
   "cell_type": "code",
   "execution_count": null,
   "id": "6c6fe2e6-5a79-4259-859a-3faa1939842f",
   "metadata": {},
   "outputs": [],
   "source": []
  },
  {
   "cell_type": "code",
   "execution_count": null,
   "id": "ac6fbb15-cb90-4da6-8dea-a3ad7785a2a2",
   "metadata": {},
   "outputs": [],
   "source": []
  },
  {
   "cell_type": "code",
   "execution_count": null,
   "id": "e2988dd5-9061-4ab2-889a-d9fc63b7e63c",
   "metadata": {},
   "outputs": [],
   "source": []
  },
  {
   "cell_type": "code",
   "execution_count": null,
   "id": "283ced65-2e59-484e-b682-9f3a44bf5473",
   "metadata": {},
   "outputs": [],
   "source": []
  },
  {
   "cell_type": "code",
   "execution_count": null,
   "id": "ca0a4a47-e156-40e0-ae61-5abe3169ebf9",
   "metadata": {},
   "outputs": [],
   "source": []
  },
  {
   "cell_type": "code",
   "execution_count": null,
   "id": "aab34301-5e8e-4304-b576-05f7ae190659",
   "metadata": {},
   "outputs": [],
   "source": []
  },
  {
   "cell_type": "code",
   "execution_count": null,
   "id": "cacab748-7d93-4cc2-baf1-c07f99255429",
   "metadata": {},
   "outputs": [],
   "source": []
  },
  {
   "cell_type": "code",
   "execution_count": null,
   "id": "e0cc8776-5fa2-4991-8355-dc93d7440691",
   "metadata": {},
   "outputs": [],
   "source": []
  },
  {
   "cell_type": "code",
   "execution_count": null,
   "id": "68f66fde-a10f-4957-90e5-bb645300a9eb",
   "metadata": {},
   "outputs": [],
   "source": []
  },
  {
   "cell_type": "code",
   "execution_count": null,
   "id": "b28a3b73-92de-4035-9c41-ef92cfb88d6d",
   "metadata": {},
   "outputs": [],
   "source": []
  },
  {
   "cell_type": "code",
   "execution_count": null,
   "id": "43c602a5-7765-4286-a886-8d224ac30617",
   "metadata": {},
   "outputs": [],
   "source": []
  },
  {
   "cell_type": "code",
   "execution_count": null,
   "id": "b2a212b5-81cc-4b41-8cca-a415d51d64ca",
   "metadata": {},
   "outputs": [],
   "source": []
  },
  {
   "cell_type": "code",
   "execution_count": null,
   "id": "47bb8555-dc27-466c-a099-526b8bfd9c94",
   "metadata": {},
   "outputs": [],
   "source": []
  },
  {
   "cell_type": "code",
   "execution_count": null,
   "id": "69c94172-2864-4489-be9b-7882e30270ed",
   "metadata": {},
   "outputs": [],
   "source": []
  },
  {
   "cell_type": "code",
   "execution_count": null,
   "id": "bc4fcd98-e6c5-486f-ae2a-f473fa3ec7de",
   "metadata": {},
   "outputs": [],
   "source": []
  },
  {
   "cell_type": "code",
   "execution_count": null,
   "id": "34ace3b2-f080-4da4-bfb1-4c1803c3506b",
   "metadata": {},
   "outputs": [],
   "source": []
  },
  {
   "cell_type": "code",
   "execution_count": null,
   "id": "09d1585c-f208-499a-807b-a50ec9ae4a33",
   "metadata": {},
   "outputs": [],
   "source": []
  },
  {
   "cell_type": "code",
   "execution_count": null,
   "id": "e7d459cc-b4be-4d2c-abe6-956c21fc2c5e",
   "metadata": {},
   "outputs": [],
   "source": []
  },
  {
   "cell_type": "code",
   "execution_count": null,
   "id": "a94e7bc2-5fde-4340-8331-2b28963921bd",
   "metadata": {},
   "outputs": [],
   "source": []
  },
  {
   "cell_type": "code",
   "execution_count": null,
   "id": "e6a15676-8ad2-4e47-b34c-2a9782903a68",
   "metadata": {},
   "outputs": [],
   "source": []
  }
 ],
 "metadata": {
  "kernelspec": {
   "display_name": "Python 3 (ipykernel)",
   "language": "python",
   "name": "python3"
  },
  "language_info": {
   "codemirror_mode": {
    "name": "ipython",
    "version": 3
   },
   "file_extension": ".py",
   "mimetype": "text/x-python",
   "name": "python",
   "nbconvert_exporter": "python",
   "pygments_lexer": "ipython3",
   "version": "3.11.9"
  }
 },
 "nbformat": 4,
 "nbformat_minor": 5
}
