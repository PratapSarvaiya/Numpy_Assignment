{
 "cells": [
  {
   "cell_type": "code",
   "execution_count": null,
   "id": "429de15a-ba34-4e91-915f-fe15f5bb50b7",
   "metadata": {},
   "outputs": [],
   "source": [
    "# generally something that disrups the normal event is exception\n",
    "# In python an exception is an event that occurs during programme execution that disrupts"
   ]
  },
  {
   "cell_type": "code",
   "execution_count": 1,
   "id": "8de56a53-8561-4982-a1b5-2fdd482a1e32",
   "metadata": {},
   "outputs": [
    {
     "data": {
      "text/plain": [
       "0.5555555555555556"
      ]
     },
     "execution_count": 1,
     "metadata": {},
     "output_type": "execute_result"
    }
   ],
   "source": [
    "5/9"
   ]
  },
  {
   "cell_type": "code",
   "execution_count": 2,
   "id": "93d645a1-30b0-4d29-b54f-f3ab0eb9da71",
   "metadata": {},
   "outputs": [
    {
     "data": {
      "text/plain": [
       "5.0"
      ]
     },
     "execution_count": 2,
     "metadata": {},
     "output_type": "execute_result"
    }
   ],
   "source": [
    "10/2"
   ]
  },
  {
   "cell_type": "code",
   "execution_count": 3,
   "id": "b68ac372-e42b-4323-8196-c5c68f775e20",
   "metadata": {},
   "outputs": [
    {
     "name": "stdout",
     "output_type": "stream",
     "text": [
      "2.0\n"
     ]
    }
   ],
   "source": [
    "print(4/2)"
   ]
  },
  {
   "cell_type": "code",
   "execution_count": 5,
   "id": "4995efee-a331-4f81-b39c-3b14e5474a8d",
   "metadata": {},
   "outputs": [
    {
     "name": "stdout",
     "output_type": "stream",
     "text": [
      "0.6\n",
      "The code is running fine till now\n"
     ]
    },
    {
     "ename": "ZeroDivisionError",
     "evalue": "division by zero",
     "output_type": "error",
     "traceback": [
      "\u001b[1;31m---------------------------------------------------------------------------\u001b[0m",
      "\u001b[1;31mZeroDivisionError\u001b[0m                         Traceback (most recent call last)",
      "Cell \u001b[1;32mIn[5], line 3\u001b[0m\n\u001b[0;32m      1\u001b[0m \u001b[38;5;28mprint\u001b[39m(\u001b[38;5;241m3\u001b[39m\u001b[38;5;241m/\u001b[39m\u001b[38;5;241m5\u001b[39m)\n\u001b[0;32m      2\u001b[0m \u001b[38;5;28mprint\u001b[39m(\u001b[38;5;124m\"\u001b[39m\u001b[38;5;124mThe code is running fine till now\u001b[39m\u001b[38;5;124m\"\u001b[39m)\n\u001b[1;32m----> 3\u001b[0m \u001b[38;5;28mprint\u001b[39m(\u001b[38;5;241;43m6\u001b[39;49m\u001b[38;5;241;43m/\u001b[39;49m\u001b[38;5;241;43m0\u001b[39;49m)\n\u001b[0;32m      4\u001b[0m \u001b[38;5;28mprint\u001b[39m(\u001b[38;5;124m\"\u001b[39m\u001b[38;5;124mYour name is pratap\u001b[39m\u001b[38;5;124m\"\u001b[39m)\n\u001b[0;32m      5\u001b[0m \u001b[38;5;28mprint\u001b[39m(\u001b[38;5;241m2\u001b[39m\u001b[38;5;241m+\u001b[39m\u001b[38;5;241m3\u001b[39m)\n",
      "\u001b[1;31mZeroDivisionError\u001b[0m: division by zero"
     ]
    }
   ],
   "source": [
    "print(3/5)\n",
    "print(\"The code is running fine till now\")\n",
    "print(6/0)       # suspicious code # it threw an error thats why code after this didn't got executed\n",
    "print(\"Your name is pratap\")\n",
    "print(2+3)\n",
    "print(\"The code ends\")"
   ]
  },
  {
   "cell_type": "code",
   "execution_count": 6,
   "id": "638aedf2-742d-464f-8f01-e99f74f73683",
   "metadata": {},
   "outputs": [
    {
     "name": "stdout",
     "output_type": "stream",
     "text": [
      "This is my first line code\n",
      "90\n",
      "<class 'dict'>\n"
     ]
    },
    {
     "ename": "KeyError",
     "evalue": "'age'",
     "output_type": "error",
     "traceback": [
      "\u001b[1;31m---------------------------------------------------------------------------\u001b[0m",
      "\u001b[1;31mKeyError\u001b[0m                                  Traceback (most recent call last)",
      "Cell \u001b[1;32mIn[6], line 5\u001b[0m\n\u001b[0;32m      3\u001b[0m d \u001b[38;5;241m=\u001b[39m {\u001b[38;5;124m\"\u001b[39m\u001b[38;5;124mname\u001b[39m\u001b[38;5;124m\"\u001b[39m:\u001b[38;5;124m\"\u001b[39m\u001b[38;5;124mpratap\u001b[39m\u001b[38;5;124m\"\u001b[39m}\n\u001b[0;32m      4\u001b[0m \u001b[38;5;28mprint\u001b[39m(\u001b[38;5;28mtype\u001b[39m(d))\n\u001b[1;32m----> 5\u001b[0m \u001b[38;5;28mprint\u001b[39m(\u001b[43md\u001b[49m\u001b[43m[\u001b[49m\u001b[38;5;124;43m\"\u001b[39;49m\u001b[38;5;124;43mage\u001b[39;49m\u001b[38;5;124;43m\"\u001b[39;49m\u001b[43m]\u001b[49m)\n\u001b[0;32m      6\u001b[0m \u001b[38;5;28mprint\u001b[39m(\u001b[38;5;124m\"\u001b[39m\u001b[38;5;124mThis is last line of code\u001b[39m\u001b[38;5;124m\"\u001b[39m)\n",
      "\u001b[1;31mKeyError\u001b[0m: 'age'"
     ]
    }
   ],
   "source": [
    "print(\"This is my first line code\")\n",
    "print(3*5*6)\n",
    "d = {\"name\":\"pratap\"}\n",
    "print(type(d))\n",
    "print(d[\"age\"])  # it threw an error thats why code after this didn't got executed\n",
    "print(\"This is last line of code\")"
   ]
  },
  {
   "cell_type": "code",
   "execution_count": 7,
   "id": "b95fba06-a1de-48b8-b9ef-1c6397f36c67",
   "metadata": {},
   "outputs": [
    {
     "ename": "FileNotFoundError",
     "evalue": "[Errno 2] No such file or directory: 'example2.txt'",
     "output_type": "error",
     "traceback": [
      "\u001b[1;31m---------------------------------------------------------------------------\u001b[0m",
      "\u001b[1;31mFileNotFoundError\u001b[0m                         Traceback (most recent call last)",
      "Cell \u001b[1;32mIn[7], line 1\u001b[0m\n\u001b[1;32m----> 1\u001b[0m f \u001b[38;5;241m=\u001b[39m \u001b[38;5;28;43mopen\u001b[39;49m\u001b[43m(\u001b[49m\u001b[38;5;124;43m\"\u001b[39;49m\u001b[38;5;124;43mexample2.txt\u001b[39;49m\u001b[38;5;124;43m\"\u001b[39;49m\u001b[43m,\u001b[49m\u001b[38;5;124;43m\"\u001b[39;49m\u001b[38;5;124;43mr\u001b[39;49m\u001b[38;5;124;43m\"\u001b[39;49m\u001b[43m)\u001b[49m\n\u001b[0;32m      2\u001b[0m \u001b[38;5;28mprint\u001b[39m(\u001b[38;5;241m6\u001b[39m\u001b[38;5;241m+\u001b[39m\u001b[38;5;241m3\u001b[39m)\n\u001b[0;32m      3\u001b[0m \u001b[38;5;28mprint\u001b[39m(\u001b[38;5;124m\"\u001b[39m\u001b[38;5;124mThe file is opened and now I am performing some steps\u001b[39m\u001b[38;5;124m\"\u001b[39m)\n",
      "File \u001b[1;32m~\\AppData\\Local\\Programs\\Python\\Python311\\Lib\\site-packages\\IPython\\core\\interactiveshell.py:324\u001b[0m, in \u001b[0;36m_modified_open\u001b[1;34m(file, *args, **kwargs)\u001b[0m\n\u001b[0;32m    317\u001b[0m \u001b[38;5;28;01mif\u001b[39;00m file \u001b[38;5;129;01min\u001b[39;00m {\u001b[38;5;241m0\u001b[39m, \u001b[38;5;241m1\u001b[39m, \u001b[38;5;241m2\u001b[39m}:\n\u001b[0;32m    318\u001b[0m     \u001b[38;5;28;01mraise\u001b[39;00m \u001b[38;5;167;01mValueError\u001b[39;00m(\n\u001b[0;32m    319\u001b[0m         \u001b[38;5;124mf\u001b[39m\u001b[38;5;124m\"\u001b[39m\u001b[38;5;124mIPython won\u001b[39m\u001b[38;5;124m'\u001b[39m\u001b[38;5;124mt let you open fd=\u001b[39m\u001b[38;5;132;01m{\u001b[39;00mfile\u001b[38;5;132;01m}\u001b[39;00m\u001b[38;5;124m by default \u001b[39m\u001b[38;5;124m\"\u001b[39m\n\u001b[0;32m    320\u001b[0m         \u001b[38;5;124m\"\u001b[39m\u001b[38;5;124mas it is likely to crash IPython. If you know what you are doing, \u001b[39m\u001b[38;5;124m\"\u001b[39m\n\u001b[0;32m    321\u001b[0m         \u001b[38;5;124m\"\u001b[39m\u001b[38;5;124myou can use builtins\u001b[39m\u001b[38;5;124m'\u001b[39m\u001b[38;5;124m open.\u001b[39m\u001b[38;5;124m\"\u001b[39m\n\u001b[0;32m    322\u001b[0m     )\n\u001b[1;32m--> 324\u001b[0m \u001b[38;5;28;01mreturn\u001b[39;00m \u001b[43mio_open\u001b[49m\u001b[43m(\u001b[49m\u001b[43mfile\u001b[49m\u001b[43m,\u001b[49m\u001b[43m \u001b[49m\u001b[38;5;241;43m*\u001b[39;49m\u001b[43margs\u001b[49m\u001b[43m,\u001b[49m\u001b[43m \u001b[49m\u001b[38;5;241;43m*\u001b[39;49m\u001b[38;5;241;43m*\u001b[39;49m\u001b[43mkwargs\u001b[49m\u001b[43m)\u001b[49m\n",
      "\u001b[1;31mFileNotFoundError\u001b[0m: [Errno 2] No such file or directory: 'example2.txt'"
     ]
    }
   ],
   "source": [
    "f = open(\"example2.txt\",\"r\")\n",
    "print(6+3)\n",
    "print(\"The file is opened and now I am performing some steps\")"
   ]
  },
  {
   "cell_type": "code",
   "execution_count": null,
   "id": "9f0254ac-6eaa-45de-a0e3-e255f3de7582",
   "metadata": {},
   "outputs": [],
   "source": [
    "# you were expecting something but it didn,t happen, due to which the subspicious line\n",
    "threw error and the next lines of code didn't got executed.\n",
    "Zero division error,typeerror,filenotfound error >> this are exceptions rising due to suspicious code\n",
    "otherexceptions >> import error,runtime error\n",
    "\n",
    "list of exceptions >> https://docs.python.org/3/tutorial/errors.html\n",
    "\n",
    "# why do we need to handle suspicious code/execeptions?\n",
    "--Robust Application\n",
    "--code cleaner >> fellow devloper understands the corner cases\n",
    "\n",
    "# how to handle exceptions\n",
    ">>> using try catch block to handle exceptions\n",
    ">> whenever exception occurs >> python stops the program and generate exception\n",
    ">> handling this exception is advised\n",
    ">> every code that is riskey/subspicious you should do exception handling"
   ]
  },
  {
   "cell_type": "code",
   "execution_count": null,
   "id": "06d9c7bc-d85d-4cda-94b5-1678e5384d3a",
   "metadata": {},
   "outputs": [],
   "source": [
    "# syntax of try except\n",
    "#try:\n",
    "    #suspicious code\n",
    "#except:\n",
    "    #executed when exception occurs in try block"
   ]
  },
  {
   "cell_type": "code",
   "execution_count": 9,
   "id": "2ca98aee-6ac1-431d-b5f9-85f4d0d54905",
   "metadata": {},
   "outputs": [
    {
     "name": "stdout",
     "output_type": "stream",
     "text": [
      "There is an issue with the code and issue is: [Errno 2] No such file or directory: 'example2.txt'\n",
      "9\n",
      "This is my next steps\n"
     ]
    }
   ],
   "source": [
    "try:\n",
    "    f = open(\"example2.txt\",\"r\")\n",
    "except Exception as e: # exception wil alwyas comes inside except block \n",
    "    print(\"There is an issue with the code and issue is:\",e)\n",
    "print(6+3)\n",
    "print(\"This is my next steps\")"
   ]
  },
  {
   "cell_type": "code",
   "execution_count": 10,
   "id": "c4ac6bbd-bef7-4b38-9cff-73c1c5b0b6c3",
   "metadata": {},
   "outputs": [
    {
     "name": "stdout",
     "output_type": "stream",
     "text": [
      "division by zero\n",
      "8\n",
      "Your name is pratap\n",
      "5\n",
      "The code ends\n"
     ]
    }
   ],
   "source": [
    "try:\n",
    "    5/0\n",
    "except Exception as e:\n",
    "    print(e)\n",
    "print(5+3)\n",
    "print(\"Your name is pratap\")\n",
    "print(2+3)\n",
    "print(\"The code ends\")"
   ]
  },
  {
   "cell_type": "code",
   "execution_count": 12,
   "id": "35d7e7d3-cec5-4484-8ebb-c2a4c3d594c5",
   "metadata": {},
   "outputs": [
    {
     "name": "stdout",
     "output_type": "stream",
     "text": [
      "There is an issue with the code and issue is: [Errno 2] No such file or directory: 'example2.txt'\n"
     ]
    }
   ],
   "source": [
    "try:\n",
    "    f = open(\"example2.txt\",\"r\")\n",
    "except Exception as e:\n",
    "    print(\"There is an issue with the code and issue is:\",e)\n",
    "else:\n",
    "    print(5+3)\n",
    "    print(\"This will be executed if try except block is executed without any exception\")"
   ]
  },
  {
   "cell_type": "raw",
   "id": "bb87f25e-5317-4da3-80a8-99f983a59bbc",
   "metadata": {},
   "source": [
    "# use case of else >> you want to execute some code only if the try statement is successful and code doesn't enter into exception block "
   ]
  },
  {
   "cell_type": "code",
   "execution_count": 13,
   "id": "2ed872c0-3354-42e8-afc9-b1d06388cd35",
   "metadata": {},
   "outputs": [
    {
     "name": "stdout",
     "output_type": "stream",
     "text": [
      "8\n",
      "This will be executed if try except block is executed without any exception\n"
     ]
    }
   ],
   "source": [
    "# use case1\n",
    "try:\n",
    "    f = open(\"example2.txt\",\"w\")\n",
    "except Exception as e:\n",
    "    print(\"There is an issue with the code and issue is:\",e)\n",
    "else:\n",
    "    print(5+3)\n",
    "    print(\"This will be executed if try except block is executed without any exception\")"
   ]
  },
  {
   "cell_type": "code",
   "execution_count": 14,
   "id": "de536b1e-52ef-487e-92e5-536bb728f04e",
   "metadata": {},
   "outputs": [
    {
     "name": "stdout",
     "output_type": "stream",
     "text": [
      "8\n",
      "This will be executed if try except block is executed without any exception\n"
     ]
    }
   ],
   "source": [
    "# use case2\n",
    "try:\n",
    "    f = open(\"example2.txt\",\"w\")\n",
    "    f.write(\"Hello to exception handling\") \n",
    "# you will not be able to see written content untill ypu close the file in else block\n",
    "except Exception as e:\n",
    "    print(\"There is an issue with the code and issue is:\",e)\n",
    "else:\n",
    "    print(5+3)\n",
    "    print(\"This will be executed if try except block is executed without any exception\")"
   ]
  },
  {
   "cell_type": "code",
   "execution_count": 15,
   "id": "550e77ad-feec-4a25-bc60-205bd594c95e",
   "metadata": {},
   "outputs": [
    {
     "name": "stdout",
     "output_type": "stream",
     "text": [
      "8\n",
      "This will be executed if try except block is executed without any exception\n"
     ]
    }
   ],
   "source": [
    "\n",
    "try:\n",
    "    f = open(\"example2.txt\",\"w\")\n",
    "    f.write(\"Hello to exception handling\") \n",
    "# you will not be able to see written content untill ypu close the file in else block\n",
    "except Exception as e:\n",
    "    print(\"There is an issue with the code and issue is:\",e)\n",
    "else:\n",
    "    f.close()\n",
    "    print(5+3)\n",
    "    print(\"This will be executed if try except block is executed without any exception\")"
   ]
  },
  {
   "cell_type": "code",
   "execution_count": null,
   "id": "5795fdbd-fabd-45ee-b179-882729584e26",
   "metadata": {},
   "outputs": [],
   "source": [
    "# else block is very helpful when your code didn't enter the exception block\n",
    "# for example you wanted to close the file after it was opened in try block "
   ]
  },
  {
   "cell_type": "code",
   "execution_count": 16,
   "id": "6b675e2f-97dc-47db-b691-894be26930e1",
   "metadata": {},
   "outputs": [
    {
     "name": "stdout",
     "output_type": "stream",
     "text": [
      "8\n",
      "This will be executed if try except block is executed without any exception\n",
      "This will be executed always\n"
     ]
    }
   ],
   "source": [
    "# finally block >> always executed\n",
    "# even if you enter exception block or not, finally will be executed always\n",
    "# similar to running other line of code\n",
    "try:\n",
    "    f = open(\"example2.txt\",\"w\")\n",
    "    f.write(\"Hello to exception handling\") \n",
    "    \n",
    "except Exception as e:\n",
    "    print(\"There is an issue with the code and issue is:\",e)\n",
    "else:\n",
    "    f.close()\n",
    "    print(5+3)\n",
    "    print(\"This will be executed if try except block is executed without any exception\")\n",
    "finally:\n",
    "    print(\"This will be executed always\")"
   ]
  },
  {
   "cell_type": "code",
   "execution_count": 17,
   "id": "d2749cca-e2da-46f9-bbb5-b112439be310",
   "metadata": {},
   "outputs": [
    {
     "name": "stdout",
     "output_type": "stream",
     "text": [
      "8\n",
      "This will be executed if try except block is executed without any exception\n",
      "This will be executed always\n"
     ]
    }
   ],
   "source": [
    "try:\n",
    "    f = open(\"example1.txt\",\"w\")\n",
    "    f.write(\"Hello to exception handling\") \n",
    "    \n",
    "except Exception as e:\n",
    "    print(\"There is an issue with the code and issue is:\",e)\n",
    "else:\n",
    "    f.close()\n",
    "    print(5+3)\n",
    "    print(\"This will be executed if try except block is executed without any exception\")\n",
    "finally:\n",
    "    print(\"This will be executed always\")"
   ]
  },
  {
   "cell_type": "code",
   "execution_count": 21,
   "id": "eb74c9d8-014f-4959-961d-cc754a7d2422",
   "metadata": {},
   "outputs": [
    {
     "name": "stdout",
     "output_type": "stream",
     "text": [
      "8\n",
      "This will be executed if try except block is executed without any exception\n",
      "This will be executed always\n"
     ]
    }
   ],
   "source": [
    "try:\n",
    "    f = open(\"example1.txt\",\"w\")\n",
    "    f.write(\"Hello to exception handling\") \n",
    "    \n",
    "except Exception as e:\n",
    "    print(\"There is an issue with the code and issue is:\",e)\n",
    "else:\n",
    "    f.close()\n",
    "    print(5+3)\n",
    "    print(\"This will be executed if try except block is executed without any exception\")\n",
    "\n",
    "print(\"This will be executed always\")"
   ]
  },
  {
   "cell_type": "code",
   "execution_count": 20,
   "id": "c9c65ad3-deac-40c6-a69c-433a2e17a203",
   "metadata": {},
   "outputs": [
    {
     "name": "stdout",
     "output_type": "stream",
     "text": [
      "There is an issue with the code and issue is: [Errno 2] No such file or directory: 'example3.txt'\n",
      "This will be executed always\n"
     ]
    }
   ],
   "source": [
    "try:\n",
    "    f = open(\"example3.txt\",\"r\")\n",
    "    f.write(\"Hello to exception handling\") \n",
    "    \n",
    "except Exception as e:\n",
    "    print(\"There is an issue with the code and issue is:\",e)\n",
    "else:\n",
    "    f.close()\n",
    "    print(5+3)\n",
    "    print(\"This will be executed if try except block is executed without any exception\")\n",
    "\n",
    "print(\"This will be executed always\")"
   ]
  },
  {
   "cell_type": "code",
   "execution_count": 22,
   "id": "38ea2d1f-b607-4070-a932-a0319d7a9de4",
   "metadata": {},
   "outputs": [
    {
     "name": "stdout",
     "output_type": "stream",
     "text": [
      "division by zero\n",
      "This will be printed always\n"
     ]
    }
   ],
   "source": [
    "# another example\n",
    "\n",
    "try:\n",
    "    5/0\n",
    "\n",
    "except Exception as e:\n",
    "    print(e)\n",
    "finally:\n",
    "    print(\"This will be printed always\")"
   ]
  },
  {
   "cell_type": "code",
   "execution_count": 24,
   "id": "c5c1abb4-2f71-40c9-8175-e9e4883b0cc2",
   "metadata": {},
   "outputs": [
    {
     "name": "stdin",
     "output_type": "stream",
     "text": [
      "Enter your salary -300\n"
     ]
    }
   ],
   "source": [
    "# Custom exception \n",
    "\n",
    "income = int(input(\"Enter your salary\"))"
   ]
  },
  {
   "cell_type": "code",
   "execution_count": 25,
   "id": "6bdf7d4c-72e8-4d5c-8582-f132b6578f2f",
   "metadata": {},
   "outputs": [],
   "source": [
    "def validate_salary(salary):\n",
    "    if salary <= 0:\n",
    "        print(\"Negative salary is not possible\")\n",
    "    elif salary >= 300000000:\n",
    "        print(\"Salary is unexpected\")\n",
    "    else:\n",
    "        print(\"Salary is valid\")"
   ]
  },
  {
   "cell_type": "code",
   "execution_count": 26,
   "id": "98cb6d7a-6ff4-4056-895b-e004a5a14762",
   "metadata": {},
   "outputs": [
    {
     "name": "stdout",
     "output_type": "stream",
     "text": [
      "Salary is valid\n"
     ]
    }
   ],
   "source": [
    "validate_salary(500)"
   ]
  },
  {
   "cell_type": "code",
   "execution_count": 27,
   "id": "f91c0e00-45e8-44db-92eb-84878961be6e",
   "metadata": {},
   "outputs": [],
   "source": [
    "# custom exception class\n",
    "class ValidateSalary(Exception): # exception is the parent class where all type of python exceptions are available\n",
    "    def __init__(self,msg):\n",
    "        self.msg = msg"
   ]
  },
  {
   "cell_type": "code",
   "execution_count": 28,
   "id": "26e508b1-cc75-403a-a904-a59f823be07e",
   "metadata": {},
   "outputs": [],
   "source": [
    "def validate_salary(salary):\n",
    "    if salary <= 0:\n",
    "        raise ValidateSalary(\"Negative salary is not possible\")\n",
    "    elif salary >= 300000000:\n",
    "        raise ValidateSalary(\"Salary is unexpected\")\n",
    "    else:\n",
    "        print(\"Salary is valid\")"
   ]
  },
  {
   "cell_type": "code",
   "execution_count": 31,
   "id": "1e527632-9b36-48ad-98e7-237a25560a76",
   "metadata": {},
   "outputs": [
    {
     "name": "stdin",
     "output_type": "stream",
     "text": [
      "Enter your salary 30000000000000000\n"
     ]
    },
    {
     "name": "stdout",
     "output_type": "stream",
     "text": [
      "Salary is unexpected\n"
     ]
    }
   ],
   "source": [
    "try:\n",
    "    salary = int(input(\"Enter your salary\"))\n",
    "    validate_salary(salary)\n",
    "except ValidateSalary as e:\n",
    "    print(e)"
   ]
  }
 ],
 "metadata": {
  "kernelspec": {
   "display_name": "Python 3 (ipykernel)",
   "language": "python",
   "name": "python3"
  },
  "language_info": {
   "codemirror_mode": {
    "name": "ipython",
    "version": 3
   },
   "file_extension": ".py",
   "mimetype": "text/x-python",
   "name": "python",
   "nbconvert_exporter": "python",
   "pygments_lexer": "ipython3",
   "version": "3.11.9"
  }
 },
 "nbformat": 4,
 "nbformat_minor": 5
}
