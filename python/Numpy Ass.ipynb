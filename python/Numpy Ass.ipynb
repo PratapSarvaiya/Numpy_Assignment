{
 "cells": [
  {
   "cell_type": "markdown",
   "id": "8833fd47-3004-47f0-8a52-85f5377f1b5a",
   "metadata": {},
   "source": [
    "# 1. Create a 3x3 NumPy array with random integers between 1 and 100. Then, interchange its rows and columns."
   ]
  },
  {
   "cell_type": "code",
   "execution_count": 9,
   "id": "940b0d4c-24e2-4c45-828e-e62b5422ae06",
   "metadata": {},
   "outputs": [],
   "source": [
    "import numpy as np\n",
    "arr = np.random.randint(0,101,(3,3))"
   ]
  },
  {
   "cell_type": "code",
   "execution_count": 10,
   "id": "ef27aea5-92a3-4fd5-92bb-73e64e65d253",
   "metadata": {},
   "outputs": [
    {
     "data": {
      "text/plain": [
       "array([[30,  5, 83],\n",
       "       [97, 21, 24],\n",
       "       [64, 40, 85]], dtype=int32)"
      ]
     },
     "execution_count": 10,
     "metadata": {},
     "output_type": "execute_result"
    }
   ],
   "source": [
    "arr"
   ]
  },
  {
   "cell_type": "code",
   "execution_count": 11,
   "id": "5561d1c7-96a6-4403-9b4f-2fb4ba7722e0",
   "metadata": {},
   "outputs": [
    {
     "data": {
      "text/plain": [
       "array([[30, 97, 64],\n",
       "       [ 5, 21, 40],\n",
       "       [83, 24, 85]], dtype=int32)"
      ]
     },
     "execution_count": 11,
     "metadata": {},
     "output_type": "execute_result"
    }
   ],
   "source": [
    "arr.T"
   ]
  },
  {
   "cell_type": "markdown",
   "id": "21de1a84-709b-4a88-9907-7f17858f2079",
   "metadata": {},
   "source": [
    "# 2. Generate a 1D NumPy array with 10 elements. Reshape it into a 2x5 array, then into a 5x2 array"
   ]
  },
  {
   "cell_type": "code",
   "execution_count": 12,
   "id": "5f12b06f-962e-4e4a-9136-ec2ef8c58d9b",
   "metadata": {},
   "outputs": [],
   "source": [
    "import numpy as np\n",
    "arr1 = np.array([1,2,3,4,5,6,7,8,9,10])"
   ]
  },
  {
   "cell_type": "code",
   "execution_count": 13,
   "id": "0931e182-340b-47f5-93b6-b64a346d49d4",
   "metadata": {},
   "outputs": [
    {
     "data": {
      "text/plain": [
       "array([ 1,  2,  3,  4,  5,  6,  7,  8,  9, 10])"
      ]
     },
     "execution_count": 13,
     "metadata": {},
     "output_type": "execute_result"
    }
   ],
   "source": [
    "arr1"
   ]
  },
  {
   "cell_type": "code",
   "execution_count": 14,
   "id": "08a4759d-c96d-4a49-8834-40929ac88ff9",
   "metadata": {},
   "outputs": [
    {
     "data": {
      "text/plain": [
       "numpy.ndarray"
      ]
     },
     "execution_count": 14,
     "metadata": {},
     "output_type": "execute_result"
    }
   ],
   "source": [
    "type(arr1)"
   ]
  },
  {
   "cell_type": "code",
   "execution_count": 15,
   "id": "641e1951-39ed-42e0-89fb-08f07cad296c",
   "metadata": {},
   "outputs": [
    {
     "data": {
      "text/plain": [
       "array([[ 1,  2,  3,  4,  5],\n",
       "       [ 6,  7,  8,  9, 10]])"
      ]
     },
     "execution_count": 15,
     "metadata": {},
     "output_type": "execute_result"
    }
   ],
   "source": [
    "arr1.reshape(2,5)"
   ]
  },
  {
   "cell_type": "code",
   "execution_count": 16,
   "id": "56a5645d-30aa-46af-9cc6-af5eb40f5d16",
   "metadata": {},
   "outputs": [
    {
     "data": {
      "text/plain": [
       "array([[ 1,  2],\n",
       "       [ 3,  4],\n",
       "       [ 5,  6],\n",
       "       [ 7,  8],\n",
       "       [ 9, 10]])"
      ]
     },
     "execution_count": 16,
     "metadata": {},
     "output_type": "execute_result"
    }
   ],
   "source": [
    "arr1.reshape(5,2)"
   ]
  },
  {
   "cell_type": "markdown",
   "id": "81d3431b-7c88-4e28-9960-5f9e7f62e27b",
   "metadata": {},
   "source": [
    "# 3. Create a 4x4 NumPy array with random float values. Add a border of zeros around it, resulting in a 6x6 array."
   ]
  },
  {
   "cell_type": "code",
   "execution_count": 31,
   "id": "d2e8dd3b-821a-42a6-911e-4801da39ceb1",
   "metadata": {},
   "outputs": [],
   "source": [
    "import numpy as np \n",
    "arr2 = np.random.rand(4,4)"
   ]
  },
  {
   "cell_type": "code",
   "execution_count": 32,
   "id": "431e9686-5cae-4f3d-8433-15d7c2c2bb16",
   "metadata": {},
   "outputs": [
    {
     "data": {
      "text/plain": [
       "array([[0.43135194, 0.11262903, 0.21142885, 0.30142146],\n",
       "       [0.13783081, 0.04313855, 0.35115254, 0.20160814],\n",
       "       [0.75340725, 0.93909213, 0.52101313, 0.56109233],\n",
       "       [0.74880317, 0.53262065, 0.41458713, 0.81836698]])"
      ]
     },
     "execution_count": 32,
     "metadata": {},
     "output_type": "execute_result"
    }
   ],
   "source": [
    "arr2"
   ]
  },
  {
   "cell_type": "code",
   "execution_count": 39,
   "id": "b36e290f-9903-403e-8094-dcf9c9ee3676",
   "metadata": {},
   "outputs": [],
   "source": [
    "arr3 = np.pad(arr2,pad_width=1, mode='constant',constant_values=0)"
   ]
  },
  {
   "cell_type": "code",
   "execution_count": 40,
   "id": "78b1636d-e8c1-4fd3-b4fb-6ef18a772ac0",
   "metadata": {},
   "outputs": [
    {
     "data": {
      "text/plain": [
       "array([[0.        , 0.        , 0.        , 0.        , 0.        ,\n",
       "        0.        ],\n",
       "       [0.        , 0.43135194, 0.11262903, 0.21142885, 0.30142146,\n",
       "        0.        ],\n",
       "       [0.        , 0.13783081, 0.04313855, 0.35115254, 0.20160814,\n",
       "        0.        ],\n",
       "       [0.        , 0.75340725, 0.93909213, 0.52101313, 0.56109233,\n",
       "        0.        ],\n",
       "       [0.        , 0.74880317, 0.53262065, 0.41458713, 0.81836698,\n",
       "        0.        ],\n",
       "       [0.        , 0.        , 0.        , 0.        , 0.        ,\n",
       "        0.        ]])"
      ]
     },
     "execution_count": 40,
     "metadata": {},
     "output_type": "execute_result"
    }
   ],
   "source": [
    "arr3"
   ]
  },
  {
   "cell_type": "markdown",
   "id": "ec3ba002-7101-4d73-9ac3-6fbfd7a71209",
   "metadata": {},
   "source": [
    "# 4. Using NumPy, create an array of integers from 10 to 60 with a step of 5."
   ]
  },
  {
   "cell_type": "code",
   "execution_count": 60,
   "id": "c0142742-723c-482f-a7b1-c44825a63704",
   "metadata": {},
   "outputs": [],
   "source": [
    "import numpy as np\n",
    "a1 = np.arange(10,65,5)"
   ]
  },
  {
   "cell_type": "code",
   "execution_count": 61,
   "id": "d8654e58-b291-41b6-a8be-b9df24ad640a",
   "metadata": {},
   "outputs": [
    {
     "data": {
      "text/plain": [
       "array([10, 15, 20, 25, 30, 35, 40, 45, 50, 55, 60])"
      ]
     },
     "execution_count": 61,
     "metadata": {},
     "output_type": "execute_result"
    }
   ],
   "source": [
    "a1"
   ]
  },
  {
   "cell_type": "markdown",
   "id": "0128a613-9e34-4c51-9574-33b27c9ddb83",
   "metadata": {},
   "source": [
    "# 5. Create a NumPy array of strings ['python', 'numpy', 'pandas']. Apply different case transformations(uppercase, lowercase, title case, etc.) to each element."
   ]
  },
  {
   "cell_type": "code",
   "execution_count": 69,
   "id": "e1af82fa-cc18-4f96-9ea8-42236e067e27",
   "metadata": {},
   "outputs": [
    {
     "name": "stdout",
     "output_type": "stream",
     "text": [
      "Original Array:['python' 'numpy' 'pandas']\n",
      "upper: ['PYTHON' 'NUMPY' 'PANDAS']\n",
      "lower: ['python' 'numpy' 'pandas']\n",
      "title: ['Python' 'Numpy' 'Pandas']\n"
     ]
    }
   ],
   "source": [
    "import numpy as np\n",
    "a = np.array( ['python', 'numpy', 'pandas'])\n",
    "print(f\"Original Array:{a}\")\n",
    "\n",
    "# converting all characters to uppercase\n",
    "upper_case = np.char.upper(a)  \n",
    "\n",
    "# converting all characters to lercase\n",
    "lower_case = np.char.lower(a)\n",
    "\n",
    "# convertig the first character of each word in the string\n",
    "title_case = np.char.title(a)\n",
    "\n",
    "print(\"upper:\",upper_case )\n",
    "print(\"lower:\",lower_case)\n",
    "print(\"title:\",title_case)"
   ]
  },
  {
   "cell_type": "markdown",
   "id": "a2e46a1d-ba02-4df8-b2c9-f9a3344ab861",
   "metadata": {},
   "source": [
    "# 6. Generate a NumPy array of words. Insert a space between each character of every word in the array."
   ]
  },
  {
   "cell_type": "code",
   "execution_count": 71,
   "id": "86073b0f-bf31-482f-8a2d-78f26d897c45",
   "metadata": {},
   "outputs": [
    {
     "name": "stdout",
     "output_type": "stream",
     "text": [
      "Original Array:['python assignment' 'pandas' 'seaborn' 'numpy' 'plotly']\n",
      "['p y t h o n   a s s i g n m e n t' 'p a n d a s' 's e a b o r n'\n",
      " 'n u m p y' 'p l o t l y']\n"
     ]
    }
   ],
   "source": [
    "import numpy as np\n",
    "\n",
    "arr = np.array(['python assignment','pandas','seaborn','numpy','plotly'])\n",
    "print(f\"Original Array:{arr}\")\n",
    "\n",
    "# using np.char.join to join elements of the array with a space character\n",
    "r = np.char.join(\" \",arr)\n",
    "\n",
    "print(r)"
   ]
  },
  {
   "cell_type": "markdown",
   "id": "4ba86914-2516-433e-bad5-11e0ba94f89d",
   "metadata": {},
   "source": [
    "# 7. Create two 2D NumPy arrays and perform element-wise addition, subtraction, multiplication, and division."
   ]
  },
  {
   "cell_type": "code",
   "execution_count": 108,
   "id": "7e9dac35-2272-41d7-8165-98fc99d67814",
   "metadata": {},
   "outputs": [
    {
     "name": "stdout",
     "output_type": "stream",
     "text": [
      "a2: [[1 2 3 4]]\n",
      "a3: [[2 3 4 5]]\n",
      "addition: [[3 5 7 9]]\n",
      "substraction: [[-1 -1 -1 -1]]\n",
      "multiplication: [[ 2  6 12 20]]\n",
      "Division: [[0.5        0.66666667 0.75       0.8       ]]\n"
     ]
    }
   ],
   "source": [
    "import numpy as np\n",
    "a2 = np.array([[1,2,3,4]])\n",
    "a3 = np.array([[2,3,4,5]])\n",
    "print(\"a2:\",a2)\n",
    "print(\"a3:\",a3)\n",
    "\n",
    "a = a2+a3\n",
    "print(\"addition:\",a)\n",
    "\n",
    "b = a2-a3\n",
    "print(\"substraction:\",b)\n",
    "\n",
    "c = a2*a3\n",
    "print(\"multiplication:\",c)\n",
    "\n",
    "d= a2/a3\n",
    "print(\"Division:\",d)"
   ]
  },
  {
   "cell_type": "markdown",
   "id": "4146b890-2bc7-4f84-8f0e-62dbed04eabe",
   "metadata": {},
   "source": [
    "# 8. Use NumPy to create a 5x5 identity matrix, then extract its diagonal elements"
   ]
  },
  {
   "cell_type": "code",
   "execution_count": 114,
   "id": "06c85181-95de-466c-8beb-80fc112dedeb",
   "metadata": {},
   "outputs": [],
   "source": [
    "import numpy as np\n",
    "m = np.matrix([[1,0,0,0,0],[0,1,0,0,0],[0,0,1,0,0],[0,0,0,1,0],[0,0,0,0,1]])"
   ]
  },
  {
   "cell_type": "code",
   "execution_count": 115,
   "id": "bd517a69-86c9-4aa2-974f-206d2cf79be9",
   "metadata": {},
   "outputs": [
    {
     "data": {
      "text/plain": [
       "matrix([[1, 0, 0, 0, 0],\n",
       "        [0, 1, 0, 0, 0],\n",
       "        [0, 0, 1, 0, 0],\n",
       "        [0, 0, 0, 1, 0],\n",
       "        [0, 0, 0, 0, 1]])"
      ]
     },
     "execution_count": 115,
     "metadata": {},
     "output_type": "execute_result"
    }
   ],
   "source": [
    "m"
   ]
  },
  {
   "cell_type": "code",
   "execution_count": 128,
   "id": "aa3717ca-61e6-4969-9adc-b40da812f036",
   "metadata": {},
   "outputs": [
    {
     "name": "stdout",
     "output_type": "stream",
     "text": [
      "5x5 Identity Matrix:\n",
      "[[1. 0. 0. 0. 0.]\n",
      " [0. 1. 0. 0. 0.]\n",
      " [0. 0. 1. 0. 0.]\n",
      " [0. 0. 0. 1. 0.]\n",
      " [0. 0. 0. 0. 1.]]\n",
      "\n",
      "Diagonal Elements:\n",
      "[1. 1. 1. 1. 1.]\n"
     ]
    }
   ],
   "source": [
    "import numpy as np\n",
    "\n",
    "identity_matrix = np.eye(5)\n",
    "\n",
    "diagonal_elements = np.diag(identity_matrix)\n",
    "\n",
    "print(f\"5x5 Identity Matrix:\\n{identity_matrix}\")\n",
    "\n",
    "print(f\"\\nDiagonal Elements:\\n{diagonal_elements}\")\n"
   ]
  },
  {
   "cell_type": "markdown",
   "id": "f28c9f2d-f82d-46f4-9bfd-35656d47ec02",
   "metadata": {},
   "source": [
    "# 9. Generate a NumPy array of 100 random integers between 0 and 1000. Find and display all prime numbers inthis array."
   ]
  },
  {
   "cell_type": "code",
   "execution_count": 2,
   "id": "1b8108cd-6766-41fd-ab88-f7963d5108a4",
   "metadata": {},
   "outputs": [
    {
     "name": "stdout",
     "output_type": "stream",
     "text": [
      "Original Array:\n",
      "[867 869 686 572 900 712 952 968 683 389 783 886 884 938 488 168 513 515\n",
      " 641 987  14 111 581 522 324 787 802 974 126 910 275 870 570 213 805  72\n",
      " 246 614 926 178 672 832   1 157 545 672 706 713 756 611 612 262 157 263\n",
      " 644 579 195 883 994 379 474 867 556 429 494 989 485 856 574 444 344 875\n",
      " 745 862 948 586 574 596 531 478 700  54 910 734 894 657 786 647  19 382\n",
      " 181 412 650 985 256 340 159 913 763 679]\n",
      "\n",
      "Prime Numbers in the Array:\n",
      "[np.int32(683), np.int32(389), np.int32(641), np.int32(787), np.int32(157), np.int32(157), np.int32(263), np.int32(883), np.int32(379), np.int32(647), np.int32(19), np.int32(181)]\n"
     ]
    }
   ],
   "source": [
    "import numpy as np\n",
    "\n",
    "# Create a random integers\n",
    "random_integers = np.random.randint(0, 1001, size=100)\n",
    "\n",
    "# Function to check if a number is prime\n",
    "def is_prime(n):\n",
    "    if n < 2:\n",
    "        return False\n",
    "    for i in range(2, int(np.sqrt(n)) + 1):\n",
    "        if n % i == 0:\n",
    "            return False\n",
    "    return True\n",
    "\n",
    "# Find prime numbers in the array\n",
    "prime_numbers = [num for num in random_integers if is_prime(num)]\n",
    "\n",
    "print(f\"Original Array:\\n{random_integers}\")\n",
    "print(f\"\\nPrime Numbers in the Array:\\n{prime_numbers}\")\n"
   ]
  },
  {
   "cell_type": "markdown",
   "id": "a203f344-eff2-407e-a2ea-b08f22aa5daf",
   "metadata": {},
   "source": [
    "# 10. Create a NumPy array representing daily temperatures for a month. Calculate and display the weekly averages."
   ]
  },
  {
   "cell_type": "code",
   "execution_count": 33,
   "id": "bcb7b1ed-9d64-4005-82f6-978bdfd2f36d",
   "metadata": {},
   "outputs": [
    {
     "name": "stdout",
     "output_type": "stream",
     "text": [
      "Daily Temperatures for the month: [27 31 16 19 30 16 33 16 28 28 16 18 26 15 33 15 25 19 20 17 23 17 24 24\n",
      " 23 16 27 16 26 26]\n",
      "\n",
      "weekly_averages: [24.57142857 21.         21.71428571 21.        ]\n",
      "\n",
      "Average of extra days: 26.0\n"
     ]
    }
   ],
   "source": [
    "import numpy as np\n",
    "\n",
    "# create a numpy array with random daily temperatures for 30 days\n",
    "daily_temperatures = np.random.randint(15,35,30)  # temparatures between 15 and 35 degrees\n",
    "\n",
    "# Reshape the array into weeks (assuming 4 full weeks ad 2 extra days)\n",
    "weeks = daily_temperatures[:28].reshape(4,7)\n",
    "\n",
    "# calculate weekly averages\n",
    "weekly_averages = np.mean(weeks,axis=1)\n",
    "\n",
    "print(\"Daily Temperatures for the month:\",daily_temperatures)\n",
    "print(\"\\nweekly_averages:\",weekly_averages)\n",
    "\n",
    "if len(daily_temperatures ) > 28:\n",
    "    extra_days_average = np.mean(daily_temperatures[28:])\n",
    "    print(\"\\nAverage of extra days:\",extra_days_average)"
   ]
  },
  {
   "cell_type": "code",
   "execution_count": null,
   "id": "34333030-84df-40b5-81b5-4794d24fd4da",
   "metadata": {},
   "outputs": [],
   "source": []
  }
 ],
 "metadata": {
  "kernelspec": {
   "display_name": "Python 3 (ipykernel)",
   "language": "python",
   "name": "python3"
  },
  "language_info": {
   "codemirror_mode": {
    "name": "ipython",
    "version": 3
   },
   "file_extension": ".py",
   "mimetype": "text/x-python",
   "name": "python",
   "nbconvert_exporter": "python",
   "pygments_lexer": "ipython3",
   "version": "3.11.9"
  }
 },
 "nbformat": 4,
 "nbformat_minor": 5
}
