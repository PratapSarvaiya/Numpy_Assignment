{
 "cells": [
  {
   "cell_type": "code",
   "execution_count": null,
   "id": "26bc4cee-51ea-4188-850e-889dcdc978d3",
   "metadata": {},
   "outputs": [],
   "source": [
    "# debugging >> it is the process of identifying and fixing bugs/issues in your code\n",
    "# debugging involves >> breaking the code(checkpoints), executing the code, inspecting the variables using print statement"
   ]
  },
  {
   "cell_type": "code",
   "execution_count": 13,
   "id": "6e12dcdc-8214-429e-85f2-19944a962568",
   "metadata": {},
   "outputs": [],
   "source": [
    "def divide(a,b):\n",
    "    \n",
    "    return a/b"
   ]
  },
  {
   "cell_type": "code",
   "execution_count": 14,
   "id": "c6236f76-7e1f-45bd-834f-6a5a4c89d2ea",
   "metadata": {},
   "outputs": [
    {
     "data": {
      "text/plain": [
       "5.0"
      ]
     },
     "execution_count": 14,
     "metadata": {},
     "output_type": "execute_result"
    }
   ],
   "source": [
    "divide(10,2)"
   ]
  },
  {
   "cell_type": "code",
   "execution_count": 15,
   "id": "213d77d1-9fcb-4f8a-8657-39f1ed11eccd",
   "metadata": {},
   "outputs": [
    {
     "data": {
      "text/plain": [
       "4.0"
      ]
     },
     "execution_count": 15,
     "metadata": {},
     "output_type": "execute_result"
    }
   ],
   "source": [
    "divide(12,3)"
   ]
  },
  {
   "cell_type": "code",
   "execution_count": 16,
   "id": "bb553b06-0111-41ce-b01a-b17c295558c9",
   "metadata": {},
   "outputs": [
    {
     "name": "stdout",
     "output_type": "stream",
     "text": [
      "-1 0\n",
      "0 1\n",
      "1 2\n",
      "2 3\n",
      "3 4\n",
      "4 5\n",
      "5 6\n",
      "6 7\n",
      "7 8\n",
      "8 9\n",
      "9 10\n"
     ]
    }
   ],
   "source": [
    "for i in range(-1,10):\n",
    "    print(i,i+1)"
   ]
  },
  {
   "cell_type": "code",
   "execution_count": 17,
   "id": "b11577f9-dcb6-4429-9cf4-084973977f65",
   "metadata": {},
   "outputs": [
    {
     "ename": "ZeroDivisionError",
     "evalue": "division by zero",
     "output_type": "error",
     "traceback": [
      "\u001b[1;31m---------------------------------------------------------------------------\u001b[0m",
      "\u001b[1;31mZeroDivisionError\u001b[0m                         Traceback (most recent call last)",
      "Cell \u001b[1;32mIn[17], line 2\u001b[0m\n\u001b[0;32m      1\u001b[0m \u001b[38;5;28;01mfor\u001b[39;00m i \u001b[38;5;129;01min\u001b[39;00m \u001b[38;5;28mrange\u001b[39m(\u001b[38;5;241m-\u001b[39m\u001b[38;5;241m10\u001b[39m,\u001b[38;5;241m10\u001b[39m):\n\u001b[1;32m----> 2\u001b[0m     \u001b[43mdivide\u001b[49m\u001b[43m(\u001b[49m\u001b[43mi\u001b[49m\u001b[43m,\u001b[49m\u001b[43mi\u001b[49m\u001b[38;5;241;43m+\u001b[39;49m\u001b[38;5;241;43m1\u001b[39;49m\u001b[43m)\u001b[49m\n",
      "Cell \u001b[1;32mIn[13], line 3\u001b[0m, in \u001b[0;36mdivide\u001b[1;34m(a, b)\u001b[0m\n\u001b[0;32m      1\u001b[0m \u001b[38;5;28;01mdef\u001b[39;00m \u001b[38;5;21mdivide\u001b[39m(a,b):\n\u001b[1;32m----> 3\u001b[0m     \u001b[38;5;28;01mreturn\u001b[39;00m \u001b[43ma\u001b[49m\u001b[38;5;241;43m/\u001b[39;49m\u001b[43mb\u001b[49m\n",
      "\u001b[1;31mZeroDivisionError\u001b[0m: division by zero"
     ]
    }
   ],
   "source": [
    "for i in range(-10,10):\n",
    "    divide(i,i+1)\n",
    "# you have called divide function many times\n",
    "# at somewhere its throwing error, but where?\n",
    "# you have to debug the code >> for what value of a and b parameter, its throwing error"
   ]
  },
  {
   "cell_type": "code",
   "execution_count": 4,
   "id": "d366a325-49f5-4da1-ba00-2b86573925b6",
   "metadata": {},
   "outputs": [
    {
     "ename": "ZeroDivisionError",
     "evalue": "division by zero",
     "output_type": "error",
     "traceback": [
      "\u001b[1;31m---------------------------------------------------------------------------\u001b[0m",
      "\u001b[1;31mZeroDivisionError\u001b[0m                         Traceback (most recent call last)",
      "Cell \u001b[1;32mIn[4], line 1\u001b[0m\n\u001b[1;32m----> 1\u001b[0m \u001b[43mdivide\u001b[49m\u001b[43m(\u001b[49m\u001b[38;5;241;43m10\u001b[39;49m\u001b[43m,\u001b[49m\u001b[38;5;241;43m0\u001b[39;49m\u001b[43m)\u001b[49m\n",
      "Cell \u001b[1;32mIn[1], line 2\u001b[0m, in \u001b[0;36mdivide\u001b[1;34m(a, b)\u001b[0m\n\u001b[0;32m      1\u001b[0m \u001b[38;5;28;01mdef\u001b[39;00m \u001b[38;5;21mdivide\u001b[39m(a,b):\n\u001b[1;32m----> 2\u001b[0m     \u001b[38;5;28;01mreturn\u001b[39;00m \u001b[43ma\u001b[49m\u001b[38;5;241;43m/\u001b[39;49m\u001b[43mb\u001b[49m\n",
      "\u001b[1;31mZeroDivisionError\u001b[0m: division by zero"
     ]
    }
   ],
   "source": [
    "divide(10,0)"
   ]
  },
  {
   "cell_type": "raw",
   "id": "4f0b4e42-9abe-4f2c-b410-9e7b841e1e7a",
   "metadata": {},
   "source": [
    "# how to debug:\n",
    "breaking the code(checkpoint),\n",
    "executing the code,\n",
    "inspecting the variables using print statement"
   ]
  },
  {
   "cell_type": "code",
   "execution_count": 18,
   "id": "d86a6410-8b82-441d-9136-31e9b85c6431",
   "metadata": {},
   "outputs": [
    {
     "ename": "ZeroDivisionError",
     "evalue": "division by zero",
     "output_type": "error",
     "traceback": [
      "\u001b[1;31m---------------------------------------------------------------------------\u001b[0m",
      "\u001b[1;31mZeroDivisionError\u001b[0m                         Traceback (most recent call last)",
      "Cell \u001b[1;32mIn[18], line 5\u001b[0m\n\u001b[0;32m      2\u001b[0m     \u001b[38;5;28;01mreturn\u001b[39;00m a\u001b[38;5;241m/\u001b[39mb\n\u001b[0;32m      4\u001b[0m \u001b[38;5;28;01mfor\u001b[39;00m i \u001b[38;5;129;01min\u001b[39;00m \u001b[38;5;28mrange\u001b[39m(\u001b[38;5;241m-\u001b[39m\u001b[38;5;241m10\u001b[39m,\u001b[38;5;241m10\u001b[39m):\n\u001b[1;32m----> 5\u001b[0m     \u001b[43mdivide\u001b[49m\u001b[43m(\u001b[49m\u001b[43mi\u001b[49m\u001b[43m,\u001b[49m\u001b[43mi\u001b[49m\u001b[38;5;241;43m+\u001b[39;49m\u001b[38;5;241;43m1\u001b[39;49m\u001b[43m)\u001b[49m\n\u001b[0;32m      6\u001b[0m \u001b[38;5;66;03m# breaking the code >>> here we understand that there are two steps involved\u001b[39;00m\n\u001b[0;32m      7\u001b[0m \u001b[38;5;66;03m# first a loop and second calling divide function in loop\u001b[39;00m\n",
      "Cell \u001b[1;32mIn[18], line 2\u001b[0m, in \u001b[0;36mdivide\u001b[1;34m(a, b)\u001b[0m\n\u001b[0;32m      1\u001b[0m \u001b[38;5;28;01mdef\u001b[39;00m \u001b[38;5;21mdivide\u001b[39m(a,b):\n\u001b[1;32m----> 2\u001b[0m     \u001b[38;5;28;01mreturn\u001b[39;00m \u001b[43ma\u001b[49m\u001b[38;5;241;43m/\u001b[39;49m\u001b[43mb\u001b[49m\n",
      "\u001b[1;31mZeroDivisionError\u001b[0m: division by zero"
     ]
    }
   ],
   "source": [
    "def divide(a,b):\n",
    "    return a/b\n",
    "\n",
    "for i in range(-10,10):\n",
    "    divide(i,i+1)\n",
    "# breaking the code >>> logically >> here we understand that there are two steps involved\n",
    "# break the code it terms of execution as well using return statement or print statement\n",
    "# first a loop and second calling divide function in loop"
   ]
  },
  {
   "cell_type": "code",
   "execution_count": 19,
   "id": "8815853e-c418-4073-acbf-a04e61cd1ed1",
   "metadata": {},
   "outputs": [
    {
     "name": "stdout",
     "output_type": "stream",
     "text": [
      "-10 -9\n",
      "-9 -8\n",
      "-8 -7\n",
      "-7 -6\n",
      "-6 -5\n",
      "-5 -4\n",
      "-4 -3\n",
      "-3 -2\n",
      "-2 -1\n",
      "-1 0\n"
     ]
    },
    {
     "ename": "ZeroDivisionError",
     "evalue": "division by zero",
     "output_type": "error",
     "traceback": [
      "\u001b[1;31m---------------------------------------------------------------------------\u001b[0m",
      "\u001b[1;31mZeroDivisionError\u001b[0m                         Traceback (most recent call last)",
      "Cell \u001b[1;32mIn[19], line 7\u001b[0m\n\u001b[0;32m      5\u001b[0m \u001b[38;5;28;01mfor\u001b[39;00m i \u001b[38;5;129;01min\u001b[39;00m \u001b[38;5;28mrange\u001b[39m(\u001b[38;5;241m-\u001b[39m\u001b[38;5;241m10\u001b[39m,\u001b[38;5;241m10\u001b[39m):\n\u001b[0;32m      6\u001b[0m     \u001b[38;5;28mprint\u001b[39m(i,i\u001b[38;5;241m+\u001b[39m\u001b[38;5;241m1\u001b[39m)\n\u001b[1;32m----> 7\u001b[0m     \u001b[43mdivide\u001b[49m\u001b[43m(\u001b[49m\u001b[43mi\u001b[49m\u001b[43m,\u001b[49m\u001b[43mi\u001b[49m\u001b[38;5;241;43m+\u001b[39;49m\u001b[38;5;241;43m1\u001b[39;49m\u001b[43m)\u001b[49m\n",
      "Cell \u001b[1;32mIn[19], line 3\u001b[0m, in \u001b[0;36mdivide\u001b[1;34m(a, b)\u001b[0m\n\u001b[0;32m      2\u001b[0m \u001b[38;5;28;01mdef\u001b[39;00m \u001b[38;5;21mdivide\u001b[39m(a,b):\n\u001b[1;32m----> 3\u001b[0m     \u001b[38;5;28;01mreturn\u001b[39;00m \u001b[43ma\u001b[49m\u001b[38;5;241;43m/\u001b[39;49m\u001b[43mb\u001b[49m\n",
      "\u001b[1;31mZeroDivisionError\u001b[0m: division by zero"
     ]
    }
   ],
   "source": [
    "# using print statement to debug\n",
    "def divide(a,b):\n",
    "    return a/b\n",
    "\n",
    "for i in range(-10,10):\n",
    "    print(i,i+1)\n",
    "    divide(i,i+1)"
   ]
  },
  {
   "cell_type": "code",
   "execution_count": 20,
   "id": "ee35cc10-8050-4a14-a1d0-9b2920a3aef6",
   "metadata": {},
   "outputs": [
    {
     "name": "stdout",
     "output_type": "stream",
     "text": [
      "-10 -9\n",
      "-9 -8\n",
      "-8 -7\n",
      "-7 -6\n",
      "-6 -5\n",
      "-5 -4\n",
      "-4 -3\n",
      "-3 -2\n",
      "-2 -1\n",
      "-1 0\n"
     ]
    },
    {
     "ename": "ZeroDivisionError",
     "evalue": "division by zero",
     "output_type": "error",
     "traceback": [
      "\u001b[1;31m---------------------------------------------------------------------------\u001b[0m",
      "\u001b[1;31mZeroDivisionError\u001b[0m                         Traceback (most recent call last)",
      "Cell \u001b[1;32mIn[20], line 8\u001b[0m\n\u001b[0;32m      5\u001b[0m     \u001b[38;5;28;01mreturn\u001b[39;00m a\u001b[38;5;241m/\u001b[39mb\n\u001b[0;32m      7\u001b[0m \u001b[38;5;28;01mfor\u001b[39;00m i \u001b[38;5;129;01min\u001b[39;00m \u001b[38;5;28mrange\u001b[39m(\u001b[38;5;241m-\u001b[39m\u001b[38;5;241m10\u001b[39m,\u001b[38;5;241m10\u001b[39m):\n\u001b[1;32m----> 8\u001b[0m     \u001b[43mdivide\u001b[49m\u001b[43m(\u001b[49m\u001b[43mi\u001b[49m\u001b[43m,\u001b[49m\u001b[43mi\u001b[49m\u001b[38;5;241;43m+\u001b[39;49m\u001b[38;5;241;43m1\u001b[39;49m\u001b[43m)\u001b[49m\n",
      "Cell \u001b[1;32mIn[20], line 5\u001b[0m, in \u001b[0;36mdivide\u001b[1;34m(a, b)\u001b[0m\n\u001b[0;32m      3\u001b[0m \u001b[38;5;28;01mdef\u001b[39;00m \u001b[38;5;21mdivide\u001b[39m(a,b):\n\u001b[0;32m      4\u001b[0m     \u001b[38;5;28mprint\u001b[39m(a,b)\n\u001b[1;32m----> 5\u001b[0m     \u001b[38;5;28;01mreturn\u001b[39;00m \u001b[43ma\u001b[49m\u001b[38;5;241;43m/\u001b[39;49m\u001b[43mb\u001b[49m\n",
      "\u001b[1;31mZeroDivisionError\u001b[0m: division by zero"
     ]
    }
   ],
   "source": [
    "# using another print statement inside the function\n",
    "\n",
    "def divide(a,b):\n",
    "    print(a,b)\n",
    "    return a/b\n",
    "\n",
    "for i in range(-10,10):\n",
    "    divide(i,i+1)"
   ]
  },
  {
   "cell_type": "code",
   "execution_count": 26,
   "id": "46b99a29-33f5-46ce-8ffc-232fc259e382",
   "metadata": {},
   "outputs": [
    {
     "name": "stdout",
     "output_type": "stream",
     "text": [
      "-10 -9\n",
      "-9 -8\n",
      "-8 -7\n",
      "-7 -6\n",
      "-6 -5\n",
      "-5 -4\n",
      "-4 -3\n",
      "-3 -2\n",
      "-2 -1\n",
      "-1 0\n",
      "zero division error\n",
      "0 1\n",
      "1 2\n",
      "2 3\n",
      "3 4\n",
      "4 5\n",
      "5 6\n",
      "6 7\n",
      "7 8\n",
      "8 9\n",
      "9 10\n"
     ]
    }
   ],
   "source": [
    "# from print statement you understand that when b is 0, it throws the error\n",
    "\n",
    "def divide(a,b):\n",
    "    print(a,b)\n",
    "    # breaking the code in terms of execution\n",
    "    if b == 0:\n",
    "        print(\"zero division error\")\n",
    "        return\n",
    "    return a/b\n",
    "\n",
    "for i in range(-10,10):\n",
    "    #print(i,i+1)\n",
    "    divide(i,i+1)"
   ]
  },
  {
   "cell_type": "code",
   "execution_count": null,
   "id": "e835f02b-d519-44d9-bc47-f1aab358176f",
   "metadata": {},
   "outputs": [],
   "source": [
    "# print statement is not a pythonic way to debug >> print statement are not efficient \n",
    "# print statement is good for simple scripts but not complex\n",
    "# in console/terminal all the print statements will be lost\n",
    "# you use logging instead of print statement"
   ]
  },
  {
   "cell_type": "code",
   "execution_count": null,
   "id": "c7044101-87f3-4d37-976c-e526cd3dd1e2",
   "metadata": {},
   "outputs": [],
   "source": [
    "# Logging >> it records the state and flow of your program/code/software\n",
    "# it is useful for understanding, monitoring and debugging of your code\n",
    "# it shows how program behaves over time\n",
    "\n",
    "\n",
    "# Analogy >> diary entry since childhood to now >> you will understand how you evolved\n",
    "# similarly in complex scripts to understand how your code is changing the result over time,you can log the specific steps  "
   ]
  },
  {
   "cell_type": "raw",
   "id": "33889b64-f4f5-424a-a8f2-9787c26161e9",
   "metadata": {},
   "source": [
    "# Theoretical use case explanation\n",
    "# see the different steps of coding below\n",
    "# step 1 >> remove some element of list\n",
    "# step 2 >> capitalize >> upper case\n",
    "# step 3 >> remove petropolitan city\n",
    "# step 4 >> lower case\n",
    "if after step 3 the list becomes empty, step 4 can throw error, so you can log the result of step 3 to debug"
   ]
  },
  {
   "cell_type": "code",
   "execution_count": null,
   "id": "cf2effcf-8003-4cde-a7d7-ee2514deac0d",
   "metadata": {},
   "outputs": [],
   "source": [
    "# logging supports different levels of logging which helps to categorize messages based on their severity\n",
    "# analogy >> different level of severity if terror attack >> can go emergency\n",
    "# similerly in logging we have different levels"
   ]
  },
  {
   "cell_type": "code",
   "execution_count": 1,
   "id": "b24de23c-6d22-49eb-b2e4-f52fbce1dd29",
   "metadata": {},
   "outputs": [],
   "source": [
    "import logging"
   ]
  },
  {
   "cell_type": "code",
   "execution_count": 2,
   "id": "b8753170-9139-4ba2-96b4-ff67cb9007fd",
   "metadata": {},
   "outputs": [],
   "source": [
    "logging.basicConfig(filename = 'test.log',level = logging.INFO)"
   ]
  },
  {
   "cell_type": "code",
   "execution_count": 4,
   "id": "be8e1817-a8da-427a-a412-883fa63746c1",
   "metadata": {},
   "outputs": [],
   "source": [
    "logging.info(\"This is my normal information about the software\")"
   ]
  },
  {
   "cell_type": "code",
   "execution_count": 5,
   "id": "2214bfb5-36bf-41d3-bb18-5ff2c8b2d6f0",
   "metadata": {},
   "outputs": [],
   "source": [
    "logging.warning(\"There can be empty list here\")"
   ]
  },
  {
   "cell_type": "code",
   "execution_count": 6,
   "id": "ba9f729b-4f7c-4099-bd97-8f252c90352f",
   "metadata": {},
   "outputs": [],
   "source": [
    "logging.debug(\"The length of list is\")"
   ]
  },
  {
   "cell_type": "code",
   "execution_count": 7,
   "id": "a73bcebc-97db-4688-bc6f-ae9524e1e2da",
   "metadata": {},
   "outputs": [],
   "source": [
    "logging.error(\"some error has happend\")"
   ]
  },
  {
   "cell_type": "code",
   "execution_count": 8,
   "id": "f7ea877a-63f4-4016-b4c3-2e7030d4566a",
   "metadata": {},
   "outputs": [],
   "source": [
    "logging.critical(\"The length of list is\")"
   ]
  },
  {
   "cell_type": "code",
   "execution_count": 9,
   "id": "39289044-8084-4d78-b58e-ae918863ef91",
   "metadata": {},
   "outputs": [],
   "source": [
    "logging.shutdown()"
   ]
  },
  {
   "cell_type": "code",
   "execution_count": null,
   "id": "396f5a1b-f1d3-4047-8c9f-16a8cce3397c",
   "metadata": {},
   "outputs": [],
   "source": [
    "# NOSET level is not used,\n",
    "1. DEBUG >> lowest level of logging. To give detailed information of any variable, msg, while doing\n",
    "debugging\n",
    "2. INFO >> This is used to convey that the code is working as expected\n",
    "# example \"Data analysis is completed\"\n",
    "3. WARNING >> used to indicate that something unexpected happend or potential issue in the code\n",
    "4. ERROR >> Serious problem with some function\n",
    "5. CRITICAL >> Termination of program/code/software\n",
    "\n",
    "# The above level of logging is executed in the same order >> debug being lowest priority\n",
    "and critical being highest priority\n",
    "#while defining level in logging.basicConfig, from that level the logs will be logged in \n",
    "other words the log level priority will start from that level which is used to initialise the logging\n",
    "# example >> if you initialise with WARNING then only warning,error,critical msgs will be \n",
    "logged.debug and info will not be logged"
   ]
  },
  {
   "cell_type": "code",
   "execution_count": 1,
   "id": "3e4fe8a7-c2fd-4711-94e2-d4057ae3cb00",
   "metadata": {},
   "outputs": [],
   "source": [
    "import logging\n",
    "logging.basicConfig(filename = \"test_new.log\",level = logging.DEBUG,format = '%(asctime)s%(message)s')"
   ]
  },
  {
   "cell_type": "code",
   "execution_count": 2,
   "id": "42c31ebb-e48f-4bf7-b62c-8db968949d04",
   "metadata": {},
   "outputs": [],
   "source": [
    "logging.debug(\"This msg is for debugging\")\n",
    "logging.info(\"This is my info msg\")\n",
    "logging.warning(\"This is my warning msg\")\n",
    "logging.shutdown()"
   ]
  },
  {
   "cell_type": "code",
   "execution_count": 1,
   "id": "9b0a5953-04f6-482f-8e1a-4e2d5f9f004e",
   "metadata": {},
   "outputs": [],
   "source": [
    "# say you want level name in logs as well\n",
    "\n",
    "import logging\n",
    "logging.basicConfig(filename = \"test_new12.log\",level = logging.DEBUG,format = '%(asctime)s %(levelname)s%(message)s')\n",
    "logging.debug(\"This msg is for debugging\")\n",
    "logging.info(\"This is my info msg\")\n",
    "logging.warning(\"This is my warning msg\")\n",
    "logging.shutdown()"
   ]
  },
  {
   "cell_type": "code",
   "execution_count": 1,
   "id": "7452e3c8-e381-4ea2-b25c-36a45d60ccc1",
   "metadata": {},
   "outputs": [],
   "source": [
    "# use case with example\n",
    "\n",
    "import logging\n",
    "logging.basicConfig(filename = \"program12.log\",level = logging.DEBUG,format = '%(asctime)s %(levelname)s%(message)s')"
   ]
  },
  {
   "cell_type": "code",
   "execution_count": 2,
   "id": "20c4cdae-26eb-4706-aa86-fe346b030c23",
   "metadata": {},
   "outputs": [],
   "source": [
    "# write a program to separate the integer and string in two lists separately\n",
    "\n",
    "l = [1,\"hello\",[2,\"world\"],4,[3,\"python\"]]"
   ]
  },
  {
   "cell_type": "code",
   "execution_count": 3,
   "id": "3f1b7b27-ebcc-4abc-8687-d82ce4c2f8ae",
   "metadata": {},
   "outputs": [
    {
     "data": {
      "text/plain": [
       "[1, 'hello', [2, 'world'], 4, [3, 'python']]"
      ]
     },
     "execution_count": 3,
     "metadata": {},
     "output_type": "execute_result"
    }
   ],
   "source": [
    "l"
   ]
  },
  {
   "cell_type": "code",
   "execution_count": null,
   "id": "5e9904ef-0868-434a-b806-bb4fc461a13f",
   "metadata": {},
   "outputs": [],
   "source": []
  },
  {
   "cell_type": "code",
   "execution_count": 5,
   "id": "96323e47-931b-4d4a-af91-4685dc904858",
   "metadata": {},
   "outputs": [],
   "source": [
    "l1_int = []\n",
    "l2_str = []\n",
    "\n",
    "for i in l:\n",
    "    logging.info(f\"processing each element{i}\")\n",
    "\n",
    "    if type(i) == list:\n",
    "        for j in i:\n",
    "            logging.info(f\"processing sublist element: {j}\")\n",
    "            if type(j) == int:\n",
    "                l1_int.append(j)\n",
    "    elif type(i) == int:\n",
    "        l1_int.append(i)\n",
    "    else:\n",
    "        l2_str.append(i)\n",
    "logging.info(f\"The result is : {l1_int},{l2_str}\")\n",
    "logging.shutdown()"
   ]
  },
  {
   "cell_type": "code",
   "execution_count": null,
   "id": "e58c910f-e6c3-4b6b-919f-79eeaa2896e7",
   "metadata": {},
   "outputs": [],
   "source": [
    "# homework >> add else condition for sublist\n",
    "# Another program which finds a prime no fron a given list of numbers and use logging"
   ]
  }
 ],
 "metadata": {
  "kernelspec": {
   "display_name": "Python 3 (ipykernel)",
   "language": "python",
   "name": "python3"
  },
  "language_info": {
   "codemirror_mode": {
    "name": "ipython",
    "version": 3
   },
   "file_extension": ".py",
   "mimetype": "text/x-python",
   "name": "python",
   "nbconvert_exporter": "python",
   "pygments_lexer": "ipython3",
   "version": "3.11.9"
  }
 },
 "nbformat": 4,
 "nbformat_minor": 5
}
