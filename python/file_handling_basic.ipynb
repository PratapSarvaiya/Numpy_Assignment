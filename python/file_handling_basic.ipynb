{
 "cells": [
  {
   "cell_type": "code",
   "execution_count": 2,
   "id": "2f659b4b-460c-44e1-937e-04063cd29206",
   "metadata": {},
   "outputs": [],
   "source": [
    "# mode\n",
    "# r >> read mode\n",
    "# w >> write mode\n",
    "# a >> append mode\n",
    "# r+ >> both reading and writing"
   ]
  },
  {
   "cell_type": "code",
   "execution_count": 3,
   "id": "8356373d-13a3-4d37-aa6b-5e288d4e25d1",
   "metadata": {},
   "outputs": [
    {
     "ename": "FileNotFoundError",
     "evalue": "[Errno 2] No such file or directory: 'file.txt'",
     "output_type": "error",
     "traceback": [
      "\u001b[1;31m---------------------------------------------------------------------------\u001b[0m",
      "\u001b[1;31mFileNotFoundError\u001b[0m                         Traceback (most recent call last)",
      "Cell \u001b[1;32mIn[3], line 1\u001b[0m\n\u001b[1;32m----> 1\u001b[0m \u001b[38;5;28;43mopen\u001b[39;49m\u001b[43m(\u001b[49m\u001b[38;5;124;43m\"\u001b[39;49m\u001b[38;5;124;43mfile.txt\u001b[39;49m\u001b[38;5;124;43m\"\u001b[39;49m\u001b[43m,\u001b[49m\u001b[38;5;124;43m'\u001b[39;49m\u001b[38;5;124;43mr\u001b[39;49m\u001b[38;5;124;43m'\u001b[39;49m\u001b[43m)\u001b[49m  \u001b[38;5;66;03m# if there is no any file, and you open it in read mode it will throw an eror \u001b[39;00m\n",
      "File \u001b[1;32m~\\AppData\\Local\\Programs\\Python\\Python311\\Lib\\site-packages\\IPython\\core\\interactiveshell.py:324\u001b[0m, in \u001b[0;36m_modified_open\u001b[1;34m(file, *args, **kwargs)\u001b[0m\n\u001b[0;32m    317\u001b[0m \u001b[38;5;28;01mif\u001b[39;00m file \u001b[38;5;129;01min\u001b[39;00m {\u001b[38;5;241m0\u001b[39m, \u001b[38;5;241m1\u001b[39m, \u001b[38;5;241m2\u001b[39m}:\n\u001b[0;32m    318\u001b[0m     \u001b[38;5;28;01mraise\u001b[39;00m \u001b[38;5;167;01mValueError\u001b[39;00m(\n\u001b[0;32m    319\u001b[0m         \u001b[38;5;124mf\u001b[39m\u001b[38;5;124m\"\u001b[39m\u001b[38;5;124mIPython won\u001b[39m\u001b[38;5;124m'\u001b[39m\u001b[38;5;124mt let you open fd=\u001b[39m\u001b[38;5;132;01m{\u001b[39;00mfile\u001b[38;5;132;01m}\u001b[39;00m\u001b[38;5;124m by default \u001b[39m\u001b[38;5;124m\"\u001b[39m\n\u001b[0;32m    320\u001b[0m         \u001b[38;5;124m\"\u001b[39m\u001b[38;5;124mas it is likely to crash IPython. If you know what you are doing, \u001b[39m\u001b[38;5;124m\"\u001b[39m\n\u001b[0;32m    321\u001b[0m         \u001b[38;5;124m\"\u001b[39m\u001b[38;5;124myou can use builtins\u001b[39m\u001b[38;5;124m'\u001b[39m\u001b[38;5;124m open.\u001b[39m\u001b[38;5;124m\"\u001b[39m\n\u001b[0;32m    322\u001b[0m     )\n\u001b[1;32m--> 324\u001b[0m \u001b[38;5;28;01mreturn\u001b[39;00m \u001b[43mio_open\u001b[49m\u001b[43m(\u001b[49m\u001b[43mfile\u001b[49m\u001b[43m,\u001b[49m\u001b[43m \u001b[49m\u001b[38;5;241;43m*\u001b[39;49m\u001b[43margs\u001b[49m\u001b[43m,\u001b[49m\u001b[43m \u001b[49m\u001b[38;5;241;43m*\u001b[39;49m\u001b[38;5;241;43m*\u001b[39;49m\u001b[43mkwargs\u001b[49m\u001b[43m)\u001b[49m\n",
      "\u001b[1;31mFileNotFoundError\u001b[0m: [Errno 2] No such file or directory: 'file.txt'"
     ]
    }
   ],
   "source": [
    "open(\"file.txt\",'r')  # if there is no any file, and you open it in read mode it will throw an eror "
   ]
  },
  {
   "cell_type": "code",
   "execution_count": 5,
   "id": "d92920e6-49f2-4b0a-b42f-53dbe92e62b9",
   "metadata": {},
   "outputs": [],
   "source": [
    "file = open(\"file.txt\",\"w\") # w >> write mode, if a file is not there it will create the file.txt and then read it"
   ]
  },
  {
   "cell_type": "code",
   "execution_count": 6,
   "id": "86ac1a73-1fad-4f93-bb7f-4e76b6d13a37",
   "metadata": {},
   "outputs": [
    {
     "data": {
      "text/plain": [
       "44"
      ]
     },
     "execution_count": 6,
     "metadata": {},
     "output_type": "execute_result"
    }
   ],
   "source": [
    "file.write(\"Hello this is my first line in the text file\") # number below is no of bytes you have writen "
   ]
  },
  {
   "cell_type": "code",
   "execution_count": 7,
   "id": "349c68bb-454b-4acd-adac-cc6d312bb841",
   "metadata": {},
   "outputs": [],
   "source": [
    "# as of now if you open the written file you will not be able to see any text\n",
    "# to see you have to close the file"
   ]
  },
  {
   "cell_type": "code",
   "execution_count": 8,
   "id": "de6bc7bc-269d-4972-a1fc-04776f205e1e",
   "metadata": {},
   "outputs": [],
   "source": [
    "file.close()"
   ]
  },
  {
   "cell_type": "code",
   "execution_count": 9,
   "id": "6fc32e33-96e9-4000-84c1-e1c7afce1c8d",
   "metadata": {},
   "outputs": [
    {
     "data": {
      "text/plain": [
       "<_io.TextIOWrapper name='file.txt' mode='w' encoding='cp1252'>"
      ]
     },
     "execution_count": 9,
     "metadata": {},
     "output_type": "execute_result"
    }
   ],
   "source": [
    "file  # file attributes"
   ]
  },
  {
   "cell_type": "code",
   "execution_count": 10,
   "id": "e8f78e13-4c94-4e56-97aa-7334ed814e6f",
   "metadata": {},
   "outputs": [
    {
     "data": {
      "text/plain": [
       "True"
      ]
     },
     "execution_count": 10,
     "metadata": {},
     "output_type": "execute_result"
    }
   ],
   "source": [
    "file.closed # if file is closed it will return true else false"
   ]
  },
  {
   "cell_type": "code",
   "execution_count": 12,
   "id": "db76a4da-e06b-4015-b30b-88e5bea0c04a",
   "metadata": {},
   "outputs": [],
   "source": [
    "file = open(\"file.txt\",\"r\")"
   ]
  },
  {
   "cell_type": "code",
   "execution_count": 13,
   "id": "32f20ee6-db4d-489c-995b-d60d0e3061e2",
   "metadata": {},
   "outputs": [
    {
     "data": {
      "text/plain": [
       "False"
      ]
     },
     "execution_count": 13,
     "metadata": {},
     "output_type": "execute_result"
    }
   ],
   "source": [
    "file.closed"
   ]
  },
  {
   "cell_type": "code",
   "execution_count": 14,
   "id": "150b8833-3e90-4bc6-a0d2-f76602a85a61",
   "metadata": {},
   "outputs": [],
   "source": [
    "file.close()"
   ]
  },
  {
   "cell_type": "code",
   "execution_count": 15,
   "id": "8726b777-3558-4e04-a689-b7595b73b455",
   "metadata": {},
   "outputs": [
    {
     "data": {
      "text/plain": [
       "True"
      ]
     },
     "execution_count": 15,
     "metadata": {},
     "output_type": "execute_result"
    }
   ],
   "source": [
    "file.closed"
   ]
  },
  {
   "cell_type": "code",
   "execution_count": 16,
   "id": "f87e26b0-ec2a-4c39-b75a-6fabcd44da56",
   "metadata": {},
   "outputs": [
    {
     "data": {
      "text/plain": [
       "'file.txt'"
      ]
     },
     "execution_count": 16,
     "metadata": {},
     "output_type": "execute_result"
    }
   ],
   "source": [
    "file.name"
   ]
  },
  {
   "cell_type": "code",
   "execution_count": 17,
   "id": "36fab504-b492-4655-9eb8-16e03fcc4dac",
   "metadata": {},
   "outputs": [
    {
     "data": {
      "text/plain": [
       "'r'"
      ]
     },
     "execution_count": 17,
     "metadata": {},
     "output_type": "execute_result"
    }
   ],
   "source": [
    "file.mode"
   ]
  },
  {
   "cell_type": "code",
   "execution_count": 18,
   "id": "9fb96794-61a0-480e-b0c5-bf652ca770a3",
   "metadata": {},
   "outputs": [
    {
     "data": {
      "text/plain": [
       "True"
      ]
     },
     "execution_count": 18,
     "metadata": {},
     "output_type": "execute_result"
    }
   ],
   "source": [
    "file.closed"
   ]
  },
  {
   "cell_type": "code",
   "execution_count": 19,
   "id": "0d393a87-89ca-4b7c-a9f7-6ab4d757304a",
   "metadata": {},
   "outputs": [
    {
     "ename": "ValueError",
     "evalue": "I/O operation on closed file.",
     "output_type": "error",
     "traceback": [
      "\u001b[1;31m---------------------------------------------------------------------------\u001b[0m",
      "\u001b[1;31mValueError\u001b[0m                                Traceback (most recent call last)",
      "Cell \u001b[1;32mIn[19], line 1\u001b[0m\n\u001b[1;32m----> 1\u001b[0m \u001b[43mfile\u001b[49m\u001b[38;5;241;43m.\u001b[39;49m\u001b[43mwrite\u001b[49m\u001b[43m(\u001b[49m\u001b[38;5;124;43m\"\u001b[39;49m\u001b[38;5;124;43mThis is my second line\u001b[39;49m\u001b[38;5;124;43m\"\u001b[39;49m\u001b[43m)\u001b[49m\n",
      "\u001b[1;31mValueError\u001b[0m: I/O operation on closed file."
     ]
    }
   ],
   "source": [
    "file.write(\"This is my second line\") # this will not be executed, throw an error>> file is closed>> you can not write anything in closed file"
   ]
  },
  {
   "cell_type": "code",
   "execution_count": 21,
   "id": "302356f8-0594-4a92-8bc5-7fc1f0065613",
   "metadata": {},
   "outputs": [],
   "source": [
    "file = open(\"file.txt\",\"w\") # it will truncate(delete) all earlier content and make a fresh file.txt"
   ]
  },
  {
   "cell_type": "code",
   "execution_count": 22,
   "id": "59aaa6d9-d858-419e-888f-8bd0ade9b8bf",
   "metadata": {},
   "outputs": [],
   "source": [
    "file.close()"
   ]
  },
  {
   "cell_type": "code",
   "execution_count": 24,
   "id": "cc0096fe-ec13-4ed0-9ec3-ce94d2af9916",
   "metadata": {},
   "outputs": [],
   "source": [
    "file = open(\"file.txt\",\"w\") \n",
    "file.write(\"This is my first line\\n\")\n",
    "file.write(\"THis is my second line\\n\")\n",
    "file.write(\"THis is my third line\\n\")\n",
    "file.write(\"THis is my fourth line\")\n",
    "file.close()"
   ]
  },
  {
   "cell_type": "code",
   "execution_count": 27,
   "id": "247fd60b-7962-4c85-9d7f-1bf9c2b590e9",
   "metadata": {},
   "outputs": [],
   "source": [
    "file = open(\"file.txt\",\"w\")\n",
    "file.write(\"This is fifth line\") # all earlier content will deleted\n",
    "file.close()"
   ]
  },
  {
   "cell_type": "code",
   "execution_count": 31,
   "id": "33dfc841-a27e-4de5-979f-c24f7317aa8a",
   "metadata": {},
   "outputs": [],
   "source": [
    "file = open(\"file.txt\",\"w\") \n",
    "file.write(\"This is my first line\\n\")\n",
    "file.write(\"THis is my second line\\n\")\n",
    "file.write(\"THis is my third line\\n\")\n",
    "file.write(\"THis is my fourth line\\n\")\n",
    "file.close()\n"
   ]
  },
  {
   "cell_type": "code",
   "execution_count": 32,
   "id": "3d50fba1-1918-40b9-aa7d-841fac8c8b70",
   "metadata": {},
   "outputs": [],
   "source": [
    "file = open(\"file.txt\",\"a\")   # append the new line\n",
    "file.write(\"This is fifth line\") \n",
    "file.close()"
   ]
  },
  {
   "cell_type": "code",
   "execution_count": 33,
   "id": "50ed355b-8bf8-4f7f-a528-258a90ce7d0d",
   "metadata": {},
   "outputs": [],
   "source": [
    "file = open(\"file.txt\",'r')"
   ]
  },
  {
   "cell_type": "code",
   "execution_count": 34,
   "id": "0b4d1d50-de91-4768-be23-99aeace8b2f2",
   "metadata": {},
   "outputs": [
    {
     "ename": "UnsupportedOperation",
     "evalue": "not writable",
     "output_type": "error",
     "traceback": [
      "\u001b[1;31m---------------------------------------------------------------------------\u001b[0m",
      "\u001b[1;31mUnsupportedOperation\u001b[0m                      Traceback (most recent call last)",
      "Cell \u001b[1;32mIn[34], line 1\u001b[0m\n\u001b[1;32m----> 1\u001b[0m \u001b[43mfile\u001b[49m\u001b[38;5;241;43m.\u001b[39;49m\u001b[43mwrite\u001b[49m\u001b[43m(\u001b[49m\u001b[38;5;124;43m\"\u001b[39;49m\u001b[38;5;124;43mthis is another line\u001b[39;49m\u001b[38;5;124;43m\"\u001b[39;49m\u001b[43m)\u001b[49m\n",
      "\u001b[1;31mUnsupportedOperation\u001b[0m: not writable"
     ]
    }
   ],
   "source": [
    "file.write(\"this is another line\")"
   ]
  },
  {
   "cell_type": "code",
   "execution_count": 35,
   "id": "81b1e70b-77be-46f0-80a3-53bb0f2c478b",
   "metadata": {},
   "outputs": [
    {
     "data": {
      "text/plain": [
       "<_io.TextIOWrapper name='file.txt' mode='r' encoding='cp1252'>"
      ]
     },
     "execution_count": 35,
     "metadata": {},
     "output_type": "execute_result"
    }
   ],
   "source": [
    "file"
   ]
  },
  {
   "cell_type": "code",
   "execution_count": 36,
   "id": "49f87b81-4642-4c9c-8294-8aa841d41335",
   "metadata": {},
   "outputs": [
    {
     "name": "stdout",
     "output_type": "stream",
     "text": [
      "This is my first line\n",
      "\n",
      "THis is my second line\n",
      "\n",
      "THis is my third line\n",
      "\n",
      "THis is my fourth line\n",
      "\n",
      "This is fifth line\n"
     ]
    }
   ],
   "source": [
    "# various way of printing lines\n",
    "for i in file:\n",
    "    print(i)"
   ]
  },
  {
   "cell_type": "code",
   "execution_count": 38,
   "id": "02da7758-db0d-4a43-9145-db418594760d",
   "metadata": {},
   "outputs": [
    {
     "name": "stdout",
     "output_type": "stream",
     "text": [
      "\n"
     ]
    }
   ],
   "source": [
    "print(file.read())  # here the cursor/pointer is at last position"
   ]
  },
  {
   "cell_type": "code",
   "execution_count": 39,
   "id": "97b8e1b4-b973-4cba-8ca5-6c873dd50221",
   "metadata": {},
   "outputs": [
    {
     "data": {
      "text/plain": [
       "''"
      ]
     },
     "execution_count": 39,
     "metadata": {},
     "output_type": "execute_result"
    }
   ],
   "source": [
    "file.read()"
   ]
  },
  {
   "cell_type": "code",
   "execution_count": 40,
   "id": "aa5adbb9-e959-4de0-8385-5035e7fe964c",
   "metadata": {},
   "outputs": [
    {
     "data": {
      "text/plain": [
       "112"
      ]
     },
     "execution_count": 40,
     "metadata": {},
     "output_type": "execute_result"
    }
   ],
   "source": [
    "file.tell()  # it tellse the current position of the cursor"
   ]
  },
  {
   "cell_type": "code",
   "execution_count": 41,
   "id": "c6e2f67f-9371-416d-bd47-27ea5c0b8174",
   "metadata": {},
   "outputs": [
    {
     "data": {
      "text/plain": [
       "0"
      ]
     },
     "execution_count": 41,
     "metadata": {},
     "output_type": "execute_result"
    }
   ],
   "source": [
    "file.seek(0)"
   ]
  },
  {
   "cell_type": "code",
   "execution_count": 46,
   "id": "b34cbef2-63d3-4f39-a759-57460d09865b",
   "metadata": {},
   "outputs": [
    {
     "name": "stdout",
     "output_type": "stream",
     "text": [
      "This is my first line\n",
      "THis is my second line\n",
      "THis is my third line\n",
      "THis is my fourth line\n",
      "This is fifth line\n"
     ]
    }
   ],
   "source": [
    "f = open(\"file.txt\",'r')\n",
    "f.seek(0)    # it will bring cursor to start of the file\n",
    "print(f.read())  # it will read everything from starting \n",
    "f.close()"
   ]
  },
  {
   "cell_type": "code",
   "execution_count": 44,
   "id": "d02c0748-59cc-4eab-9878-d1784d765e34",
   "metadata": {},
   "outputs": [
    {
     "name": "stdout",
     "output_type": "stream",
     "text": [
      "This is my first line\n",
      "\n"
     ]
    }
   ],
   "source": [
    "f = open(\"file.txt\",'r')\n",
    "\n",
    "print(f.readline())  # it will only read the first line\n",
    "f.close()"
   ]
  },
  {
   "cell_type": "code",
   "execution_count": 47,
   "id": "d9716eac-5cec-49f0-8d3a-e5875aaa8c9f",
   "metadata": {},
   "outputs": [
    {
     "name": "stdout",
     "output_type": "stream",
     "text": [
      "['This is my first line\\n', 'THis is my second line\\n', 'THis is my third line\\n', 'THis is my fourth line\\n', 'This is fifth line']\n"
     ]
    }
   ],
   "source": [
    "f = open(\"file.txt\",'r')\n",
    "\n",
    "print(f.readlines())  # all the lines will be the element of a list\n",
    "f.close()"
   ]
  },
  {
   "cell_type": "code",
   "execution_count": 53,
   "id": "cae5286d-4cce-4df4-98e9-8f93deef8b71",
   "metadata": {},
   "outputs": [
    {
     "name": "stderr",
     "output_type": "stream",
     "text": [
      "'pwd' is not recognized as an internal or external command,\n",
      "operable program or batch file.\n"
     ]
    }
   ],
   "source": [
    "# present working directory\n",
    "!pwd"
   ]
  },
  {
   "cell_type": "code",
   "execution_count": 51,
   "id": "f7d5f1a1-1fac-4d07-8873-b452dc4b6c62",
   "metadata": {},
   "outputs": [],
   "source": [
    "import os"
   ]
  },
  {
   "cell_type": "code",
   "execution_count": 54,
   "id": "28573561-9681-4b30-b801-f8440f5995d8",
   "metadata": {},
   "outputs": [
    {
     "data": {
      "text/plain": [
       "'D:\\\\Data Science\\\\python'"
      ]
     },
     "execution_count": 54,
     "metadata": {},
     "output_type": "execute_result"
    }
   ],
   "source": [
    "os.getcwd()"
   ]
  },
  {
   "cell_type": "code",
   "execution_count": 55,
   "id": "022141f5-d35f-4527-affd-c6cfc53e7fd2",
   "metadata": {},
   "outputs": [
    {
     "name": "stdout",
     "output_type": "stream",
     "text": [
      " Volume in drive D is New Volume\n",
      " Volume Serial Number is A8AF-0DE2\n",
      "\n",
      " Directory of D:\\Data Science\\python\n",
      "\n",
      "26-08-2024  01.27 PM    <DIR>          .\n",
      "25-08-2024  08.37 PM    <DIR>          ..\n",
      "26-08-2024  12.42 PM    <DIR>          .ipynb_checkpoints\n",
      "16-08-2024  04.17 PM            14,846 Conditionals.ipynb\n",
      "25-08-2024  07.11 PM             7,778 Data Structure assignment.ipynb\n",
      "16-08-2024  11.42 PM            34,771 data structure intro.ipynb\n",
      "23-08-2024  02.44 PM            15,762 Decorators.ipynb\n",
      "22-08-2024  10.06 PM            16,289 Dundermethod.ipynb\n",
      "26-08-2024  01.05 PM               112 file.txt\n",
      "26-08-2024  01.27 PM            23,343 file_handling_basic.ipynb\n",
      "19-08-2024  10.18 PM            60,134 Function (1).ipynb\n",
      "21-08-2024  04.21 PM            37,794 inheritance.ipynb\n",
      "19-08-2024  11.46 PM            26,956 iterators and generators.ipynb\n",
      "20-08-2024  09.17 PM            19,255 lambda,filter,map.ipynb\n",
      "16-08-2024  10.08 PM            17,386 Loops.ipynb\n",
      "09-08-2024  11.36 PM           136,632 LUSID Excel - Setting up your market data.xlsx\n",
      "14-08-2024  05.48 PM           331,472 Matplotlib.ipynb\n",
      "15-08-2024  07.19 PM            10,625 Mutability and immutability.ipynb\n",
      "23-08-2024  04.04 PM            59,182 Numpy Advance1.ipynb\n",
      "20-08-2024  11.28 PM            39,757 Numpy Advance2.ipynb\n",
      "20-08-2024  10.43 PM            38,220 Numpy basics.ipynb\n",
      "20-08-2024  09.16 PM            46,301 oops.ipynb\n",
      "15-08-2024  09.06 PM            33,378 Operators.ipynb\n",
      "23-08-2024  07.42 PM           281,909 pandas advance.ipynb\n",
      "23-08-2024  07.42 PM           386,718 pandas Advance2.ipynb\n",
      "14-08-2024  06.40 PM           229,861 pandas advance3.ipynb\n",
      "14-08-2024  05.04 PM           203,145 Pandas Advance4.ipynb\n",
      "23-08-2024  06.27 PM           781,187 pandas basic.ipynb\n",
      "11-08-2024  01.12 AM            78,961 players.csv\n",
      "11-08-2024  01.14 AM            81,552 players1.csv\n",
      "22-08-2024  12.30 AM            33,466 Polymorphism and Encapsulation.ipynb\n",
      "15-08-2024  06.56 PM            18,033 Predefined keywords.ipynb\n",
      "23-08-2024  03.22 PM            14,388 property decorators.ipynb\n",
      "09-08-2024  10.01 PM            19,128 services.csv\n",
      "22-08-2024  12.05 AM            18,549 static and class method.ipynb\n",
      "17-08-2024  12.58 PM            24,954 string.ipynb\n",
      "11-08-2024  12.25 AM            14,618 taxonomy.csv\n",
      "15-08-2024  09.37 PM            18,774 typecasting.ipynb\n",
      "              35 File(s)      3,175,236 bytes\n",
      "               3 Dir(s)  173,345,239,040 bytes free\n"
     ]
    }
   ],
   "source": [
    "ls"
   ]
  },
  {
   "cell_type": "code",
   "execution_count": 56,
   "id": "002ac3e5-f1c6-42e5-b17d-67f474b9b98d",
   "metadata": {},
   "outputs": [
    {
     "data": {
      "text/plain": [
       "112"
      ]
     },
     "execution_count": 56,
     "metadata": {},
     "output_type": "execute_result"
    }
   ],
   "source": [
    "os.path.getsize(\"file.txt\")"
   ]
  },
  {
   "cell_type": "code",
   "execution_count": 57,
   "id": "983816d7-657f-4422-95b9-de9474b1ced6",
   "metadata": {},
   "outputs": [],
   "source": [
    "os.mkdir(\"test\")  # new folder is create mkdir is uesd"
   ]
  },
  {
   "cell_type": "code",
   "execution_count": 58,
   "id": "9aa8f315-1bda-4af8-9a31-08dd409e149d",
   "metadata": {},
   "outputs": [],
   "source": [
    "os.mkdir(\"test/test1\")"
   ]
  },
  {
   "cell_type": "code",
   "execution_count": 59,
   "id": "26ee7082-2c8b-4fc6-b6aa-b1badf92d505",
   "metadata": {},
   "outputs": [
    {
     "ename": "FileNotFoundError",
     "evalue": "[WinError 3] The system cannot find the path specified: '1/2'",
     "output_type": "error",
     "traceback": [
      "\u001b[1;31m---------------------------------------------------------------------------\u001b[0m",
      "\u001b[1;31mFileNotFoundError\u001b[0m                         Traceback (most recent call last)",
      "Cell \u001b[1;32mIn[59], line 1\u001b[0m\n\u001b[1;32m----> 1\u001b[0m \u001b[43mos\u001b[49m\u001b[38;5;241;43m.\u001b[39;49m\u001b[43mmkdir\u001b[49m\u001b[43m(\u001b[49m\u001b[38;5;124;43m\"\u001b[39;49m\u001b[38;5;124;43m1/2\u001b[39;49m\u001b[38;5;124;43m\"\u001b[39;49m\u001b[43m)\u001b[49m\n",
      "\u001b[1;31mFileNotFoundError\u001b[0m: [WinError 3] The system cannot find the path specified: '1/2'"
     ]
    }
   ],
   "source": [
    "os.mkdir(\"1/2\") # it will throw an error >> because 1 is not mode first"
   ]
  },
  {
   "cell_type": "code",
   "execution_count": 61,
   "id": "bff35137-e79b-4a2f-9dc7-8a14029812d7",
   "metadata": {},
   "outputs": [],
   "source": [
    "os.makedirs(\"1/2/3/4\")"
   ]
  },
  {
   "cell_type": "code",
   "execution_count": 62,
   "id": "35ff33a5-c8f2-4f6c-9e91-d7cd81af6ddc",
   "metadata": {},
   "outputs": [
    {
     "name": "stdout",
     "output_type": "stream",
     "text": [
      " Volume in drive D is New Volume\n",
      " Volume Serial Number is A8AF-0DE2\n",
      "\n",
      " Directory of D:\\Data Science\\python\n",
      "\n",
      "26-08-2024  01.35 PM    <DIR>          .\n",
      "25-08-2024  08.37 PM    <DIR>          ..\n",
      "26-08-2024  12.42 PM    <DIR>          .ipynb_checkpoints\n",
      "26-08-2024  01.35 PM    <DIR>          1\n",
      "16-08-2024  04.17 PM            14,846 Conditionals.ipynb\n",
      "25-08-2024  07.11 PM             7,778 Data Structure assignment.ipynb\n",
      "16-08-2024  11.42 PM            34,771 data structure intro.ipynb\n",
      "23-08-2024  02.44 PM            15,762 Decorators.ipynb\n",
      "22-08-2024  10.06 PM            16,289 Dundermethod.ipynb\n",
      "26-08-2024  01.05 PM               112 file.txt\n",
      "26-08-2024  01.35 PM            28,147 file_handling_basic.ipynb\n",
      "19-08-2024  10.18 PM            60,134 Function (1).ipynb\n",
      "21-08-2024  04.21 PM            37,794 inheritance.ipynb\n",
      "19-08-2024  11.46 PM            26,956 iterators and generators.ipynb\n",
      "20-08-2024  09.17 PM            19,255 lambda,filter,map.ipynb\n",
      "16-08-2024  10.08 PM            17,386 Loops.ipynb\n",
      "09-08-2024  11.36 PM           136,632 LUSID Excel - Setting up your market data.xlsx\n",
      "14-08-2024  05.48 PM           331,472 Matplotlib.ipynb\n",
      "15-08-2024  07.19 PM            10,625 Mutability and immutability.ipynb\n",
      "23-08-2024  04.04 PM            59,182 Numpy Advance1.ipynb\n",
      "20-08-2024  11.28 PM            39,757 Numpy Advance2.ipynb\n",
      "20-08-2024  10.43 PM            38,220 Numpy basics.ipynb\n",
      "20-08-2024  09.16 PM            46,301 oops.ipynb\n",
      "15-08-2024  09.06 PM            33,378 Operators.ipynb\n",
      "23-08-2024  07.42 PM           281,909 pandas advance.ipynb\n",
      "23-08-2024  07.42 PM           386,718 pandas Advance2.ipynb\n",
      "14-08-2024  06.40 PM           229,861 pandas advance3.ipynb\n",
      "14-08-2024  05.04 PM           203,145 Pandas Advance4.ipynb\n",
      "23-08-2024  06.27 PM           781,187 pandas basic.ipynb\n",
      "11-08-2024  01.12 AM            78,961 players.csv\n",
      "11-08-2024  01.14 AM            81,552 players1.csv\n",
      "22-08-2024  12.30 AM            33,466 Polymorphism and Encapsulation.ipynb\n",
      "15-08-2024  06.56 PM            18,033 Predefined keywords.ipynb\n",
      "23-08-2024  03.22 PM            14,388 property decorators.ipynb\n",
      "09-08-2024  10.01 PM            19,128 services.csv\n",
      "22-08-2024  12.05 AM            18,549 static and class method.ipynb\n",
      "17-08-2024  12.58 PM            24,954 string.ipynb\n",
      "11-08-2024  12.25 AM            14,618 taxonomy.csv\n",
      "26-08-2024  01.32 PM    <DIR>          test\n",
      "15-08-2024  09.37 PM            18,774 typecasting.ipynb\n",
      "              35 File(s)      3,180,040 bytes\n",
      "               5 Dir(s)  173,345,234,944 bytes free\n"
     ]
    }
   ],
   "source": [
    "ls"
   ]
  },
  {
   "cell_type": "code",
   "execution_count": 65,
   "id": "1a10d798-3795-42e3-829b-94ae2e06c170",
   "metadata": {},
   "outputs": [
    {
     "data": {
      "text/plain": [
       "['.ipynb_checkpoints',\n",
       " '1',\n",
       " 'Conditionals.ipynb',\n",
       " 'Data Structure assignment.ipynb',\n",
       " 'data structure intro.ipynb',\n",
       " 'Decorators.ipynb',\n",
       " 'Dundermethod.ipynb',\n",
       " 'file.txt',\n",
       " 'file_handling_basic.ipynb',\n",
       " 'Function (1).ipynb',\n",
       " 'inheritance.ipynb',\n",
       " 'iterators and generators.ipynb',\n",
       " 'lambda,filter,map.ipynb',\n",
       " 'Loops.ipynb',\n",
       " 'LUSID Excel - Setting up your market data.xlsx',\n",
       " 'Matplotlib.ipynb',\n",
       " 'Mutability and immutability.ipynb',\n",
       " 'Numpy Advance1.ipynb',\n",
       " 'Numpy Advance2.ipynb',\n",
       " 'Numpy basics.ipynb',\n",
       " 'oops.ipynb',\n",
       " 'Operators.ipynb',\n",
       " 'pandas advance.ipynb',\n",
       " 'pandas Advance2.ipynb',\n",
       " 'pandas advance3.ipynb',\n",
       " 'Pandas Advance4.ipynb',\n",
       " 'pandas basic.ipynb',\n",
       " 'players.csv',\n",
       " 'players1.csv',\n",
       " 'Polymorphism and Encapsulation.ipynb',\n",
       " 'Predefined keywords.ipynb',\n",
       " 'property decorators.ipynb',\n",
       " 'services.csv',\n",
       " 'static and class method.ipynb',\n",
       " 'string.ipynb',\n",
       " 'taxonomy.csv',\n",
       " 'test',\n",
       " 'typecasting.ipynb']"
      ]
     },
     "execution_count": 65,
     "metadata": {},
     "output_type": "execute_result"
    }
   ],
   "source": [
    "os.listdir()"
   ]
  },
  {
   "cell_type": "code",
   "execution_count": 70,
   "id": "4105e03b-ce1d-4916-a871-c6edcec72a3a",
   "metadata": {},
   "outputs": [],
   "source": [
    "os.mkdir(\"feat\")"
   ]
  },
  {
   "cell_type": "code",
   "execution_count": 71,
   "id": "34b909be-4570-4eac-86e4-aca48f2bbc88",
   "metadata": {},
   "outputs": [],
   "source": [
    "os.rmdir(\"feat\") # to delete one directory without any content inside the directory"
   ]
  },
  {
   "cell_type": "code",
   "execution_count": 73,
   "id": "836897d6-1458-40c3-a0fd-ac3d8ec7181c",
   "metadata": {},
   "outputs": [
    {
     "ename": "OSError",
     "evalue": "[WinError 145] The directory is not empty: 'test'",
     "output_type": "error",
     "traceback": [
      "\u001b[1;31m---------------------------------------------------------------------------\u001b[0m",
      "\u001b[1;31mOSError\u001b[0m                                   Traceback (most recent call last)",
      "Cell \u001b[1;32mIn[73], line 1\u001b[0m\n\u001b[1;32m----> 1\u001b[0m \u001b[43mos\u001b[49m\u001b[38;5;241;43m.\u001b[39;49m\u001b[43mrmdir\u001b[49m\u001b[43m(\u001b[49m\u001b[38;5;124;43m\"\u001b[39;49m\u001b[38;5;124;43mtest\u001b[39;49m\u001b[38;5;124;43m\"\u001b[39;49m\u001b[43m)\u001b[49m \u001b[38;5;66;03m# throw an error as test is not empty\u001b[39;00m\n",
      "\u001b[1;31mOSError\u001b[0m: [WinError 145] The directory is not empty: 'test'"
     ]
    }
   ],
   "source": [
    "os.rmdir(\"test\") # throw an error as test is not empty"
   ]
  },
  {
   "cell_type": "code",
   "execution_count": 74,
   "id": "aeec2a15-534e-4ae1-b7e1-206987e9dbd9",
   "metadata": {},
   "outputs": [],
   "source": [
    "import shutil\n",
    "shutil.rmtree(\"test\") # it will remove the folder hierarchy"
   ]
  },
  {
   "cell_type": "code",
   "execution_count": 75,
   "id": "eca13c69-80cf-42a1-8aa9-64e636486aa5",
   "metadata": {},
   "outputs": [
    {
     "data": {
      "text/plain": [
       "'D:\\\\Data Science\\\\python'"
      ]
     },
     "execution_count": 75,
     "metadata": {},
     "output_type": "execute_result"
    }
   ],
   "source": [
    "os.getcwd()"
   ]
  },
  {
   "cell_type": "code",
   "execution_count": 84,
   "id": "a1e27742-73bc-4104-a88c-2e2df93c7c6f",
   "metadata": {},
   "outputs": [
    {
     "ename": "FileExistsError",
     "evalue": "[WinError 183] Cannot create a file when that file already exists: 'test/test1/file.txt'",
     "output_type": "error",
     "traceback": [
      "\u001b[1;31m---------------------------------------------------------------------------\u001b[0m",
      "\u001b[1;31mFileExistsError\u001b[0m                           Traceback (most recent call last)",
      "Cell \u001b[1;32mIn[84], line 1\u001b[0m\n\u001b[1;32m----> 1\u001b[0m \u001b[43mos\u001b[49m\u001b[38;5;241;43m.\u001b[39;49m\u001b[43mmakedirs\u001b[49m\u001b[43m(\u001b[49m\u001b[38;5;124;43m\"\u001b[39;49m\u001b[38;5;124;43mtest/test1/file.txt\u001b[39;49m\u001b[38;5;124;43m\"\u001b[39;49m\u001b[43m)\u001b[49m\n",
      "File \u001b[1;32m<frozen os>:225\u001b[0m, in \u001b[0;36mmakedirs\u001b[1;34m(name, mode, exist_ok)\u001b[0m\n",
      "\u001b[1;31mFileExistsError\u001b[0m: [WinError 183] Cannot create a file when that file already exists: 'test/test1/file.txt'"
     ]
    }
   ],
   "source": [
    "os.makedirs(\"test/test1/file.txt\")"
   ]
  },
  {
   "cell_type": "code",
   "execution_count": 89,
   "id": "98b454f8-07a1-4fff-92fa-c02fdcf33718",
   "metadata": {},
   "outputs": [
    {
     "ename": "FileNotFoundError",
     "evalue": "[Errno 2] No such file or directory: 'test/test1/file.txt'",
     "output_type": "error",
     "traceback": [
      "\u001b[1;31m---------------------------------------------------------------------------\u001b[0m",
      "\u001b[1;31mFileNotFoundError\u001b[0m                         Traceback (most recent call last)",
      "Cell \u001b[1;32mIn[89], line 2\u001b[0m\n\u001b[0;32m      1\u001b[0m \u001b[38;5;66;03m# copying the above file in the current location >> \u001b[39;00m\n\u001b[1;32m----> 2\u001b[0m \u001b[43mshutil\u001b[49m\u001b[38;5;241;43m.\u001b[39;49m\u001b[43mcopy\u001b[49m\u001b[43m(\u001b[49m\u001b[38;5;124;43m\"\u001b[39;49m\u001b[38;5;124;43mtest/test1/file.txt\u001b[39;49m\u001b[38;5;124;43m\"\u001b[39;49m\u001b[43m,\u001b[49m\u001b[38;5;124;43m'\u001b[39;49m\u001b[38;5;124;43mD:\u001b[39;49m\u001b[38;5;130;43;01m\\\\\u001b[39;49;00m\u001b[38;5;124;43mData Science\u001b[39;49m\u001b[38;5;130;43;01m\\\\\u001b[39;49;00m\u001b[38;5;124;43mpython\u001b[39;49m\u001b[38;5;124;43m'\u001b[39;49m\u001b[43m)\u001b[49m  \u001b[38;5;66;03m# error\u001b[39;00m\n",
      "File \u001b[1;32m~\\AppData\\Local\\Programs\\Python\\Python311\\Lib\\shutil.py:431\u001b[0m, in \u001b[0;36mcopy\u001b[1;34m(src, dst, follow_symlinks)\u001b[0m\n\u001b[0;32m    429\u001b[0m \u001b[38;5;28;01mif\u001b[39;00m os\u001b[38;5;241m.\u001b[39mpath\u001b[38;5;241m.\u001b[39misdir(dst):\n\u001b[0;32m    430\u001b[0m     dst \u001b[38;5;241m=\u001b[39m os\u001b[38;5;241m.\u001b[39mpath\u001b[38;5;241m.\u001b[39mjoin(dst, os\u001b[38;5;241m.\u001b[39mpath\u001b[38;5;241m.\u001b[39mbasename(src))\n\u001b[1;32m--> 431\u001b[0m \u001b[43mcopyfile\u001b[49m\u001b[43m(\u001b[49m\u001b[43msrc\u001b[49m\u001b[43m,\u001b[49m\u001b[43m \u001b[49m\u001b[43mdst\u001b[49m\u001b[43m,\u001b[49m\u001b[43m \u001b[49m\u001b[43mfollow_symlinks\u001b[49m\u001b[38;5;241;43m=\u001b[39;49m\u001b[43mfollow_symlinks\u001b[49m\u001b[43m)\u001b[49m\n\u001b[0;32m    432\u001b[0m copymode(src, dst, follow_symlinks\u001b[38;5;241m=\u001b[39mfollow_symlinks)\n\u001b[0;32m    433\u001b[0m \u001b[38;5;28;01mreturn\u001b[39;00m dst\n",
      "File \u001b[1;32m~\\AppData\\Local\\Programs\\Python\\Python311\\Lib\\shutil.py:256\u001b[0m, in \u001b[0;36mcopyfile\u001b[1;34m(src, dst, follow_symlinks)\u001b[0m\n\u001b[0;32m    254\u001b[0m     os\u001b[38;5;241m.\u001b[39msymlink(os\u001b[38;5;241m.\u001b[39mreadlink(src), dst)\n\u001b[0;32m    255\u001b[0m \u001b[38;5;28;01melse\u001b[39;00m:\n\u001b[1;32m--> 256\u001b[0m     \u001b[38;5;28;01mwith\u001b[39;00m \u001b[38;5;28;43mopen\u001b[39;49m\u001b[43m(\u001b[49m\u001b[43msrc\u001b[49m\u001b[43m,\u001b[49m\u001b[43m \u001b[49m\u001b[38;5;124;43m'\u001b[39;49m\u001b[38;5;124;43mrb\u001b[39;49m\u001b[38;5;124;43m'\u001b[39;49m\u001b[43m)\u001b[49m \u001b[38;5;28;01mas\u001b[39;00m fsrc:\n\u001b[0;32m    257\u001b[0m         \u001b[38;5;28;01mtry\u001b[39;00m:\n\u001b[0;32m    258\u001b[0m             \u001b[38;5;28;01mwith\u001b[39;00m \u001b[38;5;28mopen\u001b[39m(dst, \u001b[38;5;124m'\u001b[39m\u001b[38;5;124mwb\u001b[39m\u001b[38;5;124m'\u001b[39m) \u001b[38;5;28;01mas\u001b[39;00m fdst:\n\u001b[0;32m    259\u001b[0m                 \u001b[38;5;66;03m# macOS\u001b[39;00m\n",
      "\u001b[1;31mFileNotFoundError\u001b[0m: [Errno 2] No such file or directory: 'test/test1/file.txt'"
     ]
    }
   ],
   "source": [
    "# copying the above file in the current location >> \n",
    "shutil.copy(\"test/test1/file.txt\",'D:\\\\Data Science\\\\python')  # error"
   ]
  },
  {
   "cell_type": "code",
   "execution_count": null,
   "id": "7ef60017-0d6f-46b8-8143-044c32e32cee",
   "metadata": {},
   "outputs": [],
   "source": [
    "# move a file"
   ]
  },
  {
   "cell_type": "code",
   "execution_count": 87,
   "id": "213af9b6-1e17-47ea-a479-fc7c107f2b5a",
   "metadata": {},
   "outputs": [],
   "source": [
    "os.mkdir(\"file_test\")"
   ]
  },
  {
   "cell_type": "code",
   "execution_count": 88,
   "id": "7114a438-f704-4ced-99fb-65a789a41ba4",
   "metadata": {},
   "outputs": [
    {
     "data": {
      "text/plain": [
       "'D:\\\\Data Science\\\\python\\\\file_test.txt'"
      ]
     },
     "execution_count": 88,
     "metadata": {},
     "output_type": "execute_result"
    }
   ],
   "source": [
    "shutil.move(\"test/test1/file.txt\",'D:\\\\Data Science\\\\python\\\\file_test.txt')"
   ]
  },
  {
   "cell_type": "code",
   "execution_count": null,
   "id": "677a69d4-522b-4b85-ae5e-4812c4016ee9",
   "metadata": {},
   "outputs": [],
   "source": [
    "# move will remove the file from original source to destination source"
   ]
  },
  {
   "cell_type": "code",
   "execution_count": 91,
   "id": "5ec70cca-5735-4201-b4ab-9eac34b5c1ca",
   "metadata": {},
   "outputs": [],
   "source": [
    "with open('file.txt','w') as f:\n",
    "    f.write(\"This is my first line\")"
   ]
  },
  {
   "cell_type": "code",
   "execution_count": null,
   "id": "e711be64-7e64-4ef9-8b14-f168efe6aa9f",
   "metadata": {},
   "outputs": [],
   "source": [
    "# with statement ensures that the file is closed properly after the block of code is executed\n",
    "# important >> free up system resources and avoid issues like data corruption or file lock"
   ]
  },
  {
   "cell_type": "code",
   "execution_count": 92,
   "id": "abc3f38d-ad11-4916-81b2-c0a0018545aa",
   "metadata": {},
   "outputs": [
    {
     "name": "stdout",
     "output_type": "stream",
     "text": [
      "This is my first line\n"
     ]
    }
   ],
   "source": [
    "with open(\"file.txt\",'r') as f:\n",
    "    line = f.readline()\n",
    "    print(line)"
   ]
  },
  {
   "cell_type": "code",
   "execution_count": null,
   "id": "54af44b1-7f90-4635-9050-fd564ff205a9",
   "metadata": {},
   "outputs": [],
   "source": []
  },
  {
   "cell_type": "code",
   "execution_count": null,
   "id": "8171b85d-064f-455c-9bb5-3451e788098d",
   "metadata": {},
   "outputs": [],
   "source": []
  },
  {
   "cell_type": "code",
   "execution_count": null,
   "id": "e3dfe0ee-2465-46a2-a200-22fd25922242",
   "metadata": {},
   "outputs": [],
   "source": []
  },
  {
   "cell_type": "code",
   "execution_count": null,
   "id": "144ea8aa-b634-4408-a2f4-e15fbc580b64",
   "metadata": {},
   "outputs": [],
   "source": []
  },
  {
   "cell_type": "code",
   "execution_count": null,
   "id": "7f0c6df5-6979-4f21-83d1-f51089fbf965",
   "metadata": {},
   "outputs": [],
   "source": []
  },
  {
   "cell_type": "code",
   "execution_count": null,
   "id": "57f93801-2648-4594-b5ec-29cee9d7cc1b",
   "metadata": {},
   "outputs": [],
   "source": []
  },
  {
   "cell_type": "code",
   "execution_count": null,
   "id": "08acafa9-081c-4165-82e2-c97f07bf4e8f",
   "metadata": {},
   "outputs": [],
   "source": []
  },
  {
   "cell_type": "code",
   "execution_count": null,
   "id": "92214ec5-0def-4da0-b542-9de5a3db700c",
   "metadata": {},
   "outputs": [],
   "source": []
  },
  {
   "cell_type": "code",
   "execution_count": null,
   "id": "3d7eedb3-1888-4ae4-b3ce-d3f2ab69205c",
   "metadata": {},
   "outputs": [],
   "source": []
  },
  {
   "cell_type": "code",
   "execution_count": null,
   "id": "00e58274-dc43-4bae-a144-5bfb4d812e23",
   "metadata": {},
   "outputs": [],
   "source": []
  },
  {
   "cell_type": "code",
   "execution_count": null,
   "id": "5bc83604-46df-489c-b79e-408186b4a43a",
   "metadata": {},
   "outputs": [],
   "source": []
  },
  {
   "cell_type": "code",
   "execution_count": null,
   "id": "590922b1-0289-45e0-80d3-4b467e822939",
   "metadata": {},
   "outputs": [],
   "source": []
  },
  {
   "cell_type": "code",
   "execution_count": null,
   "id": "9f85e4bc-164b-4b53-aebc-0b07d040e7c4",
   "metadata": {},
   "outputs": [],
   "source": []
  },
  {
   "cell_type": "code",
   "execution_count": null,
   "id": "863bc041-78e9-4899-ab20-750de69df302",
   "metadata": {},
   "outputs": [],
   "source": []
  }
 ],
 "metadata": {
  "kernelspec": {
   "display_name": "Python 3 (ipykernel)",
   "language": "python",
   "name": "python3"
  },
  "language_info": {
   "codemirror_mode": {
    "name": "ipython",
    "version": 3
   },
   "file_extension": ".py",
   "mimetype": "text/x-python",
   "name": "python",
   "nbconvert_exporter": "python",
   "pygments_lexer": "ipython3",
   "version": "3.11.9"
  }
 },
 "nbformat": 4,
 "nbformat_minor": 5
}
