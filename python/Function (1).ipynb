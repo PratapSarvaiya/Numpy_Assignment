{
 "cells": [
  {
   "cell_type": "code",
   "execution_count": 1,
   "id": "8a134ff0-9726-4fef-b778-74285dc8f604",
   "metadata": {},
   "outputs": [
    {
     "data": {
      "text/plain": [
       "8"
      ]
     },
     "execution_count": 1,
     "metadata": {},
     "output_type": "execute_result"
    }
   ],
   "source": [
    "len(\"pwskills\")"
   ]
  },
  {
   "cell_type": "code",
   "execution_count": 2,
   "id": "8d75f5ca-2eec-4316-8dba-29616322980c",
   "metadata": {},
   "outputs": [
    {
     "data": {
      "text/plain": [
       "int"
      ]
     },
     "execution_count": 2,
     "metadata": {},
     "output_type": "execute_result"
    }
   ],
   "source": [
    "type(5)"
   ]
  },
  {
   "cell_type": "code",
   "execution_count": 3,
   "id": "e1106b61-d2cf-41a4-a4e4-9275644d6eb9",
   "metadata": {},
   "outputs": [],
   "source": [
    "# functions >> print,len,type >>> inbuilt python function\n",
    "#ceil >> roof >> nearest highest whole number value\n",
    "# floor >> grund >> nearest lowest whole number values"
   ]
  },
  {
   "cell_type": "code",
   "execution_count": 4,
   "id": "de327d7e-cdec-4555-ba29-2fda7cb8f4c3",
   "metadata": {},
   "outputs": [],
   "source": [
    "import math as m # math(library) is a collection of function"
   ]
  },
  {
   "cell_type": "code",
   "execution_count": 5,
   "id": "e2834524-2eed-407c-9c0b-8659cfe3ba07",
   "metadata": {},
   "outputs": [
    {
     "data": {
      "text/plain": [
       "7"
      ]
     },
     "execution_count": 5,
     "metadata": {},
     "output_type": "execute_result"
    }
   ],
   "source": [
    "m.ceil(6.5)"
   ]
  },
  {
   "cell_type": "code",
   "execution_count": 6,
   "id": "0e8a70f4-6855-4eff-97ee-c29dca8a9815",
   "metadata": {},
   "outputs": [
    {
     "data": {
      "text/plain": [
       "6"
      ]
     },
     "execution_count": 6,
     "metadata": {},
     "output_type": "execute_result"
    }
   ],
   "source": [
    "m.floor(6.2)"
   ]
  },
  {
   "cell_type": "code",
   "execution_count": null,
   "id": "4196ce7b-900d-4d5b-8539-2006463cf555",
   "metadata": {},
   "outputs": [],
   "source": [
    "# function >> inbuilt function\n",
    "#user defined function"
   ]
  },
  {
   "cell_type": "code",
   "execution_count": null,
   "id": "1ca1c015-5965-4295-83e7-1ae3442dd86b",
   "metadata": {},
   "outputs": [],
   "source": [
    "#syntax of function\n",
    "#def func():\n",
    "#do something >> body of function"
   ]
  },
  {
   "cell_type": "code",
   "execution_count": null,
   "id": "c1e16f9b-9db7-4a13-a8ba-fd936380fb02",
   "metadata": {},
   "outputs": [],
   "source": [
    "# function is a block of code which performs some specific task/computation\n",
    "#why function >> functions are reusable,neat,clean and organised,saves your time"
   ]
  },
  {
   "cell_type": "code",
   "execution_count": 7,
   "id": "e39eafa1-7b69-44d6-9164-a40ad13498fe",
   "metadata": {},
   "outputs": [
    {
     "name": "stdout",
     "output_type": "stream",
     "text": [
      "welcome to the office rahul\n",
      "welcome to the office shyam\n",
      "welcome to the office seta\n"
     ]
    }
   ],
   "source": [
    "print(\"welcome to the office rahul\")\n",
    "print(\"welcome to the office shyam\")\n",
    "print(\"welcome to the office seta\")"
   ]
  },
  {
   "cell_type": "code",
   "execution_count": 12,
   "id": "9c72226e-7474-4259-b43e-d6abe5da25be",
   "metadata": {},
   "outputs": [],
   "source": [
    "def greetings(): # passing a variable inside the function\n",
    "    print(\"welcome to the office\")"
   ]
  },
  {
   "cell_type": "code",
   "execution_count": 13,
   "id": "f2277312-8003-4c0e-bb25-705a097e74f1",
   "metadata": {},
   "outputs": [],
   "source": [
    "def greetings(name): # passing a variable inside the function >> name is positional argument\n",
    "    print(\"welcome to the office\",name)"
   ]
  },
  {
   "cell_type": "code",
   "execution_count": 14,
   "id": "ba5f7ea0-cee1-402e-b292-684d24bcabfc",
   "metadata": {},
   "outputs": [
    {
     "name": "stdout",
     "output_type": "stream",
     "text": [
      "welcome to the office pratap\n"
     ]
    }
   ],
   "source": [
    "greetings(\"pratap\")"
   ]
  },
  {
   "cell_type": "code",
   "execution_count": 15,
   "id": "2e8b4c96-cb18-4d1f-a569-8ddab722f2be",
   "metadata": {},
   "outputs": [
    {
     "name": "stdout",
     "output_type": "stream",
     "text": [
      "welcome to the office bjay\n"
     ]
    }
   ],
   "source": [
    "greetings(\"bjay\")"
   ]
  },
  {
   "cell_type": "code",
   "execution_count": 16,
   "id": "41e3d796-76ef-4d0f-a9a2-eb797fe602cc",
   "metadata": {},
   "outputs": [
    {
     "ename": "TypeError",
     "evalue": "greetings() missing 1 required positional argument: 'name'",
     "output_type": "error",
     "traceback": [
      "\u001b[0;31m---------------------------------------------------------------------------\u001b[0m",
      "\u001b[0;31mTypeError\u001b[0m                                 Traceback (most recent call last)",
      "Cell \u001b[0;32mIn[16], line 1\u001b[0m\n\u001b[0;32m----> 1\u001b[0m \u001b[43mgreetings\u001b[49m\u001b[43m(\u001b[49m\u001b[43m)\u001b[49m\n",
      "\u001b[0;31mTypeError\u001b[0m: greetings() missing 1 required positional argument: 'name'"
     ]
    }
   ],
   "source": [
    "greetings()  # it will throw error"
   ]
  },
  {
   "cell_type": "code",
   "execution_count": 10,
   "id": "e8d0e325-ed39-4ae6-ab2d-77272c2c5a97",
   "metadata": {},
   "outputs": [
    {
     "name": "stdout",
     "output_type": "stream",
     "text": [
      "welcome to the office\n"
     ]
    }
   ],
   "source": [
    "greetings()"
   ]
  },
  {
   "cell_type": "code",
   "execution_count": 11,
   "id": "33ac5c63-549c-4919-b901-92c4fd8ca60c",
   "metadata": {},
   "outputs": [
    {
     "name": "stdout",
     "output_type": "stream",
     "text": [
      "welcome to the office\n"
     ]
    }
   ],
   "source": [
    "greetings()"
   ]
  },
  {
   "cell_type": "code",
   "execution_count": 9,
   "id": "04856ac4-a1c1-4633-8c19-a6d81bdb4fa5",
   "metadata": {},
   "outputs": [
    {
     "name": "stdout",
     "output_type": "stream",
     "text": [
      "Hello world\n"
     ]
    }
   ],
   "source": [
    "print(\"Hello world\") # in print, you call function by name,print() and provide a value inside paranthesis "
   ]
  },
  {
   "cell_type": "code",
   "execution_count": 17,
   "id": "82d04f9e-87fc-4131-aa34-51bb791c8481",
   "metadata": {},
   "outputs": [],
   "source": [
    "def greetings(pratap): \n",
    "    print(\"welcome to the office\",pratap)"
   ]
  },
  {
   "cell_type": "code",
   "execution_count": 18,
   "id": "0de32a3e-5510-48e6-badf-51b505dd543e",
   "metadata": {},
   "outputs": [
    {
     "name": "stdout",
     "output_type": "stream",
     "text": [
      "welcome to the office pratap\n"
     ]
    }
   ],
   "source": [
    "greetings(\"pratap\")"
   ]
  },
  {
   "cell_type": "code",
   "execution_count": 19,
   "id": "75504b85-c4b5-41ab-b2a3-98a62d4ac83b",
   "metadata": {},
   "outputs": [
    {
     "name": "stdout",
     "output_type": "stream",
     "text": [
      "welcome to the office sonu\n"
     ]
    }
   ],
   "source": [
    "greetings(\"sonu\")"
   ]
  },
  {
   "cell_type": "code",
   "execution_count": 20,
   "id": "fd306cfb-8870-4581-8fc8-f36e562db18d",
   "metadata": {},
   "outputs": [
    {
     "name": "stdout",
     "output_type": "stream",
     "text": [
      "welcome to the office neha\n"
     ]
    }
   ],
   "source": [
    "greetings(\"neha\")"
   ]
  },
  {
   "cell_type": "code",
   "execution_count": 26,
   "id": "d3f406bb-b1cd-4752-a6a6-eebcba7d2fce",
   "metadata": {},
   "outputs": [
    {
     "name": "stdout",
     "output_type": "stream",
     "text": [
      "This is my first function\n"
     ]
    }
   ],
   "source": [
    "def func():\n",
    "    print(\"This is my first function\")\n",
    "func()"
   ]
  },
  {
   "cell_type": "code",
   "execution_count": 24,
   "id": "903c80ca-0961-488b-a09d-864f9a4c4793",
   "metadata": {},
   "outputs": [
    {
     "data": {
      "text/plain": [
       "'This is my first functionin python'"
      ]
     },
     "execution_count": 24,
     "metadata": {},
     "output_type": "execute_result"
    }
   ],
   "source": [
    "\"This is my first function\"+\"in python\""
   ]
  },
  {
   "cell_type": "code",
   "execution_count": 27,
   "id": "ef4472a2-a159-481c-8e73-b3c776b66bb4",
   "metadata": {},
   "outputs": [
    {
     "name": "stdout",
     "output_type": "stream",
     "text": [
      "This is my first function\n"
     ]
    },
    {
     "ename": "TypeError",
     "evalue": "unsupported operand type(s) for +: 'NoneType' and 'str'",
     "output_type": "error",
     "traceback": [
      "\u001b[0;31m---------------------------------------------------------------------------\u001b[0m",
      "\u001b[0;31mTypeError\u001b[0m                                 Traceback (most recent call last)",
      "Cell \u001b[0;32mIn[27], line 1\u001b[0m\n\u001b[0;32m----> 1\u001b[0m \u001b[43mfunc\u001b[49m\u001b[43m(\u001b[49m\u001b[43m)\u001b[49m\u001b[38;5;241;43m+\u001b[39;49m\u001b[38;5;124;43m\"\u001b[39;49m\u001b[38;5;124;43min python\u001b[39;49m\u001b[38;5;124;43m\"\u001b[39;49m \u001b[38;5;66;03m# it will be throw error\u001b[39;00m\n",
      "\u001b[0;31mTypeError\u001b[0m: unsupported operand type(s) for +: 'NoneType' and 'str'"
     ]
    }
   ],
   "source": [
    "func()+\"in python\" # it will be throw error"
   ]
  },
  {
   "cell_type": "code",
   "execution_count": 29,
   "id": "177067f8-ea77-4a3d-85cf-bd6a16ae25d0",
   "metadata": {},
   "outputs": [
    {
     "name": "stdout",
     "output_type": "stream",
     "text": [
      "This is my first function\n",
      "<class 'NoneType'>\n"
     ]
    }
   ],
   "source": [
    "print(type(func()))"
   ]
  },
  {
   "cell_type": "code",
   "execution_count": 33,
   "id": "21a3caf6-6123-488c-8531-69468dc8aa4c",
   "metadata": {},
   "outputs": [
    {
     "data": {
      "text/plain": [
       "'This is my first functionin python'"
      ]
     },
     "execution_count": 33,
     "metadata": {},
     "output_type": "execute_result"
    }
   ],
   "source": [
    "def func():  # return >> output of a function\n",
    "    return \"This is my first function\" # do something \n",
    "func()+ \"in python\""
   ]
  },
  {
   "cell_type": "code",
   "execution_count": 23,
   "id": "24be9d33-e34f-4e33-ad85-b8b3139835f1",
   "metadata": {},
   "outputs": [],
   "source": [
    "def func():\n",
    "    return \"this is my first function\",1,2,2.2,True,3+4j"
   ]
  },
  {
   "cell_type": "code",
   "execution_count": 24,
   "id": "12693dd4-3a00-4bfe-a54a-9320dd8416c9",
   "metadata": {},
   "outputs": [
    {
     "data": {
      "text/plain": [
       "('this is my first function', 1, 2, 2.2, True, (3+4j))"
      ]
     },
     "execution_count": 24,
     "metadata": {},
     "output_type": "execute_result"
    }
   ],
   "source": [
    "func()"
   ]
  },
  {
   "cell_type": "code",
   "execution_count": 25,
   "id": "dd5dff9d-929f-4e63-b4f5-d04e9b3e91a1",
   "metadata": {},
   "outputs": [
    {
     "data": {
      "text/plain": [
       "tuple"
      ]
     },
     "execution_count": 25,
     "metadata": {},
     "output_type": "execute_result"
    }
   ],
   "source": [
    "a=func()\n",
    "type(a)"
   ]
  },
  {
   "cell_type": "code",
   "execution_count": 27,
   "id": "9dad3353-1c42-49f5-822f-f06b260d05b5",
   "metadata": {},
   "outputs": [],
   "source": [
    "a, b, c, d, e, f = func()"
   ]
  },
  {
   "cell_type": "code",
   "execution_count": 28,
   "id": "4d2618ec-b82d-430a-98f8-f1e398efbb61",
   "metadata": {},
   "outputs": [
    {
     "data": {
      "text/plain": [
       "'this is my first function'"
      ]
     },
     "execution_count": 28,
     "metadata": {},
     "output_type": "execute_result"
    }
   ],
   "source": [
    "a"
   ]
  },
  {
   "cell_type": "code",
   "execution_count": 29,
   "id": "678319e3-cbe0-4a2c-8c63-5f2d7087ee26",
   "metadata": {},
   "outputs": [
    {
     "data": {
      "text/plain": [
       "1"
      ]
     },
     "execution_count": 29,
     "metadata": {},
     "output_type": "execute_result"
    }
   ],
   "source": [
    "b"
   ]
  },
  {
   "cell_type": "code",
   "execution_count": 30,
   "id": "6e6af87b-6fd0-482f-89e6-432859f7fcc7",
   "metadata": {},
   "outputs": [
    {
     "data": {
      "text/plain": [
       "2"
      ]
     },
     "execution_count": 30,
     "metadata": {},
     "output_type": "execute_result"
    }
   ],
   "source": [
    "c"
   ]
  },
  {
   "cell_type": "code",
   "execution_count": 31,
   "id": "987ada6c-3d5a-40bb-80b3-30f6fe613e1b",
   "metadata": {},
   "outputs": [
    {
     "data": {
      "text/plain": [
       "2.2"
      ]
     },
     "execution_count": 31,
     "metadata": {},
     "output_type": "execute_result"
    }
   ],
   "source": [
    "d"
   ]
  },
  {
   "cell_type": "code",
   "execution_count": 32,
   "id": "2baecf36-36e0-45c9-8795-3532d7c561ab",
   "metadata": {},
   "outputs": [
    {
     "data": {
      "text/plain": [
       "True"
      ]
     },
     "execution_count": 32,
     "metadata": {},
     "output_type": "execute_result"
    }
   ],
   "source": [
    "e"
   ]
  },
  {
   "cell_type": "code",
   "execution_count": 33,
   "id": "f1f6b68e-cfef-45c2-b1c3-8cd1d8ddda97",
   "metadata": {},
   "outputs": [
    {
     "data": {
      "text/plain": [
       "(3+4j)"
      ]
     },
     "execution_count": 33,
     "metadata": {},
     "output_type": "execute_result"
    }
   ],
   "source": [
    "f"
   ]
  },
  {
   "cell_type": "code",
   "execution_count": 35,
   "id": "6b42f329-29c2-41ab-b37c-ddad8132a342",
   "metadata": {},
   "outputs": [
    {
     "data": {
      "text/plain": [
       "('this is my first function', 1, 2, 2.2, True, (3+4j))"
      ]
     },
     "execution_count": 35,
     "metadata": {},
     "output_type": "execute_result"
    }
   ],
   "source": [
    "a=func()\n",
    "a"
   ]
  },
  {
   "cell_type": "code",
   "execution_count": 36,
   "id": "dbe2fa85-ff3e-4f6d-bf35-29800d0c1209",
   "metadata": {},
   "outputs": [
    {
     "data": {
      "text/plain": [
       "'this is my first function'"
      ]
     },
     "execution_count": 36,
     "metadata": {},
     "output_type": "execute_result"
    }
   ],
   "source": [
    "a[0]"
   ]
  },
  {
   "cell_type": "code",
   "execution_count": 37,
   "id": "c051f1d1-b204-4ff5-8e06-f79d8b82b90b",
   "metadata": {},
   "outputs": [
    {
     "data": {
      "text/plain": [
       "1"
      ]
     },
     "execution_count": 37,
     "metadata": {},
     "output_type": "execute_result"
    }
   ],
   "source": [
    "a[1]"
   ]
  },
  {
   "cell_type": "code",
   "execution_count": 38,
   "id": "79b4e4bf-d10f-4b95-a048-de923d8b0f70",
   "metadata": {},
   "outputs": [],
   "source": [
    "def func():\n",
    "    calc = 2+3+6*5\n",
    "    return calc"
   ]
  },
  {
   "cell_type": "code",
   "execution_count": 39,
   "id": "733a8b02-a8ea-445e-bc1b-b15e38b458e4",
   "metadata": {},
   "outputs": [
    {
     "data": {
      "text/plain": [
       "35"
      ]
     },
     "execution_count": 39,
     "metadata": {},
     "output_type": "execute_result"
    }
   ],
   "source": [
    "func()"
   ]
  },
  {
   "cell_type": "code",
   "execution_count": 40,
   "id": "a7158ed9-1e4d-4303-b841-a02c7441fed7",
   "metadata": {},
   "outputs": [
    {
     "data": {
      "text/plain": [
       "int"
      ]
     },
     "execution_count": 40,
     "metadata": {},
     "output_type": "execute_result"
    }
   ],
   "source": [
    "type(func())"
   ]
  },
  {
   "cell_type": "code",
   "execution_count": 44,
   "id": "f0222ab3-8db2-466b-9e3e-74f75756b939",
   "metadata": {},
   "outputs": [],
   "source": [
    "def square_num(a):  # a is called as an argument \n",
    "    return a*a\n",
    " "
   ]
  },
  {
   "cell_type": "code",
   "execution_count": 45,
   "id": "890dc7f7-1cfb-438a-adfd-14c908a90396",
   "metadata": {},
   "outputs": [
    {
     "data": {
      "text/plain": [
       "9"
      ]
     },
     "execution_count": 45,
     "metadata": {},
     "output_type": "execute_result"
    }
   ],
   "source": [
    "square_num(3)"
   ]
  },
  {
   "cell_type": "code",
   "execution_count": 46,
   "id": "81b7bab3-10a2-4e9c-9fe0-a2e7c9da40be",
   "metadata": {},
   "outputs": [
    {
     "data": {
      "text/plain": [
       "16"
      ]
     },
     "execution_count": 46,
     "metadata": {},
     "output_type": "execute_result"
    }
   ],
   "source": [
    "square_num(4)"
   ]
  },
  {
   "cell_type": "code",
   "execution_count": 47,
   "id": "1e5c14d3-1ff9-474d-b2b5-793a0f903938",
   "metadata": {},
   "outputs": [
    {
     "data": {
      "text/plain": [
       "10000"
      ]
     },
     "execution_count": 47,
     "metadata": {},
     "output_type": "execute_result"
    }
   ],
   "source": [
    "def square_num(args):\n",
    "    return args*args\n",
    "square_num(100)"
   ]
  },
  {
   "cell_type": "code",
   "execution_count": null,
   "id": "534ad5b7-41a5-42fb-92d8-b385c50e809e",
   "metadata": {},
   "outputs": [],
   "source": [
    "# a nd b positional arguments >> it maintains order"
   ]
  },
  {
   "cell_type": "code",
   "execution_count": 48,
   "id": "6982fc47-9606-49c9-aa5a-7b6a45d1490c",
   "metadata": {},
   "outputs": [],
   "source": [
    "def addition(a,b):  # a and b is possitional argument it is provide order\n",
    "    return a+b"
   ]
  },
  {
   "cell_type": "code",
   "execution_count": 49,
   "id": "b3090471-36dd-45d1-a2bf-45c08ef0f033",
   "metadata": {},
   "outputs": [
    {
     "data": {
      "text/plain": [
       "3"
      ]
     },
     "execution_count": 49,
     "metadata": {},
     "output_type": "execute_result"
    }
   ],
   "source": [
    "addition(1,2)"
   ]
  },
  {
   "cell_type": "code",
   "execution_count": 50,
   "id": "9c001a42-b10e-43c0-afed-d47b2b2a7a70",
   "metadata": {},
   "outputs": [
    {
     "data": {
      "text/plain": [
       "10"
      ]
     },
     "execution_count": 50,
     "metadata": {},
     "output_type": "execute_result"
    }
   ],
   "source": [
    "addition(2,8)"
   ]
  },
  {
   "cell_type": "code",
   "execution_count": 52,
   "id": "fc56c436-36ac-4752-b900-46b2b2bdd650",
   "metadata": {},
   "outputs": [
    {
     "data": {
      "text/plain": [
       "'pwskills'"
      ]
     },
     "execution_count": 52,
     "metadata": {},
     "output_type": "execute_result"
    }
   ],
   "source": [
    "addition(\"pw\",\"skills\")"
   ]
  },
  {
   "cell_type": "code",
   "execution_count": 53,
   "id": "55ee4602-99cc-43af-97f0-14c6906731bf",
   "metadata": {},
   "outputs": [
    {
     "data": {
      "text/plain": [
       "[1, 2, 3, 4, 5, 6]"
      ]
     },
     "execution_count": 53,
     "metadata": {},
     "output_type": "execute_result"
    }
   ],
   "source": [
    "addition([1,2,3],[4,5,6])    # combine to a list "
   ]
  },
  {
   "cell_type": "code",
   "execution_count": 54,
   "id": "54c4a4da-db67-4ca0-88b9-7b6fe7e27cf1",
   "metadata": {},
   "outputs": [
    {
     "data": {
      "text/plain": [
       "'skillspw'"
      ]
     },
     "execution_count": 54,
     "metadata": {},
     "output_type": "execute_result"
    }
   ],
   "source": [
    "addition(\"skills\",\"pw\")"
   ]
  },
  {
   "cell_type": "code",
   "execution_count": 56,
   "id": "6da0daf0-5914-4d56-8bc6-09f211c4d384",
   "metadata": {},
   "outputs": [
    {
     "data": {
      "text/plain": [
       "'pwskills'"
      ]
     },
     "execution_count": 56,
     "metadata": {},
     "output_type": "execute_result"
    }
   ],
   "source": [
    "addition(b = \"skills\", a = \"pw\") # it maintain the order"
   ]
  },
  {
   "cell_type": "code",
   "execution_count": 58,
   "id": "a265d892-b834-41d9-a87b-f07f09a5883d",
   "metadata": {},
   "outputs": [],
   "source": [
    "def addition(b,a):  \n",
    "    return b+a"
   ]
  },
  {
   "cell_type": "code",
   "execution_count": 59,
   "id": "82b8ae3a-582a-4df8-83b4-c290e64a43d2",
   "metadata": {},
   "outputs": [
    {
     "data": {
      "text/plain": [
       "'pwskills'"
      ]
     },
     "execution_count": 59,
     "metadata": {},
     "output_type": "execute_result"
    }
   ],
   "source": [
    "addition( b= \"pw\", a= \"skills\")"
   ]
  },
  {
   "cell_type": "code",
   "execution_count": 67,
   "id": "bfc95b7c-a571-4ce1-9c1f-170b0d9f4d8f",
   "metadata": {},
   "outputs": [],
   "source": [
    "def sum(a,b,c):\n",
    "    return a+b+c"
   ]
  },
  {
   "cell_type": "code",
   "execution_count": 61,
   "id": "d889e548-a958-485a-86c0-d2a89eb51d29",
   "metadata": {},
   "outputs": [
    {
     "data": {
      "text/plain": [
       "6"
      ]
     },
     "execution_count": 61,
     "metadata": {},
     "output_type": "execute_result"
    }
   ],
   "source": [
    "sum(1,2,3)"
   ]
  },
  {
   "cell_type": "code",
   "execution_count": 68,
   "id": "c6cd5f1a-87ba-40c0-918e-28ea5ebf60ab",
   "metadata": {},
   "outputs": [
    {
     "ename": "TypeError",
     "evalue": "sum() missing 1 required positional argument: 'c'",
     "output_type": "error",
     "traceback": [
      "\u001b[0;31m---------------------------------------------------------------------------\u001b[0m",
      "\u001b[0;31mTypeError\u001b[0m                                 Traceback (most recent call last)",
      "Cell \u001b[0;32mIn[68], line 1\u001b[0m\n\u001b[0;32m----> 1\u001b[0m \u001b[38;5;28;43msum\u001b[39;49m\u001b[43m(\u001b[49m\u001b[38;5;241;43m1\u001b[39;49m\u001b[43m,\u001b[49m\u001b[38;5;241;43m2\u001b[39;49m\u001b[43m)\u001b[49m\n",
      "\u001b[0;31mTypeError\u001b[0m: sum() missing 1 required positional argument: 'c'"
     ]
    }
   ],
   "source": [
    "sum(1,2)"
   ]
  },
  {
   "cell_type": "code",
   "execution_count": 73,
   "id": "6f17eca6-3051-4fe2-8846-733dd32bf604",
   "metadata": {},
   "outputs": [],
   "source": [
    "#default argument\n",
    "def sum1 (b, c, a=0): # default argument is passed to functoin in the last\n",
    "    return a+b+c  # non default argument follows default argument"
   ]
  },
  {
   "cell_type": "code",
   "execution_count": 74,
   "id": "324ae37d-023d-4898-8a5c-a6b00013b70f",
   "metadata": {},
   "outputs": [
    {
     "data": {
      "text/plain": [
       "17"
      ]
     },
     "execution_count": 74,
     "metadata": {},
     "output_type": "execute_result"
    }
   ],
   "source": [
    "sum1(b=3,c=5,a=9)"
   ]
  },
  {
   "cell_type": "code",
   "execution_count": 75,
   "id": "d5a715a0-896f-4da1-8066-e471e9288a9b",
   "metadata": {},
   "outputs": [
    {
     "data": {
      "text/plain": [
       "8"
      ]
     },
     "execution_count": 75,
     "metadata": {},
     "output_type": "execute_result"
    }
   ],
   "source": [
    "sum1(b=3,c=5)  # no error because default"
   ]
  },
  {
   "cell_type": "code",
   "execution_count": 70,
   "id": "c549c247-b868-43ae-b39a-030609487f74",
   "metadata": {},
   "outputs": [
    {
     "ename": "SyntaxError",
     "evalue": "non-default argument follows default argument (2197051191.py, line 1)",
     "output_type": "error",
     "traceback": [
      "\u001b[0;36m  Cell \u001b[0;32mIn[70], line 1\u001b[0;36m\u001b[0m\n\u001b[0;31m    def sum(a=0,b,c):\u001b[0m\n\u001b[0m                ^\u001b[0m\n\u001b[0;31mSyntaxError\u001b[0m\u001b[0;31m:\u001b[0m non-default argument follows default argument\n"
     ]
    }
   ],
   "source": [
    "def sum(a=0,b,c):  # it will throw error\n",
    "    return a+b+c"
   ]
  },
  {
   "cell_type": "code",
   "execution_count": 76,
   "id": "1047ecc1-2c9e-4bd9-a2fc-e29aa0864271",
   "metadata": {},
   "outputs": [
    {
     "data": {
      "text/plain": [
       "3"
      ]
     },
     "execution_count": 76,
     "metadata": {},
     "output_type": "execute_result"
    }
   ],
   "source": [
    "sum1(1,2)"
   ]
  },
  {
   "cell_type": "code",
   "execution_count": 83,
   "id": "a6c25560-7e51-4e59-834f-ddada5f36eb4",
   "metadata": {},
   "outputs": [],
   "source": [
    "def sum2(a=0, b=0, c=0): \n",
    "    return a+b+c"
   ]
  },
  {
   "cell_type": "code",
   "execution_count": 84,
   "id": "1a1bc82c-1929-420c-99ab-2ee752470c83",
   "metadata": {},
   "outputs": [
    {
     "data": {
      "text/plain": [
       "1"
      ]
     },
     "execution_count": 84,
     "metadata": {},
     "output_type": "execute_result"
    }
   ],
   "source": [
    "sum2(1)"
   ]
  },
  {
   "cell_type": "code",
   "execution_count": 85,
   "id": "c38930a6-849d-4e08-a1bb-ff3b79749088",
   "metadata": {},
   "outputs": [
    {
     "data": {
      "text/plain": [
       "0"
      ]
     },
     "execution_count": 85,
     "metadata": {},
     "output_type": "execute_result"
    }
   ],
   "source": [
    "sum2()"
   ]
  },
  {
   "cell_type": "code",
   "execution_count": 86,
   "id": "da259eb4-8ce6-4ce1-85d4-b91a9755185f",
   "metadata": {},
   "outputs": [],
   "source": [
    "def sum3(a=4, b=0, c=0): \n",
    "    return a+b+c"
   ]
  },
  {
   "cell_type": "code",
   "execution_count": 87,
   "id": "8c750ab1-5347-409a-aa11-972e24ad3d97",
   "metadata": {},
   "outputs": [
    {
     "data": {
      "text/plain": [
       "4"
      ]
     },
     "execution_count": 87,
     "metadata": {},
     "output_type": "execute_result"
    }
   ],
   "source": [
    "sum3()"
   ]
  },
  {
   "cell_type": "code",
   "execution_count": 88,
   "id": "f350d579-0c5d-4855-a2b6-adb19a3da479",
   "metadata": {},
   "outputs": [
    {
     "data": {
      "text/plain": [
       "1"
      ]
     },
     "execution_count": 88,
     "metadata": {},
     "output_type": "execute_result"
    }
   ],
   "source": [
    "sum3(1)"
   ]
  },
  {
   "cell_type": "code",
   "execution_count": 89,
   "id": "b67f2182-9c97-4dee-94e3-92fea476438f",
   "metadata": {},
   "outputs": [
    {
     "data": {
      "text/plain": [
       "10"
      ]
     },
     "execution_count": 89,
     "metadata": {},
     "output_type": "execute_result"
    }
   ],
   "source": [
    "sum3(b=6)"
   ]
  },
  {
   "cell_type": "code",
   "execution_count": 90,
   "id": "3b2d34af-d94e-4c8d-922e-3680aa39658c",
   "metadata": {},
   "outputs": [],
   "source": [
    "def add_two_number():\n",
    "    a = int(input(\"please enter the first number: \"))\n",
    "    b = int(input(\"please enter the first number: \"))\n",
    "    return a+b"
   ]
  },
  {
   "cell_type": "code",
   "execution_count": 91,
   "id": "dd240e7d-5856-4849-9b56-aca05a971282",
   "metadata": {},
   "outputs": [
    {
     "name": "stdin",
     "output_type": "stream",
     "text": [
      "please enter the first number:  89\n",
      "please enter the first number:  87\n"
     ]
    },
    {
     "data": {
      "text/plain": [
       "176"
      ]
     },
     "execution_count": 91,
     "metadata": {},
     "output_type": "execute_result"
    }
   ],
   "source": [
    "add_two_number()"
   ]
  },
  {
   "cell_type": "code",
   "execution_count": null,
   "id": "8ebe1eb9-49e1-4770-8b4a-d6dc750898ee",
   "metadata": {},
   "outputs": [],
   "source": [
    "# write a function that takes list as input and return all numeric values in a list"
   ]
  },
  {
   "cell_type": "code",
   "execution_count": 4,
   "id": "89bd0a7b-4880-4c85-af52-074c129dd303",
   "metadata": {},
   "outputs": [],
   "source": [
    "def only_numeric(a):\n",
    "   n = []\n",
    "   for i in a:\n",
    "        if type(i) == int or type(i) == float:\n",
    "            n.append(i)\n",
    "   return n"
   ]
  },
  {
   "cell_type": "code",
   "execution_count": 6,
   "id": "64979c8f-6d54-4964-a916-11d76e875fa2",
   "metadata": {},
   "outputs": [
    {
     "data": {
      "text/plain": [
       "[1, 2, 3, 2.3]"
      ]
     },
     "execution_count": 6,
     "metadata": {},
     "output_type": "execute_result"
    }
   ],
   "source": [
    "only_numeric([1,2,3,2.3,\"ajat\",\"dbvb\",2+6j,True])"
   ]
  },
  {
   "cell_type": "code",
   "execution_count": null,
   "id": "90688bde-28c7-4adf-9cb3-e282b9c0884c",
   "metadata": {},
   "outputs": [],
   "source": [
    "# now in input take nested list\n",
    "only_numeric([1,2.2,\"ajay\",True,3+4j,\"pwskills\",5,6,[100,101,\"ajay\"]])"
   ]
  },
  {
   "cell_type": "code",
   "execution_count": 7,
   "id": "d611250b-26a4-464e-95db-b545bced8f3e",
   "metadata": {},
   "outputs": [],
   "source": [
    "def only_numeric(a):\n",
    "   n = []\n",
    "   for i in a:\n",
    "        if type(i) == list:\n",
    "            for j in i:\n",
    "                if type(j) == int or type(j)==float:\n",
    "                    n.append(j)\n",
    "        else:\n",
    "                        \n",
    "            if type(i) == int or type(i) == float:\n",
    "                n.append(i)\n",
    "   return n"
   ]
  },
  {
   "cell_type": "code",
   "execution_count": 8,
   "id": "cd247c79-ced9-4561-8e34-0322b51eff9d",
   "metadata": {},
   "outputs": [
    {
     "data": {
      "text/plain": [
       "[1, 2.2, 5, 6, 100, 101]"
      ]
     },
     "execution_count": 8,
     "metadata": {},
     "output_type": "execute_result"
    }
   ],
   "source": [
    "only_numeric([1,2.2,\"ajay\",True,3+4j,\"pwskills\",5,6,[100,101,\"ajay\"]])"
   ]
  },
  {
   "cell_type": "code",
   "execution_count": 10,
   "id": "fbcd2715-2250-4d3f-b32d-79be7ba30dd5",
   "metadata": {},
   "outputs": [],
   "source": [
    "def sum(a,b):\n",
    "    return a+b\n"
   ]
  },
  {
   "cell_type": "code",
   "execution_count": 11,
   "id": "4a7e2fed-16b8-4eff-9b71-4687fa2a880c",
   "metadata": {},
   "outputs": [
    {
     "data": {
      "text/plain": [
       "3"
      ]
     },
     "execution_count": 11,
     "metadata": {},
     "output_type": "execute_result"
    }
   ],
   "source": [
    "sum(1,2)"
   ]
  },
  {
   "cell_type": "code",
   "execution_count": 12,
   "id": "52ca8eca-74a8-4e7a-8695-127882d83d4b",
   "metadata": {},
   "outputs": [
    {
     "ename": "TypeError",
     "evalue": "sum() takes 2 positional arguments but 3 were given",
     "output_type": "error",
     "traceback": [
      "\u001b[0;31m---------------------------------------------------------------------------\u001b[0m",
      "\u001b[0;31mTypeError\u001b[0m                                 Traceback (most recent call last)",
      "Cell \u001b[0;32mIn[12], line 1\u001b[0m\n\u001b[0;32m----> 1\u001b[0m \u001b[38;5;28;43msum\u001b[39;49m\u001b[43m(\u001b[49m\u001b[38;5;241;43m1\u001b[39;49m\u001b[43m,\u001b[49m\u001b[38;5;241;43m2\u001b[39;49m\u001b[43m,\u001b[49m\u001b[38;5;241;43m3\u001b[39;49m\u001b[43m)\u001b[49m\n",
      "\u001b[0;31mTypeError\u001b[0m: sum() takes 2 positional arguments but 3 were given"
     ]
    }
   ],
   "source": [
    "sum(1,2,3)"
   ]
  },
  {
   "cell_type": "code",
   "execution_count": null,
   "id": "b99a1a62-a5df-4b22-8b45-e1815da929b8",
   "metadata": {},
   "outputs": [],
   "source": [
    "# variable length argument >> when you dont know the number of arguments"
   ]
  },
  {
   "cell_type": "code",
   "execution_count": 13,
   "id": "48be4eb1-5cc1-47ed-81c6-9380384be651",
   "metadata": {},
   "outputs": [],
   "source": [
    "def sum5(*args):\n",
    "    return args"
   ]
  },
  {
   "cell_type": "code",
   "execution_count": 14,
   "id": "ab240096-db65-4cf7-97cc-861ae6e16093",
   "metadata": {},
   "outputs": [
    {
     "data": {
      "text/plain": [
       "(2, 4)"
      ]
     },
     "execution_count": 14,
     "metadata": {},
     "output_type": "execute_result"
    }
   ],
   "source": [
    "sum5(2,4)"
   ]
  },
  {
   "cell_type": "code",
   "execution_count": 16,
   "id": "a18165c2-20d9-40ff-9499-04f400fa9354",
   "metadata": {},
   "outputs": [
    {
     "data": {
      "text/plain": [
       "(2, 3, 4, 5, 5)"
      ]
     },
     "execution_count": 16,
     "metadata": {},
     "output_type": "execute_result"
    }
   ],
   "source": [
    "sum5(2,3,4,5,5)"
   ]
  },
  {
   "cell_type": "code",
   "execution_count": 17,
   "id": "a2a63515-3220-43a0-aca8-d3f94c96f4e6",
   "metadata": {},
   "outputs": [
    {
     "data": {
      "text/plain": [
       "(2, 3, 4, 5, 5, 6, 7, 8, 9, 0)"
      ]
     },
     "execution_count": 17,
     "metadata": {},
     "output_type": "execute_result"
    }
   ],
   "source": [
    "sum5(2,3,4,5,5,6,7,8,9,0)"
   ]
  },
  {
   "cell_type": "code",
   "execution_count": 19,
   "id": "44ef2233-cf29-4efc-a54c-c57439b442a2",
   "metadata": {},
   "outputs": [
    {
     "name": "stdout",
     "output_type": "stream",
     "text": [
      "2\n",
      "3\n",
      "4\n",
      "5\n",
      "5\n",
      "6\n",
      "7\n",
      "8\n",
      "9\n",
      "0\n"
     ]
    }
   ],
   "source": [
    "for i in (2,3,4,5,5,6,7,8,9,0):\n",
    "    print(i)\n"
   ]
  },
  {
   "cell_type": "code",
   "execution_count": 24,
   "id": "690cd8f5-ebbd-40bd-9aac-e6203d216854",
   "metadata": {},
   "outputs": [],
   "source": [
    "# A function which can take any number of values and return the sum\n",
    "\n",
    "def sum5(*args):\n",
    "    s = 0\n",
    "    for i in args:\n",
    "        s = s+i\n",
    "    return s"
   ]
  },
  {
   "cell_type": "code",
   "execution_count": 25,
   "id": "c38e46f5-e8c0-4fa3-9a07-893f53317694",
   "metadata": {},
   "outputs": [
    {
     "data": {
      "text/plain": [
       "49"
      ]
     },
     "execution_count": 25,
     "metadata": {},
     "output_type": "execute_result"
    }
   ],
   "source": [
    "sum5(2,3,4,5,5,6,7,8,9,0)"
   ]
  },
  {
   "cell_type": "code",
   "execution_count": 26,
   "id": "bc4221b5-bc0f-44f5-afe3-cdacf7d93bc1",
   "metadata": {},
   "outputs": [],
   "source": [
    "# variable arguments with default argument\n",
    "def test(*args,a):\n",
    "    return args, a"
   ]
  },
  {
   "cell_type": "code",
   "execution_count": 28,
   "id": "982d4452-9576-4783-bcb7-65beb1aef27d",
   "metadata": {},
   "outputs": [
    {
     "data": {
      "text/plain": [
       "((1, 2, 3, 4, 5), 'ram')"
      ]
     },
     "execution_count": 28,
     "metadata": {},
     "output_type": "execute_result"
    }
   ],
   "source": [
    "test(1,2,3,4,5,a = \"ram\")"
   ]
  },
  {
   "cell_type": "code",
   "execution_count": null,
   "id": "459fc5e8-1d75-49b5-8653-81ef5e581561",
   "metadata": {},
   "outputs": [],
   "source": [
    "# variable arguments >>> takes number of argument\n",
    "# positional argument >> fixed argument"
   ]
  },
  {
   "cell_type": "code",
   "execution_count": null,
   "id": "bfaf8d81-e27f-4d7d-9fa0-91b07c5ef649",
   "metadata": {},
   "outputs": [],
   "source": [
    "# write a function can take any number of values and returns the list"
   ]
  },
  {
   "cell_type": "code",
   "execution_count": 29,
   "id": "1948ce73-bdac-49c4-81fd-b03bc00984b3",
   "metadata": {},
   "outputs": [],
   "source": [
    "def return_list(*args):\n",
    "    l = []\n",
    "    for i in args:\n",
    "        if type(i) == list:\n",
    "            l.append(i)\n",
    "    return l"
   ]
  },
  {
   "cell_type": "code",
   "execution_count": 32,
   "id": "db0c7e7e-1591-4721-9b83-08cac683b9d6",
   "metadata": {},
   "outputs": [
    {
     "data": {
      "text/plain": [
       "[[1, 2, 3], [3, 4, 5, [6, 7, 8, 3, 4]]]"
      ]
     },
     "execution_count": 32,
     "metadata": {},
     "output_type": "execute_result"
    }
   ],
   "source": [
    "return_list(1,2,2.3,4+7j,{2,3},[1,2,3],(3,4),[3,4,5,[6,7,8,3,4]],True,\"ajay\")"
   ]
  },
  {
   "cell_type": "code",
   "execution_count": null,
   "id": "13d3a64c-18c8-4860-97d0-be04d96be095",
   "metadata": {},
   "outputs": [],
   "source": [
    "def team(name,project):\n",
    "    return f\"{name} is working on {project}.\""
   ]
  },
  {
   "cell_type": "code",
   "execution_count": 34,
   "id": "7e5e2781-a2ad-4f99-8cf5-1afecec4e8c8",
   "metadata": {},
   "outputs": [],
   "source": [
    "# variable length argument and keyword argument together\n",
    "\n",
    "def test1(*args, **args1):\n",
    "    return args,args1"
   ]
  },
  {
   "cell_type": "code",
   "execution_count": 35,
   "id": "1b2e835d-e0ef-48d3-bda7-46130cb290f3",
   "metadata": {},
   "outputs": [
    {
     "data": {
      "text/plain": [
       "((1, 2, 3, 4), {'a': 100, 'b': 40})"
      ]
     },
     "execution_count": 35,
     "metadata": {},
     "output_type": "execute_result"
    }
   ],
   "source": [
    "test1(1,2,3,4,a=100,b=40)"
   ]
  },
  {
   "cell_type": "code",
   "execution_count": 36,
   "id": "07a5517b-fb5b-41aa-9c5a-fd30be71e633",
   "metadata": {},
   "outputs": [
    {
     "data": {
      "text/plain": [
       "((), {})"
      ]
     },
     "execution_count": 36,
     "metadata": {},
     "output_type": "execute_result"
    }
   ],
   "source": [
    "test1()"
   ]
  },
  {
   "cell_type": "code",
   "execution_count": 37,
   "id": "9314e2d3-b84d-4110-94ee-5356abdcd25a",
   "metadata": {},
   "outputs": [],
   "source": [
    "def test1(*ajay,**bjay):\n",
    "    return ajay,bjay"
   ]
  },
  {
   "cell_type": "code",
   "execution_count": 38,
   "id": "45294120-5769-41b6-8d21-5950b4789fd0",
   "metadata": {},
   "outputs": [
    {
     "data": {
      "text/plain": [
       "((1, 2, 3, 4), {'a': 100, 'b': 40})"
      ]
     },
     "execution_count": 38,
     "metadata": {},
     "output_type": "execute_result"
    }
   ],
   "source": [
    "test1(1,2,3,4,a=100,b=40)"
   ]
  },
  {
   "cell_type": "code",
   "execution_count": 39,
   "id": "a6bd6754-e2cb-417a-a0d9-f9a81ab8aeb5",
   "metadata": {},
   "outputs": [],
   "source": [
    "# python namespace\n",
    "\n",
    "def greet():\n",
    "    message = \"hello,welcome\" # message variable is a local variable(scope is only inside the function)\n",
    "    print(message)"
   ]
  },
  {
   "cell_type": "code",
   "execution_count": 40,
   "id": "8f9cda6f-7ea6-4bdc-9e9a-91cdb82ea1ea",
   "metadata": {},
   "outputs": [
    {
     "name": "stdout",
     "output_type": "stream",
     "text": [
      "hello,welcome\n"
     ]
    }
   ],
   "source": [
    "greet()"
   ]
  },
  {
   "cell_type": "code",
   "execution_count": 41,
   "id": "c64a7e85-0233-418a-b795-b3cdea52aa09",
   "metadata": {},
   "outputs": [
    {
     "ename": "NameError",
     "evalue": "name 'message' is not defined",
     "output_type": "error",
     "traceback": [
      "\u001b[0;31m---------------------------------------------------------------------------\u001b[0m",
      "\u001b[0;31mNameError\u001b[0m                                 Traceback (most recent call last)",
      "Cell \u001b[0;32mIn[41], line 1\u001b[0m\n\u001b[0;32m----> 1\u001b[0m \u001b[38;5;28mprint\u001b[39m(\u001b[43mmessage\u001b[49m)\n",
      "\u001b[0;31mNameError\u001b[0m: name 'message' is not defined"
     ]
    }
   ],
   "source": [
    "print(message)"
   ]
  },
  {
   "cell_type": "code",
   "execution_count": 42,
   "id": "396356cb-09be-4a46-95c9-eb8ccf396b96",
   "metadata": {},
   "outputs": [],
   "source": [
    "subpart = \"to the course\"  # global variable >> can be accessed outside the function as well \n",
    "def greet():\n",
    "    message = \"hello, welcome\" + subpart\n",
    "    print(message)"
   ]
  },
  {
   "cell_type": "code",
   "execution_count": 43,
   "id": "2ba1e041-84ac-4dae-8eb6-d95cf7401e8e",
   "metadata": {},
   "outputs": [
    {
     "name": "stdout",
     "output_type": "stream",
     "text": [
      "hello, welcometo the course\n"
     ]
    }
   ],
   "source": [
    "greet()"
   ]
  },
  {
   "cell_type": "code",
   "execution_count": null,
   "id": "38d1078e-52ea-4ef7-b68f-83aaaa98e4a9",
   "metadata": {},
   "outputs": [],
   "source": [
    "# namespace >> scope of variables\n",
    "# loacal variable >> a function defined inside a function should be accessed in the function only\n",
    "# global variable >> accessed any where"
   ]
  },
  {
   "cell_type": "code",
   "execution_count": 51,
   "id": "5ccd2969-b898-4942-b7cd-aeb1ed9a04e7",
   "metadata": {},
   "outputs": [],
   "source": [
    "# function inside function\n",
    "\n",
    "def marks_in_subject(**kwargs):\n",
    "    def total_marks(marks_list):\n",
    "        return sum(marks_list)\n",
    "    marks_list = []\n",
    "    for sub,marks in kwargs.items():\n",
    "        marks_list.append(marks)\n",
    "    return marks_list"
   ]
  },
  {
   "cell_type": "code",
   "execution_count": 49,
   "id": "87ed9369-b840-48c9-a88d-a072da3ab01f",
   "metadata": {},
   "outputs": [
    {
     "data": {
      "text/plain": [
       "[90, 20]"
      ]
     },
     "execution_count": 49,
     "metadata": {},
     "output_type": "execute_result"
    }
   ],
   "source": [
    "marks_in_subject(a=90,b=20)"
   ]
  },
  {
   "cell_type": "code",
   "execution_count": 48,
   "id": "c08f92a4-444e-4fde-a9f0-ff90250f9669",
   "metadata": {},
   "outputs": [
    {
     "data": {
      "text/plain": [
       "22"
      ]
     },
     "execution_count": 48,
     "metadata": {},
     "output_type": "execute_result"
    }
   ],
   "source": [
    "sum(10,12)"
   ]
  },
  {
   "cell_type": "code",
   "execution_count": 52,
   "id": "2715cd59-cb0d-4ca5-8d1c-8f7a99cbb155",
   "metadata": {},
   "outputs": [
    {
     "data": {
      "text/plain": [
       "[90, 20]"
      ]
     },
     "execution_count": 52,
     "metadata": {},
     "output_type": "execute_result"
    }
   ],
   "source": [
    "marks_in_subject(a=90,b=20)"
   ]
  },
  {
   "cell_type": "code",
   "execution_count": 60,
   "id": "1634edbb-d992-4593-8202-a7eada5dc8af",
   "metadata": {},
   "outputs": [],
   "source": [
    "def marks_in_subject(**kwargs):\n",
    "    def total_marks(marks_list):\n",
    "        return sum(marks_list)\n",
    "    marks_list = []\n",
    "    for sub,marks in kwargs.items():\n",
    "        marks_list.append(marks)\n",
    "        \n",
    "    return total_marks(marks_list)"
   ]
  },
  {
   "cell_type": "code",
   "execution_count": 62,
   "id": "49031ae2-9c28-4b20-80d4-68264597ad98",
   "metadata": {},
   "outputs": [
    {
     "ename": "TypeError",
     "evalue": "sum() missing 1 required positional argument: 'b'",
     "output_type": "error",
     "traceback": [
      "\u001b[0;31m---------------------------------------------------------------------------\u001b[0m",
      "\u001b[0;31mTypeError\u001b[0m                                 Traceback (most recent call last)",
      "Cell \u001b[0;32mIn[62], line 1\u001b[0m\n\u001b[0;32m----> 1\u001b[0m \u001b[43mmarks_in_subject\u001b[49m\u001b[43m(\u001b[49m\u001b[43ma\u001b[49m\u001b[38;5;241;43m=\u001b[39;49m\u001b[38;5;241;43m90\u001b[39;49m\u001b[43m,\u001b[49m\u001b[43mb\u001b[49m\u001b[38;5;241;43m=\u001b[39;49m\u001b[38;5;241;43m20\u001b[39;49m\u001b[43m,\u001b[49m\u001b[43mc\u001b[49m\u001b[38;5;241;43m=\u001b[39;49m\u001b[38;5;241;43m12\u001b[39;49m\u001b[43m)\u001b[49m\n",
      "Cell \u001b[0;32mIn[60], line 8\u001b[0m, in \u001b[0;36mmarks_in_subject\u001b[0;34m(**kwargs)\u001b[0m\n\u001b[1;32m      5\u001b[0m \u001b[38;5;28;01mfor\u001b[39;00m sub,marks \u001b[38;5;129;01min\u001b[39;00m kwargs\u001b[38;5;241m.\u001b[39mitems():\n\u001b[1;32m      6\u001b[0m     marks_list\u001b[38;5;241m.\u001b[39mappend(marks)\n\u001b[0;32m----> 8\u001b[0m \u001b[38;5;28;01mreturn\u001b[39;00m \u001b[43mtotal_marks\u001b[49m\u001b[43m(\u001b[49m\u001b[43mmarks_list\u001b[49m\u001b[43m)\u001b[49m\n",
      "Cell \u001b[0;32mIn[60], line 3\u001b[0m, in \u001b[0;36mmarks_in_subject.<locals>.total_marks\u001b[0;34m(marks_list)\u001b[0m\n\u001b[1;32m      2\u001b[0m \u001b[38;5;28;01mdef\u001b[39;00m \u001b[38;5;21mtotal_marks\u001b[39m(marks_list):\n\u001b[0;32m----> 3\u001b[0m     \u001b[38;5;28;01mreturn\u001b[39;00m \u001b[38;5;28;43msum\u001b[39;49m\u001b[43m(\u001b[49m\u001b[43mmarks_list\u001b[49m\u001b[43m)\u001b[49m\n",
      "\u001b[0;31mTypeError\u001b[0m: sum() missing 1 required positional argument: 'b'"
     ]
    }
   ],
   "source": [
    "marks_in_subject(a=90,b=20,c=12)"
   ]
  },
  {
   "cell_type": "code",
   "execution_count": 63,
   "id": "67495e46-37c3-4af4-83c5-d71d96f7a134",
   "metadata": {},
   "outputs": [],
   "source": [
    "# calling function from outside\n",
    "\n",
    "def total_marks(marks_list):\n",
    "    return sum(marks_list)\n",
    "def marks_in_subject(**kwargs):\n",
    "   \n",
    "    marks_list = []\n",
    "    for sub,marks in kwargs.items():\n",
    "        marks_list.append(marks)\n",
    "        \n",
    "    return total_marks(marks_list)\n"
   ]
  },
  {
   "cell_type": "code",
   "execution_count": 64,
   "id": "74b5c747-ba14-4359-b4d0-57846c0314c3",
   "metadata": {},
   "outputs": [
    {
     "ename": "TypeError",
     "evalue": "sum() missing 1 required positional argument: 'b'",
     "output_type": "error",
     "traceback": [
      "\u001b[0;31m---------------------------------------------------------------------------\u001b[0m",
      "\u001b[0;31mTypeError\u001b[0m                                 Traceback (most recent call last)",
      "Cell \u001b[0;32mIn[64], line 1\u001b[0m\n\u001b[0;32m----> 1\u001b[0m \u001b[43mmarks_in_subject\u001b[49m\u001b[43m(\u001b[49m\u001b[43ma\u001b[49m\u001b[38;5;241;43m=\u001b[39;49m\u001b[38;5;241;43m90\u001b[39;49m\u001b[43m,\u001b[49m\u001b[43mb\u001b[49m\u001b[38;5;241;43m=\u001b[39;49m\u001b[38;5;241;43m20\u001b[39;49m\u001b[43m,\u001b[49m\u001b[43mc\u001b[49m\u001b[38;5;241;43m=\u001b[39;49m\u001b[38;5;241;43m12\u001b[39;49m\u001b[43m)\u001b[49m\n",
      "Cell \u001b[0;32mIn[63], line 11\u001b[0m, in \u001b[0;36mmarks_in_subject\u001b[0;34m(**kwargs)\u001b[0m\n\u001b[1;32m      8\u001b[0m \u001b[38;5;28;01mfor\u001b[39;00m sub,marks \u001b[38;5;129;01min\u001b[39;00m kwargs\u001b[38;5;241m.\u001b[39mitems():\n\u001b[1;32m      9\u001b[0m     marks_list\u001b[38;5;241m.\u001b[39mappend(marks)\n\u001b[0;32m---> 11\u001b[0m \u001b[38;5;28;01mreturn\u001b[39;00m \u001b[43mtotal_marks\u001b[49m\u001b[43m(\u001b[49m\u001b[43mmarks_list\u001b[49m\u001b[43m)\u001b[49m\n",
      "Cell \u001b[0;32mIn[63], line 4\u001b[0m, in \u001b[0;36mtotal_marks\u001b[0;34m(marks_list)\u001b[0m\n\u001b[1;32m      3\u001b[0m \u001b[38;5;28;01mdef\u001b[39;00m \u001b[38;5;21mtotal_marks\u001b[39m(marks_list):\n\u001b[0;32m----> 4\u001b[0m     \u001b[38;5;28;01mreturn\u001b[39;00m \u001b[38;5;28;43msum\u001b[39;49m\u001b[43m(\u001b[49m\u001b[43mmarks_list\u001b[49m\u001b[43m)\u001b[49m\n",
      "\u001b[0;31mTypeError\u001b[0m: sum() missing 1 required positional argument: 'b'"
     ]
    }
   ],
   "source": [
    "marks_in_subject(a=90,b=20,c=12)  # revision"
   ]
  },
  {
   "cell_type": "code",
   "execution_count": 67,
   "id": "1689b6e0-53a0-424e-8469-9b8648942589",
   "metadata": {},
   "outputs": [],
   "source": [
    "def find_power(num,power):\n",
    "    return num*power"
   ]
  },
  {
   "cell_type": "code",
   "execution_count": 68,
   "id": "08064d71-9407-4e46-8dea-b0626c987772",
   "metadata": {},
   "outputs": [
    {
     "data": {
      "text/plain": [
       "150"
      ]
     },
     "execution_count": 68,
     "metadata": {},
     "output_type": "execute_result"
    }
   ],
   "source": [
    "find_power(3,50)"
   ]
  },
  {
   "cell_type": "code",
   "execution_count": 70,
   "id": "174baafa-e8b0-4d10-b5d8-d0708799b519",
   "metadata": {},
   "outputs": [],
   "source": [
    "def find_power(num,power):\n",
    "    \"\"\" This function returns the power of number\n",
    "    Args:\n",
    "        num(int):provide any integer as input\n",
    "        power(int):provide power as integer\n",
    "    Returns:\n",
    "        integer:power of number\n",
    "    \"\"\"\n",
    "    return num*power"
   ]
  },
  {
   "cell_type": "code",
   "execution_count": 71,
   "id": "e0acb3f7-05c4-41b2-a785-0a71709195f5",
   "metadata": {},
   "outputs": [
    {
     "name": "stdout",
     "output_type": "stream",
     "text": [
      "Help on function find_power in module __main__:\n",
      "\n",
      "find_power(num, power)\n",
      "    This function returns the power of number\n",
      "    Args:\n",
      "        num(int):provide any integer as input\n",
      "        power(int):provide power as integer\n",
      "    Returns:\n",
      "        integer:power of number\n",
      "\n"
     ]
    }
   ],
   "source": [
    "help(find_power)"
   ]
  },
  {
   "cell_type": "code",
   "execution_count": 73,
   "id": "57ba596b-e1e2-4255-8705-4424b8f2ddb1",
   "metadata": {},
   "outputs": [
    {
     "name": "stdout",
     "output_type": "stream",
     "text": [
      " This function returns the power of number\n",
      "    Args:\n",
      "        num(int):provide any integer as input\n",
      "        power(int):provide power as integer\n",
      "    Returns:\n",
      "        integer:power of number\n",
      "    \n"
     ]
    }
   ],
   "source": [
    "print(find_power.__doc__)"
   ]
  },
  {
   "cell_type": "code",
   "execution_count": null,
   "id": "a6484ce1-6f29-4f34-80b0-fa6adf3069b5",
   "metadata": {},
   "outputs": [],
   "source": []
  },
  {
   "cell_type": "code",
   "execution_count": null,
   "id": "24794fee-acc4-439b-b029-64cb3262bbdf",
   "metadata": {},
   "outputs": [],
   "source": []
  },
  {
   "cell_type": "code",
   "execution_count": null,
   "id": "479961aa-7862-4edb-9fe4-9b9b9b45f7fd",
   "metadata": {},
   "outputs": [],
   "source": []
  },
  {
   "cell_type": "code",
   "execution_count": null,
   "id": "dacdb1a8-3b2f-45be-b574-0ca49cf0a3f5",
   "metadata": {},
   "outputs": [],
   "source": []
  },
  {
   "cell_type": "code",
   "execution_count": null,
   "id": "6857b6ea-efd6-4c9a-974f-cffb83a776aa",
   "metadata": {},
   "outputs": [],
   "source": []
  },
  {
   "cell_type": "code",
   "execution_count": null,
   "id": "51c7f47a-db66-4c7b-a092-f3e236de1842",
   "metadata": {},
   "outputs": [],
   "source": []
  },
  {
   "cell_type": "code",
   "execution_count": null,
   "id": "02ae6854-b4d6-46fe-8f36-8f63051e4455",
   "metadata": {},
   "outputs": [],
   "source": []
  },
  {
   "cell_type": "code",
   "execution_count": null,
   "id": "912f23c7-2a99-45f6-8fe1-b428a996fd54",
   "metadata": {},
   "outputs": [],
   "source": []
  },
  {
   "cell_type": "code",
   "execution_count": null,
   "id": "df628643-e4d2-4390-b363-9d0eafb1e511",
   "metadata": {},
   "outputs": [],
   "source": []
  },
  {
   "cell_type": "code",
   "execution_count": null,
   "id": "9eeb17a4-97c8-4138-996c-e42406cab9f4",
   "metadata": {},
   "outputs": [],
   "source": []
  },
  {
   "cell_type": "code",
   "execution_count": null,
   "id": "ebfb775a-c7a0-483b-9258-191fa3382d18",
   "metadata": {},
   "outputs": [],
   "source": []
  },
  {
   "cell_type": "code",
   "execution_count": null,
   "id": "7926f26e-45a5-43e1-ac23-d859db22ad7a",
   "metadata": {},
   "outputs": [],
   "source": []
  },
  {
   "cell_type": "code",
   "execution_count": null,
   "id": "4867a1ed-21cc-41c7-a704-bfb835130b2b",
   "metadata": {},
   "outputs": [],
   "source": []
  },
  {
   "cell_type": "code",
   "execution_count": null,
   "id": "baa26eb6-826e-44d4-b3f4-e0a34f4945cc",
   "metadata": {},
   "outputs": [],
   "source": []
  },
  {
   "cell_type": "code",
   "execution_count": null,
   "id": "e8ccb461-0d37-47aa-bf51-4d9c84c26323",
   "metadata": {},
   "outputs": [],
   "source": []
  },
  {
   "cell_type": "code",
   "execution_count": null,
   "id": "e5c370f5-7d29-4a35-9202-a98982166378",
   "metadata": {},
   "outputs": [],
   "source": []
  },
  {
   "cell_type": "code",
   "execution_count": null,
   "id": "bbc0d796-6443-4f90-92b0-7d1f30928bb0",
   "metadata": {},
   "outputs": [],
   "source": []
  },
  {
   "cell_type": "code",
   "execution_count": null,
   "id": "567f5e71-c0d2-42ff-9693-4332bea648d0",
   "metadata": {},
   "outputs": [],
   "source": []
  },
  {
   "cell_type": "code",
   "execution_count": null,
   "id": "b32bdf7f-b845-4b1f-9338-4ddd727585b7",
   "metadata": {},
   "outputs": [],
   "source": []
  },
  {
   "cell_type": "code",
   "execution_count": null,
   "id": "eff5426c-0f7e-437d-bda1-5c617d696acd",
   "metadata": {},
   "outputs": [],
   "source": []
  },
  {
   "cell_type": "code",
   "execution_count": null,
   "id": "6a988fec-9df4-4bf6-8695-095308461927",
   "metadata": {},
   "outputs": [],
   "source": []
  },
  {
   "cell_type": "code",
   "execution_count": null,
   "id": "16cae890-e67e-41a2-ae22-0fbdcada79ea",
   "metadata": {},
   "outputs": [],
   "source": []
  },
  {
   "cell_type": "code",
   "execution_count": null,
   "id": "974e5107-1beb-4737-a578-8ed3b6c36f63",
   "metadata": {},
   "outputs": [],
   "source": []
  },
  {
   "cell_type": "code",
   "execution_count": null,
   "id": "436b96c4-0ece-40fe-866d-88af867970a3",
   "metadata": {},
   "outputs": [],
   "source": []
  },
  {
   "cell_type": "code",
   "execution_count": null,
   "id": "246decdd-db8d-486a-b533-ad3ff333c04f",
   "metadata": {},
   "outputs": [],
   "source": []
  },
  {
   "cell_type": "code",
   "execution_count": null,
   "id": "b2097bc4-3604-4855-8643-1ca196dd2224",
   "metadata": {},
   "outputs": [],
   "source": []
  },
  {
   "cell_type": "code",
   "execution_count": null,
   "id": "fee8f4e2-35cd-4fc7-a6a1-cb90158eaa5b",
   "metadata": {},
   "outputs": [],
   "source": []
  },
  {
   "cell_type": "code",
   "execution_count": null,
   "id": "1a6c9e61-f39c-4a21-a312-751d34445163",
   "metadata": {},
   "outputs": [],
   "source": []
  },
  {
   "cell_type": "code",
   "execution_count": null,
   "id": "ae7d91cb-861c-4b23-bd1c-56c11cb8a4c3",
   "metadata": {},
   "outputs": [],
   "source": []
  },
  {
   "cell_type": "code",
   "execution_count": null,
   "id": "d1f53988-9366-4c07-9b12-910efe998380",
   "metadata": {},
   "outputs": [],
   "source": []
  },
  {
   "cell_type": "code",
   "execution_count": null,
   "id": "0085e732-791f-49bb-8ac8-c54bb9c39f25",
   "metadata": {},
   "outputs": [],
   "source": []
  },
  {
   "cell_type": "code",
   "execution_count": null,
   "id": "8ce85978-6e46-4ebe-9d95-43bff9a7ce4c",
   "metadata": {},
   "outputs": [],
   "source": []
  },
  {
   "cell_type": "code",
   "execution_count": null,
   "id": "608b1c81-8703-4bb9-b98e-d843a0e86b9d",
   "metadata": {},
   "outputs": [],
   "source": []
  },
  {
   "cell_type": "code",
   "execution_count": null,
   "id": "23c6b375-06d2-4a96-b30e-ae007bae9c4b",
   "metadata": {},
   "outputs": [],
   "source": []
  },
  {
   "cell_type": "code",
   "execution_count": null,
   "id": "64997f9f-5a85-44c3-b5c3-9645f71a20c2",
   "metadata": {},
   "outputs": [],
   "source": []
  },
  {
   "cell_type": "code",
   "execution_count": null,
   "id": "7d1f0947-94ba-41c8-a63b-7a69f609bfab",
   "metadata": {},
   "outputs": [],
   "source": []
  },
  {
   "cell_type": "code",
   "execution_count": null,
   "id": "557eb72a-93ad-43ad-b549-2ce4e57c5708",
   "metadata": {},
   "outputs": [],
   "source": []
  },
  {
   "cell_type": "code",
   "execution_count": null,
   "id": "873dc037-c605-40be-8245-728ad210e164",
   "metadata": {},
   "outputs": [],
   "source": []
  },
  {
   "cell_type": "code",
   "execution_count": null,
   "id": "bed66d40-0cc9-42c8-9156-eb0dc539e094",
   "metadata": {},
   "outputs": [],
   "source": []
  },
  {
   "cell_type": "code",
   "execution_count": null,
   "id": "b6b9eb7a-a475-4a41-a538-02fce7b6e374",
   "metadata": {},
   "outputs": [],
   "source": []
  },
  {
   "cell_type": "code",
   "execution_count": null,
   "id": "08b6fa4b-d67d-4e48-8966-253b0fceb611",
   "metadata": {},
   "outputs": [],
   "source": []
  },
  {
   "cell_type": "code",
   "execution_count": null,
   "id": "d58e1704-7115-4db2-8a73-837348eacc22",
   "metadata": {},
   "outputs": [],
   "source": []
  },
  {
   "cell_type": "code",
   "execution_count": null,
   "id": "f85a2a3f-3093-4180-9455-054d18ae6d68",
   "metadata": {},
   "outputs": [],
   "source": []
  },
  {
   "cell_type": "code",
   "execution_count": null,
   "id": "9b444fb8-dc18-4d56-a5bb-cfbbfa107c11",
   "metadata": {},
   "outputs": [],
   "source": []
  },
  {
   "cell_type": "code",
   "execution_count": null,
   "id": "cde51b2e-9aaa-463c-872a-aff6b947bf59",
   "metadata": {},
   "outputs": [],
   "source": []
  },
  {
   "cell_type": "code",
   "execution_count": null,
   "id": "10a1db98-fce6-405b-acd9-b3b163e67443",
   "metadata": {},
   "outputs": [],
   "source": []
  },
  {
   "cell_type": "code",
   "execution_count": null,
   "id": "9268a2e3-611e-4811-8cf7-ada981c4a1cd",
   "metadata": {},
   "outputs": [],
   "source": []
  },
  {
   "cell_type": "code",
   "execution_count": null,
   "id": "7a83cf32-2ecb-4a35-ae8f-2fcbd56dc9b9",
   "metadata": {},
   "outputs": [],
   "source": []
  },
  {
   "cell_type": "code",
   "execution_count": null,
   "id": "a85b22ca-70ba-461f-8633-67a615cb8911",
   "metadata": {},
   "outputs": [],
   "source": []
  },
  {
   "cell_type": "code",
   "execution_count": null,
   "id": "a3c415d8-bef6-4e10-91f4-c716c1b6c1d0",
   "metadata": {},
   "outputs": [],
   "source": []
  },
  {
   "cell_type": "code",
   "execution_count": null,
   "id": "190480d8-bb01-47a6-a2a1-fa4ca1ec6d03",
   "metadata": {},
   "outputs": [],
   "source": []
  },
  {
   "cell_type": "code",
   "execution_count": null,
   "id": "9b931809-8c2a-458c-80d5-279cf1c19959",
   "metadata": {},
   "outputs": [],
   "source": []
  },
  {
   "cell_type": "code",
   "execution_count": null,
   "id": "769ed6f4-9612-4e97-a518-d36a71d37a4d",
   "metadata": {},
   "outputs": [],
   "source": []
  },
  {
   "cell_type": "code",
   "execution_count": null,
   "id": "757b2071-ca90-432b-92bc-2d47818631a6",
   "metadata": {},
   "outputs": [],
   "source": []
  },
  {
   "cell_type": "code",
   "execution_count": null,
   "id": "37316fa3-11ec-43c7-a073-a0db03fbd912",
   "metadata": {},
   "outputs": [],
   "source": []
  },
  {
   "cell_type": "code",
   "execution_count": null,
   "id": "6ecb0ff0-c159-4b50-8ad5-e1a419ae1157",
   "metadata": {},
   "outputs": [],
   "source": []
  },
  {
   "cell_type": "code",
   "execution_count": null,
   "id": "483f51fc-c886-4bd2-9745-4e0d36eb249f",
   "metadata": {},
   "outputs": [],
   "source": []
  },
  {
   "cell_type": "code",
   "execution_count": null,
   "id": "5a6b3499-1663-4c9d-8a5c-121718a2f3b8",
   "metadata": {},
   "outputs": [],
   "source": []
  },
  {
   "cell_type": "code",
   "execution_count": null,
   "id": "4906bd75-0237-40ce-8384-8635a3f1da00",
   "metadata": {},
   "outputs": [],
   "source": []
  },
  {
   "cell_type": "code",
   "execution_count": null,
   "id": "37692d92-b035-40eb-a31c-87fd0f74785c",
   "metadata": {},
   "outputs": [],
   "source": []
  },
  {
   "cell_type": "code",
   "execution_count": null,
   "id": "cde4255e-88e8-41cf-bc0a-c9c1abb327f0",
   "metadata": {},
   "outputs": [],
   "source": []
  },
  {
   "cell_type": "code",
   "execution_count": null,
   "id": "6d42234a-4d32-4b45-bfa2-1530518a1613",
   "metadata": {},
   "outputs": [],
   "source": []
  },
  {
   "cell_type": "code",
   "execution_count": null,
   "id": "10cd876d-1058-4ca0-9f86-7050d03f89b7",
   "metadata": {},
   "outputs": [],
   "source": []
  },
  {
   "cell_type": "code",
   "execution_count": null,
   "id": "12acd7eb-005f-444e-a9b7-b4f9a13ee96e",
   "metadata": {},
   "outputs": [],
   "source": []
  },
  {
   "cell_type": "code",
   "execution_count": null,
   "id": "b0be72bc-9438-43b5-876c-8dd329c6d8d9",
   "metadata": {},
   "outputs": [],
   "source": []
  }
 ],
 "metadata": {
  "kernelspec": {
   "display_name": "Python 3 (ipykernel)",
   "language": "python",
   "name": "python3"
  },
  "language_info": {
   "codemirror_mode": {
    "name": "ipython",
    "version": 3
   },
   "file_extension": ".py",
   "mimetype": "text/x-python",
   "name": "python",
   "nbconvert_exporter": "python",
   "pygments_lexer": "ipython3",
   "version": "3.10.8"
  }
 },
 "nbformat": 4,
 "nbformat_minor": 5
}
