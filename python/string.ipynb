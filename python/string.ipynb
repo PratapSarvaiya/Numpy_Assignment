{
 "cells": [
  {
   "cell_type": "code",
   "execution_count": null,
   "id": "466c32c3-7e55-4293-843d-403e2a4db615",
   "metadata": {},
   "outputs": [],
   "source": [
    "# String is a sequence of character >> represent and manipulate textual data\n",
    "# Characters are represent using numerical values >> each character is assigned a unique\n",
    "#ASCII(7 bits)  and UNICODE (16 bits) >>2 to power 8>> 128 character has been encoded whereas utf is 2 to power 16, almost covered every character of every language\n",
    "#UTF-8, UTF-16 >> popular encoding schemes for unicode >> widely accepeted in industry\n",
    "#ASCII >>> American standard code for Information Interchange \n",
    "#UTF (unicode transformation format)"
   ]
  },
  {
   "cell_type": "code",
   "execution_count": 1,
   "id": "64d92d0b-43ec-4d18-ac6a-2fe95d20a9c1",
   "metadata": {},
   "outputs": [
    {
     "data": {
      "text/plain": [
       "65"
      ]
     },
     "execution_count": 1,
     "metadata": {},
     "output_type": "execute_result"
    }
   ],
   "source": [
    "# ASCII represntation\n",
    "char = \"A\"\n",
    "ord(char)  # ord >> ordinal, means what is numerical order of character"
   ]
  },
  {
   "cell_type": "code",
   "execution_count": 2,
   "id": "1e048d87-e813-4697-a4dc-fe58556d50dc",
   "metadata": {},
   "outputs": [
    {
     "data": {
      "text/plain": [
       "'A'"
      ]
     },
     "execution_count": 2,
     "metadata": {},
     "output_type": "execute_result"
    }
   ],
   "source": [
    "chr(65)  # Character >>give the character corresponding to that number"
   ]
  },
  {
   "cell_type": "code",
   "execution_count": 3,
   "id": "7d4a7ba6-d9a6-4c34-9328-1523ebc04dff",
   "metadata": {},
   "outputs": [
    {
     "data": {
      "text/plain": [
       "'a'"
      ]
     },
     "execution_count": 3,
     "metadata": {},
     "output_type": "execute_result"
    }
   ],
   "source": [
    "chr(97)"
   ]
  },
  {
   "cell_type": "code",
   "execution_count": 4,
   "id": "92139405-911a-4de5-8f1e-05659911cc9b",
   "metadata": {},
   "outputs": [
    {
     "data": {
      "text/plain": [
       "66"
      ]
     },
     "execution_count": 4,
     "metadata": {},
     "output_type": "execute_result"
    }
   ],
   "source": [
    "ord(\"B\")"
   ]
  },
  {
   "cell_type": "code",
   "execution_count": null,
   "id": "a9be986d-1435-4a09-9f24-4c3f27b09883",
   "metadata": {},
   "outputs": [],
   "source": [
    "# UNICODE representation\n",
    "#Omega"
   ]
  },
  {
   "cell_type": "code",
   "execution_count": 5,
   "id": "8970c1d0-fa4e-4d17-81db-45f263fcffd4",
   "metadata": {},
   "outputs": [
    {
     "data": {
      "text/plain": [
       "'Ω'"
      ]
     },
     "execution_count": 5,
     "metadata": {},
     "output_type": "execute_result"
    }
   ],
   "source": [
    "'\\u03A9'"
   ]
  },
  {
   "cell_type": "code",
   "execution_count": 6,
   "id": "d6e5d60b-ae61-4dc3-832c-cd33019f254d",
   "metadata": {},
   "outputs": [
    {
     "data": {
      "text/plain": [
       "'Σ'"
      ]
     },
     "execution_count": 6,
     "metadata": {},
     "output_type": "execute_result"
    }
   ],
   "source": [
    "'\\u03A3'"
   ]
  },
  {
   "cell_type": "code",
   "execution_count": 7,
   "id": "03fe4ed9-c867-48dc-ba83-de6524bf9442",
   "metadata": {},
   "outputs": [
    {
     "data": {
      "text/plain": [
       "'ॳ'"
      ]
     },
     "execution_count": 7,
     "metadata": {},
     "output_type": "execute_result"
    }
   ],
   "source": [
    "'\\u0973'"
   ]
  },
  {
   "cell_type": "code",
   "execution_count": 8,
   "id": "b2815d36-3451-4aab-8e09-e2240760fa7c",
   "metadata": {},
   "outputs": [
    {
     "data": {
      "text/plain": [
       "'ॴ'"
      ]
     },
     "execution_count": 8,
     "metadata": {},
     "output_type": "execute_result"
    }
   ],
   "source": [
    "'\\u0974'"
   ]
  },
  {
   "cell_type": "code",
   "execution_count": 9,
   "id": "53ae8d34-4d6e-4047-b933-8608880d9b75",
   "metadata": {},
   "outputs": [
    {
     "data": {
      "text/plain": [
       "'ॵ'"
      ]
     },
     "execution_count": 9,
     "metadata": {},
     "output_type": "execute_result"
    }
   ],
   "source": [
    "'\\u0975'"
   ]
  },
  {
   "cell_type": "code",
   "execution_count": 10,
   "id": "f6eb39aa-d498-4a4e-b1f3-8f4ddfd2863f",
   "metadata": {},
   "outputs": [
    {
     "data": {
      "text/plain": [
       "'Τ'"
      ]
     },
     "execution_count": 10,
     "metadata": {},
     "output_type": "execute_result"
    }
   ],
   "source": [
    "'\\u03A4'"
   ]
  },
  {
   "cell_type": "code",
   "execution_count": 11,
   "id": "9d620c8f-9f78-42d5-917c-ec01be82ee69",
   "metadata": {},
   "outputs": [],
   "source": [
    "#strings\n",
    "string1=\"pwskills\""
   ]
  },
  {
   "cell_type": "code",
   "execution_count": null,
   "id": "16e63569-2be1-44c9-bc14-d35dc543e20b",
   "metadata": {},
   "outputs": [],
   "source": [
    "string1='pwskill'"
   ]
  },
  {
   "cell_type": "code",
   "execution_count": 12,
   "id": "e72113f9-3392-481e-bbf3-52c035b0869c",
   "metadata": {},
   "outputs": [
    {
     "data": {
      "text/plain": [
       "str"
      ]
     },
     "execution_count": 12,
     "metadata": {},
     "output_type": "execute_result"
    }
   ],
   "source": [
    "type(string1)"
   ]
  },
  {
   "cell_type": "code",
   "execution_count": 13,
   "id": "9a31bb54-767e-454e-9d5e-6f8d0c333da2",
   "metadata": {},
   "outputs": [
    {
     "data": {
      "text/plain": [
       "'pwskill'"
      ]
     },
     "execution_count": 13,
     "metadata": {},
     "output_type": "execute_result"
    }
   ],
   "source": [
    "'pwskill'"
   ]
  },
  {
   "cell_type": "code",
   "execution_count": 17,
   "id": "1973a870-0c87-4ccc-8b33-a5e23654f04d",
   "metadata": {},
   "outputs": [
    {
     "ename": "SyntaxError",
     "evalue": "unterminated string literal (detected at line 1) (2178431395.py, line 1)",
     "output_type": "error",
     "traceback": [
      "\u001b[1;36m  Cell \u001b[1;32mIn[17], line 1\u001b[1;36m\u001b[0m\n\u001b[1;33m    'I'm a student'\u001b[0m\n\u001b[1;37m                  ^\u001b[0m\n\u001b[1;31mSyntaxError\u001b[0m\u001b[1;31m:\u001b[0m unterminated string literal (detected at line 1)\n"
     ]
    }
   ],
   "source": [
    "'I'm a student' # it will throw error"
   ]
  },
  {
   "cell_type": "code",
   "execution_count": 16,
   "id": "178db858-bc20-49e8-a9b4-04b009d28d3c",
   "metadata": {},
   "outputs": [
    {
     "data": {
      "text/plain": [
       "\"I'm a student\""
      ]
     },
     "execution_count": 16,
     "metadata": {},
     "output_type": "execute_result"
    }
   ],
   "source": [
    "\"I'm a student\""
   ]
  },
  {
   "cell_type": "code",
   "execution_count": 18,
   "id": "05b73ebe-6970-4e6f-be30-33af6b75ca39",
   "metadata": {},
   "outputs": [
    {
     "ename": "SyntaxError",
     "evalue": "unterminated string literal (detected at line 1) (200539951.py, line 1)",
     "output_type": "error",
     "traceback": [
      "\u001b[1;36m  Cell \u001b[1;32mIn[18], line 1\u001b[1;36m\u001b[0m\n\u001b[1;33m    \"I\" am student\"\u001b[0m\n\u001b[1;37m                  ^\u001b[0m\n\u001b[1;31mSyntaxError\u001b[0m\u001b[1;31m:\u001b[0m unterminated string literal (detected at line 1)\n"
     ]
    }
   ],
   "source": [
    "\"I\" am student\""
   ]
  },
  {
   "cell_type": "code",
   "execution_count": 19,
   "id": "365e6e72-eb44-49bf-bf09-aeee1ba330bd",
   "metadata": {},
   "outputs": [
    {
     "data": {
      "text/plain": [
       "'I\" am student'"
      ]
     },
     "execution_count": 19,
     "metadata": {},
     "output_type": "execute_result"
    }
   ],
   "source": [
    "\"\"\"I\" am student\"\"\""
   ]
  },
  {
   "cell_type": "code",
   "execution_count": 20,
   "id": "7e3c7aee-b58c-4819-9dec-af48c0e16547",
   "metadata": {},
   "outputs": [
    {
     "data": {
      "text/plain": [
       "'I\" a student'"
      ]
     },
     "execution_count": 20,
     "metadata": {},
     "output_type": "execute_result"
    }
   ],
   "source": [
    "'''I\" a student'''"
   ]
  },
  {
   "cell_type": "code",
   "execution_count": 21,
   "id": "87a98282-b92c-4367-ae62-96a3404b41ce",
   "metadata": {},
   "outputs": [
    {
     "data": {
      "text/plain": [
       "'I\" a student\\nI study in pwskill\\nI am data scientist'"
      ]
     },
     "execution_count": 21,
     "metadata": {},
     "output_type": "execute_result"
    }
   ],
   "source": [
    "'''I\" a student\n",
    "I study in pwskill\n",
    "I am data scientist'''"
   ]
  },
  {
   "cell_type": "code",
   "execution_count": null,
   "id": "1dd674e5-792c-4b16-9222-57a21b7ff196",
   "metadata": {},
   "outputs": [],
   "source": [
    "# concatenation of string >> combination of two string"
   ]
  },
  {
   "cell_type": "code",
   "execution_count": 22,
   "id": "9433d0d8-35c1-4dd3-ab5b-d3930b5a6154",
   "metadata": {},
   "outputs": [
    {
     "ename": "TypeError",
     "evalue": "unsupported operand type(s) for -: 'str' and 'str'",
     "output_type": "error",
     "traceback": [
      "\u001b[1;31m---------------------------------------------------------------------------\u001b[0m",
      "\u001b[1;31mTypeError\u001b[0m                                 Traceback (most recent call last)",
      "Cell \u001b[1;32mIn[22], line 1\u001b[0m\n\u001b[1;32m----> 1\u001b[0m \u001b[38;5;124;43m\"\u001b[39;49m\u001b[38;5;124;43mHello\u001b[39;49m\u001b[38;5;124;43m\"\u001b[39;49m\u001b[43m \u001b[49m\u001b[38;5;241;43m-\u001b[39;49m\u001b[38;5;124;43m\"\u001b[39;49m\u001b[38;5;124;43mWorld\u001b[39;49m\u001b[38;5;124;43m\"\u001b[39;49m\n",
      "\u001b[1;31mTypeError\u001b[0m: unsupported operand type(s) for -: 'str' and 'str'"
     ]
    }
   ],
   "source": [
    "\"Hello\" -\"World\""
   ]
  },
  {
   "cell_type": "code",
   "execution_count": 24,
   "id": "987b1bd1-27e5-4043-8b0a-32d58ece0de2",
   "metadata": {},
   "outputs": [
    {
     "data": {
      "text/plain": [
       "'Hello, world'"
      ]
     },
     "execution_count": 24,
     "metadata": {},
     "output_type": "execute_result"
    }
   ],
   "source": [
    "string1 = \"Hello\"\n",
    "string2 = \"world\"\n",
    "string1 +\", \"+string2"
   ]
  },
  {
   "cell_type": "code",
   "execution_count": 25,
   "id": "9e5210a0-aae0-4bfe-a788-2e48bc8ff480",
   "metadata": {},
   "outputs": [
    {
     "data": {
      "text/plain": [
       "'string>>concatenation'"
      ]
     },
     "execution_count": 25,
     "metadata": {},
     "output_type": "execute_result"
    }
   ],
   "source": [
    "\"string\"+\">>\"+\"concatenation\""
   ]
  },
  {
   "cell_type": "code",
   "execution_count": 26,
   "id": "88813360-21a4-4490-ae7c-f12cca21bda6",
   "metadata": {},
   "outputs": [
    {
     "data": {
      "text/plain": [
       "'string >> concatenation'"
      ]
     },
     "execution_count": 26,
     "metadata": {},
     "output_type": "execute_result"
    }
   ],
   "source": [
    "\"string\"+\" >> \"+\"concatenation\""
   ]
  },
  {
   "cell_type": "code",
   "execution_count": null,
   "id": "e3a91cdc-b006-49db-91c3-087804d7f7a3",
   "metadata": {},
   "outputs": [],
   "source": [
    "# Extract/slicing of string"
   ]
  },
  {
   "cell_type": "code",
   "execution_count": 28,
   "id": "4dca7a5b-5174-4f74-96a2-5e0540ecc99b",
   "metadata": {},
   "outputs": [],
   "source": [
    "a =\"pratap\""
   ]
  },
  {
   "cell_type": "code",
   "execution_count": 29,
   "id": "c96a269c-4d7c-400e-961f-8df1fd9d2686",
   "metadata": {},
   "outputs": [
    {
     "data": {
      "text/plain": [
       "'p'"
      ]
     },
     "execution_count": 29,
     "metadata": {},
     "output_type": "execute_result"
    }
   ],
   "source": [
    "a[0]"
   ]
  },
  {
   "cell_type": "code",
   "execution_count": 30,
   "id": "d33a13e0-4265-4aae-bc01-980a39a7fb39",
   "metadata": {},
   "outputs": [
    {
     "data": {
      "text/plain": [
       "'p'"
      ]
     },
     "execution_count": 30,
     "metadata": {},
     "output_type": "execute_result"
    }
   ],
   "source": [
    "a[-1]"
   ]
  },
  {
   "cell_type": "code",
   "execution_count": 31,
   "id": "33e7bea9-dde4-411c-8353-ee32eb3f486a",
   "metadata": {},
   "outputs": [
    {
     "ename": "IndexError",
     "evalue": "string index out of range",
     "output_type": "error",
     "traceback": [
      "\u001b[1;31m---------------------------------------------------------------------------\u001b[0m",
      "\u001b[1;31mIndexError\u001b[0m                                Traceback (most recent call last)",
      "Cell \u001b[1;32mIn[31], line 1\u001b[0m\n\u001b[1;32m----> 1\u001b[0m \u001b[43ma\u001b[49m\u001b[43m[\u001b[49m\u001b[38;5;241;43m6\u001b[39;49m\u001b[43m]\u001b[49m\n",
      "\u001b[1;31mIndexError\u001b[0m: string index out of range"
     ]
    }
   ],
   "source": [
    "a[6] # it will throw an error as 4th index doesnt exist"
   ]
  },
  {
   "cell_type": "code",
   "execution_count": 34,
   "id": "a9000d24-a460-443a-a67e-2b7c99914c5d",
   "metadata": {},
   "outputs": [
    {
     "data": {
      "text/plain": [
       "'I am'"
      ]
     },
     "execution_count": 34,
     "metadata": {},
     "output_type": "execute_result"
    }
   ],
   "source": [
    "str = \"I am a good stiudent\"\n",
    "str[0:4]  # 4 is exclusive [a,b]>> it will give result till b-1 index"
   ]
  },
  {
   "cell_type": "code",
   "execution_count": 35,
   "id": "5b013369-1041-43ea-a4c8-c168d5a0517d",
   "metadata": {},
   "outputs": [
    {
     "data": {
      "text/plain": [
       "'a good '"
      ]
     },
     "execution_count": 35,
     "metadata": {},
     "output_type": "execute_result"
    }
   ],
   "source": [
    "str[5:12]"
   ]
  },
  {
   "cell_type": "code",
   "execution_count": 36,
   "id": "87f0ac71-44b4-4653-96e9-4e3283fc7f5a",
   "metadata": {},
   "outputs": [
    {
     "data": {
      "text/plain": [
       "'I am a good stiudent'"
      ]
     },
     "execution_count": 36,
     "metadata": {},
     "output_type": "execute_result"
    }
   ],
   "source": [
    "str[0:] # start_index:end_index >> if you not provide end index, it will be default give substring till the last index"
   ]
  },
  {
   "cell_type": "code",
   "execution_count": 37,
   "id": "8062bb52-913f-4e3d-98e3-95192104788e",
   "metadata": {},
   "outputs": [
    {
     "data": {
      "text/plain": [
       "'m a good stiudent'"
      ]
     },
     "execution_count": 37,
     "metadata": {},
     "output_type": "execute_result"
    }
   ],
   "source": [
    "str[3:]"
   ]
  },
  {
   "cell_type": "code",
   "execution_count": 38,
   "id": "a26b1d78-9bfa-4a8f-b976-8435f0856a2b",
   "metadata": {},
   "outputs": [],
   "source": [
    "s2=\"pwskills\""
   ]
  },
  {
   "cell_type": "code",
   "execution_count": 39,
   "id": "b466e9aa-1a12-4270-9579-ad9bf857bb0a",
   "metadata": {},
   "outputs": [
    {
     "data": {
      "text/plain": [
       "'w'"
      ]
     },
     "execution_count": 39,
     "metadata": {},
     "output_type": "execute_result"
    }
   ],
   "source": [
    "s2[1]"
   ]
  },
  {
   "cell_type": "code",
   "execution_count": 40,
   "id": "7a5c01b3-942a-4920-8015-62304cce3ad2",
   "metadata": {},
   "outputs": [
    {
     "data": {
      "text/plain": [
       "'s'"
      ]
     },
     "execution_count": 40,
     "metadata": {},
     "output_type": "execute_result"
    }
   ],
   "source": [
    "s2[-1]"
   ]
  },
  {
   "cell_type": "code",
   "execution_count": 41,
   "id": "76e21891-9373-4e32-aa19-7f9f1cb06ae1",
   "metadata": {},
   "outputs": [
    {
     "data": {
      "text/plain": [
       "'l'"
      ]
     },
     "execution_count": 41,
     "metadata": {},
     "output_type": "execute_result"
    }
   ],
   "source": [
    "s2[-2]"
   ]
  },
  {
   "cell_type": "code",
   "execution_count": 44,
   "id": "24c63955-28a4-4458-befa-bac05b2450c5",
   "metadata": {},
   "outputs": [
    {
     "name": "stdout",
     "output_type": "stream",
     "text": [
      "True\n"
     ]
    }
   ],
   "source": [
    "if 1==01:\n",
    "    print(True)\n",
    "else:\n",
    "    print(False)"
   ]
  },
  {
   "cell_type": "code",
   "execution_count": 45,
   "id": "f10a0ca6-4b01-4246-a60c-8612969c6d79",
   "metadata": {},
   "outputs": [
    {
     "data": {
      "text/plain": [
       "'pwski'"
      ]
     },
     "execution_count": 45,
     "metadata": {},
     "output_type": "execute_result"
    }
   ],
   "source": [
    "s2[:-3] # except the three last character"
   ]
  },
  {
   "cell_type": "code",
   "execution_count": 46,
   "id": "480e05b8-a922-47f9-848f-f055d2ec8fe4",
   "metadata": {},
   "outputs": [
    {
     "data": {
      "text/plain": [
       "'lls'"
      ]
     },
     "execution_count": 46,
     "metadata": {},
     "output_type": "execute_result"
    }
   ],
   "source": [
    "s2[-3:]  # you want only last character"
   ]
  },
  {
   "cell_type": "code",
   "execution_count": 48,
   "id": "c70aec9d-84bd-4223-846a-b1fa6227f5e6",
   "metadata": {},
   "outputs": [],
   "source": [
    "s1=\"Hello  world\""
   ]
  },
  {
   "cell_type": "code",
   "execution_count": 50,
   "id": "b5f9f6bf-b890-4800-b9ed-d10d56df7f65",
   "metadata": {},
   "outputs": [
    {
     "data": {
      "text/plain": [
       "'Hello'"
      ]
     },
     "execution_count": 50,
     "metadata": {},
     "output_type": "execute_result"
    }
   ],
   "source": [
    "s1[0:5:1] # by default step is 1"
   ]
  },
  {
   "cell_type": "code",
   "execution_count": 51,
   "id": "dc9843bf-e209-43de-8913-dc42081fcd23",
   "metadata": {},
   "outputs": [
    {
     "data": {
      "text/plain": [
       "'Hlo'"
      ]
     },
     "execution_count": 51,
     "metadata": {},
     "output_type": "execute_result"
    }
   ],
   "source": [
    "s1[0:5:2]"
   ]
  },
  {
   "cell_type": "code",
   "execution_count": 52,
   "id": "f08710ee-502c-4de3-8308-c1e6b28ce851",
   "metadata": {},
   "outputs": [
    {
     "data": {
      "text/plain": [
       "'Hlo o'"
      ]
     },
     "execution_count": 52,
     "metadata": {},
     "output_type": "execute_result"
    }
   ],
   "source": [
    "s1[0:10:2]"
   ]
  },
  {
   "cell_type": "code",
   "execution_count": 53,
   "id": "ca91c2dd-1f99-4989-a789-74067a715807",
   "metadata": {},
   "outputs": [
    {
     "data": {
      "text/plain": [
       "'pwskills'"
      ]
     },
     "execution_count": 53,
     "metadata": {},
     "output_type": "execute_result"
    }
   ],
   "source": [
    "s2[::1]"
   ]
  },
  {
   "cell_type": "code",
   "execution_count": 54,
   "id": "b32aa362-44aa-46e5-a810-34fa06a7376c",
   "metadata": {},
   "outputs": [
    {
     "data": {
      "text/plain": [
       "'Hlo ol'"
      ]
     },
     "execution_count": 54,
     "metadata": {},
     "output_type": "execute_result"
    }
   ],
   "source": [
    "s1[::2]"
   ]
  },
  {
   "cell_type": "code",
   "execution_count": null,
   "id": "bfccbcfd-cada-444f-98a2-0848638ea980",
   "metadata": {},
   "outputs": [],
   "source": []
  },
  {
   "cell_type": "code",
   "execution_count": null,
   "id": "b2dea6a9-336f-4281-8197-a4e1e9531dd7",
   "metadata": {},
   "outputs": [],
   "source": []
  },
  {
   "cell_type": "code",
   "execution_count": null,
   "id": "44b52f31-b300-4e30-b338-f43c0de999b1",
   "metadata": {},
   "outputs": [],
   "source": []
  },
  {
   "cell_type": "code",
   "execution_count": null,
   "id": "8c5df2b1-9cf4-45be-832b-e8a887ade524",
   "metadata": {},
   "outputs": [],
   "source": []
  },
  {
   "cell_type": "code",
   "execution_count": null,
   "id": "5acdae39-d925-4641-8b8a-df944e0253b0",
   "metadata": {},
   "outputs": [],
   "source": []
  },
  {
   "cell_type": "code",
   "execution_count": null,
   "id": "5ff1f30e-6dd6-4c25-bb23-2c57bc7cbb2f",
   "metadata": {},
   "outputs": [],
   "source": []
  },
  {
   "cell_type": "code",
   "execution_count": null,
   "id": "b63bf868-297c-450d-8cba-3a4242d7783d",
   "metadata": {},
   "outputs": [],
   "source": []
  },
  {
   "cell_type": "code",
   "execution_count": null,
   "id": "38ea0538-af42-46b2-84a5-dd9b9b2bfd98",
   "metadata": {},
   "outputs": [],
   "source": []
  },
  {
   "cell_type": "code",
   "execution_count": null,
   "id": "f1d38c2a-96fd-4a44-bbbb-93ef04b414a4",
   "metadata": {},
   "outputs": [],
   "source": []
  },
  {
   "cell_type": "code",
   "execution_count": null,
   "id": "8f0289fa-56e0-4488-95c1-035ff028bfcf",
   "metadata": {},
   "outputs": [],
   "source": []
  },
  {
   "cell_type": "code",
   "execution_count": null,
   "id": "2d419620-3d8a-498a-a529-a6c9bfa6fb2f",
   "metadata": {},
   "outputs": [],
   "source": []
  },
  {
   "cell_type": "code",
   "execution_count": null,
   "id": "d78f410d-9c2a-4dbc-8dcd-f1b411b87cba",
   "metadata": {},
   "outputs": [],
   "source": []
  },
  {
   "cell_type": "code",
   "execution_count": null,
   "id": "222613e3-b70a-4ffa-baf2-0c09cbccc734",
   "metadata": {},
   "outputs": [],
   "source": []
  },
  {
   "cell_type": "code",
   "execution_count": null,
   "id": "55dd6031-44ab-41e2-ba3d-f98bf453e1a7",
   "metadata": {},
   "outputs": [],
   "source": []
  },
  {
   "cell_type": "code",
   "execution_count": null,
   "id": "2d2dc207-c2e0-4930-9836-6ccb1241051f",
   "metadata": {},
   "outputs": [],
   "source": []
  },
  {
   "cell_type": "code",
   "execution_count": null,
   "id": "3f555e52-3c9a-418b-853d-b3446186230f",
   "metadata": {},
   "outputs": [],
   "source": []
  },
  {
   "cell_type": "code",
   "execution_count": null,
   "id": "00972ca4-5d9e-4186-90dd-261647f3738d",
   "metadata": {},
   "outputs": [],
   "source": []
  },
  {
   "cell_type": "code",
   "execution_count": null,
   "id": "a5d3d887-2e06-4d3c-8fd5-09c14bc5f1fb",
   "metadata": {},
   "outputs": [],
   "source": []
  },
  {
   "cell_type": "code",
   "execution_count": null,
   "id": "2dcc5e4c-89ed-469e-b37f-a09cf466388e",
   "metadata": {},
   "outputs": [],
   "source": []
  },
  {
   "cell_type": "code",
   "execution_count": null,
   "id": "85f7a72f-6edf-4871-b07a-e3210e35ea90",
   "metadata": {},
   "outputs": [],
   "source": []
  },
  {
   "cell_type": "code",
   "execution_count": null,
   "id": "a3762865-ef56-42d5-81b0-2e38e72d5e20",
   "metadata": {},
   "outputs": [],
   "source": []
  },
  {
   "cell_type": "code",
   "execution_count": null,
   "id": "9c37df62-1995-43ee-8c2f-e72e4ba2152d",
   "metadata": {},
   "outputs": [],
   "source": []
  },
  {
   "cell_type": "code",
   "execution_count": null,
   "id": "2b79adeb-7dba-4a90-8b63-1eca09907df8",
   "metadata": {},
   "outputs": [],
   "source": []
  },
  {
   "cell_type": "code",
   "execution_count": null,
   "id": "c7430425-95c7-4b9e-868d-bdd1c82f03d1",
   "metadata": {},
   "outputs": [],
   "source": []
  },
  {
   "cell_type": "code",
   "execution_count": null,
   "id": "b5e3d2cd-2431-4ea4-875a-34fe8dd3c52b",
   "metadata": {},
   "outputs": [],
   "source": []
  },
  {
   "cell_type": "code",
   "execution_count": null,
   "id": "1bc7c193-f25c-450e-8060-1251d3c4869a",
   "metadata": {},
   "outputs": [],
   "source": []
  },
  {
   "cell_type": "code",
   "execution_count": null,
   "id": "ea3e7bc3-399d-4512-a10b-2515b35cf2dc",
   "metadata": {},
   "outputs": [],
   "source": []
  },
  {
   "cell_type": "code",
   "execution_count": null,
   "id": "a5950ce2-96d2-4f55-a7d9-68e4828788a4",
   "metadata": {},
   "outputs": [],
   "source": []
  },
  {
   "cell_type": "code",
   "execution_count": null,
   "id": "065a9607-fb9d-49bf-b727-789213b12106",
   "metadata": {},
   "outputs": [],
   "source": []
  },
  {
   "cell_type": "code",
   "execution_count": null,
   "id": "3bcb249e-bb58-419c-9564-e78dcf3467f4",
   "metadata": {},
   "outputs": [],
   "source": []
  },
  {
   "cell_type": "code",
   "execution_count": null,
   "id": "8de6036a-dbf0-4440-8828-22d2efed3fe1",
   "metadata": {},
   "outputs": [],
   "source": []
  },
  {
   "cell_type": "code",
   "execution_count": null,
   "id": "d7a548c0-531c-442a-b158-962ce1e4b127",
   "metadata": {},
   "outputs": [],
   "source": []
  },
  {
   "cell_type": "code",
   "execution_count": null,
   "id": "e9e4aabd-ab04-4d75-8c8c-93971bfa036e",
   "metadata": {},
   "outputs": [],
   "source": []
  },
  {
   "cell_type": "code",
   "execution_count": null,
   "id": "3ffed033-1424-4cc1-8a37-9704dd468874",
   "metadata": {},
   "outputs": [],
   "source": []
  }
 ],
 "metadata": {
  "kernelspec": {
   "display_name": "Python 3 (ipykernel)",
   "language": "python",
   "name": "python3"
  },
  "language_info": {
   "codemirror_mode": {
    "name": "ipython",
    "version": 3
   },
   "file_extension": ".py",
   "mimetype": "text/x-python",
   "name": "python",
   "nbconvert_exporter": "python",
   "pygments_lexer": "ipython3",
   "version": "3.11.9"
  }
 },
 "nbformat": 4,
 "nbformat_minor": 5
}
