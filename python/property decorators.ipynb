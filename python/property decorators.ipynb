{
 "cells": [
  {
   "cell_type": "code",
   "execution_count": null,
   "id": "db3a08f9-a2d8-4b02-bba4-9dac59f52da5",
   "metadata": {},
   "outputs": [],
   "source": [
    "# property decorators >>> you are allowed to use class method as an attribute"
   ]
  },
  {
   "cell_type": "code",
   "execution_count": 1,
   "id": "b0d27468-536a-49a6-bc72-a06193509b24",
   "metadata": {},
   "outputs": [],
   "source": [
    "class Student:\n",
    "    def __init__(self,name,price):\n",
    "        self.__name = name\n",
    "        self.__price = price"
   ]
  },
  {
   "cell_type": "code",
   "execution_count": 3,
   "id": "9c178cab-6e28-4d90-ac8f-9c727e69daaa",
   "metadata": {},
   "outputs": [],
   "source": [
    "# here name and price are private variables which you can will not be able  acess from outside the class\n",
    "\n",
    "stud = Student(\"pratap\",2000)"
   ]
  },
  {
   "cell_type": "code",
   "execution_count": 4,
   "id": "e846ca54-9ecd-4cb6-bb5e-ebdcefab374b",
   "metadata": {},
   "outputs": [
    {
     "ename": "AttributeError",
     "evalue": "'Student' object has no attribute 'name'",
     "output_type": "error",
     "traceback": [
      "\u001b[1;31m---------------------------------------------------------------------------\u001b[0m",
      "\u001b[1;31mAttributeError\u001b[0m                            Traceback (most recent call last)",
      "Cell \u001b[1;32mIn[4], line 1\u001b[0m\n\u001b[1;32m----> 1\u001b[0m \u001b[43mstud\u001b[49m\u001b[38;5;241;43m.\u001b[39;49m\u001b[43mname\u001b[49m \u001b[38;5;66;03m# error as name and price private variables\u001b[39;00m\n",
      "\u001b[1;31mAttributeError\u001b[0m: 'Student' object has no attribute 'name'"
     ]
    }
   ],
   "source": [
    "stud.name # error as name and price private variables"
   ]
  },
  {
   "cell_type": "code",
   "execution_count": 6,
   "id": "53e0229e-09a8-49a4-aad0-1d8b6685d3f0",
   "metadata": {},
   "outputs": [
    {
     "data": {
      "text/plain": [
       "'pratap'"
      ]
     },
     "execution_count": 6,
     "metadata": {},
     "output_type": "execute_result"
    }
   ],
   "source": [
    "# still you can access private variable if you know structure of the class\n",
    "stud._Student__name # using class name and exact variable name"
   ]
  },
  {
   "cell_type": "code",
   "execution_count": 7,
   "id": "9cf1a5fb-57f1-4ce7-a0ed-48a23a454863",
   "metadata": {},
   "outputs": [],
   "source": [
    "# another way to expose private variables using property decorators\n",
    "\n",
    "class Student:\n",
    "    def __init__(self,name,price):\n",
    "        self.__name = name\n",
    "        self.__price = price\n",
    "    @property\n",
    "    def access_price(self):\n",
    "        return self.__price"
   ]
  },
  {
   "cell_type": "code",
   "execution_count": 8,
   "id": "28936422-ca12-40a8-aa6c-65b143704085",
   "metadata": {},
   "outputs": [],
   "source": [
    "stud = Student(\"pratap\",6000)"
   ]
  },
  {
   "cell_type": "code",
   "execution_count": 9,
   "id": "bfe06031-7ef9-4376-8bfc-1ae16d1a3bd5",
   "metadata": {},
   "outputs": [
    {
     "data": {
      "text/plain": [
       "6000"
      ]
     },
     "execution_count": 9,
     "metadata": {},
     "output_type": "execute_result"
    }
   ],
   "source": [
    "stud.access_price"
   ]
  },
  {
   "cell_type": "code",
   "execution_count": 14,
   "id": "325aef88-fc9c-4635-acb8-d68b4a94edab",
   "metadata": {},
   "outputs": [],
   "source": [
    "# you want to modify the price\n",
    "class Student:\n",
    "    def __init__(self,name,price):\n",
    "        self.__name = name\n",
    "        self.__price = price\n",
    "    @property\n",
    "    def access_price(self):\n",
    "        return self.__price\n",
    "    @access_price.setter\n",
    "    def price_set(self,price_new):\n",
    "        self.__price = price_new"
   ]
  },
  {
   "cell_type": "code",
   "execution_count": 15,
   "id": "38193ad6-477a-4136-8893-c305e84171b2",
   "metadata": {},
   "outputs": [],
   "source": [
    "stud = Student(\"pratap\",6000)"
   ]
  },
  {
   "cell_type": "code",
   "execution_count": 16,
   "id": "e690d78a-a2a8-48be-a507-2fff32625bff",
   "metadata": {},
   "outputs": [
    {
     "data": {
      "text/plain": [
       "6000"
      ]
     },
     "execution_count": 16,
     "metadata": {},
     "output_type": "execute_result"
    }
   ],
   "source": [
    "stud.access_price"
   ]
  },
  {
   "cell_type": "code",
   "execution_count": 17,
   "id": "a1e23d6a-cf68-47de-bded-c26a3806c450",
   "metadata": {},
   "outputs": [],
   "source": [
    "stud.price_set = 1500"
   ]
  },
  {
   "cell_type": "code",
   "execution_count": 18,
   "id": "321f7858-1e9f-4962-ab65-7c5facda8488",
   "metadata": {},
   "outputs": [
    {
     "data": {
      "text/plain": [
       "1500"
      ]
     },
     "execution_count": 18,
     "metadata": {},
     "output_type": "execute_result"
    }
   ],
   "source": [
    "stud.access_price"
   ]
  },
  {
   "cell_type": "code",
   "execution_count": 28,
   "id": "dcd5adea-00d4-4745-b5b5-35a040a22931",
   "metadata": {},
   "outputs": [],
   "source": [
    "# delete a variable\n",
    "\n",
    "class Student:\n",
    "    def __init__(self,name,price):\n",
    "        self.__name = name\n",
    "        self.__price = price\n",
    "    @property\n",
    "    def access_price(self):\n",
    "        return self.__price\n",
    "    @access_price.setter\n",
    "    def access_set(self,price_new):\n",
    "        self.__price = price_new\n",
    "    @access_price.deleter\n",
    "    def access_price(self):\n",
    "        del self.__price"
   ]
  },
  {
   "cell_type": "code",
   "execution_count": 29,
   "id": "c0b31cbf-8582-4fea-ba2b-2021786824dd",
   "metadata": {},
   "outputs": [],
   "source": [
    "stud = Student(\"pratap\",600000)"
   ]
  },
  {
   "cell_type": "code",
   "execution_count": 31,
   "id": "6de32a00-19bc-48ea-81f2-1029ba9f209c",
   "metadata": {},
   "outputs": [
    {
     "data": {
      "text/plain": [
       "600000"
      ]
     },
     "execution_count": 31,
     "metadata": {},
     "output_type": "execute_result"
    }
   ],
   "source": [
    "stud.access_price"
   ]
  },
  {
   "cell_type": "code",
   "execution_count": 32,
   "id": "814db5dd-6645-443c-ac2b-b22661c81f1f",
   "metadata": {},
   "outputs": [],
   "source": [
    "stud.price_set = 12000"
   ]
  },
  {
   "cell_type": "code",
   "execution_count": 33,
   "id": "f53a98c5-4b81-45c8-b787-82ac42c116f8",
   "metadata": {},
   "outputs": [
    {
     "data": {
      "text/plain": [
       "600000"
      ]
     },
     "execution_count": 33,
     "metadata": {},
     "output_type": "execute_result"
    }
   ],
   "source": [
    "stud.access_price"
   ]
  },
  {
   "cell_type": "code",
   "execution_count": 35,
   "id": "86123142-0f1d-4dfe-816a-094c2a40cd60",
   "metadata": {},
   "outputs": [],
   "source": [
    "del stud.access_price"
   ]
  },
  {
   "cell_type": "code",
   "execution_count": 36,
   "id": "dcb42c54-31d4-4590-ad12-4638c88dc5f7",
   "metadata": {},
   "outputs": [
    {
     "ename": "AttributeError",
     "evalue": "'Student' object has no attribute '_Student__price'",
     "output_type": "error",
     "traceback": [
      "\u001b[1;31m---------------------------------------------------------------------------\u001b[0m",
      "\u001b[1;31mAttributeError\u001b[0m                            Traceback (most recent call last)",
      "Cell \u001b[1;32mIn[36], line 1\u001b[0m\n\u001b[1;32m----> 1\u001b[0m \u001b[43mstud\u001b[49m\u001b[38;5;241;43m.\u001b[39;49m\u001b[43maccess_price\u001b[49m\n",
      "Cell \u001b[1;32mIn[28], line 9\u001b[0m, in \u001b[0;36mStudent.access_price\u001b[1;34m(self)\u001b[0m\n\u001b[0;32m      7\u001b[0m \u001b[38;5;129m@property\u001b[39m\n\u001b[0;32m      8\u001b[0m \u001b[38;5;28;01mdef\u001b[39;00m \u001b[38;5;21maccess_price\u001b[39m(\u001b[38;5;28mself\u001b[39m):\n\u001b[1;32m----> 9\u001b[0m     \u001b[38;5;28;01mreturn\u001b[39;00m \u001b[38;5;28;43mself\u001b[39;49m\u001b[38;5;241;43m.\u001b[39;49m\u001b[43m__price\u001b[49m\n",
      "\u001b[1;31mAttributeError\u001b[0m: 'Student' object has no attribute '_Student__price'"
     ]
    }
   ],
   "source": [
    "stud.access_price"
   ]
  },
  {
   "cell_type": "code",
   "execution_count": 37,
   "id": "30979131-bd08-4851-8514-dd680cfeb324",
   "metadata": {},
   "outputs": [],
   "source": [
    "# use case\n",
    "class Circle:\n",
    "    def __init__(self,radius):\n",
    "        self.__radius = radius\n",
    "    @property\n",
    "    def radius(self):\n",
    "        return self.__radius"
   ]
  },
  {
   "cell_type": "code",
   "execution_count": 38,
   "id": "6d659c8c-00a9-4adb-9377-2620d274c3cc",
   "metadata": {},
   "outputs": [],
   "source": [
    "c = Circle(4)"
   ]
  },
  {
   "cell_type": "code",
   "execution_count": 39,
   "id": "89d8f723-07f6-4fd3-bb27-d19b388d5c96",
   "metadata": {},
   "outputs": [
    {
     "data": {
      "text/plain": [
       "4"
      ]
     },
     "execution_count": 39,
     "metadata": {},
     "output_type": "execute_result"
    }
   ],
   "source": [
    "c.radius"
   ]
  },
  {
   "cell_type": "code",
   "execution_count": 40,
   "id": "8863f993-788e-496b-b4e7-5c3a46ec9411",
   "metadata": {},
   "outputs": [],
   "source": [
    "class Circle:\n",
    "    def __init__(self,radius):\n",
    "        self.__radius = radius\n",
    "    @property\n",
    "    def radius(self):\n",
    "        return self.__radius\n",
    "    @radius.setter\n",
    "    def radius(self,value):\n",
    "        if value <= 0:\n",
    "            raise ValueError(\"Radius is not positive\")\n",
    "        self.__radius = value\n",
    "    def area(self):\n",
    "        return 3.14*self.__radius*self.__radius"
   ]
  },
  {
   "cell_type": "code",
   "execution_count": 41,
   "id": "b39aa730-ec65-47c8-b4ea-050bb453d452",
   "metadata": {},
   "outputs": [],
   "source": [
    "c = Circle(5)"
   ]
  },
  {
   "cell_type": "code",
   "execution_count": 42,
   "id": "9440f387-5fd8-4f25-b3b9-84f1195c6b9d",
   "metadata": {},
   "outputs": [
    {
     "data": {
      "text/plain": [
       "5"
      ]
     },
     "execution_count": 42,
     "metadata": {},
     "output_type": "execute_result"
    }
   ],
   "source": [
    "c.radius"
   ]
  },
  {
   "cell_type": "code",
   "execution_count": 43,
   "id": "c2a0854d-59ca-456c-8f1d-fadfd9070850",
   "metadata": {},
   "outputs": [],
   "source": [
    "c.radius=10"
   ]
  },
  {
   "cell_type": "code",
   "execution_count": 44,
   "id": "de903c4c-1dea-4994-953d-16cdae90995c",
   "metadata": {},
   "outputs": [
    {
     "data": {
      "text/plain": [
       "10"
      ]
     },
     "execution_count": 44,
     "metadata": {},
     "output_type": "execute_result"
    }
   ],
   "source": [
    "c.radius"
   ]
  },
  {
   "cell_type": "code",
   "execution_count": 45,
   "id": "03578160-9441-4609-9927-94f47b740e42",
   "metadata": {},
   "outputs": [
    {
     "data": {
      "text/plain": [
       "314.0"
      ]
     },
     "execution_count": 45,
     "metadata": {},
     "output_type": "execute_result"
    }
   ],
   "source": [
    "c.area()"
   ]
  },
  {
   "cell_type": "code",
   "execution_count": null,
   "id": "052f441c-cbd7-43c9-a04a-d8a85f7114b8",
   "metadata": {},
   "outputs": [],
   "source": [
    "class Circle:\n",
    "    def __init__(self,radius):\n",
    "        self.__radius = radius\n",
    "    @property\n",
    "    def radius(self):\n",
    "        return self.__radius\n",
    "    @radius.setter\n",
    "    def radius(self,value):\n",
    "        if value <= 0:\n",
    "            raise ValueError(\"Radius is not positive\")\n",
    "        self.__radius = value\n",
    "    @radius deleter\n",
    "    def radius(self):\n",
    "        del self.__radius\n",
    "    def area(self):\n",
    "        return 3.14*self.__radius*self.__radius"
   ]
  },
  {
   "cell_type": "code",
   "execution_count": 46,
   "id": "53319763-898a-44ce-b941-36f3d113ea94",
   "metadata": {},
   "outputs": [],
   "source": [
    "c = Circle(5)\n"
   ]
  },
  {
   "cell_type": "code",
   "execution_count": 47,
   "id": "903345f9-c4d7-48bb-b763-529a25f0e17b",
   "metadata": {},
   "outputs": [
    {
     "data": {
      "text/plain": [
       "78.5"
      ]
     },
     "execution_count": 47,
     "metadata": {},
     "output_type": "execute_result"
    }
   ],
   "source": [
    "c.area()"
   ]
  },
  {
   "cell_type": "code",
   "execution_count": 48,
   "id": "3d86aa4c-9222-4dfb-ba1a-54a9f1506350",
   "metadata": {},
   "outputs": [
    {
     "data": {
      "text/plain": [
       "5"
      ]
     },
     "execution_count": 48,
     "metadata": {},
     "output_type": "execute_result"
    }
   ],
   "source": [
    "c.radius"
   ]
  },
  {
   "cell_type": "code",
   "execution_count": 49,
   "id": "0c0c72db-3b4c-438e-8d23-3858f599adda",
   "metadata": {},
   "outputs": [
    {
     "ename": "AttributeError",
     "evalue": "property 'radius' of 'Circle' object has no deleter",
     "output_type": "error",
     "traceback": [
      "\u001b[1;31m---------------------------------------------------------------------------\u001b[0m",
      "\u001b[1;31mAttributeError\u001b[0m                            Traceback (most recent call last)",
      "Cell \u001b[1;32mIn[49], line 1\u001b[0m\n\u001b[1;32m----> 1\u001b[0m \u001b[38;5;28;01mdel\u001b[39;00m \u001b[43mc\u001b[49m\u001b[38;5;241;43m.\u001b[39;49m\u001b[43mradius\u001b[49m\n",
      "\u001b[1;31mAttributeError\u001b[0m: property 'radius' of 'Circle' object has no deleter"
     ]
    }
   ],
   "source": [
    "del c.radius"
   ]
  },
  {
   "cell_type": "code",
   "execution_count": null,
   "id": "8bdf66d9-03c8-4e97-aca0-21fb2ad3ef10",
   "metadata": {},
   "outputs": [],
   "source": []
  }
 ],
 "metadata": {
  "kernelspec": {
   "display_name": "Python 3 (ipykernel)",
   "language": "python",
   "name": "python3"
  },
  "language_info": {
   "codemirror_mode": {
    "name": "ipython",
    "version": 3
   },
   "file_extension": ".py",
   "mimetype": "text/x-python",
   "name": "python",
   "nbconvert_exporter": "python",
   "pygments_lexer": "ipython3",
   "version": "3.11.9"
  }
 },
 "nbformat": 4,
 "nbformat_minor": 5
}
