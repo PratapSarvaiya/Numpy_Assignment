{
 "cells": [
  {
   "cell_type": "code",
   "execution_count": null,
   "id": "ae576b29-c751-46e2-a295-e581b2fb40bb",
   "metadata": {},
   "outputs": [],
   "source": [
    "# A process is an instance of a computer program\n",
    "# process runs parallely on multiple processors >> multiprocessing\n",
    "# process runs concurrently on multiple threads in a processor >> multithreading"
   ]
  },
  {
   "cell_type": "code",
   "execution_count": 4,
   "id": "57e6b5c7-a4dc-41a0-b6e9-896b2e849cc6",
   "metadata": {},
   "outputs": [
    {
     "name": "stdout",
     "output_type": "stream",
     "text": [
      "do something\n",
      "sleep for 1 sec\n",
      "done with sleeping\n",
      "The program finished in 1.0seconds\n"
     ]
    }
   ],
   "source": [
    "import time \n",
    "start = time.perf_counter()\n",
    "\n",
    "def test_func():\n",
    "    print(\"do something\")\n",
    "    print(\"sleep for 1 sec\")\n",
    "    time.sleep(1)\n",
    "    print(\"done with sleeping\")\n",
    "test_func()\n",
    "end = time.perf_counter()\n",
    "\n",
    "print(f\"The program finished in {round(end-start,2)}seconds\")"
   ]
  },
  {
   "cell_type": "code",
   "execution_count": 6,
   "id": "cbc55a65-807c-4d52-896e-6e7e128dd27d",
   "metadata": {},
   "outputs": [
    {
     "name": "stdout",
     "output_type": "stream",
     "text": [
      "do something\n",
      "sleep for 1 sec\n",
      "done with sleeping\n",
      "do something\n",
      "sleep for 1 sec\n",
      "done with sleeping\n",
      "do something\n",
      "sleep for 1 sec\n",
      "done with sleeping\n",
      "do something\n",
      "sleep for 1 sec\n",
      "done with sleeping\n",
      "do something\n",
      "sleep for 1 sec\n",
      "done with sleeping\n",
      "The program finished in 5.01seconds\n"
     ]
    }
   ],
   "source": [
    "import time \n",
    "start = time.perf_counter()\n",
    "\n",
    "def test_func():\n",
    "    print(\"do something\")\n",
    "    print(\"sleep for 1 sec\")\n",
    "    time.sleep(1)\n",
    "    print(\"done with sleeping\")\n",
    "test_func()\n",
    "test_func()\n",
    "test_func()\n",
    "test_func()\n",
    "test_func()\n",
    "end = time.perf_counter()\n",
    "\n",
    "print(f\"The program finished in {round(end-start,2)}seconds\")"
   ]
  },
  {
   "cell_type": "code",
   "execution_count": null,
   "id": "e645385c-b2bd-4804-aed5-6fb0b9181db1",
   "metadata": {},
   "outputs": [],
   "source": [
    "# since the program run sequentially(single thread on a single core), so it took 5 second"
   ]
  },
  {
   "cell_type": "code",
   "execution_count": 9,
   "id": "5f810bb1-6402-4183-a436-0c199d838e3c",
   "metadata": {},
   "outputs": [
    {
     "name": "stdout",
     "output_type": "stream",
     "text": [
      "do something\n",
      "sleep for 1 sec\n",
      "do something\n",
      "sleep for 1 sec\n",
      "The program finished in 0.0seconds\n",
      "done with sleeping\n",
      "done with sleeping\n"
     ]
    }
   ],
   "source": [
    "import time \n",
    "import threading # python module\n",
    "start = time.perf_counter()\n",
    "\n",
    "def test_func():\n",
    "    print(\"do something\")\n",
    "    print(\"sleep for 1 sec\")   \n",
    "    time.sleep(1)\n",
    "    print(\"done with sleeping\")\n",
    "    \n",
    "# run the program to two threads\n",
    "t1 = threading.Thread(target = test_func)\n",
    "t2 = threading.Thread(target = test_func)\n",
    "\n",
    "t1.start()\n",
    "t2.start()\n",
    "\n",
    "end = time.perf_counter()\n",
    "\n",
    "print(f\"The program finished in {round(end-start,2)}seconds\")"
   ]
  },
  {
   "cell_type": "code",
   "execution_count": 11,
   "id": "acfdf01d-1f2e-4639-a64b-a8a7e4fa8751",
   "metadata": {},
   "outputs": [
    {
     "name": "stdout",
     "output_type": "stream",
     "text": [
      "do something\n",
      "sleep for 1 sec\n",
      "do something\n",
      "sleep for 1 sec\n",
      "done with sleeping\n",
      "done with sleeping\n",
      "The program finished in 1.01seconds\n"
     ]
    }
   ],
   "source": [
    "import time \n",
    "import threading # python module\n",
    "start = time.perf_counter()\n",
    "\n",
    "def test_func():\n",
    "    print(\"do something\")\n",
    "    print(\"sleep for 1 sec\")   \n",
    "    time.sleep(1)\n",
    "    print(\"done with sleeping\")\n",
    "    \n",
    "# run the program to two threads\n",
    "t1 = threading.Thread(target = test_func)\n",
    "t2 = threading.Thread(target = test_func)\n",
    "\n",
    "t1.start() # to start the thread\n",
    "t2.start()\n",
    "\n",
    "t1.join()  # join first executed these t1, t2 threads and then the main thread will be executed\n",
    "t2.join()\n",
    "end = time.perf_counter()\n",
    "\n",
    "print(f\"The program finished in {round(end-start,2)}seconds\")"
   ]
  },
  {
   "cell_type": "code",
   "execution_count": 13,
   "id": "5525882a-d4a8-40b4-9d36-1a458fc9ac3b",
   "metadata": {},
   "outputs": [
    {
     "name": "stdout",
     "output_type": "stream",
     "text": [
      "do something\n",
      "sleep for 1 sec\n",
      "do something\n",
      "sleep for 1 sec\n",
      "do something\n",
      "sleep for 1 sec\n",
      "do something\n",
      "sleep for 1 sec\n",
      "do something\n",
      "sleep for 1 sec\n",
      "do something\n",
      "sleep for 1 sec\n",
      "do something\n",
      "sleep for 1 sec\n",
      "do something\n",
      "sleep for 1 sec\n",
      "do something\n",
      "sleep for 1 sec\n",
      "do something\n",
      "sleep for 1 sec\n",
      "done with sleeping\n",
      "done with sleeping\n",
      "done with sleeping\n",
      "done with sleeping\n",
      "done with sleeping\n",
      "done with sleeping\n",
      "done with sleeping\n",
      "done with sleeping\n",
      "done with sleeping\n",
      "done with sleeping\n",
      "The program finished in 1.01seconds\n"
     ]
    }
   ],
   "source": [
    "import time \n",
    "import threading # python module\n",
    "start = time.perf_counter()\n",
    "\n",
    "def test_func():\n",
    "    print(\"do something\")\n",
    "    print(\"sleep for 1 sec\")   \n",
    "    time.sleep(1)\n",
    "    print(\"done with sleeping\")\n",
    "    \n",
    "threads = []    \n",
    "for i in range(10):\n",
    "    t = threading.Thread(target = test_func)\n",
    "    t.start() \n",
    "    threads.append(t)\n",
    "\n",
    "for thread in threads:\n",
    "    thread.join()\n",
    "\n",
    "end = time.perf_counter()\n",
    "\n",
    "print(f\"The program finished in {round(end-start,2)}seconds\")"
   ]
  },
  {
   "cell_type": "code",
   "execution_count": null,
   "id": "46a86323-2e5d-4ddd-9fa2-de7082ef218c",
   "metadata": {},
   "outputs": [],
   "source": [
    "# since test_func is called in 10 times, it should have taken 10 secs but due to multithreading got completed in 1 sec"
   ]
  },
  {
   "cell_type": "code",
   "execution_count": 16,
   "id": "f723d38e-5bba-4068-a197-259b84a8848f",
   "metadata": {},
   "outputs": [
    {
     "name": "stdout",
     "output_type": "stream",
     "text": [
      "do something\n",
      "sleep for 2 sec\n",
      "do something\n",
      "sleep for 2 sec\n",
      "do something\n",
      "sleep for 2 sec\n",
      "do something\n",
      "sleep for 2 sec\n",
      "do something\n",
      "sleep for 2 sec\n",
      "do something\n",
      "sleep for 2 sec\n",
      "do something\n",
      "sleep for 2 sec\n",
      "do something\n",
      "sleep for 2 sec\n",
      "do something\n",
      "sleep for 2 sec\n",
      "do something\n",
      "sleep for 2 sec\n",
      "done with sleeping\n",
      "done with sleeping\n",
      "done with sleeping\n",
      "done with sleeping\n",
      "done with sleeping\n",
      "done with sleeping\n",
      "done with sleeping\n",
      "done with sleeping\n",
      "done with sleeping\n",
      "done with sleeping\n",
      "The program finished in 2.01seconds\n"
     ]
    }
   ],
   "source": [
    "# using multithreading with function that takes an argumengt\n",
    "import time \n",
    "import threading # python module\n",
    "start = time.perf_counter()\n",
    "\n",
    "def test_func(args):\n",
    "    print(\"do something\")\n",
    "    print(f\"sleep for {args} sec\")   \n",
    "    time.sleep(args)\n",
    "    print(\"done with sleeping\")\n",
    "    \n",
    "threads = []    \n",
    "for i in range(10):\n",
    "    t = threading.Thread(target = test_func,args = [2])\n",
    "    t.start() \n",
    "    threads.append(t)\n",
    "\n",
    "for thread in threads:\n",
    "    thread.join()\n",
    "\n",
    "end = time.perf_counter()\n",
    "\n",
    "print(f\"The program finished in {round(end-start,2)}seconds\")"
   ]
  },
  {
   "cell_type": "code",
   "execution_count": null,
   "id": "f5a14466-e1ef-4ec6-8a0c-ce8f7f4bf933",
   "metadata": {},
   "outputs": [],
   "source": [
    "# use case\n",
    "# multithreading works well with I/O bound task means where some output has to wait for input\n",
    "#ex: reading-writing files,network communication, data base queries "
   ]
  },
  {
   "cell_type": "code",
   "execution_count": 4,
   "id": "2168d8dd-db3e-4903-bc03-645086e01a15",
   "metadata": {},
   "outputs": [
    {
     "name": "stdout",
     "output_type": "stream",
     "text": [
      "The program finished in 96.17seconds\n"
     ]
    }
   ],
   "source": [
    "# https://github.com/itsfoss/text-files\n",
    "import time\n",
    "import threading\n",
    "start = time.perf_counter()\n",
    "url_list = [\n",
    "    'https://raw.githubusercontent.com/dscape/spell/master/test/resources/big.txt',\n",
    "    'https://raw.githubusercontent.com/first20hours/google-10000-english/master/google-10000-english-no-swears.txt',\n",
    "    'https://raw.githubusercontent.com/itsfoss/text-files/master/sherlock.txt' ,\n",
    "    'https://raw.githubusercontent.com/itsfoss/text-files/master/sample_log_file.txt',\n",
    "]\n",
    "data_list = [\"data1.txt\", \"data2.txt\", \"data3.txt\" ,\"data4.txt\"]\n",
    "\n",
    "import urllib.request\n",
    "\n",
    "def file_download(url,filename):\n",
    "    urllib.request.urlretrieve(url,filename)\n",
    "\n",
    "threads = []    \n",
    "for i in range(len(url_list)):\n",
    "    t = threading.Thread(target = file_download, args = (url_list[i], data_list[i]))\n",
    "    t.start() \n",
    "    threads.append(t)\n",
    "\n",
    "for thread in threads:\n",
    "    thread.join()\n",
    "\n",
    "end = time.perf_counter()\n",
    "\n",
    "print(f\"The program finished in {round(end-start,2)}seconds\")"
   ]
  },
  {
   "cell_type": "code",
   "execution_count": 21,
   "id": "75b52049-fcfd-4e42-8ba5-baa06fe0b642",
   "metadata": {},
   "outputs": [
    {
     "name": "stdout",
     "output_type": "stream",
     "text": [
      "The program finished in 0.0seconds\n"
     ]
    }
   ],
   "source": [
    "# multithreading using concurrent.futures >> keeps code concise\n",
    "\n",
    "import time\n",
    "import concurrent.futures\n",
    "start = time.perf_counter()\n",
    "url_list = [\n",
    "    'https://raw.githubusercontent.com/dscape/spell/master/test/resources/big.txt',\n",
    "    'https://raw.githubusercontent.com/first20hours/google-10000-english/master/google-10000-english-no-swears.txt',\n",
    "    'https://raw.githubusercontent.com/itsfoss/text-files/master/sherlock.txt' ,\n",
    "    'https://raw.githubusercontent.com/itsfoss/text-files/master/sample_log_file.txt',\n",
    "]\n",
    "data_list = [\"data1.txt\", \"data2.txt\", \"data3.txt\" ,\"data4.txt\"]\n",
    "\n",
    "import urllib.request\n",
    "\n",
    "def file_download(url,filename):\n",
    "    urllib.request.urlretrieve(url,filename)\n",
    "\n",
    "    with concurrent.futures.ThreadPoolExecuter() as executor:\n",
    "        executor.map(file_download, url_list, data_list) # args>> function name with argumets of the function\n",
    "\n",
    "end = time.perf_counter()\n",
    "\n",
    "print(f\"The program finished in {round(end-start,2)}seconds\")"
   ]
  },
  {
   "cell_type": "code",
   "execution_count": 15,
   "id": "c4de27b8-84e9-4283-ba08-12a3cae6b9c2",
   "metadata": {},
   "outputs": [
    {
     "name": "stdout",
     "output_type": "stream",
     "text": [
      "Thread 1: incremented shared counter to 1\n",
      "Thread 2: incremented shared counter to 2\n",
      "Thread 3: incremented shared counter to 3\n",
      "Thread 4: incremented shared counter to 4\n",
      "Thread 5: incremented shared counter to 5\n",
      "Thread 6: incremented shared counter to 6\n",
      "The program finished in 6.02 seconds.\n"
     ]
    }
   ],
   "source": [
    "#shared variable across all the threads\n",
    "\n",
    "start = time.perf_counter()\n",
    "shared_counter = 0\n",
    "counter_lock = threading.Lock() #locking the counter for a specific thread\n",
    "\n",
    "def increment_shared_counter(x):\n",
    "    global shared_counter #that can be accessed by all the threads\n",
    "    with counter_lock:\n",
    "        shared_counter = shared_counter+1\n",
    "        print(f\"Thread {x}: incremented shared counter to {shared_counter}\")\n",
    "        time.sleep(1)\n",
    "\n",
    "threads = [threading.Thread(target = increment_shared_counter, args = (i,)) for i in [1, 2, 3, 4, 5, 6]]\n",
    "\n",
    "for thread in threads:\n",
    "    thread.start()\n",
    "for thread in threads:\n",
    "    thread.join()\n",
    "\n",
    "end = time.perf_counter()\n",
    "print(f\"The program finished in {round(end-start, 2)} seconds.\")\n"
   ]
  },
  {
   "cell_type": "code",
   "execution_count": 29,
   "id": "5b2003a4-f36c-4e45-a9a6-ba92c6423f94",
   "metadata": {},
   "outputs": [
    {
     "name": "stdout",
     "output_type": "stream",
     "text": [
      "Thread 1: incremented shared counter to 1\n",
      "Thread 2: incremented shared counter to 2\n",
      "Thread 3: incremented shared counter to 3\n",
      "Thread 4: incremented shared counter to 4\n",
      "Thread 5: incremented shared counter to 5\n",
      "Thread 6: incremented shared counter to 6\n",
      "The program finished in 30.02 seconds.\n"
     ]
    }
   ],
   "source": [
    "#same thing using concurrent futures\n",
    "\n",
    "start = time.perf_counter()\n",
    "shared_counter = 0\n",
    "counter_lock = threading.Lock() #locking the counter for a specific thread\n",
    "\n",
    "def increment_shared_counter(x):\n",
    "    global shared_counter #that can be accessed by all the threads\n",
    "    with counter_lock:\n",
    "        shared_counter = shared_counter+1\n",
    "        print(f\"Thread {x}: incremented shared counter to {shared_counter}\")\n",
    "        time.sleep(5)\n",
    "\n",
    "with concurrent.futures.ThreadPoolExecutor() as executor:\n",
    "    thread_args = [1, 2, 3, 4, 5, 6]\n",
    "    executor.map(increment_shared_counter, thread_args)\n",
    "    \n",
    "end = time.perf_counter()\n",
    "print(f\"The program finished in {round(end-start, 2)} seconds.\")\n"
   ]
  },
  {
   "cell_type": "code",
   "execution_count": null,
   "id": "8defd552-a9d5-4c03-ae4e-8fd0f1561ff9",
   "metadata": {},
   "outputs": [],
   "source": [
    "# summary >> shared variable can be incremented by individual thread process"
   ]
  }
 ],
 "metadata": {
  "kernelspec": {
   "display_name": "Python 3 (ipykernel)",
   "language": "python",
   "name": "python3"
  },
  "language_info": {
   "codemirror_mode": {
    "name": "ipython",
    "version": 3
   },
   "file_extension": ".py",
   "mimetype": "text/x-python",
   "name": "python",
   "nbconvert_exporter": "python",
   "pygments_lexer": "ipython3",
   "version": "3.11.9"
  }
 },
 "nbformat": 4,
 "nbformat_minor": 5
}
