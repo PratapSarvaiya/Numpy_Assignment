{
 "cells": [
  {
   "cell_type": "code",
   "execution_count": null,
   "id": "f4a09e45-7b8b-4045-84a8-b083e8326fd0",
   "metadata": {},
   "outputs": [],
   "source": [
    "# conditionals >> I will play cricket when the weather is sunny\n",
    "# Loop >>> I will keep checking out all the dishes in a buffet\n",
    "#break statement >> I will check out all the dishes untill iget pasta"
   ]
  },
  {
   "cell_type": "code",
   "execution_count": null,
   "id": "8ee5a93e-2a61-4abf-9821-f1c9ddc564bb",
   "metadata": {},
   "outputs": [],
   "source": [
    "# conditional satatement>> helps you to code decisions based on some preconditions\n",
    "# if\n",
    "# if else\n",
    "# if elif(elseif) else\n",
    "# nested if else"
   ]
  },
  {
   "cell_type": "code",
   "execution_count": null,
   "id": "6d17814c-464f-4cf7-a3e3-e946287f34e7",
   "metadata": {},
   "outputs": [],
   "source": [
    "# if statement\n",
    "#syntax\n",
    "# if condition True\n",
    "#   block of code will be executed"
   ]
  },
  {
   "cell_type": "code",
   "execution_count": 2,
   "id": "c2898218-7132-403f-91aa-ac94abceaedf",
   "metadata": {},
   "outputs": [
    {
     "name": "stdout",
     "output_type": "stream",
     "text": [
      "The number is greater than 0.\n"
     ]
    }
   ],
   "source": [
    "a = 100\n",
    "if a > 0:\n",
    "    print(\"The number is greater than 0.\")"
   ]
  },
  {
   "cell_type": "code",
   "execution_count": 4,
   "id": "4ee2fd46-6b1b-482c-943e-a05612a3c5e7",
   "metadata": {},
   "outputs": [],
   "source": [
    "a = 100\n",
    "if a < 0:\n",
    "    print(\"The number is greater than 0.\")"
   ]
  },
  {
   "cell_type": "code",
   "execution_count": 5,
   "id": "4daf64dd-e162-4dfb-9798-245a4039c8fc",
   "metadata": {},
   "outputs": [
    {
     "name": "stdout",
     "output_type": "stream",
     "text": [
      "I will not play cricket\n"
     ]
    }
   ],
   "source": [
    "weather = \"rainy\"\n",
    "if weather == \"rainy\":\n",
    "    print(\"I will not play cricket\")"
   ]
  },
  {
   "cell_type": "code",
   "execution_count": 6,
   "id": "0028e8a2-3dbe-46bd-adb2-89f8cf22d49b",
   "metadata": {},
   "outputs": [],
   "source": [
    "weather =\"sunny\"\n",
    "if weather == \"rainy\":\n",
    "    print(\"I will not play cricket\")"
   ]
  },
  {
   "cell_type": "code",
   "execution_count": 7,
   "id": "f87ccba1-75c5-412b-90f9-a811c15468da",
   "metadata": {},
   "outputs": [
    {
     "name": "stdout",
     "output_type": "stream",
     "text": [
      "room temp\n"
     ]
    }
   ],
   "source": [
    "temp = 30\n",
    "if temp>25:\n",
    "    print(\"room temp\")"
   ]
  },
  {
   "cell_type": "code",
   "execution_count": 9,
   "id": "40ddc634-4d2b-4d24-8e17-226c9f827b65",
   "metadata": {},
   "outputs": [],
   "source": [
    "is_ds_course = False\n",
    "if is_ds_course:\n",
    "    print(\"I am studying the course\")"
   ]
  },
  {
   "cell_type": "code",
   "execution_count": 10,
   "id": "c2fb6f2c-db90-4c40-97bf-f90268cafa24",
   "metadata": {},
   "outputs": [
    {
     "name": "stdout",
     "output_type": "stream",
     "text": [
      "I am studying the course\n"
     ]
    }
   ],
   "source": [
    "is_ds_course = True\n",
    "if is_ds_course:\n",
    "    print(\"I am studying the course\")"
   ]
  },
  {
   "cell_type": "code",
   "execution_count": 11,
   "id": "8ef40fbd-c6a0-4542-952c-3b745161e64e",
   "metadata": {},
   "outputs": [
    {
     "name": "stdout",
     "output_type": "stream",
     "text": [
      "You are excellent\n"
     ]
    }
   ],
   "source": [
    "grade = 10\n",
    "if grade >=10:\n",
    "    print(\"You are excellent\")"
   ]
  },
  {
   "cell_type": "code",
   "execution_count": 1,
   "id": "4d4bb825-4376-4c53-a7c7-958ebc481559",
   "metadata": {},
   "outputs": [
    {
     "name": "stdout",
     "output_type": "stream",
     "text": [
      "The number is even\n"
     ]
    }
   ],
   "source": [
    "number = 42\n",
    "if number % 2==0:\n",
    "    print(\"The number is even\")"
   ]
  },
  {
   "cell_type": "code",
   "execution_count": null,
   "id": "2851592f-4845-4503-91d3-e30d6e6f4d2c",
   "metadata": {},
   "outputs": [],
   "source": [
    "# in real life,decision are made on multiple conditions"
   ]
  },
  {
   "cell_type": "code",
   "execution_count": 2,
   "id": "1f3b5b60-575a-4482-8e42-6c65e0fd3dcc",
   "metadata": {},
   "outputs": [
    {
     "name": "stdout",
     "output_type": "stream",
     "text": [
      "This is the number of interest \n"
     ]
    }
   ],
   "source": [
    "number = 42\n",
    "if((number%2==0) & (number >0)):\n",
    "    print(\"This is the number of interest \")"
   ]
  },
  {
   "cell_type": "code",
   "execution_count": 6,
   "id": "8982650a-2d84-473f-af74-3c987e08706c",
   "metadata": {},
   "outputs": [
    {
     "name": "stdout",
     "output_type": "stream",
     "text": [
      "You are all rounder\n"
     ]
    }
   ],
   "source": [
    "grade = 8\n",
    "co_cirr = True\n",
    "if ((grade >= 8) and (co_cirr == True)):\n",
    "    print(\"You are all rounder\")"
   ]
  },
  {
   "cell_type": "code",
   "execution_count": null,
   "id": "9f79666f-1081-4dc8-8870-b8ca69b19a90",
   "metadata": {},
   "outputs": [],
   "source": [
    "# in real life if one condition is not fullfilled,you will do something else\n",
    "#example:: if weather is not rainy, i will go to play cricket else I will watch tv"
   ]
  },
  {
   "cell_type": "code",
   "execution_count": 8,
   "id": "905851cd-4675-4f20-86d7-25d747904f56",
   "metadata": {},
   "outputs": [
    {
     "name": "stdout",
     "output_type": "stream",
     "text": [
      "I will watch Tv\n"
     ]
    }
   ],
   "source": [
    "# if else >> execute the if block when the condition is true else execute block\n",
    "weather = \"sunny\"\n",
    "if weather == \"rainy\":\n",
    "    print(\"I will not play cricket\")\n",
    "else:\n",
    "    print(\"I will watch Tv\")"
   ]
  },
  {
   "cell_type": "code",
   "execution_count": 9,
   "id": "cf4810f1-7487-4a70-8408-886d8515e560",
   "metadata": {},
   "outputs": [
    {
     "name": "stdout",
     "output_type": "stream",
     "text": [
      "You will be served alcohol\n"
     ]
    }
   ],
   "source": [
    "age = 21\n",
    "if age >= 18:\n",
    "    print(\"You will be served alcohol\")\n",
    "else:\n",
    "    print(\"get out of the bar\")"
   ]
  },
  {
   "cell_type": "code",
   "execution_count": 10,
   "id": "f6a598f9-7009-4b80-be59-fd715022083b",
   "metadata": {},
   "outputs": [
    {
     "name": "stdout",
     "output_type": "stream",
     "text": [
      "dont drive\n"
     ]
    }
   ],
   "source": [
    "age = 12\n",
    "if age >= 18:\n",
    "    print(\"Please have a driving licence and drive\")\n",
    "else:\n",
    "    print(\"dont drive\")"
   ]
  },
  {
   "cell_type": "code",
   "execution_count": 11,
   "id": "6536a8af-3f3d-4ef6-9e68-c00699ebc2d4",
   "metadata": {},
   "outputs": [
    {
     "name": "stdout",
     "output_type": "stream",
     "text": [
      "I am studying\n"
     ]
    }
   ],
   "source": [
    "is_ds_course = True\n",
    "if is_ds_course:\n",
    "    print(\"I am studying\")\n",
    "else:\n",
    "    print(\"I am playing cricket\")"
   ]
  },
  {
   "cell_type": "code",
   "execution_count": 12,
   "id": "feb4e83b-af05-4ef0-be31-a5f8c861d4e3",
   "metadata": {},
   "outputs": [
    {
     "name": "stdout",
     "output_type": "stream",
     "text": [
      "The number is less than 5\n"
     ]
    }
   ],
   "source": [
    "x = 1\n",
    "if x > 5:\n",
    "    print(\"x is greater than 5\")\n",
    "else:\n",
    "    print(\"The number is less than 5\")"
   ]
  },
  {
   "cell_type": "code",
   "execution_count": null,
   "id": "508f4ce8-b13f-46bb-bb84-ad789cec9b44",
   "metadata": {},
   "outputs": [],
   "source": [
    "#to check if a no is even"
   ]
  },
  {
   "cell_type": "code",
   "execution_count": 13,
   "id": "5f0c42b9-9e25-429c-96e8-337e30a2b486",
   "metadata": {},
   "outputs": [
    {
     "name": "stdout",
     "output_type": "stream",
     "text": [
      "even\n"
     ]
    }
   ],
   "source": [
    "num=4\n",
    "if num%2==0:\n",
    "    print(\"even\")\n",
    "else:\n",
    "    print(\"odd\")"
   ]
  },
  {
   "cell_type": "code",
   "execution_count": null,
   "id": "2d46ffa2-903f-4031-bf32-e91243da4eb5",
   "metadata": {},
   "outputs": [],
   "source": [
    "# if else >> two condition\n",
    "# in real life we can have multiple condition\n",
    "#syntax\n",
    "#if some condition\n",
    "#elif some condition\n",
    "#else"
   ]
  },
  {
   "cell_type": "code",
   "execution_count": 20,
   "id": "f5eb1705-27ba-43de-b22f-7c0c4c371457",
   "metadata": {},
   "outputs": [
    {
     "name": "stdout",
     "output_type": "stream",
     "text": [
      "This block will be executed if a is lesser than 100\n"
     ]
    }
   ],
   "source": [
    "a = 1\n",
    "if a > 100:\n",
    "    print(\"This block will be executed if a is greater than 100\")\n",
    "elif a < 100:\n",
    "    print(\"This block will be executed if a is lesser than 100\")\n",
    "else:\n",
    "    print(\"The number is equal to 100\")"
   ]
  },
  {
   "cell_type": "code",
   "execution_count": 30,
   "id": "333dc803-9067-45ff-a170-a9f8bef7cfcf",
   "metadata": {},
   "outputs": [
    {
     "name": "stdout",
     "output_type": "stream",
     "text": [
      "This block will be executed if a is lesser than 100\n"
     ]
    }
   ],
   "source": [
    "a = 10\n",
    "if a < 100:\n",
    "    print(\"This block will be executed if a is lesser than 100\")\n",
    "elif a > 2000:\n",
    "    print(\"This number is huge\")\n",
    "elif a > 100:\n",
    "    print(\"This block will be executed if a is greater than 100\")\n",
    "else:\n",
    "    print(\"The number is equal to 100\")"
   ]
  },
  {
   "cell_type": "code",
   "execution_count": 6,
   "id": "fd330d66-b74a-440f-a311-dec67c04d97d",
   "metadata": {},
   "outputs": [
    {
     "name": "stdout",
     "output_type": "stream",
     "text": [
      "Grade f\n"
     ]
    }
   ],
   "source": [
    " score = 40\n",
    "if score >= 90:\n",
    "    print(\"grade A\")\n",
    "elif (80<=score<90):\n",
    "    print(\"grade B\")\n",
    "elif (70<=score<80):\n",
    "    print(\"grade C\")\n",
    "elif (60<=score<70):\n",
    "    print(\"grade d\")\n",
    "elif (50<=score<60):\n",
    "    print(\"grade e\")\n",
    "else:\n",
    "    print(\"Grade f\")\n",
    "    "
   ]
  },
  {
   "cell_type": "code",
   "execution_count": 8,
   "id": "4068a798-d8ea-47d2-b024-fa88f7f47619",
   "metadata": {},
   "outputs": [
    {
     "name": "stdout",
     "output_type": "stream",
     "text": [
      "You are senior citizen\n"
     ]
    }
   ],
   "source": [
    "age = 100\n",
    "if age < 18:\n",
    "    print(\"You are minority\")\n",
    "elif 18 < age <=65:\n",
    "    print(\"You are adult\")\n",
    "else:\n",
    "    print(\"You are senior citizen\")"
   ]
  },
  {
   "cell_type": "code",
   "execution_count": 15,
   "id": "1b3d6ee3-7bd4-466c-ac6a-6b59624736e2",
   "metadata": {},
   "outputs": [
    {
     "name": "stdout",
     "output_type": "stream",
     "text": [
      "x is not greater than 5\n"
     ]
    }
   ],
   "source": [
    "#nested if else >> you can have multiple if else inside if else\n",
    "x = 5\n",
    "y = 3\n",
    "if x > 5:\n",
    "    if y > 5:\n",
    "        print(\"Both x and y is greater than 5\")\n",
    "    else:\n",
    "        print(\"x is greater than 5 but y is less than 5\")\n",
    "else:\n",
    "    print(\"x is not greater than 5\")"
   ]
  },
  {
   "cell_type": "code",
   "execution_count": 25,
   "id": "f25da706-305a-4f1a-8810-e9019881daee",
   "metadata": {},
   "outputs": [
    {
     "name": "stdout",
     "output_type": "stream",
     "text": [
      "Vip status is only for adult\n"
     ]
    }
   ],
   "source": [
    "is_vip = True\n",
    "age = 17\n",
    "if is_vip:\n",
    "    if age >= 18:\n",
    "        if age < 65:\n",
    "            print(\"welcome to vip customer\")\n",
    "        else:\n",
    "            print(\"you are vip and very imp.You are eligible for senior citizen discount \")\n",
    "    else:\n",
    "        print(\"Vip status is only for adult\")\n",
    "else:\n",
    "    print(\"You are not a vip customer and will be charged a regular price\")"
   ]
  },
  {
   "cell_type": "code",
   "execution_count": null,
   "id": "140f243f-43ee-417a-b29f-0cf5b73bc578",
   "metadata": {},
   "outputs": [],
   "source": [
    " a = input(\"Enter a number\")  # by default input treates everithing as string\n",
    "print(\"The number is\",a,type(a))"
   ]
  },
  {
   "cell_type": "code",
   "execution_count": 2,
   "id": "3aa37a80-abf9-4c3f-a0a3-83c3ca288c1b",
   "metadata": {},
   "outputs": [
    {
     "name": "stdout",
     "output_type": "stream",
     "text": [
      "The number is greater than 100\n"
     ]
    }
   ],
   "source": [
    "a = 1000\n",
    "if a >= 100:\n",
    "    print(\"The number is greater than 100\")\n",
    "elif 0<=a<100:\n",
    "    print(\"The number is greater than 0 and less than 100\")\n",
    "else:\n",
    "    print(\"This is a negative number\")"
   ]
  },
  {
   "cell_type": "code",
   "execution_count": null,
   "id": "cccf176e-10c3-4355-92b1-cfd3051e1fc3",
   "metadata": {},
   "outputs": [],
   "source": [
    "name = input(\"Please enter your name\")\n",
    "email = input(\"Please enter your email\")\n",
    "password = input(\"Please enter your password\")\n",
    "\n",
    "if name == \"\":\n",
    "    print(\"Please enter a valid name,can not empty\")\n",
    "else:\n",
    "    if \"@\" not in email:\n",
    "        print(\"Please enter a valid email\")\n",
    "    else:\n",
    "        if len(password) < 0:\n",
    "            print(\"No password entered,pis provide a valid password\")\n",
    "        else:\n",
    "            print(\"Login/registration is successful\")"
   ]
  },
  {
   "cell_type": "code",
   "execution_count": null,
   "id": "5f5f0b2a-0679-4ccb-a433-c0966ec6960f",
   "metadata": {},
   "outputs": [],
   "source": []
  },
  {
   "cell_type": "code",
   "execution_count": null,
   "id": "987dea60-00c4-4246-873b-c440d2e804f4",
   "metadata": {},
   "outputs": [],
   "source": []
  }
 ],
 "metadata": {
  "kernelspec": {
   "display_name": "Python 3 (ipykernel)",
   "language": "python",
   "name": "python3"
  },
  "language_info": {
   "codemirror_mode": {
    "name": "ipython",
    "version": 3
   },
   "file_extension": ".py",
   "mimetype": "text/x-python",
   "name": "python",
   "nbconvert_exporter": "python",
   "pygments_lexer": "ipython3",
   "version": "3.11.9"
  }
 },
 "nbformat": 4,
 "nbformat_minor": 5
}
