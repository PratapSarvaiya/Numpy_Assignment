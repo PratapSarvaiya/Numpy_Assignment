{
 "cells": [
  {
   "cell_type": "code",
   "execution_count": 1,
   "id": "0e74f65a-2138-43cb-91c7-3d6722cefa53",
   "metadata": {},
   "outputs": [
    {
     "data": {
      "text/plain": [
       "50.0"
      ]
     },
     "execution_count": 1,
     "metadata": {},
     "output_type": "execute_result"
    }
   ],
   "source": [
    "100/2"
   ]
  },
  {
   "cell_type": "code",
   "execution_count": 2,
   "id": "230c1316-4f0e-40b8-ab94-2e625141a20c",
   "metadata": {},
   "outputs": [
    {
     "ename": "TypeError",
     "evalue": "unsupported operand type(s) for /: 'int' and 'str'",
     "output_type": "error",
     "traceback": [
      "\u001b[1;31m---------------------------------------------------------------------------\u001b[0m",
      "\u001b[1;31mTypeError\u001b[0m                                 Traceback (most recent call last)",
      "Cell \u001b[1;32mIn[2], line 1\u001b[0m\n\u001b[1;32m----> 1\u001b[0m \u001b[38;5;241;43m100\u001b[39;49m\u001b[38;5;241;43m/\u001b[39;49m\u001b[38;5;124;43m\"\u001b[39;49m\u001b[38;5;124;43mSome string\u001b[39;49m\u001b[38;5;124;43m\"\u001b[39;49m\n",
      "\u001b[1;31mTypeError\u001b[0m: unsupported operand type(s) for /: 'int' and 'str'"
     ]
    }
   ],
   "source": [
    "100/\"Some string\""
   ]
  },
  {
   "cell_type": "code",
   "execution_count": 3,
   "id": "00c25ba5-66b3-465e-94f1-6c47338b0f65",
   "metadata": {},
   "outputs": [
    {
     "ename": "ZeroDivisionError",
     "evalue": "division by zero",
     "output_type": "error",
     "traceback": [
      "\u001b[1;31m---------------------------------------------------------------------------\u001b[0m",
      "\u001b[1;31mZeroDivisionError\u001b[0m                         Traceback (most recent call last)",
      "Cell \u001b[1;32mIn[3], line 1\u001b[0m\n\u001b[1;32m----> 1\u001b[0m \u001b[38;5;241;43m100\u001b[39;49m\u001b[38;5;241;43m/\u001b[39;49m\u001b[38;5;241;43m0\u001b[39;49m\n",
      "\u001b[1;31mZeroDivisionError\u001b[0m: division by zero"
     ]
    }
   ],
   "source": [
    "100/0"
   ]
  },
  {
   "cell_type": "code",
   "execution_count": 4,
   "id": "0f152baf-7fbb-4f02-8164-b3ca9013ba9c",
   "metadata": {},
   "outputs": [
    {
     "name": "stdout",
     "output_type": "stream",
     "text": [
      "There is some error\n"
     ]
    }
   ],
   "source": [
    "try:\n",
    "    10/0\n",
    "except:  # generic exception to print your message\n",
    "    print(\"There is some error\")"
   ]
  },
  {
   "cell_type": "code",
   "execution_count": 5,
   "id": "479fb3d9-bf0a-40f7-8d78-9d80dc55c73c",
   "metadata": {},
   "outputs": [
    {
     "name": "stdout",
     "output_type": "stream",
     "text": [
      "There is some error\n"
     ]
    }
   ],
   "source": [
    "try:\n",
    "    10/\"some string\"\n",
    "except:\n",
    "    print(\"There is some error\")"
   ]
  },
  {
   "cell_type": "code",
   "execution_count": 9,
   "id": "4f9bae7e-03a7-4381-8693-3f65ec56880b",
   "metadata": {},
   "outputs": [
    {
     "name": "stdout",
     "output_type": "stream",
     "text": [
      "There is some error division by zero\n"
     ]
    }
   ],
   "source": [
    "try:\n",
    "    10/0\n",
    "except Exception as e:\n",
    "    print(\"There is some error\",e)"
   ]
  },
  {
   "cell_type": "code",
   "execution_count": null,
   "id": "33f301ae-084d-4720-8207-14ca7d147141",
   "metadata": {},
   "outputs": [],
   "source": [
    "# The above example is of generic exception handling"
   ]
  },
  {
   "cell_type": "code",
   "execution_count": 11,
   "id": "3ac4bc6b-c842-4bcc-8049-e253c392bb6d",
   "metadata": {},
   "outputs": [
    {
     "name": "stdout",
     "output_type": "stream",
     "text": [
      "Here i am handling the zero division error division by zero\n"
     ]
    }
   ],
   "source": [
    "try:\n",
    "    10/0  # suspician\n",
    "except ZeroDivisionError as e:\n",
    "    print(\"Here i am handling the zero division error\",e)"
   ]
  },
  {
   "cell_type": "code",
   "execution_count": null,
   "id": "4c988c92-510d-4e6f-8dad-184cd3a4cc6c",
   "metadata": {},
   "outputs": [],
   "source": [
    "# best practice 1: always catch specific error\n",
    "# specificity in exception handling"
   ]
  },
  {
   "cell_type": "code",
   "execution_count": 13,
   "id": "6103f7d3-60ca-4e60-957c-312c8619e78f",
   "metadata": {},
   "outputs": [
    {
     "name": "stdout",
     "output_type": "stream",
     "text": [
      "Some string is being used in division unsupported operand type(s) for /: 'int' and 'str'\n"
     ]
    }
   ],
   "source": [
    "# another example\n",
    "\n",
    "try:\n",
    "    10/\"some string\"\n",
    "except TypeError as e:\n",
    "    print(\"Some string is being used in division\",e)\n"
   ]
  },
  {
   "cell_type": "code",
   "execution_count": null,
   "id": "2777823e-e03b-462e-b686-594a0504797c",
   "metadata": {},
   "outputs": [],
   "source": [
    "# benefit of handling specific error >>> you know what is executed and if \n",
    "# other error comes which you were not able to think, you be able address that"
   ]
  },
  {
   "cell_type": "code",
   "execution_count": 17,
   "id": "cd5fe830-2d60-4763-89fe-14c52b1b664f",
   "metadata": {},
   "outputs": [
    {
     "name": "stdout",
     "output_type": "stream",
     "text": [
      "Some string is being used in division unsupported operand type(s) for /: 'int' and 'str'\n",
      "The calculation is 3.3333333333333335\n"
     ]
    }
   ],
   "source": [
    "# example of handle some specific exception\n",
    "try:\n",
    "    10/\"3\"\n",
    "except TypeError as e:\n",
    "    print(\"Some string is being used in division\",e)\n",
    "    print(\"The calculation is\",10/int(\"3\"))"
   ]
  },
  {
   "cell_type": "code",
   "execution_count": 3,
   "id": "8c216dcc-d6b1-40db-ae30-e35b209d1ddb",
   "metadata": {},
   "outputs": [
    {
     "name": "stdout",
     "output_type": "stream",
     "text": [
      "Here I am handling the zero division error division by zero\n",
      "since the den value is 0, using default value 1 10.0\n"
     ]
    }
   ],
   "source": [
    "# example of handle some specific exception\n",
    "try:\n",
    "    10/0\n",
    "except ZeroDivisionError as e:\n",
    "    print(\"Here I am handling the zero division error\",e)\n",
    "    print(\"since the den value is 0, using default value 1\",10/1)"
   ]
  },
  {
   "cell_type": "code",
   "execution_count": 5,
   "id": "bb41fe86-7042-4568-8786-eed2d1070dca",
   "metadata": {},
   "outputs": [
    {
     "ename": "ValueError",
     "evalue": "invalid literal for int() with base 10: 'pwskills'",
     "output_type": "error",
     "traceback": [
      "\u001b[1;31m---------------------------------------------------------------------------\u001b[0m",
      "\u001b[1;31mValueError\u001b[0m                                Traceback (most recent call last)",
      "Cell \u001b[1;32mIn[5], line 1\u001b[0m\n\u001b[1;32m----> 1\u001b[0m \u001b[38;5;28;43mint\u001b[39;49m\u001b[43m(\u001b[49m\u001b[38;5;124;43m\"\u001b[39;49m\u001b[38;5;124;43mpwskills\u001b[39;49m\u001b[38;5;124;43m\"\u001b[39;49m\u001b[43m)\u001b[49m\n",
      "\u001b[1;31mValueError\u001b[0m: invalid literal for int() with base 10: 'pwskills'"
     ]
    }
   ],
   "source": [
    "int(\"pwskills\")"
   ]
  },
  {
   "cell_type": "code",
   "execution_count": 6,
   "id": "4494b4a7-9b50-4632-a6b5-c6c77564a7fc",
   "metadata": {},
   "outputs": [
    {
     "name": "stdout",
     "output_type": "stream",
     "text": [
      "The string can not be converted to integer invalid literal for int() with base 10: 'pwskills'\n"
     ]
    }
   ],
   "source": [
    "try:\n",
    "    int(\"pwskills\")\n",
    "except ValueError as e:\n",
    "    print(\"The string can not be converted to integer\",e)"
   ]
  },
  {
   "cell_type": "code",
   "execution_count": 7,
   "id": "5c2fb47a-8253-4b54-9a6b-5976ed87d27e",
   "metadata": {},
   "outputs": [
    {
     "name": "stdout",
     "output_type": "stream",
     "text": [
      "The division is not possible due to error>> unsupported operand type(s) for /: 'int' and 'str'\n"
     ]
    }
   ],
   "source": [
    "# handling two specific exception / multiple exception\n",
    "try:\n",
    "    10/\"3\"\n",
    "except (ZeroDivisionError, TypeError) as e:\n",
    "    print(\"The division is not possible due to error>>\",e)"
   ]
  },
  {
   "cell_type": "code",
   "execution_count": 8,
   "id": "47d54b4e-f875-44a5-a862-941c574fb369",
   "metadata": {},
   "outputs": [
    {
     "name": "stdout",
     "output_type": "stream",
     "text": [
      "The division is not possible due to error>> division by zero\n"
     ]
    }
   ],
   "source": [
    "try:\n",
    "    10/0\n",
    "except (ZeroDivisionError, TypeError) as e:\n",
    "    print(\"The division is not possible due to error>>\",e)"
   ]
  },
  {
   "cell_type": "code",
   "execution_count": 10,
   "id": "0129995f-0f02-4e1e-a27a-404af7a14c59",
   "metadata": {},
   "outputs": [
    {
     "name": "stdout",
     "output_type": "stream",
     "text": [
      "The division is not possible due to error>> division by zero\n"
     ]
    }
   ],
   "source": [
    "# handle multiple exceptions in separate blocks\n",
    "try:\n",
    "    10/0\n",
    "except ZeroDivisionError as e:\n",
    "    print(\"The division is not possible due to error>>\",e)\n",
    "except TypeError as e:\n",
    "    print(\"This is value error\")"
   ]
  },
  {
   "cell_type": "code",
   "execution_count": 11,
   "id": "5ecb7cf6-b41e-45ce-bc1e-0ee472df7c85",
   "metadata": {},
   "outputs": [
    {
     "ename": "TypeError",
     "evalue": "unsupported operand type(s) for /: 'int' and 'str'",
     "output_type": "error",
     "traceback": [
      "\u001b[1;31m---------------------------------------------------------------------------\u001b[0m",
      "\u001b[1;31mTypeError\u001b[0m                                 Traceback (most recent call last)",
      "Cell \u001b[1;32mIn[11], line 1\u001b[0m\n\u001b[1;32m----> 1\u001b[0m \u001b[38;5;241;43m10\u001b[39;49m\u001b[38;5;241;43m/\u001b[39;49m\u001b[38;5;124;43m\"\u001b[39;49m\u001b[38;5;124;43msome string\u001b[39;49m\u001b[38;5;124;43m\"\u001b[39;49m\n",
      "\u001b[1;31mTypeError\u001b[0m: unsupported operand type(s) for /: 'int' and 'str'"
     ]
    }
   ],
   "source": [
    "10/\"some string\""
   ]
  },
  {
   "cell_type": "code",
   "execution_count": 13,
   "id": "f2fdb1da-b165-478b-813d-3ee3d2b2d5ad",
   "metadata": {},
   "outputs": [
    {
     "name": "stdout",
     "output_type": "stream",
     "text": [
      "This is value error unsupported operand type(s) for /: 'int' and 'str'\n"
     ]
    }
   ],
   "source": [
    "try:\n",
    "    10/\"some string\"\n",
    "except ZeroDivisionError as e:\n",
    "    print(\"The division is not possible due to error>>\",e)\n",
    "except TypeError as e:\n",
    "    print(\"This is value error\",e)"
   ]
  },
  {
   "cell_type": "code",
   "execution_count": 14,
   "id": "348950fa-5b1c-477c-8056-c580b981eb34",
   "metadata": {},
   "outputs": [],
   "source": [
    "import csv"
   ]
  },
  {
   "cell_type": "code",
   "execution_count": 15,
   "id": "9ac9b2f5-8cb7-4563-ae6b-41a53473e648",
   "metadata": {},
   "outputs": [
    {
     "ename": "ModuleNotFoundError",
     "evalue": "No module named 'pwskills'",
     "output_type": "error",
     "traceback": [
      "\u001b[1;31m---------------------------------------------------------------------------\u001b[0m",
      "\u001b[1;31mModuleNotFoundError\u001b[0m                       Traceback (most recent call last)",
      "Cell \u001b[1;32mIn[15], line 1\u001b[0m\n\u001b[1;32m----> 1\u001b[0m \u001b[38;5;28;01mimport\u001b[39;00m \u001b[38;5;21;01mpwskills\u001b[39;00m\n",
      "\u001b[1;31mModuleNotFoundError\u001b[0m: No module named 'pwskills'"
     ]
    }
   ],
   "source": [
    "import pwskills"
   ]
  },
  {
   "cell_type": "code",
   "execution_count": 17,
   "id": "1c560bb8-b11f-4e94-86c4-5a1185253bdb",
   "metadata": {},
   "outputs": [
    {
     "name": "stdout",
     "output_type": "stream",
     "text": [
      "The module not found No module named 'pwskills'\n"
     ]
    }
   ],
   "source": [
    "try:\n",
    "    import pwskills\n",
    "except ModuleNotFoundError as e:\n",
    "    print(\"The module not found\",e)"
   ]
  },
  {
   "cell_type": "code",
   "execution_count": 18,
   "id": "c45a5ec4-96d3-40b0-a3ce-e559b4fcb659",
   "metadata": {},
   "outputs": [
    {
     "ename": "NameError",
     "evalue": "name 'test' is not defined",
     "output_type": "error",
     "traceback": [
      "\u001b[1;31m---------------------------------------------------------------------------\u001b[0m",
      "\u001b[1;31mNameError\u001b[0m                                 Traceback (most recent call last)",
      "Cell \u001b[1;32mIn[18], line 1\u001b[0m\n\u001b[1;32m----> 1\u001b[0m \u001b[43mtest\u001b[49m()\n",
      "\u001b[1;31mNameError\u001b[0m: name 'test' is not defined"
     ]
    }
   ],
   "source": [
    "test()"
   ]
  },
  {
   "cell_type": "code",
   "execution_count": 20,
   "id": "a6b295b4-37ad-461e-bc24-bb3433d58339",
   "metadata": {},
   "outputs": [
    {
     "name": "stdout",
     "output_type": "stream",
     "text": [
      "name 'test' is not defined\n"
     ]
    }
   ],
   "source": [
    "try:\n",
    "    test()\n",
    "except NameError as e:\n",
    "    print(e)"
   ]
  },
  {
   "cell_type": "code",
   "execution_count": 21,
   "id": "675347be-a26c-498a-81d0-1f11846ccc94",
   "metadata": {},
   "outputs": [],
   "source": [
    "d = {\"name\":\"Ajay\",\"class\":\"ds\"}"
   ]
  },
  {
   "cell_type": "code",
   "execution_count": 22,
   "id": "fdd3be01-77e0-4e77-8d13-7c6bf7084d62",
   "metadata": {},
   "outputs": [
    {
     "ename": "KeyError",
     "evalue": "'age'",
     "output_type": "error",
     "traceback": [
      "\u001b[1;31m---------------------------------------------------------------------------\u001b[0m",
      "\u001b[1;31mKeyError\u001b[0m                                  Traceback (most recent call last)",
      "Cell \u001b[1;32mIn[22], line 1\u001b[0m\n\u001b[1;32m----> 1\u001b[0m \u001b[43md\u001b[49m\u001b[43m[\u001b[49m\u001b[38;5;124;43m\"\u001b[39;49m\u001b[38;5;124;43mage\u001b[39;49m\u001b[38;5;124;43m\"\u001b[39;49m\u001b[43m]\u001b[49m\n",
      "\u001b[1;31mKeyError\u001b[0m: 'age'"
     ]
    }
   ],
   "source": [
    "d[\"age\"]"
   ]
  },
  {
   "cell_type": "code",
   "execution_count": 24,
   "id": "9e7ff217-13e2-418d-ba94-4b4b2636b9fb",
   "metadata": {},
   "outputs": [
    {
     "name": "stdout",
     "output_type": "stream",
     "text": [
      "The key is not found 'age'\n"
     ]
    }
   ],
   "source": [
    "try:\n",
    "    d = {\"name\":\"Ajay\",\"class\":\"ds\"}\n",
    "    d[\"age\"]\n",
    "except KeyError as e:\n",
    "    print(\"The key is not found\",e)"
   ]
  },
  {
   "cell_type": "code",
   "execution_count": 25,
   "id": "116cc9d9-17c7-4d10-8e10-8a69df6bc895",
   "metadata": {},
   "outputs": [
    {
     "ename": "IndexError",
     "evalue": "list index out of range",
     "output_type": "error",
     "traceback": [
      "\u001b[1;31m---------------------------------------------------------------------------\u001b[0m",
      "\u001b[1;31mIndexError\u001b[0m                                Traceback (most recent call last)",
      "Cell \u001b[1;32mIn[25], line 2\u001b[0m\n\u001b[0;32m      1\u001b[0m l \u001b[38;5;241m=\u001b[39m [\u001b[38;5;241m1\u001b[39m,\u001b[38;5;241m2\u001b[39m,\u001b[38;5;241m3\u001b[39m,\u001b[38;5;241m4\u001b[39m]\n\u001b[1;32m----> 2\u001b[0m \u001b[43ml\u001b[49m\u001b[43m[\u001b[49m\u001b[38;5;241;43m4\u001b[39;49m\u001b[43m]\u001b[49m\n",
      "\u001b[1;31mIndexError\u001b[0m: list index out of range"
     ]
    }
   ],
   "source": [
    "l = [1,2,3,4]\n",
    "l[4]"
   ]
  },
  {
   "cell_type": "code",
   "execution_count": 26,
   "id": "f64fa76e-0280-45f5-8432-3fd4395043d1",
   "metadata": {},
   "outputs": [
    {
     "name": "stdout",
     "output_type": "stream",
     "text": [
      "The index not found list index out of range\n"
     ]
    }
   ],
   "source": [
    "try:\n",
    "    l = [1,2,3,4]\n",
    "    l[4]\n",
    "except IndexError as e:\n",
    "    print(\"The index not found\",e)"
   ]
  },
  {
   "cell_type": "code",
   "execution_count": 27,
   "id": "985c96b2-f29f-4728-962b-f479e09280d8",
   "metadata": {},
   "outputs": [
    {
     "ename": "FileNotFoundError",
     "evalue": "[Errno 2] No such file or directory: 'example4.txt'",
     "output_type": "error",
     "traceback": [
      "\u001b[1;31m---------------------------------------------------------------------------\u001b[0m",
      "\u001b[1;31mFileNotFoundError\u001b[0m                         Traceback (most recent call last)",
      "Cell \u001b[1;32mIn[27], line 1\u001b[0m\n\u001b[1;32m----> 1\u001b[0m f \u001b[38;5;241m=\u001b[39m  \u001b[38;5;28;43mopen\u001b[39;49m\u001b[43m(\u001b[49m\u001b[38;5;124;43m\"\u001b[39;49m\u001b[38;5;124;43mexample4.txt\u001b[39;49m\u001b[38;5;124;43m\"\u001b[39;49m\u001b[43m,\u001b[49m\u001b[38;5;124;43m\"\u001b[39;49m\u001b[38;5;124;43mr\u001b[39;49m\u001b[38;5;124;43m\"\u001b[39;49m\u001b[43m)\u001b[49m\n",
      "File \u001b[1;32m~\\AppData\\Local\\Programs\\Python\\Python311\\Lib\\site-packages\\IPython\\core\\interactiveshell.py:324\u001b[0m, in \u001b[0;36m_modified_open\u001b[1;34m(file, *args, **kwargs)\u001b[0m\n\u001b[0;32m    317\u001b[0m \u001b[38;5;28;01mif\u001b[39;00m file \u001b[38;5;129;01min\u001b[39;00m {\u001b[38;5;241m0\u001b[39m, \u001b[38;5;241m1\u001b[39m, \u001b[38;5;241m2\u001b[39m}:\n\u001b[0;32m    318\u001b[0m     \u001b[38;5;28;01mraise\u001b[39;00m \u001b[38;5;167;01mValueError\u001b[39;00m(\n\u001b[0;32m    319\u001b[0m         \u001b[38;5;124mf\u001b[39m\u001b[38;5;124m\"\u001b[39m\u001b[38;5;124mIPython won\u001b[39m\u001b[38;5;124m'\u001b[39m\u001b[38;5;124mt let you open fd=\u001b[39m\u001b[38;5;132;01m{\u001b[39;00mfile\u001b[38;5;132;01m}\u001b[39;00m\u001b[38;5;124m by default \u001b[39m\u001b[38;5;124m\"\u001b[39m\n\u001b[0;32m    320\u001b[0m         \u001b[38;5;124m\"\u001b[39m\u001b[38;5;124mas it is likely to crash IPython. If you know what you are doing, \u001b[39m\u001b[38;5;124m\"\u001b[39m\n\u001b[0;32m    321\u001b[0m         \u001b[38;5;124m\"\u001b[39m\u001b[38;5;124myou can use builtins\u001b[39m\u001b[38;5;124m'\u001b[39m\u001b[38;5;124m open.\u001b[39m\u001b[38;5;124m\"\u001b[39m\n\u001b[0;32m    322\u001b[0m     )\n\u001b[1;32m--> 324\u001b[0m \u001b[38;5;28;01mreturn\u001b[39;00m \u001b[43mio_open\u001b[49m\u001b[43m(\u001b[49m\u001b[43mfile\u001b[49m\u001b[43m,\u001b[49m\u001b[43m \u001b[49m\u001b[38;5;241;43m*\u001b[39;49m\u001b[43margs\u001b[49m\u001b[43m,\u001b[49m\u001b[43m \u001b[49m\u001b[38;5;241;43m*\u001b[39;49m\u001b[38;5;241;43m*\u001b[39;49m\u001b[43mkwargs\u001b[49m\u001b[43m)\u001b[49m\n",
      "\u001b[1;31mFileNotFoundError\u001b[0m: [Errno 2] No such file or directory: 'example4.txt'"
     ]
    }
   ],
   "source": [
    "f =  open(\"example4.txt\",\"r\")"
   ]
  },
  {
   "cell_type": "code",
   "execution_count": 28,
   "id": "d5efe8c0-2ca0-4461-b8d2-38ccbc027797",
   "metadata": {},
   "outputs": [
    {
     "name": "stdout",
     "output_type": "stream",
     "text": [
      "The following file was not created, please re run the code [Errno 2] No such file or directory: 'example4.txt'\n"
     ]
    }
   ],
   "source": [
    "try:\n",
    "    f = open(\"example4.txt\",\"r\")\n",
    "    f.read\n",
    "except FileNotFoundError as e:\n",
    "    print(\"The following file was not created, please re run the code\",e)"
   ]
  },
  {
   "cell_type": "code",
   "execution_count": 30,
   "id": "9d8e781d-86c3-477f-bed9-345f001e51e0",
   "metadata": {},
   "outputs": [
    {
     "name": "stdout",
     "output_type": "stream",
     "text": [
      "first msg---File is not opened due to [Errno 2] No such file or directory: 'example4.txt'\n"
     ]
    }
   ],
   "source": [
    "# sometimes you will not know what could be the possible exceptions\n",
    "try:\n",
    "    f = open(\"example4.txt\",\"r\")\n",
    "    f.read\n",
    "except Exception as e:\n",
    "    print(\"first msg---File is not opened due to\",e) # parent class\n",
    "except FileNotFoundError as e:\n",
    "    print(\"The following file was not created, please re run the code\",e)"
   ]
  },
  {
   "cell_type": "code",
   "execution_count": 31,
   "id": "6fcb276e-8571-4dc8-9567-9ca902f51d03",
   "metadata": {},
   "outputs": [
    {
     "name": "stdout",
     "output_type": "stream",
     "text": [
      "The following file was not created, please re run the code [Errno 2] No such file or directory: 'example4.txt'\n"
     ]
    }
   ],
   "source": [
    "# best practice\n",
    "# in case you know specific exception keep that block first and block of generic exception after taht\n",
    "try:\n",
    "    f = open(\"example4.txt\",\"r\")\n",
    "    f.read\n",
    "except FileNotFoundError as e:\n",
    "    print(\"The following file was not created, please re run the code\",e)\n",
    "except Exception as e:\n",
    "    print(\"first msg---File is not opened due to\",e) # parent class"
   ]
  },
  {
   "cell_type": "code",
   "execution_count": 32,
   "id": "3bd67de5-6ab2-4974-accd-e3ed371439ac",
   "metadata": {},
   "outputs": [
    {
     "name": "stdout",
     "output_type": "stream",
     "text": [
      "This is value error unsupported operand type(s) for /: 'int' and 'str'\n"
     ]
    }
   ],
   "source": [
    "# another rexample of above case\n",
    "try:\n",
    "    10/\"string\"\n",
    "except ZeroDivisionError as e:\n",
    "    print(\"The division is not possible due to error>>\",e)\n",
    "except TypeError as e:\n",
    "    print(\"This is value error\",e)"
   ]
  },
  {
   "cell_type": "code",
   "execution_count": 34,
   "id": "5dac93dc-0a68-4699-b6e4-cd267b018e68",
   "metadata": {},
   "outputs": [],
   "source": [
    "# best practice >> always try to log\n",
    "\n",
    "import logging\n",
    "logging.basicConfig(filename = \"program.log\",level = logging.DEBUG)\n",
    "try:\n",
    "    f = open(\"example4.txt\",\"r\")\n",
    "    f.read\n",
    "except FileNotFoundError as e:\n",
    "    logging.error(f\"My file was not found{e}\")"
   ]
  },
  {
   "cell_type": "code",
   "execution_count": 1,
   "id": "699b05af-d812-4219-97bb-947813a5fc56",
   "metadata": {},
   "outputs": [],
   "source": [
    "import logging\n",
    "logging.basicConfig(filename = \"program1.log\",level = logging.DEBUG)\n",
    "try:\n",
    "    10/0\n",
    "except ZeroDivisionError as e:\n",
    "    logging.error(f\"My file was not found{e}\")"
   ]
  },
  {
   "cell_type": "code",
   "execution_count": 6,
   "id": "5da99b14-d555-4bd4-874e-dacde97c6d14",
   "metadata": {},
   "outputs": [],
   "source": [
    "# putting exception handling in a function\n",
    "def test(file):\n",
    "    try:\n",
    "        f = open(file,\"r\")\n",
    "        f.read\n",
    "    except FileNotFoundError as e:\n",
    "        print(f\"My file was not found{e}\")"
   ]
  },
  {
   "cell_type": "code",
   "execution_count": 9,
   "id": "f646537c-7cac-455f-8a00-4d7a1d9fa2ab",
   "metadata": {},
   "outputs": [
    {
     "name": "stdout",
     "output_type": "stream",
     "text": [
      "My file was not found[Errno 2] No such file or directory: 'example5.txt'\n"
     ]
    }
   ],
   "source": [
    "test(\"example5.txt\")"
   ]
  },
  {
   "cell_type": "code",
   "execution_count": 10,
   "id": "8f9ecc6a-b1c0-4bb8-8a22-e989c5c5e255",
   "metadata": {},
   "outputs": [
    {
     "name": "stdout",
     "output_type": "stream",
     "text": [
      "The division is not possible due to error>> division by zero\n"
     ]
    }
   ],
   "source": [
    "# do not try to use unnecessary exception/multiple exception\n",
    "# example: file not found exception is never possible in division\n",
    "# so no point to handle file not found error here\n",
    "# instead you can handle typeError or generic exception class\n",
    "try:\n",
    "    10/0\n",
    "except ZeroDivisionError as e:\n",
    "    print(\"The division is not possible due to error>>\",e)\n",
    "except Exception as e:\n",
    "    print(\"This is value error\",e)"
   ]
  },
  {
   "cell_type": "code",
   "execution_count": 11,
   "id": "c0689bb5-57dc-42bb-86d5-ee700937aee8",
   "metadata": {},
   "outputs": [],
   "source": [
    "# zero division error doesn't make any sense here\n",
    "def test(file):\n",
    "    try:\n",
    "        f = open(file,\"r\")\n",
    "        f.read\n",
    "    except FileNotFoundError as e:\n",
    "        print(f\"My file was not found{e}\")\n",
    "    except ZeroDivisionError as e:  # unnecesary\n",
    "        print(\"The division is not possible due to error>>\",e)"
   ]
  },
  {
   "cell_type": "code",
   "execution_count": 12,
   "id": "db28b386-964e-4f44-850b-10bf3d1d64f4",
   "metadata": {},
   "outputs": [
    {
     "name": "stdout",
     "output_type": "stream",
     "text": [
      "My file was not found[Errno 2] No such file or directory: 'example5.txt'\n"
     ]
    }
   ],
   "source": [
    "test(\"example5.txt\")"
   ]
  },
  {
   "cell_type": "code",
   "execution_count": 14,
   "id": "41dc02ee-7528-4285-91bc-a0a1b2398a58",
   "metadata": {},
   "outputs": [],
   "source": [
    "# best practice : give proper documentation in docstring/proper comments in your code\n",
    "def test(file):\n",
    "    \"\"\"\n",
    "    this function is about is reading a file.\n",
    "\n",
    "    Args:\n",
    "        input:file(str)\n",
    "        output: text(str)\n",
    "    \"\"\"\n",
    "    try:\n",
    "        f = open(file,\"r\")\n",
    "        f.read\n",
    "    except FileNotFoundError as e:\n",
    "        print(f\"My file was not found{e}\")\n",
    "        # # unnecesary exception\n",
    "    except ZeroDivisionError as e:  \n",
    "        print(\"The division is not possible due to error>>\",e)"
   ]
  },
  {
   "cell_type": "code",
   "execution_count": 15,
   "id": "61bc74ee-10ed-4b2e-90fb-e91dd2fdbc44",
   "metadata": {},
   "outputs": [
    {
     "name": "stdout",
     "output_type": "stream",
     "text": [
      "My file was not found[Errno 2] No such file or directory: 'example5.txt'\n"
     ]
    }
   ],
   "source": [
    "test(\"example5.txt\")"
   ]
  },
  {
   "cell_type": "code",
   "execution_count": 22,
   "id": "32992cc8-1cb3-4ab1-9f1b-367a54fb8071",
   "metadata": {},
   "outputs": [],
   "source": [
    "# best practice >> always clean up the resources using finally\n",
    "\n",
    "def test(file):\n",
    "    \"\"\"\n",
    "    this function is about is reading a file.\n",
    "\n",
    "    Args:\n",
    "        input:file(str)\n",
    "        output: text(str)\n",
    "    \"\"\"\n",
    "    try:\n",
    "        f = open(file,\"w\")\n",
    "        f.write(\"Anything being written\")\n",
    "    except FileNotFoundError as e:\n",
    "        print(f\"My file was not found{e}\")\n",
    "    finally:\n",
    "        f.close()"
   ]
  },
  {
   "cell_type": "code",
   "execution_count": 23,
   "id": "d65ba783-1cf2-4fdf-b550-74b30d07112a",
   "metadata": {},
   "outputs": [],
   "source": [
    "test(\"example5.txt\")"
   ]
  }
 ],
 "metadata": {
  "kernelspec": {
   "display_name": "Python 3 (ipykernel)",
   "language": "python",
   "name": "python3"
  },
  "language_info": {
   "codemirror_mode": {
    "name": "ipython",
    "version": 3
   },
   "file_extension": ".py",
   "mimetype": "text/x-python",
   "name": "python",
   "nbconvert_exporter": "python",
   "pygments_lexer": "ipython3",
   "version": "3.11.9"
  }
 },
 "nbformat": 4,
 "nbformat_minor": 5
}
