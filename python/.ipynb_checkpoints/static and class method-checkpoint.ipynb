{
 "cells": [
  {
   "cell_type": "code",
   "execution_count": null,
   "id": "b2862253-14ce-4422-904e-996a0a344c81",
   "metadata": {},
   "outputs": [],
   "source": [
    "# class methods >> bound to the class (and not to a particular instance of the class), access/modify methods and attributes associated to the class across all the instances\n",
    "# @classmethod decorator\n",
    "# instead of self,cls as first parameter\n",
    "# alternative of init method to pass the data"
   ]
  },
  {
   "cell_type": "code",
   "execution_count": 1,
   "id": "0bac8ce5-2214-4580-8a4f-81450e7db4e1",
   "metadata": {},
   "outputs": [],
   "source": [
    "class Student:\n",
    "    # constructor >> constructing class with initialisation of variable/data\n",
    "    def __init__(self,name):\n",
    "        self.name = name"
   ]
  },
  {
   "cell_type": "code",
   "execution_count": 2,
   "id": "5506e592-c741-447e-9b93-d293000424e5",
   "metadata": {},
   "outputs": [],
   "source": [
    "obj = Student(\"Ajay\")"
   ]
  },
  {
   "cell_type": "code",
   "execution_count": 3,
   "id": "8a03fdec-7636-4557-87d3-8fd582fe8873",
   "metadata": {},
   "outputs": [
    {
     "data": {
      "text/plain": [
       "'Ajay'"
      ]
     },
     "execution_count": 3,
     "metadata": {},
     "output_type": "execute_result"
    }
   ],
   "source": [
    "obj.name"
   ]
  },
  {
   "cell_type": "code",
   "execution_count": 1,
   "id": "0053e695-874b-4cbc-af6b-76b8ff286b3e",
   "metadata": {},
   "outputs": [],
   "source": [
    "class Student:\n",
    "   \n",
    "    def __init__(self,name):\n",
    "        self.name = name  # self means this variable/method is refering to current instance of the class\n",
    "        \n",
    "    @classmethod # bound/binds to the class\n",
    "    def student_details(cls,name): # instead of self as first parameter,you are using cls >> meaning this method is associated/referring to the class itself  \n",
    "        return cls(name)"
   ]
  },
  {
   "cell_type": "code",
   "execution_count": null,
   "id": "1f035508-71f9-4156-b240-5758f130a135",
   "metadata": {},
   "outputs": [],
   "source": [
    "# what is meaning that it is referring the class?\n",
    "# earlier to access any method/attribute >> first make instance/object of class\n",
    "#then obj.attribute\n",
    "# but if it is class method you can directly access it"
   ]
  },
  {
   "cell_type": "code",
   "execution_count": 4,
   "id": "0f8ebd98-73ea-4a0b-a439-8fdde9fe47b4",
   "metadata": {},
   "outputs": [],
   "source": [
    "obj1 = Student.student_details(\"Pratap\") # since student_details directly binds to the class you can directly call it without making any object"
   ]
  },
  {
   "cell_type": "code",
   "execution_count": 5,
   "id": "3fb9607d-094e-4527-9344-482dbda39d22",
   "metadata": {},
   "outputs": [
    {
     "data": {
      "text/plain": [
       "'Pratap'"
      ]
     },
     "execution_count": 5,
     "metadata": {},
     "output_type": "execute_result"
    }
   ],
   "source": [
    "obj1.name"
   ]
  },
  {
   "cell_type": "code",
   "execution_count": null,
   "id": "55eb8b53-251f-4f2c-9b19-5f1d05ccaa5a",
   "metadata": {},
   "outputs": [],
   "source": [
    "# seeing class method as alternative of init method >> actually class method is overloading the init method"
   ]
  },
  {
   "cell_type": "code",
   "execution_count": 8,
   "id": "dcdaeeb2-c63b-4f6d-be73-39160027fb7e",
   "metadata": {},
   "outputs": [],
   "source": [
    "# how class methodis overloading the init method\n",
    "# modifying the instance method\n",
    "class Student:\n",
    "   \n",
    "    def __init__(self,name): # init method is an instance method\n",
    "        self.name = name  \n",
    "    @classmethod \n",
    "    def student_details(cls,name1):   \n",
    "        return cls(name1)"
   ]
  },
  {
   "cell_type": "code",
   "execution_count": 9,
   "id": "43c9350f-22fd-4907-a8b3-c21a9619c728",
   "metadata": {},
   "outputs": [],
   "source": [
    "stud = Student.student_details(\"pratap\")"
   ]
  },
  {
   "cell_type": "code",
   "execution_count": 10,
   "id": "c3b7ba0a-82a1-4d76-b5fe-9ea7d3091c72",
   "metadata": {},
   "outputs": [
    {
     "data": {
      "text/plain": [
       "'pratap'"
      ]
     },
     "execution_count": 10,
     "metadata": {},
     "output_type": "execute_result"
    }
   ],
   "source": [
    "stud.name\n",
    "\n",
    "# you will get ajay inspite the variable name"
   ]
  },
  {
   "cell_type": "code",
   "execution_count": 27,
   "id": "96e79a88-013e-472e-92a3-2579451a8974",
   "metadata": {},
   "outputs": [],
   "source": [
    "# class method can modify class state applicable to all the instance of the class\n",
    "\n",
    "class Student:\n",
    "\n",
    "    total_students = 0  # class variable\n",
    "    def __init__(self,name):  # instance method\n",
    "        self.name = name   # instance variable\n",
    "        Student.total_students = Student.total_students+1  # total_student is the class variable associated with all the instances\n",
    "    @classmethod\n",
    "    def get_total_students(cls):\n",
    "        return cls.total_students"
   ]
  },
  {
   "cell_type": "code",
   "execution_count": 28,
   "id": "f3b92ac9-6e85-41e7-8838-31122d93c1f3",
   "metadata": {},
   "outputs": [
    {
     "data": {
      "text/plain": [
       "0"
      ]
     },
     "execution_count": 28,
     "metadata": {},
     "output_type": "execute_result"
    }
   ],
   "source": [
    "Student.total_students"
   ]
  },
  {
   "cell_type": "code",
   "execution_count": 30,
   "id": "b7d71ac2-07f7-4a64-86a6-a1c7ed207fb1",
   "metadata": {},
   "outputs": [],
   "source": [
    "stud1 = Student(\"pratap\")\n",
    "stud2 = Student(\"spratap\")"
   ]
  },
  {
   "cell_type": "code",
   "execution_count": 31,
   "id": "6c5c6908-aaaf-40af-9d6d-89d6d5d9105e",
   "metadata": {},
   "outputs": [
    {
     "data": {
      "text/plain": [
       "'pratap'"
      ]
     },
     "execution_count": 31,
     "metadata": {},
     "output_type": "execute_result"
    }
   ],
   "source": [
    "stud1.name"
   ]
  },
  {
   "cell_type": "code",
   "execution_count": 32,
   "id": "0e42e308-f080-4ac4-94cb-2c6d8fc02c51",
   "metadata": {},
   "outputs": [
    {
     "data": {
      "text/plain": [
       "'spratap'"
      ]
     },
     "execution_count": 32,
     "metadata": {},
     "output_type": "execute_result"
    }
   ],
   "source": [
    "stud2.name"
   ]
  },
  {
   "cell_type": "code",
   "execution_count": 33,
   "id": "71e6ea02-f717-4cdd-b07c-8cf336cea8b8",
   "metadata": {},
   "outputs": [
    {
     "data": {
      "text/plain": [
       "2"
      ]
     },
     "execution_count": 33,
     "metadata": {},
     "output_type": "execute_result"
    }
   ],
   "source": [
    "Student.total_students"
   ]
  },
  {
   "cell_type": "code",
   "execution_count": 35,
   "id": "7dbd4fd2-3ed3-48b5-9397-c6a4d97b64af",
   "metadata": {},
   "outputs": [
    {
     "data": {
      "text/plain": [
       "2"
      ]
     },
     "execution_count": 35,
     "metadata": {},
     "output_type": "execute_result"
    }
   ],
   "source": [
    "Student.get_total_students()  # class method can modify class state applicable to all the instance of the class\n",
    "# thats why you see increase in the count"
   ]
  },
  {
   "cell_type": "code",
   "execution_count": 36,
   "id": "7c651141-cffc-46a7-b393-9813dd810578",
   "metadata": {},
   "outputs": [],
   "source": [
    "# To make external function as class method\n",
    "\n",
    "class Student:\n",
    "\n",
    "    total_students = 0  # class variable\n",
    "    def __init__(self,name):  # instance method\n",
    "        self.name = name   # instance variable\n",
    "        Student.total_students = Student.total_students+1  # total_student is the class variable associated with all the instances\n",
    "    @classmethod\n",
    "    def get_total_students(cls):\n",
    "        return cls.total_students"
   ]
  },
  {
   "cell_type": "code",
   "execution_count": 37,
   "id": "d6d4f2f5-8ffa-46b9-8568-ec6fb316531f",
   "metadata": {},
   "outputs": [],
   "source": [
    "def course_details(cls,course_name):\n",
    "    print(\"The details of the course are:\", course_name)"
   ]
  },
  {
   "cell_type": "code",
   "execution_count": 38,
   "id": "a270faf7-1d2b-4201-836b-a8814533d89d",
   "metadata": {},
   "outputs": [],
   "source": [
    "Student.course_details = classmethod(course_details) # adding external function as class method"
   ]
  },
  {
   "cell_type": "code",
   "execution_count": 39,
   "id": "ec013ce4-8ceb-4092-9e1d-a8a751cad60d",
   "metadata": {},
   "outputs": [
    {
     "name": "stdout",
     "output_type": "stream",
     "text": [
      "The details of the course are: Data science\n"
     ]
    }
   ],
   "source": [
    "Student.course_details(\"Data science\")"
   ]
  },
  {
   "cell_type": "code",
   "execution_count": 40,
   "id": "a6f72a16-8e32-4293-b781-dd92e2b5e48d",
   "metadata": {},
   "outputs": [
    {
     "ename": "SyntaxError",
     "evalue": "cannot delete function call (2625634654.py, line 2)",
     "output_type": "error",
     "traceback": [
      "\u001b[1;36m  Cell \u001b[1;32mIn[40], line 2\u001b[1;36m\u001b[0m\n\u001b[1;33m    del Student.course_details(\"Data Science\")  # this will throw an error as you have deleted this method\u001b[0m\n\u001b[1;37m        ^\u001b[0m\n\u001b[1;31mSyntaxError\u001b[0m\u001b[1;31m:\u001b[0m cannot delete function call\n"
     ]
    }
   ],
   "source": [
    "# delete any class method\n",
    "del Student.course_details(\"Data Science\")  # this will throw an error as you have deleted this method "
   ]
  },
  {
   "cell_type": "code",
   "execution_count": 41,
   "id": "02c29571-2b1f-4a91-b33d-ccbac41bf9f3",
   "metadata": {},
   "outputs": [
    {
     "data": {
      "text/plain": [
       "0"
      ]
     },
     "execution_count": 41,
     "metadata": {},
     "output_type": "execute_result"
    }
   ],
   "source": [
    "Student.get_total_students()"
   ]
  },
  {
   "cell_type": "code",
   "execution_count": 43,
   "id": "641a086b-a5d3-4553-820a-914739861af9",
   "metadata": {},
   "outputs": [
    {
     "ename": "AttributeError",
     "evalue": "type object 'Student' has no attribute 'get_total_students'",
     "output_type": "error",
     "traceback": [
      "\u001b[1;31m---------------------------------------------------------------------------\u001b[0m",
      "\u001b[1;31mAttributeError\u001b[0m                            Traceback (most recent call last)",
      "Cell \u001b[1;32mIn[43], line 2\u001b[0m\n\u001b[0;32m      1\u001b[0m \u001b[38;5;66;03m# another way to delete\u001b[39;00m\n\u001b[1;32m----> 2\u001b[0m \u001b[38;5;28;43mdelattr\u001b[39;49m\u001b[43m(\u001b[49m\u001b[43mStudent\u001b[49m\u001b[43m,\u001b[49m\u001b[38;5;124;43m\"\u001b[39;49m\u001b[38;5;124;43mget_total_students\u001b[39;49m\u001b[38;5;124;43m\"\u001b[39;49m\u001b[43m)\u001b[49m \u001b[38;5;66;03m# error\u001b[39;00m\n",
      "\u001b[1;31mAttributeError\u001b[0m: type object 'Student' has no attribute 'get_total_students'"
     ]
    }
   ],
   "source": [
    "# another way to delete\n",
    "delattr(Student,\"get_total_students\") # error"
   ]
  },
  {
   "cell_type": "code",
   "execution_count": 44,
   "id": "ac0075c7-9810-40d2-856d-e8da113eb606",
   "metadata": {},
   "outputs": [
    {
     "ename": "AttributeError",
     "evalue": "type object 'Student' has no attribute 'get_total_students'",
     "output_type": "error",
     "traceback": [
      "\u001b[1;31m---------------------------------------------------------------------------\u001b[0m",
      "\u001b[1;31mAttributeError\u001b[0m                            Traceback (most recent call last)",
      "Cell \u001b[1;32mIn[44], line 1\u001b[0m\n\u001b[1;32m----> 1\u001b[0m \u001b[43mStudent\u001b[49m\u001b[38;5;241;43m.\u001b[39;49m\u001b[43mget_total_students\u001b[49m()\n",
      "\u001b[1;31mAttributeError\u001b[0m: type object 'Student' has no attribute 'get_total_students'"
     ]
    }
   ],
   "source": [
    "Student.get_total_students()  # error"
   ]
  },
  {
   "cell_type": "code",
   "execution_count": null,
   "id": "6484c2b5-0acd-43f7-b615-8597c5d583c0",
   "metadata": {},
   "outputs": [],
   "source": [
    "# Static method\n",
    "# doesnot modify class or instance state, doesnot depend on class/instance\n",
    "# doesnot access instance or class state\n",
    "# doesnot depend on class/instance\n",
    "# it behaves like a plain function that belongs to class\n",
    "#it doesn't take either self or cls\n",
    "# Static method is used\n",
    "#works with parameter"
   ]
  },
  {
   "cell_type": "code",
   "execution_count": 45,
   "id": "6a24daa3-ac80-4b5a-8f1e-7f59c0a9908b",
   "metadata": {},
   "outputs": [],
   "source": [
    "class Calculator:\n",
    "\n",
    "    @staticmethod\n",
    "    def add(x,y):\n",
    "        return x+y\n",
    "\n",
    "    @staticmethod\n",
    "    def subtract(x,y):\n",
    "        return x-y"
   ]
  },
  {
   "cell_type": "code",
   "execution_count": 46,
   "id": "fadb8404-0019-4415-894b-cd688fc76f3e",
   "metadata": {},
   "outputs": [
    {
     "data": {
      "text/plain": [
       "7"
      ]
     },
     "execution_count": 46,
     "metadata": {},
     "output_type": "execute_result"
    }
   ],
   "source": [
    "Calculator.add(3,4)"
   ]
  },
  {
   "cell_type": "code",
   "execution_count": 48,
   "id": "bd0b2df3-d16c-4cf2-b89c-ba32c3a6acd5",
   "metadata": {},
   "outputs": [
    {
     "data": {
      "text/plain": [
       "-1"
      ]
     },
     "execution_count": 48,
     "metadata": {},
     "output_type": "execute_result"
    }
   ],
   "source": [
    "Calculator.subtract(3,4)"
   ]
  },
  {
   "cell_type": "code",
   "execution_count": null,
   "id": "0fcb805b-1c3a-4b03-934a-9c12a8b3241f",
   "metadata": {},
   "outputs": [],
   "source": []
  },
  {
   "cell_type": "code",
   "execution_count": null,
   "id": "88a9c755-a7c5-432b-aa00-b570411e6720",
   "metadata": {},
   "outputs": [],
   "source": []
  },
  {
   "cell_type": "code",
   "execution_count": null,
   "id": "c6b5a429-22b8-49b8-87ed-2c5f1adc95f9",
   "metadata": {},
   "outputs": [],
   "source": []
  },
  {
   "cell_type": "code",
   "execution_count": null,
   "id": "7e07429a-33d7-492c-b39f-be92ac246dfd",
   "metadata": {},
   "outputs": [],
   "source": []
  },
  {
   "cell_type": "code",
   "execution_count": null,
   "id": "65b8dba3-c3cf-468d-8869-22cd5504cece",
   "metadata": {},
   "outputs": [],
   "source": []
  },
  {
   "cell_type": "code",
   "execution_count": null,
   "id": "28d4d3d8-bf37-465a-92b3-0cf772c2ed8d",
   "metadata": {},
   "outputs": [],
   "source": []
  },
  {
   "cell_type": "code",
   "execution_count": null,
   "id": "7fa76dee-cf22-4a55-96c9-82e30f188b92",
   "metadata": {},
   "outputs": [],
   "source": []
  },
  {
   "cell_type": "code",
   "execution_count": null,
   "id": "dbf8f263-b3d5-41b1-b1b8-eb8f5013d350",
   "metadata": {},
   "outputs": [],
   "source": []
  },
  {
   "cell_type": "code",
   "execution_count": null,
   "id": "1a2a04b2-8bd8-443e-8449-7efd4ad2c629",
   "metadata": {},
   "outputs": [],
   "source": []
  },
  {
   "cell_type": "code",
   "execution_count": null,
   "id": "4e36af4d-ba98-451c-a503-19ff873f9005",
   "metadata": {},
   "outputs": [],
   "source": []
  },
  {
   "cell_type": "code",
   "execution_count": null,
   "id": "815e5d94-c15a-4e75-a618-fc1656569c2f",
   "metadata": {},
   "outputs": [],
   "source": []
  },
  {
   "cell_type": "code",
   "execution_count": null,
   "id": "416d481b-fbf6-4cf8-b5c3-7be222ebb029",
   "metadata": {},
   "outputs": [],
   "source": []
  },
  {
   "cell_type": "code",
   "execution_count": null,
   "id": "f92e7598-690c-4cfe-b0e2-ae311fe2f85b",
   "metadata": {},
   "outputs": [],
   "source": []
  },
  {
   "cell_type": "code",
   "execution_count": null,
   "id": "bcf5eb66-5431-42b0-89ca-60107ca22175",
   "metadata": {},
   "outputs": [],
   "source": []
  },
  {
   "cell_type": "code",
   "execution_count": null,
   "id": "b7067427-d54e-4c6f-8209-14a86497b326",
   "metadata": {},
   "outputs": [],
   "source": []
  },
  {
   "cell_type": "code",
   "execution_count": null,
   "id": "00ed353c-c68a-4bf0-bebc-f58be6ab177e",
   "metadata": {},
   "outputs": [],
   "source": []
  },
  {
   "cell_type": "code",
   "execution_count": null,
   "id": "325aba7e-8dad-4cd8-bdb2-876f16a9b29e",
   "metadata": {},
   "outputs": [],
   "source": []
  },
  {
   "cell_type": "code",
   "execution_count": null,
   "id": "37403a4b-56f0-44bf-b98d-8850d390e2b1",
   "metadata": {},
   "outputs": [],
   "source": []
  },
  {
   "cell_type": "code",
   "execution_count": null,
   "id": "83c3dc84-8013-4f09-b14a-35a51d403ece",
   "metadata": {},
   "outputs": [],
   "source": []
  },
  {
   "cell_type": "code",
   "execution_count": null,
   "id": "f8481c46-480b-43e2-93e9-675c3a31656b",
   "metadata": {},
   "outputs": [],
   "source": []
  },
  {
   "cell_type": "code",
   "execution_count": null,
   "id": "6e70087c-4057-483e-b91a-c564e5f1d39f",
   "metadata": {},
   "outputs": [],
   "source": []
  },
  {
   "cell_type": "code",
   "execution_count": null,
   "id": "629dac51-826e-4b66-8e30-8a8aaf5d2fa8",
   "metadata": {},
   "outputs": [],
   "source": []
  },
  {
   "cell_type": "code",
   "execution_count": null,
   "id": "d3d1a756-d0e1-45b0-ba59-9809a3daa601",
   "metadata": {},
   "outputs": [],
   "source": []
  },
  {
   "cell_type": "code",
   "execution_count": null,
   "id": "96c6deca-bd8e-4c6c-abb0-c8fbc4c41565",
   "metadata": {},
   "outputs": [],
   "source": []
  },
  {
   "cell_type": "code",
   "execution_count": null,
   "id": "65b3ea0a-df3a-44c6-bf86-aaebfb481f04",
   "metadata": {},
   "outputs": [],
   "source": []
  },
  {
   "cell_type": "code",
   "execution_count": null,
   "id": "f3784943-45f9-418b-a126-8f27a34d9a11",
   "metadata": {},
   "outputs": [],
   "source": []
  }
 ],
 "metadata": {
  "kernelspec": {
   "display_name": "Python 3 (ipykernel)",
   "language": "python",
   "name": "python3"
  },
  "language_info": {
   "codemirror_mode": {
    "name": "ipython",
    "version": 3
   },
   "file_extension": ".py",
   "mimetype": "text/x-python",
   "name": "python",
   "nbconvert_exporter": "python",
   "pygments_lexer": "ipython3",
   "version": "3.11.9"
  }
 },
 "nbformat": 4,
 "nbformat_minor": 5
}
