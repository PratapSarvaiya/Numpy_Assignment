{
 "cells": [
  {
   "cell_type": "code",
   "execution_count": null,
   "id": "c8024fe3-d1e5-4d53-af51-b74b6430ed53",
   "metadata": {},
   "outputs": [],
   "source": [
    "# Inheritance >> refers to the process of child class receiving the properties of parent class\n",
    "# Syntax\n",
    "class BaseClass:\n",
    "    body of base class\n",
    "class DerivedClass(BaseClass):\n",
    "    body of derived class"
   ]
  },
  {
   "cell_type": "code",
   "execution_count": null,
   "id": "b7617dcb-8894-4ef3-be3f-2164443d02b0",
   "metadata": {},
   "outputs": [],
   "source": [
    "# single inheritance >> when a derived class has only one parent class"
   ]
  },
  {
   "cell_type": "code",
   "execution_count": 1,
   "id": "4a0deede-aede-49f0-b0d1-19caf6119f4a",
   "metadata": {},
   "outputs": [],
   "source": [
    "# example\n",
    "class Father:\n",
    "    def father_property(self):\n",
    "        print(\"This is the father property\")"
   ]
  },
  {
   "cell_type": "code",
   "execution_count": 2,
   "id": "6ae9a4f3-e40a-40f8-89a4-3b0b0cc98b23",
   "metadata": {},
   "outputs": [],
   "source": [
    "class Son(Father):\n",
    "    def job(self):\n",
    "        print(\"son has property from job\")"
   ]
  },
  {
   "cell_type": "code",
   "execution_count": 3,
   "id": "3f1ed8dd-ab75-455e-8d00-bf93f1f0166a",
   "metadata": {},
   "outputs": [],
   "source": [
    "child_obj = Son()  # object/instance of son class"
   ]
  },
  {
   "cell_type": "code",
   "execution_count": 4,
   "id": "3fd043ce-22cf-4bf7-9c47-9dd8047f50fe",
   "metadata": {},
   "outputs": [
    {
     "name": "stdout",
     "output_type": "stream",
     "text": [
      "son has property from job\n"
     ]
    }
   ],
   "source": [
    "# A child can have his property and also his father property\n",
    "child_obj.job()"
   ]
  },
  {
   "cell_type": "code",
   "execution_count": 5,
   "id": "4980b392-a6c4-4677-be32-fb4118876943",
   "metadata": {},
   "outputs": [
    {
     "name": "stdout",
     "output_type": "stream",
     "text": [
      "This is the father property\n"
     ]
    }
   ],
   "source": [
    "child_obj.father_property()"
   ]
  },
  {
   "cell_type": "code",
   "execution_count": 6,
   "id": "40587acc-c2f7-476c-bb7c-2941a3c719db",
   "metadata": {},
   "outputs": [
    {
     "name": "stdout",
     "output_type": "stream",
     "text": [
      "This is the father property\n"
     ]
    }
   ],
   "source": [
    "# A father will have only his property\n",
    "father_obj = Father()\n",
    "father_obj.father_property()"
   ]
  },
  {
   "cell_type": "code",
   "execution_count": 7,
   "id": "b5cfbad8-6ebd-4635-879e-12e293730075",
   "metadata": {},
   "outputs": [
    {
     "ename": "AttributeError",
     "evalue": "'Father' object has no attribute 'job'",
     "output_type": "error",
     "traceback": [
      "\u001b[1;31m---------------------------------------------------------------------------\u001b[0m",
      "\u001b[1;31mAttributeError\u001b[0m                            Traceback (most recent call last)",
      "Cell \u001b[1;32mIn[7], line 1\u001b[0m\n\u001b[1;32m----> 1\u001b[0m \u001b[43mfather_obj\u001b[49m\u001b[38;5;241;43m.\u001b[39;49m\u001b[43mjob\u001b[49m()\n",
      "\u001b[1;31mAttributeError\u001b[0m: 'Father' object has no attribute 'job'"
     ]
    }
   ],
   "source": [
    "father_obj.job()  # it will throw an error"
   ]
  },
  {
   "cell_type": "code",
   "execution_count": null,
   "id": "29cedd50-347c-4f50-b583-025c1631362b",
   "metadata": {},
   "outputs": [],
   "source": [
    "# parent class will not have access to the property(method/attribute) of child class will have access to both "
   ]
  },
  {
   "cell_type": "code",
   "execution_count": 9,
   "id": "3bd399a7-aa20-423a-bf75-247c6f4361f9",
   "metadata": {},
   "outputs": [],
   "source": [
    "class Fruit:\n",
    "    def fruit_info(self):\n",
    "        print(\"Inside parent class\")\n",
    "class Apple(Fruit):\n",
    "    def apple_info(self):\n",
    "            print(\"Inside the child class\")"
   ]
  },
  {
   "cell_type": "code",
   "execution_count": 10,
   "id": "918ffc4f-1a93-4998-84aa-0522568c70c8",
   "metadata": {},
   "outputs": [
    {
     "name": "stdout",
     "output_type": "stream",
     "text": [
      "Inside the child class\n"
     ]
    }
   ],
   "source": [
    "obj = Apple()\n",
    "obj.apple_info()"
   ]
  },
  {
   "cell_type": "code",
   "execution_count": 11,
   "id": "70c8cb9f-a1d1-4919-8255-b317d5d47404",
   "metadata": {},
   "outputs": [
    {
     "name": "stdout",
     "output_type": "stream",
     "text": [
      "Inside parent class\n"
     ]
    }
   ],
   "source": [
    "obj.fruit_info()"
   ]
  },
  {
   "cell_type": "code",
   "execution_count": 12,
   "id": "53ce0e2c-629b-4aa6-bf6c-a038dfd32eb0",
   "metadata": {},
   "outputs": [
    {
     "name": "stdout",
     "output_type": "stream",
     "text": [
      "Inside parent class\n"
     ]
    }
   ],
   "source": [
    "par = Fruit()\n",
    "par.fruit_info()"
   ]
  },
  {
   "cell_type": "code",
   "execution_count": 13,
   "id": "0fe4d7b4-c81a-48cb-9223-e344f22b25b8",
   "metadata": {},
   "outputs": [
    {
     "ename": "AttributeError",
     "evalue": "'Fruit' object has no attribute 'apple_info'",
     "output_type": "error",
     "traceback": [
      "\u001b[1;31m---------------------------------------------------------------------------\u001b[0m",
      "\u001b[1;31mAttributeError\u001b[0m                            Traceback (most recent call last)",
      "Cell \u001b[1;32mIn[13], line 1\u001b[0m\n\u001b[1;32m----> 1\u001b[0m \u001b[43mpar\u001b[49m\u001b[38;5;241;43m.\u001b[39;49m\u001b[43mapple_info\u001b[49m()\n",
      "\u001b[1;31mAttributeError\u001b[0m: 'Fruit' object has no attribute 'apple_info'"
     ]
    }
   ],
   "source": [
    "par.apple_info()  # gives error"
   ]
  },
  {
   "cell_type": "code",
   "execution_count": 17,
   "id": "15174c2c-b9d9-41dc-97a1-6f1216e1a4b3",
   "metadata": {},
   "outputs": [],
   "source": [
    "# method overriding  >> re-writing/re-defining methods of parent class in derived/child class\n",
    "class Fruit:\n",
    "    def fruit_info(self):\n",
    "        print(\"Inside parent class\")\n",
    "class Apple(Fruit):\n",
    "    def fruit_info(self):\n",
    "         print(\"Inside the child class (fruit info)\")\n",
    "    def apple_info(self):\n",
    "            print(\"Inside the child class\")\n",
    "\n",
    "# method overriding >> child class is very powerfull \n",
    "# method overriding happend between two class "
   ]
  },
  {
   "cell_type": "code",
   "execution_count": 18,
   "id": "a9b47cab-f02e-43e1-a287-6487ac69ed2f",
   "metadata": {},
   "outputs": [
    {
     "name": "stdout",
     "output_type": "stream",
     "text": [
      "Inside the child class\n"
     ]
    }
   ],
   "source": [
    "obj = Apple()\n",
    "obj.apple_info()"
   ]
  },
  {
   "cell_type": "code",
   "execution_count": 19,
   "id": "332bf312-7796-463f-85be-97330bebaaf6",
   "metadata": {},
   "outputs": [
    {
     "name": "stdout",
     "output_type": "stream",
     "text": [
      "Inside parent class\n"
     ]
    }
   ],
   "source": [
    "obj = Fruit()\n",
    "obj.fruit_info()"
   ]
  },
  {
   "cell_type": "code",
   "execution_count": 20,
   "id": "4aa363f2-7d28-4f29-bf1b-777d046b6a96",
   "metadata": {},
   "outputs": [
    {
     "name": "stdout",
     "output_type": "stream",
     "text": [
      "Inside the child class (fruit info)\n"
     ]
    }
   ],
   "source": [
    "obj = Apple()\n",
    "obj.fruit_info()"
   ]
  },
  {
   "cell_type": "code",
   "execution_count": null,
   "id": "b966c11f-d55a-4bb9-aa18-73c31e1f02a7",
   "metadata": {},
   "outputs": [],
   "source": [
    "# multi-level inheritance"
   ]
  },
  {
   "cell_type": "code",
   "execution_count": null,
   "id": "0c72473a-3b85-4b3f-90d1-d3b62bee388e",
   "metadata": {},
   "outputs": [],
   "source": []
  },
  {
   "cell_type": "code",
   "execution_count": null,
   "id": "ab0569ec-8964-470c-b6ef-399c3c108ae8",
   "metadata": {},
   "outputs": [],
   "source": []
  },
  {
   "cell_type": "code",
   "execution_count": null,
   "id": "4b8c93bf-857b-4603-be96-e06e8e57105a",
   "metadata": {},
   "outputs": [],
   "source": []
  },
  {
   "cell_type": "code",
   "execution_count": null,
   "id": "888c696a-24a3-48de-b484-58a50046516c",
   "metadata": {},
   "outputs": [],
   "source": []
  },
  {
   "cell_type": "code",
   "execution_count": null,
   "id": "39569474-676a-425c-9486-00a73cc3b383",
   "metadata": {},
   "outputs": [],
   "source": []
  },
  {
   "cell_type": "code",
   "execution_count": null,
   "id": "9bd193cf-86a1-43eb-b34a-c7d26a86109c",
   "metadata": {},
   "outputs": [],
   "source": []
  },
  {
   "cell_type": "code",
   "execution_count": null,
   "id": "14b1b8b4-1180-419f-9234-153cb60ce18e",
   "metadata": {},
   "outputs": [],
   "source": []
  },
  {
   "cell_type": "code",
   "execution_count": null,
   "id": "b3b61f98-3368-4a77-905a-6e02800c4c38",
   "metadata": {},
   "outputs": [],
   "source": []
  },
  {
   "cell_type": "code",
   "execution_count": null,
   "id": "2aa74a1a-da51-4044-8f60-7d4206623b27",
   "metadata": {},
   "outputs": [],
   "source": []
  },
  {
   "cell_type": "code",
   "execution_count": null,
   "id": "633c7587-332d-46b8-9464-49536574670d",
   "metadata": {},
   "outputs": [],
   "source": []
  },
  {
   "cell_type": "code",
   "execution_count": null,
   "id": "d91c061e-b9f8-479a-88fd-402e7fdc3ef0",
   "metadata": {},
   "outputs": [],
   "source": []
  },
  {
   "cell_type": "code",
   "execution_count": null,
   "id": "fdc087c2-5e65-45c2-ac2f-8aebfe89ba72",
   "metadata": {},
   "outputs": [],
   "source": []
  },
  {
   "cell_type": "code",
   "execution_count": null,
   "id": "45f2def2-d404-4594-9067-5ac524d27b6a",
   "metadata": {},
   "outputs": [],
   "source": []
  },
  {
   "cell_type": "code",
   "execution_count": null,
   "id": "a85fd21e-34cb-4b75-b561-1e50e27168f9",
   "metadata": {},
   "outputs": [],
   "source": []
  },
  {
   "cell_type": "code",
   "execution_count": null,
   "id": "755ddbcd-be36-43cb-8629-28d1a4492c6a",
   "metadata": {},
   "outputs": [],
   "source": []
  },
  {
   "cell_type": "code",
   "execution_count": null,
   "id": "521cad2a-cde4-4cfa-a729-6b145ccc0ea7",
   "metadata": {},
   "outputs": [],
   "source": []
  },
  {
   "cell_type": "code",
   "execution_count": null,
   "id": "4aea617b-1b49-4ddb-8903-e59218520370",
   "metadata": {},
   "outputs": [],
   "source": []
  },
  {
   "cell_type": "code",
   "execution_count": null,
   "id": "0fd104a5-306f-41e7-a876-916574d8efb0",
   "metadata": {},
   "outputs": [],
   "source": []
  },
  {
   "cell_type": "code",
   "execution_count": null,
   "id": "e2667ca7-2da0-4f32-bf79-0738cf3f2c07",
   "metadata": {},
   "outputs": [],
   "source": []
  },
  {
   "cell_type": "code",
   "execution_count": null,
   "id": "b4b50b30-a316-4a3a-8889-7eead4c3e23b",
   "metadata": {},
   "outputs": [],
   "source": []
  },
  {
   "cell_type": "code",
   "execution_count": null,
   "id": "4371b76d-8e86-4c7b-9f51-3f5479ef7f29",
   "metadata": {},
   "outputs": [],
   "source": []
  },
  {
   "cell_type": "code",
   "execution_count": null,
   "id": "d20c47ae-381c-40db-88cb-19d2be7b017a",
   "metadata": {},
   "outputs": [],
   "source": []
  },
  {
   "cell_type": "code",
   "execution_count": null,
   "id": "56cc6077-f06f-40f8-b982-a6ec066c6172",
   "metadata": {},
   "outputs": [],
   "source": []
  },
  {
   "cell_type": "code",
   "execution_count": null,
   "id": "210d6348-c416-4095-b620-9f64fe00a110",
   "metadata": {},
   "outputs": [],
   "source": []
  },
  {
   "cell_type": "code",
   "execution_count": null,
   "id": "2d8a8fb8-3d08-42b0-a604-cf2774fa7e19",
   "metadata": {},
   "outputs": [],
   "source": []
  },
  {
   "cell_type": "code",
   "execution_count": null,
   "id": "d02b70d9-549a-4a61-a113-9dbe81e97088",
   "metadata": {},
   "outputs": [],
   "source": []
  },
  {
   "cell_type": "code",
   "execution_count": null,
   "id": "4bce9d07-7397-4284-a781-d8c382853095",
   "metadata": {},
   "outputs": [],
   "source": []
  },
  {
   "cell_type": "code",
   "execution_count": null,
   "id": "d5d02671-c509-46ca-9885-9f35695b6f56",
   "metadata": {},
   "outputs": [],
   "source": []
  },
  {
   "cell_type": "code",
   "execution_count": null,
   "id": "1e294360-1eb2-4382-9519-9de741106141",
   "metadata": {},
   "outputs": [],
   "source": []
  },
  {
   "cell_type": "code",
   "execution_count": null,
   "id": "a41c38c4-1bed-4f7f-806d-54cdf1f0ab62",
   "metadata": {},
   "outputs": [],
   "source": []
  },
  {
   "cell_type": "code",
   "execution_count": null,
   "id": "e10d1293-31f3-4f4d-b17e-009dfc34106c",
   "metadata": {},
   "outputs": [],
   "source": []
  },
  {
   "cell_type": "code",
   "execution_count": null,
   "id": "69f4fb0f-eed1-4e13-afec-c28cc02279b0",
   "metadata": {},
   "outputs": [],
   "source": []
  },
  {
   "cell_type": "code",
   "execution_count": null,
   "id": "d3ed1161-d0b5-43b5-a603-7d9aad85a72c",
   "metadata": {},
   "outputs": [],
   "source": []
  },
  {
   "cell_type": "code",
   "execution_count": null,
   "id": "7e2cdbfc-7c32-4c4b-89f3-00d699d3488a",
   "metadata": {},
   "outputs": [],
   "source": []
  },
  {
   "cell_type": "code",
   "execution_count": null,
   "id": "e57fe5df-7ddc-44b6-a1a6-1008b7b0834f",
   "metadata": {},
   "outputs": [],
   "source": []
  },
  {
   "cell_type": "code",
   "execution_count": null,
   "id": "450e7102-5e85-4a8d-bace-3df53639f1fd",
   "metadata": {},
   "outputs": [],
   "source": []
  },
  {
   "cell_type": "code",
   "execution_count": null,
   "id": "166b5fdf-a059-4296-8573-350cfe15eb2e",
   "metadata": {},
   "outputs": [],
   "source": []
  },
  {
   "cell_type": "code",
   "execution_count": null,
   "id": "f3363ce2-d72d-4022-8857-5430b93bc8d8",
   "metadata": {},
   "outputs": [],
   "source": []
  },
  {
   "cell_type": "code",
   "execution_count": null,
   "id": "57bcc5d2-4f69-4336-97fc-a64f6a417b72",
   "metadata": {},
   "outputs": [],
   "source": []
  },
  {
   "cell_type": "code",
   "execution_count": null,
   "id": "5bdc6819-54d0-4a18-a1ca-39c0e6fe0a71",
   "metadata": {},
   "outputs": [],
   "source": []
  },
  {
   "cell_type": "code",
   "execution_count": null,
   "id": "b189ad20-f52e-49c1-a873-3ffcbbc4c8ff",
   "metadata": {},
   "outputs": [],
   "source": []
  },
  {
   "cell_type": "code",
   "execution_count": null,
   "id": "c60a4438-295b-43ad-a353-f8a63cbc7529",
   "metadata": {},
   "outputs": [],
   "source": []
  },
  {
   "cell_type": "code",
   "execution_count": null,
   "id": "4a6b70ca-afc0-4d48-a25e-dd9bc20c7559",
   "metadata": {},
   "outputs": [],
   "source": []
  },
  {
   "cell_type": "code",
   "execution_count": null,
   "id": "d8fb16a5-29e0-486a-a367-d825b0773d3b",
   "metadata": {},
   "outputs": [],
   "source": []
  },
  {
   "cell_type": "code",
   "execution_count": null,
   "id": "86e4f2c1-cba9-4bfa-b287-f41d5cd1309a",
   "metadata": {},
   "outputs": [],
   "source": []
  },
  {
   "cell_type": "code",
   "execution_count": null,
   "id": "f08bb34d-5827-4922-aae3-ba946656d539",
   "metadata": {},
   "outputs": [],
   "source": []
  },
  {
   "cell_type": "code",
   "execution_count": null,
   "id": "c122acf0-5d62-4671-991c-94d3358ce334",
   "metadata": {},
   "outputs": [],
   "source": []
  },
  {
   "cell_type": "code",
   "execution_count": null,
   "id": "20bf8d77-1c93-4c6b-af2d-2e217de1a6f9",
   "metadata": {},
   "outputs": [],
   "source": []
  },
  {
   "cell_type": "code",
   "execution_count": null,
   "id": "614642b8-4570-4145-9116-7a3401dbd0f8",
   "metadata": {},
   "outputs": [],
   "source": []
  },
  {
   "cell_type": "code",
   "execution_count": null,
   "id": "63b6ddfd-7d4d-4a79-bf08-bcddd2e6f3f2",
   "metadata": {},
   "outputs": [],
   "source": []
  },
  {
   "cell_type": "code",
   "execution_count": null,
   "id": "9496dd8b-5ffb-45e3-9e0c-0ea23bc88672",
   "metadata": {},
   "outputs": [],
   "source": []
  },
  {
   "cell_type": "code",
   "execution_count": null,
   "id": "9c3affc9-97f8-4866-ba80-a4e86396f482",
   "metadata": {},
   "outputs": [],
   "source": []
  },
  {
   "cell_type": "code",
   "execution_count": null,
   "id": "079f2f42-d032-413b-bd98-e3db38831a6b",
   "metadata": {},
   "outputs": [],
   "source": []
  },
  {
   "cell_type": "code",
   "execution_count": null,
   "id": "add7521a-b3c6-448f-8d3a-3e590c8ef8ae",
   "metadata": {},
   "outputs": [],
   "source": []
  },
  {
   "cell_type": "code",
   "execution_count": null,
   "id": "38b6d1bf-ae6b-4713-926e-7e2a32215e31",
   "metadata": {},
   "outputs": [],
   "source": []
  },
  {
   "cell_type": "code",
   "execution_count": null,
   "id": "f4d150a7-2497-4360-8096-8f583b1c9dc3",
   "metadata": {},
   "outputs": [],
   "source": []
  },
  {
   "cell_type": "code",
   "execution_count": null,
   "id": "34429b0c-7242-4eab-8647-44b7e06f413e",
   "metadata": {},
   "outputs": [],
   "source": []
  },
  {
   "cell_type": "code",
   "execution_count": null,
   "id": "f2771fa1-103d-4ff1-848e-6702d1abd604",
   "metadata": {},
   "outputs": [],
   "source": []
  },
  {
   "cell_type": "code",
   "execution_count": null,
   "id": "9fce84b8-fe16-4b01-b29b-7c8e562ddffc",
   "metadata": {},
   "outputs": [],
   "source": []
  },
  {
   "cell_type": "code",
   "execution_count": null,
   "id": "3f8b23d0-a98a-4413-94e0-979f3875c908",
   "metadata": {},
   "outputs": [],
   "source": []
  },
  {
   "cell_type": "code",
   "execution_count": null,
   "id": "4a5d9966-c2c3-4190-bea7-ac4b591f54ed",
   "metadata": {},
   "outputs": [],
   "source": []
  },
  {
   "cell_type": "code",
   "execution_count": null,
   "id": "b85c1c35-90f3-44bc-82e9-fda2509fe56d",
   "metadata": {},
   "outputs": [],
   "source": []
  },
  {
   "cell_type": "code",
   "execution_count": null,
   "id": "7ea915e7-4371-428f-84a5-ff6665369124",
   "metadata": {},
   "outputs": [],
   "source": []
  },
  {
   "cell_type": "code",
   "execution_count": null,
   "id": "55da2226-2248-4f64-9a9f-8da690728eee",
   "metadata": {},
   "outputs": [],
   "source": []
  },
  {
   "cell_type": "code",
   "execution_count": null,
   "id": "b9659a97-4e51-4f89-98d6-72e054f24929",
   "metadata": {},
   "outputs": [],
   "source": []
  },
  {
   "cell_type": "code",
   "execution_count": null,
   "id": "5db54cbb-b389-41f2-a1cb-07d9adddc32d",
   "metadata": {},
   "outputs": [],
   "source": []
  },
  {
   "cell_type": "code",
   "execution_count": null,
   "id": "e699de24-34ed-4038-a72b-8309e3f3d6b8",
   "metadata": {},
   "outputs": [],
   "source": []
  },
  {
   "cell_type": "code",
   "execution_count": null,
   "id": "545bec05-4650-40f7-9549-2a6982e664f6",
   "metadata": {},
   "outputs": [],
   "source": []
  },
  {
   "cell_type": "code",
   "execution_count": null,
   "id": "0053c04a-cf37-4937-90d1-bd6f48d9a3e4",
   "metadata": {},
   "outputs": [],
   "source": []
  },
  {
   "cell_type": "code",
   "execution_count": null,
   "id": "e2188031-5357-40fb-86a0-76c39488c7cb",
   "metadata": {},
   "outputs": [],
   "source": []
  },
  {
   "cell_type": "code",
   "execution_count": null,
   "id": "7f2d4745-4150-4a3f-a1d2-10b6c0163fe6",
   "metadata": {},
   "outputs": [],
   "source": []
  },
  {
   "cell_type": "code",
   "execution_count": null,
   "id": "6af97018-d640-4b53-9b5d-fc485c10dae8",
   "metadata": {},
   "outputs": [],
   "source": []
  },
  {
   "cell_type": "code",
   "execution_count": null,
   "id": "8dec75ee-b9bb-4bbe-a930-457a6d92e58c",
   "metadata": {},
   "outputs": [],
   "source": []
  },
  {
   "cell_type": "code",
   "execution_count": null,
   "id": "6650acbc-4e82-4691-b620-b8d796dc068e",
   "metadata": {},
   "outputs": [],
   "source": []
  },
  {
   "cell_type": "code",
   "execution_count": null,
   "id": "c392f36e-8d83-49c5-935f-2c5122a9dde7",
   "metadata": {},
   "outputs": [],
   "source": []
  },
  {
   "cell_type": "code",
   "execution_count": null,
   "id": "233aed58-204f-4960-ab6d-944243637a13",
   "metadata": {},
   "outputs": [],
   "source": []
  },
  {
   "cell_type": "code",
   "execution_count": null,
   "id": "3b1db4fb-d66c-430c-ac17-882561f783c4",
   "metadata": {},
   "outputs": [],
   "source": []
  },
  {
   "cell_type": "code",
   "execution_count": null,
   "id": "58a826a1-4e4c-4500-880b-26debd3e38cf",
   "metadata": {},
   "outputs": [],
   "source": []
  },
  {
   "cell_type": "code",
   "execution_count": null,
   "id": "56e017b2-bb1c-441a-ba11-d230eca54330",
   "metadata": {},
   "outputs": [],
   "source": []
  },
  {
   "cell_type": "code",
   "execution_count": null,
   "id": "537b86a3-c716-4d9f-ba87-c05fc86edef5",
   "metadata": {},
   "outputs": [],
   "source": []
  },
  {
   "cell_type": "code",
   "execution_count": null,
   "id": "44968e3f-0356-4b20-be6c-c47c00adf298",
   "metadata": {},
   "outputs": [],
   "source": []
  },
  {
   "cell_type": "code",
   "execution_count": null,
   "id": "e0439a8c-56e0-42ba-9cb4-2d0090a8213e",
   "metadata": {},
   "outputs": [],
   "source": []
  },
  {
   "cell_type": "code",
   "execution_count": null,
   "id": "754cda93-8758-4fc6-a380-0eec2e09d690",
   "metadata": {},
   "outputs": [],
   "source": []
  },
  {
   "cell_type": "code",
   "execution_count": null,
   "id": "0b805388-a371-49bd-ad44-5fd033def5fa",
   "metadata": {},
   "outputs": [],
   "source": []
  },
  {
   "cell_type": "code",
   "execution_count": null,
   "id": "8a1d3bbb-6a85-467e-9dcb-3879680f3fb2",
   "metadata": {},
   "outputs": [],
   "source": []
  },
  {
   "cell_type": "code",
   "execution_count": null,
   "id": "158cb463-f40b-4aee-acc6-45612f5acb48",
   "metadata": {},
   "outputs": [],
   "source": []
  },
  {
   "cell_type": "code",
   "execution_count": null,
   "id": "40364970-adb7-48b7-8081-9af23a75c9fa",
   "metadata": {},
   "outputs": [],
   "source": []
  },
  {
   "cell_type": "code",
   "execution_count": null,
   "id": "bf72926a-b915-4007-9be6-b84bc7828c3f",
   "metadata": {},
   "outputs": [],
   "source": []
  },
  {
   "cell_type": "code",
   "execution_count": null,
   "id": "88b675b3-7fb7-4969-927c-a5f85084a93a",
   "metadata": {},
   "outputs": [],
   "source": []
  },
  {
   "cell_type": "code",
   "execution_count": null,
   "id": "523c0911-4b18-4fc0-ad60-05f5bb6bb39f",
   "metadata": {},
   "outputs": [],
   "source": []
  },
  {
   "cell_type": "code",
   "execution_count": null,
   "id": "b9487390-33fd-4093-a7c2-96ad35a0b0fe",
   "metadata": {},
   "outputs": [],
   "source": []
  },
  {
   "cell_type": "code",
   "execution_count": null,
   "id": "19837320-7f42-4dd6-af6a-d277f3fd2304",
   "metadata": {},
   "outputs": [],
   "source": []
  },
  {
   "cell_type": "code",
   "execution_count": null,
   "id": "93628838-25c7-496a-a764-3ba247fdaa0d",
   "metadata": {},
   "outputs": [],
   "source": []
  },
  {
   "cell_type": "code",
   "execution_count": null,
   "id": "30146038-55e2-45cb-afb5-900972ab359c",
   "metadata": {},
   "outputs": [],
   "source": []
  },
  {
   "cell_type": "code",
   "execution_count": null,
   "id": "4754a1a2-0b3c-4624-9076-2394de4f1b88",
   "metadata": {},
   "outputs": [],
   "source": []
  },
  {
   "cell_type": "code",
   "execution_count": null,
   "id": "896ee057-bbda-4af3-aee9-0deeeaf3721f",
   "metadata": {},
   "outputs": [],
   "source": []
  },
  {
   "cell_type": "code",
   "execution_count": null,
   "id": "0d013ea3-b2f4-4823-93ad-c3ef95ee74ad",
   "metadata": {},
   "outputs": [],
   "source": []
  },
  {
   "cell_type": "code",
   "execution_count": null,
   "id": "1dd969bb-ed67-44c4-9e36-95251a5fe39e",
   "metadata": {},
   "outputs": [],
   "source": []
  },
  {
   "cell_type": "code",
   "execution_count": null,
   "id": "98d6e5b7-5d06-40cb-a7a4-92ef7b138d37",
   "metadata": {},
   "outputs": [],
   "source": []
  },
  {
   "cell_type": "code",
   "execution_count": null,
   "id": "c14d7b55-cce3-4396-9eb6-7bd58b94b014",
   "metadata": {},
   "outputs": [],
   "source": []
  },
  {
   "cell_type": "code",
   "execution_count": null,
   "id": "080b0f63-e948-4f8e-b671-7fab26164f82",
   "metadata": {},
   "outputs": [],
   "source": []
  },
  {
   "cell_type": "code",
   "execution_count": null,
   "id": "147d11e6-664e-4351-91ed-6d4f109a1141",
   "metadata": {},
   "outputs": [],
   "source": []
  },
  {
   "cell_type": "code",
   "execution_count": null,
   "id": "c42d6894-5369-4de5-bfd9-d8c28440c6f7",
   "metadata": {},
   "outputs": [],
   "source": []
  },
  {
   "cell_type": "code",
   "execution_count": null,
   "id": "b05a611e-d0e1-4b9e-a433-006a7a3ddcef",
   "metadata": {},
   "outputs": [],
   "source": []
  },
  {
   "cell_type": "code",
   "execution_count": null,
   "id": "629aa863-1bd4-424a-8445-40a43bc9f26a",
   "metadata": {},
   "outputs": [],
   "source": []
  },
  {
   "cell_type": "code",
   "execution_count": null,
   "id": "3747e88b-e180-49b7-8a1e-6994bd80ab69",
   "metadata": {},
   "outputs": [],
   "source": []
  },
  {
   "cell_type": "code",
   "execution_count": null,
   "id": "63860839-3490-44f9-89b6-3ab79e41a06e",
   "metadata": {},
   "outputs": [],
   "source": []
  },
  {
   "cell_type": "code",
   "execution_count": null,
   "id": "cfd85770-7a27-45b1-a445-0cb8bbcb73c2",
   "metadata": {},
   "outputs": [],
   "source": []
  },
  {
   "cell_type": "code",
   "execution_count": null,
   "id": "16667d64-3e94-42cb-ad98-b3292ab38b99",
   "metadata": {},
   "outputs": [],
   "source": []
  },
  {
   "cell_type": "code",
   "execution_count": null,
   "id": "91eb38c3-83cf-4980-8892-a3b84b436853",
   "metadata": {},
   "outputs": [],
   "source": []
  },
  {
   "cell_type": "code",
   "execution_count": null,
   "id": "16d5709c-c1ec-42d5-b37c-e9fbae97a543",
   "metadata": {},
   "outputs": [],
   "source": []
  },
  {
   "cell_type": "code",
   "execution_count": null,
   "id": "525ab242-509f-4b75-8fce-a38b382db1d4",
   "metadata": {},
   "outputs": [],
   "source": []
  },
  {
   "cell_type": "code",
   "execution_count": null,
   "id": "9661dcb4-31cd-4fa9-a012-cd2044f3103b",
   "metadata": {},
   "outputs": [],
   "source": []
  },
  {
   "cell_type": "code",
   "execution_count": null,
   "id": "27f7a339-b653-4a9f-8ab8-670dffced331",
   "metadata": {},
   "outputs": [],
   "source": []
  },
  {
   "cell_type": "code",
   "execution_count": null,
   "id": "91d79f3c-a321-4e61-8256-bff91bde732e",
   "metadata": {},
   "outputs": [],
   "source": []
  }
 ],
 "metadata": {
  "kernelspec": {
   "display_name": "Python 3 (ipykernel)",
   "language": "python",
   "name": "python3"
  },
  "language_info": {
   "codemirror_mode": {
    "name": "ipython",
    "version": 3
   },
   "file_extension": ".py",
   "mimetype": "text/x-python",
   "name": "python",
   "nbconvert_exporter": "python",
   "pygments_lexer": "ipython3",
   "version": "3.11.9"
  }
 },
 "nbformat": 4,
 "nbformat_minor": 5
}
