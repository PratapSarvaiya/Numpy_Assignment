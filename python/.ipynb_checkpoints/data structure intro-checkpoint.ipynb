{
 "cells": [
  {
   "cell_type": "code",
   "execution_count": null,
   "id": "a895a16a-33b9-40b2-96b9-9a9802828df5",
   "metadata": {},
   "outputs": [],
   "source": [
    "# data structure >> way of organizing and storing data so that it can be accessed and manipulated efficiently"
   ]
  },
  {
   "cell_type": "code",
   "execution_count": null,
   "id": "58a5cab2-a763-4e8b-938d-561fc4cd5b51",
   "metadata": {},
   "outputs": [],
   "source": [
    "# data structure >> string,list,set,tuples,dictionary,array"
   ]
  },
  {
   "cell_type": "code",
   "execution_count": null,
   "id": "97e641cc-8dde-4778-adcf-0220b9cd3879",
   "metadata": {},
   "outputs": [],
   "source": [
    "#list >> you can store anything in list >> can store hetrogenous data\n",
    "#list is an ordered collection of elements that can be of any data type\n",
    "#list are mutable"
   ]
  },
  {
   "cell_type": "code",
   "execution_count": 1,
   "id": "f74f8b65-2cb5-4fda-aac8-d32ada86ab38",
   "metadata": {},
   "outputs": [
    {
     "data": {
      "text/plain": [
       "[1, 2, 3, 4, 5]"
      ]
     },
     "execution_count": 1,
     "metadata": {},
     "output_type": "execute_result"
    }
   ],
   "source": [
    "num=[1,2,3,4,5]\n",
    "num"
   ]
  },
  {
   "cell_type": "code",
   "execution_count": 2,
   "id": "fb6245e9-275e-4a07-9227-22e64fd46967",
   "metadata": {},
   "outputs": [
    {
     "data": {
      "text/plain": [
       "list"
      ]
     },
     "execution_count": 2,
     "metadata": {},
     "output_type": "execute_result"
    }
   ],
   "source": [
    "type(num)"
   ]
  },
  {
   "cell_type": "code",
   "execution_count": 3,
   "id": "219a9f21-3768-4324-ab0b-9cb27d75e386",
   "metadata": {},
   "outputs": [
    {
     "data": {
      "text/plain": [
       "1"
      ]
     },
     "execution_count": 3,
     "metadata": {},
     "output_type": "execute_result"
    }
   ],
   "source": [
    "num[0]"
   ]
  },
  {
   "cell_type": "code",
   "execution_count": 4,
   "id": "033b92e8-0b09-4483-9c13-0e42515d8f59",
   "metadata": {},
   "outputs": [
    {
     "data": {
      "text/plain": [
       "2"
      ]
     },
     "execution_count": 4,
     "metadata": {},
     "output_type": "execute_result"
    }
   ],
   "source": [
    "num[1]"
   ]
  },
  {
   "cell_type": "code",
   "execution_count": 5,
   "id": "835fdd7c-9eef-484c-88b3-f327dd688fcd",
   "metadata": {},
   "outputs": [
    {
     "data": {
      "text/plain": [
       "5"
      ]
     },
     "execution_count": 5,
     "metadata": {},
     "output_type": "execute_result"
    }
   ],
   "source": [
    "num[-1]"
   ]
  },
  {
   "cell_type": "code",
   "execution_count": 6,
   "id": "0852bd90-9596-4495-9cec-5d9132f399af",
   "metadata": {},
   "outputs": [
    {
     "data": {
      "text/plain": [
       "5"
      ]
     },
     "execution_count": 6,
     "metadata": {},
     "output_type": "execute_result"
    }
   ],
   "source": [
    "num[4]"
   ]
  },
  {
   "cell_type": "code",
   "execution_count": 7,
   "id": "4b17f096-591c-423d-a3d6-f12ba82e5c8e",
   "metadata": {},
   "outputs": [
    {
     "ename": "IndexError",
     "evalue": "list index out of range",
     "output_type": "error",
     "traceback": [
      "\u001b[1;31m---------------------------------------------------------------------------\u001b[0m",
      "\u001b[1;31mIndexError\u001b[0m                                Traceback (most recent call last)",
      "Cell \u001b[1;32mIn[7], line 1\u001b[0m\n\u001b[1;32m----> 1\u001b[0m \u001b[43mnum\u001b[49m\u001b[43m[\u001b[49m\u001b[38;5;241;43m5\u001b[39;49m\u001b[43m]\u001b[49m\n",
      "\u001b[1;31mIndexError\u001b[0m: list index out of range"
     ]
    }
   ],
   "source": [
    "num[5] # an error list index out of range"
   ]
  },
  {
   "cell_type": "code",
   "execution_count": 9,
   "id": "60f9ad07-0bd6-4963-8754-abb63a791fd7",
   "metadata": {},
   "outputs": [],
   "source": [
    "a=[1,2,3.3,'baigan','tomato','banana',True,False,(3+7j)]"
   ]
  },
  {
   "cell_type": "code",
   "execution_count": 10,
   "id": "f09aa34b-0952-4bdc-93f2-31ea1ad7ec3c",
   "metadata": {},
   "outputs": [
    {
     "data": {
      "text/plain": [
       "[1, 2, 3.3, 'baigan', 'tomato', 'banana', True, False, (3+7j)]"
      ]
     },
     "execution_count": 10,
     "metadata": {},
     "output_type": "execute_result"
    }
   ],
   "source": [
    "a  # list can store any data type >> hetrogenous data structure"
   ]
  },
  {
   "cell_type": "code",
   "execution_count": 11,
   "id": "048f9f3e-9508-4294-8355-758f99fe24a8",
   "metadata": {},
   "outputs": [
    {
     "data": {
      "text/plain": [
       "list"
      ]
     },
     "execution_count": 11,
     "metadata": {},
     "output_type": "execute_result"
    }
   ],
   "source": [
    "type(a)"
   ]
  },
  {
   "cell_type": "code",
   "execution_count": 14,
   "id": "fc10c381-9ddf-4824-b8d6-e0df3fbbda49",
   "metadata": {},
   "outputs": [
    {
     "data": {
      "text/plain": [
       "[1,\n",
       " 2,\n",
       " 3.3,\n",
       " 'baigan',\n",
       " 'tomato',\n",
       " 'banana',\n",
       " True,\n",
       " False,\n",
       " (3+7j),\n",
       " 'orange',\n",
       " 'orange']"
      ]
     },
     "execution_count": 14,
     "metadata": {},
     "output_type": "execute_result"
    }
   ],
   "source": [
    "a"
   ]
  },
  {
   "cell_type": "code",
   "execution_count": 17,
   "id": "a666f780-48ba-463d-9c88-5044c44247c2",
   "metadata": {},
   "outputs": [],
   "source": [
    "a.append(\"orange\") # adding element to the list and jetli var run kariye etlu add thay"
   ]
  },
  {
   "cell_type": "code",
   "execution_count": 18,
   "id": "9520441a-9389-4a20-baab-08ff042e1d65",
   "metadata": {},
   "outputs": [
    {
     "data": {
      "text/plain": [
       "[1,\n",
       " 2,\n",
       " 3.3,\n",
       " 'baigan',\n",
       " 'tomato',\n",
       " 'banana',\n",
       " True,\n",
       " False,\n",
       " (3+7j),\n",
       " 'orange',\n",
       " 'orange',\n",
       " 'orange',\n",
       " 'orange']"
      ]
     },
     "execution_count": 18,
     "metadata": {},
     "output_type": "execute_result"
    }
   ],
   "source": [
    "a"
   ]
  },
  {
   "cell_type": "code",
   "execution_count": 19,
   "id": "48cf2c52-9392-4795-8dd9-e2fcee6dac26",
   "metadata": {},
   "outputs": [],
   "source": [
    "a.append(\"pwskill\")  # Append object to the end of the list."
   ]
  },
  {
   "cell_type": "code",
   "execution_count": 20,
   "id": "a2f3b714-842b-4fa8-8b3e-d300417db098",
   "metadata": {},
   "outputs": [
    {
     "data": {
      "text/plain": [
       "[1,\n",
       " 2,\n",
       " 3.3,\n",
       " 'baigan',\n",
       " 'tomato',\n",
       " 'banana',\n",
       " True,\n",
       " False,\n",
       " (3+7j),\n",
       " 'orange',\n",
       " 'orange',\n",
       " 'orange',\n",
       " 'orange',\n",
       " 'pwskill']"
      ]
     },
     "execution_count": 20,
     "metadata": {},
     "output_type": "execute_result"
    }
   ],
   "source": [
    "a"
   ]
  },
  {
   "cell_type": "code",
   "execution_count": 21,
   "id": "7d65b641-23a8-41e7-a933-dcb84f227b5f",
   "metadata": {},
   "outputs": [],
   "source": [
    "a.remove(\"pwskill\")"
   ]
  },
  {
   "cell_type": "code",
   "execution_count": 22,
   "id": "2a65b82c-07a9-49b9-b62a-4991ba2f9b44",
   "metadata": {},
   "outputs": [
    {
     "data": {
      "text/plain": [
       "[1,\n",
       " 2,\n",
       " 3.3,\n",
       " 'baigan',\n",
       " 'tomato',\n",
       " 'banana',\n",
       " True,\n",
       " False,\n",
       " (3+7j),\n",
       " 'orange',\n",
       " 'orange',\n",
       " 'orange',\n",
       " 'orange']"
      ]
     },
     "execution_count": 22,
     "metadata": {},
     "output_type": "execute_result"
    }
   ],
   "source": [
    "a"
   ]
  },
  {
   "cell_type": "code",
   "execution_count": 24,
   "id": "54477ef6-d050-4cb9-bcd0-b001e66b0c4e",
   "metadata": {},
   "outputs": [],
   "source": [
    "a.remove(\"baigan\")"
   ]
  },
  {
   "cell_type": "code",
   "execution_count": 25,
   "id": "23fc72e9-ab80-4dcb-a4d3-32cbee855ac1",
   "metadata": {},
   "outputs": [
    {
     "data": {
      "text/plain": [
       "[1,\n",
       " 2,\n",
       " 3.3,\n",
       " 'tomato',\n",
       " 'banana',\n",
       " True,\n",
       " False,\n",
       " (3+7j),\n",
       " 'orange',\n",
       " 'orange',\n",
       " 'orange',\n",
       " 'orange']"
      ]
     },
     "execution_count": 25,
     "metadata": {},
     "output_type": "execute_result"
    }
   ],
   "source": [
    "a"
   ]
  },
  {
   "cell_type": "code",
   "execution_count": 26,
   "id": "700e7665-6ff9-435e-94fa-1c41acefbfd6",
   "metadata": {},
   "outputs": [],
   "source": [
    "lis = [[1,2,3],[4,5,6],[7,8,9]]"
   ]
  },
  {
   "cell_type": "code",
   "execution_count": 27,
   "id": "d38d2d98-e057-4716-b51a-b1b46b2e47dc",
   "metadata": {},
   "outputs": [
    {
     "data": {
      "text/plain": [
       "[[1, 2, 3], [4, 5, 6], [7, 8, 9]]"
      ]
     },
     "execution_count": 27,
     "metadata": {},
     "output_type": "execute_result"
    }
   ],
   "source": [
    "lis"
   ]
  },
  {
   "cell_type": "code",
   "execution_count": 28,
   "id": "5a5cb598-8020-49fd-a87f-e3d3f763f39f",
   "metadata": {},
   "outputs": [
    {
     "data": {
      "text/plain": [
       "list"
      ]
     },
     "execution_count": 28,
     "metadata": {},
     "output_type": "execute_result"
    }
   ],
   "source": [
    "type(lis)"
   ]
  },
  {
   "cell_type": "code",
   "execution_count": 32,
   "id": "d70d2cc9-2af5-49dd-b074-043448c415d3",
   "metadata": {},
   "outputs": [
    {
     "data": {
      "text/plain": [
       "3"
      ]
     },
     "execution_count": 32,
     "metadata": {},
     "output_type": "execute_result"
    }
   ],
   "source": [
    "lis[0][2]"
   ]
  },
  {
   "cell_type": "code",
   "execution_count": 33,
   "id": "44dd58b8-02cb-44d3-a1e8-2355c1d2dfe1",
   "metadata": {},
   "outputs": [
    {
     "data": {
      "text/plain": [
       "2"
      ]
     },
     "execution_count": 33,
     "metadata": {},
     "output_type": "execute_result"
    }
   ],
   "source": [
    "lis[0][1]"
   ]
  },
  {
   "cell_type": "code",
   "execution_count": 34,
   "id": "507e224f-8aa3-4fcd-83e6-7e3c8f85a1f7",
   "metadata": {},
   "outputs": [
    {
     "data": {
      "text/plain": [
       "5"
      ]
     },
     "execution_count": 34,
     "metadata": {},
     "output_type": "execute_result"
    }
   ],
   "source": [
    "lis[1][1]"
   ]
  },
  {
   "cell_type": "code",
   "execution_count": 35,
   "id": "74acf14f-b720-4e64-ac04-75751af04f7a",
   "metadata": {},
   "outputs": [
    {
     "data": {
      "text/plain": [
       "9"
      ]
     },
     "execution_count": 35,
     "metadata": {},
     "output_type": "execute_result"
    }
   ],
   "source": [
    "lis[2][2]"
   ]
  },
  {
   "cell_type": "code",
   "execution_count": 29,
   "id": "2b358e26-7e44-406d-9592-5ed8e3407a62",
   "metadata": {},
   "outputs": [
    {
     "data": {
      "text/plain": [
       "[1, 2, 3]"
      ]
     },
     "execution_count": 29,
     "metadata": {},
     "output_type": "execute_result"
    }
   ],
   "source": [
    "lis[0]"
   ]
  },
  {
   "cell_type": "code",
   "execution_count": 30,
   "id": "dad85df9-0c56-492b-bf9e-106cec7e9fb0",
   "metadata": {},
   "outputs": [
    {
     "data": {
      "text/plain": [
       "[4, 5, 6]"
      ]
     },
     "execution_count": 30,
     "metadata": {},
     "output_type": "execute_result"
    }
   ],
   "source": [
    "lis[1]"
   ]
  },
  {
   "cell_type": "code",
   "execution_count": 31,
   "id": "90837e8f-304c-4f3c-aa7a-b8d241c08bb6",
   "metadata": {},
   "outputs": [
    {
     "data": {
      "text/plain": [
       "[7, 8, 9]"
      ]
     },
     "execution_count": 31,
     "metadata": {},
     "output_type": "execute_result"
    }
   ],
   "source": [
    "lis[2]"
   ]
  },
  {
   "cell_type": "code",
   "execution_count": 36,
   "id": "3155e30a-efbb-41c2-af1b-cfc7893037ea",
   "metadata": {},
   "outputs": [],
   "source": [
    "#list is mutable\n",
    "shopping_list = [\"Baigan\",\"Apple\",2,3.4,True]\n",
    "shopping_list[0]=\"potato\""
   ]
  },
  {
   "cell_type": "code",
   "execution_count": 37,
   "id": "5a6ddb49-0e4f-4890-bbb6-92fc1c2be712",
   "metadata": {},
   "outputs": [
    {
     "data": {
      "text/plain": [
       "['potato', 'Apple', 2, 3.4, True]"
      ]
     },
     "execution_count": 37,
     "metadata": {},
     "output_type": "execute_result"
    }
   ],
   "source": [
    "shopping_list"
   ]
  },
  {
   "cell_type": "code",
   "execution_count": 38,
   "id": "ca8c6fab-6edd-4470-ab45-81d7dcdc126c",
   "metadata": {},
   "outputs": [
    {
     "name": "stdout",
     "output_type": "stream",
     "text": [
      "potato Apple 2 3.4 True "
     ]
    }
   ],
   "source": [
    "for item in shopping_list:  # use of list >> can store any data it is mutable\n",
    "    print(item,end=\" \")"
   ]
  },
  {
   "cell_type": "code",
   "execution_count": 39,
   "id": "9ab09874-219e-4d47-884a-0d2fb59be55e",
   "metadata": {},
   "outputs": [],
   "source": [
    "# Tuple  >> Immutable\n",
    "point=(2,3)"
   ]
  },
  {
   "cell_type": "code",
   "execution_count": 40,
   "id": "9ce54e56-075c-4470-beb9-b672f321dbb7",
   "metadata": {},
   "outputs": [
    {
     "data": {
      "text/plain": [
       "(2, 3)"
      ]
     },
     "execution_count": 40,
     "metadata": {},
     "output_type": "execute_result"
    }
   ],
   "source": [
    "point"
   ]
  },
  {
   "cell_type": "code",
   "execution_count": 41,
   "id": "5c70e7f1-2f2e-48e9-b8bc-a9c4376b2eb0",
   "metadata": {},
   "outputs": [
    {
     "data": {
      "text/plain": [
       "tuple"
      ]
     },
     "execution_count": 41,
     "metadata": {},
     "output_type": "execute_result"
    }
   ],
   "source": [
    "type(point)"
   ]
  },
  {
   "cell_type": "code",
   "execution_count": null,
   "id": "2d34399e-739c-45be-9ede-7e41325ff0b7",
   "metadata": {},
   "outputs": [],
   "source": [
    "# use case   >> aadhar card,atm.empid  >> you dont want to change,you will use tuple to store the data"
   ]
  },
  {
   "cell_type": "code",
   "execution_count": 43,
   "id": "8fc0db47-9e1a-4a6c-9789-9c34842da9eb",
   "metadata": {},
   "outputs": [],
   "source": [
    "t=(1,2,2.3,True,3+3j,\"Ajay\") #tuple can store hetrogenous data"
   ]
  },
  {
   "cell_type": "code",
   "execution_count": 44,
   "id": "d5eae94c-44a4-484e-8a45-922e355502b6",
   "metadata": {},
   "outputs": [
    {
     "data": {
      "text/plain": [
       "(1, 2, 2.3, True, (3+3j), 'Ajay')"
      ]
     },
     "execution_count": 44,
     "metadata": {},
     "output_type": "execute_result"
    }
   ],
   "source": [
    "t"
   ]
  },
  {
   "cell_type": "code",
   "execution_count": 45,
   "id": "73a582fb-9355-449e-b9a2-98346211aae3",
   "metadata": {},
   "outputs": [
    {
     "data": {
      "text/plain": [
       "tuple"
      ]
     },
     "execution_count": 45,
     "metadata": {},
     "output_type": "execute_result"
    }
   ],
   "source": [
    "type(t)"
   ]
  },
  {
   "cell_type": "code",
   "execution_count": 46,
   "id": "afa921fe-7c76-48d6-8d11-8c385ef0b067",
   "metadata": {},
   "outputs": [],
   "source": [
    "emp_name=(\"ajay\",\"bjay\",\"pjay\",\"sanjay\")"
   ]
  },
  {
   "cell_type": "code",
   "execution_count": 47,
   "id": "0eca32cb-50d0-4ac0-844b-631035de563f",
   "metadata": {},
   "outputs": [
    {
     "data": {
      "text/plain": [
       "('ajay', 'bjay', 'pjay', 'sanjay')"
      ]
     },
     "execution_count": 47,
     "metadata": {},
     "output_type": "execute_result"
    }
   ],
   "source": [
    "emp_name"
   ]
  },
  {
   "cell_type": "code",
   "execution_count": 48,
   "id": "317a0173-17c7-4b6a-9730-67cc139ab122",
   "metadata": {},
   "outputs": [
    {
     "data": {
      "text/plain": [
       "tuple"
      ]
     },
     "execution_count": 48,
     "metadata": {},
     "output_type": "execute_result"
    }
   ],
   "source": [
    "type(emp_name)"
   ]
  },
  {
   "cell_type": "code",
   "execution_count": 49,
   "id": "c7dcb4cf-151f-4a39-aab1-1ed7570fd7df",
   "metadata": {},
   "outputs": [
    {
     "data": {
      "text/plain": [
       "'ajay'"
      ]
     },
     "execution_count": 49,
     "metadata": {},
     "output_type": "execute_result"
    }
   ],
   "source": [
    "emp_name[0]"
   ]
  },
  {
   "cell_type": "code",
   "execution_count": 50,
   "id": "c2b4a950-13fd-4eb2-a851-74b968859bd0",
   "metadata": {},
   "outputs": [
    {
     "data": {
      "text/plain": [
       "'sanjay'"
      ]
     },
     "execution_count": 50,
     "metadata": {},
     "output_type": "execute_result"
    }
   ],
   "source": [
    "emp_name[-1]"
   ]
  },
  {
   "cell_type": "code",
   "execution_count": 51,
   "id": "5ac01848-980c-46b4-8938-51e7d54847de",
   "metadata": {},
   "outputs": [
    {
     "ename": "TypeError",
     "evalue": "'tuple' object does not support item assignment",
     "output_type": "error",
     "traceback": [
      "\u001b[1;31m---------------------------------------------------------------------------\u001b[0m",
      "\u001b[1;31mTypeError\u001b[0m                                 Traceback (most recent call last)",
      "Cell \u001b[1;32mIn[51], line 1\u001b[0m\n\u001b[1;32m----> 1\u001b[0m \u001b[43memp_name\u001b[49m\u001b[43m[\u001b[49m\u001b[38;5;241;43m2\u001b[39;49m\u001b[43m]\u001b[49m\u001b[38;5;241m=\u001b[39m\u001b[38;5;124m\"\u001b[39m\u001b[38;5;124mram\u001b[39m\u001b[38;5;124m\"\u001b[39m\n",
      "\u001b[1;31mTypeError\u001b[0m: 'tuple' object does not support item assignment"
     ]
    }
   ],
   "source": [
    "emp_name[2]=\"ram\"  # because tuple is immutable"
   ]
  },
  {
   "cell_type": "code",
   "execution_count": 52,
   "id": "a8c78ba4-78e6-4f0b-abd7-738fdafcc4a6",
   "metadata": {},
   "outputs": [],
   "source": [
    "box1 = (\"a\",\"b\")\n",
    "box2 = (\"c\",\"d\")\n",
    "choc_bag = (box1,box2)"
   ]
  },
  {
   "cell_type": "code",
   "execution_count": 53,
   "id": "17bcef76-a419-474c-a91d-f01c47dc6d1e",
   "metadata": {},
   "outputs": [
    {
     "data": {
      "text/plain": [
       "tuple"
      ]
     },
     "execution_count": 53,
     "metadata": {},
     "output_type": "execute_result"
    }
   ],
   "source": [
    "type(choc_bag)"
   ]
  },
  {
   "cell_type": "code",
   "execution_count": 54,
   "id": "55158cae-47ee-493e-999e-84e3da439331",
   "metadata": {},
   "outputs": [
    {
     "data": {
      "text/plain": [
       "(('a', 'b'), ('c', 'd'))"
      ]
     },
     "execution_count": 54,
     "metadata": {},
     "output_type": "execute_result"
    }
   ],
   "source": [
    "choc_bag"
   ]
  },
  {
   "cell_type": "code",
   "execution_count": 55,
   "id": "9a3703a8-edc9-4d08-b814-26e8d12ff914",
   "metadata": {},
   "outputs": [
    {
     "name": "stdout",
     "output_type": "stream",
     "text": [
      "a\n",
      "b\n",
      "c\n",
      "d\n"
     ]
    }
   ],
   "source": [
    "for box in choc_bag:\n",
    "    for choc in box:\n",
    "        print(choc)"
   ]
  },
  {
   "cell_type": "code",
   "execution_count": null,
   "id": "0f02907e-6433-45da-ab63-79b3c2b9c2b8",
   "metadata": {},
   "outputs": [],
   "source": [
    "# sets  >> sets are unorderd collection of unique element"
   ]
  },
  {
   "cell_type": "code",
   "execution_count": 56,
   "id": "e4bb696f-c119-42c8-90a5-ca9c6896f56e",
   "metadata": {},
   "outputs": [],
   "source": [
    "s = {\"red\",\"orange\"}"
   ]
  },
  {
   "cell_type": "code",
   "execution_count": 57,
   "id": "c84e54e8-8a18-4f7a-a064-163237f553c6",
   "metadata": {},
   "outputs": [
    {
     "data": {
      "text/plain": [
       "{'orange', 'red'}"
      ]
     },
     "execution_count": 57,
     "metadata": {},
     "output_type": "execute_result"
    }
   ],
   "source": [
    "s"
   ]
  },
  {
   "cell_type": "code",
   "execution_count": 58,
   "id": "4ca62778-d351-4922-bd98-b740345d8bab",
   "metadata": {},
   "outputs": [
    {
     "data": {
      "text/plain": [
       "set"
      ]
     },
     "execution_count": 58,
     "metadata": {},
     "output_type": "execute_result"
    }
   ],
   "source": [
    "type(s)"
   ]
  },
  {
   "cell_type": "code",
   "execution_count": 59,
   "id": "51fb5ad7-ff76-4489-8e61-30f850bbac43",
   "metadata": {},
   "outputs": [],
   "source": [
    "s = {\"red\",\"orange\",\"red\",\"blue\",\"orange\"}"
   ]
  },
  {
   "cell_type": "code",
   "execution_count": 60,
   "id": "9c001c05-b077-415d-82ed-f23044bb0ca0",
   "metadata": {},
   "outputs": [
    {
     "data": {
      "text/plain": [
       "{'blue', 'orange', 'red'}"
      ]
     },
     "execution_count": 60,
     "metadata": {},
     "output_type": "execute_result"
    }
   ],
   "source": [
    "s   # alphabatical order"
   ]
  },
  {
   "cell_type": "code",
   "execution_count": 61,
   "id": "788acfc6-b275-4529-9427-2ea3d28b6ce2",
   "metadata": {},
   "outputs": [],
   "source": [
    "s = {\"a\",\"a\",\"a\",1,1.1,1.1,1.1,2,2,2}"
   ]
  },
  {
   "cell_type": "code",
   "execution_count": 62,
   "id": "e9470dfa-1d66-4f33-b3c3-cb480fee2b33",
   "metadata": {},
   "outputs": [
    {
     "data": {
      "text/plain": [
       "{1, 1.1, 2, 'a'}"
      ]
     },
     "execution_count": 62,
     "metadata": {},
     "output_type": "execute_result"
    }
   ],
   "source": [
    "s"
   ]
  },
  {
   "cell_type": "code",
   "execution_count": 63,
   "id": "82aed560-2bce-4b7a-9296-0219da69a554",
   "metadata": {},
   "outputs": [
    {
     "ename": "TypeError",
     "evalue": "'set' object is not subscriptable",
     "output_type": "error",
     "traceback": [
      "\u001b[1;31m---------------------------------------------------------------------------\u001b[0m",
      "\u001b[1;31mTypeError\u001b[0m                                 Traceback (most recent call last)",
      "Cell \u001b[1;32mIn[63], line 1\u001b[0m\n\u001b[1;32m----> 1\u001b[0m \u001b[43ms\u001b[49m\u001b[43m[\u001b[49m\u001b[38;5;241;43m0\u001b[39;49m\u001b[43m]\u001b[49m\n",
      "\u001b[1;31mTypeError\u001b[0m: 'set' object is not subscriptable"
     ]
    }
   ],
   "source": [
    "s[0] # because error  > no concept of indexing as sets are unorderd and unique"
   ]
  },
  {
   "cell_type": "code",
   "execution_count": 66,
   "id": "b0643410-2d83-47e1-80fc-63ae4d137140",
   "metadata": {},
   "outputs": [
    {
     "data": {
      "text/plain": [
       "{1, 1.1, 2, 'a'}"
      ]
     },
     "execution_count": 66,
     "metadata": {},
     "output_type": "execute_result"
    }
   ],
   "source": [
    "s"
   ]
  },
  {
   "cell_type": "code",
   "execution_count": 71,
   "id": "0c07d0eb-e840-45db-b3be-81658109a77f",
   "metadata": {},
   "outputs": [],
   "source": [
    "s.add(\"pwskill\") # This has no effect if the element is already present."
   ]
  },
  {
   "cell_type": "code",
   "execution_count": 72,
   "id": "0b13914d-9ab8-4fb5-ac74-e71899070ad7",
   "metadata": {},
   "outputs": [
    {
     "data": {
      "text/plain": [
       "{1, 1.1, 2, 'a', 'pwskill'}"
      ]
     },
     "execution_count": 72,
     "metadata": {},
     "output_type": "execute_result"
    }
   ],
   "source": [
    "s  # mutable set"
   ]
  },
  {
   "cell_type": "code",
   "execution_count": 73,
   "id": "37066d10-ad81-4212-a742-ee899c115bb8",
   "metadata": {},
   "outputs": [],
   "source": [
    "s.remove(\"pwskill\") # Remove an element from a set; it must be a member otherwise error\n"
   ]
  },
  {
   "cell_type": "code",
   "execution_count": 74,
   "id": "ca459925-615e-4056-ba6c-41aeb8e5c785",
   "metadata": {},
   "outputs": [
    {
     "data": {
      "text/plain": [
       "{'Apple', 'banana', 'sugarcan'}"
      ]
     },
     "execution_count": 74,
     "metadata": {},
     "output_type": "execute_result"
    }
   ],
   "source": [
    "# use case of sets >> to get unique elements\n",
    "grocery_list = {\"Apple\",\"banana\",\"banana\",\"sugarcan\",\"sugarcan\"}\n",
    "grocery_list"
   ]
  },
  {
   "cell_type": "code",
   "execution_count": 75,
   "id": "31e3574b-2d35-460d-b242-56661390d641",
   "metadata": {},
   "outputs": [],
   "source": [
    "# dictionary >> which stores the data in the form of key value pair\n",
    "my_dict = {}"
   ]
  },
  {
   "cell_type": "code",
   "execution_count": 76,
   "id": "0e420f4a-e4c6-4443-81f2-c574380fc7e3",
   "metadata": {},
   "outputs": [
    {
     "data": {
      "text/plain": [
       "dict"
      ]
     },
     "execution_count": 76,
     "metadata": {},
     "output_type": "execute_result"
    }
   ],
   "source": [
    "type(my_dict)"
   ]
  },
  {
   "cell_type": "code",
   "execution_count": 77,
   "id": "26495f1f-a104-4b0e-b840-88f4c69f4460",
   "metadata": {},
   "outputs": [],
   "source": [
    "my_dict = {\"key_course\":\"data science\",\"duration\":200}"
   ]
  },
  {
   "cell_type": "code",
   "execution_count": 78,
   "id": "f32e1d17-f87a-462a-a417-f30912922ff3",
   "metadata": {},
   "outputs": [
    {
     "data": {
      "text/plain": [
       "{'key_course': 'data science', 'duration': 200}"
      ]
     },
     "execution_count": 78,
     "metadata": {},
     "output_type": "execute_result"
    }
   ],
   "source": [
    "my_dict"
   ]
  },
  {
   "cell_type": "code",
   "execution_count": 79,
   "id": "736a2f1d-a6bc-480e-bbe4-9c476926f393",
   "metadata": {},
   "outputs": [
    {
     "data": {
      "text/plain": [
       "dict"
      ]
     },
     "execution_count": 79,
     "metadata": {},
     "output_type": "execute_result"
    }
   ],
   "source": [
    "type(my_dict)"
   ]
  },
  {
   "cell_type": "code",
   "execution_count": 80,
   "id": "de3a146a-0de4-46f1-afd7-4aea64a5c355",
   "metadata": {},
   "outputs": [],
   "source": [
    "#use cases\n",
    "phonebook = {\"Dad\":1234,\"Mom\":456}"
   ]
  },
  {
   "cell_type": "code",
   "execution_count": 81,
   "id": "36b48a24-1743-4a4e-aded-21965ccf3631",
   "metadata": {},
   "outputs": [
    {
     "data": {
      "text/plain": [
       "{'Dad': 1234, 'Mom': 456}"
      ]
     },
     "execution_count": 81,
     "metadata": {},
     "output_type": "execute_result"
    }
   ],
   "source": [
    "phonebook"
   ]
  },
  {
   "cell_type": "code",
   "execution_count": 82,
   "id": "7b5fe5a9-cfb3-4c1a-8a3c-a1244734c1ec",
   "metadata": {},
   "outputs": [
    {
     "data": {
      "text/plain": [
       "dict"
      ]
     },
     "execution_count": 82,
     "metadata": {},
     "output_type": "execute_result"
    }
   ],
   "source": [
    "type(phonebook)"
   ]
  },
  {
   "cell_type": "code",
   "execution_count": 83,
   "id": "672c622c-8060-4b68-b1e4-4ef503c6d994",
   "metadata": {},
   "outputs": [
    {
     "data": {
      "text/plain": [
       "1234"
      ]
     },
     "execution_count": 83,
     "metadata": {},
     "output_type": "execute_result"
    }
   ],
   "source": [
    "phonebook[\"Dad\"]"
   ]
  },
  {
   "cell_type": "code",
   "execution_count": 84,
   "id": "886d0f20-7e4d-4112-b7fd-aaeedb50ea33",
   "metadata": {},
   "outputs": [
    {
     "data": {
      "text/plain": [
       "456"
      ]
     },
     "execution_count": 84,
     "metadata": {},
     "output_type": "execute_result"
    }
   ],
   "source": [
    "phonebook[\"Mom\"]"
   ]
  },
  {
   "cell_type": "code",
   "execution_count": null,
   "id": "d72591e2-40fa-46fc-9df3-81904980cafc",
   "metadata": {},
   "outputs": [],
   "source": [
    "phonebook = {\"Dad\":1234,\"Mom\":456,\"Dad\":780}  # you are change the last is a print"
   ]
  },
  {
   "cell_type": "code",
   "execution_count": 85,
   "id": "3ef59666-8cf2-4912-9e43-5f9f85ff6ae6",
   "metadata": {},
   "outputs": [
    {
     "data": {
      "text/plain": [
       "1234"
      ]
     },
     "execution_count": 85,
     "metadata": {},
     "output_type": "execute_result"
    }
   ],
   "source": [
    "phonebook[\"Dad\"]"
   ]
  },
  {
   "cell_type": "code",
   "execution_count": 86,
   "id": "d3726def-c771-4222-b2fb-75fcdf4d4069",
   "metadata": {},
   "outputs": [
    {
     "data": {
      "text/plain": [
       "{'paneer_kofta': 480, 'chicken_handi': 590}"
      ]
     },
     "execution_count": 86,
     "metadata": {},
     "output_type": "execute_result"
    }
   ],
   "source": [
    "rest_menu = {\"paneer_kofta\":480,\"chicken_handi\":590}\n",
    "rest_menu"
   ]
  },
  {
   "cell_type": "code",
   "execution_count": 87,
   "id": "0bd99626-ab20-47f2-a4b7-34df43a1f1af",
   "metadata": {},
   "outputs": [
    {
     "data": {
      "text/plain": [
       "480"
      ]
     },
     "execution_count": 87,
     "metadata": {},
     "output_type": "execute_result"
    }
   ],
   "source": [
    "rest_menu[\"paneer_kofta\"]"
   ]
  },
  {
   "cell_type": "code",
   "execution_count": 88,
   "id": "7373394f-11e6-45be-acb2-afc6a9c11bc0",
   "metadata": {},
   "outputs": [],
   "source": [
    "rest_menu[\"paneer_kofta\"] = 790"
   ]
  },
  {
   "cell_type": "code",
   "execution_count": 89,
   "id": "d06d9ee1-d60b-4fa0-bfe3-219f49cdae00",
   "metadata": {},
   "outputs": [
    {
     "data": {
      "text/plain": [
       "{'paneer_kofta': 790, 'chicken_handi': 590}"
      ]
     },
     "execution_count": 89,
     "metadata": {},
     "output_type": "execute_result"
    }
   ],
   "source": [
    "rest_menu"
   ]
  },
  {
   "cell_type": "code",
   "execution_count": 90,
   "id": "2d79882e-4ae8-4dcb-912b-18849aac76a9",
   "metadata": {},
   "outputs": [
    {
     "data": {
      "text/plain": [
       "{'Dad': 1234, 'Mom': 456}"
      ]
     },
     "execution_count": 90,
     "metadata": {},
     "output_type": "execute_result"
    }
   ],
   "source": [
    "phonebook"
   ]
  },
  {
   "cell_type": "code",
   "execution_count": 91,
   "id": "164117b9-a7f4-4912-861b-7925aa4f1166",
   "metadata": {},
   "outputs": [],
   "source": [
    "phonebook[\"Dad\"]=\"I have a taken a new no again, I dont want to tell you\""
   ]
  },
  {
   "cell_type": "code",
   "execution_count": 92,
   "id": "becb409a-e27d-49c3-a41f-6fb81f324c6b",
   "metadata": {},
   "outputs": [
    {
     "data": {
      "text/plain": [
       "{'Dad': 'I have a taken a new no again, I dont want to tell you', 'Mom': 456}"
      ]
     },
     "execution_count": 92,
     "metadata": {},
     "output_type": "execute_result"
    }
   ],
   "source": [
    "phonebook"
   ]
  },
  {
   "cell_type": "code",
   "execution_count": 93,
   "id": "6f1c6a53-ea1f-41f2-b3a2-a73f4b9a9cee",
   "metadata": {},
   "outputs": [
    {
     "data": {
      "text/plain": [
       "{'paneer_kofta': 790, 'chicken_handi': 590}"
      ]
     },
     "execution_count": 93,
     "metadata": {},
     "output_type": "execute_result"
    }
   ],
   "source": [
    "rest_menu"
   ]
  },
  {
   "cell_type": "code",
   "execution_count": 95,
   "id": "5a978502-9f85-44c9-b18a-55ddea152b0c",
   "metadata": {},
   "outputs": [
    {
     "data": {
      "text/plain": [
       "dict_keys(['paneer_kofta', 'chicken_handi'])"
      ]
     },
     "execution_count": 95,
     "metadata": {},
     "output_type": "execute_result"
    }
   ],
   "source": [
    "rest_menu.keys()"
   ]
  },
  {
   "cell_type": "code",
   "execution_count": 96,
   "id": "759ec239-1481-4061-9ecf-d6b78c0d3f2a",
   "metadata": {},
   "outputs": [
    {
     "data": {
      "text/plain": [
       "dict_keys(['Dad', 'Mom'])"
      ]
     },
     "execution_count": 96,
     "metadata": {},
     "output_type": "execute_result"
    }
   ],
   "source": [
    "phonebook.keys()"
   ]
  },
  {
   "cell_type": "code",
   "execution_count": 97,
   "id": "58cd37c1-80c3-45d2-bd04-df330487220d",
   "metadata": {},
   "outputs": [],
   "source": [
    "from array import array"
   ]
  },
  {
   "cell_type": "code",
   "execution_count": 98,
   "id": "50c32d38-9ba2-4db3-b246-e7532e34cbd5",
   "metadata": {},
   "outputs": [
    {
     "data": {
      "text/plain": [
       "array('i', [1, 2, 3, 4])"
      ]
     },
     "execution_count": 98,
     "metadata": {},
     "output_type": "execute_result"
    }
   ],
   "source": [
    "# array is simillar to list >> homogenous data\n",
    "array('i',[1,2,3,4])"
   ]
  },
  {
   "cell_type": "code",
   "execution_count": 99,
   "id": "da729427-889b-44bb-a765-2620c85390a3",
   "metadata": {},
   "outputs": [
    {
     "data": {
      "text/plain": [
       "str"
      ]
     },
     "execution_count": 99,
     "metadata": {},
     "output_type": "execute_result"
    }
   ],
   "source": [
    "#string\n",
    "s=\"ajay\"\n",
    "type(s)"
   ]
  },
  {
   "cell_type": "code",
   "execution_count": 101,
   "id": "7091a90f-6c99-4638-b803-ed0e16d35f27",
   "metadata": {},
   "outputs": [
    {
     "name": "stdout",
     "output_type": "stream",
     "text": [
      "a\n",
      "j\n",
      "a\n",
      "y\n"
     ]
    }
   ],
   "source": [
    "for i in s:\n",
    "    print(i)"
   ]
  },
  {
   "cell_type": "code",
   "execution_count": 102,
   "id": "8de41b4e-f54e-40ff-b9f6-26a27d698f3a",
   "metadata": {},
   "outputs": [
    {
     "ename": "NameError",
     "evalue": "name 'b' is not defined",
     "output_type": "error",
     "traceback": [
      "\u001b[1;31m---------------------------------------------------------------------------\u001b[0m",
      "\u001b[1;31mNameError\u001b[0m                                 Traceback (most recent call last)",
      "Cell \u001b[1;32mIn[102], line 1\u001b[0m\n\u001b[1;32m----> 1\u001b[0m s[\u001b[38;5;241m0\u001b[39m]\u001b[38;5;241m=\u001b[39m\u001b[43mb\u001b[49m\n",
      "\u001b[1;31mNameError\u001b[0m: name 'b' is not defined"
     ]
    }
   ],
   "source": [
    "s[0]=b  # string is immutable"
   ]
  },
  {
   "cell_type": "code",
   "execution_count": null,
   "id": "6409a9be-6598-487b-aed8-d8c7e231004e",
   "metadata": {},
   "outputs": [],
   "source": []
  },
  {
   "cell_type": "code",
   "execution_count": null,
   "id": "a09ade41-5fa7-423e-a33a-432ec48df5c9",
   "metadata": {},
   "outputs": [],
   "source": []
  },
  {
   "cell_type": "code",
   "execution_count": null,
   "id": "aa0f3140-20dd-4cfe-a23c-e654d0a3d2b8",
   "metadata": {},
   "outputs": [],
   "source": []
  }
 ],
 "metadata": {
  "kernelspec": {
   "display_name": "Python 3 (ipykernel)",
   "language": "python",
   "name": "python3"
  },
  "language_info": {
   "codemirror_mode": {
    "name": "ipython",
    "version": 3
   },
   "file_extension": ".py",
   "mimetype": "text/x-python",
   "name": "python",
   "nbconvert_exporter": "python",
   "pygments_lexer": "ipython3",
   "version": "3.11.9"
  }
 },
 "nbformat": 4,
 "nbformat_minor": 5
}
