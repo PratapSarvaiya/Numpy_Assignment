{
 "cells": [
  {
   "cell_type": "code",
   "execution_count": 3,
   "id": "a7ef281f-09c7-44b6-a706-3cbe34ec2f79",
   "metadata": {},
   "outputs": [
    {
     "data": {
      "text/plain": [
       "'patarp'"
      ]
     },
     "execution_count": 3,
     "metadata": {},
     "output_type": "execute_result"
    }
   ],
   "source": [
    "# 1. write a code to reverse a string.\n",
    "\n",
    "str = \"pratap\"\n",
    "str[::-1]"
   ]
  },
  {
   "cell_type": "code",
   "execution_count": 5,
   "id": "45553bd4-3e07-4aef-9c27-1b229250519f",
   "metadata": {},
   "outputs": [
    {
     "name": "stdin",
     "output_type": "stream",
     "text": [
      "Text:  Welcome Output\n"
     ]
    },
    {
     "name": "stdout",
     "output_type": "stream",
     "text": [
      "Count: 6\n"
     ]
    }
   ],
   "source": [
    "# 2. write a code to count the number of vowels in a string.\n",
    "\n",
    "str = input(\"Text: \")\n",
    "\n",
    "count = 0\n",
    "for character in str:\n",
    "    if (character in \"aAeEiIoOuU\"):\n",
    "        count += 1\n",
    "print(\"Count:\",count)"
   ]
  },
  {
   "cell_type": "code",
   "execution_count": 8,
   "id": "2651a53a-e292-42ae-9957-236c73dcb638",
   "metadata": {},
   "outputs": [
    {
     "name": "stdin",
     "output_type": "stream",
     "text": [
      "please enter the string:  madam\n"
     ]
    },
    {
     "name": "stdout",
     "output_type": "stream",
     "text": [
      "The string is palindrome.\n"
     ]
    }
   ],
   "source": [
    "# 3. write a code to check if a given string is a palindrome or not.\n",
    "\n",
    "string = input(\"please enter the string: \")\n",
    "def palindrome(string):\n",
    "    if(string == string[::-1]):\n",
    "        print(\"The string is palindrome.\")\n",
    "    else:\n",
    "         print(\"The string is not a palindrome.\")\n",
    "palindrome(string)"
   ]
  },
  {
   "cell_type": "code",
   "execution_count": 16,
   "id": "e6c97702-844f-4f46-b2ff-804b3140c217",
   "metadata": {},
   "outputs": [
    {
     "name": "stdin",
     "output_type": "stream",
     "text": [
      "please enter string1:  Listen\n"
     ]
    },
    {
     "ename": "TypeError",
     "evalue": "'str' object is not callable",
     "output_type": "error",
     "traceback": [
      "\u001b[1;31m---------------------------------------------------------------------------\u001b[0m",
      "\u001b[1;31mTypeError\u001b[0m                                 Traceback (most recent call last)",
      "Cell \u001b[1;32mIn[16], line 3\u001b[0m\n\u001b[0;32m      1\u001b[0m \u001b[38;5;66;03m# 4. write a code to check if two given strings are anagrams of each other.\u001b[39;00m\n\u001b[1;32m----> 3\u001b[0m s1 \u001b[38;5;241m=\u001b[39m \u001b[43mstring\u001b[49m\u001b[43m(\u001b[49m\u001b[38;5;28;43minput\u001b[39;49m\u001b[43m(\u001b[49m\u001b[38;5;124;43m\"\u001b[39;49m\u001b[38;5;124;43mplease enter string1: \u001b[39;49m\u001b[38;5;124;43m\"\u001b[39;49m\u001b[43m)\u001b[49m\u001b[43m)\u001b[49m\n\u001b[0;32m      4\u001b[0m s2 \u001b[38;5;241m=\u001b[39m string(\u001b[38;5;28minput\u001b[39m(\u001b[38;5;124m\"\u001b[39m\u001b[38;5;124mplease enter string2: \u001b[39m\u001b[38;5;124m\"\u001b[39m))\n\u001b[0;32m      6\u001b[0m s1 \u001b[38;5;241m=\u001b[39m \u001b[38;5;28msorted\u001b[39m(s1\u001b[38;5;241m.\u001b[39mlower())\n",
      "\u001b[1;31mTypeError\u001b[0m: 'str' object is not callable"
     ]
    }
   ],
   "source": [
    "# 4. write a code to check if two given strings are anagrams of each other.\n",
    "\n",
    "s1 = string(input(\"please enter string1: \"))\n",
    "s2 = string(input(\"please enter string2: \"))\n",
    "\n",
    "s1 = sorted(s1.lower())\n",
    "s2 = sorted(s2.lower())\n",
    "\n",
    "print(\"String 1 after sorting:\",s1)\n",
    "print(\"String 2 after sorting:\",s2)\n",
    "\n",
    "def isAnagram():\n",
    "    if(s1 == s2):\n",
    "        print(\"The strings are anagrams.\")\n",
    "    else:\n",
    "        print(\"The strings are not anagrams.\")\n",
    "isAnagram()"
   ]
  },
  {
   "cell_type": "code",
   "execution_count": 17,
   "id": "d757ba5f-adb9-43f5-a70a-afaef5805301",
   "metadata": {},
   "outputs": [
    {
     "name": "stdin",
     "output_type": "stream",
     "text": [
      "Enter string 1:  Listen\n"
     ]
    },
    {
     "ename": "TypeError",
     "evalue": "'str' object is not callable",
     "output_type": "error",
     "traceback": [
      "\u001b[1;31m---------------------------------------------------------------------------\u001b[0m",
      "\u001b[1;31mTypeError\u001b[0m                                 Traceback (most recent call last)",
      "Cell \u001b[1;32mIn[17], line 2\u001b[0m\n\u001b[0;32m      1\u001b[0m \u001b[38;5;66;03m#Enter input strings\u001b[39;00m\n\u001b[1;32m----> 2\u001b[0m str1 \u001b[38;5;241m=\u001b[39m \u001b[38;5;28;43mstr\u001b[39;49m\u001b[43m(\u001b[49m\u001b[38;5;28;43minput\u001b[39;49m\u001b[43m \u001b[49m\u001b[43m(\u001b[49m\u001b[38;5;124;43m\"\u001b[39;49m\u001b[38;5;124;43mEnter string 1: \u001b[39;49m\u001b[38;5;124;43m\"\u001b[39;49m\u001b[43m)\u001b[49m\u001b[43m)\u001b[49m\n\u001b[0;32m      3\u001b[0m str2 \u001b[38;5;241m=\u001b[39m \u001b[38;5;28mstr\u001b[39m(\u001b[38;5;28minput\u001b[39m (\u001b[38;5;124m\"\u001b[39m\u001b[38;5;124mEnter string 2: \u001b[39m\u001b[38;5;124m\"\u001b[39m))\n\u001b[0;32m      5\u001b[0m \u001b[38;5;66;03m#Convert into lowercase and sort\u001b[39;00m\n",
      "\u001b[1;31mTypeError\u001b[0m: 'str' object is not callable"
     ]
    }
   ],
   "source": [
    "#Enter input strings\n",
    "str1 = str(input (\"Enter string 1: \"))\n",
    "str2 = str(input (\"Enter string 2: \"))\n",
    "\n",
    "#Convert into lowercase and sort\n",
    "str1 = sorted(str1.lower())\n",
    "str2 = sorted(str2.lower())\n",
    "\n",
    "print(\"String 1 after sorting: \", str1)\n",
    "print(\"String 2 after sorting: \", str2)\n",
    "\n",
    "#Define a function to match strings\n",
    "def isAnagram():\n",
    "    if (str1 == str2) :\n",
    "        return \"The strings are anagrams.\"\n",
    "    else:\n",
    "        return \"The strings are not anagrams.\"\n",
    "\n",
    "print(isAnagram())"
   ]
  },
  {
   "cell_type": "code",
   "execution_count": null,
   "id": "51c647a3-cbe7-4d4f-b212-bbb0b847fd71",
   "metadata": {},
   "outputs": [],
   "source": []
  },
  {
   "cell_type": "code",
   "execution_count": null,
   "id": "bf0436d9-4468-4133-a0d3-a248842924b3",
   "metadata": {},
   "outputs": [],
   "source": []
  },
  {
   "cell_type": "code",
   "execution_count": null,
   "id": "dd2e7805-e5d9-45ce-8094-53cb6e2fb26d",
   "metadata": {},
   "outputs": [],
   "source": []
  },
  {
   "cell_type": "code",
   "execution_count": null,
   "id": "e0038764-7233-4fdd-8a3a-85fd22697ee6",
   "metadata": {},
   "outputs": [],
   "source": []
  },
  {
   "cell_type": "code",
   "execution_count": null,
   "id": "1ed1d1a6-6444-4b68-a5ec-29940c80ac9c",
   "metadata": {},
   "outputs": [],
   "source": []
  },
  {
   "cell_type": "code",
   "execution_count": null,
   "id": "a7c1f7aa-2f12-4811-90f8-0578a5ddb7e2",
   "metadata": {},
   "outputs": [],
   "source": []
  },
  {
   "cell_type": "code",
   "execution_count": null,
   "id": "b132e6b4-beef-4874-86c0-3d7e9a5622f1",
   "metadata": {},
   "outputs": [],
   "source": []
  },
  {
   "cell_type": "code",
   "execution_count": null,
   "id": "39ed8aca-9ceb-4584-83ad-717b0a3c3fa5",
   "metadata": {},
   "outputs": [],
   "source": []
  },
  {
   "cell_type": "code",
   "execution_count": null,
   "id": "34f5bc12-eb50-4ef8-a47f-ccce2d6ced98",
   "metadata": {},
   "outputs": [],
   "source": []
  },
  {
   "cell_type": "code",
   "execution_count": null,
   "id": "010a550c-986d-4f1d-8eaf-bce0d967f572",
   "metadata": {},
   "outputs": [],
   "source": []
  },
  {
   "cell_type": "code",
   "execution_count": null,
   "id": "b7712489-6182-4fcb-ad16-544177ee5476",
   "metadata": {},
   "outputs": [],
   "source": []
  },
  {
   "cell_type": "code",
   "execution_count": null,
   "id": "1dcf4651-c539-4477-9f31-7e9c4c2fc833",
   "metadata": {},
   "outputs": [],
   "source": []
  },
  {
   "cell_type": "code",
   "execution_count": null,
   "id": "f25b7168-4727-4889-91ca-66cbd880fa3d",
   "metadata": {},
   "outputs": [],
   "source": []
  }
 ],
 "metadata": {
  "kernelspec": {
   "display_name": "Python 3 (ipykernel)",
   "language": "python",
   "name": "python3"
  },
  "language_info": {
   "codemirror_mode": {
    "name": "ipython",
    "version": 3
   },
   "file_extension": ".py",
   "mimetype": "text/x-python",
   "name": "python",
   "nbconvert_exporter": "python",
   "pygments_lexer": "ipython3",
   "version": "3.11.9"
  }
 },
 "nbformat": 4,
 "nbformat_minor": 5
}
