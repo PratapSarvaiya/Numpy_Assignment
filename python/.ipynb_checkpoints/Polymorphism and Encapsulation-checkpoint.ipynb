{
 "cells": [
  {
   "cell_type": "code",
   "execution_count": 1,
   "id": "306aa111-21f4-4f92-8c44-4ce4250461ad",
   "metadata": {},
   "outputs": [],
   "source": [
    "# polymorphism >> poly means many and morphism means forms/states\n",
    "# refers to an object taking several forms depending on the methods/data"
   ]
  },
  {
   "cell_type": "code",
   "execution_count": 2,
   "id": "1efcab4a-f4a6-4882-947a-2ec5563ec163",
   "metadata": {},
   "outputs": [
    {
     "data": {
      "text/plain": [
       "6"
      ]
     },
     "execution_count": 2,
     "metadata": {},
     "output_type": "execute_result"
    }
   ],
   "source": [
    "len(\"pratap\")"
   ]
  },
  {
   "cell_type": "code",
   "execution_count": 3,
   "id": "4049b086-6626-471a-add4-a7a43982ebee",
   "metadata": {},
   "outputs": [
    {
     "data": {
      "text/plain": [
       "5"
      ]
     },
     "execution_count": 3,
     "metadata": {},
     "output_type": "execute_result"
    }
   ],
   "source": [
    "len([1,2,3,4,5])"
   ]
  },
  {
   "cell_type": "code",
   "execution_count": 4,
   "id": "cee94726-e7ac-4c1e-8337-a0637b8cc593",
   "metadata": {},
   "outputs": [
    {
     "data": {
      "text/plain": [
       "2"
      ]
     },
     "execution_count": 4,
     "metadata": {},
     "output_type": "execute_result"
    }
   ],
   "source": [
    "len((1,2))"
   ]
  },
  {
   "cell_type": "code",
   "execution_count": 6,
   "id": "4dd1008b-7f7d-4d29-b797-774361714276",
   "metadata": {},
   "outputs": [],
   "source": [
    "def func(a,b):\n",
    "    return a+b"
   ]
  },
  {
   "cell_type": "code",
   "execution_count": 7,
   "id": "9b790a83-3ffb-4592-a306-67b83edbc829",
   "metadata": {},
   "outputs": [
    {
     "data": {
      "text/plain": [
       "5"
      ]
     },
     "execution_count": 7,
     "metadata": {},
     "output_type": "execute_result"
    }
   ],
   "source": [
    "func(2,3) # same +, adding two numbers"
   ]
  },
  {
   "cell_type": "code",
   "execution_count": 8,
   "id": "4b009a0d-6536-46f0-8bd8-deafc770308b",
   "metadata": {},
   "outputs": [
    {
     "data": {
      "text/plain": [
       "'pwskills'"
      ]
     },
     "execution_count": 8,
     "metadata": {},
     "output_type": "execute_result"
    }
   ],
   "source": [
    "func(\"pw\",\"skills\") # same +, combining two strings"
   ]
  },
  {
   "cell_type": "code",
   "execution_count": 9,
   "id": "ef1d802d-f59c-484c-97bf-3b82db7ea337",
   "metadata": {},
   "outputs": [
    {
     "data": {
      "text/plain": [
       "[1, 2, 3, 4, 5, 6]"
      ]
     },
     "execution_count": 9,
     "metadata": {},
     "output_type": "execute_result"
    }
   ],
   "source": [
    "func([1,2,3],[4,5,6])"
   ]
  },
  {
   "cell_type": "code",
   "execution_count": null,
   "id": "9258a83a-d32d-4b64-8245-45590107f911",
   "metadata": {},
   "outputs": [],
   "source": [
    "# observation >> func is taking different forms with respect to different data passed"
   ]
  },
  {
   "cell_type": "code",
   "execution_count": 10,
   "id": "df022397-aa65-4006-b5a5-1cf53e0d4859",
   "metadata": {},
   "outputs": [],
   "source": [
    "class teacher_lecture:\n",
    "    def lec_info(self):\n",
    "        print(\"This is lec info with teacher perspective\")\n",
    "class student_lecture:\n",
    "    def lec_info(self):\n",
    "        print(\"This is lec info with student perspective\")"
   ]
  },
  {
   "cell_type": "code",
   "execution_count": 11,
   "id": "58b86573-642f-4bc7-b608-d4bccfce5bff",
   "metadata": {},
   "outputs": [],
   "source": [
    "obj1 = teacher_lecture()\n",
    "obj2 = student_lecture()\n",
    "class_obj = [obj1,obj2]"
   ]
  },
  {
   "cell_type": "code",
   "execution_count": 15,
   "id": "c90594a2-9416-4514-abe7-ad2b857ccebb",
   "metadata": {},
   "outputs": [],
   "source": [
    "def parcer(class_obj):\n",
    "    for i in class_obj:\n",
    "        i.lec_info() # at this point, lec_info is taking two forms with respective teacher and students"
   ]
  },
  {
   "cell_type": "code",
   "execution_count": 14,
   "id": "74db9f5e-da76-430e-81b4-3818bfa1d408",
   "metadata": {},
   "outputs": [
    {
     "name": "stdout",
     "output_type": "stream",
     "text": [
      "This is lec info with teacher perspective\n",
      "This is lec info with student perspective\n"
     ]
    }
   ],
   "source": [
    "parcer(class_obj)"
   ]
  },
  {
   "cell_type": "code",
   "execution_count": null,
   "id": "d5aab749-ac0d-4d7f-884b-74787d3bf0c9",
   "metadata": {},
   "outputs": [],
   "source": [
    "# polymorphism in oops take places in two ways:\n",
    "# 1] method overloading >> python doesnt support true method overloading \n",
    "# 2] method overriding"
   ]
  },
  {
   "cell_type": "code",
   "execution_count": null,
   "id": "e624e2c8-722c-4378-85bb-7b1f06ed31c2",
   "metadata": {},
   "outputs": [],
   "source": [
    "# method overloading"
   ]
  },
  {
   "cell_type": "code",
   "execution_count": 18,
   "id": "a3fb70a1-2486-4d9a-95a7-cb318ce0c498",
   "metadata": {},
   "outputs": [],
   "source": [
    "class Student:\n",
    "    def student(self):\n",
    "        print(\"welcome to pwskills class\")\n",
    "    def student(self,name = \"\"):\n",
    "         print(\"welcome to pwskills class\",name)\n",
    "    def student(self,name = \"\",course = \"\"):\n",
    "         print(\"welcome to pwskills class\",name,course)"
   ]
  },
  {
   "cell_type": "code",
   "execution_count": 20,
   "id": "e4becc2a-cb06-405b-8547-d0458dfaccfe",
   "metadata": {},
   "outputs": [],
   "source": [
    "stud = Student()"
   ]
  },
  {
   "cell_type": "code",
   "execution_count": 21,
   "id": "e20b427c-b59e-4103-8874-b92444d3d434",
   "metadata": {},
   "outputs": [
    {
     "name": "stdout",
     "output_type": "stream",
     "text": [
      "welcome to pwskills class  \n"
     ]
    }
   ],
   "source": [
    "stud.student()"
   ]
  },
  {
   "cell_type": "code",
   "execution_count": 22,
   "id": "67b275e7-c9d9-41e8-9d0f-9a55f88513ac",
   "metadata": {},
   "outputs": [
    {
     "name": "stdout",
     "output_type": "stream",
     "text": [
      "welcome to pwskills class Pratap \n"
     ]
    }
   ],
   "source": [
    "stud.student(\"Pratap\")"
   ]
  },
  {
   "cell_type": "code",
   "execution_count": 23,
   "id": "faa37d63-62b9-425b-9aa3-58aeb3c57399",
   "metadata": {},
   "outputs": [
    {
     "name": "stdout",
     "output_type": "stream",
     "text": [
      "welcome to pwskills class pratap dsa\n"
     ]
    }
   ],
   "source": [
    "stud.student(\"pratap\",\"dsa\")"
   ]
  },
  {
   "cell_type": "code",
   "execution_count": 24,
   "id": "17fb5352-308f-41dd-9818-6763ab416133",
   "metadata": {},
   "outputs": [],
   "source": [
    "# method overloading >> student method is taking different forms, the last methods overloads the previous ones in the same class\n",
    "class Student:\n",
    "    \n",
    "    def student(self,name = \"\",course = \"\"):\n",
    "         print(\"welcome to pwskills class\",name,course)"
   ]
  },
  {
   "cell_type": "code",
   "execution_count": 25,
   "id": "426bcedf-e067-4106-8930-fd8ee5eaa45a",
   "metadata": {},
   "outputs": [
    {
     "name": "stdout",
     "output_type": "stream",
     "text": [
      "welcome to pwskills class  \n"
     ]
    }
   ],
   "source": [
    "stud = Student()\n",
    "stud.student()"
   ]
  },
  {
   "cell_type": "code",
   "execution_count": 26,
   "id": "a7c21ac5-43d8-419f-9547-1f52057e8c86",
   "metadata": {},
   "outputs": [
    {
     "name": "stdout",
     "output_type": "stream",
     "text": [
      "welcome to pwskills class pratap \n"
     ]
    }
   ],
   "source": [
    "stud.student(\"pratap\")"
   ]
  },
  {
   "cell_type": "code",
   "execution_count": 27,
   "id": "8fdf5dc9-5eea-493d-82c2-1e020ef5a067",
   "metadata": {},
   "outputs": [
    {
     "name": "stdout",
     "output_type": "stream",
     "text": [
      "welcome to pwskills class pratap ds\n"
     ]
    }
   ],
   "source": [
    "stud.student(\"pratap\",\"ds\")"
   ]
  },
  {
   "cell_type": "code",
   "execution_count": null,
   "id": "ee9692b7-3708-4d30-babe-9cb1e4f044c3",
   "metadata": {},
   "outputs": [],
   "source": [
    "# method overloading happens in the same class"
   ]
  },
  {
   "cell_type": "code",
   "execution_count": null,
   "id": "82cb97d7-057c-4451-a40d-032d7e31c1d3",
   "metadata": {},
   "outputs": [],
   "source": [
    "# method overloading  >> method in parent class and child class with same signature, the child class method will be executed"
   ]
  },
  {
   "cell_type": "code",
   "execution_count": 28,
   "id": "1edc171d-448d-4fd3-a13e-9e7888bf4a9f",
   "metadata": {},
   "outputs": [],
   "source": [
    "class Animal:\n",
    "    def sound(self):\n",
    "        print(\"Animal sound\")\n",
    "class Cat(Animal):\n",
    "    def sound(self):\n",
    "        print(\"Cat meows\")"
   ]
  },
  {
   "cell_type": "code",
   "execution_count": 29,
   "id": "60ac65ba-d0ee-451d-993f-38e38d149c6f",
   "metadata": {},
   "outputs": [],
   "source": [
    "anm = Animal()"
   ]
  },
  {
   "cell_type": "code",
   "execution_count": 30,
   "id": "f21982f3-9be3-40bd-8f60-c53fedd7d494",
   "metadata": {},
   "outputs": [
    {
     "name": "stdout",
     "output_type": "stream",
     "text": [
      "Animal sound\n"
     ]
    }
   ],
   "source": [
    "anm.sound()  # animal class"
   ]
  },
  {
   "cell_type": "code",
   "execution_count": 31,
   "id": "d7faebe1-8592-408a-992c-bc5f242ebe23",
   "metadata": {},
   "outputs": [
    {
     "name": "stdout",
     "output_type": "stream",
     "text": [
      "Cat meows\n"
     ]
    }
   ],
   "source": [
    "cat = Cat()\n",
    "cat.sound()  # cat class"
   ]
  },
  {
   "cell_type": "code",
   "execution_count": null,
   "id": "51cfa59f-7d96-411b-aa6c-89bfa36f066a",
   "metadata": {},
   "outputs": [],
   "source": [
    "# Encapsulation >> means hiding something\n",
    "# bundling of data and methods of a class\n",
    "# access modifier >> public,protected,private"
   ]
  },
  {
   "cell_type": "code",
   "execution_count": null,
   "id": "f04065f1-db42-43ef-b5cc-8bbf19c74d0f",
   "metadata": {},
   "outputs": [],
   "source": [
    "# public >>> accessible from anywhere from outside/inside of class"
   ]
  },
  {
   "cell_type": "code",
   "execution_count": 36,
   "id": "166360ca-4ea5-4c70-b147-b2abba9b95f6",
   "metadata": {},
   "outputs": [],
   "source": [
    "class Student:\n",
    "    def __init__(self,name,degree):\n",
    "        self.name = name\n",
    "        self.degree = degree"
   ]
  },
  {
   "cell_type": "code",
   "execution_count": 41,
   "id": "1c5ce3f0-006b-49bb-94a5-16af6196ee86",
   "metadata": {},
   "outputs": [],
   "source": [
    "stud1 = Student(\"Ram\",\"Masters\")"
   ]
  },
  {
   "cell_type": "code",
   "execution_count": 42,
   "id": "4a8e0045-1155-4a16-8ad3-ceebb5a44e3f",
   "metadata": {},
   "outputs": [
    {
     "data": {
      "text/plain": [
       "'Ram'"
      ]
     },
     "execution_count": 42,
     "metadata": {},
     "output_type": "execute_result"
    }
   ],
   "source": [
    "stud1.name"
   ]
  },
  {
   "cell_type": "code",
   "execution_count": 40,
   "id": "b9a7914e-9b12-42d0-b039-3705968524c6",
   "metadata": {},
   "outputs": [
    {
     "data": {
      "text/plain": [
       "'Masters'"
      ]
     },
     "execution_count": 40,
     "metadata": {},
     "output_type": "execute_result"
    }
   ],
   "source": [
    "stud.degree"
   ]
  },
  {
   "cell_type": "code",
   "execution_count": 43,
   "id": "56e3d397-24af-433b-8219-313b6a0291ba",
   "metadata": {},
   "outputs": [
    {
     "data": {
      "text/plain": [
       "'phd'"
      ]
     },
     "execution_count": 43,
     "metadata": {},
     "output_type": "execute_result"
    }
   ],
   "source": [
    "stud2 = Student(\"syam\",\"phd\")\n",
    "stud2.degree"
   ]
  },
  {
   "cell_type": "code",
   "execution_count": 44,
   "id": "c5fad896-5e78-4b03-8209-9b93a2c4c615",
   "metadata": {},
   "outputs": [],
   "source": [
    "stud2.degree = \"Bachelor\""
   ]
  },
  {
   "cell_type": "code",
   "execution_count": 45,
   "id": "7b578a25-4bdf-42b3-9dae-22250ccc0476",
   "metadata": {},
   "outputs": [
    {
     "data": {
      "text/plain": [
       "'Bachelor'"
      ]
     },
     "execution_count": 45,
     "metadata": {},
     "output_type": "execute_result"
    }
   ],
   "source": [
    "stud2.degree"
   ]
  },
  {
   "cell_type": "code",
   "execution_count": null,
   "id": "3ab18441-f9f7-4959-a291-f8e0f375cb68",
   "metadata": {},
   "outputs": [],
   "source": [
    "# private >> the data and method is only accessible within its class,use __to make private"
   ]
  },
  {
   "cell_type": "code",
   "execution_count": 48,
   "id": "54f8eb38-1a8e-4102-9c6c-9407d3ecb7cf",
   "metadata": {},
   "outputs": [],
   "source": [
    "# accessing the public data member inside the other method of same class\n",
    "class Student:\n",
    "    def __init__(self,name,degree):\n",
    "        self.name = name\n",
    "        self.degree = degree\n",
    "    def show(self):\n",
    "        # accessing the private and public data member\n",
    "        print(\"name\",self.name,'degree',self.degree)\n",
    "    "
   ]
  },
  {
   "cell_type": "code",
   "execution_count": 49,
   "id": "5f758e87-f6f3-4320-be71-2d9decfa51e7",
   "metadata": {},
   "outputs": [],
   "source": [
    "ps = Student(\"pratap\",\"Masters\")"
   ]
  },
  {
   "cell_type": "code",
   "execution_count": 50,
   "id": "9e254812-2d95-423d-846e-fd6dd861393b",
   "metadata": {},
   "outputs": [
    {
     "name": "stdout",
     "output_type": "stream",
     "text": [
      "name pratap degree Masters\n"
     ]
    }
   ],
   "source": [
    "ps.show()"
   ]
  },
  {
   "cell_type": "code",
   "execution_count": 51,
   "id": "89618701-e8e6-4ac4-9272-8e0a243d382e",
   "metadata": {},
   "outputs": [
    {
     "data": {
      "text/plain": [
       "'pratap'"
      ]
     },
     "execution_count": 51,
     "metadata": {},
     "output_type": "execute_result"
    }
   ],
   "source": [
    "ps.name"
   ]
  },
  {
   "cell_type": "code",
   "execution_count": 52,
   "id": "a0ded286-20ce-489f-a72d-96ab92f90a4d",
   "metadata": {},
   "outputs": [
    {
     "data": {
      "text/plain": [
       "'Masters'"
      ]
     },
     "execution_count": 52,
     "metadata": {},
     "output_type": "execute_result"
    }
   ],
   "source": [
    "ps.degree"
   ]
  },
  {
   "cell_type": "code",
   "execution_count": null,
   "id": "88bd7244-f901-43f6-aa6a-de15384aec1a",
   "metadata": {},
   "outputs": [],
   "source": [
    "# private >> the data and method is only accessible within its class,use __to make private"
   ]
  },
  {
   "cell_type": "code",
   "execution_count": 60,
   "id": "a0048714-53d5-4ee4-856a-f680a811cac8",
   "metadata": {},
   "outputs": [],
   "source": [
    "class Student:\n",
    "    def __init__(self,name,degree):\n",
    "        self.name = name\n",
    "        self.__degree = degree\n",
    "    def show(self):\n",
    "        # accessing the private and public data member\n",
    "        print(\"name\",self.name,'degree',self.__degree)"
   ]
  },
  {
   "cell_type": "code",
   "execution_count": 62,
   "id": "fef96dc8-edce-4733-ad53-5a534bce2d69",
   "metadata": {},
   "outputs": [],
   "source": [
    "ps = Student(\"pratap\",\"Masters\")"
   ]
  },
  {
   "cell_type": "code",
   "execution_count": 63,
   "id": "acb2bf86-897e-43d8-b222-80475320404d",
   "metadata": {},
   "outputs": [
    {
     "data": {
      "text/plain": [
       "'pratap'"
      ]
     },
     "execution_count": 63,
     "metadata": {},
     "output_type": "execute_result"
    }
   ],
   "source": [
    "ps.name"
   ]
  },
  {
   "cell_type": "code",
   "execution_count": 64,
   "id": "dc353be2-a7df-4036-bf65-4a1ead2eb5b8",
   "metadata": {},
   "outputs": [
    {
     "name": "stdout",
     "output_type": "stream",
     "text": [
      "name pratap degree Masters\n"
     ]
    }
   ],
   "source": [
    "ps.show()"
   ]
  },
  {
   "cell_type": "code",
   "execution_count": 65,
   "id": "654c8e28-c6cc-4e23-b555-cee623090100",
   "metadata": {},
   "outputs": [
    {
     "ename": "AttributeError",
     "evalue": "'Student' object has no attribute 'degree'",
     "output_type": "error",
     "traceback": [
      "\u001b[1;31m---------------------------------------------------------------------------\u001b[0m",
      "\u001b[1;31mAttributeError\u001b[0m                            Traceback (most recent call last)",
      "Cell \u001b[1;32mIn[65], line 1\u001b[0m\n\u001b[1;32m----> 1\u001b[0m \u001b[43mps\u001b[49m\u001b[38;5;241;43m.\u001b[39;49m\u001b[43mdegree\u001b[49m\n",
      "\u001b[1;31mAttributeError\u001b[0m: 'Student' object has no attribute 'degree'"
     ]
    }
   ],
   "source": [
    "ps.degree # it will throw an error as degree is now private data"
   ]
  },
  {
   "cell_type": "code",
   "execution_count": 66,
   "id": "b50dd2e8-97cd-4301-9745-24b254f6fda6",
   "metadata": {},
   "outputs": [
    {
     "ename": "AttributeError",
     "evalue": "'Student' object has no attribute '__degree'",
     "output_type": "error",
     "traceback": [
      "\u001b[1;31m---------------------------------------------------------------------------\u001b[0m",
      "\u001b[1;31mAttributeError\u001b[0m                            Traceback (most recent call last)",
      "Cell \u001b[1;32mIn[66], line 1\u001b[0m\n\u001b[1;32m----> 1\u001b[0m \u001b[43mps\u001b[49m\u001b[38;5;241;43m.\u001b[39;49m\u001b[43m__degree\u001b[49m \u001b[38;5;66;03m# it will throw an error as degree is now private data\u001b[39;00m\n",
      "\u001b[1;31mAttributeError\u001b[0m: 'Student' object has no attribute '__degree'"
     ]
    }
   ],
   "source": [
    "ps.__degree # it will throw an error as degree is now private data"
   ]
  },
  {
   "cell_type": "code",
   "execution_count": 68,
   "id": "5a30f370-e75a-49cf-b038-09b1c513a66c",
   "metadata": {},
   "outputs": [
    {
     "data": {
      "text/plain": [
       "'Masters'"
      ]
     },
     "execution_count": 68,
     "metadata": {},
     "output_type": "execute_result"
    }
   ],
   "source": [
    "ps._Student__degree # say you want to access the private variable using class name"
   ]
  },
  {
   "cell_type": "code",
   "execution_count": 70,
   "id": "5382bf32-0be8-4d5c-9a13-a7080c442dfd",
   "metadata": {},
   "outputs": [],
   "source": [
    "# a method private\n",
    "class Student:\n",
    "    def __init__(self,name,degree): # private data\n",
    "        self.name = name\n",
    "        self.__degree = degree\n",
    "    def show(self):\n",
    "        # accessing the private and public data member\n",
    "        print(\"name\",self.name,'degree',self.__degree)\n",
    "    def __private_method(self):\n",
    "        print(\"This is a private method\")"
   ]
  },
  {
   "cell_type": "code",
   "execution_count": 71,
   "id": "1ff774ac-756f-4ca3-97db-c339eed402e0",
   "metadata": {},
   "outputs": [],
   "source": [
    "obj1 = Student(\"pratap\",\"Masters\")"
   ]
  },
  {
   "cell_type": "code",
   "execution_count": 72,
   "id": "82cbff02-979c-44b4-b8b6-acf629cbb031",
   "metadata": {},
   "outputs": [
    {
     "ename": "AttributeError",
     "evalue": "'Student' object has no attribute 'private_method'",
     "output_type": "error",
     "traceback": [
      "\u001b[1;31m---------------------------------------------------------------------------\u001b[0m",
      "\u001b[1;31mAttributeError\u001b[0m                            Traceback (most recent call last)",
      "Cell \u001b[1;32mIn[72], line 1\u001b[0m\n\u001b[1;32m----> 1\u001b[0m \u001b[43mobj1\u001b[49m\u001b[38;5;241;43m.\u001b[39;49m\u001b[43mprivate_method\u001b[49m() \u001b[38;5;66;03m# throw an error\u001b[39;00m\n",
      "\u001b[1;31mAttributeError\u001b[0m: 'Student' object has no attribute 'private_method'"
     ]
    }
   ],
   "source": [
    "obj1.private_method() # throw an error"
   ]
  },
  {
   "cell_type": "code",
   "execution_count": 73,
   "id": "b6933673-fdad-4d0f-8e06-9c4c570fda97",
   "metadata": {},
   "outputs": [
    {
     "ename": "AttributeError",
     "evalue": "'Student' object has no attribute '__private_method'",
     "output_type": "error",
     "traceback": [
      "\u001b[1;31m---------------------------------------------------------------------------\u001b[0m",
      "\u001b[1;31mAttributeError\u001b[0m                            Traceback (most recent call last)",
      "Cell \u001b[1;32mIn[73], line 1\u001b[0m\n\u001b[1;32m----> 1\u001b[0m \u001b[43mobj1\u001b[49m\u001b[38;5;241;43m.\u001b[39;49m\u001b[43m__private_method\u001b[49m() \u001b[38;5;66;03m# throw an error\u001b[39;00m\n",
      "\u001b[1;31mAttributeError\u001b[0m: 'Student' object has no attribute '__private_method'"
     ]
    }
   ],
   "source": [
    "obj1.__private_method() # throw an error"
   ]
  },
  {
   "cell_type": "code",
   "execution_count": 74,
   "id": "bda30b81-16ee-42ed-b979-47ae4712cad5",
   "metadata": {},
   "outputs": [
    {
     "name": "stdout",
     "output_type": "stream",
     "text": [
      "This is a private method\n"
     ]
    }
   ],
   "source": [
    "obj1._Student__private_method() # accessing private method using class name"
   ]
  },
  {
   "cell_type": "code",
   "execution_count": 75,
   "id": "14a6fb51-48cf-4d1c-8866-3a8205b33997",
   "metadata": {},
   "outputs": [],
   "source": [
    "# way to provide an option to see the private method >> a wrapper\n",
    "\n",
    "class Student:\n",
    "    def __init__(self,name,degree): # private data\n",
    "        self.name = name\n",
    "        self.__degree = degree\n",
    "    def show(self):\n",
    "        # accessing the private and public data member\n",
    "        print(\"name\",self.name,'degree',self.__degree)\n",
    "    def __private_method(self):\n",
    "        print(\"This is a private method\")\n",
    "    def access_private_method(self):\n",
    "        self.__private_method()"
   ]
  },
  {
   "cell_type": "code",
   "execution_count": 76,
   "id": "5be7e56a-8bc9-468f-8843-d6541e97f40c",
   "metadata": {},
   "outputs": [
    {
     "name": "stdout",
     "output_type": "stream",
     "text": [
      "This is a private method\n"
     ]
    }
   ],
   "source": [
    "obj1 = Student(\"ps\",\"Masters\")\n",
    "obj1.access_private_method()"
   ]
  },
  {
   "cell_type": "code",
   "execution_count": 77,
   "id": "f704f928-7e90-4c31-a34a-d4c18c4f02f1",
   "metadata": {},
   "outputs": [],
   "source": [
    "# another use case of modifying the private variable and accessing it\n",
    "class Car:\n",
    "    def __init__(self,year,make,speed,model):\n",
    "        self.__year = year\n",
    "        self.__make = make\n",
    "        self.__speed = speed\n",
    "        self.__model = model\n",
    "        "
   ]
  },
  {
   "cell_type": "code",
   "execution_count": 78,
   "id": "83b3f2e0-a689-42fb-9df1-880f48dfef6a",
   "metadata": {},
   "outputs": [
    {
     "ename": "AttributeError",
     "evalue": "'Car' object has no attribute 'year'",
     "output_type": "error",
     "traceback": [
      "\u001b[1;31m---------------------------------------------------------------------------\u001b[0m",
      "\u001b[1;31mAttributeError\u001b[0m                            Traceback (most recent call last)",
      "Cell \u001b[1;32mIn[78], line 2\u001b[0m\n\u001b[0;32m      1\u001b[0m c1 \u001b[38;5;241m=\u001b[39m Car(\u001b[38;5;124m\"\u001b[39m\u001b[38;5;124m1995\u001b[39m\u001b[38;5;124m\"\u001b[39m,\u001b[38;5;124m\"\u001b[39m\u001b[38;5;124mMaruti\u001b[39m\u001b[38;5;124m\"\u001b[39m,\u001b[38;5;124m\"\u001b[39m\u001b[38;5;124m80\u001b[39m\u001b[38;5;124m\"\u001b[39m,\u001b[38;5;124m\"\u001b[39m\u001b[38;5;124mBrezza\u001b[39m\u001b[38;5;124m\"\u001b[39m)\n\u001b[1;32m----> 2\u001b[0m \u001b[43mc1\u001b[49m\u001b[38;5;241;43m.\u001b[39;49m\u001b[43myear\u001b[49m\n",
      "\u001b[1;31mAttributeError\u001b[0m: 'Car' object has no attribute 'year'"
     ]
    }
   ],
   "source": [
    "c1 = Car(\"1995\",\"Maruti\",\"80\",\"Brezza\")\n",
    "c1.year # since all variables are private, it will throw an error"
   ]
  },
  {
   "cell_type": "code",
   "execution_count": 87,
   "id": "277d14e2-b71a-4faa-869f-4103ee6d6965",
   "metadata": {},
   "outputs": [],
   "source": [
    "class Car:\n",
    "    def __init__(self,year,make,speed,model):\n",
    "        self.__year = year\n",
    "        self.__make = make\n",
    "        self.__speed = speed\n",
    "        self.__model = model\n",
    "    def set_speed(self,speed):\n",
    "        self.__speed = 0 if speed < 0 else speed\n",
    "    def get_speed(self):\n",
    "        return self.__speed"
   ]
  },
  {
   "cell_type": "code",
   "execution_count": 88,
   "id": "a69b7a79-a5b9-4ac8-a3ef-75ad7cca3d62",
   "metadata": {},
   "outputs": [
    {
     "data": {
      "text/plain": [
       "'80'"
      ]
     },
     "execution_count": 88,
     "metadata": {},
     "output_type": "execute_result"
    }
   ],
   "source": [
    "c1 = Car(\"1995\",\"Maruti\",\"80\",\"Brezza\")\n",
    "c1.get_speed()"
   ]
  },
  {
   "cell_type": "code",
   "execution_count": 89,
   "id": "c4623b3b-3352-4cdc-850a-16109f865156",
   "metadata": {},
   "outputs": [],
   "source": [
    "c1.set_speed(-1000)"
   ]
  },
  {
   "cell_type": "code",
   "execution_count": 90,
   "id": "af03d130-51c4-4473-82d7-fdc51bb54835",
   "metadata": {},
   "outputs": [
    {
     "data": {
      "text/plain": [
       "0"
      ]
     },
     "execution_count": 90,
     "metadata": {},
     "output_type": "execute_result"
    }
   ],
   "source": [
    "c1.get_speed()"
   ]
  },
  {
   "cell_type": "code",
   "execution_count": 92,
   "id": "69fb8e82-fa04-47a0-9cd7-7d6010a35978",
   "metadata": {},
   "outputs": [],
   "source": [
    "c1.set_speed(100)"
   ]
  },
  {
   "cell_type": "code",
   "execution_count": 93,
   "id": "858df87d-5518-460c-a5c8-e68cb4a60a3f",
   "metadata": {},
   "outputs": [
    {
     "data": {
      "text/plain": [
       "100"
      ]
     },
     "execution_count": 93,
     "metadata": {},
     "output_type": "execute_result"
    }
   ],
   "source": [
    "c1.get_speed()"
   ]
  },
  {
   "cell_type": "code",
   "execution_count": null,
   "id": "a515011f-f3b5-42dd-a000-a4a96f6c2f02",
   "metadata": {},
   "outputs": [],
   "source": [
    "# another use case"
   ]
  },
  {
   "cell_type": "code",
   "execution_count": 114,
   "id": "bb141e44-e251-434a-baac-3e9aa3953262",
   "metadata": {},
   "outputs": [],
   "source": [
    "class Bank:  # either you deposit or withdraw\n",
    "    def __init__(self,balance):\n",
    "        self.__balance = balance\n",
    "    def deposit(self,amount):  # amount is new deposition\n",
    "        self.__balance = self.__balance + amount\n",
    "    def withdraw(self,amount):\n",
    "        if self.__balance >= amount:\n",
    "            self.__balance = self.__balance - amount\n",
    "            return True\n",
    "        else:\n",
    "            return False\n",
    "    def get_balance(self):\n",
    "        return self.__balance"
   ]
  },
  {
   "cell_type": "code",
   "execution_count": 115,
   "id": "356d6551-cfe1-407d-b831-c7fd7bb6ccef",
   "metadata": {},
   "outputs": [],
   "source": [
    "acc1 = Bank(1000)"
   ]
  },
  {
   "cell_type": "code",
   "execution_count": 116,
   "id": "8ff9568e-9d35-4e5f-9dfc-a9c8c05bc8cc",
   "metadata": {},
   "outputs": [
    {
     "data": {
      "text/plain": [
       "1000"
      ]
     },
     "execution_count": 116,
     "metadata": {},
     "output_type": "execute_result"
    }
   ],
   "source": [
    "acc1.get_balance()"
   ]
  },
  {
   "cell_type": "code",
   "execution_count": 117,
   "id": "2d37e5f1-7364-473c-9ec6-455af8d2879c",
   "metadata": {},
   "outputs": [],
   "source": [
    "acc1.deposit(500)"
   ]
  },
  {
   "cell_type": "code",
   "execution_count": 118,
   "id": "d3d6fa24-7efa-4176-a36b-8305b715442a",
   "metadata": {},
   "outputs": [
    {
     "data": {
      "text/plain": [
       "1500"
      ]
     },
     "execution_count": 118,
     "metadata": {},
     "output_type": "execute_result"
    }
   ],
   "source": [
    "acc1.get_balance()"
   ]
  },
  {
   "cell_type": "code",
   "execution_count": 119,
   "id": "3a301629-aa2a-4551-bed5-af024db35121",
   "metadata": {},
   "outputs": [
    {
     "data": {
      "text/plain": [
       "True"
      ]
     },
     "execution_count": 119,
     "metadata": {},
     "output_type": "execute_result"
    }
   ],
   "source": [
    "acc1.withdraw(100)"
   ]
  },
  {
   "cell_type": "code",
   "execution_count": 120,
   "id": "7ccfb42b-020b-4a3e-9421-ada459eb6934",
   "metadata": {},
   "outputs": [
    {
     "data": {
      "text/plain": [
       "1400"
      ]
     },
     "execution_count": 120,
     "metadata": {},
     "output_type": "execute_result"
    }
   ],
   "source": [
    "acc1.get_balance()"
   ]
  },
  {
   "cell_type": "code",
   "execution_count": 121,
   "id": "474ab2c0-17e7-4827-beeb-07ba917e16f3",
   "metadata": {},
   "outputs": [
    {
     "data": {
      "text/plain": [
       "False"
      ]
     },
     "execution_count": 121,
     "metadata": {},
     "output_type": "execute_result"
    }
   ],
   "source": [
    "acc1.withdraw(1500)"
   ]
  },
  {
   "cell_type": "code",
   "execution_count": null,
   "id": "6fa65ecd-55b3-4fc2-b1c8-85f83f2b3a42",
   "metadata": {},
   "outputs": [],
   "source": [
    "# protected >> within the class and its subclass,protected member can be access, ()"
   ]
  },
  {
   "cell_type": "code",
   "execution_count": 126,
   "id": "a3d15cc9-00f2-44a2-a332-5af35291e037",
   "metadata": {},
   "outputs": [],
   "source": [
    "class College:\n",
    "    def __init__(self):\n",
    "        self._college_name = \"pwskills\"\n",
    "class Student(College):\n",
    "    def __init__(self,name):\n",
    "        self.name = name\n",
    "        College.__init__(self) # accessing variable of base class >> classname__init__(self)\n",
    "    def show(self):\n",
    "        print(\"name\",self.name,self._college_name) # directly call the base class using one underscore"
   ]
  },
  {
   "cell_type": "code",
   "execution_count": 128,
   "id": "ba909590-c932-48f4-bf63-8111a6342fda",
   "metadata": {},
   "outputs": [],
   "source": [
    "stud = Student(\"pratap\")"
   ]
  },
  {
   "cell_type": "code",
   "execution_count": 129,
   "id": "929b5b14-d89c-4fc6-836d-31edb28dd6a5",
   "metadata": {},
   "outputs": [
    {
     "data": {
      "text/plain": [
       "'pratap'"
      ]
     },
     "execution_count": 129,
     "metadata": {},
     "output_type": "execute_result"
    }
   ],
   "source": [
    "stud.name"
   ]
  },
  {
   "cell_type": "code",
   "execution_count": 130,
   "id": "8f455664-566e-45e9-8fcb-5e17d0a467aa",
   "metadata": {},
   "outputs": [
    {
     "name": "stdout",
     "output_type": "stream",
     "text": [
      "name pratap pwskills\n"
     ]
    }
   ],
   "source": [
    "stud.show()"
   ]
  },
  {
   "cell_type": "code",
   "execution_count": 131,
   "id": "9c138ed1-31fa-4c0c-9a15-d627005670c3",
   "metadata": {},
   "outputs": [
    {
     "data": {
      "text/plain": [
       "'pwskills'"
      ]
     },
     "execution_count": 131,
     "metadata": {},
     "output_type": "execute_result"
    }
   ],
   "source": [
    "coll = College()\n",
    "coll._college_name # accessing the protected variable"
   ]
  },
  {
   "cell_type": "code",
   "execution_count": 132,
   "id": "00cb6834-fa09-4ccc-aa5f-01c216a8647d",
   "metadata": {},
   "outputs": [],
   "source": [
    "# another way to accessing the data of base class using super() class\n",
    "\n",
    "class College:\n",
    "    def __init__(self):\n",
    "        self._college_name = \"pwskills\"\n",
    "class Student(College):\n",
    "    def __init__(self,name):\n",
    "        self.name = name\n",
    "        super().__init__()  # include super and remove self, base class is super class\n",
    "    def show(self):\n",
    "        print(\"name\",self.name,self._college_name)"
   ]
  },
  {
   "cell_type": "code",
   "execution_count": 133,
   "id": "57e3681c-dc29-40bc-92d1-803192ec406b",
   "metadata": {},
   "outputs": [],
   "source": [
    "stud = Student(\"pratap\")"
   ]
  },
  {
   "cell_type": "code",
   "execution_count": 134,
   "id": "bc15f3c7-74dc-44b4-be8a-08fcb37ee479",
   "metadata": {},
   "outputs": [
    {
     "name": "stdout",
     "output_type": "stream",
     "text": [
      "name pratap pwskills\n"
     ]
    }
   ],
   "source": [
    "stud.show()"
   ]
  },
  {
   "cell_type": "code",
   "execution_count": null,
   "id": "8252cafe-0f3a-420d-a047-ea6511a0326b",
   "metadata": {},
   "outputs": [],
   "source": []
  }
 ],
 "metadata": {
  "kernelspec": {
   "display_name": "Python 3 (ipykernel)",
   "language": "python",
   "name": "python3"
  },
  "language_info": {
   "codemirror_mode": {
    "name": "ipython",
    "version": 3
   },
   "file_extension": ".py",
   "mimetype": "text/x-python",
   "name": "python",
   "nbconvert_exporter": "python",
   "pygments_lexer": "ipython3",
   "version": "3.11.9"
  }
 },
 "nbformat": 4,
 "nbformat_minor": 5
}
