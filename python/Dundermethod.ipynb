{
 "cells": [
  {
   "cell_type": "code",
   "execution_count": null,
   "id": "aebc4097-7490-4bf5-a25a-40f57cac49fe",
   "metadata": {},
   "outputs": [],
   "source": [
    "# dunder/magic/special method"
   ]
  },
  {
   "cell_type": "code",
   "execution_count": 1,
   "id": "1cfc2f2f-5441-45dc-9d76-0eef5ca712a0",
   "metadata": {},
   "outputs": [
    {
     "name": "stdout",
     "output_type": "stream",
     "text": [
      "Hello world\n"
     ]
    }
   ],
   "source": [
    "print(\"Hello world\")  # print is a keyword/inbuilt function "
   ]
  },
  {
   "cell_type": "code",
   "execution_count": null,
   "id": "a47b4c74-163d-4d02-9d39-2bdf6bc2b582",
   "metadata": {},
   "outputs": [],
   "source": [
    "# dunder/magic/special methods are the methods defined by built-in classess in python \n",
    "# classes define these type of methods for creating cutom objects >> for init means data for every object \n",
    "# implementing operator overloadig in python"
   ]
  },
  {
   "cell_type": "code",
   "execution_count": null,
   "id": "a3651e9d-721f-445a-b7f5-3f0c97c8136b",
   "metadata": {},
   "outputs": [],
   "source": [
    "# meaning of dunder >> d+under\n",
    "# double underscore >>  all the methods surrounding double underscore is a dunder method "
   ]
  },
  {
   "cell_type": "code",
   "execution_count": 2,
   "id": "14497a1a-6e2d-4763-b9da-4728045f813a",
   "metadata": {},
   "outputs": [
    {
     "data": {
      "text/plain": [
       "'pwskills'"
      ]
     },
     "execution_count": 2,
     "metadata": {},
     "output_type": "execute_result"
    }
   ],
   "source": [
    "a = \"pw\"\n",
    "b = \"skills\"\n",
    "a+b"
   ]
  },
  {
   "cell_type": "code",
   "execution_count": 3,
   "id": "f4bf918d-d8d0-4877-a059-5bb7aad5f48a",
   "metadata": {},
   "outputs": [
    {
     "data": {
      "text/plain": [
       "'pwskills'"
      ]
     },
     "execution_count": 3,
     "metadata": {},
     "output_type": "execute_result"
    }
   ],
   "source": [
    "a.__add__(b)  # a dunder method/special/magic method associated with strings"
   ]
  },
  {
   "cell_type": "code",
   "execution_count": 4,
   "id": "cb2bbe3c-7a66-4c2d-967e-c25f48ca756e",
   "metadata": {},
   "outputs": [
    {
     "data": {
      "text/plain": [
       "['__add__',\n",
       " '__class__',\n",
       " '__contains__',\n",
       " '__delattr__',\n",
       " '__dir__',\n",
       " '__doc__',\n",
       " '__eq__',\n",
       " '__format__',\n",
       " '__ge__',\n",
       " '__getattribute__',\n",
       " '__getitem__',\n",
       " '__getnewargs__',\n",
       " '__getstate__',\n",
       " '__gt__',\n",
       " '__hash__',\n",
       " '__init__',\n",
       " '__init_subclass__',\n",
       " '__iter__',\n",
       " '__le__',\n",
       " '__len__',\n",
       " '__lt__',\n",
       " '__mod__',\n",
       " '__mul__',\n",
       " '__ne__',\n",
       " '__new__',\n",
       " '__reduce__',\n",
       " '__reduce_ex__',\n",
       " '__repr__',\n",
       " '__rmod__',\n",
       " '__rmul__',\n",
       " '__setattr__',\n",
       " '__sizeof__',\n",
       " '__str__',\n",
       " '__subclasshook__',\n",
       " 'capitalize',\n",
       " 'casefold',\n",
       " 'center',\n",
       " 'count',\n",
       " 'encode',\n",
       " 'endswith',\n",
       " 'expandtabs',\n",
       " 'find',\n",
       " 'format',\n",
       " 'format_map',\n",
       " 'index',\n",
       " 'isalnum',\n",
       " 'isalpha',\n",
       " 'isascii',\n",
       " 'isdecimal',\n",
       " 'isdigit',\n",
       " 'isidentifier',\n",
       " 'islower',\n",
       " 'isnumeric',\n",
       " 'isprintable',\n",
       " 'isspace',\n",
       " 'istitle',\n",
       " 'isupper',\n",
       " 'join',\n",
       " 'ljust',\n",
       " 'lower',\n",
       " 'lstrip',\n",
       " 'maketrans',\n",
       " 'partition',\n",
       " 'removeprefix',\n",
       " 'removesuffix',\n",
       " 'replace',\n",
       " 'rfind',\n",
       " 'rindex',\n",
       " 'rjust',\n",
       " 'rpartition',\n",
       " 'rsplit',\n",
       " 'rstrip',\n",
       " 'split',\n",
       " 'splitlines',\n",
       " 'startswith',\n",
       " 'strip',\n",
       " 'swapcase',\n",
       " 'title',\n",
       " 'translate',\n",
       " 'upper',\n",
       " 'zfill']"
      ]
     },
     "execution_count": 4,
     "metadata": {},
     "output_type": "execute_result"
    }
   ],
   "source": [
    "# all dunder methods associated with strings\n",
    "dir(str)\n"
   ]
  },
  {
   "cell_type": "code",
   "execution_count": 5,
   "id": "5bc03d76-a1f8-4ccc-bb4d-cd28f527e60b",
   "metadata": {},
   "outputs": [
    {
     "data": {
      "text/plain": [
       "7"
      ]
     },
     "execution_count": 5,
     "metadata": {},
     "output_type": "execute_result"
    }
   ],
   "source": [
    "a = 3 \n",
    "b = 4\n",
    "a.__add__(b)"
   ]
  },
  {
   "cell_type": "code",
   "execution_count": 11,
   "id": "4f0fb93a-1231-4da0-982e-404272edc50e",
   "metadata": {},
   "outputs": [],
   "source": [
    "# usefull dunder methods\n",
    "# __init__ >> to take data with respect to object\n",
    "\n",
    "class Student:\n",
    "     # to initialize the newly created instance/object >> it sets up any initial state/properties of the object\n",
    "    def __init__(self,name):\n",
    "        print(name,\"This is the first thing that will be executed when yoou make instanceobject \")\n"
   ]
  },
  {
   "cell_type": "code",
   "execution_count": 12,
   "id": "8686c879-c27b-4252-aca6-bb3ecf9506e0",
   "metadata": {},
   "outputs": [
    {
     "name": "stdout",
     "output_type": "stream",
     "text": [
      "Pratap This is the first thing that will be executed when yoou make instanceobject \n"
     ]
    }
   ],
   "source": [
    "obj1 = Student(\"Pratap\")"
   ]
  },
  {
   "cell_type": "code",
   "execution_count": 13,
   "id": "7c78a25c-e783-4f40-8fa5-047e8f9b8e00",
   "metadata": {},
   "outputs": [
    {
     "name": "stdout",
     "output_type": "stream",
     "text": [
      "sPratap This is the first thing that will be executed when yoou make instanceobject \n"
     ]
    }
   ],
   "source": [
    "obj2 = Student(\"sPratap\")"
   ]
  },
  {
   "cell_type": "code",
   "execution_count": 14,
   "id": "3daddb8e-09e0-47ec-897c-bd96e012942d",
   "metadata": {},
   "outputs": [],
   "source": [
    "# another magic method >> __new__\n",
    "class Student:\n",
    "    # __new__ is responsible for creating a new instance of the class\n",
    "    def __new__(cls): # since cls >> so it will be refering to the class directly\n",
    "        print(\"This will be executed even before init.\")\n",
    "        # to initialize the newly created instance/object >> it sets up any initial state/properties of the object\n",
    "    def __init__(self,name):\n",
    "        print(name,\"This is the first thing that will be executed when yoou make instanceobject\")\n",
    "            "
   ]
  },
  {
   "cell_type": "code",
   "execution_count": 15,
   "id": "1b8cb40d-5a35-4103-8ce3-e9823b0c05f0",
   "metadata": {},
   "outputs": [
    {
     "name": "stdout",
     "output_type": "stream",
     "text": [
      "This will be executed even before init.\n"
     ]
    }
   ],
   "source": [
    "obj = Student()"
   ]
  },
  {
   "cell_type": "code",
   "execution_count": 16,
   "id": "dbcca276-5e59-493c-9085-f3c6088a7523",
   "metadata": {},
   "outputs": [],
   "source": [
    "# another dunder method >> __str__ >> which returns string representation of method\n",
    "\n",
    "class Student:\n",
    "    def __init__(self):\n",
    "        self.phone = 9999999999"
   ]
  },
  {
   "cell_type": "code",
   "execution_count": 18,
   "id": "fc956287-19b5-4220-8588-b429a39afe58",
   "metadata": {},
   "outputs": [
    {
     "data": {
      "text/plain": [
       "<__main__.Student at 0x20372b17850>"
      ]
     },
     "execution_count": 18,
     "metadata": {},
     "output_type": "execute_result"
    }
   ],
   "source": [
    " Student()"
   ]
  },
  {
   "cell_type": "code",
   "execution_count": 19,
   "id": "4498c578-5c59-4f7e-a95d-abeb06994e2c",
   "metadata": {},
   "outputs": [
    {
     "name": "stdout",
     "output_type": "stream",
     "text": [
      "<__main__.Student object at 0x0000020372B18310>\n"
     ]
    }
   ],
   "source": [
    "print(Student())  # hexadecimal representation of memory of student object"
   ]
  },
  {
   "cell_type": "code",
   "execution_count": 20,
   "id": "a1c21c46-884b-4f2b-8642-16fa507d21d6",
   "metadata": {},
   "outputs": [],
   "source": [
    "class Student:\n",
    "    def __init__(self):\n",
    "        self.phone = 9999999999\n",
    "    def __str__(self):  # __str__ will return a string representation of object\n",
    "        return \"This methods overloads the print statement of object method\""
   ]
  },
  {
   "cell_type": "code",
   "execution_count": 21,
   "id": "d63db624-f0ec-46a9-afdd-d028ead50a42",
   "metadata": {},
   "outputs": [
    {
     "data": {
      "text/plain": [
       "<__main__.Student at 0x20372b0a210>"
      ]
     },
     "execution_count": 21,
     "metadata": {},
     "output_type": "execute_result"
    }
   ],
   "source": [
    "Student()"
   ]
  },
  {
   "cell_type": "code",
   "execution_count": 22,
   "id": "a82a5ce2-0ad2-4f91-8f8f-adc4ba27cf6b",
   "metadata": {},
   "outputs": [
    {
     "name": "stdout",
     "output_type": "stream",
     "text": [
      "This methods overloads the print statement of object method\n"
     ]
    }
   ],
   "source": [
    "print(Student())"
   ]
  },
  {
   "cell_type": "code",
   "execution_count": null,
   "id": "54b1d541-496b-4a2b-a3be-f87395df84c3",
   "metadata": {},
   "outputs": [],
   "source": [
    "# another dunder method __rpr__ >> meaning representation\n",
    "# it returns unambiguous string representation of the object as it is that can be used recreate the object"
   ]
  },
  {
   "cell_type": "code",
   "execution_count": 23,
   "id": "07cf2957-643e-4497-93a9-9f36bcecf1cf",
   "metadata": {},
   "outputs": [],
   "source": [
    "class Myclass:\n",
    "    def __init__(self,x):\n",
    "        self.x = x\n",
    "    def __repr__(self):\n",
    "        return f\"Myclass({self.x})\""
   ]
  },
  {
   "cell_type": "code",
   "execution_count": 25,
   "id": "e0160123-9868-4e3d-b18a-bb0dab8a06bc",
   "metadata": {},
   "outputs": [],
   "source": [
    "obj = Myclass(5)"
   ]
  },
  {
   "cell_type": "code",
   "execution_count": 26,
   "id": "ff169764-cafe-4dfe-a051-947fa6a6abd7",
   "metadata": {},
   "outputs": [
    {
     "data": {
      "text/plain": [
       "Myclass(5)"
      ]
     },
     "execution_count": 26,
     "metadata": {},
     "output_type": "execute_result"
    }
   ],
   "source": [
    "obj"
   ]
  },
  {
   "cell_type": "code",
   "execution_count": 27,
   "id": "eab5b3a0-5b74-490c-b36e-c62896e4f5a0",
   "metadata": {},
   "outputs": [
    {
     "name": "stdout",
     "output_type": "stream",
     "text": [
      "Myclass(5)\n"
     ]
    }
   ],
   "source": [
    "print(repr(obj))"
   ]
  },
  {
   "cell_type": "code",
   "execution_count": 28,
   "id": "aa353d08-4350-48ed-8cc9-fb3b3345199a",
   "metadata": {},
   "outputs": [
    {
     "data": {
      "text/plain": [
       "True"
      ]
     },
     "execution_count": 28,
     "metadata": {},
     "output_type": "execute_result"
    }
   ],
   "source": [
    "# __eq__\n",
    "True == True"
   ]
  },
  {
   "cell_type": "code",
   "execution_count": 29,
   "id": "21248bb1-78b0-4210-840c-e427b4af0681",
   "metadata": {},
   "outputs": [
    {
     "data": {
      "text/plain": [
       "True"
      ]
     },
     "execution_count": 29,
     "metadata": {},
     "output_type": "execute_result"
    }
   ],
   "source": [
    "3 ==3"
   ]
  },
  {
   "cell_type": "code",
   "execution_count": 30,
   "id": "c0fe4816-511f-46f5-b25e-47f8b847982c",
   "metadata": {},
   "outputs": [
    {
     "data": {
      "text/plain": [
       "True"
      ]
     },
     "execution_count": 30,
     "metadata": {},
     "output_type": "execute_result"
    }
   ],
   "source": [
    "a = 3\n",
    "b = 3\n",
    "a.__eq__(b)"
   ]
  },
  {
   "cell_type": "code",
   "execution_count": 31,
   "id": "2d415846-9dba-4e28-82fe-b8af637691b9",
   "metadata": {},
   "outputs": [],
   "source": [
    "# use case of this\n",
    "class Point:\n",
    "    def __init__(self,x,y):\n",
    "        self.x = x\n",
    "        self.y = y\n",
    "    def __eq__(self,other):\n",
    "        return self.x == other.x and self.y == other.y"
   ]
  },
  {
   "cell_type": "code",
   "execution_count": 32,
   "id": "267e2ae7-bb40-41a9-8af8-5cead845231d",
   "metadata": {},
   "outputs": [
    {
     "name": "stdout",
     "output_type": "stream",
     "text": [
      "True\n"
     ]
    }
   ],
   "source": [
    "p1 = Point(1,2)  # comparing both of object\n",
    "p2 = Point(1,2)\n",
    "print(p1==p2)    # when you are using == operator with point objects, python internally calls __eq__"
   ]
  },
  {
   "cell_type": "code",
   "execution_count": 33,
   "id": "c4a4b890-6e81-4e01-ab75-552ac685a248",
   "metadata": {},
   "outputs": [
    {
     "name": "stdout",
     "output_type": "stream",
     "text": [
      "False\n"
     ]
    }
   ],
   "source": [
    "p1 = Point(1,3)\n",
    "p2 = Point(1,2)\n",
    "print(p1==p2)"
   ]
  },
  {
   "cell_type": "code",
   "execution_count": 34,
   "id": "f5c379c3-f018-4d95-a0aa-f9276d0784ca",
   "metadata": {},
   "outputs": [
    {
     "data": {
      "text/plain": [
       "7"
      ]
     },
     "execution_count": 34,
     "metadata": {},
     "output_type": "execute_result"
    }
   ],
   "source": [
    "# __add__\n",
    "a = 3\n",
    "b = 4\n",
    "a+b"
   ]
  },
  {
   "cell_type": "code",
   "execution_count": 40,
   "id": "01b6bc68-d229-4569-964d-fa538a3711fc",
   "metadata": {},
   "outputs": [],
   "source": [
    "class Point:\n",
    "    def __init__(self,x,y):\n",
    "        self.x = x\n",
    "        self.y = y\n",
    "    def __add__(self,other):\n",
    "        return Point(self.x + other.x , self.y + other.y)"
   ]
  },
  {
   "cell_type": "code",
   "execution_count": 41,
   "id": "2836f395-b9c1-4e1e-b7d5-2f242e3d4cd6",
   "metadata": {},
   "outputs": [
    {
     "name": "stdout",
     "output_type": "stream",
     "text": [
      "2 5\n"
     ]
    }
   ],
   "source": [
    "p1 = Point(1,3)\n",
    "p2 = Point(1,2)\n",
    "p3 = p1+p2      # when you are using + operator with point objects, python internally calls __add__\n",
    "print(p3.x,p3.y)"
   ]
  },
  {
   "cell_type": "code",
   "execution_count": 43,
   "id": "837b5b28-b1c1-4535-a387-e325ab895019",
   "metadata": {},
   "outputs": [
    {
     "name": "stdout",
     "output_type": "stream",
     "text": [
      "7 3\n"
     ]
    }
   ],
   "source": [
    "p1 = Point(6,3)\n",
    "p2 = Point(1,0)\n",
    "p3 = p1+p2\n",
    "print(p3.x,p3.y)"
   ]
  },
  {
   "cell_type": "code",
   "execution_count": null,
   "id": "60660a2c-37ec-42f6-a8bd-0cb9a35bf8b1",
   "metadata": {},
   "outputs": [],
   "source": []
  },
  {
   "cell_type": "code",
   "execution_count": null,
   "id": "3173bbff-4da1-48ac-8ab4-32b7f00a1464",
   "metadata": {},
   "outputs": [],
   "source": []
  },
  {
   "cell_type": "code",
   "execution_count": null,
   "id": "9173c829-eb64-4648-8168-f831186e6180",
   "metadata": {},
   "outputs": [],
   "source": []
  },
  {
   "cell_type": "code",
   "execution_count": null,
   "id": "40fe8c3e-684f-465c-be33-31f984cfd1b9",
   "metadata": {},
   "outputs": [],
   "source": []
  },
  {
   "cell_type": "code",
   "execution_count": null,
   "id": "d0a08f1b-92d6-49c1-83cc-5bde5fe6b30d",
   "metadata": {},
   "outputs": [],
   "source": []
  }
 ],
 "metadata": {
  "kernelspec": {
   "display_name": "Python 3 (ipykernel)",
   "language": "python",
   "name": "python3"
  },
  "language_info": {
   "codemirror_mode": {
    "name": "ipython",
    "version": 3
   },
   "file_extension": ".py",
   "mimetype": "text/x-python",
   "name": "python",
   "nbconvert_exporter": "python",
   "pygments_lexer": "ipython3",
   "version": "3.11.9"
  }
 },
 "nbformat": 4,
 "nbformat_minor": 5
}
