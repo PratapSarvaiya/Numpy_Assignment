{
 "cells": [
  {
   "cell_type": "code",
   "execution_count": null,
   "id": "62b1f75c-95c5-4979-bb2e-e1b93baddefa",
   "metadata": {},
   "outputs": [],
   "source": [
    "# decorators >> allows to modify or extend the behaviour or functions/class without directly modify thier original code\n",
    "# similar to you decorating your room (putting different lights,sticker,posters) >> extends/decorates the basic behaviour of the room\n"
   ]
  },
  {
   "cell_type": "code",
   "execution_count": null,
   "id": "c3cadedc-eded-4be5-b548-7ea6b5af73f8",
   "metadata": {},
   "outputs": [],
   "source": [
    "# function decorators and class decorators\n",
    "\n",
    "# function decorators"
   ]
  },
  {
   "cell_type": "raw",
   "id": "a8ef0271-64ca-4f90-a0e0-0aac101576df",
   "metadata": {},
   "source": [
    "# To understand use case>> say you to use the line before computation and after computation after each time you create a function or call function. so it will take a lot\n",
    "of time to type the lines repeatatevely\n",
    "# And that way concept of decorators comes into the picture"
   ]
  },
  {
   "cell_type": "code",
   "execution_count": 3,
   "id": "94fefe7e-7d1e-44a5-8ea4-c907d736d3c6",
   "metadata": {},
   "outputs": [],
   "source": [
    "def my_decorator_func():\n",
    "    print(\"The line before computation.\")\n",
    "    print(11*1200)   # decorating the actual computaion with line above and line below\n",
    "    print(\"The line after computation\")\n",
    "# in the above approach you have to write all the lines as many times as you are creating different functions\n",
    "# lets see the decorator approach"
   ]
  },
  {
   "cell_type": "code",
   "execution_count": 4,
   "id": "1dc0b71e-bbe9-40ac-9f47-03260a5b5664",
   "metadata": {},
   "outputs": [
    {
     "name": "stdout",
     "output_type": "stream",
     "text": [
      "The line before computation.\n",
      "13200\n",
      "The line after computation\n"
     ]
    }
   ],
   "source": [
    "my_decorator_func()"
   ]
  },
  {
   "cell_type": "code",
   "execution_count": 5,
   "id": "6e0647d8-f1eb-45a4-8c14-c9f05b02c1a6",
   "metadata": {},
   "outputs": [],
   "source": [
    "# decorator approach for functions >> use case 1\n",
    "def my_decorator(func): # decorator function that takes another function as argument\n",
    "    def wrapper():  # wrapper is a nested function that adds the functionality before and after calling original func func\n",
    "        print(\"The line before computation\")\n",
    "        func()  # say_hello which is the func here will be executed here\n",
    "        print(\"The line after computation\")\n",
    "    return wrapper"
   ]
  },
  {
   "cell_type": "code",
   "execution_count": 8,
   "id": "12ba1321-9905-4467-9ffc-08f1f25a212a",
   "metadata": {},
   "outputs": [],
   "source": [
    "@my_decorator  # syntax to decorate the say hello function\n",
    "def say_hello():\n",
    "    print(\"hello\")"
   ]
  },
  {
   "cell_type": "code",
   "execution_count": 9,
   "id": "9681184f-ea25-495a-b29a-76360550c920",
   "metadata": {},
   "outputs": [
    {
     "name": "stdout",
     "output_type": "stream",
     "text": [
      "The line before computation\n",
      "hello\n",
      "The line after computation\n"
     ]
    }
   ],
   "source": [
    "say_hello()  # when say_hello is called, it is actually first calling the decorator method >>\n",
    "#which in returns is calling wrapper function and then wrapper function is printing the line and calling the say_hello() function"
   ]
  },
  {
   "cell_type": "code",
   "execution_count": 12,
   "id": "3f2d24e6-0f87-4be3-8e14-42af93ca1856",
   "metadata": {},
   "outputs": [],
   "source": [
    "# another use case of decorater\n",
    "# run time of a code\n",
    "\n",
    "import time\n",
    "def timer_decorator(func):\n",
    "    def timer():\n",
    "        start = time.time()\n",
    "        func()\n",
    "        end = time.time()\n",
    "        print(\"The time for executing the code\", end-start)\n",
    "    return timer"
   ]
  },
  {
   "cell_type": "code",
   "execution_count": 15,
   "id": "9f6c8c15-1f9f-44a6-9dfb-96084425d366",
   "metadata": {},
   "outputs": [],
   "source": [
    "@timer_decorator\n",
    "def func_test():\n",
    "    print(11000000*1000)"
   ]
  },
  {
   "cell_type": "code",
   "execution_count": 16,
   "id": "bbb8dc51-f32d-4e09-b515-64d4f8b9ff7c",
   "metadata": {},
   "outputs": [
    {
     "name": "stdout",
     "output_type": "stream",
     "text": [
      "11000000000\n",
      "The time for executing the code 0.0\n"
     ]
    }
   ],
   "source": [
    "func_test()"
   ]
  },
  {
   "cell_type": "code",
   "execution_count": 17,
   "id": "05a2c194-4ab4-4568-a1a4-9e557acb8020",
   "metadata": {},
   "outputs": [],
   "source": [
    "@timer_decorator\n",
    "def func_test1():\n",
    "    print(11000000+1000*231)"
   ]
  },
  {
   "cell_type": "code",
   "execution_count": 18,
   "id": "2e953ba2-d0d3-4815-bcc7-679c9ae44fac",
   "metadata": {},
   "outputs": [
    {
     "name": "stdout",
     "output_type": "stream",
     "text": [
      "11231000\n",
      "The time for executing the code 0.0\n"
     ]
    }
   ],
   "source": [
    "func_test1()"
   ]
  },
  {
   "cell_type": "code",
   "execution_count": null,
   "id": "491b5083-6b8b-45fa-a64f-8795e710ecc3",
   "metadata": {},
   "outputs": [],
   "source": [
    "# why do need decorators?\n",
    "# reusability of code >> reuse the common code\n",
    "# enhancing the function without modifying the original function\n",
    "# use cases >> execution time of code,loging, caching,validation"
   ]
  },
  {
   "cell_type": "code",
   "execution_count": 27,
   "id": "5c8eb1d0-5bf2-4056-8cbd-b0ea6fb6f0ca",
   "metadata": {},
   "outputs": [],
   "source": [
    "# class decorator >> \n",
    "\n",
    "class MyDecorator:\n",
    "    def __init__(self,func):  # similar to function decorator you are passing func in class decorator\n",
    "        self.func = func\n",
    "    def __call__(self):  \n",
    "        print(\"something is happening before function\")\n",
    "        self.func()\n",
    "        print(\"something is happening after function.\")"
   ]
  },
  {
   "cell_type": "code",
   "execution_count": 26,
   "id": "088b1182-4279-4b6c-ba75-b2884b4b0bda",
   "metadata": {},
   "outputs": [
    {
     "name": "stdout",
     "output_type": "stream",
     "text": [
      "something is happening before function\n",
      "Helllo\n",
      "something is happening after function.\n"
     ]
    }
   ],
   "source": [
    "@MyDecorator  # class __call__ will be executed as the object if the class will be called as function >>> so first __init__ and __call__method will be executed\n",
    "def say_hello():\n",
    "    print(\"Helllo\")\n",
    "say_hello()"
   ]
  },
  {
   "cell_type": "raw",
   "id": "ec43a08e-8373-4612-86e8-cad768a45726",
   "metadata": {},
   "source": [
    " # __call__ is special method which is called/invoked when you call instance/object of the class as a function"
   ]
  },
  {
   "cell_type": "code",
   "execution_count": 33,
   "id": "ee432824-bc37-4cdd-a7da-da813ab7b4e8",
   "metadata": {},
   "outputs": [],
   "source": [
    "class MyDecorator:\n",
    "    def __init__(self):  # similar to function decorator you are passing func in class decorator\n",
    "       # self.func = func\n",
    "        print(\"Inside the init method\")\n",
    "    def __call__(self):  \n",
    "        print(\"something is happening before function\")\n",
    "        #self.func()\n",
    "        print(\"something is happening after function.\")\n"
   ]
  },
  {
   "cell_type": "code",
   "execution_count": 34,
   "id": "ca26c065-6e36-4fce-9776-8d5e57a641b4",
   "metadata": {},
   "outputs": [
    {
     "name": "stdout",
     "output_type": "stream",
     "text": [
      "Inside the init method\n"
     ]
    }
   ],
   "source": [
    "obj1 = MyDecorator() # when you make an object of the class, init is executed first "
   ]
  },
  {
   "cell_type": "code",
   "execution_count": 35,
   "id": "3edc63e2-1a63-4696-8328-677cbb7cd4f7",
   "metadata": {},
   "outputs": [
    {
     "name": "stdout",
     "output_type": "stream",
     "text": [
      "something is happening before function\n",
      "something is happening after function.\n"
     ]
    }
   ],
   "source": [
    "obj1() # when you call an object of a class as function __call__ method will be innvolved"
   ]
  },
  {
   "cell_type": "code",
   "execution_count": null,
   "id": "dd39a57c-52a5-4bd2-8d2d-bc6c9738ffa6",
   "metadata": {},
   "outputs": [],
   "source": [
    "# some inbuilt decorators >> details in the next class\n",
    "# @classmethod >> The method that takes the class itself as the first argument "
   ]
  },
  {
   "cell_type": "code",
   "execution_count": 1,
   "id": "f29467b8-6b41-415d-98a4-5c0911c96fde",
   "metadata": {},
   "outputs": [],
   "source": [
    "class Math:\n",
    "    @classmethod  # takes reference to the class itself to modify and access classs level attribute\n",
    "    def add(cls, x,y):\n",
    "        return cls.__name__, x,y # cls.__name__ >> class Math"
   ]
  },
  {
   "cell_type": "code",
   "execution_count": 2,
   "id": "043f9e76-ad4e-4d7c-a0a1-033d91bda369",
   "metadata": {},
   "outputs": [
    {
     "data": {
      "text/plain": [
       "('Math', 3, 5)"
      ]
     },
     "execution_count": 2,
     "metadata": {},
     "output_type": "execute_result"
    }
   ],
   "source": [
    "Math.add(3,5) # you dont need any init method to take data"
   ]
  },
  {
   "cell_type": "code",
   "execution_count": null,
   "id": "33d11968-0fc3-412a-a29e-6442d9d3bbb3",
   "metadata": {},
   "outputs": [],
   "source": [
    "# class method is bound to class and not the instance of the class,\n",
    "# class itself as the first argument >> conventionally cls"
   ]
  },
  {
   "cell_type": "code",
   "execution_count": null,
   "id": "b5bfedc6-9b5d-44f7-a446-256c68ba74c8",
   "metadata": {},
   "outputs": [],
   "source": [
    "# next inbuilt decorator is static method\n",
    "# static method >> the method which can be called without creating any instance of class, and without using any self or clls"
   ]
  },
  {
   "cell_type": "code",
   "execution_count": 3,
   "id": "c530afbb-c70d-4201-bbc7-3744a1b9b57c",
   "metadata": {},
   "outputs": [],
   "source": [
    "class Math:\n",
    "    def add(self,x,y):\n",
    "        return x+y"
   ]
  },
  {
   "cell_type": "code",
   "execution_count": 4,
   "id": "61e906fa-1dda-4938-ae88-67ba91afd65a",
   "metadata": {},
   "outputs": [],
   "source": [
    "a = Math()  # make object/instance"
   ]
  },
  {
   "cell_type": "code",
   "execution_count": 5,
   "id": "07fab239-cf8a-457e-86d6-ee434bba3e6f",
   "metadata": {},
   "outputs": [
    {
     "data": {
      "text/plain": [
       "5"
      ]
     },
     "execution_count": 5,
     "metadata": {},
     "output_type": "execute_result"
    }
   ],
   "source": [
    "a.add(2,3)  # this is the way to call regular class method"
   ]
  },
  {
   "cell_type": "code",
   "execution_count": 6,
   "id": "c6fd2761-9d68-4156-916d-251156f4efa4",
   "metadata": {},
   "outputs": [],
   "source": [
    "# use of static method\n",
    "class Math:\n",
    "    @staticmethod\n",
    "    def add(x,y): # no need of self or cls\n",
    "        return x+y"
   ]
  },
  {
   "cell_type": "code",
   "execution_count": 7,
   "id": "4aef05e4-2b0c-4751-8eaa-341bdf1775d4",
   "metadata": {},
   "outputs": [
    {
     "data": {
      "text/plain": [
       "5"
      ]
     },
     "execution_count": 7,
     "metadata": {},
     "output_type": "execute_result"
    }
   ],
   "source": [
    "Math.add(2,3)  # no need of making any object"
   ]
  },
  {
   "cell_type": "code",
   "execution_count": null,
   "id": "455ae5fd-f4e7-4831-aabc-9c3961507bb0",
   "metadata": {},
   "outputs": [],
   "source": [
    "# class method to be used when you want to modify class level data\n",
    "# static method >> when you dont want to interact with class level data"
   ]
  },
  {
   "cell_type": "code",
   "execution_count": null,
   "id": "790f6b01-61c3-4aca-aed7-185e34d2c15a",
   "metadata": {},
   "outputs": [],
   "source": [
    "# property decorator >> It allows method to be accessed as attribute "
   ]
  },
  {
   "cell_type": "code",
   "execution_count": 8,
   "id": "d03b66dd-d2b6-4c88-9186-abebc20d4a54",
   "metadata": {},
   "outputs": [],
   "source": [
    "class Circle:\n",
    "    def __init__(self,radius):\n",
    "        self.radius = radius"
   ]
  },
  {
   "cell_type": "code",
   "execution_count": 9,
   "id": "0fc3cadd-03a3-4490-b510-3e4759ad531c",
   "metadata": {},
   "outputs": [],
   "source": [
    "obj = Circle(5)"
   ]
  },
  {
   "cell_type": "code",
   "execution_count": 10,
   "id": "106a20eb-8f78-42c9-93e9-ccd842ec3d99",
   "metadata": {},
   "outputs": [
    {
     "data": {
      "text/plain": [
       "5"
      ]
     },
     "execution_count": 10,
     "metadata": {},
     "output_type": "execute_result"
    }
   ],
   "source": [
    "obj.radius  # accessing data/attribute"
   ]
  },
  {
   "cell_type": "code",
   "execution_count": 11,
   "id": "7f16201c-a52c-42c7-b20f-b2322eb1e8f2",
   "metadata": {},
   "outputs": [],
   "source": [
    "class Circle:\n",
    "    def __init__(self,radius):\n",
    "        self.radius = radius\n",
    "    def area(self):\n",
    "        radius = self.radius\n",
    "        return 3.14*radius**2"
   ]
  },
  {
   "cell_type": "code",
   "execution_count": 14,
   "id": "3a3c639b-e4c3-49aa-91b2-ba9fd59fbab8",
   "metadata": {},
   "outputs": [
    {
     "data": {
      "text/plain": [
       "5"
      ]
     },
     "execution_count": 14,
     "metadata": {},
     "output_type": "execute_result"
    }
   ],
   "source": [
    "obj = Circle(5)\n",
    "obj.radius"
   ]
  },
  {
   "cell_type": "code",
   "execution_count": 15,
   "id": "ed8cca3d-f3c6-4fba-9593-a255ca983108",
   "metadata": {},
   "outputs": [
    {
     "data": {
      "text/plain": [
       "78.5"
      ]
     },
     "execution_count": 15,
     "metadata": {},
     "output_type": "execute_result"
    }
   ],
   "source": [
    "obj.area()  # earlier"
   ]
  },
  {
   "cell_type": "code",
   "execution_count": 16,
   "id": "288e7daa-7e06-4607-b54f-e4516756555e",
   "metadata": {},
   "outputs": [],
   "source": [
    "# using property decorator\n",
    "class Circle:\n",
    "    def __init__(self,radius):\n",
    "        self.radius = radius\n",
    "    def area(self):\n",
    "        radius = self.radius\n",
    "        return 3.14*radius**2"
   ]
  },
  {
   "cell_type": "code",
   "execution_count": 19,
   "id": "dc1efde7-fd71-4387-abaa-2355ea0e026c",
   "metadata": {},
   "outputs": [
    {
     "data": {
      "text/plain": [
       "78.5"
      ]
     },
     "execution_count": 19,
     "metadata": {},
     "output_type": "execute_result"
    }
   ],
   "source": [
    "obj1 = Circle(5)\n",
    "obj1.area # no need of parenthesis"
   ]
  },
  {
   "cell_type": "code",
   "execution_count": null,
   "id": "53c3d807-0282-4173-80e4-e6e257154fb5",
   "metadata": {},
   "outputs": [],
   "source": []
  }
 ],
 "metadata": {
  "kernelspec": {
   "display_name": "Python 3 (ipykernel)",
   "language": "python",
   "name": "python3"
  },
  "language_info": {
   "codemirror_mode": {
    "name": "ipython",
    "version": 3
   },
   "file_extension": ".py",
   "mimetype": "text/x-python",
   "name": "python",
   "nbconvert_exporter": "python",
   "pygments_lexer": "ipython3",
   "version": "3.11.9"
  }
 },
 "nbformat": 4,
 "nbformat_minor": 5
}
