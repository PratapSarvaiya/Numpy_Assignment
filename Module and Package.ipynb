{
 "cells": [
  {
   "cell_type": "code",
   "execution_count": null,
   "id": "6f92a909-47a1-4a6c-889f-6069ad1013ac",
   "metadata": {},
   "outputs": [],
   "source": [
    "# Module :- python file >> valid usable python code 1] function 2] class 3] code\n",
    "            Reausable code is a module"
   ]
  }
 ],
 "metadata": {
  "kernelspec": {
   "display_name": "Python 3 (ipykernel)",
   "language": "python",
   "name": "python3"
  },
  "language_info": {
   "codemirror_mode": {
    "name": "ipython",
    "version": 3
   },
   "file_extension": ".py",
   "mimetype": "text/x-python",
   "name": "python",
   "nbconvert_exporter": "python",
   "pygments_lexer": "ipython3",
   "version": "3.10.11"
  }
 },
 "nbformat": 4,
 "nbformat_minor": 5
}
