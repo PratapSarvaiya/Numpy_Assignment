{
 "cells": [
  {
   "cell_type": "code",
   "execution_count": null,
   "id": "44e0b82b-f5fe-4414-852d-5b57d73d2825",
   "metadata": {},
   "outputs": [],
   "source": [
    "# Operators\n",
    "\n",
    "        1] Arithmetic \n",
    "        2] Comparison\n",
    "        3] logical\n",
    "        4] Assignment\n",
    "        5] Bistwise\n",
    "        6] Membership\n",
    "        7] Identity"
   ]
  },
  {
   "cell_type": "code",
   "execution_count": 2,
   "id": "aa3632ef-1c3d-4424-9890-aefe9d32b590",
   "metadata": {},
   "outputs": [
    {
     "name": "stdout",
     "output_type": "stream",
     "text": [
      "30\n"
     ]
    }
   ],
   "source": [
    "# Arithmetic \n",
    "\n",
    "num1 = 10\n",
    "num2 = 20\n",
    "\n",
    "print(num1+num2)\n"
   ]
  },
  {
   "cell_type": "code",
   "execution_count": 3,
   "id": "c2ff8ab3-71e9-42fb-ada4-38ed751c6157",
   "metadata": {},
   "outputs": [
    {
     "name": "stdout",
     "output_type": "stream",
     "text": [
      "10\n"
     ]
    }
   ],
   "source": [
    "print(num2-num1)"
   ]
  },
  {
   "cell_type": "code",
   "execution_count": 4,
   "id": "40747e56-d9c1-4af0-875a-4e0df22eb9f3",
   "metadata": {},
   "outputs": [
    {
     "name": "stdout",
     "output_type": "stream",
     "text": [
      "200\n"
     ]
    }
   ],
   "source": [
    "print(num1*num2)"
   ]
  },
  {
   "cell_type": "code",
   "execution_count": 5,
   "id": "e75dfeec-69e5-44c6-baaa-49219380bd84",
   "metadata": {},
   "outputs": [
    {
     "name": "stdout",
     "output_type": "stream",
     "text": [
      "2.0\n"
     ]
    }
   ],
   "source": [
    "print(num2/num1)"
   ]
  },
  {
   "cell_type": "code",
   "execution_count": 6,
   "id": "56714d9b-26e2-4276-ab8b-0ade18bc4274",
   "metadata": {},
   "outputs": [
    {
     "name": "stdout",
     "output_type": "stream",
     "text": [
      "7.666666666666667\n"
     ]
    }
   ],
   "source": [
    "print(23/3)"
   ]
  },
  {
   "cell_type": "code",
   "execution_count": 7,
   "id": "3c3e7d9e-660d-4a16-bea7-d522e2d6d71b",
   "metadata": {},
   "outputs": [
    {
     "name": "stdout",
     "output_type": "stream",
     "text": [
      "7\n"
     ]
    }
   ],
   "source": [
    "# quotient always integer\n",
    "print(23//3)"
   ]
  },
  {
   "cell_type": "code",
   "execution_count": 8,
   "id": "d6270b9d-80ae-403f-8381-df4cd33125f6",
   "metadata": {},
   "outputs": [
    {
     "name": "stdout",
     "output_type": "stream",
     "text": [
      "2\n"
     ]
    }
   ],
   "source": [
    "# Reminder\n",
    "print(23%3)"
   ]
  },
  {
   "cell_type": "code",
   "execution_count": 10,
   "id": "5ddde611-a0b7-4f57-b82c-f432de589fd5",
   "metadata": {},
   "outputs": [
    {
     "name": "stdin",
     "output_type": "stream",
     "text": [
      "Enter the number 8\n"
     ]
    },
    {
     "name": "stdout",
     "output_type": "stream",
     "text": [
      "True\n"
     ]
    }
   ],
   "source": [
    "num = int(input(\"Enter the number\"))\n",
    "\n",
    "print(num%2==0)"
   ]
  },
  {
   "cell_type": "code",
   "execution_count": 11,
   "id": "4a2e0c53-91b3-46f3-9757-df065244561a",
   "metadata": {},
   "outputs": [
    {
     "name": "stdout",
     "output_type": "stream",
     "text": [
      "8\n"
     ]
    }
   ],
   "source": [
    "# Exponent\n",
    "print(2**3)"
   ]
  },
  {
   "cell_type": "code",
   "execution_count": 12,
   "id": "159f3c7a-52c3-4a5f-b2a0-8bad3f4d0ac2",
   "metadata": {},
   "outputs": [
    {
     "name": "stdout",
     "output_type": "stream",
     "text": [
      "inf\n"
     ]
    }
   ],
   "source": [
    "# pos_inf = possitive infinity\n",
    "pos_inf = float(\"inf\")\n",
    "print(pos_inf)"
   ]
  },
  {
   "cell_type": "code",
   "execution_count": 14,
   "id": "2b825ffb-5635-4401-9d47-ace753920685",
   "metadata": {},
   "outputs": [
    {
     "name": "stdout",
     "output_type": "stream",
     "text": [
      "-inf\n"
     ]
    }
   ],
   "source": [
    "# neg_inf = negative infinity\n",
    "neg_inf = float(\"-inf\")\n",
    "print(neg_inf)"
   ]
  },
  {
   "cell_type": "code",
   "execution_count": 15,
   "id": "16878f43-e314-4ad7-adc3-b5598f426fac",
   "metadata": {},
   "outputs": [
    {
     "name": "stdout",
     "output_type": "stream",
     "text": [
      "nan\n"
     ]
    }
   ],
   "source": [
    "nan = float('nan')\n",
    "print(nan)"
   ]
  },
  {
   "cell_type": "code",
   "execution_count": null,
   "id": "f116bfe2-c935-46c4-96aa-bdaa51630033",
   "metadata": {},
   "outputs": [],
   "source": [
    "# Comparison Operator\n",
    "\n",
    "num1 = 10\n",
    "num2 = 20\n"
   ]
  },
  {
   "cell_type": "code",
   "execution_count": 16,
   "id": "b4fc567c-f790-48f5-8e88-f2c5cf611cde",
   "metadata": {},
   "outputs": [
    {
     "name": "stdout",
     "output_type": "stream",
     "text": [
      "False\n"
     ]
    }
   ],
   "source": [
    "# Equality operator\n",
    "print(num1==num2)"
   ]
  },
  {
   "cell_type": "code",
   "execution_count": 19,
   "id": "85d160a8-3be1-4473-84d8-5d365920fe8b",
   "metadata": {},
   "outputs": [
    {
     "name": "stdout",
     "output_type": "stream",
     "text": [
      "True\n"
     ]
    }
   ],
   "source": [
    "print(num1!=num2)"
   ]
  },
  {
   "cell_type": "code",
   "execution_count": 20,
   "id": "6d719ecb-4335-44c4-8d23-53a4aee87e9d",
   "metadata": {},
   "outputs": [
    {
     "name": "stdout",
     "output_type": "stream",
     "text": [
      "True\n"
     ]
    }
   ],
   "source": [
    "print(num1 <= num2)"
   ]
  },
  {
   "cell_type": "code",
   "execution_count": 21,
   "id": "86bf1770-25c0-42cf-8487-73eecfff06b2",
   "metadata": {},
   "outputs": [
    {
     "name": "stdout",
     "output_type": "stream",
     "text": [
      "False\n"
     ]
    }
   ],
   "source": [
    "print(num1 >= num2)"
   ]
  },
  {
   "cell_type": "code",
   "execution_count": 23,
   "id": "59099758-0304-4778-9052-619497032afd",
   "metadata": {},
   "outputs": [
    {
     "name": "stdout",
     "output_type": "stream",
     "text": [
      "False\n"
     ]
    }
   ],
   "source": [
    "print(num1 > num2)"
   ]
  },
  {
   "cell_type": "code",
   "execution_count": 24,
   "id": "b9b2a2e6-48f3-4508-b14b-aedc806f4198",
   "metadata": {},
   "outputs": [
    {
     "name": "stdout",
     "output_type": "stream",
     "text": [
      "False\n"
     ]
    }
   ],
   "source": [
    "print(pos_inf==neg_inf)"
   ]
  },
  {
   "cell_type": "code",
   "execution_count": 27,
   "id": "7f62ba7c-7413-4861-b68f-54f4a7574a86",
   "metadata": {},
   "outputs": [],
   "source": [
    "x = float('nan')\n",
    "y = 5\n",
    "z = float('nan')"
   ]
  },
  {
   "cell_type": "code",
   "execution_count": 28,
   "id": "37ff9f73-004a-4c92-aa84-da17df6d1ad5",
   "metadata": {},
   "outputs": [
    {
     "name": "stdout",
     "output_type": "stream",
     "text": [
      "False\n"
     ]
    }
   ],
   "source": [
    "print(x == y)"
   ]
  },
  {
   "cell_type": "code",
   "execution_count": 29,
   "id": "71fbc491-d0fb-49e3-9728-4714110514ec",
   "metadata": {},
   "outputs": [
    {
     "name": "stdout",
     "output_type": "stream",
     "text": [
      "False\n"
     ]
    }
   ],
   "source": [
    "print(z == x)"
   ]
  },
  {
   "cell_type": "code",
   "execution_count": null,
   "id": "b5d985db-4c8c-4f38-b915-10c1efbfa851",
   "metadata": {},
   "outputs": [],
   "source": [
    "# Assignment operator"
   ]
  },
  {
   "cell_type": "code",
   "execution_count": null,
   "id": "aa8994d6-31db-4a2b-9d11-b5d42dc42e4b",
   "metadata": {},
   "outputs": [],
   "source": [
    "name = \"pratap\""
   ]
  },
  {
   "cell_type": "code",
   "execution_count": null,
   "id": "6fb4ed9b-d7e6-48b3-bd62-ee08dfcc3cc2",
   "metadata": {},
   "outputs": [],
   "source": [
    "x = 5"
   ]
  },
  {
   "cell_type": "code",
   "execution_count": 31,
   "id": "194d5b1e-7200-42fb-bad2-0a6508dfa520",
   "metadata": {
    "scrolled": true
   },
   "outputs": [
    {
     "name": "stdout",
     "output_type": "stream",
     "text": [
      "10\n"
     ]
    }
   ],
   "source": [
    "x = 5\n",
    "x = x+5\n",
    "print(x)"
   ]
  },
  {
   "cell_type": "code",
   "execution_count": 32,
   "id": "6c5bf01e-fbd8-4336-a538-688a294b7979",
   "metadata": {},
   "outputs": [
    {
     "name": "stdout",
     "output_type": "stream",
     "text": [
      "15\n"
     ]
    }
   ],
   "source": [
    "x +=5\n",
    "print(x)"
   ]
  },
  {
   "cell_type": "code",
   "execution_count": 33,
   "id": "87878883-7008-4a3d-85c9-42228156fa27",
   "metadata": {},
   "outputs": [
    {
     "name": "stdout",
     "output_type": "stream",
     "text": [
      "12\n"
     ]
    }
   ],
   "source": [
    "x -=3\n",
    "print(x)"
   ]
  },
  {
   "cell_type": "code",
   "execution_count": 34,
   "id": "5f490378-4e3a-40c6-882a-8a6880d48f23",
   "metadata": {},
   "outputs": [
    {
     "name": "stdout",
     "output_type": "stream",
     "text": [
      "24\n"
     ]
    }
   ],
   "source": [
    "x *=2\n",
    "print(x)"
   ]
  },
  {
   "cell_type": "code",
   "execution_count": 35,
   "id": "43933604-27ab-4529-b482-4861a4c9e8a9",
   "metadata": {},
   "outputs": [
    {
     "name": "stdout",
     "output_type": "stream",
     "text": [
      "6.0\n"
     ]
    }
   ],
   "source": [
    "x /=4\n",
    "\n",
    "print(x)"
   ]
  },
  {
   "cell_type": "code",
   "execution_count": null,
   "id": "ace4521c-469d-4976-8201-4d09272506e9",
   "metadata": {},
   "outputs": [],
   "source": [
    "# Logical Operator"
   ]
  },
  {
   "cell_type": "code",
   "execution_count": null,
   "id": "65d59fbd-04b8-4f81-8f7c-186d4c6ec8d3",
   "metadata": {},
   "outputs": [],
   "source": [
    "# And operator : True and True is true otherwise false"
   ]
  },
  {
   "cell_type": "code",
   "execution_count": 41,
   "id": "6081fdaa-f250-4363-9ed6-2f624cab46a3",
   "metadata": {},
   "outputs": [
    {
     "name": "stdout",
     "output_type": "stream",
     "text": [
      "True\n"
     ]
    }
   ],
   "source": [
    "print(True & True)"
   ]
  },
  {
   "cell_type": "code",
   "execution_count": 42,
   "id": "36c49644-ef09-45f6-b118-c26d0b71a3f9",
   "metadata": {},
   "outputs": [
    {
     "name": "stdout",
     "output_type": "stream",
     "text": [
      "True\n"
     ]
    }
   ],
   "source": [
    "print(True and True)"
   ]
  },
  {
   "cell_type": "code",
   "execution_count": 45,
   "id": "431dc663-fb71-46f6-a796-ab3dfde4bed8",
   "metadata": {},
   "outputs": [
    {
     "name": "stdout",
     "output_type": "stream",
     "text": [
      "False\n",
      "False\n",
      "False\n"
     ]
    }
   ],
   "source": [
    "print(True and False)\n",
    "print(False and True)\n",
    "print(False and False)"
   ]
  },
  {
   "cell_type": "code",
   "execution_count": 46,
   "id": "b5524a29-5f93-411b-9e35-a6d3fb57b9f6",
   "metadata": {},
   "outputs": [
    {
     "name": "stdout",
     "output_type": "stream",
     "text": [
      "True\n",
      "True\n",
      "True\n",
      "False\n"
     ]
    }
   ],
   "source": [
    "# Or Operator :- One is true then always true but two false the false\n",
    "\n",
    "print(True or True)\n",
    "print(True or False)\n",
    "print(False or True)\n",
    "print(False or False)"
   ]
  },
  {
   "cell_type": "code",
   "execution_count": 47,
   "id": "c3064dd0-0fc4-4994-9029-5cd804692a1d",
   "metadata": {},
   "outputs": [
    {
     "name": "stdout",
     "output_type": "stream",
     "text": [
      "False\n"
     ]
    }
   ],
   "source": [
    "# Not operator :- not oparetor or nu undhu\n",
    "\n",
    "print(not True)"
   ]
  },
  {
   "cell_type": "code",
   "execution_count": 48,
   "id": "22b1eff5-7599-4167-b1b3-ff3bb06c3d27",
   "metadata": {},
   "outputs": [
    {
     "name": "stdout",
     "output_type": "stream",
     "text": [
      "True\n"
     ]
    }
   ],
   "source": [
    "print(not 5>7)"
   ]
  },
  {
   "cell_type": "code",
   "execution_count": null,
   "id": "e9b0157e-2baa-4127-a0f2-267b90baf8a7",
   "metadata": {},
   "outputs": [],
   "source": [
    "# XOR Operator:- this operator is one true and false then true but two are same false"
   ]
  },
  {
   "cell_type": "code",
   "execution_count": 51,
   "id": "6738bf3a-836a-4b9f-9183-976bc9aa4f7d",
   "metadata": {},
   "outputs": [
    {
     "name": "stdout",
     "output_type": "stream",
     "text": [
      "True\n",
      "True\n",
      "False\n",
      "False\n"
     ]
    }
   ],
   "source": [
    "print(True ^ False)\n",
    "print(False ^ True)\n",
    "print(True ^ True)\n",
    "print(False ^ False)"
   ]
  },
  {
   "cell_type": "code",
   "execution_count": 53,
   "id": "dbb6b7fb-40fd-4651-9a34-34fab4e33ded",
   "metadata": {},
   "outputs": [
    {
     "name": "stdout",
     "output_type": "stream",
     "text": [
      "1\n"
     ]
    }
   ],
   "source": [
    "# Bitwise and Operator\n",
    "\n",
    "num1 = 5 # 5=101\n",
    "num2 = 3 # 3=011\n",
    "print(num1 & num2) # num1 & num2 =001:-1"
   ]
  },
  {
   "cell_type": "code",
   "execution_count": 54,
   "id": "55c8dfd5-56bd-472e-8eec-f40c983c3bcc",
   "metadata": {},
   "outputs": [
    {
     "name": "stdout",
     "output_type": "stream",
     "text": [
      "7\n"
     ]
    }
   ],
   "source": [
    "# Bitwise or Operator\n",
    "print(num1 | num2)"
   ]
  },
  {
   "cell_type": "code",
   "execution_count": 55,
   "id": "dc03af4a-8110-40c0-b037-1466d42968de",
   "metadata": {},
   "outputs": [
    {
     "name": "stdout",
     "output_type": "stream",
     "text": [
      "0.0\n"
     ]
    }
   ],
   "source": [
    "# Important\n",
    "\n",
    "print(1-4*0.25)"
   ]
  },
  {
   "cell_type": "code",
   "execution_count": 56,
   "id": "8a5c902e-8d63-48b2-990b-977e22370192",
   "metadata": {},
   "outputs": [
    {
     "name": "stdout",
     "output_type": "stream",
     "text": [
      "1.1102230246251565e-16\n"
     ]
    }
   ],
   "source": [
    "# this number is first convert to binary then output\n",
    "\n",
    "print(0.9-3*0.3)"
   ]
  },
  {
   "cell_type": "code",
   "execution_count": 57,
   "id": "6876381a-aa2d-43ae-9e1e-719bb51538d1",
   "metadata": {},
   "outputs": [
    {
     "name": "stdout",
     "output_type": "stream",
     "text": [
      "10\n"
     ]
    }
   ],
   "source": [
    "num = 5\n",
    "print(num << 1)"
   ]
  },
  {
   "cell_type": "code",
   "execution_count": 60,
   "id": "555b729c-053c-4e43-ad56-f1351e02b189",
   "metadata": {},
   "outputs": [
    {
     "name": "stdout",
     "output_type": "stream",
     "text": [
      "20\n"
     ]
    }
   ],
   "source": [
    "num = 10\n",
    "print(num << 1)"
   ]
  },
  {
   "cell_type": "code",
   "execution_count": 61,
   "id": "a163c3f9-bb9d-4de2-abdc-062e4bc68575",
   "metadata": {},
   "outputs": [
    {
     "name": "stdout",
     "output_type": "stream",
     "text": [
      "240\n"
     ]
    }
   ],
   "source": [
    "num = 120\n",
    "print(num << 1)"
   ]
  },
  {
   "cell_type": "code",
   "execution_count": 62,
   "id": "7482d0a7-cb5a-4117-82ca-c1fd22e7f06c",
   "metadata": {},
   "outputs": [
    {
     "name": "stdout",
     "output_type": "stream",
     "text": [
      "60\n"
     ]
    }
   ],
   "source": [
    "print(num >> 1)"
   ]
  },
  {
   "cell_type": "code",
   "execution_count": 63,
   "id": "945fe8ca-a56a-41aa-ab07-5ac5eff3ebd1",
   "metadata": {},
   "outputs": [
    {
     "name": "stdout",
     "output_type": "stream",
     "text": [
      "True\n"
     ]
    }
   ],
   "source": [
    "# intity operator\n",
    "\n",
    "x = 5\n",
    "y = 5\n",
    "\n",
    "print(x is y)"
   ]
  },
  {
   "cell_type": "code",
   "execution_count": 64,
   "id": "b21ba3f1-aae3-4f54-a214-888eb0ea91de",
   "metadata": {},
   "outputs": [
    {
     "name": "stdout",
     "output_type": "stream",
     "text": [
      "False\n",
      "True\n"
     ]
    }
   ],
   "source": [
    "arr1 = [1,2,3]\n",
    "arr2 = [1,2,3]\n",
    "\n",
    "print(arr1 is arr2)\n",
    "print(arr1 is not arr2)"
   ]
  },
  {
   "cell_type": "code",
   "execution_count": 65,
   "id": "7657b0b6-d0ff-45b8-af5a-edaa1272daaa",
   "metadata": {},
   "outputs": [
    {
     "name": "stdout",
     "output_type": "stream",
     "text": [
      "True\n",
      "False\n"
     ]
    }
   ],
   "source": [
    "# Membership operator\n",
    "\n",
    "my_list = [1,2,3,4,5]\n",
    "print( 5 in my_list)\n",
    "print( 7 in my_list)"
   ]
  },
  {
   "cell_type": "code",
   "execution_count": 66,
   "id": "995bc042-5b52-48a2-bacf-61a0f48ee2a5",
   "metadata": {},
   "outputs": [
    {
     "name": "stdout",
     "output_type": "stream",
     "text": [
      "False\n"
     ]
    }
   ],
   "source": [
    "print(5 not in my_list)"
   ]
  },
  {
   "cell_type": "code",
   "execution_count": 68,
   "id": "e8daeb4f-fbf8-4134-876f-2945dc04ed0a",
   "metadata": {},
   "outputs": [
    {
     "name": "stdout",
     "output_type": "stream",
     "text": [
      "34\n"
     ]
    }
   ],
   "source": [
    "# Prescedence operator\n",
    "\n",
    "result = 4+5*6\n",
    "print(result)"
   ]
  },
  {
   "cell_type": "code",
   "execution_count": null,
   "id": "9e89742e-6149-450c-8724-2530fa65f23e",
   "metadata": {},
   "outputs": [],
   "source": [
    "highest 1] parentheses\n",
    "        2] Exponentiation\n",
    "        3] unary plus and minus\n",
    "        4] Multiplication,/division,// Floor division,%modulus\n",
    "        5] addition and substraction\n",
    "        6] Bitwise shifts\n",
    "        7] Bitwise AND\n",
    "        8] Bitwise XOR\n",
    "        9]  Bitwise OR\n",
    "        10] Comparision operator\n",
    "        11] Membership\n",
    "        12] Identity\n",
    "        13] Logical NOT\n",
    "        14] Logical AND\n",
    "        15] Logical OR"
   ]
  },
  {
   "cell_type": "code",
   "execution_count": 13,
   "id": "c27c960f-c9b5-44e5-bdcc-bb1bf0adfc03",
   "metadata": {},
   "outputs": [
    {
     "name": "stdin",
     "output_type": "stream",
     "text": [
      "Enter the number:  2008\n"
     ]
    },
    {
     "name": "stdout",
     "output_type": "stream",
     "text": [
      "Given Year is not a leap Year\n"
     ]
    }
   ],
   "source": [
    "def CheckLeap(Year):  \n",
    "  # Checking if the given year is leap year  \n",
    "  if((Year % 400 != 0) and  \n",
    "     (Year % 100 == 0) and\n",
    "     (Year % 4 == 0)):   \n",
    "    print(\"Given Year is a leap Year\");  \n",
    "  # Else it is not a leap year  \n",
    "  else:  \n",
    "    print (\"Given Year is not a leap Year\")  \n",
    "# Taking an input year from user  \n",
    "Year = int(input(\"Enter the number: \"))  \n",
    "# Printing result  \n",
    "CheckLeap(Year)  "
   ]
  },
  {
   "cell_type": "code",
   "execution_count": null,
   "id": "de3f6183-efba-4f57-94d7-a35246cbadba",
   "metadata": {},
   "outputs": [],
   "source": []
  }
 ],
 "metadata": {
  "kernelspec": {
   "display_name": "Python 3 (ipykernel)",
   "language": "python",
   "name": "python3"
  },
  "language_info": {
   "codemirror_mode": {
    "name": "ipython",
    "version": 3
   },
   "file_extension": ".py",
   "mimetype": "text/x-python",
   "name": "python",
   "nbconvert_exporter": "python",
   "pygments_lexer": "ipython3",
   "version": "3.10.11"
  }
 },
 "nbformat": 4,
 "nbformat_minor": 5
}
