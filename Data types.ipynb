{
 "cells": [
  {
   "cell_type": "code",
   "execution_count": 1,
   "id": "20cf1c70-74a5-4411-8cee-10f69ab445a1",
   "metadata": {},
   "outputs": [
    {
     "name": "stdout",
     "output_type": "stream",
     "text": [
      "<class 'int'>\n"
     ]
    }
   ],
   "source": [
    "# numerical data type\n",
    "x=5\n",
    "print(type(x))"
   ]
  },
  {
   "cell_type": "code",
   "execution_count": 2,
   "id": "3f03c09d-8d64-42aa-ad0f-6b4e311056ea",
   "metadata": {},
   "outputs": [
    {
     "name": "stdout",
     "output_type": "stream",
     "text": [
      "<class 'float'>\n"
     ]
    }
   ],
   "source": [
    "#Float\n",
    "price = 26.56\n",
    "print(type(price))"
   ]
  },
  {
   "cell_type": "code",
   "execution_count": 4,
   "id": "00024e83-4f93-47e8-bfa3-b1913cc9e5ad",
   "metadata": {},
   "outputs": [
    {
     "name": "stdout",
     "output_type": "stream",
     "text": [
      "3000000.0\n",
      "<class 'float'>\n"
     ]
    }
   ],
   "source": [
    "\n",
    "num = 3e6\n",
    "print(num)\n",
    "print(type(num))"
   ]
  },
  {
   "cell_type": "code",
   "execution_count": 6,
   "id": "004ebfdc-3643-4aef-bcd4-c964d449598e",
   "metadata": {},
   "outputs": [
    {
     "name": "stdout",
     "output_type": "stream",
     "text": [
      "(4+5j)\n",
      "<class 'complex'>\n"
     ]
    }
   ],
   "source": [
    "# Complex\n",
    "z = 4 + 5j\n",
    "print(z)\n",
    "print(type(z))"
   ]
  },
  {
   "cell_type": "code",
   "execution_count": 7,
   "id": "d37a0ab0-5f50-4f22-8ca7-6cdcc696f9e2",
   "metadata": {},
   "outputs": [
    {
     "name": "stdout",
     "output_type": "stream",
     "text": [
      "5\n"
     ]
    }
   ],
   "source": [
    "# inbuilt function\n",
    "print(abs(-5))"
   ]
  },
  {
   "cell_type": "code",
   "execution_count": 9,
   "id": "8224d349-4ce5-4023-a196-05c69c1d2a6c",
   "metadata": {},
   "outputs": [
    {
     "name": "stdout",
     "output_type": "stream",
     "text": [
      "5\n",
      "4\n",
      "5\n"
     ]
    }
   ],
   "source": [
    "print(round(4.75))\n",
    "print(round(4.5))\n",
    "print(round(4.7))"
   ]
  },
  {
   "cell_type": "code",
   "execution_count": 10,
   "id": "bfc7e9d5-0971-4d64-b032-7c7e1d749c5e",
   "metadata": {},
   "outputs": [
    {
     "name": "stdout",
     "output_type": "stream",
     "text": [
      "8\n"
     ]
    }
   ],
   "source": [
    "print(pow(2,3))"
   ]
  },
  {
   "cell_type": "code",
   "execution_count": 13,
   "id": "b0a9ef60-44b6-4c04-8df0-49fdcc7a375f",
   "metadata": {},
   "outputs": [
    {
     "name": "stdout",
     "output_type": "stream",
     "text": [
      "1\n",
      "8\n",
      "30\n"
     ]
    }
   ],
   "source": [
    "# Minimum and maximum\n",
    "nums = [3,5,6,7,8,1]\n",
    "\n",
    "print(min(nums))\n",
    "\n",
    "print(max(nums))\n",
    "\n",
    "print(sum(nums))"
   ]
  },
  {
   "cell_type": "code",
   "execution_count": null,
   "id": "b7c164cc-37bb-4fbb-a21b-e29945e00c45",
   "metadata": {},
   "outputs": [],
   "source": [
    "# Sequence data type\n",
    "Group / sequence of character and using single and double qoute and triple quote"
   ]
  },
  {
   "cell_type": "code",
   "execution_count": 15,
   "id": "14e3bc6b-603b-4d0a-8482-aa7524560d84",
   "metadata": {},
   "outputs": [
    {
     "name": "stdout",
     "output_type": "stream",
     "text": [
      "<class 'str'>\n",
      "<class 'str'>\n",
      "<class 'str'>\n"
     ]
    }
   ],
   "source": [
    "name = 'pratap'\n",
    "city = \"Surat\"\n",
    "Country = '''India'''\n",
    "print(type(name))\n",
    "print(type(city))\n",
    "print(type(Country))"
   ]
  },
  {
   "cell_type": "code",
   "execution_count": 16,
   "id": "9ae88ad5-a888-4844-b5d0-ad42ca5549ef",
   "metadata": {},
   "outputs": [
    {
     "name": "stdout",
     "output_type": "stream",
     "text": [
      "<class 'str'>\n"
     ]
    }
   ],
   "source": [
    "msg = '''\n",
    "Hello my dear friends,\n",
    "this is my learning!\n",
    "'''\n",
    "print(type(msg))"
   ]
  },
  {
   "cell_type": "code",
   "execution_count": 17,
   "id": "01bb29d6-ba75-4657-be88-e2358413f9a8",
   "metadata": {},
   "outputs": [
    {
     "name": "stdout",
     "output_type": "stream",
     "text": [
      "t\n"
     ]
    }
   ],
   "source": [
    "# index \n",
    "  index is \" + \" start left to right\n",
    "  index is \" - \" start right to left\n",
    "\n",
    "\n",
    "  [0,length-1]\n",
    "  [-1,-length]\n",
    "\n",
    "  string is immutable : easy and safe to work in the concurent env\n",
    "\n",
    "  password is immutable\n"
   ]
  },
  {
   "cell_type": "code",
   "execution_count": null,
   "id": "13b08ba4-2623-4c67-be23-d16c29efbc45",
   "metadata": {},
   "outputs": [],
   "source": [
    "name = \"pratap sarvaiya\"\n",
    "print(name[3])"
   ]
  },
  {
   "cell_type": "code",
   "execution_count": 21,
   "id": "3c8c642e-0193-4038-b636-d5ce14b1d003",
   "metadata": {},
   "outputs": [
    {
     "name": "stdout",
     "output_type": "stream",
     "text": [
      "i\n"
     ]
    }
   ],
   "source": [
    "print(name[12])"
   ]
  },
  {
   "cell_type": "code",
   "execution_count": null,
   "id": "ce5cac31-9f0c-407c-9f1f-dbea5ce8a501",
   "metadata": {},
   "outputs": [],
   "source": [
    "# string index out of range\n",
    "print(name[17])"
   ]
  },
  {
   "cell_type": "code",
   "execution_count": 22,
   "id": "cb8691a4-59f9-478c-a96e-97507468deb7",
   "metadata": {},
   "outputs": [
    {
     "name": "stdout",
     "output_type": "stream",
     "text": [
      "a\n"
     ]
    }
   ],
   "source": [
    "print(name[-1])"
   ]
  },
  {
   "cell_type": "code",
   "execution_count": 23,
   "id": "739ca1f6-0606-4758-957f-84cd29242b50",
   "metadata": {},
   "outputs": [
    {
     "name": "stdout",
     "output_type": "stream",
     "text": [
      "a\n"
     ]
    }
   ],
   "source": [
    "print(name[-4])"
   ]
  },
  {
   "cell_type": "code",
   "execution_count": 24,
   "id": "2be76b36-bdc9-4dcb-9e57-c2d4681fdb72",
   "metadata": {},
   "outputs": [
    {
     "name": "stdout",
     "output_type": "stream",
     "text": [
      "v\n"
     ]
    }
   ],
   "source": [
    "print(name[-5])"
   ]
  },
  {
   "cell_type": "code",
   "execution_count": 25,
   "id": "4fb6ccaa-cbde-428e-b2e3-591821d00e07",
   "metadata": {},
   "outputs": [
    {
     "ename": "TypeError",
     "evalue": "'str' object does not support item assignment",
     "output_type": "error",
     "traceback": [
      "\u001b[1;31m---------------------------------------------------------------------------\u001b[0m",
      "\u001b[1;31mTypeError\u001b[0m                                 Traceback (most recent call last)",
      "Cell \u001b[1;32mIn[25], line 2\u001b[0m\n\u001b[0;32m      1\u001b[0m \u001b[38;5;28mstr\u001b[39m \u001b[38;5;241m=\u001b[39m \u001b[38;5;124m\"\u001b[39m\u001b[38;5;124mpratap sarvaiya\u001b[39m\u001b[38;5;124m\"\u001b[39m\n\u001b[1;32m----> 2\u001b[0m \u001b[38;5;28;43mstr\u001b[39;49m\u001b[43m[\u001b[49m\u001b[38;5;241;43m0\u001b[39;49m\u001b[43m]\u001b[49m \u001b[38;5;241m=\u001b[39m \u001b[38;5;124m'\u001b[39m\u001b[38;5;124mx\u001b[39m\u001b[38;5;124m'\u001b[39m\n",
      "\u001b[1;31mTypeError\u001b[0m: 'str' object does not support item assignment"
     ]
    }
   ],
   "source": [
    "str = \"pratap sarvaiya\"\n",
    "str[0] = 'x'"
   ]
  },
  {
   "cell_type": "code",
   "execution_count": 26,
   "id": "490c8740-3b6b-452c-b20f-63d58e7363e6",
   "metadata": {},
   "outputs": [
    {
     "name": "stdout",
     "output_type": "stream",
     "text": [
      "pratapSarvaiya\n"
     ]
    }
   ],
   "source": [
    "# String concating as well as join : concatenation operater\n",
    "\n",
    "first_name = \"pratap\"\n",
    "last_name = \"Sarvaiya\"\n",
    "complete_name = first_name + last_name\n",
    "print(complete_name)"
   ]
  },
  {
   "cell_type": "code",
   "execution_count": 27,
   "id": "0af38244-9d00-40d2-8187-9ba9201e98f8",
   "metadata": {},
   "outputs": [
    {
     "name": "stdout",
     "output_type": "stream",
     "text": [
      "pratap Sarvaiya\n"
     ]
    }
   ],
   "source": [
    "# now you will be use in space\n",
    "first_name = \"pratap\"\n",
    "last_name = \"Sarvaiya\"\n",
    "complete_name = first_name +\" \"+ last_name\n",
    "print(complete_name)"
   ]
  },
  {
   "cell_type": "code",
   "execution_count": null,
   "id": "b697772d-e1e3-4124-9899-5ca8bdb195e1",
   "metadata": {},
   "outputs": [],
   "source": []
  },
  {
   "cell_type": "code",
   "execution_count": 29,
   "id": "181d7eba-0365-40ac-b4c8-a13138719aef",
   "metadata": {},
   "outputs": [
    {
     "name": "stdout",
     "output_type": "stream",
     "text": [
      "15\n"
     ]
    }
   ],
   "source": [
    "# length of the string\n",
    "print(len(complete_name))"
   ]
  },
  {
   "cell_type": "code",
   "execution_count": 31,
   "id": "ef4db1d4-b0e3-4f0b-98e0-b96ea081100f",
   "metadata": {},
   "outputs": [
    {
     "name": "stdout",
     "output_type": "stream",
     "text": [
      "ata\n"
     ]
    }
   ],
   "source": [
    "#Slicing \n",
    "str = \"pratap sarvaiya\"\n",
    "print(str[2:5])"
   ]
  },
  {
   "cell_type": "code",
   "execution_count": 32,
   "id": "f6bec388-b17a-4db3-a4a4-48d68fd74e02",
   "metadata": {},
   "outputs": [
    {
     "name": "stdout",
     "output_type": "stream",
     "text": [
      "atap Sarvaiya\n"
     ]
    }
   ],
   "source": [
    "# start from 2 and continue end of element\n",
    "print(str[2:])"
   ]
  },
  {
   "cell_type": "code",
   "execution_count": 33,
   "id": "92130bf4-1d26-408c-94a6-a73ab52007d9",
   "metadata": {},
   "outputs": [
    {
     "name": "stdout",
     "output_type": "stream",
     "text": [
      "pratap Sarva\n"
     ]
    }
   ],
   "source": [
    "# start from 0 to end 12\n",
    "print(str[:12])"
   ]
  },
  {
   "cell_type": "code",
   "execution_count": 34,
   "id": "3cb9d372-ccd5-4c0a-a3e4-db1c8d3fb00b",
   "metadata": {},
   "outputs": [
    {
     "name": "stdout",
     "output_type": "stream",
     "text": [
      "pratap Sarvaiya\n"
     ]
    }
   ],
   "source": [
    "# start from begin and end of element\n",
    "print(str[:])"
   ]
  },
  {
   "cell_type": "code",
   "execution_count": 36,
   "id": "7f29ba6d-9dcf-4565-b7d1-0dd10609547f",
   "metadata": {},
   "outputs": [
    {
     "name": "stdout",
     "output_type": "stream",
     "text": [
      "atap Sarva\n"
     ]
    }
   ],
   "source": [
    "\n",
    "print(str[-13:-3])"
   ]
  },
  {
   "cell_type": "code",
   "execution_count": 39,
   "id": "033563ac-dbc8-42b0-a71e-4b0d7970e6da",
   "metadata": {},
   "outputs": [
    {
     "name": "stdout",
     "output_type": "stream",
     "text": [
      "ratap Sarva\n"
     ]
    }
   ],
   "source": [
    "print(str[-14:12])"
   ]
  },
  {
   "cell_type": "code",
   "execution_count": 48,
   "id": "f5a8d5f8-80dd-49e3-8bc0-2066ce46d4b4",
   "metadata": {},
   "outputs": [
    {
     "name": "stdout",
     "output_type": "stream",
     "text": [
      "  PRATAP SARVAIYA\n",
      "  pratap sarvaiya\n",
      "  pratap sarvaiya\n",
      "pratap sarvaiya\n"
     ]
    }
   ],
   "source": [
    "# all this method is a create a new string\n",
    "\n",
    "str = \"  pratap sarvaiya\"\n",
    "print(str.upper())\n",
    "print(str.lower())\n",
    "print(str.capitalize())\n",
    "print(str.strip())"
   ]
  },
  {
   "cell_type": "code",
   "execution_count": 50,
   "id": "29bc2889-43d8-43be-a73d-b9fb2178751e",
   "metadata": {},
   "outputs": [
    {
     "name": "stdout",
     "output_type": "stream",
     "text": [
      "Hello dear, We are very good, We are very nice, I am Wow\n"
     ]
    }
   ],
   "source": [
    "# replace method and you choose 2 times change you use optional parameter\n",
    "\n",
    "str = \"Hello dear, I am very good, I am very nice, I am Wow\"\n",
    "print(str.replace(\"I am\",\"We are\",2))"
   ]
  },
  {
   "cell_type": "code",
   "execution_count": 51,
   "id": "e7ac0bd9-dcbc-4137-9fad-fc6331e02b49",
   "metadata": {},
   "outputs": [
    {
     "name": "stdout",
     "output_type": "stream",
     "text": [
      "Hello \n",
      " pratap\n"
     ]
    }
   ],
   "source": [
    "# Escape character\n",
    "\n",
    "print(\"Hello \\n pratap\")  # \\n is used to new line"
   ]
  },
  {
   "cell_type": "code",
   "execution_count": 52,
   "id": "ba733376-650d-4b4f-8c36-33c8b2336cf6",
   "metadata": {},
   "outputs": [
    {
     "name": "stdout",
     "output_type": "stream",
     "text": [
      "Hello \t pratap\n"
     ]
    }
   ],
   "source": [
    "print(\"Hello \\t pratap\")  # \\t is used to space in two word"
   ]
  },
  {
   "cell_type": "code",
   "execution_count": 56,
   "id": "59d04ddd-6705-44c1-a509-4c31a936d663",
   "metadata": {},
   "outputs": [
    {
     "name": "stdout",
     "output_type": "stream",
     "text": [
      "sarvaiya \"pratap\"\n"
     ]
    }
   ],
   "source": [
    "print(\"sarvaiya \\\"pratap\\\"\")   # \\\"pratap\\\" Escape character"
   ]
  },
  {
   "cell_type": "code",
   "execution_count": null,
   "id": "eb8af21a-8e75-4578-8f7c-b0c908bb195c",
   "metadata": {},
   "outputs": [],
   "source": []
  }
 ],
 "metadata": {
  "kernelspec": {
   "display_name": "Python 3 (ipykernel)",
   "language": "python",
   "name": "python3"
  },
  "language_info": {
   "codemirror_mode": {
    "name": "ipython",
    "version": 3
   },
   "file_extension": ".py",
   "mimetype": "text/x-python",
   "name": "python",
   "nbconvert_exporter": "python",
   "pygments_lexer": "ipython3",
   "version": "3.10.11"
  }
 },
 "nbformat": 4,
 "nbformat_minor": 5
}
