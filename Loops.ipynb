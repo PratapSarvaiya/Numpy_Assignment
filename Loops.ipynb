{
 "cells": [
  {
   "cell_type": "code",
   "execution_count": 1,
   "id": "d3d62dee-8b8d-4e26-bd83-924a5fc33b5f",
   "metadata": {},
   "outputs": [
    {
     "name": "stdout",
     "output_type": "stream",
     "text": [
      "apple\n",
      "banana\n",
      "chhery\n",
      "date\n",
      "elderberry\n"
     ]
    }
   ],
   "source": [
    "fruits = [\"apple\",\"banana\",\"chhery\",\"date\",\"elderberry\"]\n",
    "\n",
    "for fruit in fruits : # for loop signature\n",
    "    print(fruit)  # for loop body"
   ]
  },
  {
   "cell_type": "code",
   "execution_count": 2,
   "id": "5428b812-c924-451d-a002-e8be836dabb6",
   "metadata": {},
   "outputs": [
    {
     "name": "stdout",
     "output_type": "stream",
     "text": [
      "p r a t a p   s a r v a i y a "
     ]
    }
   ],
   "source": [
    "name = \"pratap sarvaiya\"\n",
    "\n",
    "for ch in name :\n",
    "    print(ch,end=\" \")"
   ]
  },
  {
   "cell_type": "code",
   "execution_count": 4,
   "id": "faa212d8-153e-4960-831b-14b70639005a",
   "metadata": {},
   "outputs": [
    {
     "name": "stdout",
     "output_type": "stream",
     "text": [
      "0\n",
      "1\n",
      "2\n",
      "3\n",
      "4\n"
     ]
    }
   ],
   "source": [
    "range(10)\n",
    "\n",
    "for i in range(5):\n",
    "    print(i)"
   ]
  },
  {
   "cell_type": "code",
   "execution_count": 5,
   "id": "b8aef05d-0189-4207-a227-925c54a264ad",
   "metadata": {},
   "outputs": [
    {
     "name": "stdout",
     "output_type": "stream",
     "text": [
      "2\n",
      "3\n",
      "4\n",
      "5\n",
      "6\n"
     ]
    }
   ],
   "source": [
    "for i in range(2,7):  # this called is (n,n-1) print the value\n",
    "    print(i)"
   ]
  },
  {
   "cell_type": "code",
   "execution_count": 6,
   "id": "96c628eb-4837-4d43-bb95-aa05a39b7713",
   "metadata": {},
   "outputs": [
    {
     "name": "stdout",
     "output_type": "stream",
     "text": [
      "2\n",
      "4\n",
      "6\n",
      "8\n"
     ]
    }
   ],
   "source": [
    "for i in range(2,10,2):  # this called is last value is increment of 2\n",
    "    print(i)"
   ]
  },
  {
   "cell_type": "code",
   "execution_count": 7,
   "id": "5f34b6fa-c74c-45d7-9d1d-b6b65cb88e1a",
   "metadata": {},
   "outputs": [
    {
     "name": "stdout",
     "output_type": "stream",
     "text": [
      "2\n",
      "5\n",
      "8\n"
     ]
    }
   ],
   "source": [
    "for i in range(2,10,3):  # this called is last value is increment of 2\n",
    "    print(i)"
   ]
  },
  {
   "cell_type": "code",
   "execution_count": null,
   "id": "c60f2a39-e8d4-4a6d-b5aa-c8270de6d801",
   "metadata": {},
   "outputs": [],
   "source": [
    "#  Range(n) ---> n elements ---> [0,1,2,3,----n-1]\n",
    "   range(a,b)---> [a,a+1,a+2,---b-1]\n",
    "   range(a,b,c)---> [a,a+c,a+2c-----]"
   ]
  },
  {
   "cell_type": "code",
   "execution_count": 12,
   "id": "e1b506b7-7311-4f7a-bfb5-454887a1b0c5",
   "metadata": {},
   "outputs": [
    {
     "name": "stdout",
     "output_type": "stream",
     "text": [
      "10\n",
      "9\n",
      "8\n",
      "7\n",
      "6\n",
      "5\n",
      "4\n",
      "3\n",
      "2\n",
      "1\n"
     ]
    }
   ],
   "source": [
    "for i in range(10,0,-1):\n",
    "    print(i)"
   ]
  },
  {
   "cell_type": "code",
   "execution_count": 16,
   "id": "2dc86331-af5a-4ad2-b38a-23661928d121",
   "metadata": {},
   "outputs": [
    {
     "name": "stdout",
     "output_type": "stream",
     "text": [
      "12\n",
      "8\n",
      "4\n"
     ]
    }
   ],
   "source": [
    "for i in range(12,0,-4):\n",
    "    print(i)"
   ]
  },
  {
   "cell_type": "code",
   "execution_count": 17,
   "id": "35b2164b-4d80-4b4e-a112-373caf7df3f9",
   "metadata": {
    "scrolled": true
   },
   "outputs": [
    {
     "name": "stdout",
     "output_type": "stream",
     "text": [
      "12\n",
      "9\n",
      "6\n",
      "3\n"
     ]
    }
   ],
   "source": [
    "for i in range(12,0,-3) :\n",
    "    print(i)"
   ]
  },
  {
   "cell_type": "code",
   "execution_count": 20,
   "id": "258ea5a1-4dd7-4e72-8b42-4dbb3be1a080",
   "metadata": {},
   "outputs": [
    {
     "name": "stdout",
     "output_type": "stream",
     "text": [
      "1\n",
      "2\n",
      "3\n"
     ]
    }
   ],
   "source": [
    "# Controling the looop break and continue\n",
    "# 1 to 12 number print and 4 by divisible number then stop\n",
    "\n",
    "for num in range(1,13):\n",
    "    if(num%4==0):\n",
    "        break\n",
    "    print(num)"
   ]
  },
  {
   "cell_type": "code",
   "execution_count": 22,
   "id": "47529395-ed5d-4a87-8d38-64a92e795ef7",
   "metadata": {},
   "outputs": [
    {
     "name": "stdout",
     "output_type": "stream",
     "text": [
      "0\n",
      "2\n",
      "4\n",
      "6\n",
      "8\n",
      "10\n"
     ]
    }
   ],
   "source": [
    "# Continue\n",
    "\n",
    "for i in range(11):\n",
    "    if(i%2!=0):\n",
    "        continue\n",
    "    print(i)"
   ]
  },
  {
   "cell_type": "code",
   "execution_count": 23,
   "id": "8946fd4e-a25e-4f2a-a0d5-a214c6de6d0a",
   "metadata": {},
   "outputs": [
    {
     "name": "stdout",
     "output_type": "stream",
     "text": [
      "Helllo world!\n",
      "Helllo world!\n",
      "Helllo world!\n",
      "Helllo world!\n",
      "Helllo world!\n",
      "Helllo world!\n",
      "Helllo world!\n",
      "Helllo world!\n",
      "Helllo world!\n"
     ]
    }
   ],
   "source": [
    "# Nested loops\n",
    "# Break and Continue is always nearest loop\n",
    "\n",
    "for i in range(3):\n",
    "    for j in range(3):\n",
    "        print(\"Helllo world!\")"
   ]
  },
  {
   "cell_type": "code",
   "execution_count": 27,
   "id": "e8371d43-87b2-4aaa-91a4-2257f034e619",
   "metadata": {},
   "outputs": [
    {
     "name": "stdout",
     "output_type": "stream",
     "text": [
      "1\n",
      "2\n",
      "3\n",
      "1\n",
      "2\n",
      "3\n",
      "1\n",
      "2\n",
      "3\n",
      "1\n",
      "2\n",
      "3\n"
     ]
    }
   ],
   "source": [
    "for i in range(4):\n",
    "    for j in range(1,13):\n",
    "        if j%4==0:\n",
    "            break\n",
    "        print(j)"
   ]
  },
  {
   "cell_type": "code",
   "execution_count": 30,
   "id": "e018ada1-85e6-49e3-a41d-351db72b33d5",
   "metadata": {},
   "outputs": [
    {
     "name": "stdout",
     "output_type": "stream",
     "text": [
      "2\n",
      "4\n",
      "6\n",
      "8\n",
      "10\n",
      "12\n",
      "2\n",
      "4\n",
      "6\n",
      "8\n",
      "10\n",
      "12\n",
      "2\n",
      "4\n",
      "6\n",
      "8\n",
      "10\n",
      "12\n",
      "2\n",
      "4\n",
      "6\n",
      "8\n",
      "10\n",
      "12\n"
     ]
    }
   ],
   "source": [
    "for i in range(4):\n",
    "    for j in range(1,13):\n",
    "        if j%2!=0:\n",
    "            continue\n",
    "        print(j)"
   ]
  },
  {
   "cell_type": "code",
   "execution_count": null,
   "id": "ff7ccd01-e59f-43c1-9e97-e403c5d51e02",
   "metadata": {},
   "outputs": [],
   "source": []
  }
 ],
 "metadata": {
  "kernelspec": {
   "display_name": "Python 3 (ipykernel)",
   "language": "python",
   "name": "python3"
  },
  "language_info": {
   "codemirror_mode": {
    "name": "ipython",
    "version": 3
   },
   "file_extension": ".py",
   "mimetype": "text/x-python",
   "name": "python",
   "nbconvert_exporter": "python",
   "pygments_lexer": "ipython3",
   "version": "3.10.11"
  }
 },
 "nbformat": 4,
 "nbformat_minor": 5
}
