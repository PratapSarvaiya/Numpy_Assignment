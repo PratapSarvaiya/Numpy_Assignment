{
 "cells": [
  {
   "cell_type": "code",
   "execution_count": 1,
   "id": "33bca704-34a2-4060-bf1e-47f448e967b0",
   "metadata": {},
   "outputs": [
    {
     "data": {
      "text/plain": [
       "4"
      ]
     },
     "execution_count": 1,
     "metadata": {},
     "output_type": "execute_result"
    }
   ],
   "source": [
    "# polymorphism >> many form\n",
    "len(\"Ajay\")"
   ]
  },
  {
   "cell_type": "code",
   "execution_count": 2,
   "id": "fdaa9734-2cc4-4914-b5ac-f570972c7f5a",
   "metadata": {},
   "outputs": [
    {
     "data": {
      "text/plain": [
       "4"
      ]
     },
     "execution_count": 2,
     "metadata": {},
     "output_type": "execute_result"
    }
   ],
   "source": [
    "len([1,2,3,4])"
   ]
  },
  {
   "cell_type": "code",
   "execution_count": null,
   "id": "3013ac0a-c8aa-4843-aa58-a9c81094cde6",
   "metadata": {},
   "outputs": [],
   "source": [
    "# polymorphism >> method overriding and method overloading"
   ]
  },
  {
   "cell_type": "code",
   "execution_count": 6,
   "id": "78a7bd69-09e7-4b26-a4d0-707d02dd291a",
   "metadata": {},
   "outputs": [],
   "source": [
    "# method overloading\n",
    "class Student:\n",
    "    def student(self):\n",
    "        print(\"welcome to pwskills class\")\n",
    "    def student(self,name=\"\"):\n",
    "         print(\"welcome to pwskills class\",name)\n",
    "    def student(self,name=\"\",course=\"\"):\n",
    "         print(\"welcome to pwskills class\",name,course)"
   ]
  },
  {
   "cell_type": "code",
   "execution_count": 7,
   "id": "c3244e6d-120e-4f28-bb24-b433b2abff34",
   "metadata": {},
   "outputs": [],
   "source": [
    "pratap = Student()"
   ]
  },
  {
   "cell_type": "code",
   "execution_count": 9,
   "id": "d4481d16-93d2-4374-8d22-1d18a4c2f70d",
   "metadata": {},
   "outputs": [
    {
     "name": "stdout",
     "output_type": "stream",
     "text": [
      "welcome to pwskills class smajy ds\n"
     ]
    }
   ],
   "source": [
    "pratap.student(\"smajy\",\"ds\")"
   ]
  },
  {
   "cell_type": "code",
   "execution_count": 10,
   "id": "3925857f-0376-4a5f-baf4-ffabf5dab398",
   "metadata": {},
   "outputs": [
    {
     "name": "stdout",
     "output_type": "stream",
     "text": [
      "welcome to pwskills class smajy ds\n"
     ]
    }
   ],
   "source": [
    "class Student:\n",
    "    \n",
    "    def student(self,name=\"\",course=\"\"):\n",
    "         print(\"welcome to pwskills class\",name,course)\n",
    "pratap = Student()\n",
    "pratap.student(\"smajy\",\"ds\")"
   ]
  },
  {
   "cell_type": "code",
   "execution_count": null,
   "id": "2446c45c-514c-4f52-9ee5-1a77fe6f3917",
   "metadata": {},
   "outputs": [],
   "source": [
    "# make a class vehicle,two tyre,three tyre,four tyre vehicle"
   ]
  },
  {
   "cell_type": "code",
   "execution_count": 11,
   "id": "e566f11d-47ce-419b-8aaf-040f71753cb2",
   "metadata": {},
   "outputs": [],
   "source": [
    "class Vehicle:\n",
    "    def bike(self):\n",
    "        print(\"This is a vehicle.\")\n",
    "    def riksha(self,name=\"\"):\n",
    "        print(\"This is a vehicle\",name)\n",
    "    def fourwheel(self,name=\"\",tyre=\"\"):\n",
    "        print(\"This is a vehicle\",name.tyre)   "
   ]
  },
  {
   "cell_type": "code",
   "execution_count": 12,
   "id": "38c81a9a-2737-4476-866d-954d6ae84465",
   "metadata": {},
   "outputs": [],
   "source": [
    "s = Vehicle()  # object"
   ]
  },
  {
   "cell_type": "code",
   "execution_count": 15,
   "id": "adcdd2c9-11bc-4e5e-9ca4-422140f50898",
   "metadata": {},
   "outputs": [
    {
     "ename": "AttributeError",
     "evalue": "'Vehicle' object has no attribute 'Vehicle'",
     "output_type": "error",
     "traceback": [
      "\u001b[1;31m---------------------------------------------------------------------------\u001b[0m",
      "\u001b[1;31mAttributeError\u001b[0m                            Traceback (most recent call last)",
      "Cell \u001b[1;32mIn[15], line 1\u001b[0m\n\u001b[1;32m----> 1\u001b[0m \u001b[43ms\u001b[49m\u001b[38;5;241;43m.\u001b[39;49m\u001b[43mVehicle\u001b[49m(\u001b[38;5;124m\"\u001b[39m\u001b[38;5;124mAuto\u001b[39m\u001b[38;5;124m\"\u001b[39m,\u001b[38;5;241m3\u001b[39m)\n",
      "\u001b[1;31mAttributeError\u001b[0m: 'Vehicle' object has no attribute 'Vehicle'"
     ]
    }
   ],
   "source": [
    "s.Vehicle(\"Auto\",3)"
   ]
  },
  {
   "cell_type": "code",
   "execution_count": null,
   "id": "2d1edc7b-96a5-4e78-8c8d-337ddd2f819d",
   "metadata": {},
   "outputs": [],
   "source": [
    "# method overloading\n",
    "# method in parent class and child class with same signature,then child class will be executed"
   ]
  },
  {
   "cell_type": "code",
   "execution_count": 21,
   "id": "a899f7b8-d59b-4216-adfa-4c9fb5db6467",
   "metadata": {},
   "outputs": [],
   "source": [
    "class Student_4:\n",
    "    def student(self):\n",
    "     print(\"I am ds student\")\n",
    "class Student_3:\n",
    "    def student(self):\n",
    "        print(\"I am a ds and ml student\")"
   ]
  },
  {
   "cell_type": "code",
   "execution_count": 22,
   "id": "2a8aadcb-400c-4767-be1b-8c40c1ba12a8",
   "metadata": {},
   "outputs": [],
   "source": [
    "s = Student_3()"
   ]
  },
  {
   "cell_type": "code",
   "execution_count": 23,
   "id": "1c56cfc7-5465-41c0-bf23-d175b1bae62e",
   "metadata": {},
   "outputs": [
    {
     "name": "stdout",
     "output_type": "stream",
     "text": [
      "I am a ds and ml student\n"
     ]
    }
   ],
   "source": [
    "s.student()"
   ]
  },
  {
   "cell_type": "code",
   "execution_count": 28,
   "id": "39c05fe5-6150-40af-b4ad-5ea3137ee041",
   "metadata": {},
   "outputs": [],
   "source": [
    "class Vehicle:\n",
    "    def vehicle(self):\n",
    "     print(\"vehicle is start\")\n",
    "class Car(Vehicle):\n",
    "    def starting(self):\n",
    "        print(\"Car is start and break.\")"
   ]
  },
  {
   "cell_type": "code",
   "execution_count": 29,
   "id": "2225ed69-7a92-4b42-a076-10697e1499fe",
   "metadata": {},
   "outputs": [
    {
     "name": "stdout",
     "output_type": "stream",
     "text": [
      "Car is start and break.\n"
     ]
    }
   ],
   "source": [
    "c = Car()\n",
    "c.starting()"
   ]
  },
  {
   "cell_type": "code",
   "execution_count": 27,
   "id": "c0a5e486-15f7-4577-8a51-428713d2e447",
   "metadata": {},
   "outputs": [],
   "source": [
    "# Encapsulation >> means hiding something\n",
    "# bundling of data and methods\n",
    "# public\n",
    "\n",
    "class Student:\n",
    "    def __init__(self,name,degree):\n",
    "        self.name = name\n",
    "        self.degree = degree"
   ]
  },
  {
   "cell_type": "code",
   "execution_count": null,
   "id": "38602404-ed30-4b87-b511-a9c8a962fd84",
   "metadata": {},
   "outputs": [],
   "source": [
    "s = Student(\"ram\""
   ]
  },
  {
   "cell_type": "code",
   "execution_count": null,
   "id": "6cff8996-bf50-4543-ac71-272d962b2a85",
   "metadata": {},
   "outputs": [],
   "source": [
    "# private >>>> within the class only its accessible\n",
    "class Student:\n",
    "    def __init__(self,name,degree):\n",
    "        self.name = name\n",
    "        self.degree = degree"
   ]
  },
  {
   "cell_type": "code",
   "execution_count": 30,
   "id": "d26b50ae-4833-4089-8500-b299df2d3443",
   "metadata": {},
   "outputs": [],
   "source": [
    "class Student:\n",
    "    def __init__(self,name,degree):\n",
    "        self.name = name\n",
    "        self.degree = degree\n",
    "    def show(self):\n",
    "        print(self.name,self.__degree)"
   ]
  },
  {
   "cell_type": "code",
   "execution_count": 31,
   "id": "ada494d5-d0d3-424e-a8b6-ded70b208ed0",
   "metadata": {},
   "outputs": [],
   "source": [
    "stud = Student(\"ram\",\"masters\")"
   ]
  },
  {
   "cell_type": "code",
   "execution_count": 32,
   "id": "5bd3502b-c3d5-4211-91a0-64f092574f75",
   "metadata": {},
   "outputs": [
    {
     "data": {
      "text/plain": [
       "'ram'"
      ]
     },
     "execution_count": 32,
     "metadata": {},
     "output_type": "execute_result"
    }
   ],
   "source": [
    "stud.name"
   ]
  },
  {
   "cell_type": "code",
   "execution_count": 33,
   "id": "15bb3624-5dbd-476c-94a0-442c9f84cda0",
   "metadata": {},
   "outputs": [
    {
     "ename": "AttributeError",
     "evalue": "'Student' object has no attribute '__degree'",
     "output_type": "error",
     "traceback": [
      "\u001b[1;31m---------------------------------------------------------------------------\u001b[0m",
      "\u001b[1;31mAttributeError\u001b[0m                            Traceback (most recent call last)",
      "Cell \u001b[1;32mIn[33], line 1\u001b[0m\n\u001b[1;32m----> 1\u001b[0m \u001b[43mstud\u001b[49m\u001b[38;5;241;43m.\u001b[39;49m\u001b[43m__degree\u001b[49m\n",
      "\u001b[1;31mAttributeError\u001b[0m: 'Student' object has no attribute '__degree'"
     ]
    }
   ],
   "source": [
    "stud.__degree"
   ]
  },
  {
   "cell_type": "code",
   "execution_count": 35,
   "id": "4a562cdd-7ec5-4114-94e8-224d496098ed",
   "metadata": {},
   "outputs": [
    {
     "ename": "AttributeError",
     "evalue": "'Student' object has no attribute '_Student__degree'",
     "output_type": "error",
     "traceback": [
      "\u001b[1;31m---------------------------------------------------------------------------\u001b[0m",
      "\u001b[1;31mAttributeError\u001b[0m                            Traceback (most recent call last)",
      "Cell \u001b[1;32mIn[35], line 1\u001b[0m\n\u001b[1;32m----> 1\u001b[0m \u001b[43mstud\u001b[49m\u001b[38;5;241;43m.\u001b[39;49m\u001b[43m_Student__degree\u001b[49m\n",
      "\u001b[1;31mAttributeError\u001b[0m: 'Student' object has no attribute '_Student__degree'"
     ]
    }
   ],
   "source": [
    "stud._Student__degree"
   ]
  },
  {
   "cell_type": "code",
   "execution_count": 36,
   "id": "8746a6d5-57db-47d0-a7b7-72d7271e1d29",
   "metadata": {},
   "outputs": [],
   "source": [
    "# protected variable >> within the class and its sub class\n",
    "\n",
    "class College:\n",
    "    def __init__(self):\n",
    "        self._college_name = \"pwskills\"\n",
    "class Student(College):\n",
    "    def __init__(self,name):\n",
    "        self.name = name\n",
    "        super().__init__()\n",
    "    def show(self):\n",
    "        print(self.name,self._college_name)"
   ]
  },
  {
   "cell_type": "code",
   "execution_count": 37,
   "id": "6e98d1c3-80c7-4f2b-9f5c-a7671e109773",
   "metadata": {},
   "outputs": [],
   "source": [
    "s = Student(\"pratap\")"
   ]
  },
  {
   "cell_type": "code",
   "execution_count": 38,
   "id": "50a2be05-f356-4e98-bc42-9aea5d46248e",
   "metadata": {},
   "outputs": [
    {
     "name": "stdout",
     "output_type": "stream",
     "text": [
      "pratap pwskills\n"
     ]
    }
   ],
   "source": [
    "s.show()"
   ]
  },
  {
   "cell_type": "code",
   "execution_count": null,
   "id": "c1aab14a-1c13-40b4-b37e-18a6110e0bfa",
   "metadata": {},
   "outputs": [],
   "source": [
    "# design a class bank, with balance being private variable in python"
   ]
  },
  {
   "cell_type": "code",
   "execution_count": null,
   "id": "8f07be59-f0db-4010-9105-b6c804c9c892",
   "metadata": {},
   "outputs": [],
   "source": [
    "design erp portal >> emp name ,salary and othered details\n",
    "design calculator\n",
    "design student portal with two class student detail and student course\n",
    "student course should inherit from student details\n",
    "\n",
    "# write a program to design a survey to record name,qualification,salary"
   ]
  },
  {
   "cell_type": "code",
   "execution_count": null,
   "id": "6b223245-3687-42ed-ae5b-cc44c0713ff5",
   "metadata": {},
   "outputs": [],
   "source": [
    "# dunder method, magic method special method"
   ]
  },
  {
   "cell_type": "code",
   "execution_count": null,
   "id": "4ed7f2bf-cf23-4664-90f4-5cbd2e5974a6",
   "metadata": {},
   "outputs": [],
   "source": [
    "__add__ or __init__"
   ]
  },
  {
   "cell_type": "code",
   "execution_count": 39,
   "id": "1423a69e-365c-4c90-b5e5-75b6b7862562",
   "metadata": {},
   "outputs": [
    {
     "data": {
      "text/plain": [
       "7"
      ]
     },
     "execution_count": 39,
     "metadata": {},
     "output_type": "execute_result"
    }
   ],
   "source": [
    "a = 3\n",
    "b = 4\n",
    "a+b"
   ]
  },
  {
   "cell_type": "code",
   "execution_count": 42,
   "id": "0e191c1a-7b02-4706-b8d1-c6fc731c2a0b",
   "metadata": {},
   "outputs": [],
   "source": [
    "class Student:\n",
    "    def __init__(self):\n",
    "        print(\"This is the first method that will be executed\")\n",
    "    def show(self):\n",
    "        print(\"aabra dabra\")"
   ]
  },
  {
   "cell_type": "code",
   "execution_count": 43,
   "id": "be3e6a7a-d248-4eab-9595-9cd3369a7c5b",
   "metadata": {},
   "outputs": [
    {
     "name": "stdout",
     "output_type": "stream",
     "text": [
      "This is the first method that will be executed\n"
     ]
    },
    {
     "data": {
      "text/plain": [
       "<__main__.Student at 0x20333b9a1d0>"
      ]
     },
     "execution_count": 43,
     "metadata": {},
     "output_type": "execute_result"
    }
   ],
   "source": [
    "Student()"
   ]
  },
  {
   "cell_type": "code",
   "execution_count": 48,
   "id": "e57849fc-b212-4725-adac-24015b81d9cd",
   "metadata": {},
   "outputs": [],
   "source": [
    "class Student:\n",
    "    def __new__(cls):\n",
    "        print(\"this is the first method tha will be executed\")\n",
    "    def __new__(cls):\n",
    "        print(\"This is the decod method that will be executed\")\n",
    "    def show(self):\n",
    "        print(\"aabra dabra\")"
   ]
  },
  {
   "cell_type": "code",
   "execution_count": 49,
   "id": "d34ca051-2610-4965-8ec1-4be9083a05ec",
   "metadata": {},
   "outputs": [
    {
     "name": "stdout",
     "output_type": "stream",
     "text": [
      "This is the decod method that will be executed\n"
     ]
    }
   ],
   "source": [
    " Student()"
   ]
  },
  {
   "cell_type": "code",
   "execution_count": null,
   "id": "1a13830a-dff9-4ada-920a-4a0bb8ed5ade",
   "metadata": {},
   "outputs": [],
   "source": [
    "# class method >> bound to the class can access and modify attributes of all instances\n",
    "# does not object is to need"
   ]
  },
  {
   "cell_type": "code",
   "execution_count": null,
   "id": "31802780-c2f8-4bf5-99ec-5109454c5cb1",
   "metadata": {},
   "outputs": [],
   "source": [
    "# use setter,deleter property decorators in the class bank"
   ]
  },
  {
   "cell_type": "code",
   "execution_count": 3,
   "id": "4f6c47d4-79cb-4e7e-bc58-c390205ba2c8",
   "metadata": {},
   "outputs": [
    {
     "name": "stdout",
     "output_type": "stream",
     "text": [
      "Employee Alice Johnson added to the system.\n",
      "Employee Bob Smith added to the system.\n",
      "Employee ID: 1\n",
      "Name: Alice Johnson\n",
      "Position: Software Engineer\n",
      "Department: IT\n",
      "Salary: $75000.00\n",
      "------------------------------\n",
      "Employee ID: 2\n",
      "Name: Bob Smith\n",
      "Position: Project Manager\n",
      "Department: Operations\n",
      "Salary: $90000.00\n",
      "------------------------------\n",
      "Salary updated to $80000.00 for Alice Johnson\n",
      "Employee Bob Smith removed from the system.\n",
      "Employee ID: 1\n",
      "Name: Alice Johnson\n",
      "Position: Software Engineer\n",
      "Department: IT\n",
      "Salary: $80000.00\n",
      "------------------------------\n"
     ]
    }
   ],
   "source": [
    "# design erp portal >> emp name ,salary and othered details\n",
    "class Employee:\n",
    "    def __init__(self, emp_id, name, position, department, salary):\n",
    "        self.emp_id = emp_id\n",
    "        self.name = name\n",
    "        self.position = position\n",
    "        self.department = department\n",
    "        self.salary = salary\n",
    "    \n",
    "    def display_details(self):\n",
    "        print(f\"Employee ID: {self.emp_id}\")\n",
    "        print(f\"Name: {self.name}\")\n",
    "        print(f\"Position: {self.position}\")\n",
    "        print(f\"Department: {self.department}\")\n",
    "        print(f\"Salary: ${self.salary:.2f}\")\n",
    "        print(\"-\" * 30)\n",
    "\n",
    "    def update_salary(self, new_salary):\n",
    "        self.salary = new_salary\n",
    "        print(f\"Salary updated to ${self.salary:.2f} for {self.name}\")\n",
    "\n",
    "class ERPSystem:\n",
    "    def __init__(self):\n",
    "        self.employees = {}\n",
    "\n",
    "    def add_employee(self, employee):\n",
    "        self.employees[employee.emp_id] = employee\n",
    "        print(f\"Employee {employee.name} added to the system.\")\n",
    "\n",
    "    def remove_employee(self, emp_id):\n",
    "        if emp_id in self.employees:\n",
    "            removed_employee = self.employees.pop(emp_id)\n",
    "            print(f\"Employee {removed_employee.name} removed from the system.\")\n",
    "        else:\n",
    "            print(\"Employee ID not found.\")\n",
    "\n",
    "    def display_all_employees(self):\n",
    "        if not self.employees:\n",
    "            print(\"No employees in the system.\")\n",
    "        else:\n",
    "            for emp in self.employees.values():\n",
    "                emp.display_details()\n",
    "\n",
    "    def update_employee_salary(self, emp_id, new_salary):\n",
    "        if emp_id in self.employees:\n",
    "            self.employees[emp_id].update_salary(new_salary)\n",
    "        else:\n",
    "            print(\"Employee ID not found.\")\n",
    "\n",
    "# Create the ERP system\n",
    "erp_system = ERPSystem()\n",
    "\n",
    "# Add some employees\n",
    "emp1 = Employee(emp_id=1, name=\"Alice Johnson\", position=\"Software Engineer\", department=\"IT\", salary=75000)\n",
    "emp2 = Employee(emp_id=2, name=\"Bob Smith\", position=\"Project Manager\", department=\"Operations\", salary=90000)\n",
    "\n",
    "erp_system.add_employee(emp1)\n",
    "erp_system.add_employee(emp2)\n",
    "\n",
    "# Display all employees\n",
    "erp_system.display_all_employees()\n",
    "\n",
    "# Update an employee's salary\n",
    "erp_system.update_employee_salary(emp_id=1, new_salary=80000)\n",
    "\n",
    "# Remove an employee\n",
    "erp_system.remove_employee(emp_id=2)\n",
    "\n",
    "# Display all employees again\n",
    "erp_system.display_all_employees()\n"
   ]
  },
  {
   "cell_type": "code",
   "execution_count": 5,
   "id": "b8098064-2b48-4f51-9bae-38887d749a33",
   "metadata": {},
   "outputs": [
    {
     "name": "stdout",
     "output_type": "stream",
     "text": [
      "1. Add a new participant\n",
      "2. Display all participants\n",
      "3. Exit\n"
     ]
    },
    {
     "name": "stdin",
     "output_type": "stream",
     "text": [
      "Enter your choice (1/2/3):  2\n"
     ]
    },
    {
     "name": "stdout",
     "output_type": "stream",
     "text": [
      "No participants in the survey.\n",
      "1. Add a new participant\n",
      "2. Display all participants\n",
      "3. Exit\n"
     ]
    },
    {
     "name": "stdin",
     "output_type": "stream",
     "text": [
      "Enter your choice (1/2/3):  1\n",
      "Enter the participant's name:  chetan\n",
      "Enter the participant's qualification:  BE\n",
      "Enter the participant's salary:  30000\n"
     ]
    },
    {
     "name": "stdout",
     "output_type": "stream",
     "text": [
      "Participant chetan added to the survey.\n",
      "1. Add a new participant\n",
      "2. Display all participants\n",
      "3. Exit\n"
     ]
    },
    {
     "name": "stdin",
     "output_type": "stream",
     "text": [
      "Enter your choice (1/2/3):  sahdev\n"
     ]
    },
    {
     "name": "stdout",
     "output_type": "stream",
     "text": [
      "Invalid choice! Please enter 1, 2, or 3.\n",
      "1. Add a new participant\n",
      "2. Display all participants\n",
      "3. Exit\n"
     ]
    },
    {
     "name": "stdin",
     "output_type": "stream",
     "text": [
      "Enter your choice (1/2/3):  1\n",
      "Enter the participant's name:  sahdev\n",
      "Enter the participant's qualification:  ME\n",
      "Enter the participant's salary:  400000\n"
     ]
    },
    {
     "name": "stdout",
     "output_type": "stream",
     "text": [
      "Participant sahdev added to the survey.\n",
      "1. Add a new participant\n",
      "2. Display all participants\n",
      "3. Exit\n"
     ]
    },
    {
     "name": "stdin",
     "output_type": "stream",
     "text": [
      "Enter your choice (1/2/3):  2\n"
     ]
    },
    {
     "name": "stdout",
     "output_type": "stream",
     "text": [
      "Name: chetan\n",
      "Qualification: BE\n",
      "Salary: Rs30000.00\n",
      "------------------------------\n",
      "Name: sahdev\n",
      "Qualification: ME\n",
      "Salary: Rs400000.00\n",
      "------------------------------\n",
      "1. Add a new participant\n",
      "2. Display all participants\n",
      "3. Exit\n"
     ]
    },
    {
     "name": "stdin",
     "output_type": "stream",
     "text": [
      "Enter your choice (1/2/3):  3\n"
     ]
    },
    {
     "name": "stdout",
     "output_type": "stream",
     "text": [
      "Exiting the program.\n"
     ]
    }
   ],
   "source": [
    "# write a program to design a survey to record name,qualification,salary in python simple project\n",
    "class Participant:\n",
    "    def __init__(self, name, qualification, salary):\n",
    "        self.name = name\n",
    "        self.qualification = qualification\n",
    "        self.salary = salary\n",
    "    \n",
    "    def display_details(self):\n",
    "        print(f\"Name: {self.name}\")\n",
    "        print(f\"Qualification: {self.qualification}\")\n",
    "        print(f\"Salary: Rs{self.salary:.2f}\")\n",
    "        print(\"-\" * 30)\n",
    "class Survey:\n",
    "    def __init__(self):\n",
    "        self.participants = []\n",
    "\n",
    "    def add_participant(self, participant):\n",
    "        self.participants.append(participant)\n",
    "        print(f\"Participant {participant.name} added to the survey.\")\n",
    "\n",
    "    def display_all_participants(self):\n",
    "        if not self.participants:\n",
    "            print(\"No participants in the survey.\")\n",
    "        else:\n",
    "            for participant in self.participants:\n",
    "                participant.display_details()\n",
    "def main():\n",
    "    survey = Survey()\n",
    "\n",
    "    while True:\n",
    "        print(\"1. Add a new participant\")\n",
    "        print(\"2. Display all participants\")\n",
    "        print(\"3. Exit\")\n",
    "        choice = input(\"Enter your choice (1/2/3): \")\n",
    "\n",
    "        if choice == '1':\n",
    "            name = input(\"Enter the participant's name: \")\n",
    "            qualification = input(\"Enter the participant's qualification: \")\n",
    "            salary = float(input(\"Enter the participant's salary: \"))\n",
    "            \n",
    "            participant = Participant(name, qualification, salary)\n",
    "            survey.add_participant(participant)\n",
    "        \n",
    "        elif choice == '2':\n",
    "            survey.display_all_participants()\n",
    "\n",
    "        elif choice == '3':\n",
    "            print(\"Exiting the program.\")\n",
    "            break\n",
    "\n",
    "        else:\n",
    "            print(\"Invalid choice! Please enter 1, 2, or 3.\")\n",
    "\n",
    "if __name__ == \"__main__\":\n",
    "    main()\n"
   ]
  },
  {
   "cell_type": "code",
   "execution_count": 7,
   "id": "417a9d74-ea72-4dab-b67d-c33507c99b3e",
   "metadata": {},
   "outputs": [
    {
     "name": "stdout",
     "output_type": "stream",
     "text": [
      "1. Add a new student\n",
      "2. Add a course to a student\n",
      "3. Display all students and their courses\n",
      "4. Exit\n"
     ]
    },
    {
     "name": "stdin",
     "output_type": "stream",
     "text": [
      "Enter your choice (1/2/3/4):  1\n",
      "Enter the student ID:  karan\n",
      "Enter the student's name:  karan chauhan\n",
      "Enter the student's age:  22\n"
     ]
    },
    {
     "name": "stdout",
     "output_type": "stream",
     "text": [
      "Student karan chauhan added to the portal.\n",
      "1. Add a new student\n",
      "2. Add a course to a student\n",
      "3. Display all students and their courses\n",
      "4. Exit\n"
     ]
    },
    {
     "name": "stdin",
     "output_type": "stream",
     "text": [
      "Enter your choice (1/2/3/4):  2\n",
      "Enter the student ID:  bsc\n",
      "Enter the course name:  212308022\n"
     ]
    },
    {
     "name": "stdout",
     "output_type": "stream",
     "text": [
      "Student ID not found.\n",
      "1. Add a new student\n",
      "2. Add a course to a student\n",
      "3. Display all students and their courses\n",
      "4. Exit\n"
     ]
    },
    {
     "name": "stdin",
     "output_type": "stream",
     "text": [
      "Enter your choice (1/2/3/4):  3\n"
     ]
    },
    {
     "name": "stdout",
     "output_type": "stream",
     "text": [
      "Student ID: karan\n",
      "Name: karan chauhan\n",
      "Age: 22\n",
      "------------------------------\n",
      "karan chauhan's Courses:\n",
      "No courses enrolled.\n",
      "------------------------------\n",
      "1. Add a new student\n",
      "2. Add a course to a student\n",
      "3. Display all students and their courses\n",
      "4. Exit\n"
     ]
    },
    {
     "name": "stdin",
     "output_type": "stream",
     "text": [
      "Enter your choice (1/2/3/4):  3\n"
     ]
    },
    {
     "name": "stdout",
     "output_type": "stream",
     "text": [
      "Student ID: karan\n",
      "Name: karan chauhan\n",
      "Age: 22\n",
      "------------------------------\n",
      "karan chauhan's Courses:\n",
      "No courses enrolled.\n",
      "------------------------------\n",
      "1. Add a new student\n",
      "2. Add a course to a student\n",
      "3. Display all students and their courses\n",
      "4. Exit\n"
     ]
    },
    {
     "name": "stdin",
     "output_type": "stream",
     "text": [
      "Enter your choice (1/2/3/4):  4\n"
     ]
    },
    {
     "name": "stdout",
     "output_type": "stream",
     "text": [
      "Exiting the program.\n"
     ]
    }
   ],
   "source": [
    "# design student portal with two class student detail and student course student course should inherit from student details in python\n",
    "\n",
    "# StudentDetail\n",
    "\n",
    "class StudentDetail:\n",
    "    def __init__(self, student_id, name, age):\n",
    "        self.student_id = student_id\n",
    "        self.name = name\n",
    "        self.age = age\n",
    "\n",
    "    def display_details(self):\n",
    "        print(f\"Student ID: {self.student_id}\")\n",
    "        print(f\"Name: {self.name}\")\n",
    "        print(f\"Age: {self.age}\")\n",
    "        print(\"-\" * 30)\n",
    "\n",
    "# StudentCourse\n",
    "class StudentCourse(StudentDetail):\n",
    "    def __init__(self, student_id, name, age, courses=None):\n",
    "        super().__init__(student_id, name, age)\n",
    "        self.courses = courses if courses is not None else []\n",
    "\n",
    "    def add_course(self, course_name):\n",
    "        self.courses.append(course_name)\n",
    "        print(f\"Course '{course_name}' added to {self.name}'s course list.\")\n",
    "\n",
    "    def display_courses(self):\n",
    "        print(f\"{self.name}'s Courses:\")\n",
    "        if not self.courses:\n",
    "            print(\"No courses enrolled.\")\n",
    "        else:\n",
    "            for course in self.courses:\n",
    "                print(f\"- {course}\")\n",
    "        print(\"-\" * 30)\n",
    "\n",
    "# Simple Interface to Manage Students and Courses\n",
    "\n",
    "def main():\n",
    "    students = []\n",
    "\n",
    "    while True:\n",
    "        print(\"1. Add a new student\")\n",
    "        print(\"2. Add a course to a student\")\n",
    "        print(\"3. Display all students and their courses\")\n",
    "        print(\"4. Exit\")\n",
    "        choice = input(\"Enter your choice (1/2/3/4): \")\n",
    "\n",
    "        if choice == '1':\n",
    "            student_id = input(\"Enter the student ID: \")\n",
    "            name = input(\"Enter the student's name: \")\n",
    "            age = int(input(\"Enter the student's age: \"))\n",
    "\n",
    "            student = StudentCourse(student_id, name, age)\n",
    "            students.append(student)\n",
    "            print(f\"Student {name} added to the portal.\")\n",
    "\n",
    "        elif choice == '2':\n",
    "            student_id = input(\"Enter the student ID: \")\n",
    "            course_name = input(\"Enter the course name: \")\n",
    "\n",
    "            found = False\n",
    "            for student in students:\n",
    "                if student.student_id == student_id:\n",
    "                    student.add_course(course_name)\n",
    "                    found = True\n",
    "                    break\n",
    "\n",
    "            if not found:\n",
    "                print(\"Student ID not found.\")\n",
    "\n",
    "        elif choice == '3':\n",
    "            if not students:\n",
    "                print(\"No students in the portal.\")\n",
    "            else:\n",
    "                for student in students:\n",
    "                    student.display_details()\n",
    "                    student.display_courses()\n",
    "\n",
    "        elif choice == '4':\n",
    "            print(\"Exiting the program.\")\n",
    "            break\n",
    "\n",
    "        else:\n",
    "            print(\"Invalid choice! Please enter 1, 2, 3, or 4.\")\n",
    "\n",
    "if __name__ == \"__main__\":\n",
    "    main()\n"
   ]
  },
  {
   "cell_type": "code",
   "execution_count": null,
   "id": "8637de76-ca6f-4575-b677-7fd8336abdfb",
   "metadata": {},
   "outputs": [],
   "source": []
  },
  {
   "cell_type": "code",
   "execution_count": null,
   "id": "d816a33f-0606-47be-9c9a-3220e26aa51b",
   "metadata": {},
   "outputs": [],
   "source": []
  }
 ],
 "metadata": {
  "kernelspec": {
   "display_name": "Python 3 (ipykernel)",
   "language": "python",
   "name": "python3"
  },
  "language_info": {
   "codemirror_mode": {
    "name": "ipython",
    "version": 3
   },
   "file_extension": ".py",
   "mimetype": "text/x-python",
   "name": "python",
   "nbconvert_exporter": "python",
   "pygments_lexer": "ipython3",
   "version": "3.11.9"
  }
 },
 "nbformat": 4,
 "nbformat_minor": 5
}
