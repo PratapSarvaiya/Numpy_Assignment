{
 "cells": [
  {
   "cell_type": "code",
   "execution_count": 1,
   "id": "0f0077ce-e849-4aff-aad6-ca666d443aae",
   "metadata": {},
   "outputs": [
    {
     "ename": "SyntaxError",
     "evalue": "invalid syntax (438730375.py, line 10)",
     "output_type": "error",
     "traceback": [
      "\u001b[1;36m  Cell \u001b[1;32mIn[1], line 10\u001b[1;36m\u001b[0m\n\u001b[1;33m    if \"@\": not is in email:\u001b[0m\n\u001b[1;37m                ^\u001b[0m\n\u001b[1;31mSyntaxError\u001b[0m\u001b[1;31m:\u001b[0m invalid syntax\n"
     ]
    }
   ],
   "source": [
    "# how to design survey\n",
    "\n",
    "name = input(\"Please enter your name\")\n",
    "email = input(\"please enter your email\")\n",
    "password = input(\"please enter your password\")\n",
    "\n",
    "if name==\"\":\n",
    "    print(\"Please enter a valid name, can not be empty\")\n",
    "else:\n",
    "    if \"@\": not is in email:\n",
    "        print(\"Please enter a valid email\")\n",
    "    else:\n",
    "        if len(password)<0:\n",
    "            print(\"No password entered, pis enter a valid password\")\n",
    "        else:\n",
    "            print(\"registration is successful\")\n"
   ]
  },
  {
   "cell_type": "code",
   "execution_count": null,
   "id": "4506a758-0d34-425f-904f-22de47ac4456",
   "metadata": {},
   "outputs": [],
   "source": [
    "# loops : >> it allows you to execute the block of code repeatly\n",
    "\n",
    "# loops >>> while and for"
   ]
  },
  {
   "cell_type": "code",
   "execution_count": null,
   "id": "6688de75-b5c0-4ba7-9fe1-b90f1bb889d8",
   "metadata": {},
   "outputs": [],
   "source": [
    "# syntax\n",
    "# while condition:\n",
    "block of code"
   ]
  },
  {
   "cell_type": "code",
   "execution_count": 5,
   "id": "f39925de-0f6c-4eaa-a3bb-49aa97d744cb",
   "metadata": {},
   "outputs": [
    {
     "name": "stdout",
     "output_type": "stream",
     "text": [
      "1\n",
      "2\n",
      "3\n",
      "4\n",
      "5\n",
      "6\n"
     ]
    }
   ],
   "source": [
    "n=7\n",
    "i=1\n",
    "while i < n:\n",
    "\n",
    "    print(i)\n",
    "    i = i+1\n"
   ]
  },
  {
   "cell_type": "code",
   "execution_count": 3,
   "id": "e9bd6a74-e4f0-4360-b6ed-00d5a8ff818e",
   "metadata": {},
   "outputs": [
    {
     "data": {
      "text/plain": [
       "11"
      ]
     },
     "execution_count": 3,
     "metadata": {},
     "output_type": "execute_result"
    }
   ],
   "source": [
    "a= 5\n",
    "a = a+6\n",
    "a"
   ]
  },
  {
   "cell_type": "code",
   "execution_count": 8,
   "id": "e65e96aa-fada-47b3-a7fc-4e471306a77f",
   "metadata": {},
   "outputs": [
    {
     "name": "stdout",
     "output_type": "stream",
     "text": [
      "1\n",
      "2\n"
     ]
    }
   ],
   "source": [
    "n=7\n",
    "i=1\n",
    "while i < n:\n",
    "\n",
    "    print(i)\n",
    "    i = i+1\n",
    "    if i == 3:  # if the condition is met, it will break the look\n",
    "        break\n",
    "else:\n",
    "    print(\"This will be executed while is run successfully without any break\")"
   ]
  },
  {
   "cell_type": "code",
   "execution_count": 9,
   "id": "17b8b822-778e-4211-85b6-0f15a7106ae3",
   "metadata": {},
   "outputs": [
    {
     "name": "stdout",
     "output_type": "stream",
     "text": [
      "1\n",
      "2\n",
      "3\n",
      "4\n",
      "5\n",
      "6\n",
      "This will be executed while is run successfully without any break\n"
     ]
    }
   ],
   "source": [
    "n=7\n",
    "i=1\n",
    "while i < n:\n",
    "\n",
    "    print(i)\n",
    "    i = i+1\n",
    "    if i == 3:  # if the condition is met, it will break the look\n",
    "        continue\n",
    "else:\n",
    "    print(\"This will be executed while is run successfully without any break\")"
   ]
  },
  {
   "cell_type": "code",
   "execution_count": 14,
   "id": "447e7797-cc61-459d-886b-63daf8057d53",
   "metadata": {},
   "outputs": [
    {
     "name": "stdout",
     "output_type": "stream",
     "text": [
      "2\n",
      "3\n",
      "4\n",
      "5\n",
      "6\n",
      "7\n",
      "All the printed\n"
     ]
    }
   ],
   "source": [
    "n=7\n",
    "i=1\n",
    "while i < n:\n",
    "    i = i+1\n",
    "    print(i)\n",
    "    \n",
    "    if i == 3:  # if the condition is met, it will break the look\n",
    "        continue\n",
    "else:\n",
    "    print(\"All the printed\")"
   ]
  },
  {
   "cell_type": "code",
   "execution_count": 17,
   "id": "f0758b4f-f432-4dab-b558-8d779479a7e2",
   "metadata": {},
   "outputs": [
    {
     "name": "stdout",
     "output_type": "stream",
     "text": [
      "p\n",
      "w\n",
      "s\n",
      "k\n",
      "i\n",
      "l\n",
      "l\n",
      "s\n"
     ]
    }
   ],
   "source": [
    "# for loops\n",
    "for i in \"pwskills\":\n",
    "    print(i)"
   ]
  },
  {
   "cell_type": "code",
   "execution_count": 20,
   "id": "7d96b93e-5255-4f9e-992f-3b37e5d1c5bc",
   "metadata": {},
   "outputs": [
    {
     "name": "stdout",
     "output_type": "stream",
     "text": [
      "[1, 2, 'pwskills']\n"
     ]
    }
   ],
   "source": [
    "l=[1,2,\"pwskills\"]\n",
    "for i in l:\n",
    "    if i == 2:\n",
    "        break\n",
    "    print(l)\n",
    "else:\n",
    "    print(\"Executed without break\")"
   ]
  },
  {
   "cell_type": "code",
   "execution_count": 21,
   "id": "58c2eba3-86ff-48c0-a9da-e696a8d75ecd",
   "metadata": {},
   "outputs": [
    {
     "data": {
      "text/plain": [
       "[0, 1, 2, 3, 4, 5, 6, 7, 8, 9]"
      ]
     },
     "execution_count": 21,
     "metadata": {},
     "output_type": "execute_result"
    }
   ],
   "source": [
    "list(range(0,10))"
   ]
  },
  {
   "cell_type": "code",
   "execution_count": 22,
   "id": "9d305189-f57b-4861-8118-3650cc632648",
   "metadata": {},
   "outputs": [
    {
     "name": "stdout",
     "output_type": "stream",
     "text": [
      "0 1 2 3 4 5 6 7 8 9 "
     ]
    }
   ],
   "source": [
    "for i in range(10):\n",
    "    print(i,end=\" \")"
   ]
  },
  {
   "cell_type": "code",
   "execution_count": 25,
   "id": "a249af96-4488-47ad-961f-153899e4f021",
   "metadata": {},
   "outputs": [
    {
     "name": "stdout",
     "output_type": "stream",
     "text": [
      "*\n",
      "**\n",
      "***\n",
      "****\n"
     ]
    }
   ],
   "source": [
    "for i in range(4):   # 0 1 2 3\n",
    "    for j in range(i+1):    # first >> 0+1= 1 then one star print\n",
    "        print(\"*\",end=\"\")   # second >> 1+1= 2 then two star print\n",
    "    print()"
   ]
  },
  {
   "cell_type": "code",
   "execution_count": 27,
   "id": "69b307dc-481b-452a-9a5d-681c1fb6cc81",
   "metadata": {},
   "outputs": [
    {
     "name": "stdout",
     "output_type": "stream",
     "text": [
      "* * * * \n",
      "* * * * \n",
      "* * * * \n",
      "* * * * \n"
     ]
    }
   ],
   "source": [
    "for i in range(4):\n",
    "    for j in range(4):\n",
    "        print(\"*\",end=\" \")\n",
    "    print()"
   ]
  },
  {
   "cell_type": "code",
   "execution_count": 28,
   "id": "3ec0cdbb-a049-453f-b8c0-5c23ed831417",
   "metadata": {},
   "outputs": [
    {
     "name": "stdout",
     "output_type": "stream",
     "text": [
      "* * * * * * * * * * \n",
      "* * * * * * * * * * \n",
      "* * * * * * * * * * \n",
      "* * * * * * * * * * \n"
     ]
    }
   ],
   "source": [
    "for i in range(4):\n",
    "    for j in range(10):\n",
    "        print(\"*\",end=\" \")\n",
    "    print()"
   ]
  },
  {
   "cell_type": "code",
   "execution_count": 34,
   "id": "69fe97e6-8f5a-44b7-952c-de6333109aaf",
   "metadata": {},
   "outputs": [
    {
     "name": "stdin",
     "output_type": "stream",
     "text": [
      "Enter your number:  8\n"
     ]
    },
    {
     "name": "stdout",
     "output_type": "stream",
     "text": [
      "j+1 \n",
      "j+1 j+1 \n",
      "j+1 j+1 j+1 \n",
      "j+1 j+1 j+1 j+1 \n",
      "j+1 j+1 j+1 j+1 j+1 \n",
      "j+1 j+1 j+1 j+1 j+1 j+1 \n",
      "j+1 j+1 j+1 j+1 j+1 j+1 j+1 \n",
      "j+1 j+1 j+1 j+1 j+1 j+1 j+1 j+1 \n"
     ]
    }
   ],
   "source": [
    "n = int(input(\"Enter your number: \"))\n",
    "for i in range(n):\n",
    "    for j in range(i+1):\n",
    "        print(\"j+1\",end=\" \")\n",
    "    print()"
   ]
  },
  {
   "cell_type": "code",
   "execution_count": 35,
   "id": "7a0a6a5e-b5bc-4c94-9cab-70e4ae75f125",
   "metadata": {},
   "outputs": [
    {
     "name": "stdout",
     "output_type": "stream",
     "text": [
      "****\n",
      "***\n",
      "**\n",
      "*\n",
      "\n"
     ]
    }
   ],
   "source": [
    "for i in range(5):\n",
    "    for j in range(i+1,5):\n",
    "        print(\"*\",end=\"\")\n",
    "    print()"
   ]
  },
  {
   "cell_type": "code",
   "execution_count": null,
   "id": "b3c6b3fe-3f67-4d6c-bdec-05e35342b4da",
   "metadata": {},
   "outputs": [],
   "source": [
    "# hw] write code for pyramid star pattern\n",
    ">> write code for inverted pyramid\n",
    ">> write code fohollow pyramid\n",
    ">> equilateral triangle pattern"
   ]
  },
  {
   "cell_type": "code",
   "execution_count": 2,
   "id": "2a518253-57a2-4a43-b92d-5f5b1d1278a3",
   "metadata": {},
   "outputs": [
    {
     "name": "stdout",
     "output_type": "stream",
     "text": [
      "    *\n",
      "\n",
      "   ***\n",
      "\n",
      "  *****\n",
      "\n",
      " *******\n",
      "\n",
      "*********\n",
      "\n"
     ]
    }
   ],
   "source": [
    "# write code for pyramid star pattern\n",
    "\n",
    "for i in range(1,6):\n",
    "    for k in range(1,6-i):\n",
    "        print(\" \",end=\"\")\n",
    "    for j in range(1,(2*i-1)+1):\n",
    "        print(\"*\",end=\"\")\n",
    "    print(\"\\n\")"
   ]
  },
  {
   "cell_type": "code",
   "execution_count": 3,
   "id": "24173006-a527-425f-b59a-0bbc737fdc1e",
   "metadata": {},
   "outputs": [
    {
     "name": "stdin",
     "output_type": "stream",
     "text": [
      "Enter number of rows:  8\n"
     ]
    },
    {
     "name": "stdout",
     "output_type": "stream",
     "text": [
      "* * * * * * * * * * * * * \n",
      "  * * * * * * * * * * * \n",
      "    * * * * * * * * * \n",
      "      * * * * * * * \n",
      "        * * * * * \n",
      "          * * * \n",
      "            * \n"
     ]
    }
   ],
   "source": [
    "# write code for inverted pyramid\n",
    "\n",
    "rows = int(input(\"Enter number of rows: \"))\n",
    "\n",
    "for i in range(rows, 1, -1):\n",
    "    for space in range(0, rows-i):\n",
    "        print(\"  \", end=\"\")\n",
    "    for j in range(i, 2*i-1):\n",
    "        print(\"* \", end=\"\")\n",
    "    for j in range(1, i-1):\n",
    "        print(\"* \", end=\"\")\n",
    "    print()\n"
   ]
  },
  {
   "cell_type": "code",
   "execution_count": 5,
   "id": "9f9257b1-6aa9-4d5f-87a0-a67c09398886",
   "metadata": {},
   "outputs": [
    {
     "name": "stdin",
     "output_type": "stream",
     "text": [
      "Enter number of rows:  8\n"
     ]
    },
    {
     "name": "stdout",
     "output_type": "stream",
     "text": [
      "       *\n",
      "      * *\n",
      "     *   *\n",
      "    *     *\n",
      "   *       *\n",
      "  *         *\n",
      " *           *\n",
      "* * * * * * * * \n"
     ]
    }
   ],
   "source": [
    "# write code for hollow pyramid\n",
    "\n",
    "def hollow_pyramid (row):  \n",
    "   n = 1   \n",
    "   while n<= row:   \n",
    "      if n == 1:     \n",
    "         print(\" \" * (row - n) + \"*\")  \n",
    "          \n",
    "      elif n == row:   \n",
    "         print(\"* \" * n)  \n",
    "      else:   \n",
    "         print(\" \" * (row - n) + \"*\" + \" \" * (2*n-3) + \"*\")  \n",
    "      n+=1  \n",
    "  \n",
    "row = int(input('Enter number of rows: '))  \n",
    "  \n",
    "hollow_pyramid (row)  "
   ]
  },
  {
   "cell_type": "code",
   "execution_count": 6,
   "id": "350bb0d1-d954-4baf-bcc1-3c97a1780185",
   "metadata": {},
   "outputs": [
    {
     "name": "stdin",
     "output_type": "stream",
     "text": [
      " 8\n"
     ]
    },
    {
     "name": "stdout",
     "output_type": "stream",
     "text": [
      "       * \n",
      "\n",
      "      * * \n",
      "\n",
      "     * * * \n",
      "\n",
      "    * * * * \n",
      "\n",
      "   * * * * * \n",
      "\n",
      "  * * * * * * \n",
      "\n",
      " * * * * * * * \n",
      "\n",
      "* * * * * * * * \n",
      "\n"
     ]
    }
   ],
   "source": [
    "# equilateral triangle pattern in python\n",
    "\n",
    "def triangle(n):\n",
    "  k = n - 1\n",
    "  for i in range(0,n):\n",
    "    for j in range(0,k):\n",
    "      print(end = \" \")\n",
    "    k -= 1\n",
    "    for j in range (0, i+1):\n",
    "      print(\"* \", end='')\n",
    "    print(\"\\n\") \n",
    "\n",
    "n = int(input())\n",
    "triangle(n)"
   ]
  },
  {
   "cell_type": "code",
   "execution_count": null,
   "id": "c37fe6fc-0dcf-4962-a9e2-b53c7590bb74",
   "metadata": {},
   "outputs": [],
   "source": []
  }
 ],
 "metadata": {
  "kernelspec": {
   "display_name": "Python 3 (ipykernel)",
   "language": "python",
   "name": "python3"
  },
  "language_info": {
   "codemirror_mode": {
    "name": "ipython",
    "version": 3
   },
   "file_extension": ".py",
   "mimetype": "text/x-python",
   "name": "python",
   "nbconvert_exporter": "python",
   "pygments_lexer": "ipython3",
   "version": "3.10.11"
  }
 },
 "nbformat": 4,
 "nbformat_minor": 5
}
