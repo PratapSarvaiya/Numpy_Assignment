{
 "cells": [
  {
   "cell_type": "code",
   "execution_count": 11,
   "id": "7159ffee-d127-48c3-b74b-2afaad01db8b",
   "metadata": {},
   "outputs": [
    {
     "name": "stdin",
     "output_type": "stream",
     "text": [
      "Enter the number 12\n"
     ]
    },
    {
     "name": "stdout",
     "output_type": "stream",
     "text": [
      "Number is less than 15\n"
     ]
    }
   ],
   "source": [
    "x = int(input(\"Enter the number\"))\n",
    "\n",
    "if x>15:\n",
    "    print(\"Number is greater than 15\")\n",
    "else:\n",
    "    print(\"Number is less than 15\")\n"
   ]
  },
  {
   "cell_type": "code",
   "execution_count": 12,
   "id": "7d83a1e3-941d-408e-abdf-4581543dbba7",
   "metadata": {},
   "outputs": [
    {
     "name": "stdin",
     "output_type": "stream",
     "text": [
      "Enter the number 15\n"
     ]
    },
    {
     "name": "stdout",
     "output_type": "stream",
     "text": [
      "Number is equal to 15\n"
     ]
    }
   ],
   "source": [
    "x = int(input(\"Enter the number\"))\n",
    "\n",
    "if x>15:\n",
    "    print(\"Number is greater than 15\")\n",
    "elif x ==15:\n",
    "    print(\"Number is equal to 15\")\n",
    "else:\n",
    "    print(\"Number is less than 15\")\n"
   ]
  },
  {
   "cell_type": "code",
   "execution_count": 14,
   "id": "3998af85-2f7d-45bd-88f1-8f54331de035",
   "metadata": {},
   "outputs": [
    {
     "name": "stdin",
     "output_type": "stream",
     "text": [
      "Please Enter the your marks!! 59\n"
     ]
    },
    {
     "name": "stdout",
     "output_type": "stream",
     "text": [
      "Study more\n"
     ]
    }
   ],
   "source": [
    "marks = int(input(\"Please Enter the your marks!!\"))\n",
    "\n",
    "if marks >= 90:\n",
    "    print(\"A\")\n",
    "elif marks >=80:\n",
    "    print(\"B\")\n",
    "elif marks >=70:\n",
    "    print(\"C\")\n",
    "elif marks >=60:\n",
    "    print(\"D\")\n",
    "else:\n",
    "    print(\"Study more\")\n",
    "    "
   ]
  },
  {
   "cell_type": "code",
   "execution_count": 15,
   "id": "706725f4-8cf9-4cea-9763-dc50a7851068",
   "metadata": {},
   "outputs": [
    {
     "name": "stdout",
     "output_type": "stream",
     "text": [
      "Inside if\n"
     ]
    }
   ],
   "source": [
    "if 5:\n",
    "    print(\"Inside if\")"
   ]
  },
  {
   "cell_type": "code",
   "execution_count": 16,
   "id": "1803d150-74a6-4bf2-984a-23cb97670a36",
   "metadata": {},
   "outputs": [
    {
     "name": "stdout",
     "output_type": "stream",
     "text": [
      "Inside if\n"
     ]
    }
   ],
   "source": [
    "if [5]:\n",
    "    print(\"Inside if\")"
   ]
  },
  {
   "cell_type": "code",
   "execution_count": 17,
   "id": "e290afc2-ef1e-405b-b058-d98151e7b8f5",
   "metadata": {},
   "outputs": [
    {
     "name": "stdout",
     "output_type": "stream",
     "text": [
      "Inside else\n"
     ]
    }
   ],
   "source": [
    "if 0:\n",
    "    print(\"Inside if\")\n",
    "else:\n",
    "    print(\"Inside else\")"
   ]
  },
  {
   "cell_type": "code",
   "execution_count": 18,
   "id": "ef1efaaf-9cf6-4153-9f0c-0678fdc5dc7f",
   "metadata": {},
   "outputs": [
    {
     "name": "stdout",
     "output_type": "stream",
     "text": [
      "Inside else\n"
     ]
    }
   ],
   "source": [
    "if \"\":\n",
    "    print(\"Inside if\")\n",
    "else:\n",
    "    print(\"Inside else\")"
   ]
  },
  {
   "cell_type": "code",
   "execution_count": null,
   "id": "12400bea-3dae-45ec-9407-0e841eaf1190",
   "metadata": {},
   "outputs": [],
   "source": [
    "🔸 Falsy Values\n",
    "\n",
    "# Sequences and Collections:\n",
    "\n",
    "Empty lists []\n",
    "Empty tuples ()\n",
    "Empty dictionaries {}\n",
    "Empty sets set()\n",
    "Empty strings \"\"\n",
    "Empty ranges range(0)\n",
    "\n",
    "\n",
    "# Numbers\n",
    "\n",
    "Zero of any numeric type.\n",
    "Integer: 0\n",
    "Float: 0.0\n",
    "Complex: 0j\n",
    "\n",
    "\n",
    "# Constants\n",
    "\n",
    "None\n",
    "False"
   ]
  },
  {
   "cell_type": "code",
   "execution_count": null,
   "id": "a3505b3d-1b6d-4f04-9d4c-ae72aff3d3cf",
   "metadata": {},
   "outputs": [],
   "source": [
    "#  Nested if else conditions\n"
   ]
  },
  {
   "cell_type": "code",
   "execution_count": 29,
   "id": "60da6990-f0c8-4f29-a436-584462edff84",
   "metadata": {},
   "outputs": [
    {
     "name": "stdin",
     "output_type": "stream",
     "text": [
      "Please enter the number!! 4\n"
     ]
    },
    {
     "name": "stdout",
     "output_type": "stream",
     "text": [
      "x is less than 5,so not calculating even or odd\n"
     ]
    }
   ],
   "source": [
    " x = int(input(\"Please enter the number!!\"))\n",
    "\n",
    "if x > 5:\n",
    "    print(\"X is greater than 5\")\n",
    "    \n",
    "    if x%2==0:\n",
    "        print(\"x is even\")\n",
    "    else:\n",
    "        print(\"x is odd\")\n",
    "else:\n",
    "    print(\"x is less than 5,so not calculating even or odd\")"
   ]
  },
  {
   "cell_type": "code",
   "execution_count": 31,
   "id": "795f65f4-0937-42bb-94dc-bfa06f0e3190",
   "metadata": {},
   "outputs": [
    {
     "name": "stdin",
     "output_type": "stream",
     "text": [
      "Enter the number:  -1\n"
     ]
    },
    {
     "name": "stdout",
     "output_type": "stream",
     "text": [
      "Number is negative\n"
     ]
    }
   ],
   "source": [
    "num = int(input(\"Enter the number: \"))\n",
    "\n",
    "if num >= 0:\n",
    "    print(\"Number is Possitive!\")\n",
    "else:\n",
    "    print(\"Number is negative\")"
   ]
  },
  {
   "cell_type": "code",
   "execution_count": 34,
   "id": "7cdf3648-44a9-43b0-a08a-3a3183e35f61",
   "metadata": {},
   "outputs": [
    {
     "name": "stdin",
     "output_type": "stream",
     "text": [
      "Enter the number:  0\n"
     ]
    },
    {
     "name": "stdout",
     "output_type": "stream",
     "text": [
      "Number is Positive\n"
     ]
    }
   ],
   "source": [
    "# Ternary Operators\n",
    "\n",
    "num = int(input(\"Enter the number: \"))\n",
    "result = \"Positive\" if num>=0 else \"Negative\"\n",
    "print(\"Number is\",result)"
   ]
  },
  {
   "cell_type": "code",
   "execution_count": 41,
   "id": "41a49215-59bd-4c0d-888e-5277bd7916ac",
   "metadata": {},
   "outputs": [
    {
     "name": "stdin",
     "output_type": "stream",
     "text": [
      "Enter the number:  4\n"
     ]
    },
    {
     "name": "stdout",
     "output_type": "stream",
     "text": [
      "Today is Thursday\n"
     ]
    }
   ],
   "source": [
    "# Match and case\n",
    "\n",
    "day_num = int(input(\"Enter the number: \"))\n",
    "\n",
    "match day_num :\n",
    "  case 1:\n",
    "      print(\"Today is Monday\")\n",
    "  case 2:\n",
    "      print(\"Today is Tuesday\")\n",
    "  case 3:\n",
    "      print(\"Today is wednsday\")\n",
    "  case 4:\n",
    "      print(\"Today is Thursday\")\n",
    "  case 5:\n",
    "      print(\"Today is Friday\")\n",
    "  case 6:\n",
    "      print(\"Today is saturday\")\n",
    "  case 7:\n",
    "      print(\"Today is sunday\")\n",
    "  case _:\n",
    "      print(\"Please valid enter number!!!\")"
   ]
  },
  {
   "cell_type": "code",
   "execution_count": null,
   "id": "6664461d-3a54-48a4-9e7b-32577ffd8b78",
   "metadata": {},
   "outputs": [],
   "source": []
  }
 ],
 "metadata": {
  "kernelspec": {
   "display_name": "Python 3 (ipykernel)",
   "language": "python",
   "name": "python3"
  },
  "language_info": {
   "codemirror_mode": {
    "name": "ipython",
    "version": 3
   },
   "file_extension": ".py",
   "mimetype": "text/x-python",
   "name": "python",
   "nbconvert_exporter": "python",
   "pygments_lexer": "ipython3",
   "version": "3.10.11"
  }
 },
 "nbformat": 4,
 "nbformat_minor": 5
}
