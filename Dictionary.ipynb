{
 "cells": [
  {
   "cell_type": "code",
   "execution_count": null,
   "id": "b050f89b-64ed-44b4-b997-4053eb503287",
   "metadata": {},
   "outputs": [],
   "source": [
    "# boolean"
   ]
  },
  {
   "cell_type": "code",
   "execution_count": 1,
   "id": "65450044-358f-4bed-9028-e67909c9fbe1",
   "metadata": {},
   "outputs": [
    {
     "name": "stdout",
     "output_type": "stream",
     "text": [
      "True\n",
      "False\n"
     ]
    }
   ],
   "source": [
    "print(True)\n",
    "print(False)"
   ]
  },
  {
   "cell_type": "code",
   "execution_count": 3,
   "id": "81340543-a61f-4e58-8e8a-aa60a33ce75a",
   "metadata": {},
   "outputs": [
    {
     "name": "stdout",
     "output_type": "stream",
     "text": [
      "{'name': 'pratap', 'age': 23, 'city': 'banglore'}\n",
      "<class 'dict'>\n"
     ]
    }
   ],
   "source": [
    "# Dictionary\n",
    "\n",
    "student_details = {'name':'pratap','age':23,'city':\"banglore\"}\n",
    "\n",
    "print(student_details)\n",
    "print(type(student_details))"
   ]
  },
  {
   "cell_type": "code",
   "execution_count": 5,
   "id": "c87566d6-d05c-44e0-bc67-dbf7c822b087",
   "metadata": {},
   "outputs": [
    {
     "name": "stdout",
     "output_type": "stream",
     "text": [
      "{1: 'Love', 2: 'chetan'}\n",
      "<class 'dict'>\n"
     ]
    }
   ],
   "source": [
    "# True means 1 \n",
    "\n",
    "dict1 = {1:\"pratap\", 2:\"chetan\", True:\"Love\"}\n",
    "print(dict1)\n",
    "print(type(dict1))"
   ]
  },
  {
   "cell_type": "code",
   "execution_count": 6,
   "id": "2251c6b4-5bd6-458c-aa27-bb478931a26f",
   "metadata": {},
   "outputs": [
    {
     "name": "stdout",
     "output_type": "stream",
     "text": [
      "{3: 'pratap', 2: 'chetan', True: 'Love'}\n",
      "<class 'dict'>\n"
     ]
    }
   ],
   "source": [
    "dict1 = {3:\"pratap\", 2:\"chetan\", True:\"Love\"}\n",
    "print(dict1)\n",
    "print(type(dict1))"
   ]
  },
  {
   "cell_type": "code",
   "execution_count": 7,
   "id": "94ddfd91-70b0-45b4-a448-57678f4d59a7",
   "metadata": {},
   "outputs": [
    {
     "ename": "SyntaxError",
     "evalue": "cannot assign to True (4180995150.py, line 2)",
     "output_type": "error",
     "traceback": [
      "\u001b[1;36m  Cell \u001b[1;32mIn[7], line 2\u001b[1;36m\u001b[0m\n\u001b[1;33m    dict1 = dict(name=\"pratap\",age=\"sarvaiya\",True=\"love\")\u001b[0m\n\u001b[1;37m                                              ^\u001b[0m\n\u001b[1;31mSyntaxError\u001b[0m\u001b[1;31m:\u001b[0m cannot assign to True\n"
     ]
    }
   ],
   "source": [
    "# Dictionary constructer method\n",
    "dict1 = dict(name=\"pratap\",age=\"sarvaiya\",True=\"love\")\n",
    "print(dict1)"
   ]
  },
  {
   "cell_type": "code",
   "execution_count": 9,
   "id": "bc1525ee-3042-4c4f-963a-bd3ccffea5a2",
   "metadata": {},
   "outputs": [
    {
     "name": "stdout",
     "output_type": "stream",
     "text": [
      "{'name': 'pratap', 'age': 'sarvaiya'}\n",
      "<class 'dict'>\n"
     ]
    }
   ],
   "source": [
    "dict1 = dict(name=\"pratap\",age=\"sarvaiya\")\n",
    "print(dict1)\n",
    "print(type(dict1))"
   ]
  },
  {
   "cell_type": "code",
   "execution_count": 11,
   "id": "fa3f2cd0-6aeb-4cbe-95c6-7dddcd94e92b",
   "metadata": {},
   "outputs": [
    {
     "name": "stdout",
     "output_type": "stream",
     "text": [
      "pratap\n",
      "23\n"
     ]
    }
   ],
   "source": [
    "# Acsses the element of the dic\n",
    "\n",
    "student_details = {'name':'pratap','age':23,'city':\"banglore\"}\n",
    "\n",
    "print(student_details['name'])\n",
    "print(student_details['age'])"
   ]
  },
  {
   "cell_type": "code",
   "execution_count": 16,
   "id": "b43e12b6-17c8-41d6-8e5f-9dce16740df4",
   "metadata": {},
   "outputs": [
    {
     "name": "stdout",
     "output_type": "stream",
     "text": [
      "dict_keys(['name', 'age', 'city'])\n",
      "dict_values(['pratap', 23, 'banglore'])\n",
      "dict_items([('name', 'pratap'), ('age', 23), ('city', 'banglore')])\n"
     ]
    }
   ],
   "source": [
    "print(student_details.keys())\n",
    "print(student_details.values())\n",
    "print(student_details.items())"
   ]
  },
  {
   "cell_type": "code",
   "execution_count": 17,
   "id": "63ceee0b-72af-4e95-880d-53a2aaae5f3e",
   "metadata": {},
   "outputs": [
    {
     "name": "stdout",
     "output_type": "stream",
     "text": [
      "{'name': 'pratap', 'age': 23, 'city': 'banglore', 'country': 'India'}\n"
     ]
    }
   ],
   "source": [
    "# How do we add elements in the dictionary i key value\n",
    "\n",
    "student_details = {'name':'pratap','age':23,'city':\"banglore\"}\n",
    "\n",
    "student_details['country'] = \"India\"\n",
    "print(student_details)"
   ]
  },
  {
   "cell_type": "code",
   "execution_count": 18,
   "id": "b4f20b81-5e6b-41fd-bac8-38526eb8d9de",
   "metadata": {},
   "outputs": [
    {
     "name": "stdout",
     "output_type": "stream",
     "text": [
      "{'name': 'pratap', 'age': 23, 'city': 'banglore', 'English': 100, 'Maths': 78, 'Science': 92}\n"
     ]
    }
   ],
   "source": [
    "# one details in onother dictonary you can add it\n",
    "\n",
    "student_details = {'name':'pratap','age':23,'city':\"banglore\"}\n",
    "\n",
    "marks_details = {'English':100, 'Maths':78,'Science':92}\n",
    "\n",
    "student_details.update(marks_details)\n",
    "print(student_details)"
   ]
  },
  {
   "cell_type": "code",
   "execution_count": 19,
   "id": "5ef38a9b-5bf3-49e8-87d4-f53ed16a702d",
   "metadata": {},
   "outputs": [
    {
     "name": "stdout",
     "output_type": "stream",
     "text": [
      "banglore\n",
      "{'name': 'pratap', 'age': 23, 'English': 100, 'Maths': 78, 'Science': 92}\n"
     ]
    }
   ],
   "source": [
    "# Remove the elements from the dictionary specified elements\n",
    "print(student_details.pop('city'))\n",
    "print(student_details)"
   ]
  },
  {
   "cell_type": "code",
   "execution_count": 20,
   "id": "ce983d46-54a2-486b-bd3a-23bf3dbf55fc",
   "metadata": {},
   "outputs": [
    {
     "name": "stdout",
     "output_type": "stream",
     "text": [
      "('Science', 92)\n",
      "{'name': 'pratap', 'age': 23, 'English': 100, 'Maths': 78}\n"
     ]
    }
   ],
   "source": [
    "# popitem is lastelement is delete\n",
    "\n",
    "print(student_details.popitem())\n",
    "print(student_details)"
   ]
  },
  {
   "cell_type": "code",
   "execution_count": 21,
   "id": "be78e97f-b84b-48e0-aafc-50b7a5ea5e1c",
   "metadata": {},
   "outputs": [
    {
     "name": "stdout",
     "output_type": "stream",
     "text": [
      "{'name': 'pratap', 'English': 100, 'Maths': 78}\n"
     ]
    }
   ],
   "source": [
    "del student_details['age']\n",
    "print(student_details)"
   ]
  },
  {
   "cell_type": "code",
   "execution_count": 22,
   "id": "98dba56d-2a5e-41ca-b2c5-b0f345e31663",
   "metadata": {},
   "outputs": [
    {
     "name": "stdout",
     "output_type": "stream",
     "text": [
      "{}\n"
     ]
    }
   ],
   "source": [
    "# Clear method is clear all the elements in dict and then empty\n",
    "\n",
    "student_details.clear()\n",
    "print(student_details)"
   ]
  },
  {
   "cell_type": "code",
   "execution_count": null,
   "id": "5bcb2003-151a-4db5-8265-7c6d09552e64",
   "metadata": {},
   "outputs": [],
   "source": []
  }
 ],
 "metadata": {
  "kernelspec": {
   "display_name": "Python 3 (ipykernel)",
   "language": "python",
   "name": "python3"
  },
  "language_info": {
   "codemirror_mode": {
    "name": "ipython",
    "version": 3
   },
   "file_extension": ".py",
   "mimetype": "text/x-python",
   "name": "python",
   "nbconvert_exporter": "python",
   "pygments_lexer": "ipython3",
   "version": "3.10.11"
  }
 },
 "nbformat": 4,
 "nbformat_minor": 5
}
