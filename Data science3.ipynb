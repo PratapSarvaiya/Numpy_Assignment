{
 "cells": [
  {
   "cell_type": "code",
   "execution_count": null,
   "id": "bd288491-e80f-406a-ae84-60c6ce4fca24",
   "metadata": {},
   "outputs": [],
   "source": [
    "# Data structure"
   ]
  },
  {
   "cell_type": "code",
   "execution_count": 1,
   "id": "e06d9360-637c-4e99-ab8c-e8386b0b461d",
   "metadata": {},
   "outputs": [
    {
     "data": {
      "text/plain": [
       "str"
      ]
     },
     "execution_count": 1,
     "metadata": {},
     "output_type": "execute_result"
    }
   ],
   "source": [
    "a = \"pratap\"\n",
    "type(a)"
   ]
  },
  {
   "cell_type": "code",
   "execution_count": null,
   "id": "f25f7d04-ad14-4b8d-8a6b-91dd21bc1768",
   "metadata": {},
   "outputs": [],
   "source": [
    "# string >> sequence of character\n",
    "# characters are represented in numbers\n",
    "# ASCII(7 BITS) and UNICODE(16 BITS) "
   ]
  },
  {
   "cell_type": "code",
   "execution_count": 2,
   "id": "ff7b6636-b9c4-4ac6-a83f-9e8aa38d62b7",
   "metadata": {},
   "outputs": [
    {
     "data": {
      "text/plain": [
       "65"
      ]
     },
     "execution_count": 2,
     "metadata": {},
     "output_type": "execute_result"
    }
   ],
   "source": [
    "# ASCII representation\n",
    "\n",
    "char = \"A\"\n",
    "ord(char)"
   ]
  },
  {
   "cell_type": "code",
   "execution_count": 3,
   "id": "70b36ca5-4f1f-4303-bbe9-16233ffc846a",
   "metadata": {},
   "outputs": [
    {
     "data": {
      "text/plain": [
       "'A'"
      ]
     },
     "execution_count": 3,
     "metadata": {},
     "output_type": "execute_result"
    }
   ],
   "source": [
    "chr(65)"
   ]
  },
  {
   "cell_type": "code",
   "execution_count": 4,
   "id": "d112edad-a6d7-4701-afd6-cad5e91ba285",
   "metadata": {},
   "outputs": [
    {
     "data": {
      "text/plain": [
       "'\\x01'"
      ]
     },
     "execution_count": 4,
     "metadata": {},
     "output_type": "execute_result"
    }
   ],
   "source": [
    "chr(1)"
   ]
  },
  {
   "cell_type": "code",
   "execution_count": 5,
   "id": "b755ea41-f2aa-4c64-ade1-f4b75f77d00c",
   "metadata": {},
   "outputs": [
    {
     "data": {
      "text/plain": [
       "97"
      ]
     },
     "execution_count": 5,
     "metadata": {},
     "output_type": "execute_result"
    }
   ],
   "source": [
    "ord(\"a\")"
   ]
  },
  {
   "cell_type": "code",
   "execution_count": 6,
   "id": "6cff7de2-d08e-4393-9065-0b65f87ac9a9",
   "metadata": {},
   "outputs": [
    {
     "data": {
      "text/plain": [
       "112"
      ]
     },
     "execution_count": 6,
     "metadata": {},
     "output_type": "execute_result"
    }
   ],
   "source": [
    "ord(\"p\")  # ordinal"
   ]
  },
  {
   "cell_type": "code",
   "execution_count": 7,
   "id": "74038e2c-66f6-4f78-897a-3197d838e8a6",
   "metadata": {},
   "outputs": [
    {
     "data": {
      "text/plain": [
       "'B'"
      ]
     },
     "execution_count": 7,
     "metadata": {},
     "output_type": "execute_result"
    }
   ],
   "source": [
    "chr(66)"
   ]
  },
  {
   "cell_type": "code",
   "execution_count": 8,
   "id": "d3225cb2-d87e-4a4f-8c8c-ec5c4e9ad15a",
   "metadata": {},
   "outputs": [
    {
     "data": {
      "text/plain": [
       "'\\x02'"
      ]
     },
     "execution_count": 8,
     "metadata": {},
     "output_type": "execute_result"
    }
   ],
   "source": [
    "chr(2)"
   ]
  },
  {
   "cell_type": "code",
   "execution_count": 9,
   "id": "105fe92b-e18e-4880-870d-776f701926df",
   "metadata": {},
   "outputs": [
    {
     "data": {
      "text/plain": [
       "'Ω'"
      ]
     },
     "execution_count": 9,
     "metadata": {},
     "output_type": "execute_result"
    }
   ],
   "source": [
    "# Unicode representation\n",
    "\n",
    "'\\u03A9'"
   ]
  },
  {
   "cell_type": "code",
   "execution_count": 11,
   "id": "d25f4dcc-5311-442e-abce-679a336ceba5",
   "metadata": {},
   "outputs": [
    {
     "data": {
      "text/plain": [
       "'Σ'"
      ]
     },
     "execution_count": 11,
     "metadata": {},
     "output_type": "execute_result"
    }
   ],
   "source": [
    "'\\u03A3'"
   ]
  },
  {
   "cell_type": "code",
   "execution_count": 12,
   "id": "de66a654-bfb7-4b6e-9f84-104138486bd5",
   "metadata": {},
   "outputs": [
    {
     "data": {
      "text/plain": [
       "'ॳ'"
      ]
     },
     "execution_count": 12,
     "metadata": {},
     "output_type": "execute_result"
    }
   ],
   "source": [
    "'\\u0973'"
   ]
  },
  {
   "cell_type": "code",
   "execution_count": 14,
   "id": "bd3e8796-335e-44b1-8b7e-0319a39115a3",
   "metadata": {},
   "outputs": [],
   "source": [
    "s = \"pwskill\""
   ]
  },
  {
   "cell_type": "code",
   "execution_count": 15,
   "id": "f714c9b5-e796-485b-b38b-f6ad6cff37eb",
   "metadata": {},
   "outputs": [
    {
     "data": {
      "text/plain": [
       "str"
      ]
     },
     "execution_count": 15,
     "metadata": {},
     "output_type": "execute_result"
    }
   ],
   "source": [
    "type(s)"
   ]
  },
  {
   "cell_type": "code",
   "execution_count": 16,
   "id": "c82ac7b9-5f72-4d98-859d-542c947363d5",
   "metadata": {},
   "outputs": [
    {
     "data": {
      "text/plain": [
       "'pwskill'"
      ]
     },
     "execution_count": 16,
     "metadata": {},
     "output_type": "execute_result"
    }
   ],
   "source": [
    "s = 'pwskill'\n",
    "s"
   ]
  },
  {
   "cell_type": "code",
   "execution_count": 17,
   "id": "a749183c-6b77-4ec3-874f-a0e19e72802b",
   "metadata": {},
   "outputs": [
    {
     "data": {
      "text/plain": [
       "'i am student'"
      ]
     },
     "execution_count": 17,
     "metadata": {},
     "output_type": "execute_result"
    }
   ],
   "source": [
    "s = 'i am student'\n",
    "s"
   ]
  },
  {
   "cell_type": "code",
   "execution_count": 18,
   "id": "97ec53ff-b888-4361-81c8-b0544450316a",
   "metadata": {},
   "outputs": [
    {
     "data": {
      "text/plain": [
       "' i am pratap'"
      ]
     },
     "execution_count": 18,
     "metadata": {},
     "output_type": "execute_result"
    }
   ],
   "source": [
    "\"\"\" i am pratap\"\"\""
   ]
  },
  {
   "cell_type": "code",
   "execution_count": 19,
   "id": "e0969980-44bb-466f-ba44-4d62e326e47c",
   "metadata": {},
   "outputs": [
    {
     "data": {
      "text/plain": [
       "'\\ni am pratap\\ni am sahdev\\ni am raja\\n'"
      ]
     },
     "execution_count": 19,
     "metadata": {},
     "output_type": "execute_result"
    }
   ],
   "source": [
    "'''\n",
    "i am pratap\n",
    "i am sahdev\n",
    "i am raja\n",
    "'''"
   ]
  },
  {
   "cell_type": "code",
   "execution_count": 20,
   "id": "7287866d-1038-432c-8618-04efdfbed331",
   "metadata": {},
   "outputs": [
    {
     "data": {
      "text/plain": [
       "'i am pratap\\ni am sahdev\\ni am raja'"
      ]
     },
     "execution_count": 20,
     "metadata": {},
     "output_type": "execute_result"
    }
   ],
   "source": [
    "\"\"\"i am pratap\n",
    "i am sahdev\n",
    "i am raja\"\"\""
   ]
  },
  {
   "cell_type": "code",
   "execution_count": 24,
   "id": "2491f7a7-2c85-49b6-b737-a13420cf8a80",
   "metadata": {},
   "outputs": [
    {
     "name": "stdout",
     "output_type": "stream",
     "text": [
      "pwskills\n"
     ]
    }
   ],
   "source": [
    "# concitation\n",
    "a = \"pw\"\n",
    "b = \"skills\"\n",
    "c = a + b\n",
    "print(c )"
   ]
  },
  {
   "cell_type": "code",
   "execution_count": 25,
   "id": "6c6387cf-7ba6-428e-a0e7-430e9f05b715",
   "metadata": {},
   "outputs": [
    {
     "data": {
      "text/plain": [
       "'pwabvdb fbnvbjd khcjb123    skills'"
      ]
     },
     "execution_count": 25,
     "metadata": {},
     "output_type": "execute_result"
    }
   ],
   "source": [
    "a + \"abvdb fbnvbjd khcjb\"+\"123    \"+b"
   ]
  },
  {
   "cell_type": "code",
   "execution_count": 26,
   "id": "36303703-cef4-414b-95d6-4883622042b9",
   "metadata": {},
   "outputs": [
    {
     "data": {
      "text/plain": [
       "'monjilika is sitting at back'"
      ]
     },
     "execution_count": 26,
     "metadata": {},
     "output_type": "execute_result"
    }
   ],
   "source": [
    "a = \"monjilika is sitting at back\"\n",
    "a"
   ]
  },
  {
   "cell_type": "code",
   "execution_count": 27,
   "id": "08633b65-0824-4918-9821-f0d1336ed9c8",
   "metadata": {},
   "outputs": [
    {
     "data": {
      "text/plain": [
       "'m'"
      ]
     },
     "execution_count": 27,
     "metadata": {},
     "output_type": "execute_result"
    }
   ],
   "source": [
    "a[0]"
   ]
  },
  {
   "cell_type": "code",
   "execution_count": 29,
   "id": "b9ba554e-871d-44af-ba1c-2803fa4a3a6f",
   "metadata": {},
   "outputs": [],
   "source": [
    "data = \"Ajay,     teacher,ds      \"\n",
    "info = data.split(\",\")"
   ]
  },
  {
   "cell_type": "code",
   "execution_count": 30,
   "id": "3243ce98-4e9b-464b-a438-8a39789a7174",
   "metadata": {},
   "outputs": [
    {
     "data": {
      "text/plain": [
       "'Ajay'"
      ]
     },
     "execution_count": 30,
     "metadata": {},
     "output_type": "execute_result"
    }
   ],
   "source": [
    "info[0]"
   ]
  },
  {
   "cell_type": "code",
   "execution_count": 31,
   "id": "dfcfbac2-b4d7-441e-b803-799e92e65457",
   "metadata": {},
   "outputs": [
    {
     "data": {
      "text/plain": [
       "'teacher'"
      ]
     },
     "execution_count": 31,
     "metadata": {},
     "output_type": "execute_result"
    }
   ],
   "source": [
    "info[1].strip()"
   ]
  },
  {
   "cell_type": "code",
   "execution_count": 32,
   "id": "a42a2c5c-3088-4813-ab49-977c8b6ca9eb",
   "metadata": {},
   "outputs": [
    {
     "name": "stdout",
     "output_type": "stream",
     "text": [
      "['Ajay', 'teacher', 'ds']\n"
     ]
    }
   ],
   "source": [
    "data = \"Ajay,     teacher,ds      \"\n",
    "data_list = data.split(',')\n",
    "data_list = [item.strip() for item in data_list]\n",
    "print(data_list)"
   ]
  },
  {
   "cell_type": "code",
   "execution_count": 33,
   "id": "3373aae4-0c25-44eb-94c8-7d81d880320f",
   "metadata": {},
   "outputs": [
    {
     "data": {
      "text/plain": [
       "'ABC colony,pratap nagar jkdjvb, nevada'"
      ]
     },
     "execution_count": 33,
     "metadata": {},
     "output_type": "execute_result"
    }
   ],
   "source": [
    "\"\"\"ABC colony,pratap nagar jkdjvb, nevada\"\"\""
   ]
  },
  {
   "cell_type": "code",
   "execution_count": null,
   "id": "1ed97ecd-b206-4eb6-a5c0-07d2b2d8838c",
   "metadata": {},
   "outputs": [],
   "source": [
    "# escape sequence >> special combination of characters used within a string"
   ]
  },
  {
   "cell_type": "code",
   "execution_count": 36,
   "id": "ddfb3303-fbbf-42eb-af0d-0379babfcd81",
   "metadata": {},
   "outputs": [
    {
     "name": "stdout",
     "output_type": "stream",
     "text": [
      "ABC colony\n",
      ",pratap nagar jkdjvb\n",
      ", nevada\n"
     ]
    }
   ],
   "source": [
    "print(\"\"\"ABC colony\\n,pratap nagar jkdjvb\\n, nevada\"\"\")"
   ]
  },
  {
   "cell_type": "code",
   "execution_count": null,
   "id": "3ad147c5-94db-4dd4-b05c-aa577b2119ee",
   "metadata": {},
   "outputs": [],
   "source": [
    "# \\n >> for new line\n",
    "#\\t for tab"
   ]
  },
  {
   "cell_type": "code",
   "execution_count": 37,
   "id": "53424dd2-8edb-4a2c-9003-b9056652cdd6",
   "metadata": {},
   "outputs": [
    {
     "name": "stdout",
     "output_type": "stream",
     "text": [
      "name\\tcouse\tfee\n",
      "Ajay\tds\t20000\n"
     ]
    }
   ],
   "source": [
    "table = \"name\\\\tcouse\\tfee\\nAjay\\tds\\t20000\"\n",
    "print(table)"
   ]
  },
  {
   "cell_type": "code",
   "execution_count": 38,
   "id": "9ee616b9-9b81-401e-82e6-8d23b031b77c",
   "metadata": {},
   "outputs": [
    {
     "name": "stdout",
     "output_type": "stream",
     "text": [
      "c:\\USERS\\DOWLOADS\\test.text\n"
     ]
    }
   ],
   "source": [
    "file_path = \"c:\\\\USERS\\\\DOWLOADS\\\\test.text\"\n",
    "print(file_path)"
   ]
  },
  {
   "cell_type": "code",
   "execution_count": 43,
   "id": "e35b523a-7a0c-431d-a2aa-043d4f04c789",
   "metadata": {},
   "outputs": [
    {
     "data": {
      "text/plain": [
       "\"I'm a student\""
      ]
     },
     "execution_count": 43,
     "metadata": {},
     "output_type": "execute_result"
    }
   ],
   "source": [
    "'I\\'m a student' # \\ this is a backward sless"
   ]
  },
  {
   "cell_type": "code",
   "execution_count": 44,
   "id": "e74c39a3-979e-4c89-956f-a127b66880ed",
   "metadata": {},
   "outputs": [
    {
     "data": {
      "text/plain": [
       "'Ajay'"
      ]
     },
     "execution_count": 44,
     "metadata": {},
     "output_type": "execute_result"
    }
   ],
   "source": [
    "# string formating\n",
    "\n",
    "name = \"Ajay\"\n",
    "name"
   ]
  },
  {
   "cell_type": "code",
   "execution_count": 45,
   "id": "cb067b56-2738-464a-8278-6cef4a5715c6",
   "metadata": {},
   "outputs": [
    {
     "data": {
      "text/plain": [
       "'ram'"
      ]
     },
     "execution_count": 45,
     "metadata": {},
     "output_type": "execute_result"
    }
   ],
   "source": [
    "name = \"ram\"\n",
    "name"
   ]
  },
  {
   "cell_type": "code",
   "execution_count": 47,
   "id": "bcc6713f-8d2d-48cf-9994-bf40e0be4f6c",
   "metadata": {},
   "outputs": [
    {
     "data": {
      "text/plain": [
       "'My course name is ds and the duration is 4.'"
      ]
     },
     "execution_count": 47,
     "metadata": {},
     "output_type": "execute_result"
    }
   ],
   "source": [
    "# f string >> formating string with a variable placeholder\n",
    "\n",
    "course = \"ds\"\n",
    "duration = \"4\"\n",
    "\n",
    "f\"My course name is {course} and the duration is {duration}.\""
   ]
  },
  {
   "cell_type": "code",
   "execution_count": 49,
   "id": "32ce1645-e331-49fd-a314-d665ac7ddcb6",
   "metadata": {},
   "outputs": [
    {
     "data": {
      "text/plain": [
       "False"
      ]
     },
     "execution_count": 49,
     "metadata": {},
     "output_type": "execute_result"
    }
   ],
   "source": [
    "string1 = \"pwskills\"\n",
    "string1.startswith(\"z\")"
   ]
  },
  {
   "cell_type": "code",
   "execution_count": 50,
   "id": "ed545996-5091-4e4d-bc2b-39eb22b654b1",
   "metadata": {},
   "outputs": [
    {
     "data": {
      "text/plain": [
       "True"
      ]
     },
     "execution_count": 50,
     "metadata": {},
     "output_type": "execute_result"
    }
   ],
   "source": [
    "string1.endswith(\"s\")"
   ]
  },
  {
   "cell_type": "code",
   "execution_count": 51,
   "id": "16d2dd8a-ba29-4816-b532-aded695bddb3",
   "metadata": {},
   "outputs": [
    {
     "data": {
      "text/plain": [
       "True"
      ]
     },
     "execution_count": 51,
     "metadata": {},
     "output_type": "execute_result"
    }
   ],
   "source": [
    "a = \"abc123\"\n",
    "a.isalnum()"
   ]
  },
  {
   "cell_type": "code",
   "execution_count": 52,
   "id": "5bd39ffc-f0e2-49f3-a524-4834fedf9435",
   "metadata": {},
   "outputs": [
    {
     "name": "stdout",
     "output_type": "stream",
     "text": [
      "r a m   i s   a   g o o d   b o y "
     ]
    }
   ],
   "source": [
    "s = \"ram is a good boy\"\n",
    "for i in s:\n",
    "    print(i,end=\" \")"
   ]
  },
  {
   "cell_type": "code",
   "execution_count": 53,
   "id": "4e6c04df-7d77-4325-a08d-15c3c8283926",
   "metadata": {},
   "outputs": [
    {
     "data": {
      "text/plain": [
       "[0, 1, 2, 3, 4]"
      ]
     },
     "execution_count": 53,
     "metadata": {},
     "output_type": "execute_result"
    }
   ],
   "source": [
    "list(range(5))"
   ]
  },
  {
   "cell_type": "code",
   "execution_count": 57,
   "id": "5e8e0949-28ef-49c1-b374-49116752014e",
   "metadata": {},
   "outputs": [
    {
     "name": "stdout",
     "output_type": "stream",
     "text": [
      "R a m   i s   a   g o o d   b o y "
     ]
    }
   ],
   "source": [
    "s = \"Ram is a good boy\"\n",
    "for i in range(len(s)):\n",
    "    print(s[i],end=\" \")\n"
   ]
  },
  {
   "cell_type": "code",
   "execution_count": 58,
   "id": "4e5992be-dd0b-4ebc-84a1-fe0f92930620",
   "metadata": {},
   "outputs": [
    {
     "name": "stdout",
     "output_type": "stream",
     "text": [
      "R||| a||| m|||  ||| i||| s|||  ||| a|||  ||| g||| o||| o||| d|||  ||| b||| o||| y||| "
     ]
    }
   ],
   "source": [
    "s = \"Ram is a good boy\"\n",
    "for i in range(len(s)):\n",
    "    print(s[i],end=\"||| \")\n"
   ]
  },
  {
   "cell_type": "code",
   "execution_count": 59,
   "id": "b84f9c92-f4a2-4f52-b178-acc79a7ec8ba",
   "metadata": {},
   "outputs": [
    {
     "data": {
      "text/plain": [
       "17"
      ]
     },
     "execution_count": 59,
     "metadata": {},
     "output_type": "execute_result"
    }
   ],
   "source": [
    "len(s)"
   ]
  },
  {
   "cell_type": "code",
   "execution_count": 61,
   "id": "97957db4-c7ad-4b40-a77b-8b05e222b196",
   "metadata": {},
   "outputs": [
    {
     "ename": "SyntaxError",
     "evalue": "incomplete input (2747855201.py, line 1)",
     "output_type": "error",
     "traceback": [
      "\u001b[1;36m  Cell \u001b[1;32mIn[61], line 1\u001b[1;36m\u001b[0m\n\u001b[1;33m    for i in range(len(s)):\u001b[0m\n\u001b[1;37m                           ^\u001b[0m\n\u001b[1;31mSyntaxError\u001b[0m\u001b[1;31m:\u001b[0m incomplete input\n"
     ]
    }
   ],
   "source": [
    "for i in range(len(s)):"
   ]
  },
  {
   "cell_type": "code",
   "execution_count": null,
   "id": "3e4ae962-6b55-4c42-932e-a0c38c6d8d7e",
   "metadata": {},
   "outputs": [],
   "source": [
    "# list >> Mom's bag\n",
    "# it can store anything\n",
    "# list >> ordered collection of elements\n",
    "\n",
    "# []"
   ]
  },
  {
   "cell_type": "code",
   "execution_count": 63,
   "id": "fe806375-793d-441a-8253-86ab0b09f599",
   "metadata": {},
   "outputs": [],
   "source": [
    "l = [\"baigan\",\"agarbatti\",2.5,100,2+5j,True,\"monjilika\"]"
   ]
  },
  {
   "cell_type": "code",
   "execution_count": 64,
   "id": "7d5d00e3-dcc3-44d4-9409-b94980a9b878",
   "metadata": {},
   "outputs": [
    {
     "data": {
      "text/plain": [
       "list"
      ]
     },
     "execution_count": 64,
     "metadata": {},
     "output_type": "execute_result"
    }
   ],
   "source": [
    "type(l)"
   ]
  },
  {
   "cell_type": "code",
   "execution_count": 65,
   "id": "ab6d647e-8b94-47fc-bcf1-33a691c71114",
   "metadata": {},
   "outputs": [
    {
     "data": {
      "text/plain": [
       "'baigan'"
      ]
     },
     "execution_count": 65,
     "metadata": {},
     "output_type": "execute_result"
    }
   ],
   "source": [
    "l[0]"
   ]
  },
  {
   "cell_type": "code",
   "execution_count": 66,
   "id": "4dadb1c4-b018-425c-9535-f1606c60ad9b",
   "metadata": {},
   "outputs": [
    {
     "data": {
      "text/plain": [
       "'agarbatti'"
      ]
     },
     "execution_count": 66,
     "metadata": {},
     "output_type": "execute_result"
    }
   ],
   "source": [
    "l[1]"
   ]
  },
  {
   "cell_type": "code",
   "execution_count": 67,
   "id": "bee8380c-20cd-4c08-a4e1-b4ac2ddb14f8",
   "metadata": {},
   "outputs": [
    {
     "data": {
      "text/plain": [
       "'monjilika'"
      ]
     },
     "execution_count": 67,
     "metadata": {},
     "output_type": "execute_result"
    }
   ],
   "source": [
    "l[-1]"
   ]
  },
  {
   "cell_type": "code",
   "execution_count": 68,
   "id": "837bfe55-e377-4add-b250-0b65c4faec88",
   "metadata": {},
   "outputs": [
    {
     "data": {
      "text/plain": [
       "['agarbatti', 2.5, 100, (2+5j), True, 'monjilika']"
      ]
     },
     "execution_count": 68,
     "metadata": {},
     "output_type": "execute_result"
    }
   ],
   "source": [
    "l[1:]"
   ]
  },
  {
   "cell_type": "code",
   "execution_count": 69,
   "id": "755652a2-6a7b-410f-b9c2-812e6b5820b6",
   "metadata": {},
   "outputs": [
    {
     "data": {
      "text/plain": [
       "['agarbatti', 2.5, 100]"
      ]
     },
     "execution_count": 69,
     "metadata": {},
     "output_type": "execute_result"
    }
   ],
   "source": [
    "l[1:4]"
   ]
  },
  {
   "cell_type": "code",
   "execution_count": 70,
   "id": "8c7c2728-eb95-459d-a48d-308ed5ec2054",
   "metadata": {},
   "outputs": [
    {
     "data": {
      "text/plain": [
       "'stri'"
      ]
     },
     "execution_count": 70,
     "metadata": {},
     "output_type": "execute_result"
    }
   ],
   "source": [
    "queue = [\"monjulika\",\"stri\",\"kakuda\"]\n",
    "queue[-2]"
   ]
  },
  {
   "cell_type": "code",
   "execution_count": 71,
   "id": "0d56b664-c3b1-43e5-9342-60c106e77af8",
   "metadata": {},
   "outputs": [],
   "source": [
    "queue.append(\"anabelle\")"
   ]
  },
  {
   "cell_type": "code",
   "execution_count": 72,
   "id": "e06fe475-f153-4c00-884d-965461f514b7",
   "metadata": {},
   "outputs": [
    {
     "data": {
      "text/plain": [
       "['monjulika', 'stri', 'kakuda', 'anabelle']"
      ]
     },
     "execution_count": 72,
     "metadata": {},
     "output_type": "execute_result"
    }
   ],
   "source": [
    "queue"
   ]
  },
  {
   "cell_type": "code",
   "execution_count": 73,
   "id": "1cb44ca8-2465-48d5-8865-9700b28be799",
   "metadata": {},
   "outputs": [],
   "source": [
    "playlist = []\n",
    "playlist.append(\"sare jaha se achha\")\n",
    "playlist.append(\"jeeta th jiske liye\")"
   ]
  },
  {
   "cell_type": "code",
   "execution_count": 74,
   "id": "c02a4a7e-f982-441d-bf8e-9610aac079e2",
   "metadata": {},
   "outputs": [
    {
     "data": {
      "text/plain": [
       "['sare jaha se achha', 'jeeta th jiske liye']"
      ]
     },
     "execution_count": 74,
     "metadata": {},
     "output_type": "execute_result"
    }
   ],
   "source": [
    "playlist"
   ]
  },
  {
   "cell_type": "code",
   "execution_count": 79,
   "id": "744fe67e-4e7c-4d82-8cc4-777bfe712667",
   "metadata": {},
   "outputs": [],
   "source": [
    "playlist[0] = \"muje pine ka sokh nahi\""
   ]
  },
  {
   "cell_type": "code",
   "execution_count": 80,
   "id": "2e917606-62f7-4999-bc59-77c8038c38e6",
   "metadata": {},
   "outputs": [
    {
     "data": {
      "text/plain": [
       "['muje pine ka sokh nahi', 'jeeta th jiske liye']"
      ]
     },
     "execution_count": 80,
     "metadata": {},
     "output_type": "execute_result"
    }
   ],
   "source": [
    "playlist"
   ]
  },
  {
   "cell_type": "code",
   "execution_count": null,
   "id": "b809eee3-3812-4dd4-8c26-f0d9f4698ea3",
   "metadata": {},
   "outputs": [],
   "source": [
    "# list is mutable"
   ]
  },
  {
   "cell_type": "code",
   "execution_count": 81,
   "id": "4b2c06cb-b200-44c5-8106-3b46b1c8f29c",
   "metadata": {},
   "outputs": [
    {
     "data": {
      "text/plain": [
       "\"['muje jeene ka sokh nahi', 'jeeta th jiske liye']\""
      ]
     },
     "execution_count": 81,
     "metadata": {},
     "output_type": "execute_result"
    }
   ],
   "source": [
    "str(playlist).replace(\"pine\",\"jeene\")"
   ]
  },
  {
   "cell_type": "code",
   "execution_count": 82,
   "id": "97668bad-54f8-437f-ae38-4c7cae467d15",
   "metadata": {},
   "outputs": [
    {
     "data": {
      "text/plain": [
       "['muje pine ka sokh nahi', 'jeeta th jiske liye']"
      ]
     },
     "execution_count": 82,
     "metadata": {},
     "output_type": "execute_result"
    }
   ],
   "source": [
    "playlist"
   ]
  },
  {
   "cell_type": "code",
   "execution_count": 86,
   "id": "016aa9f5-8019-47ee-b05e-4d476ae14540",
   "metadata": {},
   "outputs": [],
   "source": [
    "playlist.insert(1,\"tauba tauba\")"
   ]
  },
  {
   "cell_type": "code",
   "execution_count": 87,
   "id": "35693232-4d06-45e3-bf54-0498f6dc5946",
   "metadata": {},
   "outputs": [
    {
     "data": {
      "text/plain": [
       "['muje pine ka sokh nahi', 'tauba tauba', 'tauba tauba', 'jeeta th jiske liye']"
      ]
     },
     "execution_count": 87,
     "metadata": {},
     "output_type": "execute_result"
    }
   ],
   "source": [
    "playlist"
   ]
  },
  {
   "cell_type": "code",
   "execution_count": null,
   "id": "2110d506-7090-4ee3-9492-84f9746f6998",
   "metadata": {},
   "outputs": [],
   "source": [
    "# difference between append and insert\n",
    "# append is at the last and insert is at a specific index"
   ]
  },
  {
   "cell_type": "code",
   "execution_count": 93,
   "id": "da5043ba-1bd7-4f2a-a54f-23ab5e6cedb1",
   "metadata": {},
   "outputs": [
    {
     "data": {
      "text/plain": [
       "['muje pine ka sokh nahi',\n",
       " 'tauba tauba',\n",
       " 'jeeta tha jiske liye',\n",
       " 'bhago mai aa gayi']"
      ]
     },
     "execution_count": 93,
     "metadata": {},
     "output_type": "execute_result"
    }
   ],
   "source": [
    "# Concatination\n",
    "\n",
    "my_list = [\"muje pine ka sokh nahi\",\"tauba tauba\",\"jeeta tha jiske liye\"]\n",
    "monjo_playlist = [\"bhago mai aa gayi\"]\n",
    "my_list + monjo_playlist\n"
   ]
  },
  {
   "cell_type": "code",
   "execution_count": null,
   "id": "1bd20c3b-0618-4da2-9a07-d4c87efa8cd6",
   "metadata": {},
   "outputs": [],
   "source": [
    "# what is defference between "
   ]
  },
  {
   "cell_type": "code",
   "execution_count": 94,
   "id": "af507941-8e74-4095-a5c5-4d050e503017",
   "metadata": {},
   "outputs": [
    {
     "data": {
      "text/plain": [
       "[0,\n",
       " 1,\n",
       " 2,\n",
       " 3,\n",
       " 4,\n",
       " 5,\n",
       " 6,\n",
       " 7,\n",
       " 8,\n",
       " 9,\n",
       " 0,\n",
       " 1,\n",
       " 2,\n",
       " 3,\n",
       " 4,\n",
       " 5,\n",
       " 6,\n",
       " 7,\n",
       " 8,\n",
       " 9,\n",
       " 0,\n",
       " 1,\n",
       " 2,\n",
       " 3,\n",
       " 4,\n",
       " 5,\n",
       " 6,\n",
       " 7,\n",
       " 8,\n",
       " 9,\n",
       " 0,\n",
       " 1,\n",
       " 2,\n",
       " 3,\n",
       " 4,\n",
       " 5,\n",
       " 6,\n",
       " 7,\n",
       " 8,\n",
       " 9,\n",
       " 0,\n",
       " 1,\n",
       " 2,\n",
       " 3,\n",
       " 4,\n",
       " 5,\n",
       " 6,\n",
       " 7,\n",
       " 8,\n",
       " 9,\n",
       " 0,\n",
       " 1,\n",
       " 2,\n",
       " 3,\n",
       " 4,\n",
       " 5,\n",
       " 6,\n",
       " 7,\n",
       " 8,\n",
       " 9,\n",
       " 0,\n",
       " 1,\n",
       " 2,\n",
       " 3,\n",
       " 4,\n",
       " 5,\n",
       " 6,\n",
       " 7,\n",
       " 8,\n",
       " 9,\n",
       " 0,\n",
       " 1,\n",
       " 2,\n",
       " 3,\n",
       " 4,\n",
       " 5,\n",
       " 6,\n",
       " 7,\n",
       " 8,\n",
       " 9,\n",
       " 0,\n",
       " 1,\n",
       " 2,\n",
       " 3,\n",
       " 4,\n",
       " 5,\n",
       " 6,\n",
       " 7,\n",
       " 8,\n",
       " 9,\n",
       " 0,\n",
       " 1,\n",
       " 2,\n",
       " 3,\n",
       " 4,\n",
       " 5,\n",
       " 6,\n",
       " 7,\n",
       " 8,\n",
       " 9]"
      ]
     },
     "execution_count": 94,
     "metadata": {},
     "output_type": "execute_result"
    }
   ],
   "source": [
    "list(range(10))*10"
   ]
  },
  {
   "cell_type": "code",
   "execution_count": 95,
   "id": "133521dc-3e70-49cb-be79-8221b3b0a0e2",
   "metadata": {},
   "outputs": [
    {
     "data": {
      "text/plain": [
       "'you are invited in this eventyou are invited in this eventyou are invited in this eventyou are invited in this eventyou are invited in this eventyou are invited in this eventyou are invited in this eventyou are invited in this eventyou are invited in this eventyou are invited in this event'"
      ]
     },
     "execution_count": 95,
     "metadata": {},
     "output_type": "execute_result"
    }
   ],
   "source": [
    "msg = \"you are invited in this event\"\n",
    "msg*10"
   ]
  },
  {
   "cell_type": "code",
   "execution_count": 99,
   "id": "f6e24d2f-f085-4ab5-8809-ef85a8cdbd43",
   "metadata": {},
   "outputs": [
    {
     "data": {
      "text/plain": [
       "True"
      ]
     },
     "execution_count": 99,
     "metadata": {},
     "output_type": "execute_result"
    }
   ],
   "source": [
    "# membership operator\n",
    "\n",
    "l = [\"baigan\",\"aaloo\",\"monjo\"]\n",
    "\"aaloo\" in l"
   ]
  },
  {
   "cell_type": "code",
   "execution_count": null,
   "id": "deabc796-9e2d-4ef9-9e8b-cb94c38df40c",
   "metadata": {},
   "outputs": [],
   "source": []
  },
  {
   "cell_type": "code",
   "execution_count": null,
   "id": "8a644220-f588-4cdb-bf1c-0e454bd7699c",
   "metadata": {},
   "outputs": [],
   "source": []
  },
  {
   "cell_type": "code",
   "execution_count": null,
   "id": "a2e61660-c596-4617-9065-0c90bd7a0b5e",
   "metadata": {},
   "outputs": [],
   "source": []
  },
  {
   "cell_type": "code",
   "execution_count": null,
   "id": "33f8fc12-35ef-41a8-a4f4-c5725dc0422a",
   "metadata": {},
   "outputs": [],
   "source": []
  },
  {
   "cell_type": "code",
   "execution_count": null,
   "id": "2460ca5e-8b4e-472b-b468-06774e828373",
   "metadata": {},
   "outputs": [],
   "source": []
  },
  {
   "cell_type": "code",
   "execution_count": null,
   "id": "2b5a0a22-2df8-48a6-96bd-68f765bb963f",
   "metadata": {},
   "outputs": [],
   "source": []
  },
  {
   "cell_type": "code",
   "execution_count": null,
   "id": "9b474f8d-db03-4f4c-b53f-b7070773fac0",
   "metadata": {},
   "outputs": [],
   "source": []
  },
  {
   "cell_type": "code",
   "execution_count": null,
   "id": "6a83cbf1-1938-42e9-9691-83b867661930",
   "metadata": {},
   "outputs": [],
   "source": []
  },
  {
   "cell_type": "code",
   "execution_count": null,
   "id": "eeac010c-1cdc-4787-953f-0bee0afc0202",
   "metadata": {},
   "outputs": [],
   "source": []
  },
  {
   "cell_type": "code",
   "execution_count": null,
   "id": "cc212c2a-a3d8-4205-8faf-025a3ae90770",
   "metadata": {},
   "outputs": [],
   "source": []
  },
  {
   "cell_type": "code",
   "execution_count": null,
   "id": "12f83e23-b6eb-4405-9d49-29ccebd43275",
   "metadata": {},
   "outputs": [],
   "source": []
  },
  {
   "cell_type": "code",
   "execution_count": null,
   "id": "ff03455b-b528-4e54-b3cf-eefea04192c0",
   "metadata": {},
   "outputs": [],
   "source": []
  },
  {
   "cell_type": "code",
   "execution_count": null,
   "id": "11f0f4ca-fffb-4ba4-906e-a846f802622c",
   "metadata": {},
   "outputs": [],
   "source": []
  },
  {
   "cell_type": "code",
   "execution_count": null,
   "id": "0d123038-d8fb-4e68-8755-b4aad6e9f403",
   "metadata": {},
   "outputs": [],
   "source": []
  },
  {
   "cell_type": "code",
   "execution_count": null,
   "id": "4a631893-b98a-4421-a3c3-1fa13776eccb",
   "metadata": {},
   "outputs": [],
   "source": []
  },
  {
   "cell_type": "code",
   "execution_count": null,
   "id": "25d0883a-305a-4372-a3fa-cc9398e2f025",
   "metadata": {},
   "outputs": [],
   "source": []
  },
  {
   "cell_type": "code",
   "execution_count": null,
   "id": "be7d6b11-9e18-4c4f-b42a-b43cfcf91815",
   "metadata": {},
   "outputs": [],
   "source": []
  },
  {
   "cell_type": "code",
   "execution_count": null,
   "id": "22c16b0f-d484-4a79-a38d-0fe4b7f94902",
   "metadata": {},
   "outputs": [],
   "source": []
  },
  {
   "cell_type": "code",
   "execution_count": null,
   "id": "9fa70abb-b18a-4ddc-9899-b002c073170b",
   "metadata": {},
   "outputs": [],
   "source": []
  },
  {
   "cell_type": "code",
   "execution_count": null,
   "id": "58526884-e150-495a-bad7-0898964a52fc",
   "metadata": {},
   "outputs": [],
   "source": []
  },
  {
   "cell_type": "code",
   "execution_count": null,
   "id": "5efc756d-c3db-4f8c-9fb2-3dd63c29f83f",
   "metadata": {},
   "outputs": [],
   "source": []
  },
  {
   "cell_type": "code",
   "execution_count": null,
   "id": "4c127a85-4a07-4939-bc3c-2d34c1912530",
   "metadata": {},
   "outputs": [],
   "source": []
  },
  {
   "cell_type": "code",
   "execution_count": null,
   "id": "c3b82542-6490-4f73-bd56-e8e42e9d3d08",
   "metadata": {},
   "outputs": [],
   "source": []
  },
  {
   "cell_type": "code",
   "execution_count": null,
   "id": "46bd315d-9987-4d62-a988-eb0ffcd13899",
   "metadata": {},
   "outputs": [],
   "source": []
  },
  {
   "cell_type": "code",
   "execution_count": null,
   "id": "4c2742c4-17aa-4129-8917-2b64b0884187",
   "metadata": {},
   "outputs": [],
   "source": []
  },
  {
   "cell_type": "code",
   "execution_count": null,
   "id": "bfccfab7-83d6-465f-960d-7d04008eb765",
   "metadata": {},
   "outputs": [],
   "source": []
  },
  {
   "cell_type": "code",
   "execution_count": null,
   "id": "1f903860-82e9-4959-a04e-d6e1f95fe7fb",
   "metadata": {},
   "outputs": [],
   "source": []
  },
  {
   "cell_type": "code",
   "execution_count": null,
   "id": "50d7cc93-6b93-47a0-b91d-1bfd376bd12b",
   "metadata": {},
   "outputs": [],
   "source": []
  },
  {
   "cell_type": "code",
   "execution_count": null,
   "id": "93087d80-db9d-4739-a17e-a991eacfb152",
   "metadata": {},
   "outputs": [],
   "source": []
  },
  {
   "cell_type": "code",
   "execution_count": null,
   "id": "789eef42-aae4-48eb-b83d-f91315fd305e",
   "metadata": {},
   "outputs": [],
   "source": []
  },
  {
   "cell_type": "code",
   "execution_count": null,
   "id": "6a7cd079-e097-45c6-a0c2-8450d89f42a3",
   "metadata": {},
   "outputs": [],
   "source": []
  },
  {
   "cell_type": "code",
   "execution_count": null,
   "id": "30e00faf-ea04-4bac-8f50-860f6510ed34",
   "metadata": {},
   "outputs": [],
   "source": []
  },
  {
   "cell_type": "code",
   "execution_count": null,
   "id": "92a8cc90-f6e3-44ad-a31c-f6b92452731e",
   "metadata": {},
   "outputs": [],
   "source": []
  },
  {
   "cell_type": "code",
   "execution_count": null,
   "id": "55c7ba88-b67e-4a55-8491-ba78f7d6801b",
   "metadata": {},
   "outputs": [],
   "source": []
  },
  {
   "cell_type": "code",
   "execution_count": null,
   "id": "83f6f7ca-6f02-4dc9-869c-0df6ce604a12",
   "metadata": {},
   "outputs": [],
   "source": []
  },
  {
   "cell_type": "code",
   "execution_count": null,
   "id": "e7941249-275e-41af-b550-5494b552f50e",
   "metadata": {},
   "outputs": [],
   "source": []
  },
  {
   "cell_type": "code",
   "execution_count": null,
   "id": "789e8772-c67d-43db-9536-95f731b6cc91",
   "metadata": {},
   "outputs": [],
   "source": []
  },
  {
   "cell_type": "code",
   "execution_count": null,
   "id": "90a39ce8-009d-44a7-b9a9-77dd4edba09e",
   "metadata": {},
   "outputs": [],
   "source": []
  },
  {
   "cell_type": "code",
   "execution_count": null,
   "id": "be940286-0d35-4283-86cc-b24e1a45b0ab",
   "metadata": {},
   "outputs": [],
   "source": []
  },
  {
   "cell_type": "code",
   "execution_count": null,
   "id": "8e60e14f-ef5e-4534-9bc6-2599e5d832a5",
   "metadata": {},
   "outputs": [],
   "source": []
  },
  {
   "cell_type": "code",
   "execution_count": null,
   "id": "5d67a029-2720-4c43-82ef-837c49105990",
   "metadata": {},
   "outputs": [],
   "source": []
  },
  {
   "cell_type": "code",
   "execution_count": null,
   "id": "cc8ed1c1-c917-4cdb-a310-1c38facbddde",
   "metadata": {},
   "outputs": [],
   "source": []
  },
  {
   "cell_type": "code",
   "execution_count": null,
   "id": "ee8c94b9-acff-4224-90f7-9c77cf2b1823",
   "metadata": {},
   "outputs": [],
   "source": []
  },
  {
   "cell_type": "code",
   "execution_count": null,
   "id": "3bdd014f-acf1-44c4-bd91-54c95fafca8b",
   "metadata": {},
   "outputs": [],
   "source": []
  },
  {
   "cell_type": "code",
   "execution_count": null,
   "id": "8b4c85fc-3733-4104-9ebd-c7057532befb",
   "metadata": {},
   "outputs": [],
   "source": []
  },
  {
   "cell_type": "code",
   "execution_count": null,
   "id": "eb70fa59-a6c9-43de-bd32-b29ae5283118",
   "metadata": {},
   "outputs": [],
   "source": []
  },
  {
   "cell_type": "code",
   "execution_count": null,
   "id": "f40de4f7-1b4e-4da9-8e39-08d8d67f3b97",
   "metadata": {},
   "outputs": [],
   "source": []
  },
  {
   "cell_type": "code",
   "execution_count": null,
   "id": "d87721a4-9de2-4888-902a-1fd4f1d0ad36",
   "metadata": {},
   "outputs": [],
   "source": []
  },
  {
   "cell_type": "code",
   "execution_count": null,
   "id": "e66feded-ef07-49dd-b2eb-d7b1b3dbf36d",
   "metadata": {},
   "outputs": [],
   "source": []
  },
  {
   "cell_type": "code",
   "execution_count": null,
   "id": "16c2e593-a9f1-4eb7-9b46-5dbb142b058d",
   "metadata": {},
   "outputs": [],
   "source": []
  },
  {
   "cell_type": "code",
   "execution_count": null,
   "id": "698b6301-0dbf-4d8c-a257-d6def22143e3",
   "metadata": {},
   "outputs": [],
   "source": []
  },
  {
   "cell_type": "code",
   "execution_count": null,
   "id": "1cd1d7a8-a993-4f4b-9e76-5eb00e920df6",
   "metadata": {},
   "outputs": [],
   "source": []
  },
  {
   "cell_type": "code",
   "execution_count": null,
   "id": "5b49161e-31fd-459e-812e-29d247949d78",
   "metadata": {},
   "outputs": [],
   "source": []
  },
  {
   "cell_type": "code",
   "execution_count": null,
   "id": "7ec0e6ba-e71d-4ca8-b560-4e68591479e8",
   "metadata": {},
   "outputs": [],
   "source": []
  },
  {
   "cell_type": "code",
   "execution_count": null,
   "id": "b895dbc7-da8a-44f9-9244-797b9b1158fe",
   "metadata": {},
   "outputs": [],
   "source": []
  },
  {
   "cell_type": "code",
   "execution_count": null,
   "id": "8e4fab7a-06bc-4ed2-97f7-10f31ce34818",
   "metadata": {},
   "outputs": [],
   "source": []
  },
  {
   "cell_type": "code",
   "execution_count": null,
   "id": "41fbc085-d858-4c2f-9f8c-28372b1caeaf",
   "metadata": {},
   "outputs": [],
   "source": []
  },
  {
   "cell_type": "code",
   "execution_count": null,
   "id": "70622d22-ccc7-4183-995b-37ca58be1f67",
   "metadata": {},
   "outputs": [],
   "source": []
  },
  {
   "cell_type": "code",
   "execution_count": null,
   "id": "09e3cfc7-7426-4cb4-a1b9-fa0e362f68b1",
   "metadata": {},
   "outputs": [],
   "source": []
  },
  {
   "cell_type": "code",
   "execution_count": null,
   "id": "0d7bc9f4-1182-4044-ab4e-90ca24323832",
   "metadata": {},
   "outputs": [],
   "source": []
  },
  {
   "cell_type": "code",
   "execution_count": null,
   "id": "0efd28c0-f73d-4a2b-af41-a97cc95d6077",
   "metadata": {},
   "outputs": [],
   "source": []
  },
  {
   "cell_type": "code",
   "execution_count": null,
   "id": "9dd71b85-857d-45bd-bf20-77e447cf07d5",
   "metadata": {},
   "outputs": [],
   "source": []
  },
  {
   "cell_type": "code",
   "execution_count": null,
   "id": "846d7fbe-0b73-4786-9dae-088fea16ca65",
   "metadata": {},
   "outputs": [],
   "source": []
  },
  {
   "cell_type": "code",
   "execution_count": null,
   "id": "d3177872-7b0e-4d28-b5e5-9905a87e2b45",
   "metadata": {},
   "outputs": [],
   "source": []
  },
  {
   "cell_type": "code",
   "execution_count": null,
   "id": "758cb7b6-1422-4e30-bea1-5093c24fbf25",
   "metadata": {},
   "outputs": [],
   "source": []
  },
  {
   "cell_type": "code",
   "execution_count": null,
   "id": "d3d1f552-8526-4daa-a67c-5d446577c1a0",
   "metadata": {},
   "outputs": [],
   "source": []
  },
  {
   "cell_type": "code",
   "execution_count": null,
   "id": "e6bb89a8-cdd6-4670-8203-251883416dc9",
   "metadata": {},
   "outputs": [],
   "source": []
  },
  {
   "cell_type": "code",
   "execution_count": null,
   "id": "57cc1da2-0799-46af-8243-5be34d76b038",
   "metadata": {},
   "outputs": [],
   "source": []
  },
  {
   "cell_type": "code",
   "execution_count": null,
   "id": "f1669002-3c2b-4507-8143-859ec4bea462",
   "metadata": {},
   "outputs": [],
   "source": []
  },
  {
   "cell_type": "code",
   "execution_count": null,
   "id": "97a4de7b-f425-419a-a4e9-03d1f9fc2457",
   "metadata": {},
   "outputs": [],
   "source": []
  },
  {
   "cell_type": "code",
   "execution_count": null,
   "id": "c42020a4-4e9d-43f7-9f3e-c3b114b19b31",
   "metadata": {},
   "outputs": [],
   "source": []
  },
  {
   "cell_type": "code",
   "execution_count": null,
   "id": "17587d04-331a-43e9-88fa-4435e2a72bdd",
   "metadata": {},
   "outputs": [],
   "source": []
  },
  {
   "cell_type": "code",
   "execution_count": null,
   "id": "68bed9fc-5f63-4c89-ac78-8e62bb48d7bf",
   "metadata": {},
   "outputs": [],
   "source": []
  },
  {
   "cell_type": "code",
   "execution_count": null,
   "id": "034b015e-f604-4742-ae6d-81da25476856",
   "metadata": {},
   "outputs": [],
   "source": []
  },
  {
   "cell_type": "code",
   "execution_count": null,
   "id": "a51108a8-4fb0-4bf7-8f96-bc15afb64ed9",
   "metadata": {},
   "outputs": [],
   "source": []
  },
  {
   "cell_type": "code",
   "execution_count": null,
   "id": "46563afc-97c4-482c-9ded-617e4bb35a16",
   "metadata": {},
   "outputs": [],
   "source": []
  },
  {
   "cell_type": "code",
   "execution_count": null,
   "id": "b18d33b6-cf03-4620-9ff1-93c4a269a8f7",
   "metadata": {},
   "outputs": [],
   "source": []
  },
  {
   "cell_type": "code",
   "execution_count": null,
   "id": "8542651d-edfb-4db5-90e3-9b16883d118c",
   "metadata": {},
   "outputs": [],
   "source": []
  },
  {
   "cell_type": "code",
   "execution_count": null,
   "id": "f73a42de-a1a8-4b0b-ac20-5acc0eacf5db",
   "metadata": {},
   "outputs": [],
   "source": []
  },
  {
   "cell_type": "code",
   "execution_count": null,
   "id": "823182ed-0ea8-406b-b50e-d57298f5eef3",
   "metadata": {},
   "outputs": [],
   "source": []
  },
  {
   "cell_type": "code",
   "execution_count": null,
   "id": "1f691f2a-9a0f-4e3f-a7f7-beb1963638ea",
   "metadata": {},
   "outputs": [],
   "source": []
  },
  {
   "cell_type": "code",
   "execution_count": null,
   "id": "8cf24eff-0a71-4217-b39e-1442b7778560",
   "metadata": {},
   "outputs": [],
   "source": []
  },
  {
   "cell_type": "code",
   "execution_count": null,
   "id": "b36894f1-3476-4917-b52b-b8f00a845f3d",
   "metadata": {},
   "outputs": [],
   "source": []
  }
 ],
 "metadata": {
  "kernelspec": {
   "display_name": "Python 3 (ipykernel)",
   "language": "python",
   "name": "python3"
  },
  "language_info": {
   "codemirror_mode": {
    "name": "ipython",
    "version": 3
   },
   "file_extension": ".py",
   "mimetype": "text/x-python",
   "name": "python",
   "nbconvert_exporter": "python",
   "pygments_lexer": "ipython3",
   "version": "3.10.11"
  }
 },
 "nbformat": 4,
 "nbformat_minor": 5
}
