{
 "cells": [
  {
   "cell_type": "code",
   "execution_count": null,
   "id": "3dc86bba-c743-4e98-a7d8-b3981d54f711",
   "metadata": {},
   "outputs": [],
   "source": [
    "# comment\n",
    "# 1 single line comment\n",
    "# 2 multiple line comment [Doc string]"
   ]
  },
  {
   "cell_type": "code",
   "execution_count": 2,
   "id": "de9fb500-b4a5-4fe3-b856-9550c2b8582f",
   "metadata": {},
   "outputs": [
    {
     "name": "stdout",
     "output_type": "stream",
     "text": [
      "hello\n"
     ]
    }
   ],
   "source": [
    "# this line is commented\n",
    "print(\"hello\")"
   ]
  },
  {
   "cell_type": "code",
   "execution_count": null,
   "id": "89f15595-eb7e-40b4-b81a-2ed4b01a4819",
   "metadata": {},
   "outputs": [],
   "source": [
    "# multiple line comment\n",
    "\n",
    "'''\n",
    "This is the first line comment\n",
    "This is the second line comment\n",
    "This is the third line comment\n",
    "'''\n"
   ]
  }
 ],
 "metadata": {
  "kernelspec": {
   "display_name": "Python 3 (ipykernel)",
   "language": "python",
   "name": "python3"
  },
  "language_info": {
   "codemirror_mode": {
    "name": "ipython",
    "version": 3
   },
   "file_extension": ".py",
   "mimetype": "text/x-python",
   "name": "python",
   "nbconvert_exporter": "python",
   "pygments_lexer": "ipython3",
   "version": "3.10.11"
  }
 },
 "nbformat": 4,
 "nbformat_minor": 5
}
