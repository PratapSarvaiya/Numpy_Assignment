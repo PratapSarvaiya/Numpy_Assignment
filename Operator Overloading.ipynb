{
 "cells": [
  {
   "cell_type": "code",
   "execution_count": null,
   "id": "abbb97b0-2016-49e0-b468-7b687aa2b592",
   "metadata": {},
   "outputs": [],
   "source": [
    "# Operator Overloading"
   ]
  },
  {
   "cell_type": "code",
   "execution_count": 1,
   "id": "74075bad-c6f9-4814-bdf3-0a36b7a858d4",
   "metadata": {},
   "outputs": [
    {
     "name": "stdout",
     "output_type": "stream",
     "text": [
      "15\n"
     ]
    }
   ],
   "source": [
    "print(3*5)"
   ]
  },
  {
   "cell_type": "code",
   "execution_count": 2,
   "id": "a6cfb529-9ac5-47db-85f8-e2f2e97c3d62",
   "metadata": {},
   "outputs": [
    {
     "name": "stdout",
     "output_type": "stream",
     "text": [
      "pratappratappratap\n"
     ]
    }
   ],
   "source": [
    "print(\"pratap\"*3)  # Operator Overloading"
   ]
  },
  {
   "cell_type": "code",
   "execution_count": 4,
   "id": "2196169f-e826-42dc-9863-53a313d048c6",
   "metadata": {},
   "outputs": [
    {
     "name": "stdout",
     "output_type": "stream",
     "text": [
      "12\n"
     ]
    }
   ],
   "source": [
    "class Num:\n",
    "    def __init__(self,num):\n",
    "        self.num=num\n",
    "\n",
    "    def __add__(self,U):   # Megic method\n",
    "        return self.num +U.num\n",
    "\n",
    "num1 = Num(5)\n",
    "num2 = Num(7)\n",
    "\n",
    "res = num1 + num2\n",
    "print(res)"
   ]
  },
  {
   "cell_type": "code",
   "execution_count": 6,
   "id": "d766d5bd-1105-4fba-8d10-cb2da5708431",
   "metadata": {},
   "outputs": [
    {
     "name": "stdout",
     "output_type": "stream",
     "text": [
      "(5, 11)\n"
     ]
    }
   ],
   "source": [
    "class ComplexNum:\n",
    "    def __init__(self,x,y):\n",
    "        self.x = x\n",
    "        self.y = y\n",
    "\n",
    "    def __add__(self,C):\n",
    "        return self.x + C.x, self.y + C.y\n",
    "\n",
    "c1 = ComplexNum(2,5)\n",
    "c2 = ComplexNum(3,6)\n",
    "\n",
    "print(c1+c2)"
   ]
  },
  {
   "cell_type": "code",
   "execution_count": 8,
   "id": "be407a01-a1f4-47b6-8b85-a958a0c7641e",
   "metadata": {},
   "outputs": [
    {
     "name": "stdout",
     "output_type": "stream",
     "text": [
      "False\n"
     ]
    }
   ],
   "source": [
    "class DemoComparisonOverload:\n",
    "    def __init__(self,x):\n",
    "        self.x=x\n",
    "\n",
    "    def __gt__(self,o):\n",
    "        if(self.x>o.x):\n",
    "            return True\n",
    "        else:\n",
    "            return False\n",
    "\n",
    "num1 = DemoComparisonOverload(4)\n",
    "num2 = DemoComparisonOverload(7)\n",
    "print(num1 > num2)"
   ]
  },
  {
   "cell_type": "code",
   "execution_count": null,
   "id": "2f291729-9e37-448a-98ff-796050bcef63",
   "metadata": {},
   "outputs": [],
   "source": []
  }
 ],
 "metadata": {
  "kernelspec": {
   "display_name": "Python 3 (ipykernel)",
   "language": "python",
   "name": "python3"
  },
  "language_info": {
   "codemirror_mode": {
    "name": "ipython",
    "version": 3
   },
   "file_extension": ".py",
   "mimetype": "text/x-python",
   "name": "python",
   "nbconvert_exporter": "python",
   "pygments_lexer": "ipython3",
   "version": "3.10.11"
  }
 },
 "nbformat": 4,
 "nbformat_minor": 5
}
