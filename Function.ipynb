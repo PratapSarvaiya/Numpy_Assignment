{
 "cells": [
  {
   "cell_type": "code",
   "execution_count": 1,
   "id": "ee136191-b484-412b-9bf6-39fdb9a9af04",
   "metadata": {},
   "outputs": [],
   "source": [
    "# Function :- [block of code] reaused/recalled\n",
    "\n",
    "def firstFunction():\n",
    "    print(\"Hello Students\")"
   ]
  },
  {
   "cell_type": "code",
   "execution_count": 2,
   "id": "8a49c545-ee64-4317-926d-6468a1f64abb",
   "metadata": {},
   "outputs": [
    {
     "name": "stdout",
     "output_type": "stream",
     "text": [
      "Hello Students\n"
     ]
    }
   ],
   "source": [
    "firstFunction()"
   ]
  },
  {
   "cell_type": "code",
   "execution_count": 5,
   "id": "9acad1d8-2b48-40ae-ae12-cf13edb3788c",
   "metadata": {},
   "outputs": [],
   "source": [
    "def add(a,b):  # <---  parameter (a,b)\n",
    "    sum=a+b\n",
    "    return sum"
   ]
  },
  {
   "cell_type": "code",
   "execution_count": 6,
   "id": "23305fd9-352c-4b02-96c6-71ef6e86a6f8",
   "metadata": {},
   "outputs": [
    {
     "name": "stdout",
     "output_type": "stream",
     "text": [
      "30\n"
     ]
    }
   ],
   "source": [
    "print(add(10,20))   # <---  arguments (10,20)"
   ]
  },
  {
   "cell_type": "code",
   "execution_count": 9,
   "id": "1ca23109-8de8-4a98-ba1c-ff94ebbd9b99",
   "metadata": {},
   "outputs": [
    {
     "name": "stdout",
     "output_type": "stream",
     "text": [
      "109\n",
      "102\n"
     ]
    }
   ],
   "source": [
    "x = 102 # Global variable/scope\n",
    "\n",
    "def func():\n",
    "    x = 109   # local variable/scope\n",
    "    print(x)\n",
    "\n",
    "func()\n",
    "print(x)"
   ]
  },
  {
   "cell_type": "code",
   "execution_count": 10,
   "id": "e6236fe6-d779-4f82-8e64-fb1c42c66897",
   "metadata": {},
   "outputs": [
    {
     "name": "stdout",
     "output_type": "stream",
     "text": [
      "Vishwa Hello\n"
     ]
    }
   ],
   "source": [
    "# Default Argument\n",
    "\n",
    "def greet(name,message):  # simple argument\n",
    "    print(name,message)\n",
    "\n",
    "greet(\"Vishwa\",\"Hello\")"
   ]
  },
  {
   "cell_type": "code",
   "execution_count": 12,
   "id": "6f0e66cb-725b-4f16-a5bd-99316938a7f5",
   "metadata": {},
   "outputs": [
    {
     "name": "stdout",
     "output_type": "stream",
     "text": [
      "Vishwa Good Morning\n"
     ]
    }
   ],
   "source": [
    "def greet(name,message=\"Good Morning\"):  # default argument\n",
    "    print(name,message)\n",
    "\n",
    "greet(\"Vishwa\")"
   ]
  },
  {
   "cell_type": "code",
   "execution_count": 1,
   "id": "69072116-94cb-4862-8fa5-ed9b38272fbf",
   "metadata": {},
   "outputs": [
    {
     "name": "stdout",
     "output_type": "stream",
     "text": [
      "Helllo Vishwa your age is 99\n"
     ]
    }
   ],
   "source": [
    "# Keyword arguments\n",
    "\n",
    "def greet(name,age,message):\n",
    "    print(message,name,\"your age is\",age)\n",
    "\n",
    "greet(name=\"Vishwa\",age=99,message=\"Helllo\")"
   ]
  },
  {
   "cell_type": "code",
   "execution_count": 2,
   "id": "23493a66-25e7-4891-8e70-6b7bcc854225",
   "metadata": {},
   "outputs": [
    {
     "name": "stdout",
     "output_type": "stream",
     "text": [
      "x  5\n",
      "y  6\n",
      "11\n"
     ]
    }
   ],
   "source": [
    "# positional argument\n",
    "\n",
    "def add_numbers(x,y):\n",
    "    print(\"x \",x)\n",
    "    print(\"y \",y)\n",
    "    print(x+y)\n",
    "\n",
    "add_numbers(5,6)"
   ]
  },
  {
   "cell_type": "code",
   "execution_count": 3,
   "id": "101be39c-6aaf-466c-b62b-6ef95c2373bd",
   "metadata": {},
   "outputs": [
    {
     "name": "stdout",
     "output_type": "stream",
     "text": [
      "x  6\n",
      "y  5\n",
      "11\n"
     ]
    }
   ],
   "source": [
    "def add_numbers(x,y):\n",
    "    print(\"x \",x)\n",
    "    print(\"y \",y)\n",
    "    print(x+y)\n",
    "\n",
    "add_numbers(6,5)"
   ]
  },
  {
   "cell_type": "code",
   "execution_count": 7,
   "id": "bda2f04d-6176-4711-949b-f806297af74e",
   "metadata": {},
   "outputs": [],
   "source": [
    "def sum_numbers(*args):\n",
    "    print(type(args))\n",
    "    print(args)\n",
    "\n",
    "    sum = 0\n",
    "    for num in args :\n",
    "      sum +=num\n",
    "    return sum"
   ]
  },
  {
   "cell_type": "code",
   "execution_count": 8,
   "id": "eb33a69c-e443-4734-9595-4cd862a85e3b",
   "metadata": {},
   "outputs": [
    {
     "name": "stdout",
     "output_type": "stream",
     "text": [
      "<class 'tuple'>\n",
      "(1, 2, 3, 4, 5)\n",
      "15\n"
     ]
    }
   ],
   "source": [
    "print(sum_numbers(1,2,3,4,5))"
   ]
  },
  {
   "cell_type": "code",
   "execution_count": 15,
   "id": "106e44af-ad16-4426-ba1f-1d1565cdb197",
   "metadata": {},
   "outputs": [
    {
     "name": "stdout",
     "output_type": "stream",
     "text": [
      "5\n",
      "6\n",
      "(7, 8, 9)\n",
      "7 8 9\n"
     ]
    }
   ],
   "source": [
    "def fn(a,b,*args):\n",
    "   print(a)\n",
    "   print(b)\n",
    "   print(args)\n",
    "   print(*args)\n",
    "\n",
    "fn(5,6,7,8,9)"
   ]
  },
  {
   "cell_type": "code",
   "execution_count": 16,
   "id": "0590006b-5d01-4a55-807b-72d7b5f7e84d",
   "metadata": {},
   "outputs": [
    {
     "ename": "TypeError",
     "evalue": "fn() missing 2 required keyword-only arguments: 'a' and 'b'",
     "output_type": "error",
     "traceback": [
      "\u001b[1;31m---------------------------------------------------------------------------\u001b[0m",
      "\u001b[1;31mTypeError\u001b[0m                                 Traceback (most recent call last)",
      "Cell \u001b[1;32mIn[16], line 7\u001b[0m\n\u001b[0;32m      4\u001b[0m    \u001b[38;5;28mprint\u001b[39m(args)\n\u001b[0;32m      5\u001b[0m    \u001b[38;5;28mprint\u001b[39m(\u001b[38;5;241m*\u001b[39margs)\n\u001b[1;32m----> 7\u001b[0m \u001b[43mfn\u001b[49m\u001b[43m(\u001b[49m\u001b[38;5;241;43m5\u001b[39;49m\u001b[43m,\u001b[49m\u001b[38;5;241;43m6\u001b[39;49m\u001b[43m,\u001b[49m\u001b[38;5;241;43m7\u001b[39;49m\u001b[43m,\u001b[49m\u001b[38;5;241;43m8\u001b[39;49m\u001b[43m,\u001b[49m\u001b[38;5;241;43m9\u001b[39;49m\u001b[43m)\u001b[49m\n",
      "\u001b[1;31mTypeError\u001b[0m: fn() missing 2 required keyword-only arguments: 'a' and 'b'"
     ]
    }
   ],
   "source": [
    "def fn(*args,a,b):\n",
    "   print(a)\n",
    "   print(b)\n",
    "   print(args)\n",
    "   print(*args)\n",
    "\n",
    "fn(5,6,7,8,9)"
   ]
  },
  {
   "cell_type": "code",
   "execution_count": 17,
   "id": "a8e0b57d-aa29-46fc-b0e7-81ef8d4b4838",
   "metadata": {},
   "outputs": [
    {
     "name": "stdout",
     "output_type": "stream",
     "text": [
      "8\n",
      "9\n",
      "(5, 6, 7)\n",
      "5 6 7\n"
     ]
    }
   ],
   "source": [
    "def fn(*args,a,b):\n",
    "   print(a)\n",
    "   print(b)\n",
    "   print(args)\n",
    "   print(*args)\n",
    "\n",
    "fn(5,6,7,a=8,b=9)"
   ]
  },
  {
   "cell_type": "code",
   "execution_count": 29,
   "id": "eb80bebe-edc6-42e8-835b-a5c8ac82272c",
   "metadata": {},
   "outputs": [],
   "source": [
    "def display_info(**kwargs):\n",
    "    print(kwargs)\n",
    "    print(type(kwargs))\n",
    "\n",
    "    for key, value in kwargs.items():\n",
    "        print(key,\" -> \",value)\n",
    "    "
   ]
  },
  {
   "cell_type": "code",
   "execution_count": 30,
   "id": "9b6b8f45-7341-4e3d-bf60-ec2ea98d08c4",
   "metadata": {},
   "outputs": [
    {
     "name": "stdout",
     "output_type": "stream",
     "text": [
      "{'name': 'pratap', 'age': 23, 'city': 'Surat'}\n",
      "<class 'dict'>\n",
      "name  ->  pratap\n",
      "age  ->  23\n",
      "city  ->  Surat\n"
     ]
    }
   ],
   "source": [
    "display_info(name=\"pratap\",age=23,city=\"Surat\")"
   ]
  },
  {
   "cell_type": "code",
   "execution_count": 33,
   "id": "a39bc4a3-87c3-43b1-964c-e5e91e82f59b",
   "metadata": {},
   "outputs": [
    {
     "name": "stdout",
     "output_type": "stream",
     "text": [
      "5\n",
      "6\n",
      "(7, 8, 9)\n",
      "{'name': 'Pratap', 'age': 23}\n"
     ]
    }
   ],
   "source": [
    "def func(a,b,*args,**kwargs):\n",
    "    print(a)\n",
    "    print(b)\n",
    "    print(args)\n",
    "    print(kwargs)\n",
    "\n",
    "func(5,6,7,8,9,name=\"Pratap\",age=23)\n"
   ]
  },
  {
   "cell_type": "code",
   "execution_count": 35,
   "id": "d54cb714-432b-4a39-adce-2219975c3063",
   "metadata": {},
   "outputs": [
    {
     "ename": "SyntaxError",
     "evalue": "invalid syntax (1460737160.py, line 1)",
     "output_type": "error",
     "traceback": [
      "\u001b[1;36m  Cell \u001b[1;32mIn[35], line 1\u001b[1;36m\u001b[0m\n\u001b[1;33m    def func1(**kwargs, a,b):\u001b[0m\n\u001b[1;37m                        ^\u001b[0m\n\u001b[1;31mSyntaxError\u001b[0m\u001b[1;31m:\u001b[0m invalid syntax\n"
     ]
    }
   ],
   "source": [
    "def func1(**kwargs, a,b):\n",
    "    print(kwargs)\n",
    "    print(a)\n",
    "    print(b)\n",
    "\n",
    "func1(name=\"Vishwa\",age=99,7,9)"
   ]
  },
  {
   "cell_type": "code",
   "execution_count": 36,
   "id": "8c9b2a54-ccb3-4de5-a2cf-7262fbd03c12",
   "metadata": {},
   "outputs": [],
   "source": [
    "# Implicit conversion\n",
    "\n",
    "def add_numbers(a:int,b:int)-> int:\n",
    "    return a+b"
   ]
  },
  {
   "cell_type": "code",
   "execution_count": 39,
   "id": "f24d4144-24a9-424e-9c6c-8b8a0e49bc5e",
   "metadata": {},
   "outputs": [
    {
     "name": "stdout",
     "output_type": "stream",
     "text": [
      "13.2\n"
     ]
    }
   ],
   "source": [
    "print(add_numbers(5.5,7.7))"
   ]
  },
  {
   "cell_type": "code",
   "execution_count": 43,
   "id": "e95063c8-6a37-4d41-b5f4-2a1b15a34c1e",
   "metadata": {},
   "outputs": [],
   "source": [
    "def outer():\n",
    "    print(\"Hello from the outer\")\n",
    "    \n",
    "    def inner():\n",
    "        print(\"Hello from the inner\")\n",
    "    return inner\n",
    "    "
   ]
  },
  {
   "cell_type": "code",
   "execution_count": 44,
   "id": "b8114859-7528-4531-96ad-364af2b100f0",
   "metadata": {},
   "outputs": [
    {
     "name": "stdout",
     "output_type": "stream",
     "text": [
      "Hello from the outer\n"
     ]
    }
   ],
   "source": [
    "fn = outer()"
   ]
  },
  {
   "cell_type": "code",
   "execution_count": 45,
   "id": "2e0c1b1e-5ac6-46a8-95e2-8a623a5dfb26",
   "metadata": {},
   "outputs": [
    {
     "name": "stdout",
     "output_type": "stream",
     "text": [
      "Hello from the inner\n"
     ]
    }
   ],
   "source": [
    "fn()"
   ]
  },
  {
   "cell_type": "code",
   "execution_count": 46,
   "id": "d0b28e45-8319-4a99-9a60-b4e5f5d95289",
   "metadata": {},
   "outputs": [
    {
     "name": "stdout",
     "output_type": "stream",
     "text": [
      "Hello from the outer\n",
      "Hello from the inner\n"
     ]
    }
   ],
   "source": [
    "outer()()"
   ]
  },
  {
   "cell_type": "code",
   "execution_count": null,
   "id": "37ea002d-9a62-4f24-9688-0b6b2e943b5d",
   "metadata": {},
   "outputs": [],
   "source": []
  }
 ],
 "metadata": {
  "kernelspec": {
   "display_name": "Python 3 (ipykernel)",
   "language": "python",
   "name": "python3"
  },
  "language_info": {
   "codemirror_mode": {
    "name": "ipython",
    "version": 3
   },
   "file_extension": ".py",
   "mimetype": "text/x-python",
   "name": "python",
   "nbconvert_exporter": "python",
   "pygments_lexer": "ipython3",
   "version": "3.10.11"
  }
 },
 "nbformat": 4,
 "nbformat_minor": 5
}
